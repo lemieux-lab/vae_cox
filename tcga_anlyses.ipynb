{
 "cells": [
  {
   "cell_type": "markdown",
   "metadata": {},
   "source": [
    "# ISMB figures notebook"
   ]
  },
  {
   "cell_type": "code",
   "execution_count": 2,
   "metadata": {},
   "outputs": [
    {
     "name": "stderr",
     "output_type": "stream",
     "text": [
      "\u001b[32m\u001b[1m  Activating\u001b[22m\u001b[39m project at `~/vae_cox`\n"
     ]
    },
    {
     "data": {
      "text/plain": [
       "concordance_index (generic function with 1 method)"
      ]
     },
     "metadata": {},
     "output_type": "display_data"
    }
   ],
   "source": [
    "include(\"engines/init.jl\")\n",
    "include(\"engines/data_processing.jl\")\n",
    "include(\"engines/deep_learning.jl\")\n",
    "include(\"engines/cross_validation.jl\")"
   ]
  },
  {
   "cell_type": "markdown",
   "metadata": {},
   "source": [
    "## Data preparation and processing"
   ]
  },
  {
   "cell_type": "code",
   "execution_count": 9,
   "metadata": {},
   "outputs": [
    {
     "name": "stdout",
     "output_type": "stream",
     "text": [
      "Processing: 19.45525291828794%\n"
     ]
    },
    {
     "name": "stdout",
     "output_type": "stream",
     "text": [
      "Processing: 38.91050583657588%\n"
     ]
    },
    {
     "name": "stdout",
     "output_type": "stream",
     "text": [
      "Processing: 58.36575875486382%\n"
     ]
    },
    {
     "name": "stdout",
     "output_type": "stream",
     "text": [
      "Processing: 77.82101167315176%\n"
     ]
    },
    {
     "name": "stdout",
     "output_type": "stream",
     "text": [
      "Processing: 97.27626459143968%\n"
     ]
    },
    {
     "data": {
      "text/plain": [
       "(Float32[1645.0 1.0 … 0.0 25.0; 1664.0 6.0 … 2.0 94.0; … ; 1994.0 0.0 … 0.0 81.0; 1166.0 2.0 … 4.0 63.0], [\"001ad307-4ad3-4f1d-b2fc-efc032871c7e\", \"0061e9ef-df6a-414e-af64-c88f8192e2d3\", \"0073a136-d5f4-4fd6-88f9-711768f2abc6\", \"00b18ad6-ff70-41fe-8f4d-0763ac8f28b9\", \"010aac75-3bfe-4bf2-b866-af0f2d92f125\", \"0167cf11-74be-4701-ab9a-4e057d4bb545\", \"019c5de9-74fd-48b7-95a3-227532e16c5a\", \"01a13aba-74a4-4895-a5ad-e5119925c202\", \"01c4ca12-ac08-41dd-9e4f-bfb0971688a2\", \"02194c0c-e2c1-4ea7-994a-07b61b2575e2\"  …  \"fc8828ae-484d-4fc8-a168-f8bc58ad65b9\", \"fcd9e1c4-bddb-4856-844c-03df48fba499\", \"fcf14e9d-4671-453d-b8e0-5008e916f56d\", \"fdff46a7-f92a-45cf-8756-6c73a406c923\", \"fe5c5c11-ef39-4907-9a70-67f37bb62fd7\", \"fea46eef-6b7f-44c3-93bf-2dec16bdeb79\", \"febe2ce5-737b-43b8-bc70-4194fe3ed5fb\", \"fee2114e-f723-4374-91f8-f1dcc6b3eaee\", \"ffcec8e5-9fd3-4b42-a7cb-74761f713cf4\", \"fff304a2-113f-499d-a88c-9d3660c348d9\"], Union{Missing, String31}[String31(\"TSPAN6\"), String31(\"TNMD\"), String31(\"DPM1\"), String31(\"SCYL3\"), String31(\"C1orf112\"), String31(\"FGR\"), String31(\"CFH\"), String31(\"FUCA2\"), String31(\"GCLC\"), String31(\"NFYA\")  …  String31(\"AL451106.1\"), String31(\"AC092910.4\"), String31(\"AC073611.1\"), String31(\"AC136977.1\"), String31(\"AC078856.1\"), String31(\"AC008763.4\"), String31(\"AL592295.6\"), String31(\"AC006486.3\"), String31(\"AL391628.1\"), String31(\"AP006621.6\")], Union{Missing, String}[\"protein_coding\", \"protein_coding\", \"protein_coding\", \"protein_coding\", \"protein_coding\", \"protein_coding\", \"protein_coding\", \"protein_coding\", \"protein_coding\", \"protein_coding\"  …  \"protein_coding\", \"lncRNA\", \"lncRNA\", \"lncRNA\", \"lncRNA\", \"protein_coding\", \"lncRNA\", \"protein_coding\", \"protein_coding\", \"protein_coding\"])"
      ]
     },
     "metadata": {},
     "output_type": "display_data"
    }
   ],
   "source": [
    "# LGG (Brain glioma) data processing\n",
    "# create_fetch_data_file(;prefix = \"TCGA_LGG\")\n",
    "# m, samples, genes, biotypes = merge_GDC_data(\"Data/GDC_raw/TCGA_LGG\")"
   ]
  },
  {
   "cell_type": "code",
   "execution_count": 23,
   "metadata": {},
   "outputs": [
    {
     "name": "stdout",
     "output_type": "stream",
     "text": [
      "Processing: 24.0%\n"
     ]
    },
    {
     "name": "stdout",
     "output_type": "stream",
     "text": [
      "Processing: 47.0%\n"
     ]
    },
    {
     "name": "stdout",
     "output_type": "stream",
     "text": [
      "Processing: 71.0%\n"
     ]
    },
    {
     "name": "stdout",
     "output_type": "stream",
     "text": [
      "Processing: 95.0%\n"
     ]
    },
    {
     "data": {
      "text/plain": [
       "(Float32[1954.0 5.0 … 14.0 217.0; 896.0 22.0 … 1.0 32.0; … ; 2851.0 1.0 … 1.0 116.0; 6251.0 3.0 … 5.0 112.0], [\"005a6517-2e5a-4ea3-ab36-531522723607\", \"01ea6354-137b-47f3-9021-a01a382b1147\", \"02594e5e-8751-47c1-9245-90c66984b665\", \"02d9aa2e-b16a-48ea-a420-5daed9fd51a6\", \"0484a929-7a7f-4926-8d25-470ddab082ec\", \"04ecaf38-0232-4dcd-9242-308a22cc1331\", \"05019013-7ea5-4905-ac79-901146ba2ee2\", \"05263959-c4f5-4540-b6d2-d8c8a128861f\", \"05ba5839-e00a-4a9e-8ba3-ecb490781e62\", \"062982f8-9f49-425a-99e9-008af5ed9040\"  …  \"f9c835db-2ab6-4bf5-826f-48723493c0ec\", \"f9f44f86-10c7-4473-b156-5afbfa9a2ad0\", \"fbb45305-de8d-4baf-8bd0-047b29c2e9d9\", \"fd4740db-76a8-4362-be71-7b609479bb67\", \"fdf83fdf-dfbb-4306-9a1b-b4487d18b402\", \"fe0e3851-d8cb-4533-9536-b4826cd25f87\", \"fe402983-70da-44db-b7b1-c32702ddde26\", \"feda41d8-ca56-425d-b149-4d5485328107\", \"fef1696c-a8f4-4db6-8615-e486522baaaa\", \"ff844242-7559-4b07-b09e-69ea40e5ac6b\"], Union{Missing, String31}[String31(\"TSPAN6\"), String31(\"TNMD\"), String31(\"DPM1\"), String31(\"SCYL3\"), String31(\"C1orf112\"), String31(\"FGR\"), String31(\"CFH\"), String31(\"FUCA2\"), String31(\"GCLC\"), String31(\"NFYA\")  …  String31(\"AL451106.1\"), String31(\"AC092910.4\"), String31(\"AC073611.1\"), String31(\"AC136977.1\"), String31(\"AC078856.1\"), String31(\"AC008763.4\"), String31(\"AL592295.6\"), String31(\"AC006486.3\"), String31(\"AL391628.1\"), String31(\"AP006621.6\")], Union{Missing, String}[\"protein_coding\", \"protein_coding\", \"protein_coding\", \"protein_coding\", \"protein_coding\", \"protein_coding\", \"protein_coding\", \"protein_coding\", \"protein_coding\", \"protein_coding\"  …  \"protein_coding\", \"lncRNA\", \"lncRNA\", \"lncRNA\", \"lncRNA\", \"protein_coding\", \"lncRNA\", \"protein_coding\", \"protein_coding\", \"protein_coding\"])"
      ]
     },
     "metadata": {},
     "output_type": "display_data"
    }
   ],
   "source": [
    "# LGG (Brain glioma) data processing\n",
    "# create_fetch_data_file(;prefix = \"TCGA_OV\")\n",
    "m, samples, genes, biotypes = merge_GDC_data(\"Data/GDC_raw/TCGA_OV\")"
   ]
  },
  {
   "cell_type": "code",
   "execution_count": 39,
   "metadata": {},
   "outputs": [],
   "source": [
    "\n",
    "basepath = \"Data/GDC_raw\"\n",
    "FILES = \"$basepath/TCGA_OV_clinical.json\"\n",
    "J = JSON.parsefile(FILES)\n",
    "submitids, case_ids, surves, survts, labels = [], [],[],[], []\n",
    "counter = 0\n",
    "for (i,F) in enumerate(J)\n",
    "    if \"demographic\" in keys(F) \n",
    "\n",
    "    case_id = F[\"case_id\"]\n",
    "    submitter_ID = split(F[\"demographic\"][\"submitter_id\"],\"_\")[1]\n",
    "    surve = F[\"demographic\"][\"vital_status\"] == \"Dead\" ? 1 : 0 # status \n",
    "    if surve == 1 && \"days_to_death\" in keys(F[\"demographic\"])\n",
    "        survt = Int(F[\"demographic\"][\"days_to_death\"]) \n",
    "        push!(submitids, submitter_ID)\n",
    "        push!(case_ids, case_id)\n",
    "        push!(surves, surve)\n",
    "        push!(survts, survt)\n",
    "        morph = F[\"diagnoses\"][1][\"morphology\"]\n",
    "        push!(labels, morph) \n",
    "        #println(\"$i $(case_id) $submitter_ID $surve $survt\")\n",
    "    elseif surve == 0\n",
    "        diagnoses = F[\"diagnoses\"]\n",
    "        if F[\"diagnoses\"][1][\"days_to_last_follow_up\"] != nothing\n",
    "            survt = Int(F[\"diagnoses\"][1][\"days_to_last_follow_up\"])\n",
    "            push!(submitids, submitter_ID)\n",
    "            push!(case_ids, case_id)\n",
    "            push!(surves, surve)\n",
    "            push!(survts, survt)\n",
    "            morph = F[\"diagnoses\"][1][\"morphology\"]\n",
    "            push!(labels, morph) \n",
    "            #println(\"$i $(case_id) $submitter_ID $surve $survt\")\n",
    "        end \n",
    "    end\n",
    "    #ttms = [x[\"treatment_or_therapy\"] == \"yes\" for x in F[\"diagnoses\"][1][\"treatments\"]]\n",
    "    \n",
    "    end \n",
    "    end \n",
    "    \n"
   ]
  },
  {
   "cell_type": "code",
   "execution_count": 46,
   "metadata": {},
   "outputs": [
    {
     "data": {
      "text/html": [
       "<div><div style = \"float: left;\"><span>420×6 DataFrame</span></div><div style = \"float: right;\"><span style = \"font-style: italic;\">395 rows omitted</span></div><div style = \"clear: both;\"></div></div><div class = \"data-frame\" style = \"overflow-x: scroll;\"><table class = \"data-frame\" style = \"margin-bottom: 6px;\"><thead><tr class = \"header\"><th class = \"rowNumber\" style = \"font-weight: bold; text-align: right;\">Row</th><th style = \"text-align: left;\">case_id</th><th style = \"text-align: left;\">II</th><th style = \"text-align: left;\">submitid</th><th style = \"text-align: left;\">survt</th><th style = \"text-align: left;\">surve</th><th style = \"text-align: left;\">morph</th></tr><tr class = \"subheader headerLastRow\"><th class = \"rowNumber\" style = \"font-weight: bold; text-align: right;\"></th><th title = \"String\" style = \"text-align: left;\">String</th><th title = \"Int64\" style = \"text-align: left;\">Int64</th><th title = \"Any\" style = \"text-align: left;\">Any</th><th title = \"Int64\" style = \"text-align: left;\">Int64</th><th title = \"Int64\" style = \"text-align: left;\">Int64</th><th title = \"Any\" style = \"text-align: left;\">Any</th></tr></thead><tbody><tr><td class = \"rowNumber\" style = \"font-weight: bold; text-align: right;\">1</td><td style = \"text-align: left;\">005a6517-2e5a-4ea3-ab36-531522723607</td><td style = \"text-align: right;\">1</td><td style = \"text-align: left;\">TCGA-61-1740</td><td style = \"text-align: right;\">74</td><td style = \"text-align: right;\">1</td><td style = \"text-align: left;\">8441/3</td></tr><tr><td class = \"rowNumber\" style = \"font-weight: bold; text-align: right;\">2</td><td style = \"text-align: left;\">01ea6354-137b-47f3-9021-a01a382b1147</td><td style = \"text-align: right;\">2</td><td style = \"text-align: left;\">TCGA-29-1766</td><td style = \"text-align: right;\">1199</td><td style = \"text-align: right;\">1</td><td style = \"text-align: left;\">8441/3</td></tr><tr><td class = \"rowNumber\" style = \"font-weight: bold; text-align: right;\">3</td><td style = \"text-align: left;\">02594e5e-8751-47c1-9245-90c66984b665</td><td style = \"text-align: right;\">3</td><td style = \"text-align: left;\">TCGA-09-2051</td><td style = \"text-align: right;\">1919</td><td style = \"text-align: right;\">0</td><td style = \"text-align: left;\">8441/3</td></tr><tr><td class = \"rowNumber\" style = \"font-weight: bold; text-align: right;\">4</td><td style = \"text-align: left;\">02d9aa2e-b16a-48ea-a420-5daed9fd51a6</td><td style = \"text-align: right;\">4</td><td style = \"text-align: left;\">TCGA-24-1427</td><td style = \"text-align: right;\">147</td><td style = \"text-align: right;\">0</td><td style = \"text-align: left;\">8441/3</td></tr><tr><td class = \"rowNumber\" style = \"font-weight: bold; text-align: right;\">5</td><td style = \"text-align: left;\">0484a929-7a7f-4926-8d25-470ddab082ec</td><td style = \"text-align: right;\">5</td><td style = \"text-align: left;\">TCGA-04-1365</td><td style = \"text-align: right;\">947</td><td style = \"text-align: right;\">0</td><td style = \"text-align: left;\">8441/3</td></tr><tr><td class = \"rowNumber\" style = \"font-weight: bold; text-align: right;\">6</td><td style = \"text-align: left;\">04ecaf38-0232-4dcd-9242-308a22cc1331</td><td style = \"text-align: right;\">6</td><td style = \"text-align: left;\">TCGA-61-1733</td><td style = \"text-align: right;\">967</td><td style = \"text-align: right;\">0</td><td style = \"text-align: left;\">8441/3</td></tr><tr><td class = \"rowNumber\" style = \"font-weight: bold; text-align: right;\">7</td><td style = \"text-align: left;\">05019013-7ea5-4905-ac79-901146ba2ee2</td><td style = \"text-align: right;\">7</td><td style = \"text-align: left;\">TCGA-29-1688</td><td style = \"text-align: right;\">2400</td><td style = \"text-align: right;\">1</td><td style = \"text-align: left;\">8441/3</td></tr><tr><td class = \"rowNumber\" style = \"font-weight: bold; text-align: right;\">8</td><td style = \"text-align: left;\">05263959-c4f5-4540-b6d2-d8c8a128861f</td><td style = \"text-align: right;\">8</td><td style = \"text-align: left;\">TCGA-61-2104</td><td style = \"text-align: right;\">2338</td><td style = \"text-align: right;\">0</td><td style = \"text-align: left;\">8441/3</td></tr><tr><td class = \"rowNumber\" style = \"font-weight: bold; text-align: right;\">9</td><td style = \"text-align: left;\">05ba5839-e00a-4a9e-8ba3-ecb490781e62</td><td style = \"text-align: right;\">9</td><td style = \"text-align: left;\">TCGA-24-1422</td><td style = \"text-align: right;\">23</td><td style = \"text-align: right;\">1</td><td style = \"text-align: left;\">8441/3</td></tr><tr><td class = \"rowNumber\" style = \"font-weight: bold; text-align: right;\">10</td><td style = \"text-align: left;\">062982f8-9f49-425a-99e9-008af5ed9040</td><td style = \"text-align: right;\">10</td><td style = \"text-align: left;\">TCGA-24-2035</td><td style = \"text-align: right;\">857</td><td style = \"text-align: right;\">1</td><td style = \"text-align: left;\">8441/3</td></tr><tr><td class = \"rowNumber\" style = \"font-weight: bold; text-align: right;\">11</td><td style = \"text-align: left;\">0724f800-e873-45d0-bc56-809d0ec4f6e9</td><td style = \"text-align: right;\">11</td><td style = \"text-align: left;\">TCGA-30-1861</td><td style = \"text-align: right;\">1058</td><td style = \"text-align: right;\">1</td><td style = \"text-align: left;\">8441/3</td></tr><tr><td class = \"rowNumber\" style = \"font-weight: bold; text-align: right;\">12</td><td style = \"text-align: left;\">0740321b-f8a5-4e1d-b390-ca6187598fac</td><td style = \"text-align: right;\">12</td><td style = \"text-align: left;\">TCGA-13-0891</td><td style = \"text-align: right;\">3128</td><td style = \"text-align: right;\">1</td><td style = \"text-align: left;\">8441/3</td></tr><tr><td class = \"rowNumber\" style = \"font-weight: bold; text-align: right;\">13</td><td style = \"text-align: left;\">077079c3-6877-467b-b9cc-5c650aae4f07</td><td style = \"text-align: right;\">13</td><td style = \"text-align: left;\">TCGA-25-1877</td><td style = \"text-align: right;\">730</td><td style = \"text-align: right;\">1</td><td style = \"text-align: left;\">8441/3</td></tr><tr><td style = \"text-align: right;\">&vellip;</td><td style = \"text-align: right;\">&vellip;</td><td style = \"text-align: right;\">&vellip;</td><td style = \"text-align: right;\">&vellip;</td><td style = \"text-align: right;\">&vellip;</td><td style = \"text-align: right;\">&vellip;</td><td style = \"text-align: right;\">&vellip;</td></tr><tr><td class = \"rowNumber\" style = \"font-weight: bold; text-align: right;\">409</td><td style = \"text-align: left;\">f8a5547f-f1bc-4c01-8b68-25b5ee0caeab</td><td style = \"text-align: right;\">410</td><td style = \"text-align: left;\">TCGA-04-1655</td><td style = \"text-align: right;\">1380</td><td style = \"text-align: right;\">1</td><td style = \"text-align: left;\">8441/3</td></tr><tr><td class = \"rowNumber\" style = \"font-weight: bold; text-align: right;\">410</td><td style = \"text-align: left;\">f8e9d538-7291-4fe7-b3f2-d01676a027f9</td><td style = \"text-align: right;\">411</td><td style = \"text-align: left;\">TCGA-09-1661</td><td style = \"text-align: right;\">1169</td><td style = \"text-align: right;\">1</td><td style = \"text-align: left;\">8441/3</td></tr><tr><td class = \"rowNumber\" style = \"font-weight: bold; text-align: right;\">411</td><td style = \"text-align: left;\">f9793a4b-c0e7-4475-bf80-69543b7ee2f6</td><td style = \"text-align: right;\">412</td><td style = \"text-align: left;\">TCGA-24-1416</td><td style = \"text-align: right;\">194</td><td style = \"text-align: right;\">0</td><td style = \"text-align: left;\">8441/3</td></tr><tr><td class = \"rowNumber\" style = \"font-weight: bold; text-align: right;\">412</td><td style = \"text-align: left;\">f9c835db-2ab6-4bf5-826f-48723493c0ec</td><td style = \"text-align: right;\">413</td><td style = \"text-align: left;\">TCGA-29-1705</td><td style = \"text-align: right;\">555</td><td style = \"text-align: right;\">1</td><td style = \"text-align: left;\">8441/3</td></tr><tr><td class = \"rowNumber\" style = \"font-weight: bold; text-align: right;\">413</td><td style = \"text-align: left;\">f9f44f86-10c7-4473-b156-5afbfa9a2ad0</td><td style = \"text-align: right;\">414</td><td style = \"text-align: left;\">TCGA-24-1104</td><td style = \"text-align: right;\">1933</td><td style = \"text-align: right;\">1</td><td style = \"text-align: left;\">8441/3</td></tr><tr><td class = \"rowNumber\" style = \"font-weight: bold; text-align: right;\">414</td><td style = \"text-align: left;\">fbb45305-de8d-4baf-8bd0-047b29c2e9d9</td><td style = \"text-align: right;\">415</td><td style = \"text-align: left;\">TCGA-13-0924</td><td style = \"text-align: right;\">2614</td><td style = \"text-align: right;\">0</td><td style = \"text-align: left;\">8441/3</td></tr><tr><td class = \"rowNumber\" style = \"font-weight: bold; text-align: right;\">415</td><td style = \"text-align: left;\">fd4740db-76a8-4362-be71-7b609479bb67</td><td style = \"text-align: right;\">416</td><td style = \"text-align: left;\">TCGA-25-2398</td><td style = \"text-align: right;\">1369</td><td style = \"text-align: right;\">1</td><td style = \"text-align: left;\">8441/3</td></tr><tr><td class = \"rowNumber\" style = \"font-weight: bold; text-align: right;\">416</td><td style = \"text-align: left;\">fdf83fdf-dfbb-4306-9a1b-b4487d18b402</td><td style = \"text-align: right;\">417</td><td style = \"text-align: left;\">TCGA-23-1120</td><td style = \"text-align: right;\">130</td><td style = \"text-align: right;\">0</td><td style = \"text-align: left;\">8441/3</td></tr><tr><td class = \"rowNumber\" style = \"font-weight: bold; text-align: right;\">417</td><td style = \"text-align: left;\">fe0e3851-d8cb-4533-9536-b4826cd25f87</td><td style = \"text-align: right;\">418</td><td style = \"text-align: left;\">TCGA-29-1699</td><td style = \"text-align: right;\">1106</td><td style = \"text-align: right;\">1</td><td style = \"text-align: left;\">8441/3</td></tr><tr><td class = \"rowNumber\" style = \"font-weight: bold; text-align: right;\">418</td><td style = \"text-align: left;\">fe402983-70da-44db-b7b1-c32702ddde26</td><td style = \"text-align: right;\">419</td><td style = \"text-align: left;\">TCGA-13-1509</td><td style = \"text-align: right;\">2438</td><td style = \"text-align: right;\">0</td><td style = \"text-align: left;\">8441/3</td></tr><tr><td class = \"rowNumber\" style = \"font-weight: bold; text-align: right;\">419</td><td style = \"text-align: left;\">fef1696c-a8f4-4db6-8615-e486522baaaa</td><td style = \"text-align: right;\">421</td><td style = \"text-align: left;\">TCGA-24-0966</td><td style = \"text-align: right;\">232</td><td style = \"text-align: right;\">0</td><td style = \"text-align: left;\">8441/3</td></tr><tr><td class = \"rowNumber\" style = \"font-weight: bold; text-align: right;\">420</td><td style = \"text-align: left;\">ff844242-7559-4b07-b09e-69ea40e5ac6b</td><td style = \"text-align: right;\">422</td><td style = \"text-align: left;\">TCGA-25-1871</td><td style = \"text-align: right;\">760</td><td style = \"text-align: right;\">1</td><td style = \"text-align: left;\">8441/3</td></tr></tbody></table></div>"
      ],
      "text/latex": [
       "\\begin{tabular}{r|cccccc}\n",
       "\t& case\\_id & II & submitid & survt & surve & morph\\\\\n",
       "\t\\hline\n",
       "\t& String & Int64 & Any & Int64 & Int64 & Any\\\\\n",
       "\t\\hline\n",
       "\t1 & 005a6517-2e5a-4ea3-ab36-531522723607 & 1 & TCGA-61-1740 & 74 & 1 & 8441/3 \\\\\n",
       "\t2 & 01ea6354-137b-47f3-9021-a01a382b1147 & 2 & TCGA-29-1766 & 1199 & 1 & 8441/3 \\\\\n",
       "\t3 & 02594e5e-8751-47c1-9245-90c66984b665 & 3 & TCGA-09-2051 & 1919 & 0 & 8441/3 \\\\\n",
       "\t4 & 02d9aa2e-b16a-48ea-a420-5daed9fd51a6 & 4 & TCGA-24-1427 & 147 & 0 & 8441/3 \\\\\n",
       "\t5 & 0484a929-7a7f-4926-8d25-470ddab082ec & 5 & TCGA-04-1365 & 947 & 0 & 8441/3 \\\\\n",
       "\t6 & 04ecaf38-0232-4dcd-9242-308a22cc1331 & 6 & TCGA-61-1733 & 967 & 0 & 8441/3 \\\\\n",
       "\t7 & 05019013-7ea5-4905-ac79-901146ba2ee2 & 7 & TCGA-29-1688 & 2400 & 1 & 8441/3 \\\\\n",
       "\t8 & 05263959-c4f5-4540-b6d2-d8c8a128861f & 8 & TCGA-61-2104 & 2338 & 0 & 8441/3 \\\\\n",
       "\t9 & 05ba5839-e00a-4a9e-8ba3-ecb490781e62 & 9 & TCGA-24-1422 & 23 & 1 & 8441/3 \\\\\n",
       "\t10 & 062982f8-9f49-425a-99e9-008af5ed9040 & 10 & TCGA-24-2035 & 857 & 1 & 8441/3 \\\\\n",
       "\t11 & 0724f800-e873-45d0-bc56-809d0ec4f6e9 & 11 & TCGA-30-1861 & 1058 & 1 & 8441/3 \\\\\n",
       "\t12 & 0740321b-f8a5-4e1d-b390-ca6187598fac & 12 & TCGA-13-0891 & 3128 & 1 & 8441/3 \\\\\n",
       "\t13 & 077079c3-6877-467b-b9cc-5c650aae4f07 & 13 & TCGA-25-1877 & 730 & 1 & 8441/3 \\\\\n",
       "\t14 & 07a859fc-6f78-4905-9035-90e2403dbe8d & 14 & TCGA-25-1326 & 1249 & 1 & 8441/3 \\\\\n",
       "\t15 & 07fbdb3c-8337-4319-8255-f2363f8a031e & 15 & TCGA-61-1728 & 848 & 0 & 8441/3 \\\\\n",
       "\t16 & 08c64000-d320-4e4d-974b-da503d48890c & 16 & TCGA-24-1553 & 1767 & 1 & 8441/3 \\\\\n",
       "\t17 & 09820a33-80b1-42d0-8366-a0ddaf94b122 & 17 & TCGA-30-1714 & 1158 & 1 & 8441/3 \\\\\n",
       "\t18 & 09c77947-a333-4392-b18d-a6c1f08764a1 & 18 & TCGA-24-1842 & 253 & 0 & 8441/3 \\\\\n",
       "\t19 & 0a2d29de-869a-4dc8-ad11-6ee0d0a3a895 & 19 & TCGA-61-1736 & 1484 & 1 & 8441/3 \\\\\n",
       "\t20 & 0a48873a-092a-4b25-822b-b0b3c18c08a8 & 20 & TCGA-24-2024 & 1769 & 1 & 8441/3 \\\\\n",
       "\t21 & 0aa020cb-69d2-4235-a609-c279a133d8bb & 21 & TCGA-61-1737 & 1364 & 0 & 8441/3 \\\\\n",
       "\t22 & 0b2ea4b7-98bb-4190-b682-2c75b447c90a & 22 & TCGA-25-1314 & 1004 & 1 & 8441/3 \\\\\n",
       "\t23 & 0ba7b6cc-e5f5-47d7-859a-24e31aa336ab & 23 & TCGA-13-0908 & 1843 & 1 & 8441/3 \\\\\n",
       "\t24 & 0c1a2e7d-e7e4-481e-a012-ef214c444497 & 24 & TCGA-04-1542 & 2561 & 1 & 8441/3 \\\\\n",
       "\t$\\dots$ & $\\dots$ & $\\dots$ & $\\dots$ & $\\dots$ & $\\dots$ & $\\dots$ \\\\\n",
       "\\end{tabular}\n"
      ],
      "text/plain": [
       "\u001b[1m420×6 DataFrame\u001b[0m\n",
       "\u001b[1m Row \u001b[0m│\u001b[1m case_id                           \u001b[0m\u001b[1m II    \u001b[0m\u001b[1m submitid     \u001b[0m\u001b[1m survt \u001b[0m\u001b[1m surve \u001b[0m\u001b[1m m\u001b[0m ⋯\n",
       "     │\u001b[90m String                            \u001b[0m\u001b[90m Int64 \u001b[0m\u001b[90m Any          \u001b[0m\u001b[90m Int64 \u001b[0m\u001b[90m Int64 \u001b[0m\u001b[90m A\u001b[0m ⋯\n",
       "─────┼──────────────────────────────────────────────────────────────────────────\n",
       "   1 │ 005a6517-2e5a-4ea3-ab36-53152272…      1  TCGA-61-1740     74      1  8 ⋯\n",
       "   2 │ 01ea6354-137b-47f3-9021-a01a382b…      2  TCGA-29-1766   1199      1  8\n",
       "   3 │ 02594e5e-8751-47c1-9245-90c66984…      3  TCGA-09-2051   1919      0  8\n",
       "   4 │ 02d9aa2e-b16a-48ea-a420-5daed9fd…      4  TCGA-24-1427    147      0  8\n",
       "   5 │ 0484a929-7a7f-4926-8d25-470ddab0…      5  TCGA-04-1365    947      0  8 ⋯\n",
       "   6 │ 04ecaf38-0232-4dcd-9242-308a22cc…      6  TCGA-61-1733    967      0  8\n",
       "   7 │ 05019013-7ea5-4905-ac79-901146ba…      7  TCGA-29-1688   2400      1  8\n",
       "   8 │ 05263959-c4f5-4540-b6d2-d8c8a128…      8  TCGA-61-2104   2338      0  8\n",
       "  ⋮  │                 ⋮                    ⋮         ⋮          ⋮      ⋮      ⋱\n",
       " 414 │ fbb45305-de8d-4baf-8bd0-047b29c2…    415  TCGA-13-0924   2614      0  8 ⋯\n",
       " 415 │ fd4740db-76a8-4362-be71-7b609479…    416  TCGA-25-2398   1369      1  8\n",
       " 416 │ fdf83fdf-dfbb-4306-9a1b-b4487d18…    417  TCGA-23-1120    130      0  8\n",
       " 417 │ fe0e3851-d8cb-4533-9536-b4826cd2…    418  TCGA-29-1699   1106      1  8\n",
       " 418 │ fe402983-70da-44db-b7b1-c32702dd…    419  TCGA-13-1509   2438      0  8 ⋯\n",
       " 419 │ fef1696c-a8f4-4db6-8615-e486522b…    421  TCGA-24-0966    232      0  8\n",
       " 420 │ ff844242-7559-4b07-b09e-69ea40e5…    422  TCGA-25-1871    760      1  8\n",
       "\u001b[36m                                                   1 column and 405 rows omitted\u001b[0m"
      ]
     },
     "metadata": {},
     "output_type": "display_data"
    }
   ],
   "source": [
    "CLIN_df = DataFrame(:case_id=>case_ids, :submitid=>submitids,:survt=>Array{Int}(survts),:surve=>Array{Int}(surves), :morph=>labels)\n",
    "tmp = DataFrame(:case_id=>samples, :II=>collect(1:length(samples)))\n",
    "samples_df = sort(innerjoin(tmp, CLIN_df, on = :case_id), :II)"
   ]
  },
  {
   "cell_type": "code",
   "execution_count": null,
   "metadata": {},
   "outputs": [],
   "source": []
  },
  {
   "cell_type": "code",
   "execution_count": 47,
   "metadata": {},
   "outputs": [],
   "source": [
    "CLIN_df = DataFrame(:case_id=>case_ids, :submitid=>submitids,:survt=>Array{Int}(survts),:surve=>Array{Int}(surves), :morph=>labels)\n",
    "samples_df = sort(innerjoin(DataFrame(:case_id=>samples, :II=>collect(1:length(samples))), CLIN_df, on = :case_id), :II)\n",
    "outfilename = \"Data/TCGA_OV_tpm_n$(size(samples_df)[1])_btypes_labels_surv.h5\"\n",
    "outfile = h5open(outfilename, \"w\")\n",
    "outfile[\"data\"] = log10.(m[samples_df.II,:] .+ 1) \n",
    "outfile[\"samples\"] = Array{String}(samples[samples_df.II]) \n",
    "outfile[\"labels\"] = Array{String}(samples_df.morph) \n",
    "outfile[\"genes\"] = Array{String}(genes) \n",
    "outfile[\"biotypes\"] = Array{String}(biotypes)\n",
    "outfile[\"survt\"] = samples_df.survt\n",
    "outfile[\"surve\"] = samples_df.surve\n",
    "close(outfile)"
   ]
  },
  {
   "cell_type": "code",
   "execution_count": 41,
   "metadata": {},
   "outputs": [],
   "source": []
  },
  {
   "cell_type": "code",
   "execution_count": 42,
   "metadata": {},
   "outputs": [
    {
     "data": {
      "text/plain": [
       "MLSurvDataset(Float32[3.21643 0.30103 … 0.0 1.4149734; 3.2214143 0.845098 … 0.47712126 1.9777236; … ; 3.299943 0.0 … 0.0 1.9138138; 3.067071 0.47712126 … 0.69897 1.80618], [\"001ad307-4ad3-4f1d-b2fc-efc032871c7e\", \"0061e9ef-df6a-414e-af64-c88f8192e2d3\", \"0073a136-d5f4-4fd6-88f9-711768f2abc6\", \"00b18ad6-ff70-41fe-8f4d-0763ac8f28b9\", \"010aac75-3bfe-4bf2-b866-af0f2d92f125\", \"0167cf11-74be-4701-ab9a-4e057d4bb545\", \"019c5de9-74fd-48b7-95a3-227532e16c5a\", \"01a13aba-74a4-4895-a5ad-e5119925c202\", \"01c4ca12-ac08-41dd-9e4f-bfb0971688a2\", \"02194c0c-e2c1-4ea7-994a-07b61b2575e2\"  …  \"fc8828ae-484d-4fc8-a168-f8bc58ad65b9\", \"fcd9e1c4-bddb-4856-844c-03df48fba499\", \"fcf14e9d-4671-453d-b8e0-5008e916f56d\", \"fdff46a7-f92a-45cf-8756-6c73a406c923\", \"fe5c5c11-ef39-4907-9a70-67f37bb62fd7\", \"fea46eef-6b7f-44c3-93bf-2dec16bdeb79\", \"febe2ce5-737b-43b8-bc70-4194fe3ed5fb\", \"fee2114e-f723-4374-91f8-f1dcc6b3eaee\", \"ffcec8e5-9fd3-4b42-a7cb-74761f713cf4\", \"fff304a2-113f-499d-a88c-9d3660c348d9\"], [\"TSPAN6\", \"TNMD\", \"DPM1\", \"SCYL3\", \"C1orf112\", \"FGR\", \"CFH\", \"FUCA2\", \"GCLC\", \"NFYA\"  …  \"AL451106.1\", \"AC092910.4\", \"AC073611.1\", \"AC136977.1\", \"AC078856.1\", \"AC008763.4\", \"AL592295.6\", \"AC006486.3\", \"AL391628.1\", \"AP006621.6\"], [\"protein_coding\", \"protein_coding\", \"protein_coding\", \"protein_coding\", \"protein_coding\", \"protein_coding\", \"protein_coding\", \"protein_coding\", \"protein_coding\", \"protein_coding\"  …  \"protein_coding\", \"lncRNA\", \"lncRNA\", \"lncRNA\", \"lncRNA\", \"protein_coding\", \"lncRNA\", \"protein_coding\", \"protein_coding\", \"protein_coding\"], [\"9382/3\", \"9451/3\", \"9401/3\", \"9451/3\", \"9450/3\", \"9401/3\", \"9400/3\", \"9401/3\", \"9450/3\", \"9382/3\"  …  \"9451/3\", \"9401/3\", \"9400/3\", \"9401/3\", \"9382/3\", \"9401/3\", \"9382/3\", \"9451/3\", \"9400/3\", \"9450/3\"], [82, 4084, 609, 494, 2772, 1033, 3725, 608, 4695, 956  …  431, 6423, 772, 74, 414, 15, 721, 1220, 526, 933], [0, 1, 0, 0, 0, 1, 0, 0, 1, 0  …  0, 0, 0, 0, 0, 0, 0, 1, 0, 0])"
      ]
     },
     "metadata": {},
     "output_type": "display_data"
    }
   ],
   "source": [
    "LGG = MLSurvDataset(\"Data/TCGA_LGG_tpm_n513_btypes_labels_surv.h5\")"
   ]
  },
  {
   "cell_type": "code",
   "execution_count": 2,
   "metadata": {},
   "outputs": [
    {
     "data": {
      "text/plain": [
       "MLDataset(Float32[0.0 0.0 … 0.30103 1.0791812; 0.60206 0.0 … 0.30103 1.230449; … ; 0.0 0.0 … 0.0 1.30103; 2.075547 0.0 … 0.30103 1.20412], [\"00c0941a-ac70-5bb3-9777-c66e02d56138\", \"01c36e9b-3b96-5dec-9730-52bb9ad7341c\", \"0307b7ec-0d8c-533e-bb0c-eb08a0a59cc7\", \"031abec9-1e5e-5650-8a1c-1f6a12c1a1b5\", \"03938dc3-ab81-51d1-9d59-98f9814d5de4\", \"04a06139-beea-5f5d-b32b-a6dfdbade4a9\", \"05cce21f-d974-598d-bba9-4d3a25dcd2a5\", \"090655f5-48ad-5f3a-89dd-a359e585659b\", \"0c549fb9-b3ab-5626-b7ef-70c820fb47bf\", \"140084b3-ae90-5297-87d0-7c0c911b3dc2\"  …  \"fa88f9d8-cdd1-59ab-8103-86ca056bbd8a\", \"fad82c17-6f3b-555f-9f3c-dd7a2a9a387a\", \"fc5ef4cd-03b6-5b41-98e9-b56167c588dc\", \"fd1ea81a-7989-58fe-9320-6b38211f8af0\", \"fd454943-0694-5e02-ab26-2da80182dcc6\", \"fe7516dc-0eea-517d-857f-ea806724cfd8\", \"ffe4cc20-4868-576a-9076-89002bb31949\", \"fff24b87-640b-57f7-a477-79604d87c373\", \"fff5223f-86c5-5966-a055-bbd8234bf6fe\", \"fff8f3f7-b6f9-5d3c-9f84-3f03c734a235\"], [\"TSPAN6\", \"TNMD\", \"DPM1\", \"SCYL3\", \"C1orf112\", \"FGR\", \"CFH\", \"FUCA2\", \"GCLC\", \"NFYA\"  …  \"AL451106.1\", \"AC092910.4\", \"AC073611.1\", \"AC136977.1\", \"AC078856.1\", \"AC008763.4\", \"AL592295.6\", \"AC006486.3\", \"AL391628.1\", \"AP006621.6\"], [\"protein_coding\", \"protein_coding\", \"protein_coding\", \"protein_coding\", \"protein_coding\", \"protein_coding\", \"protein_coding\", \"protein_coding\", \"protein_coding\", \"protein_coding\"  …  \"protein_coding\", \"lncRNA\", \"lncRNA\", \"lncRNA\", \"lncRNA\", \"protein_coding\", \"lncRNA\", \"protein_coding\", \"protein_coding\", \"protein_coding\"], [\"T-other\", \"TAL2\", \"HOXA\", \"TLX1\", \"TAL1\", \"TAL1\", \"TLX3\", \"TLX1\", \"TAL1\", \"LMO1/2\"  …  \"TAL1\", \"HOXA\", \"T-other\", \"HOXA\", \"TLX1\", \"TAL1\", \"TAL1\", \"TAL2\", \"T-other\", \"TAL1\"])"
      ]
     },
     "metadata": {},
     "output_type": "display_data"
    }
   ],
   "source": [
    "#process_tall( \"Data/TARGET_ALL_tpm_n264_btypes_labels.h5\")\n",
    "TALL = MLDataset( \"Data/TARGET_ALL_tpm_n264_btypes_labels.h5\")"
   ]
  },
  {
   "cell_type": "code",
   "execution_count": 14,
   "metadata": {},
   "outputs": [
    {
     "data": {
      "text/plain": [
       "MLDataset(Float32[2.628389 0.60206 … 0.47712126 1.30103; 3.3195224 2.4843 … 0.90309 1.3617278; … ; 3.2151086 1.0413927 … 0.0 1.0791812; 3.328991 1.0 … 0.60206 1.5563025], [\"001cef41-ff86-4d3f-a140-a647ac4b10a1\", \"0045349c-69d9-4306-a403-c9c1fa836644\", \"00807dae-9f4a-4fd1-aac2-82eb11bf2afb\", \"00a2d166-78c9-4687-a195-3d6315c27574\", \"00b11ca8-8540-4a3d-b602-ec754b00230b\", \"011b9b2d-ebe5-42bf-9662-d922faccc7a1\", \"01263518-5f7c-49dc-8d7e-84b0c03a6a63\", \"0130d616-885e-4a6c-9d03-2f17dd692a05\", \"01674b2c-5cf2-478f-84a1-f69c39f47bd4\", \"016caf42-4e19-4444-ab5d-6cf1e76c4afa\"  …  \"fb57c598-b45b-478a-9d34-ca1f050d5b7c\", \"fbee40f1-d6d8-4156-8d42-36e09bb9f095\", \"fc18d029-9be2-4fa0-9aef-6d647dc55f0b\", \"fcef8cb5-fb2c-4bfb-82cd-6b9f3145182c\", \"fd0b1b8b-1a76-480a-b61c-d176e4e02c6b\", \"fe15c48b-116d-461e-9b40-68514730fd18\", \"fe2cd610-aa52-4789-ac62-7683281bb22f\", \"fe7f74b8-20f4-4471-91dc-4cca8c68e5c0\", \"fec0da58-1047-44d2-b6d1-c18cceed43dc\", \"ff0f875f-113a-4c0f-8c0a-4259cd496e6d\"], [\"TSPAN6\", \"TNMD\", \"DPM1\", \"SCYL3\", \"C1orf112\", \"FGR\", \"CFH\", \"FUCA2\", \"GCLC\", \"NFYA\"  …  \"AL451106.1\", \"AC092910.4\", \"AC073611.1\", \"AC136977.1\", \"AC078856.1\", \"AC008763.4\", \"AL592295.6\", \"AC006486.3\", \"AL391628.1\", \"AP006621.6\"], [\"protein_coding\", \"protein_coding\", \"protein_coding\", \"protein_coding\", \"protein_coding\", \"protein_coding\", \"protein_coding\", \"protein_coding\", \"protein_coding\", \"protein_coding\"  …  \"protein_coding\", \"lncRNA\", \"lncRNA\", \"lncRNA\", \"lncRNA\", \"protein_coding\", \"lncRNA\", \"protein_coding\", \"protein_coding\", \"protein_coding\"], [\"LumA\", \"Basal\", \"Her2\", \"Her2\", \"Normal\", \"LumA\", \"LumB\", \"LumA\", \"Basal\", \"Basal\"  …  \"LumA\", \"LumB\", \"Basal\", \"Normal\", \"Her2\", \"Normal\", \"LumA\", \"Basal\", \"LumA\", \"Her2\"])"
      ]
     },
     "metadata": {},
     "output_type": "display_data"
    }
   ],
   "source": [
    "# process_brca(\"Data/TCGA_BRCA_tpm_n1050_btypes_labels.h5\")\n",
    "BRCA = MLDataset(\"Data/TCGA_BRCA_tpm_n1050_btypes_labels.h5\")"
   ]
  },
  {
   "cell_type": "code",
   "execution_count": 20,
   "metadata": {},
   "outputs": [],
   "source": [
    "BRCA_CF = CSV.read(\"Data/GDC_processed/TCGA_BRCA_clinical_survival.csv\", DataFrame);\n"
   ]
  },
  {
   "cell_type": "code",
   "execution_count": 67,
   "metadata": {},
   "outputs": [
    {
     "data": {
      "text/html": [
       "<div class=\"data-frame\"><p>1,093 rows × 4 columns</p><table class=\"data-frame\"><thead><tr><th></th><th>case_id</th><th>submitid</th><th>survt</th><th>surve</th></tr><tr><th></th><th title=\"Any\">Any</th><th title=\"Any\">Any</th><th title=\"Int64\">Int64</th><th title=\"Int64\">Int64</th></tr></thead><tbody><tr><th>1</th><td>a8b1f6e7-2bcf-460d-b1c6-1792a9801119</td><td>TCGA-E9-A1NF</td><td>1072</td><td>1</td></tr><tr><th>2</th><td>17f275c1-a0d4-487d-8f02-ea279584b4cd</td><td>TCGA-D8-A13Y</td><td>1728</td><td>0</td></tr><tr><th>3</th><td>6f6e7356-3521-4674-8eec-ad01340d4b8e</td><td>TCGA-D8-A27G</td><td>409</td><td>0</td></tr><tr><th>4</th><td>8a0ef221-8070-43fc-9d98-def90abe4871</td><td>TCGA-E2-A1B1</td><td>2653</td><td>0</td></tr><tr><th>5</th><td>195b6731-6ae6-416e-a345-0eb8874a0ca2</td><td>TCGA-AN-A0XO</td><td>375</td><td>0</td></tr><tr><th>6</th><td>e8f3cc64-5e15-4f4d-b73e-5c9b250a664c</td><td>TCGA-AR-A255</td><td>2161</td><td>0</td></tr><tr><th>7</th><td>197741de-a098-4f04-bb37-8ea8b3bb39bc</td><td>TCGA-B6-A0WS</td><td>2965</td><td>1</td></tr><tr><th>8</th><td>67c8dc41-edcb-4563-96b3-3f93f9edcbe9</td><td>TCGA-GM-A5PV</td><td>412</td><td>0</td></tr><tr><th>9</th><td>1a679332-30a3-4495-a2e5-39d299e14333</td><td>TCGA-S3-A6ZG</td><td>562</td><td>0</td></tr><tr><th>10</th><td>f72c1d69-da35-459f-8542-59bfd6c09c23</td><td>TCGA-AR-A1AX</td><td>2629</td><td>0</td></tr><tr><th>11</th><td>e9002f4e-ba0b-4738-9368-dd9614a5da8a</td><td>TCGA-OL-A66N</td><td>792</td><td>0</td></tr><tr><th>12</th><td>4b54e06e-a280-4981-a4e1-9aea154341b4</td><td>TCGA-UL-AAZ6</td><td>518</td><td>0</td></tr><tr><th>13</th><td>5c8983f2-9788-4dfa-971c-3ec457b6166e</td><td>TCGA-A2-A0CL</td><td>3015</td><td>0</td></tr><tr><th>14</th><td>e9a12df9-024e-4cbc-b6bf-e4e87485fa90</td><td>TCGA-LL-A5YM</td><td>394</td><td>0</td></tr><tr><th>15</th><td>a06ff6ae-b0dd-4516-a75c-0db71694b46b</td><td>TCGA-LD-A7W5</td><td>216</td><td>0</td></tr><tr><th>16</th><td>a1093598-d3a8-4ffe-83fc-bc7d1faff7e5</td><td>TCGA-BH-A1EU</td><td>1286</td><td>1</td></tr><tr><th>17</th><td>ee554215-bea2-4268-aaf9-784e68cdb969</td><td>TCGA-BH-A1F8</td><td>1</td><td>1</td></tr><tr><th>18</th><td>68177e92-4784-45d9-af14-4ce0c00eae74</td><td>TCGA-A8-A08J</td><td>1127</td><td>1</td></tr><tr><th>19</th><td>eafa45a4-2fd1-4fa3-860c-9d52ed382b7d</td><td>TCGA-E2-A15O</td><td>289</td><td>0</td></tr><tr><th>20</th><td>8159ff7b-89f4-411a-9b9c-491f1cb3eb34</td><td>TCGA-AC-A2BM</td><td>3022</td><td>0</td></tr><tr><th>21</th><td>659b0170-e914-45ff-aa55-fcb8d3dc7b8a</td><td>TCGA-E9-A1NG</td><td>786</td><td>1</td></tr><tr><th>22</th><td>02bf5203-f9cd-4c5a-97b4-e5584dc22325</td><td>TCGA-AO-A0J8</td><td>680</td><td>0</td></tr><tr><th>23</th><td>546248b0-22a0-4b70-a437-76fb0a238a0d</td><td>TCGA-AN-A0FJ</td><td>242</td><td>0</td></tr><tr><th>24</th><td>ab34a9a2-d72d-4106-94fb-118844b1b60b</td><td>TCGA-A2-A0CQ</td><td>2695</td><td>0</td></tr><tr><th>&vellip;</th><td>&vellip;</td><td>&vellip;</td><td>&vellip;</td><td>&vellip;</td></tr></tbody></table></div>"
      ],
      "text/latex": [
       "\\begin{tabular}{r|cccc}\n",
       "\t& case\\_id & submitid & survt & surve\\\\\n",
       "\t\\hline\n",
       "\t& Any & Any & Int64 & Int64\\\\\n",
       "\t\\hline\n",
       "\t1 & a8b1f6e7-2bcf-460d-b1c6-1792a9801119 & TCGA-E9-A1NF & 1072 & 1 \\\\\n",
       "\t2 & 17f275c1-a0d4-487d-8f02-ea279584b4cd & TCGA-D8-A13Y & 1728 & 0 \\\\\n",
       "\t3 & 6f6e7356-3521-4674-8eec-ad01340d4b8e & TCGA-D8-A27G & 409 & 0 \\\\\n",
       "\t4 & 8a0ef221-8070-43fc-9d98-def90abe4871 & TCGA-E2-A1B1 & 2653 & 0 \\\\\n",
       "\t5 & 195b6731-6ae6-416e-a345-0eb8874a0ca2 & TCGA-AN-A0XO & 375 & 0 \\\\\n",
       "\t6 & e8f3cc64-5e15-4f4d-b73e-5c9b250a664c & TCGA-AR-A255 & 2161 & 0 \\\\\n",
       "\t7 & 197741de-a098-4f04-bb37-8ea8b3bb39bc & TCGA-B6-A0WS & 2965 & 1 \\\\\n",
       "\t8 & 67c8dc41-edcb-4563-96b3-3f93f9edcbe9 & TCGA-GM-A5PV & 412 & 0 \\\\\n",
       "\t9 & 1a679332-30a3-4495-a2e5-39d299e14333 & TCGA-S3-A6ZG & 562 & 0 \\\\\n",
       "\t10 & f72c1d69-da35-459f-8542-59bfd6c09c23 & TCGA-AR-A1AX & 2629 & 0 \\\\\n",
       "\t11 & e9002f4e-ba0b-4738-9368-dd9614a5da8a & TCGA-OL-A66N & 792 & 0 \\\\\n",
       "\t12 & 4b54e06e-a280-4981-a4e1-9aea154341b4 & TCGA-UL-AAZ6 & 518 & 0 \\\\\n",
       "\t13 & 5c8983f2-9788-4dfa-971c-3ec457b6166e & TCGA-A2-A0CL & 3015 & 0 \\\\\n",
       "\t14 & e9a12df9-024e-4cbc-b6bf-e4e87485fa90 & TCGA-LL-A5YM & 394 & 0 \\\\\n",
       "\t15 & a06ff6ae-b0dd-4516-a75c-0db71694b46b & TCGA-LD-A7W5 & 216 & 0 \\\\\n",
       "\t16 & a1093598-d3a8-4ffe-83fc-bc7d1faff7e5 & TCGA-BH-A1EU & 1286 & 1 \\\\\n",
       "\t17 & ee554215-bea2-4268-aaf9-784e68cdb969 & TCGA-BH-A1F8 & 1 & 1 \\\\\n",
       "\t18 & 68177e92-4784-45d9-af14-4ce0c00eae74 & TCGA-A8-A08J & 1127 & 1 \\\\\n",
       "\t19 & eafa45a4-2fd1-4fa3-860c-9d52ed382b7d & TCGA-E2-A15O & 289 & 0 \\\\\n",
       "\t20 & 8159ff7b-89f4-411a-9b9c-491f1cb3eb34 & TCGA-AC-A2BM & 3022 & 0 \\\\\n",
       "\t21 & 659b0170-e914-45ff-aa55-fcb8d3dc7b8a & TCGA-E9-A1NG & 786 & 1 \\\\\n",
       "\t22 & 02bf5203-f9cd-4c5a-97b4-e5584dc22325 & TCGA-AO-A0J8 & 680 & 0 \\\\\n",
       "\t23 & 546248b0-22a0-4b70-a437-76fb0a238a0d & TCGA-AN-A0FJ & 242 & 0 \\\\\n",
       "\t24 & ab34a9a2-d72d-4106-94fb-118844b1b60b & TCGA-A2-A0CQ & 2695 & 0 \\\\\n",
       "\t$\\dots$ & $\\dots$ & $\\dots$ & $\\dots$ & $\\dots$ \\\\\n",
       "\\end{tabular}\n"
      ],
      "text/plain": [
       "\u001b[1m1093×4 DataFrame\u001b[0m\n",
       "\u001b[1m  Row \u001b[0m│\u001b[1m case_id                           \u001b[0m\u001b[1m submitid     \u001b[0m\u001b[1m survt \u001b[0m\u001b[1m surve \u001b[0m\n",
       "\u001b[1m      \u001b[0m│\u001b[90m Any                               \u001b[0m\u001b[90m Any          \u001b[0m\u001b[90m Int64 \u001b[0m\u001b[90m Int64 \u001b[0m\n",
       "──────┼───────────────────────────────────────────────────────────────\n",
       "    1 │ a8b1f6e7-2bcf-460d-b1c6-1792a980…  TCGA-E9-A1NF   1072      1\n",
       "    2 │ 17f275c1-a0d4-487d-8f02-ea279584…  TCGA-D8-A13Y   1728      0\n",
       "    3 │ 6f6e7356-3521-4674-8eec-ad01340d…  TCGA-D8-A27G    409      0\n",
       "    4 │ 8a0ef221-8070-43fc-9d98-def90abe…  TCGA-E2-A1B1   2653      0\n",
       "    5 │ 195b6731-6ae6-416e-a345-0eb8874a…  TCGA-AN-A0XO    375      0\n",
       "    6 │ e8f3cc64-5e15-4f4d-b73e-5c9b250a…  TCGA-AR-A255   2161      0\n",
       "    7 │ 197741de-a098-4f04-bb37-8ea8b3bb…  TCGA-B6-A0WS   2965      1\n",
       "    8 │ 67c8dc41-edcb-4563-96b3-3f93f9ed…  TCGA-GM-A5PV    412      0\n",
       "  ⋮   │                 ⋮                       ⋮          ⋮      ⋮\n",
       " 1087 │ a9b7d7fe-be31-4f71-afee-c1bfdf51…  TCGA-AO-A0J4   1587      0\n",
       " 1088 │ aa4244a8-0454-4247-a1c3-357fd517…  TCGA-D8-A1JL    611      0\n",
       " 1089 │ aaea5f9c-b35b-47f8-93cb-bdc7b818…  TCGA-A2-A25A   3276      0\n",
       " 1090 │ ab89bb2e-da84-4116-a8cd-49aad7bb…  TCGA-AR-A0TP   4275      0\n",
       " 1091 │ aba5f46a-e67a-4cd2-9c52-c0686968…  TCGA-EW-A6SA    510      0\n",
       " 1092 │ f45aa0b2-f3de-4db5-9730-e5c6c4e2…  TCGA-EW-A2FV    788      0\n",
       " 1093 │ f4b69043-4a67-48e3-a4d1-72a21ae2…  TCGA-A8-A090      0      0\n",
       "\u001b[36m                                                     1078 rows omitted\u001b[0m"
      ]
     },
     "metadata": {},
     "output_type": "display_data"
    }
   ],
   "source": [
    "basepath = \"Data/GDC_raw\"\n",
    "FILES = \"$basepath/TCGA_BRCA_clinical.json\"\n",
    "J = JSON.parsefile(FILES)\n",
    "submitids, case_ids, surves, survts = [], [],[],[]\n",
    "for (i,F) in enumerate(J)\n",
    "    if \"demographic\" in keys(F) \n",
    "    case_id = F[\"case_id\"]\n",
    "    submitter_ID = split(F[\"demographic\"][\"submitter_id\"],\"_\")[1]\n",
    "    surve = F[\"demographic\"][\"vital_status\"] == \"Dead\" ? 1 : 0 # status \n",
    "    if surve == 1 && \"days_to_death\" in keys(F[\"demographic\"])\n",
    "        survt = Int(F[\"demographic\"][\"days_to_death\"]) \n",
    "        push!(submitids, submitter_ID)\n",
    "        push!(case_ids, case_id)\n",
    "        push!(surves, surve)\n",
    "        push!(survts, survt)\n",
    "        #println(\"$i $(case_id) $submitter_ID $surve $survt\")\n",
    "    elseif surve == 0\n",
    "        survt = Int(F[\"diagnoses\"][1][\"days_to_last_follow_up\"])\n",
    "        push!(submitids, submitter_ID)\n",
    "        push!(case_ids, case_id)\n",
    "        push!(surves, surve)\n",
    "        push!(survts, survt)\n",
    "        #println(\"$i $(case_id) $submitter_ID $surve $survt\")\n",
    "    end \n",
    "    end \n",
    "end \n",
    "BRCA_CF = DataFrame(:case_id=>case_ids, :submitid=>submitids,:survt=>Array{Int}(survts),:surve=>Array{Int}(surves))"
   ]
  },
  {
   "cell_type": "code",
   "execution_count": 76,
   "metadata": {},
   "outputs": [],
   "source": [
    "BRCA_DF = DataFrame(:case_id=>BRCA.samples, :id=>collect(1:size(BRCA.samples)[1]))\n",
    "BRCA_FULL_DF = sort(innerjoin(BRCA_DF, BRCA_CF, on=\"case_id\"), :id)\n",
    "outfilename = \"Data/TCGA_BRCA_tpm_n1049_btypes_labels_surv.h5\"\n",
    "outfile = h5open(outfilename, \"w\")\n",
    "outfile[\"samples\"] = BRCA.samples[BRCA_FULL_DF.id]\n",
    "outfile[\"data\"] = BRCA.data[BRCA_FULL_DF.id,:]\n",
    "outfile[\"labels\"] = BRCA.labels[BRCA_FULL_DF.id]\n",
    "outfile[\"genes\"] = BRCA.genes\n",
    "outfile[\"biotypes\"] = BRCA.biotypes\n",
    "outfile[\"survt\"] = BRCA_FULL_DF.survt\n",
    "outfile[\"surve\"] = BRCA_FULL_DF.surve\n",
    "close(outfile)"
   ]
  },
  {
   "cell_type": "code",
   "execution_count": 2,
   "metadata": {},
   "outputs": [
    {
     "data": {
      "text/plain": [
       "MLSurvDataset(Float32[2.628389 0.60206 … 0.47712126 1.30103; 3.3195224 2.4843 … 0.90309 1.3617278; … ; 3.2151086 1.0413927 … 0.0 1.0791812; 3.328991 1.0 … 0.60206 1.5563025], [\"001cef41-ff86-4d3f-a140-a647ac4b10a1\", \"0045349c-69d9-4306-a403-c9c1fa836644\", \"00807dae-9f4a-4fd1-aac2-82eb11bf2afb\", \"00a2d166-78c9-4687-a195-3d6315c27574\", \"00b11ca8-8540-4a3d-b602-ec754b00230b\", \"011b9b2d-ebe5-42bf-9662-d922faccc7a1\", \"01263518-5f7c-49dc-8d7e-84b0c03a6a63\", \"0130d616-885e-4a6c-9d03-2f17dd692a05\", \"01674b2c-5cf2-478f-84a1-f69c39f47bd4\", \"016caf42-4e19-4444-ab5d-6cf1e76c4afa\"  …  \"fb57c598-b45b-478a-9d34-ca1f050d5b7c\", \"fbee40f1-d6d8-4156-8d42-36e09bb9f095\", \"fc18d029-9be2-4fa0-9aef-6d647dc55f0b\", \"fcef8cb5-fb2c-4bfb-82cd-6b9f3145182c\", \"fd0b1b8b-1a76-480a-b61c-d176e4e02c6b\", \"fe15c48b-116d-461e-9b40-68514730fd18\", \"fe2cd610-aa52-4789-ac62-7683281bb22f\", \"fe7f74b8-20f4-4471-91dc-4cca8c68e5c0\", \"fec0da58-1047-44d2-b6d1-c18cceed43dc\", \"ff0f875f-113a-4c0f-8c0a-4259cd496e6d\"], [\"TSPAN6\", \"TNMD\", \"DPM1\", \"SCYL3\", \"C1orf112\", \"FGR\", \"CFH\", \"FUCA2\", \"GCLC\", \"NFYA\"  …  \"AL451106.1\", \"AC092910.4\", \"AC073611.1\", \"AC136977.1\", \"AC078856.1\", \"AC008763.4\", \"AL592295.6\", \"AC006486.3\", \"AL391628.1\", \"AP006621.6\"], [\"protein_coding\", \"protein_coding\", \"protein_coding\", \"protein_coding\", \"protein_coding\", \"protein_coding\", \"protein_coding\", \"protein_coding\", \"protein_coding\", \"protein_coding\"  …  \"protein_coding\", \"lncRNA\", \"lncRNA\", \"lncRNA\", \"lncRNA\", \"protein_coding\", \"lncRNA\", \"protein_coding\", \"protein_coding\", \"protein_coding\"], [\"LumA\", \"Basal\", \"Her2\", \"Her2\", \"Normal\", \"LumA\", \"LumB\", \"LumA\", \"Basal\", \"Basal\"  …  \"LumA\", \"LumB\", \"Basal\", \"Normal\", \"Her2\", \"Normal\", \"LumA\", \"Basal\", \"LumA\", \"Her2\"], [337, 259, 3102, 5, 759, 954, 304, 503, 915, 3248  …  78, 572, 584, 414, 2164, 2813, 5, 1532, 375, 381], [0, 0, 0, 0, 0, 0, 0, 0, 0, 0  …  0, 0, 0, 0, 0, 0, 0, 0, 0, 0])"
      ]
     },
     "metadata": {},
     "output_type": "display_data"
    }
   ],
   "source": [
    "BRCA_surv = MLSurvDataset(\"Data/TCGA_BRCA_tpm_n1049_btypes_labels_surv.h5\")"
   ]
  },
  {
   "cell_type": "code",
   "execution_count": 4,
   "metadata": {},
   "outputs": [
    {
     "data": {
      "text/plain": [
       "MLDataset(Float32[3.4814427 0.0 … 0.30103 0.90309; 3.130012 0.47712126 … 0.0 1.462398; … ; 0.7781513 0.0 … 0.9542425 1.50515; 3.2084413 0.30103 … 0.69897 1.5314789], [\"0004d251-3f70-4395-b175-c94c2f5b1b81\", \"000d566c-96c7-4f1c-b36e-fa2222467983\", \"0011a67b-1ba9-4a32-a6b8-7850759a38cf\", \"001887aa-36d0-463f-8bca-dec7043b4f2e\", \"001944e5-af34-4061-9c09-bb9ea346f6fd\", \"001ad307-4ad3-4f1d-b2fc-efc032871c7e\", \"001cef41-ff86-4d3f-a140-a647ac4b10a1\", \"001e0309-9c50-42b0-9e38-347883ee2cd3\", \"0020317d-d10e-4e75-8fa6-7c1bdcdee471\", \"0022478c-4dfd-4cbe-a05e-fb20310844e3\"  …  \"ffc915b8-cacd-4974-a040-ee496f0efc0e\", \"ffcec8e5-9fd3-4b42-a7cb-74761f713cf4\", \"ffcf851d-7fa1-4b45-911a-a3fbd74c253a\", \"ffcfa005-a04f-458e-9d1d-86143dd823e5\", \"ffd8d31f-bc4b-4e19-bbaf-0e26e9f3a107\", \"ffed886e-261e-464c-aa27-8204dd0eb9a1\", \"ffedc8be-1056-4205-b9d9-99b5bdb872db\", \"fff304a2-113f-499d-a88c-9d3660c348d9\", \"fff35c80-88cd-4923-80c1-0273ba5bed0f\", \"fffdb1d9-58d1-425c-ac12-1e1e5f443bf7\"], [\"TSPAN6\", \"TNMD\", \"DPM1\", \"SCYL3\", \"C1orf112\", \"FGR\", \"CFH\", \"FUCA2\", \"GCLC\", \"NFYA\"  …  \"AL451106.1\", \"AC092910.4\", \"AC073611.1\", \"AC136977.1\", \"AC078856.1\", \"AC008763.4\", \"AL592295.6\", \"AC006486.3\", \"AL391628.1\", \"AP006621.6\"], [\"protein_coding\", \"protein_coding\", \"protein_coding\", \"protein_coding\", \"protein_coding\", \"protein_coding\", \"protein_coding\", \"protein_coding\", \"protein_coding\", \"protein_coding\"  …  \"protein_coding\", \"lncRNA\", \"lncRNA\", \"lncRNA\", \"lncRNA\", \"protein_coding\", \"lncRNA\", \"protein_coding\", \"protein_coding\", \"protein_coding\"], [\"TCGA-LIHC\", \"TCGA-PRAD\", \"TCGA-READ\", \"TCGA-LIHC\", \"TCGA-BLCA\", \"TCGA-LGG\", \"TCGA-BRCA\", \"TCGA-UCEC\", \"TCGA-SARC\", \"TCGA-KIRC\"  …  \"TCGA-LAML\", \"TCGA-LGG\", \"TCGA-HNSC\", \"TCGA-ESCA\", \"TCGA-CESC\", \"TCGA-KIRC\", \"TCGA-UCS\", \"TCGA-LGG\", \"TCGA-LAML\", \"TCGA-THCA\"])"
      ]
     },
     "metadata": {},
     "output_type": "display_data"
    }
   ],
   "source": [
    "TCGA = MLDataset(\"Data/TCGA_tpm_n10384_btypes_labels.h5\")"
   ]
  },
  {
   "cell_type": "code",
   "execution_count": 8,
   "metadata": {},
   "outputs": [
    {
     "data": {
      "text/plain": [
       "MLSurvDataset(Float32[0.008600163 0.0 … 0.0 0.0; 0.033423774 0.00432137 … 0.0 0.029383799; … ; 0.4828736 0.0 … 0.0 0.15836251; 0.045322984 0.017033324 … 0.0 0.20682588], [\"01H001\", \"02H003\", \"02H009\", \"02H017\", \"02H026\", \"02H033\", \"02H053\", \"02H066\", \"03H016\", \"03H022\"  …  \"13H186\", \"14H001\", \"14H007\", \"14H012\", \"14H015\", \"14H017\", \"14H019\", \"14H020\", \"14H023\", \"14H038\"], [\"TSPAN6\", \"TNMD\", \"DPM1\", \"SCYL3\", \"C1orf112\", \"FGR\", \"CFH\", \"FUCA2\", \"GCLC\", \"NFYA\"  …  \"AP003086.3\", \"AL109627.1\", \"AC084851.4\", \"AC024558.2\", \"AC108479.4\", \"AL512357.2\", \"AL138899.3\", \"AL669830.1\", \"AC091135.2\", \"AL357075.5\"], [\"lncRNA\", \"lncRNA\", \"protein_coding\", \"lncRNA\", \"protein_coding\", \"lncRNA\", \"protein_coding,retained_intron\", \"lncRNA\", \"protein_coding\", \"protein_coding\"  …  \"transcribed_processed_pseudogene\", \"lncRNA\", \"processed_pseudogene\", \"protein_coding\", \"unprocessed_pseudogene\", \"lncRNA\", \"protein_coding\", \"retained_intron\", \"unprocessed_pseudogene\", \"protein_coding\"], [\"Therapy-related myeloid neoplasms\", \"AML with minimal differentiation\", \"AML without maturation\", \"AML with minimal differentiation\", \"AML with myelodysplasia-related changes\", \"Acute monoblastic and monocytic leukaemia\", \"AML without maturation\", \"AML without maturation\", \"Acute monoblastic and monocytic leukaemia\", \"AML with myelodysplasia-related changes\"  …  \"Acute myelomonocytic leukaemia\", \"AML without maturation\", \"AML with maturation\", \"AML with minimal differentiation\", \"Acute myelomonocytic leukaemia\", \"AML without maturation\", \"AML with minimal differentiation\", \"AML without maturation\", \"AML with myelodysplasia-related changes\", \"AML with inv(3)(q21q26.2) or t(3;3)(q21;q26.2); RPN1-EVI1\"], [2170, 1396, 236, 284, 358, 101, 37, 135, 6033, 805  …  150, 2086, 75, 1467, 207, 213, 1983, 1952, 36, 255], [1, 1, 1, 1, 1, 1, 1, 1, 0, 1  …  1, 0, 1, 1, 1, 1, 0, 0, 1, 1])"
      ]
     },
     "metadata": {},
     "output_type": "display_data"
    }
   ],
   "source": [
    "LAML = MLSurvDataset(\"Data/LGN_AML_tpm_n300_btypes_labels_surv.h5\")"
   ]
  },
  {
   "cell_type": "code",
   "execution_count": 3,
   "metadata": {},
   "outputs": [
    {
     "data": {
      "text/plain": [
       "1049×60660 Matrix{Float32}:\n",
       " 2.62839  0.60206   2.92737  3.07372  …  2.04532  0.0  0.477121  1.30103\n",
       " 3.31952  2.4843    2.79865  2.88081     2.06819  0.0  0.90309   1.36173\n",
       " 3.13735  0.0       2.99476  2.79029     1.79239  0.0  0.30103   1.53148\n",
       " 3.09202  0.0       3.57623  3.28262     2.33041  0.0  0.60206   1.4624\n",
       " 3.15198  1.72428   2.88986  3.03302     2.22789  0.0  1.20412   1.70757\n",
       " 3.43553  0.778151  3.05956  3.4777   …  2.40312  0.0  0.845098  1.11394\n",
       " 2.66839  1.04139   3.33465  3.06296     2.48714  0.0  0.60206   1.59106\n",
       " 2.98989  0.60206   3.17173  3.24551     2.35603  0.0  0.477121  1.4624\n",
       " 2.92993  1.716     2.90634  2.84942     2.15836  0.0  0.69897   1.39794\n",
       " 2.93399  0.60206   3.19783  3.28217     2.32428  0.0  0.845098  1.66276\n",
       " ⋮                                    ⋱                          \n",
       " 2.89487  1.20412   3.35908  3.25696  …  1.83251  0.0  0.69897   1.17609\n",
       " 3.08243  0.0       3.25816  3.1682      2.55991  0.0  0.90309   1.49136\n",
       " 3.55388  1.51851   2.97497  3.27161     2.36736  0.0  0.60206   1.44716\n",
       " 2.74819  1.54407   3.01326  3.3668      2.49693  0.0  0.954243  1.98677\n",
       " 2.78319  0.90309   2.64738  2.58546     1.94448  0.0  0.477121  1.36173\n",
       " 2.68664  0.0       2.92737  2.68395  …  2.04922  0.0  0.60206   1.81291\n",
       " 3.13672  0.30103   2.9952   3.40226     2.22272  0.0  0.845098  2.07188\n",
       " 3.21511  1.04139   2.87216  2.95569     2.00432  0.0  0.0       1.07918\n",
       " 3.32899  1.0       3.20085  3.21085     2.35025  0.0  0.60206   1.5563"
      ]
     },
     "metadata": {},
     "output_type": "display_data"
    }
   ],
   "source": [
    "BRCA_surv.data"
   ]
  },
  {
   "cell_type": "code",
   "execution_count": 63,
   "metadata": {},
   "outputs": [
    {
     "data": {
      "text/plain": [
       "\"/u/sauves/public_html/VARIA/TCGA_PROM1_log10_counts_by_ctypes.csv\""
      ]
     },
     "metadata": {},
     "output_type": "display_data"
    }
   ],
   "source": [
    "PROM1_DF  = DataFrame(\"case_id\" => TCGA.samples,\"PROM1_expr_log10\"=>Array{Float32}(vec(TCGA.data[:,findall(TCGA.genes .== \"PROM1\")])), \"cancer_type\"=>[split(x, \"-\")[2] for x in TCGA.labels])\n",
    "PROM1_DF.labels = generate_labels(TCGA)\n",
    "CSV.write(\"/u/sauves/public_html/VARIA/TCGA_PROM1_log10_counts_by_ctypes.csv\", PROM1_DF)"
   ]
  },
  {
   "cell_type": "code",
   "execution_count": 67,
   "metadata": {},
   "outputs": [
    {
     "data": {
      "text/plain": [
       "Int64[]"
      ]
     },
     "metadata": {},
     "output_type": "display_data"
    }
   ],
   "source": [
    "findall(TCGA.genes .== \"ERRB2\")"
   ]
  },
  {
   "cell_type": "code",
   "execution_count": 78,
   "metadata": {},
   "outputs": [],
   "source": [
    "target_gene = \"CDK6\"\n",
    "target_DF  = DataFrame(\"case_id\" => TCGA.samples,\"expr_log10\"=>Array{Float32}(vec(TCGA.data[:,findall(TCGA.genes .== target_gene)])), \"cancer_type\"=>[split(x, \"-\")[2] for x in TCGA.labels])\n",
    "target_DF.labels = generate_labels(TCGA)\n",
    "CSV.write(\"/u/sauves/public_html/VARIA/TCGA_$(target_gene)_log10_counts_by_ctypes.csv\", target_DF)\n",
    "p = PlotlyJS.plot(target_DF, y=:expr_log10, color=:labels,boxpoints=\"all\", kind = \"box\", Layout(title = \"Expression of $(target_gene) across TCGA cohort by cancer type\"))\n",
    "open(\"figures/TCGA_$(target_gene)_expr_log10_by_ctype.html\", \"w\") do io\n",
    "    PlotlyBase.to_html(io, p.plot)\n",
    "end"
   ]
  },
  {
   "cell_type": "code",
   "execution_count": 58,
   "metadata": {},
   "outputs": [
    {
     "data": {
      "text/plain": [
       "generate_labels (generic function with 1 method)"
      ]
     },
     "metadata": {},
     "output_type": "display_data"
    }
   ],
   "source": [
    "function generate_labels(Data)\n",
    "    # translate label \n",
    "    cnames = CSV.read(\"Data/GDC_processed/TCGA_abbrev.txt\", DataFrame)\n",
    "    labels = [\"$(cnames[cnames[:,\"abbrv\"] .== split(l,\"-\")[2],\"def\"][1])\" for l in TCGA.labels]\n",
    "    # add number\n",
    "    counts = create_counter(labels)\n",
    "    labs = []\n",
    "    for l in labels \n",
    "        nstr = \"($(counts[l])) $l\"\n",
    "        newlab = nstr[1:min(length(nstr),30)]\n",
    "        push!(labs, newlab)  \n",
    "    end  \n",
    "    return labs\n",
    "end "
   ]
  },
  {
   "cell_type": "code",
   "execution_count": 20,
   "metadata": {},
   "outputs": [
    {
     "data": {
      "text/plain": [
       "create_counter (generic function with 1 method)"
      ]
     },
     "metadata": {},
     "output_type": "display_data"
    }
   ],
   "source": [
    "function create_counter(iterable)\n",
    "    counter = Dict{Any, Int}()\n",
    "    for item in iterable\n",
    "        counter[item] = get(counter, item, 0) + 1\n",
    "    end\n",
    "    return counter\n",
    "end"
   ]
  },
  {
   "cell_type": "code",
   "execution_count": 59,
   "metadata": {},
   "outputs": [
    {
     "data": {
      "text/plain": [
       "30"
      ]
     },
     "metadata": {},
     "output_type": "display_data"
    }
   ],
   "source": [
    "TCGA_DF.labels = generate_labels(TCGA)\n",
    "length(TCGA_DF.labels[10])"
   ]
  },
  {
   "cell_type": "code",
   "execution_count": 62,
   "metadata": {},
   "outputs": [],
   "source": [
    "using PlotlyJS, CSV, DataFrames\n",
    "DF = dataset(DataFrame, \"tips\")\n",
    "#PlotlyJS.plot(DF, y=:total_bill, color=:time, kind=\"box\")\n",
    "p = PlotlyJS.plot(PROM1_DF, y=:PROM1_expr_log10, color=:labels,boxpoints=\"all\", kind = \"box\", Layout(title = \"Expression of PROM1 across TCGA cohort by cancer type\"))\n",
    "open(\"figures/TCGA_PROM1_expr_log10_by_ctype.html\", \"w\") do io\n",
    "    PlotlyBase.to_html(io, p.plot)\n",
    "end"
   ]
  },
  {
   "cell_type": "code",
   "execution_count": 65,
   "metadata": {},
   "outputs": [],
   "source": []
  },
  {
   "cell_type": "code",
   "execution_count": 113,
   "metadata": {},
   "outputs": [
    {
     "data": {
      "image/png": "[encoded data removed]"
     },
     "metadata": {},
     "output_type": "display_data"
    }
   ],
   "source": [
    "fig = Figure(resolution= (2512,1024))\n",
    "g = AlgebraOfGraphics.data(DF) * mapping( :cancer_type, :PROM1_expr_log10, color=:cancer_type) * visual(BoxPlot)\n",
    "draw!(fig[1,1], g)\n",
    "fig"
   ]
  },
  {
   "cell_type": "code",
   "execution_count": null,
   "metadata": {},
   "outputs": [],
   "source": [
    "BRCA.data[:,BRCA.biotypes .== \"protein_coding\"]"
   ]
  },
  {
   "cell_type": "code",
   "execution_count": 99,
   "metadata": {},
   "outputs": [
    {
     "data": {
      "text/plain": [
       "3×1050 Matrix{Float32}:\n",
       "  2.94872   -3.46529  -0.295014   1.30977  …  -0.414188   0.784974   2.09147\n",
       " -6.79532   -6.60135  -3.29362   -5.03908     -6.08714   -4.75861   -6.92205\n",
       " -0.734375   2.1184    0.611181   2.628        2.50987    0.591118   4.44782"
      ]
     },
     "metadata": {},
     "output_type": "display_data"
    }
   ],
   "source": [
    "using UMAP\n",
    "embedding = umap(Matrix(BRCA.data[:,BRCA.biotypes .== \"protein_coding\"]'), 3; n_neighbors = 10, min_dist = 1.)"
   ]
  },
  {
   "cell_type": "code",
   "execution_count": 4,
   "metadata": {},
   "outputs": [
    {
     "data": {
      "image/png": "[encoded data removed]"
     },
     "metadata": {},
     "output_type": "display_data"
    }
   ],
   "source": [
    "labels = BRCA.labels\n",
    "fig = Figure(resolution = (720,512))\n",
    "axis = Axis(fig[1,1], aspect = AxisAspect(1), autolimitaspect = 1,  title=\"2D UMAP from TCGA-BRCA gene expression data\")\n",
    "for label in unique(labels)\n",
    "    X = embedding[1, labels .== label]\n",
    "    Y = embedding[2, labels .== label]\n",
    "    scatter!(fig[1,1], X,Y, label = label)\n",
    "end\n",
    "axislegend(axis) \n",
    "fig"
   ]
  },
  {
   "cell_type": "code",
   "execution_count": 5,
   "metadata": {},
   "outputs": [],
   "source": [
    "using PlotlyJS"
   ]
  },
  {
   "cell_type": "code",
   "execution_count": 10,
   "metadata": {},
   "outputs": [
    {
     "data": {
      "text/plain": [
       "2×1050 Matrix{Float64}:\n",
       "  0.149785  -1.18315   -0.542288  …  -0.784873  -0.366899  -0.279028\n",
       " -0.341862  -0.892117  -0.202394     -0.684143  -0.342661  -1.25797"
      ]
     },
     "metadata": {},
     "output_type": "display_data"
    }
   ],
   "source": [
    "\n",
    "x,y,z = sin.(embedding), cos.(embedding)"
   ]
  },
  {
   "cell_type": "code",
   "execution_count": 89,
   "metadata": {},
   "outputs": [
    {
     "data": {
      "text/plain": [
       "([0.14058980991437656, -0.5811864815770612, -0.5055624852454214, -0.19651481032068588, -0.3689951953460685, -0.08370756483695393, 0.15553436418752528, -0.07880168898299703, -0.8408834819137696, -0.8750424732623765  …  -0.2677847014882808, -0.06936152447658049, -0.8873204615179685, -0.2159840671527629, -0.3267645380902733, -0.38592472100096387, 0.37842518510883405, -0.5476924391695414, -0.337867484292094, -0.0847609688620761], [-0.050026512955852906, 0.7206457922271433, 0.10374325674999725, 0.17168152096912423, 0.5656862794295036, 0.2606234538404428, -0.1448199447626117, 0.047870249061783034, 0.509617023622385, 0.4053820193706604  …  0.06733261385008787, 0.07283761579279625, 0.43479626264606963, 0.30355756585731947, 0.3014730354657718, -0.013275100202985852, -0.06692289996084802, 0.44666287904741137, 0.12052889402062546, 0.2620540851988296], [0.9888032429911005, 0.3780104704599984, 0.8565301571990196, 0.9653535024447537, 0.737456154002882, 0.9618047925111133, 0.9771572264255821, 0.9957402939864339, 0.18222365126085174, 0.2645110363630007  …  0.9611231309051652, 0.9949289726648358, -0.15367045441642116, 0.9280106071306136, 0.8957337470106302, 0.9224347572782201, 0.9232094587557989, 0.7074781018219545, 0.933444346902533, 0.9613236887688593])"
      ]
     },
     "metadata": {},
     "output_type": "display_data"
    }
   ],
   "source": []
  },
  {
   "cell_type": "code",
   "execution_count": 83,
   "metadata": {},
   "outputs": [
    {
     "data": {
      "text/plain": [
       "1050-element Vector{Float64}:\n",
       "  0.5917262796252334\n",
       " -0.594085031341355\n",
       " -0.041306241820274286\n",
       "  0.2287332037925443\n",
       " -0.21661972379471536\n",
       "  0.16523921317139567\n",
       "  0.6397712530151565\n",
       "  0.3950546624390645\n",
       " -0.7764925523048782\n",
       " -0.7163586621272714\n",
       "  ⋮\n",
       "  0.3735126698287742\n",
       " -0.9378337213556688\n",
       "  0.10677626392818097\n",
       "  0.03696214730088804\n",
       "  0.0853720488223083\n",
       "  0.7270122280444544\n",
       " -0.27966438260549753\n",
       "  0.12858548167169162\n",
       "  0.16424505784715349"
      ]
     },
     "metadata": {},
     "output_type": "display_data"
    }
   ],
   "source": [
    "sin.(psi) .* cos.(theta)"
   ]
  },
  {
   "cell_type": "code",
   "execution_count": 85,
   "metadata": {},
   "outputs": [
    {
     "data": {
      "text/plain": [
       "-0.594085031341355"
      ]
     },
     "metadata": {},
     "output_type": "display_data"
    }
   ],
   "source": [
    "sin(psi[2]) * cos(theta[2])"
   ]
  },
  {
   "cell_type": "code",
   "execution_count": 79,
   "metadata": {},
   "outputs": [
    {
     "data": {
      "text/plain": [
       "2×1 Matrix{Float32}:\n",
       " 1.3692038f-7\n",
       " 3.0622027f-6"
      ]
     },
     "metadata": {},
     "output_type": "display_data"
    }
   ],
   "source": [
    "mean(embedding .- mean(embedding, dims = 2), dims = 2)"
   ]
  },
  {
   "cell_type": "code",
   "execution_count": 100,
   "metadata": {},
   "outputs": [
    {
     "data": {
      "application/vnd.plotly.v1+json": {
       "config": {
        "editable": false,
        "responsive": true,
        "scrollZoom": true,
        "showLink": false,
        "staticPlot": false
       },
       "data": [
        {
         "legendgroup": "Basal",
         "marker": {
          "color": "#EF553B"
         },
         "mode": "markers",
         "name": "Basal",
         "showlegend": true,
         "type": "scatter3d",
         "x": [
          -3.4652884,
          -2.7814727,
          -2.426305,
          -4.363992,
          -5.030421,
          -1.3315583,
          -4.7178483,
          -4.992428,
          2.3749864,
          -5.322024,
          2.2340286,
          -4.723894,
          -4.4551277,
          -3.2310758,
          -5.354539,
          -3.8874767,
          -2.6177275,
          -4.2275553,
          -4.213525,
          -4.4641094,
          -3.8831916,
          -3.3261647,
          -3.3019512,
          -2.9147816,
          -4.9151173,
          -2.4483173,
          -4.523391,
          -3.045437,
          -2.3267205,
          -4.0032234,
          -2.99304,
          1.972094,
          -4.367805,
          -2.901015,
          -3.9714887,
          -0.23144616,
          -4.83696,
          -4.200283,
          -3.4349074,
          -4.513812,
          -4.4570436,
          -3.2856545,
          -1.7241145,
          -3.7884638,
          -4.246795,
          -2.8228457,
          -4.616653,
          0.6446005,
          -2.0158057,
          -5.497431,
          -3.0602636,
          -1.257096,
          0.40369186,
          -3.9933314,
          -1.3182358,
          -4.503084,
          -4.9295735,
          -3.5004425,
          -2.4841034,
          -4.8349485,
          -1.099057,
          -3.866476,
          -4.1560836,
          -4.7724333,
          -4.0866923,
          -0.9012964,
          -4.3148465,
          -5.484198,
          -3.9787686,
          -4.216532,
          -3.9937012,
          -2.5428932,
          -1.071642,
          -3.1985934,
          -4.86937,
          -0.24531066,
          -4.7683725,
          -2.3883882,
          -4.511813,
          -1.6295035,
          -5.361997,
          2.4112074,
          -3.9382286,
          -1.7733175,
          -4.1291485,
          -4.3473654,
          -4.233496,
          -5.3514543,
          -3.9842222,
          -2.3235192,
          -3.6220865,
          -4.3066974,
          -4.272599,
          -2.0024958,
          -5.6655006,
          -3.0409338,
          -5.1289253,
          -3.1758742,
          -4.204662,
          -4.4343915,
          -2.541196,
          0.59820455,
          -5.135343,
          -4.877734,
          -4.816435,
          2.0224411,
          -2.8859148,
          0.94114065,
          -3.9224284,
          -2.2740011,
          2.636976,
          -1.887915,
          -5.095407,
          0.7521607,
          -2.747408,
          -3.042717,
          -3.5114167,
          -3.0879936,
          -3.2617266,
          -3.2080321,
          -3.613945,
          -3.0494173,
          -4.4495425,
          -2.6452014,
          -4.8936844,
          -3.8140523,
          -3.2181873,
          -4.743995,
          -3.4629066,
          -3.6290581,
          -4.491321,
          -3.1405206,
          -3.219189,
          -4.2476716,
          -5.097174,
          -4.07385,
          -3.9825828,
          -3.4812458,
          -4.6077805,
          -2.3780506,
          0.17287375,
          -4.982103,
          -4.72647,
          -4.9251328,
          -3.8884807,
          -3.9738345,
          -4.713693,
          -5.015887,
          -5.0976534,
          -5.23857,
          -4.0728846,
          -5.085702,
          -2.9821613,
          -5.069074,
          -5.368895,
          -4.1730437,
          -3.2201967,
          -4.9439116,
          -1.9853426,
          -1.2604665,
          1.383776,
          -5.3286095,
          -3.183021,
          -4.7717032,
          -3.970054,
          -3.2037172,
          -2.7515829,
          -3.7709897,
          0.5511606,
          -1.597217,
          -1.4856076,
          -4.4613414,
          -3.7878544,
          -2.2123556,
          -3.860887,
          -2.8557692,
          -3.863192,
          -4.5316815,
          -4.1632905,
          -4.195151,
          -3.2688286,
          -5.595766,
          -2.0249476,
          -4.688556,
          -4.3909965,
          -1.9653788,
          0.5641174,
          -3.7106273,
          -2.999957,
          -2.6186798,
          -3.4678788,
          -3.856558,
          -1.2430408,
          -3.3058484,
          -3.6013937,
          -4.9145775,
          -2.8154664,
          -4.09753,
          -3.4087925,
          -2.9201272,
          -4.2223163,
          -2.9714463,
          -3.3945246,
          -3.9576561,
          -4.3428497,
          -3.6966865,
          -3.270265,
          -5.211734,
          -2.173148,
          -4.608301,
          -3.0030897,
          -3.8875103,
          -3.673692,
          -5.1982856,
          -3.7069757,
          -4.697947,
          -4.563128,
          -0.41418782
         ],
         "xaxis": "x",
         "y": [
          -6.60135,
          -4.796716,
          -3.2599676,
          -3.6228445,
          -2.6923587,
          -5.2915735,
          -4.5338583,
          -4.4598417,
          -6.5873566,
          -3.147529,
          -3.067307,
          -5.661151,
          -2.6432176,
          -1.9720535,
          -4.7026744,
          -2.8240912,
          -3.4784403,
          -2.3582969,
          -5.350803,
          -4.9396935,
          -2.2548857,
          -1.7058135,
          -4.585333,
          -8.648928,
          -3.6137996,
          -3.9338486,
          -1.9021755,
          -2.4471958,
          -5.5924277,
          -2.0235243,
          -3.4583294,
          -6.1721354,
          -5.4066043,
          -3.4839244,
          -2.7041316,
          -4.176518,
          -2.9620738,
          -1.6883655,
          -1.7337385,
          -4.194185,
          -3.05979,
          -2.247604,
          -3.931307,
          -3.920973,
          -3.4763193,
          -3.3172677,
          -4.5155225,
          -7.271601,
          -4.9245257,
          -3.1838477,
          -4.0140114,
          -3.2354364,
          -7.0609846,
          -2.7373805,
          -5.185927,
          -4.549332,
          -4.4132733,
          -2.8457952,
          -4.1250567,
          -4.098861,
          -5.2605767,
          -4.592904,
          -2.3904686,
          -2.6147509,
          -3.8614295,
          -4.4409213,
          -3.5321257,
          -4.1061063,
          -4.0043287,
          -1.777343,
          -7.49774,
          -2.9316137,
          -4.414288,
          -4.23088,
          -2.6048977,
          -5.189703,
          -4.4559174,
          -5.747709,
          -4.0724998,
          -5.997725,
          -3.8622696,
          -7.370027,
          -4.914216,
          -5.2618937,
          -4.4455585,
          -2.6254597,
          -2.0385926,
          -5.0204053,
          -5.658633,
          -5.273802,
          -3.6883876,
          -2.3648183,
          -3.384661,
          -3.2404253,
          -4.5311313,
          -2.664259,
          -4.5794544,
          -2.5788133,
          -2.3769407,
          -4.403015,
          -4.7857394,
          -5.8784757,
          -4.659182,
          -5.2513213,
          -3.0693734,
          -3.3557906,
          -2.9564161,
          -6.9456377,
          -2.0206544,
          -3.8083837,
          -5.298818,
          -3.8829832,
          -3.6469474,
          -6.988158,
          -5.279206,
          -4.5633335,
          -2.004236,
          -2.7297828,
          -2.1849983,
          -5.6691847,
          -8.272565,
          -3.4285789,
          -3.6975777,
          -5.06642,
          -3.5528677,
          -4.055176,
          -4.733333,
          -3.3280272,
          -2.574099,
          -2.017691,
          -1.9353986,
          -5.407533,
          -8.24461,
          -3.2338996,
          -3.6605756,
          -8.84515,
          -8.504942,
          -2.4357204,
          -3.8334637,
          -5.142146,
          -7.1995406,
          -4.289751,
          -5.0829215,
          -3.6563463,
          -8.3008375,
          -4.4047146,
          -2.1114593,
          -4.8105783,
          -2.43658,
          -2.6462655,
          -5.175542,
          -4.019874,
          -5.309019,
          -5.0688825,
          -4.406945,
          -2.412426,
          -5.259013,
          -4.1007805,
          -4.107355,
          -4.3734007,
          -6.893358,
          -3.9504085,
          -3.0426092,
          -5.1804523,
          -2.1836257,
          -6.6845236,
          -2.899756,
          -3.3827546,
          -5.3106966,
          -4.196299,
          -3.2117965,
          -3.2822833,
          -3.2299523,
          -4.8482656,
          -1.5816085,
          -5.021059,
          -3.1209962,
          -3.401368,
          -3.267601,
          -5.127301,
          -4.550282,
          -3.947026,
          -5.8255243,
          -2.963752,
          -2.2420516,
          -3.4783888,
          -4.5229874,
          -2.0356493,
          -4.108471,
          -3.8028514,
          -8.820499,
          -4.045554,
          -5.2154074,
          -5.1096134,
          -3.2298908,
          -2.5291035,
          -4.763713,
          -2.2195952,
          -2.8190527,
          -1.8759314,
          -2.4367611,
          -3.5639129,
          -3.104538,
          -2.5700734,
          -2.3375528,
          -5.550577,
          -2.276028,
          -3.324982,
          -4.2858186,
          -3.6114283,
          -2.3294592,
          -3.433824,
          -5.057539,
          -3.3431444,
          -2.996939,
          -3.9093428,
          -4.666164,
          -6.0871387
         ],
         "yaxis": "y",
         "z": [
          2.1184013,
          3.8046741,
          4.596787,
          3.4538372,
          2.0359144,
          2.5661898,
          2.1281228,
          4.1457343,
          1.5779215,
          2.78518,
          1.6100317,
          4.2285075,
          1.488204,
          3.1697936,
          3.1047277,
          2.1575997,
          3.7747438,
          1.074568,
          3.708787,
          4.653144,
          3.8829348,
          2.998918,
          5.0027113,
          2.2092023,
          1.7796835,
          2.9134398,
          2.2419395,
          1.847004,
          4.7571797,
          3.575987,
          4.4041724,
          3.6742601,
          4.293103,
          1.1433868,
          4.6180973,
          -1.8712499,
          3.251183,
          2.920953,
          3.2747798,
          4.468676,
          3.5350938,
          4.099715,
          1.5330544,
          4.1716332,
          3.6538393,
          1.5914497,
          3.3115654,
          4.654927,
          1.8585873,
          3.9527402,
          2.1534684,
          -1.3676156,
          0.11070454,
          1.477933,
          1.2454451,
          2.7377427,
          3.3102994,
          3.6014996,
          4.6585093,
          4.447258,
          2.6304193,
          4.41795,
          2.8985534,
          3.7390397,
          3.564111,
          4.0333486,
          2.5066137,
          3.7543938,
          2.170606,
          1.6876844,
          0.02089876,
          4.154138,
          3.5752325,
          4.6021943,
          2.2249532,
          3.0028272,
          4.6762013,
          3.5512767,
          3.046849,
          4.3237505,
          3.068539,
          -0.30013576,
          4.6383796,
          3.9795532,
          4.7553453,
          2.9572012,
          4.0191655,
          3.689763,
          2.9531322,
          4.178351,
          4.912724,
          1.9693472,
          2.0485132,
          0.41803962,
          2.6692908,
          4.6723304,
          4.467192,
          1.5112386,
          2.9010596,
          3.0198092,
          5.1110735,
          0.51256925,
          4.250608,
          3.8312743,
          2.3676457,
          1.6482071,
          4.2518973,
          -0.76650023,
          4.6168056,
          1.7610419,
          2.5291955,
          -0.87717664,
          3.4071953,
          3.6422825,
          2.1537974,
          4.5228033,
          4.300922,
          2.334264,
          3.1353447,
          5.0780225,
          -0.3004461,
          2.9910169,
          1.6711304,
          4.643212,
          2.9940352,
          2.7291913,
          4.818854,
          4.5241575,
          4.0730324,
          3.1190875,
          2.3015027,
          4.4069777,
          1.0689054,
          3.1742146,
          4.0610523,
          -1.0296484,
          2.0884573,
          2.2639773,
          4.8629045,
          2.898402,
          1.2518582,
          3.1390631,
          2.9171486,
          2.955288,
          -0.6571636,
          3.655086,
          1.6556393,
          3.2765083,
          2.879617,
          2.1508453,
          4.9580793,
          3.3193076,
          5.2276273,
          2.947927,
          2.1559913,
          2.704016,
          4.7563643,
          4.6278944,
          1.2589709,
          0.20711863,
          2.1956453,
          4.273705,
          3.7612278,
          4.573001,
          1.6590099,
          -0.09593877,
          3.6967719,
          1.5643221,
          1.7385445,
          2.3677855,
          2.2354376,
          3.9051657,
          4.6610765,
          4.8097024,
          2.7669408,
          4.037554,
          2.4901476,
          4.5750437,
          4.679968,
          2.7449508,
          1.7842013,
          3.5977144,
          4.6444964,
          1.6455289,
          1.8247843,
          3.3242445,
          2.2736032,
          1.7282166,
          3.5312777,
          -0.23604904,
          2.3630047,
          1.6978378,
          1.9130826,
          4.6067595,
          2.2457104,
          3.2248964,
          4.9716644,
          2.0405157,
          1.6484362,
          3.5749626,
          1.7848389,
          2.0363977,
          2.3135166,
          3.4326239,
          4.15427,
          3.9208846,
          3.290295,
          3.3174841,
          4.9649963,
          4.8261647,
          3.192353,
          5.01366,
          5.273385,
          1.7751889,
          4.597744,
          2.6018994,
          5.201162,
          2.5098717
         ]
        },
        {
         "legendgroup": "Her2",
         "marker": {
          "color": "#00cc96"
         },
         "mode": "markers",
         "name": "Her2",
         "showlegend": true,
         "type": "scatter3d",
         "x": [
          -0.2950136,
          1.3097714,
          -0.7161276,
          -0.047232818,
          -1.2493488,
          0.003244328,
          -1.3569177,
          3.5282032,
          2.3687892,
          1.8203071,
          3.481046,
          -1.9812924,
          -0.8576485,
          3.6597304,
          -2.8477707,
          -0.52358097,
          -3.5484357,
          2.4900117,
          -1.0702626,
          -0.8356823,
          1.6931474,
          1.3984251,
          1.4815564,
          -1.1752789,
          2.4045124,
          -1.1825244,
          3.7104936,
          1.681905,
          0.6817621,
          -0.11050415,
          3.1658452,
          1.5218239,
          0.1211006,
          -3.9474146,
          1.7157344,
          1.1620874,
          -0.31044286,
          -0.53068674,
          2.5051014,
          0.8647235,
          -1.4045694,
          -2.6928585,
          -3.9730642,
          2.0959687,
          -0.49855867,
          -0.7322842,
          0.6745091,
          2.4435706,
          -0.3980497,
          -0.3726036,
          -3.7378552,
          1.6224823,
          0.98588496,
          3.0280347,
          1.3294618,
          2.076348,
          2.1077235,
          0.22016877,
          -0.26975217,
          3.549873,
          2.5872746,
          1.4220368,
          1.294111,
          -1.6095834,
          -1.1008224,
          1.0560124,
          0.6985587,
          1.7097716,
          2.3237875,
          2.2866426,
          0.011513974,
          -0.2670369,
          0.87968487,
          -3.8474448,
          0.6819056,
          1.4893092,
          1.6726037,
          -0.66818416,
          0.5174621,
          3.19685,
          -0.51527226,
          0.41025546,
          4.5336714,
          1.7254325,
          1.0220517,
          3.1788404,
          -1.6603653,
          0.7768316,
          0.9379858,
          0.37796223,
          1.3670173,
          -1.7367228,
          -1.0293136,
          -1.0364139,
          0.8285271,
          -0.12440183,
          0.24559028,
          0.8022583,
          -1.9902442,
          0.87559813,
          -1.0359342,
          2.0031168,
          1.2465918,
          1.8946089,
          -0.06445576,
          -1.1530007,
          2.1422367,
          0.27305984,
          -0.8443863,
          1.3292876,
          2.3288703,
          -0.16803351,
          1.9272344,
          -0.43408936,
          1.4725214,
          2.2941296,
          1.0367352,
          0.68185604,
          -0.4511547,
          -1.1378455,
          2.5116172,
          -0.9482719,
          0.414826,
          2.2196646,
          2.3625438,
          -1.1887977,
          -1.0855328,
          -1.8643289,
          1.8507024,
          -1.830836,
          -3.1953375,
          0.94906026,
          2.0914714
         ],
         "xaxis": "x",
         "y": [
          -3.2936249,
          -5.039085,
          -4.079367,
          -3.1157749,
          -3.3683512,
          -4.091316,
          -4.891791,
          -5.3318353,
          -5.0603867,
          -6.4442863,
          -4.3334365,
          -4.2334795,
          -6.8810296,
          -5.6959167,
          -7.5131416,
          -4.28264,
          -7.0872254,
          -4.474034,
          -4.454772,
          -3.1522431,
          -4.0542626,
          -4.1005735,
          -4.2045493,
          -3.326569,
          -5.199161,
          -3.5460262,
          -6.099805,
          -6.099787,
          -5.379658,
          -3.7404523,
          -4.64671,
          -5.414839,
          -4.1585054,
          -8.469162,
          -5.028445,
          -3.5193746,
          -3.6321461,
          -3.3082683,
          -4.373239,
          -3.0258877,
          -3.1393595,
          -6.4680824,
          -8.511244,
          -4.6584406,
          -4.50526,
          -3.822642,
          -3.9220438,
          -5.8401437,
          -3.3454182,
          -3.9269557,
          -7.8092704,
          -4.315091,
          -6.4327555,
          -5.1982007,
          -5.769679,
          -3.9595902,
          -5.6940303,
          -3.7490056,
          -3.936507,
          -4.439752,
          -4.4925866,
          -4.2724667,
          -6.4248996,
          -3.3503566,
          -4.3043094,
          -4.3648205,
          -3.7606273,
          -6.3104844,
          -3.9186704,
          -8.447142,
          -4.442545,
          -6.915972,
          -5.203424,
          -9.119218,
          -5.505562,
          -4.6283875,
          -4.512777,
          -4.367227,
          -3.8397806,
          -3.942436,
          -4.653097,
          -6.0233717,
          -4.316568,
          -4.842119,
          -5.330782,
          -5.2420387,
          -4.2061086,
          -4.670532,
          -3.9981103,
          -3.8681653,
          -5.0785484,
          -4.1323676,
          -3.616733,
          -4.247528,
          -5.0996447,
          -4.047213,
          -2.9687073,
          -5.178661,
          -3.8181677,
          -5.421007,
          -3.80913,
          -4.9762316,
          -6.659598,
          -6.4781733,
          -4.698044,
          -3.4024491,
          -4.437422,
          -3.4210718,
          -3.6355097,
          -5.5249586,
          -4.7060227,
          -4.0145187,
          -5.1003084,
          -3.4913924,
          -4.1650925,
          -5.555738,
          -4.385065,
          -4.389122,
          -3.341294,
          -3.8005095,
          -7.6063156,
          -3.737816,
          -4.6536093,
          -5.4545336,
          -6.0682116,
          -6.096562,
          -5.5292244,
          -2.9436672,
          -6.1014943,
          -4.237091,
          -6.9151096,
          -7.803099,
          -6.922053
         ],
         "yaxis": "y",
         "z": [
          0.6111813,
          2.628004,
          3.1902068,
          -0.07213331,
          0.78234154,
          0.07170137,
          -1.5390738,
          4.2370973,
          3.6326036,
          3.7762017,
          1.4380538,
          -0.06709034,
          -1.4046483,
          2.4032874,
          2.2635305,
          1.9892895,
          1.521971,
          3.334927,
          3.3436484,
          2.4684658,
          2.2384968,
          2.411664,
          -2.2167068,
          2.4555972,
          2.060434,
          1.9986486,
          3.5575345,
          1.2245654,
          1.8990365,
          2.8781955,
          2.3231964,
          2.314714,
          1.2266573,
          -0.6959677,
          0.9162714,
          -0.6603122,
          0.18918352,
          2.078254,
          2.6764035,
          -0.34250498,
          -0.25139248,
          1.7807549,
          0.5041165,
          3.625541,
          2.5042956,
          0.2818377,
          0.24458921,
          1.8125752,
          0.9856163,
          0.9908362,
          -0.40475184,
          0.2628589,
          4.6314316,
          4.214188,
          4.4882803,
          1.5465863,
          3.8051767,
          3.2763636,
          2.321303,
          3.0238621,
          1.1818229,
          -0.18033727,
          2.663004,
          1.5389458,
          2.4188547,
          2.844696,
          -0.99192584,
          1.6647136,
          2.4189699,
          4.011867,
          -0.48895454,
          -1.8635426,
          0.29260764,
          1.1323292,
          3.71936,
          1.4382223,
          1.6912225,
          3.1292644,
          0.657077,
          2.4806855,
          3.3992317,
          4.702532,
          3.2703946,
          3.8056664,
          2.675478,
          3.809451,
          2.4056153,
          3.280259,
          0.2979007,
          1.568565,
          3.5445678,
          1.4382833,
          2.115758,
          1.3348913,
          3.386111,
          3.0775824,
          -1.4916129,
          2.2412663,
          0.9753088,
          -1.8049275,
          -1.6806782,
          2.4165528,
          3.336751,
          0.4147647,
          3.292701,
          1.4967191,
          2.8250039,
          2.3231578,
          3.3227944,
          -0.4892983,
          2.0229208,
          3.9119818,
          2.5220203,
          3.3491185,
          3.235381,
          3.8375185,
          3.0167966,
          -1.390861,
          -1.2179203,
          2.229204,
          4.3941336,
          2.872096,
          3.4477289,
          4.0256567,
          0.9179932,
          -1.9626701,
          -2.363232,
          1.9090075,
          3.233402,
          -0.2735787,
          2.4534726,
          1.0622588,
          4.4478235
         ]
        },
        {
         "legendgroup": "LumA",
         "marker": {
          "color": "#636efa"
         },
         "mode": "markers",
         "name": "LumA",
         "showlegend": true,
         "type": "scatter3d",
         "x": [
          2.948724,
          2.3970022,
          2.5280797,
          3.6611772,
          3.1618156,
          4.4385834,
          1.9991835,
          -0.13665979,
          1.6737074,
          0.027854688,
          0.699457,
          0.571369,
          1.0915221,
          3.5527077,
          4.1811914,
          0.22691695,
          0.49267322,
          2.193996,
          1.8427993,
          1.3085908,
          -0.6378618,
          1.3534852,
          1.2408172,
          2.5442863,
          1.1860135,
          0.03616428,
          0.39724436,
          2.0142775,
          -2.642092,
          2.923263,
          2.5655248,
          1.1265398,
          2.9144418,
          2.4253426,
          1.4600741,
          0.5191467,
          2.0884287,
          2.7562745,
          0.55724514,
          3.1320472,
          0.71766037,
          2.0777278,
          3.1139057,
          3.0381458,
          -4.116206,
          -1.4501724,
          3.0479772,
          2.7933137,
          2.0992103,
          1.3055968,
          0.6012429,
          1.0310403,
          2.650114,
          1.6044204,
          -0.024085386,
          1.9313343,
          0.5583301,
          3.1188452,
          2.1487603,
          1.9168308,
          -0.5625544,
          1.1162299,
          -4.1693788,
          2.4425223,
          3.0772555,
          2.5097508,
          1.7424648,
          2.9206834,
          3.348623,
          -0.3995402,
          0.27081802,
          3.6041114,
          2.3818383,
          0.9701544,
          3.7830505,
          0.8082277,
          0.9917087,
          -3.6461558,
          -3.9935496,
          3.2587268,
          0.20397592,
          -4.3680167,
          1.0984024,
          2.6289933,
          -4.006432,
          2.1398056,
          -0.6827068,
          1.7624257,
          -0.113032885,
          4.2914433,
          1.5621299,
          3.9396996,
          0.9927228,
          1.9703526,
          0.6962728,
          0.699486,
          2.2023647,
          0.9829005,
          0.59076595,
          1.7732975,
          -1.0104697,
          2.4844613,
          1.0912815,
          1.4994632,
          0.42151392,
          2.4877055,
          1.185628,
          2.6850536,
          2.6883633,
          3.9750826,
          1.7020802,
          -4.0640764,
          -4.2534947,
          -3.9590275,
          0.05070276,
          0.8204427,
          4.2454653,
          3.1234126,
          -0.35265586,
          -0.58542705,
          1.2895808,
          1.9511046,
          1.8687589,
          2.1984248,
          2.2150092,
          2.1332717,
          1.2766294,
          1.5824196,
          3.1334229,
          0.50432783,
          1.3930614,
          3.648539,
          3.0569303,
          1.650347,
          2.0253034,
          2.4674606,
          1.1036255,
          0.52834666,
          3.3055093,
          2.2170305,
          3.0142913,
          2.01838,
          1.1019751,
          1.8906783,
          2.6115272,
          1.7981023,
          1.8247406,
          0.3717533,
          3.0511093,
          -3.3111227,
          -0.16462238,
          -3.6056764,
          1.5873636,
          -0.3487697,
          3.7446878,
          3.000897,
          1.8143722,
          1.5891778,
          2.4367769,
          0.09918622,
          -0.8244364,
          2.8183572,
          0.33997455,
          1.9950875,
          -0.65944624,
          -0.30161828,
          0.95798653,
          2.2138817,
          0.22307003,
          -0.783938,
          3.8916728,
          0.5343574,
          1.114826,
          1.3925573,
          1.9512535,
          2.134351,
          -0.17160793,
          0.61777556,
          -0.3565087,
          -4.2699585,
          1.9644408,
          3.627318,
          0.394865,
          1.5796022,
          -0.6434324,
          -2.6098962,
          1.3794892,
          3.0773573,
          3.911124,
          1.7599378,
          2.2097805,
          0.8892383,
          1.3990446,
          2.5522354,
          1.9357241,
          2.326271,
          1.241722,
          1.0990956,
          2.695321,
          -0.8561305,
          0.41931555,
          2.1214266,
          -0.21233487,
          -0.5503471,
          3.8438973,
          1.3533049,
          0.15509474,
          2.0217652,
          4.004979,
          0.9148944,
          4.388255,
          -0.52068466,
          2.035557,
          0.20417216,
          1.9903142,
          -4.0116854,
          0.2443215,
          -2.8524349,
          0.2995157,
          -3.1710606,
          1.0790137,
          2.5577266,
          0.30391777,
          -3.1836247,
          2.1496112,
          2.0299497,
          1.5076134,
          1.0857378,
          1.6413232,
          2.1229362,
          -4.0792007,
          2.4174557,
          2.146321,
          1.8911908,
          1.3176892,
          3.1876037,
          3.2593994,
          2.0071483,
          3.3609912,
          2.5756676,
          1.7469156,
          1.4530941,
          3.262674,
          3.2384775,
          -3.395704,
          1.5019717,
          -0.08503415,
          2.982633,
          2.6949494,
          4.13369,
          -0.29469702,
          -0.47560382,
          1.4981356,
          3.5613003,
          0.68807554,
          1.4711126,
          3.2635195,
          0.7474897,
          0.024598746,
          2.7536879,
          2.4556284,
          3.3047931,
          4.546348,
          3.681305,
          2.1980093,
          0.46718365,
          1.5707453,
          3.729137,
          -3.3727357,
          2.804168,
          2.454784,
          1.81913,
          3.9548924,
          0.8488941,
          -1.3978082,
          2.9984167,
          4.6080527,
          3.3892608,
          2.2853918,
          2.829103,
          1.3480995,
          0.018575896,
          1.5214363,
          1.3860321,
          0.29444805,
          2.7322164,
          3.6664824,
          3.6636746,
          -0.077911995,
          0.124906085,
          3.5573604,
          3.6660864,
          -0.8210095,
          0.9075474,
          3.7071457,
          0.7849741
         ],
         "xaxis": "x",
         "y": [
          -6.7953167,
          -8.730827,
          -6.0907474,
          -7.4543304,
          -5.959628,
          -6.854002,
          -7.4149785,
          -6.7510967,
          -7.117736,
          -6.4192524,
          -5.0538535,
          -7.0081916,
          -6.426988,
          -6.238189,
          -6.0642805,
          -6.404621,
          -3.3260071,
          -6.6671896,
          -8.522968,
          -6.687955,
          -5.33006,
          -5.678301,
          -7.8338394,
          -4.7410016,
          -8.594831,
          -4.507305,
          -7.2225814,
          -7.9385686,
          -7.9318347,
          -7.63846,
          -4.553187,
          -4.323939,
          -6.9334025,
          -5.5595684,
          -5.9036827,
          -5.485823,
          -6.8875155,
          -8.396369,
          -3.891649,
          -6.92713,
          -5.524737,
          -5.4428062,
          -5.7743263,
          -5.9752293,
          -7.5050864,
          -5.920766,
          -4.499905,
          -6.79751,
          -6.632885,
          -4.390994,
          -4.8813066,
          -7.427427,
          -3.799058,
          -6.9653864,
          -7.670569,
          -8.461567,
          -7.6236916,
          -7.525363,
          -6.601951,
          -7.21644,
          -6.836622,
          -4.385399,
          -7.2477493,
          -8.767566,
          -6.2907915,
          -6.7922945,
          -7.413738,
          -7.636316,
          -6.5159135,
          -7.262036,
          -5.817787,
          -6.3907075,
          -4.914399,
          -4.590625,
          -7.093019,
          -5.530967,
          -6.3292813,
          -6.5917883,
          -9.040191,
          -7.3583198,
          -7.368344,
          -7.699963,
          -4.3551226,
          -8.154157,
          -6.8614564,
          -7.9026337,
          -4.5195427,
          -5.7144275,
          -7.122229,
          -6.8051333,
          -8.143728,
          -5.7967525,
          -5.885063,
          -4.4212823,
          -3.3663647,
          -6.2927847,
          -5.5492644,
          -6.3936534,
          -6.2349024,
          -7.802878,
          -4.220033,
          -7.738369,
          -7.9729857,
          -7.623609,
          -6.670559,
          -7.522873,
          -5.7103434,
          -5.0447345,
          -5.0882945,
          -8.229315,
          -8.102306,
          -8.015374,
          -8.117033,
          -8.792538,
          -5.6139536,
          -7.823157,
          -7.0131655,
          -7.527283,
          -5.434879,
          -5.2499146,
          -7.981484,
          -6.31995,
          -7.9307337,
          -5.6779995,
          -5.117556,
          -5.4453096,
          -6.927939,
          -8.048409,
          -4.2848797,
          -6.436131,
          -6.984223,
          -6.4750304,
          -5.9094424,
          -6.710962,
          -8.077961,
          -6.5870814,
          -5.8417263,
          -7.2128954,
          -6.0020103,
          -8.35499,
          -8.072823,
          -5.7915382,
          -6.676469,
          -6.7766376,
          -7.8796825,
          -4.447259,
          -6.1170406,
          -3.9231243,
          -6.0272202,
          -8.3412485,
          -3.6859748,
          -9.165958,
          -7.812737,
          -5.343551,
          -4.690461,
          -5.748858,
          -6.598097,
          -7.3823586,
          -6.092621,
          -8.346576,
          -6.207929,
          -5.0589967,
          -6.051967,
          -7.148658,
          -5.172659,
          -6.2871094,
          -5.70619,
          -5.611862,
          -6.2743645,
          -5.686407,
          -6.1417723,
          -4.075505,
          -6.366394,
          -8.039121,
          -3.455413,
          -7.594183,
          -6.3635745,
          -5.9462585,
          -5.470263,
          -8.122316,
          -7.296036,
          -8.490308,
          -8.798928,
          -8.412664,
          -5.5667467,
          -7.486709,
          -8.588899,
          -5.625452,
          -6.177475,
          -6.1216135,
          -6.1632223,
          -7.8037267,
          -5.541392,
          -8.172335,
          -7.4822364,
          -6.6267986,
          -8.822958,
          -8.41547,
          -4.8909526,
          -6.726618,
          -7.135078,
          -4.1825285,
          -6.2725306,
          -4.5355635,
          -8.050913,
          -5.881221,
          -6.1993227,
          -3.87222,
          -6.24162,
          -5.7894382,
          -5.9390388,
          -6.7474856,
          -5.6002846,
          -5.092191,
          -7.9392247,
          -7.2918224,
          -8.482457,
          -7.4983916,
          -7.539261,
          -6.5979557,
          -6.782454,
          -3.6971962,
          -6.1952796,
          -7.228391,
          -6.393441,
          -4.497633,
          -7.059163,
          -7.6580462,
          -4.453814,
          -8.373145,
          -7.697725,
          -8.279164,
          -8.121926,
          -7.0950665,
          -6.132784,
          -6.953264,
          -7.9249644,
          -5.921027,
          -7.225065,
          -7.7853665,
          -5.2967277,
          -3.7172067,
          -5.535364,
          -5.433042,
          -7.2395563,
          -3.6908593,
          -3.8203027,
          -7.539256,
          -5.4703536,
          -6.8023543,
          -8.181196,
          -6.066027,
          -7.5179896,
          -7.682405,
          -6.6139717,
          -5.5721517,
          -6.8439183,
          -4.516803,
          -5.250725,
          -7.6111627,
          -7.4909754,
          -7.486178,
          -5.590741,
          -4.0662756,
          -7.4273443,
          -8.057257,
          -5.150551,
          -5.511815,
          -7.2943177,
          -6.345107,
          -6.7103405,
          -6.8134804,
          -8.132589,
          -6.0876493,
          -5.750066,
          -7.6901975,
          -6.6220536,
          -6.6801233,
          -4.501675,
          -6.7392898,
          -3.7350407,
          -6.245345,
          -7.259728,
          -5.671376,
          -6.0486264,
          -8.46056,
          -8.315868,
          -6.166702,
          -6.9972997,
          -7.2057486,
          -7.161875,
          -5.9962397,
          -5.183879,
          -5.5919657,
          -5.622505,
          -4.758613
         ],
         "yaxis": "y",
         "z": [
          -0.7343749,
          2.5968697,
          1.0959684,
          1.8648962,
          -0.049362756,
          -0.07925327,
          2.6959567,
          1.471287,
          -0.18548198,
          -2.8082447,
          -0.34511054,
          2.1767933,
          3.7654583,
          -0.7188464,
          0.7670636,
          0.87915266,
          -2.0630767,
          0.45493644,
          3.0457366,
          -2.1544588,
          -0.58835065,
          -1.2050571,
          0.2902166,
          0.40679237,
          2.9687371,
          -1.8712345,
          3.3738346,
          1.1200304,
          1.6223,
          1.0500137,
          0.8384268,
          1.8203155,
          2.069519,
          0.46734196,
          1.9539913,
          -1.4234974,
          0.34751156,
          0.6230184,
          -1.8764019,
          -0.9146494,
          -1.5595921,
          -0.55281174,
          1.042699,
          1.128289,
          1.276262,
          0.4871316,
          0.120487295,
          -1.1836139,
          2.8939366,
          0.13687323,
          -1.1296284,
          -0.079202496,
          -1.3907644,
          3.0528307,
          1.7755579,
          2.2745721,
          2.609605,
          -1.4056811,
          -0.58131814,
          1.5620874,
          2.8987937,
          0.7665622,
          0.9552927,
          2.117402,
          0.2658158,
          3.3863575,
          2.369176,
          1.3469437,
          0.86217767,
          -1.1625155,
          0.88057154,
          2.2333405,
          -0.29742652,
          -0.030364184,
          -0.7115088,
          3.4285252,
          2.1434178,
          0.020969529,
          -0.117898345,
          0.6503128,
          2.4493883,
          1.3747631,
          -1.0392376,
          3.5347404,
          0.7911518,
          0.15454496,
          0.8260107,
          -0.8029401,
          4.2739105,
          1.0958204,
          4.066892,
          -2.635916,
          -0.69605815,
          -1.4764112,
          -1.6577368,
          0.20758921,
          0.40796334,
          2.6334426,
          -0.259946,
          1.2563916,
          -1.8751295,
          1.7271451,
          4.3940253,
          3.875622,
          3.006442,
          3.8708959,
          -2.3841271,
          0.53327215,
          1.0103431,
          1.2859651,
          4.3021193,
          -0.96782017,
          -0.087374486,
          1.6206994,
          1.8411528,
          -0.63132274,
          -1.035832,
          2.4668827,
          -2.3423529,
          1.5790443,
          2.7483091,
          -0.8157092,
          4.0100303,
          0.19768411,
          1.8203857,
          1.2405051,
          2.233802,
          2.495527,
          -0.6712319,
          2.2996118,
          0.9908199,
          -1.5314091,
          -1.2968029,
          2.6490061,
          2.3559825,
          -1.2966852,
          1.1304808,
          -1.617164,
          -2.8350565,
          3.187379,
          0.20706405,
          2.6317167,
          0.43233737,
          -1.7831867,
          1.7888576,
          -0.2504365,
          -2.3882992,
          0.23180343,
          -0.2873864,
          2.1470678,
          -1.173049,
          2.1906018,
          1.6040019,
          0.79306346,
          0.299402,
          -2.5773113,
          2.7196248,
          -0.58717734,
          2.1996207,
          3.4029553,
          -0.1264938,
          -1.4009405,
          -2.335307,
          4.46228,
          -0.16609277,
          -2.635873,
          0.17174202,
          0.9054761,
          0.45300186,
          1.8240329,
          -0.042196684,
          -2.1913476,
          1.4388016,
          1.8130313,
          0.035725206,
          4.206066,
          0.583115,
          0.07216959,
          -0.023687478,
          0.9157141,
          2.6899123,
          0.8945036,
          4.013686,
          2.3581955,
          0.05778892,
          1.7760402,
          3.5880363,
          -1.4596735,
          -2.6723952,
          -2.4656832,
          1.4569678,
          -0.038122494,
          1.440611,
          2.639247,
          -1.1472385,
          1.9392923,
          3.4585907,
          1.9514818,
          0.35446826,
          -2.0961106,
          3.4376276,
          -0.45020494,
          -0.37686196,
          -0.35830268,
          1.0642116,
          -0.036267333,
          -0.33299124,
          2.2442133,
          -1.2455397,
          0.0032716817,
          0.71996146,
          0.7204973,
          -0.19026776,
          -0.3325324,
          0.97757965,
          -0.37404388,
          0.56749016,
          1.2376572,
          2.5658865,
          0.86041605,
          1.4985085,
          1.0944806,
          3.6423907,
          1.8755608,
          2.9799187,
          0.46770912,
          -0.32395995,
          1.1109164,
          -0.8263571,
          1.5159763,
          -0.2165258,
          1.7043227,
          1.9245741,
          0.37490433,
          -0.9288733,
          3.9161477,
          -0.37665454,
          -1.8313328,
          -0.21610071,
          3.1162682,
          0.26724514,
          0.982865,
          0.44390428,
          -0.38664484,
          2.2553697,
          -1.2815086,
          -1.2561147,
          0.42537263,
          0.16366534,
          1.6920749,
          0.45777786,
          -1.7877197,
          -0.52377933,
          1.625416,
          2.1957026,
          2.162749,
          2.8758278,
          -1.5075339,
          1.5666357,
          4.4280095,
          4.0250916,
          -0.43695912,
          2.5869944,
          -0.08060158,
          -0.015072081,
          3.2631633,
          -0.94898283,
          0.32042783,
          2.6111722,
          2.054773,
          2.3855844,
          3.8318884,
          0.17166862,
          3.9011927,
          -0.24210776,
          0.97652465,
          1.1630214,
          -2.092924,
          -0.9796288,
          2.3476562,
          -2.2858546,
          2.8295405,
          2.5616982,
          -0.17205302,
          3.0648699,
          2.62674,
          0.87824243,
          2.1463141,
          1.9092556,
          -0.5106105,
          2.4085162,
          1.9571985,
          0.95905787,
          -0.72286564,
          -1.7549493,
          0.59111816
         ]
        },
        {
         "legendgroup": "LumB",
         "marker": {
          "color": "#FFA15A"
         },
         "mode": "markers",
         "name": "LumB",
         "showlegend": true,
         "type": "scatter3d",
         "x": [
          3.6568713,
          4.6428685,
          2.426894,
          0.22664928,
          2.6780806,
          -3.772967,
          1.5732872,
          1.5784996,
          2.1807792,
          3.378626,
          2.8415718,
          1.7065499,
          0.9260544,
          2.191925,
          -4.242393,
          4.8857155,
          4.083913,
          0.18099637,
          1.6712067,
          3.9741538,
          0.32391807,
          3.5900753,
          2.9982455,
          2.877702,
          2.4632378,
          3.408939,
          3.9304566,
          0.0068767923,
          -4.054697,
          2.4391258,
          3.9757676,
          -3.6973836,
          3.1009212,
          4.7091904,
          4.170092,
          2.1433733,
          -3.9187796,
          3.7984197,
          3.410369,
          0.9343568,
          2.7347283,
          2.6947508,
          4.648778,
          3.5163352,
          3.8720984,
          3.8646681,
          5.031757,
          4.3499427,
          2.3109791,
          3.1206102,
          3.210036,
          3.362819,
          3.0916653,
          2.5616071,
          1.4913566,
          4.8191123,
          0.8841154,
          3.0500472,
          3.3311844,
          2.216684,
          3.2290726,
          5.320722,
          3.2930133,
          2.6873493,
          4.9139395,
          4.2995415,
          2.422008,
          3.8796663,
          3.3210251,
          2.2870939,
          -1.113632,
          4.1179233,
          1.9861501,
          3.2376735,
          3.896164,
          -0.21403363,
          3.9418054,
          3.9231682,
          3.2107346,
          1.9485595,
          0.40301704,
          0.33505422,
          3.2782428,
          2.9014606,
          2.019918,
          3.640918,
          4.2369704,
          3.3380117,
          3.9103804,
          3.1121457,
          -4.1173806,
          3.3404877,
          3.4872293,
          -1.3747665,
          2.023601,
          4.676434,
          3.3111355,
          2.3755016,
          2.2769938,
          3.4657288,
          1.6448389,
          3.0037556,
          0.8857736,
          3.711843,
          -3.349684,
          0.8247453,
          2.387622,
          4.5706515,
          4.0751424,
          4.7342033,
          3.6819553,
          1.9316999,
          3.0132241,
          3.8638098,
          4.179094,
          3.438971,
          4.2809944,
          4.0129104,
          4.8396664,
          0.92234564,
          2.8609397,
          1.0232631,
          2.6071887,
          1.7072335,
          1.430683,
          2.528773,
          3.9124033,
          0.62093955,
          0.7593754,
          1.5187985,
          -3.503143,
          1.4996443,
          4.1495047,
          2.3275168,
          3.681294,
          4.541821,
          1.5219425,
          2.984656,
          0.8974672,
          3.7683983,
          3.3498826,
          1.5296743,
          2.6971667,
          3.1659007,
          0.47296694,
          2.9296389,
          2.6721008,
          4.419901,
          1.6542851,
          1.0218679,
          -0.28882393,
          1.745133,
          -2.7499132,
          4.760998,
          2.3874266,
          3.5499203,
          -0.46206668,
          3.8767445,
          2.9561694,
          2.3119996,
          0.5409495,
          1.2072703,
          0.19002634,
          4.2553453,
          3.2469025,
          1.9858232,
          3.4444478,
          2.334278,
          4.488956,
          0.84937525,
          2.2176256,
          5.0083737,
          2.9139476,
          4.7933526,
          4.580141,
          3.1588001,
          2.5012307,
          2.7803786,
          0.68450177,
          3.7484007,
          2.611458,
          4.473674,
          1.9920076,
          1.6447272,
          0.16172175,
          4.204635,
          1.4832125,
          3.840066,
          -3.631691,
          4.430909,
          2.953993,
          1.9489764,
          1.1873423,
          2.0334396,
          1.9404202,
          3.4413998,
          0.31029412,
          2.7199564,
          2.3850317,
          0.76959085,
          -0.6394935,
          2.9959097,
          4.193704,
          3.9671998,
          4.2357235,
          3.6070938,
          2.7582617,
          2.0577374,
          2.5034552,
          3.1822853,
          3.7700768,
          2.4396002,
          2.1854296,
          3.2374966,
          3.8963692,
          4.3259096,
          3.9613175,
          -0.54090333,
          2.584197,
          2.4370697,
          3.7142074,
          2.2595491,
          2.6693687,
          3.6566062,
          -3.5755997,
          1.8415946,
          1.2556881,
          0.07401855,
          4.004337,
          1.1739709,
          3.9787815,
          1.898834,
          2.2505596,
          3.6161087,
          3.5362597,
          2.9772606,
          0.4444334,
          2.1184595,
          2.2615693,
          2.123575,
          2.3818233,
          2.415998
         ],
         "xaxis": "x",
         "y": [
          -4.3794374,
          -4.7346535,
          -6.7043877,
          -4.960177,
          -6.8013577,
          -8.455139,
          -6.163812,
          -5.5758157,
          -6.098702,
          -5.1123433,
          -3.420375,
          -3.2137887,
          -3.8157094,
          -5.8569846,
          -8.219347,
          -4.8912635,
          -6.0631747,
          -7.744571,
          -3.1836739,
          -7.606682,
          -4.383346,
          -4.86571,
          -4.9557447,
          -6.1291027,
          -6.3000793,
          -6.612086,
          -8.098035,
          -5.779517,
          -7.065595,
          -7.1268544,
          -5.1469917,
          -7.2551894,
          -7.6236815,
          -4.826134,
          -5.215321,
          -5.0909085,
          -8.799216,
          -6.429995,
          -6.763999,
          -6.7868047,
          -4.8157544,
          -7.07555,
          -5.4318724,
          -6.1414185,
          -5.184633,
          -5.6117396,
          -5.8450813,
          -4.9942074,
          -4.47927,
          -7.889506,
          -5.129023,
          -4.872145,
          -4.499863,
          -4.801672,
          -4.3229713,
          -5.987433,
          -5.279233,
          -3.9030492,
          -7.2168083,
          -3.3186219,
          -5.830476,
          -5.024453,
          -6.1765933,
          -3.6225514,
          -4.743663,
          -6.364191,
          -6.714627,
          -6.1013937,
          -5.473893,
          -6.8368115,
          -3.4607186,
          -5.7774806,
          -4.0974283,
          -4.8858123,
          -4.6016273,
          -5.1369705,
          -4.4332213,
          -6.8607087,
          -6.137262,
          -3.368473,
          -5.7577167,
          -5.2333403,
          -5.9338427,
          -5.6865306,
          -3.6084719,
          -5.2278852,
          -5.242488,
          -7.488158,
          -6.7198477,
          -5.5979056,
          -8.997706,
          -5.191847,
          -4.6331444,
          -4.011107,
          -7.2177625,
          -4.9745493,
          -3.4485002,
          -6.029231,
          -7.3959446,
          -3.9978442,
          -5.278863,
          -4.753871,
          -4.2222223,
          -4.5136204,
          -8.380222,
          -6.410636,
          -4.0906143,
          -6.0970187,
          -4.3318076,
          -5.48832,
          -3.6041124,
          -3.8406622,
          -8.705559,
          -4.905387,
          -6.3563137,
          -4.347118,
          -6.3618474,
          -5.9530797,
          -5.3112273,
          -5.3391333,
          -4.181372,
          -3.1943102,
          -7.3557644,
          -4.601302,
          -7.5538373,
          -7.487926,
          -5.9857144,
          -5.8014264,
          -3.6518118,
          -4.7763314,
          -9.139914,
          -4.8365917,
          -4.418562,
          -4.8148727,
          -5.3063583,
          -4.691358,
          -5.8236113,
          -3.4658835,
          -5.4455533,
          -6.3689175,
          -7.5926747,
          -3.0262697,
          -3.6170373,
          -7.4083424,
          -4.6641088,
          -5.7519784,
          -5.42955,
          -6.1786013,
          -3.4526517,
          -3.686156,
          -5.7385945,
          -6.089131,
          -8.980808,
          -4.778234,
          -3.1177447,
          -8.16923,
          -5.0808,
          -7.3337817,
          -7.6324162,
          -5.466004,
          -6.344433,
          -3.3509507,
          -4.059139,
          -4.4697833,
          -6.593556,
          -4.2475843,
          -8.577219,
          -5.205055,
          -5.0169683,
          -5.126224,
          -5.8942857,
          -5.018664,
          -5.1184173,
          -4.7833366,
          -5.288657,
          -6.657254,
          -7.7068434,
          -7.066934,
          -7.9555235,
          -4.8210106,
          -6.3180504,
          -5.804646,
          -4.202773,
          -4.7334757,
          -3.670232,
          -6.583266,
          -4.6427283,
          -5.6573405,
          -7.2663817,
          -5.6942687,
          -8.50758,
          -3.9151108,
          -7.8832126,
          -5.0847907,
          -4.298729,
          -6.3617277,
          -6.353068,
          -4.8838267,
          -6.124393,
          -4.618279,
          -6.1883936,
          -4.493757,
          -5.8594856,
          -5.375583,
          -7.7835207,
          -5.6545167,
          -5.741153,
          -3.2843294,
          -6.244563,
          -6.6534033,
          -6.3867793,
          -4.5877285,
          -5.7656803,
          -7.0579357,
          -5.0030026,
          -5.272285,
          -4.6400228,
          -6.077943,
          -7.228516,
          -3.748665,
          -4.9559703,
          -4.990045,
          -3.5496564,
          -5.2557974,
          -6.642441,
          -6.876275,
          -3.2463977,
          -5.834358,
          -4.379085,
          -5.4399185,
          -4.836088,
          -3.8841162,
          -6.0778737,
          -8.160616,
          -7.1234565,
          -6.0153823,
          -8.329264,
          -3.2359722,
          -4.374742,
          -5.0017033,
          -7.954443,
          -5.2355614
         ],
         "yaxis": "y",
         "z": [
          2.0258696,
          0.6409439,
          4.172822,
          2.2702732,
          0.991415,
          -0.47591493,
          4.0586114,
          -2.0540278,
          -0.9775281,
          1.9149625,
          0.76186913,
          1.3138918,
          -1.4397074,
          3.065951,
          -0.963149,
          1.5503346,
          2.5517201,
          -0.87718874,
          -0.12588419,
          1.4088645,
          2.8350847,
          3.4264956,
          -0.14755638,
          4.2483964,
          -0.14562772,
          -0.15994112,
          1.472604,
          1.200162,
          0.4925911,
          1.2797935,
          1.8391695,
          1.8875104,
          1.472963,
          1.2787787,
          1.3463424,
          -1.8869834,
          -0.12878977,
          1.6531574,
          1.418663,
          -0.87842304,
          2.3462327,
          1.9830564,
          -0.27450094,
          1.402778,
          3.0029714,
          -0.50203425,
          1.4944392,
          0.26557705,
          0.34847128,
          2.4514682,
          2.9699724,
          0.040124584,
          3.3692434,
          1.145625,
          -0.547588,
          2.0334015,
          -2.3688874,
          -0.15218388,
          0.6188894,
          1.2279503,
          2.815578,
          1.4941376,
          0.0023428919,
          1.934703,
          2.7923598,
          2.1537876,
          -1.4760221,
          2.6138167,
          -2.5106928,
          -0.24113874,
          -1.4810354,
          0.17279203,
          0.0705508,
          -1.2942425,
          -0.8414887,
          1.7067152,
          1.9931225,
          1.0780271,
          2.2034461,
          -1.5661799,
          -0.8258904,
          4.076424,
          3.4668994,
          0.38165724,
          -1.1639901,
          3.233593,
          -0.7087733,
          0.13133349,
          2.3397036,
          3.4556196,
          -0.89451736,
          -0.105867304,
          -1.5276288,
          -1.0669895,
          3.419208,
          0.09585886,
          0.74026924,
          4.1445403,
          0.7773337,
          0.8104373,
          2.6309116,
          -0.51292884,
          -2.599846,
          1.5678841,
          2.673113,
          3.576111,
          1.1600635,
          0.8628301,
          0.71383756,
          2.6076899,
          -0.11148768,
          -0.7978466,
          1.3175439,
          0.6105673,
          3.0716276,
          1.7667112,
          -1.6481935,
          0.08988796,
          1.0304294,
          -0.2523647,
          -1.2180703,
          1.6925215,
          -0.9141809,
          0.62161076,
          4.8502426,
          4.5518966,
          1.8219448,
          1.9220062,
          -0.0906622,
          -1.87782,
          1.8575455,
          -0.2516604,
          0.07732503,
          -1.0854107,
          2.1250758,
          1.8889885,
          2.9041522,
          0.5074842,
          -2.2143056,
          -2.7063766,
          3.111639,
          0.7967118,
          0.27525976,
          3.969112,
          0.7818359,
          3.461111,
          -1.4151973,
          0.90220946,
          -0.08795379,
          2.0484836,
          -1.1730301,
          3.3172402,
          2.7284255,
          1.5897057,
          -0.62677586,
          2.3333201,
          3.1872983,
          1.1024956,
          -1.1277633,
          -2.219535,
          -2.1439345,
          -0.7502508,
          -0.08619533,
          1.0797703,
          2.2876873,
          3.0239313,
          1.3091347,
          3.083719,
          0.79236686,
          0.9630433,
          -0.7284897,
          1.8287315,
          2.0861442,
          2.112173,
          1.5884236,
          -1.5691156,
          2.6207707,
          3.7719963,
          -0.3751643,
          3.7455225,
          1.3503293,
          1.8052895,
          -1.5770662,
          -1.4206331,
          -1.1571115,
          3.0310185,
          3.7774124,
          3.2522137,
          0.41806394,
          0.45414236,
          1.3618625,
          0.5381816,
          4.8489566,
          4.1143036,
          -1.6877431,
          0.76098967,
          -2.826581,
          -0.924951,
          2.8258066,
          -1.2146683,
          -0.31365383,
          3.2885268,
          2.9798114,
          2.3223488,
          1.8449109,
          1.2819434,
          0.9483056,
          -1.4024303,
          1.0629237,
          3.4206352,
          3.161121,
          -0.77315307,
          2.3565085,
          0.7025411,
          0.94328994,
          -0.86022407,
          0.6427199,
          -2.917181,
          -0.2951487,
          -1.7432386,
          3.0149598,
          -0.5623441,
          -0.07413056,
          -1.638287,
          0.07378271,
          -0.21943697,
          -1.0273333,
          -2.2337492,
          2.943789,
          0.14127655,
          -0.46938756,
          2.546577,
          -1.57381,
          1.2214334,
          -2.2195961,
          2.9365053,
          -0.12718293,
          1.6161675,
          0.0158314,
          -1.8123333,
          0.75555533,
          2.624507
         ]
        },
        {
         "legendgroup": "NA",
         "marker": {
          "color": "#19d3f3"
         },
         "mode": "markers",
         "name": "NA",
         "showlegend": true,
         "type": "scatter3d",
         "x": [
          0.23254569,
          -0.55737174,
          -0.92039645,
          -0.03050232,
          -0.3899825,
          -2.0269775,
          -0.5474304,
          -0.623176,
          0.83487934,
          -3.7831032,
          5.1056294,
          -3.7160537,
          -0.33068654,
          0.6744231,
          -0.25662172,
          -1.282184,
          -2.4602783,
          1.5718969,
          3.096148,
          1.7815582,
          4.861216,
          0.6516467,
          -0.84841603,
          -4.136375,
          -0.9279551,
          -0.024859278,
          1.4478735
         ],
         "xaxis": "x",
         "y": [
          -7.9876447,
          -5.9695735,
          -4.127758,
          -5.401659,
          -8.253838,
          -3.8760824,
          -3.550792,
          -3.4055672,
          -5.3442583,
          -3.8148441,
          -5.452458,
          -1.3940024,
          -6.544243,
          -5.5313754,
          -5.03999,
          -3.9903305,
          -4.592861,
          -4.94795,
          -4.843784,
          -5.1891594,
          -4.7552714,
          -4.124555,
          -7.074946,
          -4.913349,
          -5.828563,
          -7.3967133,
          -6.2311783
         ],
         "yaxis": "y",
         "z": [
          0.8122792,
          -2.5408647,
          -1.3165212,
          -2.4872453,
          1.3614742,
          -0.033690687,
          -1.8801122,
          2.4272733,
          -1.676605,
          2.9390004,
          0.60835177,
          2.6507409,
          -2.1078854,
          2.064652,
          -0.8326849,
          1.2804836,
          4.4894056,
          1.3742518,
          -0.072155,
          0.6818544,
          -0.34779206,
          0.8552794,
          0.9076807,
          4.120404,
          1.6818732,
          2.41693,
          -0.44435945
         ]
        },
        {
         "legendgroup": "Normal",
         "marker": {
          "color": "#ab63fa"
         },
         "mode": "markers",
         "name": "Normal",
         "showlegend": true,
         "type": "scatter3d",
         "x": [
          -0.5902302,
          -0.20195587,
          2.3363707,
          -0.14916316,
          -1.1727477,
          0.39041173,
          -3.3229253,
          -3.913109,
          -0.7376837,
          -1.252263,
          -0.33908743,
          -0.1759382,
          0.06919496,
          -1.2274511,
          -1.2655036,
          -0.5672754,
          -0.08646353,
          -2.3782008,
          -0.5060701,
          0.6022463,
          0.90026635,
          -1.2095912,
          1.6489238,
          1.1916801,
          -0.6131464,
          0.44718397,
          1.3803872,
          0.13409613,
          -0.26422143,
          0.24703413,
          -1.573668,
          0.17777601,
          1.5230225,
          1.4469087,
          0.19372569,
          0.61212933,
          1.1736515,
          0.40456638,
          -1.2449954,
          2.9290352,
          -3.0355241,
          0.81422406,
          -0.61235857,
          -0.9845184,
          -1.4222622,
          0.03500155,
          -0.6021418,
          -2.5683186,
          1.316371,
          -0.8113853,
          -0.69131756,
          -1.9024589,
          -0.98023564,
          1.7473024,
          1.0788947,
          -1.7695289,
          -0.5551077,
          -1.2360643,
          -0.08284278,
          -0.7128753,
          -0.97694373,
          1.3461325,
          -0.7377941,
          -2.7731655,
          -1.5178386,
          -1.8739076,
          0.8974815,
          0.6808301,
          2.237629,
          -0.4142889,
          -0.54475135,
          -1.1107405,
          -1.3088733,
          -0.5347543,
          0.8458405,
          -1.3493088,
          -0.9372164,
          -1.544119,
          -3.08251,
          -2.2913291,
          0.21334043,
          -0.47073916,
          -1.4676701,
          -1.5083847,
          1.6075066,
          -1.6656655,
          0.72493225,
          1.3495774,
          -1.0431949,
          -0.5546608,
          0.002970022,
          0.49412876,
          -0.11641404,
          1.0671425,
          0.9633919,
          -1.1844622,
          -0.018116247,
          2.834598,
          -0.5953759,
          0.37949142,
          3.306002,
          -1.2827898,
          -0.7280746,
          -3.0866642,
          0.90800804,
          1.4468524,
          -1.7563181,
          0.5597755,
          -1.2638104,
          -2.1147442,
          -2.9881253,
          -0.50141156,
          0.083496176,
          -0.59764016,
          -1.5092218,
          0.018863183,
          -0.06742022,
          2.2916234,
          1.7158093,
          -1.1502818,
          -0.87427956,
          0.34296238,
          3.5655203,
          -3.1250336,
          -0.4685526,
          -2.6334007,
          -2.5601742,
          2.4245021,
          1.044242,
          1.7875065,
          0.034798477,
          -0.81202716,
          1.0543684,
          -0.49513656
         ],
         "xaxis": "x",
         "y": [
          -7.9256516,
          -6.9393506,
          -7.264593,
          -7.9336,
          -5.919092,
          -7.6540275,
          -8.094017,
          -6.9062247,
          -6.132695,
          -6.7594366,
          -7.36523,
          -6.624589,
          -8.337037,
          -8.186233,
          -5.5832253,
          -7.75934,
          -5.2496524,
          -8.158157,
          -7.2121835,
          -8.129139,
          -7.206763,
          -7.805373,
          -6.213486,
          -6.98051,
          -7.2051377,
          -8.789319,
          -7.6671643,
          -7.3615503,
          -7.4526367,
          -7.337605,
          -5.667972,
          -7.4138575,
          -7.395363,
          -7.3970222,
          -7.640728,
          -7.237053,
          -6.801148,
          -6.796109,
          -6.7638474,
          -4.252337,
          -8.557678,
          -6.1230245,
          -8.3266325,
          -6.419551,
          -6.9704304,
          -7.2278194,
          -6.4255514,
          -5.970522,
          -4.9126678,
          -3.6348767,
          -6.663941,
          -7.6762314,
          -6.4782686,
          -7.0824094,
          -7.0416694,
          -7.4999065,
          -7.060367,
          -4.8726587,
          -7.5105844,
          -5.8919597,
          -6.8640676,
          -6.9709635,
          -8.2934,
          -7.091508,
          -6.8519583,
          -7.9421115,
          -5.5536246,
          -8.405519,
          -3.7841263,
          -7.5082107,
          -8.032648,
          -7.011141,
          -6.826367,
          -7.547859,
          -7.0186253,
          -6.4458423,
          -7.2292047,
          -4.528393,
          -8.376384,
          -6.606072,
          -7.780014,
          -5.586769,
          -6.3058577,
          -7.9001403,
          -5.9028034,
          -5.9752984,
          -7.8243866,
          -5.8707013,
          -4.160415,
          -7.810785,
          -5.6347556,
          -8.655091,
          -5.1715713,
          -4.864886,
          -7.8750386,
          -5.8905983,
          -7.537896,
          -5.230215,
          -7.5263786,
          -5.80179,
          -6.5807176,
          -7.536448,
          -4.899506,
          -7.723113,
          -5.4038363,
          -7.733614,
          -3.8738368,
          -6.376374,
          -6.8277273,
          -7.9448133,
          -7.924216,
          -6.3523254,
          -6.7992215,
          -8.631344,
          -5.276292,
          -6.4045887,
          -5.862867,
          -6.279244,
          -5.7234397,
          -5.040712,
          -7.454229,
          -7.9537973,
          -4.390371,
          -7.009933,
          -5.702194,
          -8.226416,
          -5.5620675,
          -5.709352,
          -7.703722,
          -6.5610294,
          -5.86173,
          -6.6206245,
          -8.405728,
          -4.5014653
         ],
         "yaxis": "y",
         "z": [
          2.7593722,
          3.795118,
          1.9294701,
          1.5429813,
          0.14879532,
          0.7566815,
          2.7271886,
          0.31658167,
          2.7764938,
          1.709986,
          -0.050954062,
          0.6812396,
          3.123216,
          0.60503423,
          -0.9970983,
          3.298129,
          1.7497628,
          2.3981457,
          0.9541315,
          3.2849796,
          2.0608041,
          0.77388585,
          1.7152396,
          0.13462944,
          1.6462752,
          3.340065,
          2.4921818,
          0.4740461,
          3.706467,
          3.1852655,
          1.6041124,
          0.5251478,
          3.6319687,
          2.6351664,
          1.0171646,
          2.3937871,
          4.6582565,
          0.54099655,
          -1.2905881,
          0.26848873,
          2.308684,
          1.5495026,
          1.818736,
          1.2806662,
          0.63718736,
          -0.105611905,
          0.37832206,
          -0.3915087,
          0.05028042,
          -0.8135516,
          2.5208976,
          2.6351237,
          2.7501986,
          0.49488413,
          0.4677032,
          0.7586511,
          -0.9177061,
          -0.7083663,
          -0.238315,
          2.230108,
          -1.3689692,
          -0.011615933,
          0.9841079,
          1.6273415,
          0.2964151,
          1.7736518,
          2.9376228,
          4.444362,
          1.5444131,
          2.9355314,
          2.406084,
          1.7652763,
          3.556765,
          -0.065495506,
          2.697276,
          -1.9874034,
          2.623085,
          1.9462411,
          1.8686389,
          1.012891,
          3.9481971,
          0.70645374,
          0.6463047,
          2.7147923,
          1.9666888,
          0.6153672,
          -0.017170738,
          1.3885477,
          -0.93675756,
          0.45198455,
          -0.9887135,
          4.02066,
          0.5124418,
          1.314718,
          3.0241868,
          -1.3560214,
          3.7527657,
          2.7469099,
          0.26297122,
          2.877079,
          -2.5211456,
          -0.61481625,
          1.1488348,
          3.0472791,
          0.6918775,
          1.3718745,
          0.7647945,
          0.37782365,
          1.5141591,
          1.4040303,
          2.1006987,
          1.8293855,
          1.4451722,
          2.1833966,
          -0.002627126,
          3.0205457,
          -0.48576564,
          -0.6413511,
          2.4543526,
          -1.8997341,
          -1.7348198,
          1.1369516,
          -0.078236476,
          1.1503607,
          1.0631489,
          1.7823015,
          1.1744937,
          4.162193,
          2.438561,
          2.1867352,
          3.5892744,
          2.4360113,
          2.0013275,
          -1.2347466
         ]
        }
       ],
       "frames": [],
       "layout": {
        "legend": {
         "title": {
          "text": "subgroup"
         },
         "tracegroupgap": 0
        },
        "margin": {
         "b": 50,
         "l": 50,
         "r": 50,
         "t": 60
        },
        "template": {
         "data": {
          "bar": [
           {
            "error_x": {
             "color": "#2a3f5f"
            },
            "error_y": {
             "color": "#2a3f5f"
            },
            "marker": {
             "line": {
              "color": "#E5ECF6",
              "width": 0.5
             }
            },
            "type": "bar"
           }
          ],
          "barpolar": [
           {
            "marker": {
             "line": {
              "color": "#E5ECF6",
              "width": 0.5
             }
            },
            "type": "barpolar"
           }
          ],
          "carpet": [
           {
            "aaxis": {
             "endlinecolor": "#2a3f5f",
             "gridcolor": "white",
             "linecolor": "white",
             "minorgridcolor": "white",
             "startlinecolor": "#2a3f5f"
            },
            "baxis": {
             "endlinecolor": "#2a3f5f",
             "gridcolor": "white",
             "linecolor": "white",
             "minorgridcolor": "white",
             "startlinecolor": "#2a3f5f"
            },
            "type": "carpet"
           }
          ],
          "choropleth": [
           {
            "colorbar": {
             "outlinewidth": 0,
             "ticks": ""
            },
            "type": "choropleth"
           }
          ],
          "contour": [
           {
            "colorbar": {
             "outlinewidth": 0,
             "ticks": ""
            },
            "colorscale": [
             [
              0,
              "#0d0887"
             ],
             [
              0.1111111111111111,
              "#46039f"
             ],
             [
              0.2222222222222222,
              "#7201a8"
             ],
             [
              0.3333333333333333,
              "#9c179e"
             ],
             [
              0.4444444444444444,
              "#bd3786"
             ],
             [
              0.5555555555555556,
              "#d8576b"
             ],
             [
              0.6666666666666666,
              "#ed7953"
             ],
             [
              0.7777777777777778,
              "#fb9f3a"
             ],
             [
              0.8888888888888888,
              "#fdca26"
             ],
             [
              1,
              "#f0f921"
             ]
            ],
            "type": "contour"
           }
          ],
          "contourcarpet": [
           {
            "colorbar": {
             "outlinewidth": 0,
             "ticks": ""
            },
            "type": "contourcarpet"
           }
          ],
          "heatmap": [
           {
            "colorbar": {
             "outlinewidth": 0,
             "ticks": ""
            },
            "colorscale": [
             [
              0,
              "#0d0887"
             ],
             [
              0.1111111111111111,
              "#46039f"
             ],
             [
              0.2222222222222222,
              "#7201a8"
             ],
             [
              0.3333333333333333,
              "#9c179e"
             ],
             [
              0.4444444444444444,
              "#bd3786"
             ],
             [
              0.5555555555555556,
              "#d8576b"
             ],
             [
              0.6666666666666666,
              "#ed7953"
             ],
             [
              0.7777777777777778,
              "#fb9f3a"
             ],
             [
              0.8888888888888888,
              "#fdca26"
             ],
             [
              1,
              "#f0f921"
             ]
            ],
            "type": "heatmap"
           }
          ],
          "heatmapgl": [
           {
            "colorbar": {
             "outlinewidth": 0,
             "ticks": ""
            },
            "colorscale": [
             [
              0,
              "#0d0887"
             ],
             [
              0.1111111111111111,
              "#46039f"
             ],
             [
              0.2222222222222222,
              "#7201a8"
             ],
             [
              0.3333333333333333,
              "#9c179e"
             ],
             [
              0.4444444444444444,
              "#bd3786"
             ],
             [
              0.5555555555555556,
              "#d8576b"
             ],
             [
              0.6666666666666666,
              "#ed7953"
             ],
             [
              0.7777777777777778,
              "#fb9f3a"
             ],
             [
              0.8888888888888888,
              "#fdca26"
             ],
             [
              1,
              "#f0f921"
             ]
            ],
            "type": "heatmapgl"
           }
          ],
          "histogram": [
           {
            "marker": {
             "colorbar": {
              "outlinewidth": 0,
              "ticks": ""
             }
            },
            "type": "histogram"
           }
          ],
          "histogram2d": [
           {
            "colorbar": {
             "outlinewidth": 0,
             "ticks": ""
            },
            "colorscale": [
             [
              0,
              "#0d0887"
             ],
             [
              0.1111111111111111,
              "#46039f"
             ],
             [
              0.2222222222222222,
              "#7201a8"
             ],
             [
              0.3333333333333333,
              "#9c179e"
             ],
             [
              0.4444444444444444,
              "#bd3786"
             ],
             [
              0.5555555555555556,
              "#d8576b"
             ],
             [
              0.6666666666666666,
              "#ed7953"
             ],
             [
              0.7777777777777778,
              "#fb9f3a"
             ],
             [
              0.8888888888888888,
              "#fdca26"
             ],
             [
              1,
              "#f0f921"
             ]
            ],
            "type": "histogram2d"
           }
          ],
          "histogram2dcontour": [
           {
            "colorbar": {
             "outlinewidth": 0,
             "ticks": ""
            },
            "colorscale": [
             [
              0,
              "#0d0887"
             ],
             [
              0.1111111111111111,
              "#46039f"
             ],
             [
              0.2222222222222222,
              "#7201a8"
             ],
             [
              0.3333333333333333,
              "#9c179e"
             ],
             [
              0.4444444444444444,
              "#bd3786"
             ],
             [
              0.5555555555555556,
              "#d8576b"
             ],
             [
              0.6666666666666666,
              "#ed7953"
             ],
             [
              0.7777777777777778,
              "#fb9f3a"
             ],
             [
              0.8888888888888888,
              "#fdca26"
             ],
             [
              1,
              "#f0f921"
             ]
            ],
            "type": "histogram2dcontour"
           }
          ],
          "mesh3d": [
           {
            "colorbar": {
             "outlinewidth": 0,
             "ticks": ""
            },
            "type": "mesh3d"
           }
          ],
          "parcoords": [
           {
            "line": {
             "colorbar": {
              "outlinewidth": 0,
              "ticks": ""
             }
            },
            "type": "parcoords"
           }
          ],
          "pie": [
           {
            "automargin": true,
            "type": "pie"
           }
          ],
          "scatter": [
           {
            "marker": {
             "colorbar": {
              "outlinewidth": 0,
              "ticks": ""
             }
            },
            "type": "scatter"
           }
          ],
          "scatter3d": [
           {
            "line": {
             "colorbar": {
              "outlinewidth": 0,
              "ticks": ""
             }
            },
            "marker": {
             "colorbar": {
              "outlinewidth": 0,
              "ticks": ""
             }
            },
            "type": "scatter3d"
           }
          ],
          "scattercarpet": [
           {
            "marker": {
             "colorbar": {
              "outlinewidth": 0,
              "ticks": ""
             }
            },
            "type": "scattercarpet"
           }
          ],
          "scattergeo": [
           {
            "marker": {
             "colorbar": {
              "outlinewidth": 0,
              "ticks": ""
             }
            },
            "type": "scattergeo"
           }
          ],
          "scattergl": [
           {
            "marker": {
             "colorbar": {
              "outlinewidth": 0,
              "ticks": ""
             }
            },
            "type": "scattergl"
           }
          ],
          "scattermapbox": [
           {
            "marker": {
             "colorbar": {
              "outlinewidth": 0,
              "ticks": ""
             }
            },
            "type": "scattermapbox"
           }
          ],
          "scatterpolar": [
           {
            "marker": {
             "colorbar": {
              "outlinewidth": 0,
              "ticks": ""
             }
            },
            "type": "scatterpolar"
           }
          ],
          "scatterpolargl": [
           {
            "marker": {
             "colorbar": {
              "outlinewidth": 0,
              "ticks": ""
             }
            },
            "type": "scatterpolargl"
           }
          ],
          "scatterternary": [
           {
            "marker": {
             "colorbar": {
              "outlinewidth": 0,
              "ticks": ""
             }
            },
            "type": "scatterternary"
           }
          ],
          "surface": [
           {
            "colorbar": {
             "outlinewidth": 0,
             "ticks": ""
            },
            "colorscale": [
             [
              0,
              "#0d0887"
             ],
             [
              0.1111111111111111,
              "#46039f"
             ],
             [
              0.2222222222222222,
              "#7201a8"
             ],
             [
              0.3333333333333333,
              "#9c179e"
             ],
             [
              0.4444444444444444,
              "#bd3786"
             ],
             [
              0.5555555555555556,
              "#d8576b"
             ],
             [
              0.6666666666666666,
              "#ed7953"
             ],
             [
              0.7777777777777778,
              "#fb9f3a"
             ],
             [
              0.8888888888888888,
              "#fdca26"
             ],
             [
              1,
              "#f0f921"
             ]
            ],
            "type": "surface"
           }
          ],
          "table": [
           {
            "cells": {
             "fill": {
              "color": "#EBF0F8"
             },
             "line": {
              "color": "white"
             }
            },
            "header": {
             "fill": {
              "color": "#C8D4E3"
             },
             "line": {
              "color": "white"
             }
            },
            "type": "table"
           }
          ]
         },
         "layout": {
          "annotationdefaults": {
           "arrowcolor": "#2a3f5f",
           "arrowhead": 0,
           "arrowwidth": 1
          },
          "autotypenumbers": "strict",
          "coloraxis": {
           "colorbar": {
            "outlinewidth": 0,
            "ticks": ""
           }
          },
          "colorscale": {
           "diverging": [
            [
             0,
             "#8e0152"
            ],
            [
             0.1,
             "#c51b7d"
            ],
            [
             0.2,
             "#de77ae"
            ],
            [
             0.3,
             "#f1b6da"
            ],
            [
             0.4,
             "#fde0ef"
            ],
            [
             0.5,
             "#f7f7f7"
            ],
            [
             0.6,
             "#e6f5d0"
            ],
            [
             0.7,
             "#b8e186"
            ],
            [
             0.8,
             "#7fbc41"
            ],
            [
             0.9,
             "#4d9221"
            ],
            [
             1,
             "#276419"
            ]
           ],
           "sequential": [
            [
             0,
             "#0d0887"
            ],
            [
             0.1111111111111111,
             "#46039f"
            ],
            [
             0.2222222222222222,
             "#7201a8"
            ],
            [
             0.3333333333333333,
             "#9c179e"
            ],
            [
             0.4444444444444444,
             "#bd3786"
            ],
            [
             0.5555555555555556,
             "#d8576b"
            ],
            [
             0.6666666666666666,
             "#ed7953"
            ],
            [
             0.7777777777777778,
             "#fb9f3a"
            ],
            [
             0.8888888888888888,
             "#fdca26"
            ],
            [
             1,
             "#f0f921"
            ]
           ],
           "sequentialminus": [
            [
             0,
             "#0d0887"
            ],
            [
             0.1111111111111111,
             "#46039f"
            ],
            [
             0.2222222222222222,
             "#7201a8"
            ],
            [
             0.3333333333333333,
             "#9c179e"
            ],
            [
             0.4444444444444444,
             "#bd3786"
            ],
            [
             0.5555555555555556,
             "#d8576b"
            ],
            [
             0.6666666666666666,
             "#ed7953"
            ],
            [
             0.7777777777777778,
             "#fb9f3a"
            ],
            [
             0.8888888888888888,
             "#fdca26"
            ],
            [
             1,
             "#f0f921"
            ]
           ]
          },
          "colorway": [
           "#636efa",
           "#EF553B",
           "#00cc96",
           "#ab63fa",
           "#FFA15A",
           "#19d3f3",
           "#FF6692",
           "#B6E880",
           "#FF97FF",
           "#FECB52"
          ],
          "font": {
           "color": "#2a3f5f"
          },
          "geo": {
           "bgcolor": "white",
           "lakecolor": "white",
           "landcolor": "#E5ECF6",
           "showlakes": true,
           "showland": true,
           "subunitcolor": "white"
          },
          "hoverlabel": {
           "align": "left"
          },
          "hovermode": "closest",
          "mapbox": {
           "style": "light"
          },
          "paper_bgcolor": "white",
          "plot_bgcolor": "#E5ECF6",
          "polar": {
           "angularaxis": {
            "gridcolor": "white",
            "linecolor": "white",
            "ticks": ""
           },
           "bgcolor": "#E5ECF6",
           "radialaxis": {
            "gridcolor": "white",
            "linecolor": "white",
            "ticks": ""
           }
          },
          "scene": {
           "xaxis": {
            "backgroundcolor": "#E5ECF6",
            "gridcolor": "white",
            "gridwidth": 2,
            "linecolor": "white",
            "showbackground": true,
            "ticks": "",
            "zerolinecolor": "white"
           },
           "yaxis": {
            "backgroundcolor": "#E5ECF6",
            "gridcolor": "white",
            "gridwidth": 2,
            "linecolor": "white",
            "showbackground": true,
            "ticks": "",
            "zerolinecolor": "white"
           },
           "zaxis": {
            "backgroundcolor": "#E5ECF6",
            "gridcolor": "white",
            "gridwidth": 2,
            "linecolor": "white",
            "showbackground": true,
            "ticks": "",
            "zerolinecolor": "white"
           }
          },
          "shapedefaults": {
           "line": {
            "color": "#2a3f5f"
           }
          },
          "ternary": {
           "aaxis": {
            "gridcolor": "white",
            "linecolor": "white",
            "ticks": ""
           },
           "baxis": {
            "gridcolor": "white",
            "linecolor": "white",
            "ticks": ""
           },
           "bgcolor": "#E5ECF6",
           "caxis": {
            "gridcolor": "white",
            "linecolor": "white",
            "ticks": ""
           }
          },
          "title": {
           "x": 0.05
          },
          "xaxis": {
           "automargin": true,
           "gridcolor": "white",
           "linecolor": "white",
           "ticks": "",
           "title": {
            "standoff": 15
           },
           "zerolinecolor": "white",
           "zerolinewidth": 2
          },
          "yaxis": {
           "automargin": true,
           "gridcolor": "white",
           "linecolor": "white",
           "ticks": "",
           "title": {
            "standoff": 15
           },
           "zerolinecolor": "white",
           "zerolinewidth": 2
          }
         }
        },
        "xaxis": {
         "title": {
          "text": "x"
         }
        },
        "yaxis": {
         "title": {
          "text": "y"
         }
        }
       }
      },
      "image/png": "[encoded data removed]",
      "image/svg+xml": [
       "<svg class=\"main-svg\" xmlns=\"http://www.w3.org/2000/svg\" xmlns:xlink=\"http://www.w3.org/1999/xlink\" width=\"700\" height=\"500\" style=\"\" viewBox=\"0 0 700 500\"><rect x=\"0\" y=\"0\" width=\"700\" height=\"500\" style=\"fill: rgb(255, 255, 255); fill-opacity: 1;\"/><defs id=\"defs-4ff93b\"><g class=\"clips\"/><g class=\"gradients\"/></defs><g class=\"bglayer\"/><g class=\"layer-below\"><g class=\"imagelayer\"/><g class=\"shapelayer\"/></g><g class=\"cartesianlayer\"/><g class=\"polarlayer\"/><g class=\"ternarylayer\"/><g class=\"geolayer\"/><g class=\"funnelarealayer\"/><g class=\"pielayer\"/><g class=\"treemaplayer\"/><g class=\"sunburstlayer\"/><g class=\"glimages\"><image xmlns=\"http://www.w3.org/2000/svg\" xlink:href=\"data:image/png;base64,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\" x=\"50\" y=\"60\" width=\"543\" height=\"390\" preserveAspectRatio=\"none\"/></g><defs id=\"topdefs-4ff93b\"><g class=\"clips\"/><clipPath id=\"legend4ff93b\"><rect width=\"84\" height=\"140\" x=\"0\" y=\"0\"/></clipPath></defs><g class=\"layer-above\"><g class=\"imagelayer\"/><g class=\"shapelayer\"/></g><g class=\"infolayer\"><g class=\"legend\" pointer-events=\"all\" transform=\"translate(603.86,60)\"><rect class=\"bg\" shape-rendering=\"crispEdges\" width=\"84\" height=\"140\" x=\"0\" y=\"0\" style=\"stroke: rgb(68, 68, 68); stroke-opacity: 1; fill: rgb(255, 255, 255); fill-opacity: 1; stroke-width: 0px;\"/><g class=\"scrollbox\" transform=\"\" clip-path=\"url('#legend4ff93b')\"><text class=\"legendtitletext\" text-anchor=\"start\" x=\"2\" y=\"15.600000000000001\" style=\"font-family: 'Open Sans', verdana, arial, sans-serif; font-size: 12px; fill: rgb(42, 63, 95); fill-opacity: 1; white-space: pre;\">subgroup</text><g class=\"groups\" transform=\"\"><g class=\"traces\" transform=\"translate(0,30.1)\" style=\"opacity: 1;\"><text class=\"legendtext\" text-anchor=\"start\" x=\"40\" y=\"4.680000000000001\" style=\"font-family: 'Open Sans', verdana, arial, sans-serif; font-size: 12px; fill: rgb(42, 63, 95); fill-opacity: 1; white-space: pre;\">Basal</text><g class=\"layers\" style=\"opacity: 1;\"><g class=\"legendfill\"/><g class=\"legendlines\"/><g class=\"legendsymbols\"><g class=\"legendpoints\"><path class=\"scatterpts\" transform=\"translate(20,0)\" d=\"M4,0A4,4 0 1,1 0,-4A4,4 0 0,1 4,0Z\" style=\"opacity: 1; stroke-width: 0px; fill: rgb(239, 85, 59); fill-opacity: 1;\"/></g></g></g><rect class=\"legendtoggle\" x=\"0\" y=\"-9.5\" width=\"78.671875\" height=\"19\" style=\"fill: rgb(0, 0, 0); fill-opacity: 0;\"/></g></g><g class=\"groups\" transform=\"\"><g class=\"traces\" transform=\"translate(0,49.1)\" style=\"opacity: 1;\"><text class=\"legendtext\" text-anchor=\"start\" x=\"40\" y=\"4.680000000000001\" style=\"font-family: 'Open Sans', verdana, arial, sans-serif; font-size: 12px; fill: rgb(42, 63, 95); fill-opacity: 1; white-space: pre;\">Her2</text><g class=\"layers\" style=\"opacity: 1;\"><g class=\"legendfill\"/><g class=\"legendlines\"/><g class=\"legendsymbols\"><g class=\"legendpoints\"><path class=\"scatterpts\" transform=\"translate(20,0)\" d=\"M4,0A4,4 0 1,1 0,-4A4,4 0 0,1 4,0Z\" style=\"opacity: 1; stroke-width: 0px; fill: rgb(0, 204, 150); fill-opacity: 1;\"/></g></g></g><rect class=\"legendtoggle\" x=\"0\" y=\"-9.5\" width=\"78.671875\" height=\"19\" style=\"fill: rgb(0, 0, 0); fill-opacity: 0;\"/></g></g><g class=\"groups\" transform=\"\"><g class=\"traces\" transform=\"translate(0,68.1)\" style=\"opacity: 1;\"><text class=\"legendtext\" text-anchor=\"start\" x=\"40\" y=\"4.680000000000001\" style=\"font-family: 'Open Sans', verdana, arial, sans-serif; font-size: 12px; fill: rgb(42, 63, 95); fill-opacity: 1; white-space: pre;\">LumA</text><g class=\"layers\" style=\"opacity: 1;\"><g class=\"legendfill\"/><g class=\"legendlines\"/><g class=\"legendsymbols\"><g class=\"legendpoints\"><path class=\"scatterpts\" transform=\"translate(20,0)\" d=\"M4,0A4,4 0 1,1 0,-4A4,4 0 0,1 4,0Z\" style=\"opacity: 1; stroke-width: 0px; fill: rgb(99, 110, 250); fill-opacity: 1;\"/></g></g></g><rect class=\"legendtoggle\" x=\"0\" y=\"-9.5\" width=\"78.671875\" height=\"19\" style=\"fill: rgb(0, 0, 0); fill-opacity: 0;\"/></g></g><g class=\"groups\" transform=\"\"><g class=\"traces\" transform=\"translate(0,87.1)\" style=\"opacity: 1;\"><text class=\"legendtext\" text-anchor=\"start\" x=\"40\" y=\"4.680000000000001\" style=\"font-family: 'Open Sans', verdana, arial, sans-serif; font-size: 12px; fill: rgb(42, 63, 95); fill-opacity: 1; white-space: pre;\">LumB</text><g class=\"layers\" style=\"opacity: 1;\"><g class=\"legendfill\"/><g class=\"legendlines\"/><g class=\"legendsymbols\"><g class=\"legendpoints\"><path class=\"scatterpts\" transform=\"translate(20,0)\" d=\"M4,0A4,4 0 1,1 0,-4A4,4 0 0,1 4,0Z\" style=\"opacity: 1; stroke-width: 0px; fill: rgb(255, 161, 90); fill-opacity: 1;\"/></g></g></g><rect class=\"legendtoggle\" x=\"0\" y=\"-9.5\" width=\"78.671875\" height=\"19\" style=\"fill: rgb(0, 0, 0); fill-opacity: 0;\"/></g></g><g class=\"groups\" transform=\"\"><g class=\"traces\" transform=\"translate(0,106.1)\" style=\"opacity: 1;\"><text class=\"legendtext\" text-anchor=\"start\" x=\"40\" y=\"4.680000000000001\" style=\"font-family: 'Open Sans', verdana, arial, sans-serif; font-size: 12px; fill: rgb(42, 63, 95); fill-opacity: 1; white-space: pre;\">NA</text><g class=\"layers\" style=\"opacity: 1;\"><g class=\"legendfill\"/><g class=\"legendlines\"/><g class=\"legendsymbols\"><g class=\"legendpoints\"><path class=\"scatterpts\" transform=\"translate(20,0)\" d=\"M4,0A4,4 0 1,1 0,-4A4,4 0 0,1 4,0Z\" style=\"opacity: 1; stroke-width: 0px; fill: rgb(25, 211, 243); fill-opacity: 1;\"/></g></g></g><rect class=\"legendtoggle\" x=\"0\" y=\"-9.5\" width=\"78.671875\" height=\"19\" style=\"fill: rgb(0, 0, 0); fill-opacity: 0;\"/></g></g><g class=\"groups\" transform=\"\"><g class=\"traces\" transform=\"translate(0,125.1)\" style=\"opacity: 1;\"><text class=\"legendtext\" text-anchor=\"start\" x=\"40\" y=\"4.680000000000001\" style=\"font-family: 'Open Sans', verdana, arial, sans-serif; font-size: 12px; fill: rgb(42, 63, 95); fill-opacity: 1; white-space: pre;\">Normal</text><g class=\"layers\" style=\"opacity: 1;\"><g class=\"legendfill\"/><g class=\"legendlines\"/><g class=\"legendsymbols\"><g class=\"legendpoints\"><path class=\"scatterpts\" transform=\"translate(20,0)\" d=\"M4,0A4,4 0 1,1 0,-4A4,4 0 0,1 4,0Z\" style=\"opacity: 1; stroke-width: 0px; fill: rgb(171, 99, 250); fill-opacity: 1;\"/></g></g></g><rect class=\"legendtoggle\" x=\"0\" y=\"-9.5\" width=\"78.671875\" height=\"19\" style=\"fill: rgb(0, 0, 0); fill-opacity: 0;\"/></g></g></g><rect class=\"scrollbar\" rx=\"20\" ry=\"3\" width=\"0\" height=\"0\" x=\"0\" y=\"0\" style=\"fill: rgb(128, 139, 164); fill-opacity: 1;\"/></g><g class=\"g-gtitle\"/></g></svg>"
      ],
      "text/html": [
       "<div\n",
       "    class=\"webio-mountpoint\"\n",
       "    data-webio-mountpoint=\"12461263755256784711\"\n",
       ">\n",
       "    <script>\n",
       "    (function(){\n",
       "    // Some integrations (namely, IJulia/Jupyter) use an alternate render pathway than\n",
       "    // just putting the html on the page. If WebIO isn't defined, then it's pretty likely\n",
       "    // that we're in one of those situations and the integration just isn't installed\n",
       "    // correctly.\n",
       "    if (typeof window.WebIO === \"undefined\") {\n",
       "        document\n",
       "            .querySelector('[data-webio-mountpoint=\"12461263755256784711\"]')\n",
       "            .innerHTML = (\n",
       "                '<div style=\"padding: 1em; background-color: #f8d6da; border: 1px solid #f5c6cb; font-weight: bold;\">' +\n",
       "                '<p><strong>WebIO not detected.</strong></p>' +\n",
       "                '<p>Please read ' +\n",
       "                '<a href=\"https://juliagizmos.github.io/WebIO.jl/latest/troubleshooting/not-detected/\" target=\"_blank\">the troubleshooting guide</a> ' +\n",
       "                'for more information on how to resolve this issue.</p>' +\n",
       "                '<p><a href=\"https://juliagizmos.github.io/WebIO.jl/latest/troubleshooting/not-detected/\" target=\"_blank\">https://juliagizmos.github.io/WebIO.jl/latest/troubleshooting/not-detected/</a></p>' +\n",
       "                '</div>'\n",
       "            );\n",
       "        return;\n",
       "    }\n",
       "    WebIO.mount(\n",
       "        document.querySelector('[data-webio-mountpoint=\"12461263755256784711\"]'),\n",
       "        {\"props\":{},\"nodeType\":\"Scope\",\"type\":\"node\",\"instanceArgs\":{\"imports\":{\"data\":[{\"name\":\"Plotly\",\"type\":\"js\",\"url\":\"\\/assetserver\\/ebc2568819c45230b18ee19270dfc0cc82744584-plotly.min.js\"},{\"name\":null,\"type\":\"js\",\"url\":\"\\/assetserver\\/227691613ecb7cfbcd71a984c241099bdc549b0a-plotly_webio.bundle.js\"}],\"type\":\"async_block\"},\"id\":\"12396800900232147122\",\"handlers\":{\"_toImage\":[\"(function (options){return this.Plotly.toImage(this.plotElem,options).then((function (data){return WebIO.setval({\\\"name\\\":\\\"image\\\",\\\"scope\\\":\\\"12396800900232147122\\\",\\\"id\\\":\\\"7037901618062534997\\\",\\\"type\\\":\\\"observable\\\"},data)}))})\"],\"__get_gd_contents\":[\"(function (prop){prop==\\\"data\\\" ? (WebIO.setval({\\\"name\\\":\\\"__gd_contents\\\",\\\"scope\\\":\\\"12396800900232147122\\\",\\\"id\\\":\\\"15924441536061395249\\\",\\\"type\\\":\\\"observable\\\"},this.plotElem.data)) : undefined; return prop==\\\"layout\\\" ? (WebIO.setval({\\\"name\\\":\\\"__gd_contents\\\",\\\"scope\\\":\\\"12396800900232147122\\\",\\\"id\\\":\\\"15924441536061395249\\\",\\\"type\\\":\\\"observable\\\"},this.plotElem.layout)) : undefined})\"],\"_downloadImage\":[\"(function (options){return this.Plotly.downloadImage(this.plotElem,options)})\"],\"_commands\":[\"(function (args){var fn=args.shift(); var elem=this.plotElem; var Plotly=this.Plotly; args.unshift(elem); return Plotly[fn].apply(this,args)})\"]},\"systemjs_options\":null,\"mount_callbacks\":[\"function () {\\n    var handler = ((function (Plotly,PlotlyWebIO){PlotlyWebIO.init(WebIO); var gd=this.dom.querySelector(\\\"#plot-ba52d365-df27-482b-9381-930dd1823c6c\\\"); this.plotElem=gd; this.Plotly=Plotly; (window.Blink!==undefined) ? (gd.style.width=\\\"100%\\\", gd.style.height=\\\"100vh\\\", gd.style.marginLeft=\\\"0%\\\", gd.style.marginTop=\\\"0vh\\\") : undefined; window.onresize=(function (){return Plotly.Plots.resize(gd)}); Plotly.newPlot(gd,[{\\\"showlegend\\\":true,\\\"mode\\\":\\\"markers\\\",\\\"xaxis\\\":\\\"x\\\",\\\"name\\\":\\\"Basal\\\",\\\"yaxis\\\":\\\"y\\\",\\\"z\\\":[2.1184013,3.8046741,4.596787,3.4538372,2.0359144,2.5661898,2.1281228,4.1457343,1.5779215,2.78518,1.6100317,4.2285075,1.488204,3.1697936,3.1047277,2.1575997,3.7747438,1.074568,3.708787,4.653144,3.8829348,2.998918,5.0027113,2.2092023,1.7796835,2.9134398,2.2419395,1.847004,4.7571797,3.575987,4.4041724,3.6742601,4.293103,1.1433868,4.6180973,-1.8712499,3.251183,2.920953,3.2747798,4.468676,3.5350938,4.099715,1.5330544,4.1716332,3.6538393,1.5914497,3.3115654,4.654927,1.8585873,3.9527402,2.1534684,-1.3676156,0.11070454,1.477933,1.2454451,2.7377427,3.3102994,3.6014996,4.6585093,4.447258,2.6304193,4.41795,2.8985534,3.7390397,3.564111,4.0333486,2.5066137,3.7543938,2.170606,1.6876844,0.02089876,4.154138,3.5752325,4.6021943,2.2249532,3.0028272,4.6762013,3.5512767,3.046849,4.3237505,3.068539,-0.30013576,4.6383796,3.9795532,4.7553453,2.9572012,4.0191655,3.689763,2.9531322,4.178351,4.912724,1.9693472,2.0485132,0.41803962,2.6692908,4.6723304,4.467192,1.5112386,2.9010596,3.0198092,5.1110735,0.51256925,4.250608,3.8312743,2.3676457,1.6482071,4.2518973,-0.76650023,4.6168056,1.7610419,2.5291955,-0.87717664,3.4071953,3.6422825,2.1537974,4.5228033,4.300922,2.334264,3.1353447,5.0780225,-0.3004461,2.9910169,1.6711304,4.643212,2.9940352,2.7291913,4.818854,4.5241575,4.0730324,3.1190875,2.3015027,4.4069777,1.0689054,3.1742146,4.0610523,-1.0296484,2.0884573,2.2639773,4.8629045,2.898402,1.2518582,3.1390631,2.9171486,2.955288,-0.6571636,3.655086,1.6556393,3.2765083,2.879617,2.1508453,4.9580793,3.3193076,5.2276273,2.947927,2.1559913,2.704016,4.7563643,4.6278944,1.2589709,0.20711863,2.1956453,4.273705,3.7612278,4.573001,1.6590099,-0.09593877,3.6967719,1.5643221,1.7385445,2.3677855,2.2354376,3.9051657,4.6610765,4.8097024,2.7669408,4.037554,2.4901476,4.5750437,4.679968,2.7449508,1.7842013,3.5977144,4.6444964,1.6455289,1.8247843,3.3242445,2.2736032,1.7282166,3.5312777,-0.23604904,2.3630047,1.6978378,1.9130826,4.6067595,2.2457104,3.2248964,4.9716644,2.0405157,1.6484362,3.5749626,1.7848389,2.0363977,2.3135166,3.4326239,4.15427,3.9208846,3.290295,3.3174841,4.9649963,4.8261647,3.192353,5.01366,5.273385,1.7751889,4.597744,2.6018994,5.201162,2.5098717],\\\"legendgroup\\\":\\\"Basal\\\",\\\"marker\\\":{\\\"color\\\":\\\"#EF553B\\\"},\\\"y\\\":[-6.60135,-4.796716,-3.2599676,-3.6228445,-2.6923587,-5.2915735,-4.5338583,-4.4598417,-6.5873566,-3.147529,-3.067307,-5.661151,-2.6432176,-1.9720535,-4.7026744,-2.8240912,-3.4784403,-2.3582969,-5.350803,-4.9396935,-2.2548857,-1.7058135,-4.585333,-8.648928,-3.6137996,-3.9338486,-1.9021755,-2.4471958,-5.5924277,-2.0235243,-3.4583294,-6.1721354,-5.4066043,-3.4839244,-2.7041316,-4.176518,-2.9620738,-1.6883655,-1.7337385,-4.194185,-3.05979,-2.247604,-3.931307,-3.920973,-3.4763193,-3.3172677,-4.5155225,-7.271601,-4.9245257,-3.1838477,-4.0140114,-3.2354364,-7.0609846,-2.7373805,-5.185927,-4.549332,-4.4132733,-2.8457952,-4.1250567,-4.098861,-5.2605767,-4.592904,-2.3904686,-2.6147509,-3.8614295,-4.4409213,-3.5321257,-4.1061063,-4.0043287,-1.777343,-7.49774,-2.9316137,-4.414288,-4.23088,-2.6048977,-5.189703,-4.4559174,-5.747709,-4.0724998,-5.997725,-3.8622696,-7.370027,-4.914216,-5.2618937,-4.4455585,-2.6254597,-2.0385926,-5.0204053,-5.658633,-5.273802,-3.6883876,-2.3648183,-3.384661,-3.2404253,-4.5311313,-2.664259,-4.5794544,-2.5788133,-2.3769407,-4.403015,-4.7857394,-5.8784757,-4.659182,-5.2513213,-3.0693734,-3.3557906,-2.9564161,-6.9456377,-2.0206544,-3.8083837,-5.298818,-3.8829832,-3.6469474,-6.988158,-5.279206,-4.5633335,-2.004236,-2.7297828,-2.1849983,-5.6691847,-8.272565,-3.4285789,-3.6975777,-5.06642,-3.5528677,-4.055176,-4.733333,-3.3280272,-2.574099,-2.017691,-1.9353986,-5.407533,-8.24461,-3.2338996,-3.6605756,-8.84515,-8.504942,-2.4357204,-3.8334637,-5.142146,-7.1995406,-4.289751,-5.0829215,-3.6563463,-8.3008375,-4.4047146,-2.1114593,-4.8105783,-2.43658,-2.6462655,-5.175542,-4.019874,-5.309019,-5.0688825,-4.406945,-2.412426,-5.259013,-4.1007805,-4.107355,-4.3734007,-6.893358,-3.9504085,-3.0426092,-5.1804523,-2.1836257,-6.6845236,-2.899756,-3.3827546,-5.3106966,-4.196299,-3.2117965,-3.2822833,-3.2299523,-4.8482656,-1.5816085,-5.021059,-3.1209962,-3.401368,-3.267601,-5.127301,-4.550282,-3.947026,-5.8255243,-2.963752,-2.2420516,-3.4783888,-4.5229874,-2.0356493,-4.108471,-3.8028514,-8.820499,-4.045554,-5.2154074,-5.1096134,-3.2298908,-2.5291035,-4.763713,-2.2195952,-2.8190527,-1.8759314,-2.4367611,-3.5639129,-3.104538,-2.5700734,-2.3375528,-5.550577,-2.276028,-3.324982,-4.2858186,-3.6114283,-2.3294592,-3.433824,-5.057539,-3.3431444,-2.996939,-3.9093428,-4.666164,-6.0871387],\\\"type\\\":\\\"scatter3d\\\",\\\"x\\\":[-3.4652884,-2.7814727,-2.426305,-4.363992,-5.030421,-1.3315583,-4.7178483,-4.992428,2.3749864,-5.322024,2.2340286,-4.723894,-4.4551277,-3.2310758,-5.354539,-3.8874767,-2.6177275,-4.2275553,-4.213525,-4.4641094,-3.8831916,-3.3261647,-3.3019512,-2.9147816,-4.9151173,-2.4483173,-4.523391,-3.045437,-2.3267205,-4.0032234,-2.99304,1.972094,-4.367805,-2.901015,-3.9714887,-0.23144616,-4.83696,-4.200283,-3.4349074,-4.513812,-4.4570436,-3.2856545,-1.7241145,-3.7884638,-4.246795,-2.8228457,-4.616653,0.6446005,-2.0158057,-5.497431,-3.0602636,-1.257096,0.40369186,-3.9933314,-1.3182358,-4.503084,-4.9295735,-3.5004425,-2.4841034,-4.8349485,-1.099057,-3.866476,-4.1560836,-4.7724333,-4.0866923,-0.9012964,-4.3148465,-5.484198,-3.9787686,-4.216532,-3.9937012,-2.5428932,-1.071642,-3.1985934,-4.86937,-0.24531066,-4.7683725,-2.3883882,-4.511813,-1.6295035,-5.361997,2.4112074,-3.9382286,-1.7733175,-4.1291485,-4.3473654,-4.233496,-5.3514543,-3.9842222,-2.3235192,-3.6220865,-4.3066974,-4.272599,-2.0024958,-5.6655006,-3.0409338,-5.1289253,-3.1758742,-4.204662,-4.4343915,-2.541196,0.59820455,-5.135343,-4.877734,-4.816435,2.0224411,-2.8859148,0.94114065,-3.9224284,-2.2740011,2.636976,-1.887915,-5.095407,0.7521607,-2.747408,-3.042717,-3.5114167,-3.0879936,-3.2617266,-3.2080321,-3.613945,-3.0494173,-4.4495425,-2.6452014,-4.8936844,-3.8140523,-3.2181873,-4.743995,-3.4629066,-3.6290581,-4.491321,-3.1405206,-3.219189,-4.2476716,-5.097174,-4.07385,-3.9825828,-3.4812458,-4.6077805,-2.3780506,0.17287375,-4.982103,-4.72647,-4.9251328,-3.8884807,-3.9738345,-4.713693,-5.015887,-5.0976534,-5.23857,-4.0728846,-5.085702,-2.9821613,-5.069074,-5.368895,-4.1730437,-3.2201967,-4.9439116,-1.9853426,-1.2604665,1.383776,-5.3286095,-3.183021,-4.7717032,-3.970054,-3.2037172,-2.7515829,-3.7709897,0.5511606,-1.597217,-1.4856076,-4.4613414,-3.7878544,-2.2123556,-3.860887,-2.8557692,-3.863192,-4.5316815,-4.1632905,-4.195151,-3.2688286,-5.595766,-2.0249476,-4.688556,-4.3909965,-1.9653788,0.5641174,-3.7106273,-2.999957,-2.6186798,-3.4678788,-3.856558,-1.2430408,-3.3058484,-3.6013937,-4.9145775,-2.8154664,-4.09753,-3.4087925,-2.9201272,-4.2223163,-2.9714463,-3.3945246,-3.9576561,-4.3428497,-3.6966865,-3.270265,-5.211734,-2.173148,-4.608301,-3.0030897,-3.8875103,-3.673692,-5.1982856,-3.7069757,-4.697947,-4.563128,-0.41418782]},{\\\"showlegend\\\":true,\\\"mode\\\":\\\"markers\\\",\\\"xaxis\\\":\\\"x\\\",\\\"name\\\":\\\"Her2\\\",\\\"yaxis\\\":\\\"y\\\",\\\"z\\\":[0.6111813,2.628004,3.1902068,-0.07213331,0.78234154,0.07170137,-1.5390738,4.2370973,3.6326036,3.7762017,1.4380538,-0.06709034,-1.4046483,2.4032874,2.2635305,1.9892895,1.521971,3.334927,3.3436484,2.4684658,2.2384968,2.411664,-2.2167068,2.4555972,2.060434,1.9986486,3.5575345,1.2245654,1.8990365,2.8781955,2.3231964,2.314714,1.2266573,-0.6959677,0.9162714,-0.6603122,0.18918352,2.078254,2.6764035,-0.34250498,-0.25139248,1.7807549,0.5041165,3.625541,2.5042956,0.2818377,0.24458921,1.8125752,0.9856163,0.9908362,-0.40475184,0.2628589,4.6314316,4.214188,4.4882803,1.5465863,3.8051767,3.2763636,2.321303,3.0238621,1.1818229,-0.18033727,2.663004,1.5389458,2.4188547,2.844696,-0.99192584,1.6647136,2.4189699,4.011867,-0.48895454,-1.8635426,0.29260764,1.1323292,3.71936,1.4382223,1.6912225,3.1292644,0.657077,2.4806855,3.3992317,4.702532,3.2703946,3.8056664,2.675478,3.809451,2.4056153,3.280259,0.2979007,1.568565,3.5445678,1.4382833,2.115758,1.3348913,3.386111,3.0775824,-1.4916129,2.2412663,0.9753088,-1.8049275,-1.6806782,2.4165528,3.336751,0.4147647,3.292701,1.4967191,2.8250039,2.3231578,3.3227944,-0.4892983,2.0229208,3.9119818,2.5220203,3.3491185,3.235381,3.8375185,3.0167966,-1.390861,-1.2179203,2.229204,4.3941336,2.872096,3.4477289,4.0256567,0.9179932,-1.9626701,-2.363232,1.9090075,3.233402,-0.2735787,2.4534726,1.0622588,4.4478235],\\\"legendgroup\\\":\\\"Her2\\\",\\\"marker\\\":{\\\"color\\\":\\\"#00cc96\\\"},\\\"y\\\":[-3.2936249,-5.039085,-4.079367,-3.1157749,-3.3683512,-4.091316,-4.891791,-5.3318353,-5.0603867,-6.4442863,-4.3334365,-4.2334795,-6.8810296,-5.6959167,-7.5131416,-4.28264,-7.0872254,-4.474034,-4.454772,-3.1522431,-4.0542626,-4.1005735,-4.2045493,-3.326569,-5.199161,-3.5460262,-6.099805,-6.099787,-5.379658,-3.7404523,-4.64671,-5.414839,-4.1585054,-8.469162,-5.028445,-3.5193746,-3.6321461,-3.3082683,-4.373239,-3.0258877,-3.1393595,-6.4680824,-8.511244,-4.6584406,-4.50526,-3.822642,-3.9220438,-5.8401437,-3.3454182,-3.9269557,-7.8092704,-4.315091,-6.4327555,-5.1982007,-5.769679,-3.9595902,-5.6940303,-3.7490056,-3.936507,-4.439752,-4.4925866,-4.2724667,-6.4248996,-3.3503566,-4.3043094,-4.3648205,-3.7606273,-6.3104844,-3.9186704,-8.447142,-4.442545,-6.915972,-5.203424,-9.119218,-5.505562,-4.6283875,-4.512777,-4.367227,-3.8397806,-3.942436,-4.653097,-6.0233717,-4.316568,-4.842119,-5.330782,-5.2420387,-4.2061086,-4.670532,-3.9981103,-3.8681653,-5.0785484,-4.1323676,-3.616733,-4.247528,-5.0996447,-4.047213,-2.9687073,-5.178661,-3.8181677,-5.421007,-3.80913,-4.9762316,-6.659598,-6.4781733,-4.698044,-3.4024491,-4.437422,-3.4210718,-3.6355097,-5.5249586,-4.7060227,-4.0145187,-5.1003084,-3.4913924,-4.1650925,-5.555738,-4.385065,-4.389122,-3.341294,-3.8005095,-7.6063156,-3.737816,-4.6536093,-5.4545336,-6.0682116,-6.096562,-5.5292244,-2.9436672,-6.1014943,-4.237091,-6.9151096,-7.803099,-6.922053],\\\"type\\\":\\\"scatter3d\\\",\\\"x\\\":[-0.2950136,1.3097714,-0.7161276,-0.047232818,-1.2493488,0.003244328,-1.3569177,3.5282032,2.3687892,1.8203071,3.481046,-1.9812924,-0.8576485,3.6597304,-2.8477707,-0.52358097,-3.5484357,2.4900117,-1.0702626,-0.8356823,1.6931474,1.3984251,1.4815564,-1.1752789,2.4045124,-1.1825244,3.7104936,1.681905,0.6817621,-0.11050415,3.1658452,1.5218239,0.1211006,-3.9474146,1.7157344,1.1620874,-0.31044286,-0.53068674,2.5051014,0.8647235,-1.4045694,-2.6928585,-3.9730642,2.0959687,-0.49855867,-0.7322842,0.6745091,2.4435706,-0.3980497,-0.3726036,-3.7378552,1.6224823,0.98588496,3.0280347,1.3294618,2.076348,2.1077235,0.22016877,-0.26975217,3.549873,2.5872746,1.4220368,1.294111,-1.6095834,-1.1008224,1.0560124,0.6985587,1.7097716,2.3237875,2.2866426,0.011513974,-0.2670369,0.87968487,-3.8474448,0.6819056,1.4893092,1.6726037,-0.66818416,0.5174621,3.19685,-0.51527226,0.41025546,4.5336714,1.7254325,1.0220517,3.1788404,-1.6603653,0.7768316,0.9379858,0.37796223,1.3670173,-1.7367228,-1.0293136,-1.0364139,0.8285271,-0.12440183,0.24559028,0.8022583,-1.9902442,0.87559813,-1.0359342,2.0031168,1.2465918,1.8946089,-0.06445576,-1.1530007,2.1422367,0.27305984,-0.8443863,1.3292876,2.3288703,-0.16803351,1.9272344,-0.43408936,1.4725214,2.2941296,1.0367352,0.68185604,-0.4511547,-1.1378455,2.5116172,-0.9482719,0.414826,2.2196646,2.3625438,-1.1887977,-1.0855328,-1.8643289,1.8507024,-1.830836,-3.1953375,0.94906026,2.0914714]},{\\\"showlegend\\\":true,\\\"mode\\\":\\\"markers\\\",\\\"xaxis\\\":\\\"x\\\",\\\"name\\\":\\\"LumA\\\",\\\"yaxis\\\":\\\"y\\\",\\\"z\\\":[-0.7343749,2.5968697,1.0959684,1.8648962,-0.049362756,-0.07925327,2.6959567,1.471287,-0.18548198,-2.8082447,-0.34511054,2.1767933,3.7654583,-0.7188464,0.7670636,0.87915266,-2.0630767,0.45493644,3.0457366,-2.1544588,-0.58835065,-1.2050571,0.2902166,0.40679237,2.9687371,-1.8712345,3.3738346,1.1200304,1.6223,1.0500137,0.8384268,1.8203155,2.069519,0.46734196,1.9539913,-1.4234974,0.34751156,0.6230184,-1.8764019,-0.9146494,-1.5595921,-0.55281174,1.042699,1.128289,1.276262,0.4871316,0.120487295,-1.1836139,2.8939366,0.13687323,-1.1296284,-0.079202496,-1.3907644,3.0528307,1.7755579,2.2745721,2.609605,-1.4056811,-0.58131814,1.5620874,2.8987937,0.7665622,0.9552927,2.117402,0.2658158,3.3863575,2.369176,1.3469437,0.86217767,-1.1625155,0.88057154,2.2333405,-0.29742652,-0.030364184,-0.7115088,3.4285252,2.1434178,0.020969529,-0.117898345,0.6503128,2.4493883,1.3747631,-1.0392376,3.5347404,0.7911518,0.15454496,0.8260107,-0.8029401,4.2739105,1.0958204,4.066892,-2.635916,-0.69605815,-1.4764112,-1.6577368,0.20758921,0.40796334,2.6334426,-0.259946,1.2563916,-1.8751295,1.7271451,4.3940253,3.875622,3.006442,3.8708959,-2.3841271,0.53327215,1.0103431,1.2859651,4.3021193,-0.96782017,-0.087374486,1.6206994,1.8411528,-0.63132274,-1.035832,2.4668827,-2.3423529,1.5790443,2.7483091,-0.8157092,4.0100303,0.19768411,1.8203857,1.2405051,2.233802,2.495527,-0.6712319,2.2996118,0.9908199,-1.5314091,-1.2968029,2.6490061,2.3559825,-1.2966852,1.1304808,-1.617164,-2.8350565,3.187379,0.20706405,2.6317167,0.43233737,-1.7831867,1.7888576,-0.2504365,-2.3882992,0.23180343,-0.2873864,2.1470678,-1.173049,2.1906018,1.6040019,0.79306346,0.299402,-2.5773113,2.7196248,-0.58717734,2.1996207,3.4029553,-0.1264938,-1.4009405,-2.335307,4.46228,-0.16609277,-2.635873,0.17174202,0.9054761,0.45300186,1.8240329,-0.042196684,-2.1913476,1.4388016,1.8130313,0.035725206,4.206066,0.583115,0.07216959,-0.023687478,0.9157141,2.6899123,0.8945036,4.013686,2.3581955,0.05778892,1.7760402,3.5880363,-1.4596735,-2.6723952,-2.4656832,1.4569678,-0.038122494,1.440611,2.639247,-1.1472385,1.9392923,3.4585907,1.9514818,0.35446826,-2.0961106,3.4376276,-0.45020494,-0.37686196,-0.35830268,1.0642116,-0.036267333,-0.33299124,2.2442133,-1.2455397,0.0032716817,0.71996146,0.7204973,-0.19026776,-0.3325324,0.97757965,-0.37404388,0.56749016,1.2376572,2.5658865,0.86041605,1.4985085,1.0944806,3.6423907,1.8755608,2.9799187,0.46770912,-0.32395995,1.1109164,-0.8263571,1.5159763,-0.2165258,1.7043227,1.9245741,0.37490433,-0.9288733,3.9161477,-0.37665454,-1.8313328,-0.21610071,3.1162682,0.26724514,0.982865,0.44390428,-0.38664484,2.2553697,-1.2815086,-1.2561147,0.42537263,0.16366534,1.6920749,0.45777786,-1.7877197,-0.52377933,1.625416,2.1957026,2.162749,2.8758278,-1.5075339,1.5666357,4.4280095,4.0250916,-0.43695912,2.5869944,-0.08060158,-0.015072081,3.2631633,-0.94898283,0.32042783,2.6111722,2.054773,2.3855844,3.8318884,0.17166862,3.9011927,-0.24210776,0.97652465,1.1630214,-2.092924,-0.9796288,2.3476562,-2.2858546,2.8295405,2.5616982,-0.17205302,3.0648699,2.62674,0.87824243,2.1463141,1.9092556,-0.5106105,2.4085162,1.9571985,0.95905787,-0.72286564,-1.7549493,0.59111816],\\\"legendgroup\\\":\\\"LumA\\\",\\\"marker\\\":{\\\"color\\\":\\\"#636efa\\\"},\\\"y\\\":[-6.7953167,-8.730827,-6.0907474,-7.4543304,-5.959628,-6.854002,-7.4149785,-6.7510967,-7.117736,-6.4192524,-5.0538535,-7.0081916,-6.426988,-6.238189,-6.0642805,-6.404621,-3.3260071,-6.6671896,-8.522968,-6.687955,-5.33006,-5.678301,-7.8338394,-4.7410016,-8.594831,-4.507305,-7.2225814,-7.9385686,-7.9318347,-7.63846,-4.553187,-4.323939,-6.9334025,-5.5595684,-5.9036827,-5.485823,-6.8875155,-8.396369,-3.891649,-6.92713,-5.524737,-5.4428062,-5.7743263,-5.9752293,-7.5050864,-5.920766,-4.499905,-6.79751,-6.632885,-4.390994,-4.8813066,-7.427427,-3.799058,-6.9653864,-7.670569,-8.461567,-7.6236916,-7.525363,-6.601951,-7.21644,-6.836622,-4.385399,-7.2477493,-8.767566,-6.2907915,-6.7922945,-7.413738,-7.636316,-6.5159135,-7.262036,-5.817787,-6.3907075,-4.914399,-4.590625,-7.093019,-5.530967,-6.3292813,-6.5917883,-9.040191,-7.3583198,-7.368344,-7.699963,-4.3551226,-8.154157,-6.8614564,-7.9026337,-4.5195427,-5.7144275,-7.122229,-6.8051333,-8.143728,-5.7967525,-5.885063,-4.4212823,-3.3663647,-6.2927847,-5.5492644,-6.3936534,-6.2349024,-7.802878,-4.220033,-7.738369,-7.9729857,-7.623609,-6.670559,-7.522873,-5.7103434,-5.0447345,-5.0882945,-8.229315,-8.102306,-8.015374,-8.117033,-8.792538,-5.6139536,-7.823157,-7.0131655,-7.527283,-5.434879,-5.2499146,-7.981484,-6.31995,-7.9307337,-5.6779995,-5.117556,-5.4453096,-6.927939,-8.048409,-4.2848797,-6.436131,-6.984223,-6.4750304,-5.9094424,-6.710962,-8.077961,-6.5870814,-5.8417263,-7.2128954,-6.0020103,-8.35499,-8.072823,-5.7915382,-6.676469,-6.7766376,-7.8796825,-4.447259,-6.1170406,-3.9231243,-6.0272202,-8.3412485,-3.6859748,-9.165958,-7.812737,-5.343551,-4.690461,-5.748858,-6.598097,-7.3823586,-6.092621,-8.346576,-6.207929,-5.0589967,-6.051967,-7.148658,-5.172659,-6.2871094,-5.70619,-5.611862,-6.2743645,-5.686407,-6.1417723,-4.075505,-6.366394,-8.039121,-3.455413,-7.594183,-6.3635745,-5.9462585,-5.470263,-8.122316,-7.296036,-8.490308,-8.798928,-8.412664,-5.5667467,-7.486709,-8.588899,-5.625452,-6.177475,-6.1216135,-6.1632223,-7.8037267,-5.541392,-8.172335,-7.4822364,-6.6267986,-8.822958,-8.41547,-4.8909526,-6.726618,-7.135078,-4.1825285,-6.2725306,-4.5355635,-8.050913,-5.881221,-6.1993227,-3.87222,-6.24162,-5.7894382,-5.9390388,-6.7474856,-5.6002846,-5.092191,-7.9392247,-7.2918224,-8.482457,-7.4983916,-7.539261,-6.5979557,-6.782454,-3.6971962,-6.1952796,-7.228391,-6.393441,-4.497633,-7.059163,-7.6580462,-4.453814,-8.373145,-7.697725,-8.279164,-8.121926,-7.0950665,-6.132784,-6.953264,-7.9249644,-5.921027,-7.225065,-7.7853665,-5.2967277,-3.7172067,-5.535364,-5.433042,-7.2395563,-3.6908593,-3.8203027,-7.539256,-5.4703536,-6.8023543,-8.181196,-6.066027,-7.5179896,-7.682405,-6.6139717,-5.5721517,-6.8439183,-4.516803,-5.250725,-7.6111627,-7.4909754,-7.486178,-5.590741,-4.0662756,-7.4273443,-8.057257,-5.150551,-5.511815,-7.2943177,-6.345107,-6.7103405,-6.8134804,-8.132589,-6.0876493,-5.750066,-7.6901975,-6.6220536,-6.6801233,-4.501675,-6.7392898,-3.7350407,-6.245345,-7.259728,-5.671376,-6.0486264,-8.46056,-8.315868,-6.166702,-6.9972997,-7.2057486,-7.161875,-5.9962397,-5.183879,-5.5919657,-5.622505,-4.758613],\\\"type\\\":\\\"scatter3d\\\",\\\"x\\\":[2.948724,2.3970022,2.5280797,3.6611772,3.1618156,4.4385834,1.9991835,-0.13665979,1.6737074,0.027854688,0.699457,0.571369,1.0915221,3.5527077,4.1811914,0.22691695,0.49267322,2.193996,1.8427993,1.3085908,-0.6378618,1.3534852,1.2408172,2.5442863,1.1860135,0.03616428,0.39724436,2.0142775,-2.642092,2.923263,2.5655248,1.1265398,2.9144418,2.4253426,1.4600741,0.5191467,2.0884287,2.7562745,0.55724514,3.1320472,0.71766037,2.0777278,3.1139057,3.0381458,-4.116206,-1.4501724,3.0479772,2.7933137,2.0992103,1.3055968,0.6012429,1.0310403,2.650114,1.6044204,-0.024085386,1.9313343,0.5583301,3.1188452,2.1487603,1.9168308,-0.5625544,1.1162299,-4.1693788,2.4425223,3.0772555,2.5097508,1.7424648,2.9206834,3.348623,-0.3995402,0.27081802,3.6041114,2.3818383,0.9701544,3.7830505,0.8082277,0.9917087,-3.6461558,-3.9935496,3.2587268,0.20397592,-4.3680167,1.0984024,2.6289933,-4.006432,2.1398056,-0.6827068,1.7624257,-0.113032885,4.2914433,1.5621299,3.9396996,0.9927228,1.9703526,0.6962728,0.699486,2.2023647,0.9829005,0.59076595,1.7732975,-1.0104697,2.4844613,1.0912815,1.4994632,0.42151392,2.4877055,1.185628,2.6850536,2.6883633,3.9750826,1.7020802,-4.0640764,-4.2534947,-3.9590275,0.05070276,0.8204427,4.2454653,3.1234126,-0.35265586,-0.58542705,1.2895808,1.9511046,1.8687589,2.1984248,2.2150092,2.1332717,1.2766294,1.5824196,3.1334229,0.50432783,1.3930614,3.648539,3.0569303,1.650347,2.0253034,2.4674606,1.1036255,0.52834666,3.3055093,2.2170305,3.0142913,2.01838,1.1019751,1.8906783,2.6115272,1.7981023,1.8247406,0.3717533,3.0511093,-3.3111227,-0.16462238,-3.6056764,1.5873636,-0.3487697,3.7446878,3.000897,1.8143722,1.5891778,2.4367769,0.09918622,-0.8244364,2.8183572,0.33997455,1.9950875,-0.65944624,-0.30161828,0.95798653,2.2138817,0.22307003,-0.783938,3.8916728,0.5343574,1.114826,1.3925573,1.9512535,2.134351,-0.17160793,0.61777556,-0.3565087,-4.2699585,1.9644408,3.627318,0.394865,1.5796022,-0.6434324,-2.6098962,1.3794892,3.0773573,3.911124,1.7599378,2.2097805,0.8892383,1.3990446,2.5522354,1.9357241,2.326271,1.241722,1.0990956,2.695321,-0.8561305,0.41931555,2.1214266,-0.21233487,-0.5503471,3.8438973,1.3533049,0.15509474,2.0217652,4.004979,0.9148944,4.388255,-0.52068466,2.035557,0.20417216,1.9903142,-4.0116854,0.2443215,-2.8524349,0.2995157,-3.1710606,1.0790137,2.5577266,0.30391777,-3.1836247,2.1496112,2.0299497,1.5076134,1.0857378,1.6413232,2.1229362,-4.0792007,2.4174557,2.146321,1.8911908,1.3176892,3.1876037,3.2593994,2.0071483,3.3609912,2.5756676,1.7469156,1.4530941,3.262674,3.2384775,-3.395704,1.5019717,-0.08503415,2.982633,2.6949494,4.13369,-0.29469702,-0.47560382,1.4981356,3.5613003,0.68807554,1.4711126,3.2635195,0.7474897,0.024598746,2.7536879,2.4556284,3.3047931,4.546348,3.681305,2.1980093,0.46718365,1.5707453,3.729137,-3.3727357,2.804168,2.454784,1.81913,3.9548924,0.8488941,-1.3978082,2.9984167,4.6080527,3.3892608,2.2853918,2.829103,1.3480995,0.018575896,1.5214363,1.3860321,0.29444805,2.7322164,3.6664824,3.6636746,-0.077911995,0.124906085,3.5573604,3.6660864,-0.8210095,0.9075474,3.7071457,0.7849741]},{\\\"showlegend\\\":true,\\\"mode\\\":\\\"markers\\\",\\\"xaxis\\\":\\\"x\\\",\\\"name\\\":\\\"LumB\\\",\\\"yaxis\\\":\\\"y\\\",\\\"z\\\":[2.0258696,0.6409439,4.172822,2.2702732,0.991415,-0.47591493,4.0586114,-2.0540278,-0.9775281,1.9149625,0.76186913,1.3138918,-1.4397074,3.065951,-0.963149,1.5503346,2.5517201,-0.87718874,-0.12588419,1.4088645,2.8350847,3.4264956,-0.14755638,4.2483964,-0.14562772,-0.15994112,1.472604,1.200162,0.4925911,1.2797935,1.8391695,1.8875104,1.472963,1.2787787,1.3463424,-1.8869834,-0.12878977,1.6531574,1.418663,-0.87842304,2.3462327,1.9830564,-0.27450094,1.402778,3.0029714,-0.50203425,1.4944392,0.26557705,0.34847128,2.4514682,2.9699724,0.040124584,3.3692434,1.145625,-0.547588,2.0334015,-2.3688874,-0.15218388,0.6188894,1.2279503,2.815578,1.4941376,0.0023428919,1.934703,2.7923598,2.1537876,-1.4760221,2.6138167,-2.5106928,-0.24113874,-1.4810354,0.17279203,0.0705508,-1.2942425,-0.8414887,1.7067152,1.9931225,1.0780271,2.2034461,-1.5661799,-0.8258904,4.076424,3.4668994,0.38165724,-1.1639901,3.233593,-0.7087733,0.13133349,2.3397036,3.4556196,-0.89451736,-0.105867304,-1.5276288,-1.0669895,3.419208,0.09585886,0.74026924,4.1445403,0.7773337,0.8104373,2.6309116,-0.51292884,-2.599846,1.5678841,2.673113,3.576111,1.1600635,0.8628301,0.71383756,2.6076899,-0.11148768,-0.7978466,1.3175439,0.6105673,3.0716276,1.7667112,-1.6481935,0.08988796,1.0304294,-0.2523647,-1.2180703,1.6925215,-0.9141809,0.62161076,4.8502426,4.5518966,1.8219448,1.9220062,-0.0906622,-1.87782,1.8575455,-0.2516604,0.07732503,-1.0854107,2.1250758,1.8889885,2.9041522,0.5074842,-2.2143056,-2.7063766,3.111639,0.7967118,0.27525976,3.969112,0.7818359,3.461111,-1.4151973,0.90220946,-0.08795379,2.0484836,-1.1730301,3.3172402,2.7284255,1.5897057,-0.62677586,2.3333201,3.1872983,1.1024956,-1.1277633,-2.219535,-2.1439345,-0.7502508,-0.08619533,1.0797703,2.2876873,3.0239313,1.3091347,3.083719,0.79236686,0.9630433,-0.7284897,1.8287315,2.0861442,2.112173,1.5884236,-1.5691156,2.6207707,3.7719963,-0.3751643,3.7455225,1.3503293,1.8052895,-1.5770662,-1.4206331,-1.1571115,3.0310185,3.7774124,3.2522137,0.41806394,0.45414236,1.3618625,0.5381816,4.8489566,4.1143036,-1.6877431,0.76098967,-2.826581,-0.924951,2.8258066,-1.2146683,-0.31365383,3.2885268,2.9798114,2.3223488,1.8449109,1.2819434,0.9483056,-1.4024303,1.0629237,3.4206352,3.161121,-0.77315307,2.3565085,0.7025411,0.94328994,-0.86022407,0.6427199,-2.917181,-0.2951487,-1.7432386,3.0149598,-0.5623441,-0.07413056,-1.638287,0.07378271,-0.21943697,-1.0273333,-2.2337492,2.943789,0.14127655,-0.46938756,2.546577,-1.57381,1.2214334,-2.2195961,2.9365053,-0.12718293,1.6161675,0.0158314,-1.8123333,0.75555533,2.624507],\\\"legendgroup\\\":\\\"LumB\\\",\\\"marker\\\":{\\\"color\\\":\\\"#FFA15A\\\"},\\\"y\\\":[-4.3794374,-4.7346535,-6.7043877,-4.960177,-6.8013577,-8.455139,-6.163812,-5.5758157,-6.098702,-5.1123433,-3.420375,-3.2137887,-3.8157094,-5.8569846,-8.219347,-4.8912635,-6.0631747,-7.744571,-3.1836739,-7.606682,-4.383346,-4.86571,-4.9557447,-6.1291027,-6.3000793,-6.612086,-8.098035,-5.779517,-7.065595,-7.1268544,-5.1469917,-7.2551894,-7.6236815,-4.826134,-5.215321,-5.0909085,-8.799216,-6.429995,-6.763999,-6.7868047,-4.8157544,-7.07555,-5.4318724,-6.1414185,-5.184633,-5.6117396,-5.8450813,-4.9942074,-4.47927,-7.889506,-5.129023,-4.872145,-4.499863,-4.801672,-4.3229713,-5.987433,-5.279233,-3.9030492,-7.2168083,-3.3186219,-5.830476,-5.024453,-6.1765933,-3.6225514,-4.743663,-6.364191,-6.714627,-6.1013937,-5.473893,-6.8368115,-3.4607186,-5.7774806,-4.0974283,-4.8858123,-4.6016273,-5.1369705,-4.4332213,-6.8607087,-6.137262,-3.368473,-5.7577167,-5.2333403,-5.9338427,-5.6865306,-3.6084719,-5.2278852,-5.242488,-7.488158,-6.7198477,-5.5979056,-8.997706,-5.191847,-4.6331444,-4.011107,-7.2177625,-4.9745493,-3.4485002,-6.029231,-7.3959446,-3.9978442,-5.278863,-4.753871,-4.2222223,-4.5136204,-8.380222,-6.410636,-4.0906143,-6.0970187,-4.3318076,-5.48832,-3.6041124,-3.8406622,-8.705559,-4.905387,-6.3563137,-4.347118,-6.3618474,-5.9530797,-5.3112273,-5.3391333,-4.181372,-3.1943102,-7.3557644,-4.601302,-7.5538373,-7.487926,-5.9857144,-5.8014264,-3.6518118,-4.7763314,-9.139914,-4.8365917,-4.418562,-4.8148727,-5.3063583,-4.691358,-5.8236113,-3.4658835,-5.4455533,-6.3689175,-7.5926747,-3.0262697,-3.6170373,-7.4083424,-4.6641088,-5.7519784,-5.42955,-6.1786013,-3.4526517,-3.686156,-5.7385945,-6.089131,-8.980808,-4.778234,-3.1177447,-8.16923,-5.0808,-7.3337817,-7.6324162,-5.466004,-6.344433,-3.3509507,-4.059139,-4.4697833,-6.593556,-4.2475843,-8.577219,-5.205055,-5.0169683,-5.126224,-5.8942857,-5.018664,-5.1184173,-4.7833366,-5.288657,-6.657254,-7.7068434,-7.066934,-7.9555235,-4.8210106,-6.3180504,-5.804646,-4.202773,-4.7334757,-3.670232,-6.583266,-4.6427283,-5.6573405,-7.2663817,-5.6942687,-8.50758,-3.9151108,-7.8832126,-5.0847907,-4.298729,-6.3617277,-6.353068,-4.8838267,-6.124393,-4.618279,-6.1883936,-4.493757,-5.8594856,-5.375583,-7.7835207,-5.6545167,-5.741153,-3.2843294,-6.244563,-6.6534033,-6.3867793,-4.5877285,-5.7656803,-7.0579357,-5.0030026,-5.272285,-4.6400228,-6.077943,-7.228516,-3.748665,-4.9559703,-4.990045,-3.5496564,-5.2557974,-6.642441,-6.876275,-3.2463977,-5.834358,-4.379085,-5.4399185,-4.836088,-3.8841162,-6.0778737,-8.160616,-7.1234565,-6.0153823,-8.329264,-3.2359722,-4.374742,-5.0017033,-7.954443,-5.2355614],\\\"type\\\":\\\"scatter3d\\\",\\\"x\\\":[3.6568713,4.6428685,2.426894,0.22664928,2.6780806,-3.772967,1.5732872,1.5784996,2.1807792,3.378626,2.8415718,1.7065499,0.9260544,2.191925,-4.242393,4.8857155,4.083913,0.18099637,1.6712067,3.9741538,0.32391807,3.5900753,2.9982455,2.877702,2.4632378,3.408939,3.9304566,0.0068767923,-4.054697,2.4391258,3.9757676,-3.6973836,3.1009212,4.7091904,4.170092,2.1433733,-3.9187796,3.7984197,3.410369,0.9343568,2.7347283,2.6947508,4.648778,3.5163352,3.8720984,3.8646681,5.031757,4.3499427,2.3109791,3.1206102,3.210036,3.362819,3.0916653,2.5616071,1.4913566,4.8191123,0.8841154,3.0500472,3.3311844,2.216684,3.2290726,5.320722,3.2930133,2.6873493,4.9139395,4.2995415,2.422008,3.8796663,3.3210251,2.2870939,-1.113632,4.1179233,1.9861501,3.2376735,3.896164,-0.21403363,3.9418054,3.9231682,3.2107346,1.9485595,0.40301704,0.33505422,3.2782428,2.9014606,2.019918,3.640918,4.2369704,3.3380117,3.9103804,3.1121457,-4.1173806,3.3404877,3.4872293,-1.3747665,2.023601,4.676434,3.3111355,2.3755016,2.2769938,3.4657288,1.6448389,3.0037556,0.8857736,3.711843,-3.349684,0.8247453,2.387622,4.5706515,4.0751424,4.7342033,3.6819553,1.9316999,3.0132241,3.8638098,4.179094,3.438971,4.2809944,4.0129104,4.8396664,0.92234564,2.8609397,1.0232631,2.6071887,1.7072335,1.430683,2.528773,3.9124033,0.62093955,0.7593754,1.5187985,-3.503143,1.4996443,4.1495047,2.3275168,3.681294,4.541821,1.5219425,2.984656,0.8974672,3.7683983,3.3498826,1.5296743,2.6971667,3.1659007,0.47296694,2.9296389,2.6721008,4.419901,1.6542851,1.0218679,-0.28882393,1.745133,-2.7499132,4.760998,2.3874266,3.5499203,-0.46206668,3.8767445,2.9561694,2.3119996,0.5409495,1.2072703,0.19002634,4.2553453,3.2469025,1.9858232,3.4444478,2.334278,4.488956,0.84937525,2.2176256,5.0083737,2.9139476,4.7933526,4.580141,3.1588001,2.5012307,2.7803786,0.68450177,3.7484007,2.611458,4.473674,1.9920076,1.6447272,0.16172175,4.204635,1.4832125,3.840066,-3.631691,4.430909,2.953993,1.9489764,1.1873423,2.0334396,1.9404202,3.4413998,0.31029412,2.7199564,2.3850317,0.76959085,-0.6394935,2.9959097,4.193704,3.9671998,4.2357235,3.6070938,2.7582617,2.0577374,2.5034552,3.1822853,3.7700768,2.4396002,2.1854296,3.2374966,3.8963692,4.3259096,3.9613175,-0.54090333,2.584197,2.4370697,3.7142074,2.2595491,2.6693687,3.6566062,-3.5755997,1.8415946,1.2556881,0.07401855,4.004337,1.1739709,3.9787815,1.898834,2.2505596,3.6161087,3.5362597,2.9772606,0.4444334,2.1184595,2.2615693,2.123575,2.3818233,2.415998]},{\\\"showlegend\\\":true,\\\"mode\\\":\\\"markers\\\",\\\"xaxis\\\":\\\"x\\\",\\\"name\\\":\\\"NA\\\",\\\"yaxis\\\":\\\"y\\\",\\\"z\\\":[0.8122792,-2.5408647,-1.3165212,-2.4872453,1.3614742,-0.033690687,-1.8801122,2.4272733,-1.676605,2.9390004,0.60835177,2.6507409,-2.1078854,2.064652,-0.8326849,1.2804836,4.4894056,1.3742518,-0.072155,0.6818544,-0.34779206,0.8552794,0.9076807,4.120404,1.6818732,2.41693,-0.44435945],\\\"legendgroup\\\":\\\"NA\\\",\\\"marker\\\":{\\\"color\\\":\\\"#19d3f3\\\"},\\\"y\\\":[-7.9876447,-5.9695735,-4.127758,-5.401659,-8.253838,-3.8760824,-3.550792,-3.4055672,-5.3442583,-3.8148441,-5.452458,-1.3940024,-6.544243,-5.5313754,-5.03999,-3.9903305,-4.592861,-4.94795,-4.843784,-5.1891594,-4.7552714,-4.124555,-7.074946,-4.913349,-5.828563,-7.3967133,-6.2311783],\\\"type\\\":\\\"scatter3d\\\",\\\"x\\\":[0.23254569,-0.55737174,-0.92039645,-0.03050232,-0.3899825,-2.0269775,-0.5474304,-0.623176,0.83487934,-3.7831032,5.1056294,-3.7160537,-0.33068654,0.6744231,-0.25662172,-1.282184,-2.4602783,1.5718969,3.096148,1.7815582,4.861216,0.6516467,-0.84841603,-4.136375,-0.9279551,-0.024859278,1.4478735]},{\\\"showlegend\\\":true,\\\"mode\\\":\\\"markers\\\",\\\"xaxis\\\":\\\"x\\\",\\\"name\\\":\\\"Normal\\\",\\\"yaxis\\\":\\\"y\\\",\\\"z\\\":[2.7593722,3.795118,1.9294701,1.5429813,0.14879532,0.7566815,2.7271886,0.31658167,2.7764938,1.709986,-0.050954062,0.6812396,3.123216,0.60503423,-0.9970983,3.298129,1.7497628,2.3981457,0.9541315,3.2849796,2.0608041,0.77388585,1.7152396,0.13462944,1.6462752,3.340065,2.4921818,0.4740461,3.706467,3.1852655,1.6041124,0.5251478,3.6319687,2.6351664,1.0171646,2.3937871,4.6582565,0.54099655,-1.2905881,0.26848873,2.308684,1.5495026,1.818736,1.2806662,0.63718736,-0.105611905,0.37832206,-0.3915087,0.05028042,-0.8135516,2.5208976,2.6351237,2.7501986,0.49488413,0.4677032,0.7586511,-0.9177061,-0.7083663,-0.238315,2.230108,-1.3689692,-0.011615933,0.9841079,1.6273415,0.2964151,1.7736518,2.9376228,4.444362,1.5444131,2.9355314,2.406084,1.7652763,3.556765,-0.065495506,2.697276,-1.9874034,2.623085,1.9462411,1.8686389,1.012891,3.9481971,0.70645374,0.6463047,2.7147923,1.9666888,0.6153672,-0.017170738,1.3885477,-0.93675756,0.45198455,-0.9887135,4.02066,0.5124418,1.314718,3.0241868,-1.3560214,3.7527657,2.7469099,0.26297122,2.877079,-2.5211456,-0.61481625,1.1488348,3.0472791,0.6918775,1.3718745,0.7647945,0.37782365,1.5141591,1.4040303,2.1006987,1.8293855,1.4451722,2.1833966,-0.002627126,3.0205457,-0.48576564,-0.6413511,2.4543526,-1.8997341,-1.7348198,1.1369516,-0.078236476,1.1503607,1.0631489,1.7823015,1.1744937,4.162193,2.438561,2.1867352,3.5892744,2.4360113,2.0013275,-1.2347466],\\\"legendgroup\\\":\\\"Normal\\\",\\\"marker\\\":{\\\"color\\\":\\\"#ab63fa\\\"},\\\"y\\\":[-7.9256516,-6.9393506,-7.264593,-7.9336,-5.919092,-7.6540275,-8.094017,-6.9062247,-6.132695,-6.7594366,-7.36523,-6.624589,-8.337037,-8.186233,-5.5832253,-7.75934,-5.2496524,-8.158157,-7.2121835,-8.129139,-7.206763,-7.805373,-6.213486,-6.98051,-7.2051377,-8.789319,-7.6671643,-7.3615503,-7.4526367,-7.337605,-5.667972,-7.4138575,-7.395363,-7.3970222,-7.640728,-7.237053,-6.801148,-6.796109,-6.7638474,-4.252337,-8.557678,-6.1230245,-8.3266325,-6.419551,-6.9704304,-7.2278194,-6.4255514,-5.970522,-4.9126678,-3.6348767,-6.663941,-7.6762314,-6.4782686,-7.0824094,-7.0416694,-7.4999065,-7.060367,-4.8726587,-7.5105844,-5.8919597,-6.8640676,-6.9709635,-8.2934,-7.091508,-6.8519583,-7.9421115,-5.5536246,-8.405519,-3.7841263,-7.5082107,-8.032648,-7.011141,-6.826367,-7.547859,-7.0186253,-6.4458423,-7.2292047,-4.528393,-8.376384,-6.606072,-7.780014,-5.586769,-6.3058577,-7.9001403,-5.9028034,-5.9752984,-7.8243866,-5.8707013,-4.160415,-7.810785,-5.6347556,-8.655091,-5.1715713,-4.864886,-7.8750386,-5.8905983,-7.537896,-5.230215,-7.5263786,-5.80179,-6.5807176,-7.536448,-4.899506,-7.723113,-5.4038363,-7.733614,-3.8738368,-6.376374,-6.8277273,-7.9448133,-7.924216,-6.3523254,-6.7992215,-8.631344,-5.276292,-6.4045887,-5.862867,-6.279244,-5.7234397,-5.040712,-7.454229,-7.9537973,-4.390371,-7.009933,-5.702194,-8.226416,-5.5620675,-5.709352,-7.703722,-6.5610294,-5.86173,-6.6206245,-8.405728,-4.5014653],\\\"type\\\":\\\"scatter3d\\\",\\\"x\\\":[-0.5902302,-0.20195587,2.3363707,-0.14916316,-1.1727477,0.39041173,-3.3229253,-3.913109,-0.7376837,-1.252263,-0.33908743,-0.1759382,0.06919496,-1.2274511,-1.2655036,-0.5672754,-0.08646353,-2.3782008,-0.5060701,0.6022463,0.90026635,-1.2095912,1.6489238,1.1916801,-0.6131464,0.44718397,1.3803872,0.13409613,-0.26422143,0.24703413,-1.573668,0.17777601,1.5230225,1.4469087,0.19372569,0.61212933,1.1736515,0.40456638,-1.2449954,2.9290352,-3.0355241,0.81422406,-0.61235857,-0.9845184,-1.4222622,0.03500155,-0.6021418,-2.5683186,1.316371,-0.8113853,-0.69131756,-1.9024589,-0.98023564,1.7473024,1.0788947,-1.7695289,-0.5551077,-1.2360643,-0.08284278,-0.7128753,-0.97694373,1.3461325,-0.7377941,-2.7731655,-1.5178386,-1.8739076,0.8974815,0.6808301,2.237629,-0.4142889,-0.54475135,-1.1107405,-1.3088733,-0.5347543,0.8458405,-1.3493088,-0.9372164,-1.544119,-3.08251,-2.2913291,0.21334043,-0.47073916,-1.4676701,-1.5083847,1.6075066,-1.6656655,0.72493225,1.3495774,-1.0431949,-0.5546608,0.002970022,0.49412876,-0.11641404,1.0671425,0.9633919,-1.1844622,-0.018116247,2.834598,-0.5953759,0.37949142,3.306002,-1.2827898,-0.7280746,-3.0866642,0.90800804,1.4468524,-1.7563181,0.5597755,-1.2638104,-2.1147442,-2.9881253,-0.50141156,0.083496176,-0.59764016,-1.5092218,0.018863183,-0.06742022,2.2916234,1.7158093,-1.1502818,-0.87427956,0.34296238,3.5655203,-3.1250336,-0.4685526,-2.6334007,-2.5601742,2.4245021,1.044242,1.7875065,0.034798477,-0.81202716,1.0543684,-0.49513656]}],{\\\"xaxis\\\":{\\\"title\\\":{\\\"text\\\":\\\"x\\\"}},\\\"template\\\":{\\\"layout\\\":{\\\"coloraxis\\\":{\\\"colorbar\\\":{\\\"ticks\\\":\\\"\\\",\\\"outlinewidth\\\":0}},\\\"xaxis\\\":{\\\"gridcolor\\\":\\\"white\\\",\\\"zerolinewidth\\\":2,\\\"title\\\":{\\\"standoff\\\":15},\\\"ticks\\\":\\\"\\\",\\\"zerolinecolor\\\":\\\"white\\\",\\\"automargin\\\":true,\\\"linecolor\\\":\\\"white\\\"},\\\"hovermode\\\":\\\"closest\\\",\\\"paper_bgcolor\\\":\\\"white\\\",\\\"geo\\\":{\\\"showlakes\\\":true,\\\"showland\\\":true,\\\"landcolor\\\":\\\"#E5ECF6\\\",\\\"bgcolor\\\":\\\"white\\\",\\\"subunitcolor\\\":\\\"white\\\",\\\"lakecolor\\\":\\\"white\\\"},\\\"colorscale\\\":{\\\"sequential\\\":[[0.0,\\\"#0d0887\\\"],[0.1111111111111111,\\\"#46039f\\\"],[0.2222222222222222,\\\"#7201a8\\\"],[0.3333333333333333,\\\"#9c179e\\\"],[0.4444444444444444,\\\"#bd3786\\\"],[0.5555555555555556,\\\"#d8576b\\\"],[0.6666666666666666,\\\"#ed7953\\\"],[0.7777777777777778,\\\"#fb9f3a\\\"],[0.8888888888888888,\\\"#fdca26\\\"],[1.0,\\\"#f0f921\\\"]],\\\"diverging\\\":[[0,\\\"#8e0152\\\"],[0.1,\\\"#c51b7d\\\"],[0.2,\\\"#de77ae\\\"],[0.3,\\\"#f1b6da\\\"],[0.4,\\\"#fde0ef\\\"],[0.5,\\\"#f7f7f7\\\"],[0.6,\\\"#e6f5d0\\\"],[0.7,\\\"#b8e186\\\"],[0.8,\\\"#7fbc41\\\"],[0.9,\\\"#4d9221\\\"],[1,\\\"#276419\\\"]],\\\"sequentialminus\\\":[[0.0,\\\"#0d0887\\\"],[0.1111111111111111,\\\"#46039f\\\"],[0.2222222222222222,\\\"#7201a8\\\"],[0.3333333333333333,\\\"#9c179e\\\"],[0.4444444444444444,\\\"#bd3786\\\"],[0.5555555555555556,\\\"#d8576b\\\"],[0.6666666666666666,\\\"#ed7953\\\"],[0.7777777777777778,\\\"#fb9f3a\\\"],[0.8888888888888888,\\\"#fdca26\\\"],[1.0,\\\"#f0f921\\\"]]},\\\"yaxis\\\":{\\\"gridcolor\\\":\\\"white\\\",\\\"zerolinewidth\\\":2,\\\"title\\\":{\\\"standoff\\\":15},\\\"ticks\\\":\\\"\\\",\\\"zerolinecolor\\\":\\\"white\\\",\\\"automargin\\\":true,\\\"linecolor\\\":\\\"white\\\"},\\\"shapedefaults\\\":{\\\"line\\\":{\\\"color\\\":\\\"#2a3f5f\\\"}},\\\"hoverlabel\\\":{\\\"align\\\":\\\"left\\\"},\\\"mapbox\\\":{\\\"style\\\":\\\"light\\\"},\\\"polar\\\":{\\\"angularaxis\\\":{\\\"gridcolor\\\":\\\"white\\\",\\\"ticks\\\":\\\"\\\",\\\"linecolor\\\":\\\"white\\\"},\\\"bgcolor\\\":\\\"#E5ECF6\\\",\\\"radialaxis\\\":{\\\"gridcolor\\\":\\\"white\\\",\\\"ticks\\\":\\\"\\\",\\\"linecolor\\\":\\\"white\\\"}},\\\"autotypenumbers\\\":\\\"strict\\\",\\\"font\\\":{\\\"color\\\":\\\"#2a3f5f\\\"},\\\"ternary\\\":{\\\"baxis\\\":{\\\"gridcolor\\\":\\\"white\\\",\\\"ticks\\\":\\\"\\\",\\\"linecolor\\\":\\\"white\\\"},\\\"bgcolor\\\":\\\"#E5ECF6\\\",\\\"caxis\\\":{\\\"gridcolor\\\":\\\"white\\\",\\\"ticks\\\":\\\"\\\",\\\"linecolor\\\":\\\"white\\\"},\\\"aaxis\\\":{\\\"gridcolor\\\":\\\"white\\\",\\\"ticks\\\":\\\"\\\",\\\"linecolor\\\":\\\"white\\\"}},\\\"annotationdefaults\\\":{\\\"arrowhead\\\":0,\\\"arrowwidth\\\":1,\\\"arrowcolor\\\":\\\"#2a3f5f\\\"},\\\"plot_bgcolor\\\":\\\"#E5ECF6\\\",\\\"title\\\":{\\\"x\\\":0.05},\\\"scene\\\":{\\\"xaxis\\\":{\\\"gridcolor\\\":\\\"white\\\",\\\"gridwidth\\\":2,\\\"backgroundcolor\\\":\\\"#E5ECF6\\\",\\\"ticks\\\":\\\"\\\",\\\"showbackground\\\":true,\\\"zerolinecolor\\\":\\\"white\\\",\\\"linecolor\\\":\\\"white\\\"},\\\"zaxis\\\":{\\\"gridcolor\\\":\\\"white\\\",\\\"gridwidth\\\":2,\\\"backgroundcolor\\\":\\\"#E5ECF6\\\",\\\"ticks\\\":\\\"\\\",\\\"showbackground\\\":true,\\\"zerolinecolor\\\":\\\"white\\\",\\\"linecolor\\\":\\\"white\\\"},\\\"yaxis\\\":{\\\"gridcolor\\\":\\\"white\\\",\\\"gridwidth\\\":2,\\\"backgroundcolor\\\":\\\"#E5ECF6\\\",\\\"ticks\\\":\\\"\\\",\\\"showbackground\\\":true,\\\"zerolinecolor\\\":\\\"white\\\",\\\"linecolor\\\":\\\"white\\\"}},\\\"colorway\\\":[\\\"#636efa\\\",\\\"#EF553B\\\",\\\"#00cc96\\\",\\\"#ab63fa\\\",\\\"#FFA15A\\\",\\\"#19d3f3\\\",\\\"#FF6692\\\",\\\"#B6E880\\\",\\\"#FF97FF\\\",\\\"#FECB52\\\"]},\\\"data\\\":{\\\"barpolar\\\":[{\\\"type\\\":\\\"barpolar\\\",\\\"marker\\\":{\\\"line\\\":{\\\"color\\\":\\\"#E5ECF6\\\",\\\"width\\\":0.5}}}],\\\"carpet\\\":[{\\\"aaxis\\\":{\\\"gridcolor\\\":\\\"white\\\",\\\"endlinecolor\\\":\\\"#2a3f5f\\\",\\\"minorgridcolor\\\":\\\"white\\\",\\\"startlinecolor\\\":\\\"#2a3f5f\\\",\\\"linecolor\\\":\\\"white\\\"},\\\"type\\\":\\\"carpet\\\",\\\"baxis\\\":{\\\"gridcolor\\\":\\\"white\\\",\\\"endlinecolor\\\":\\\"#2a3f5f\\\",\\\"minorgridcolor\\\":\\\"white\\\",\\\"startlinecolor\\\":\\\"#2a3f5f\\\",\\\"linecolor\\\":\\\"white\\\"}}],\\\"scatterpolar\\\":[{\\\"type\\\":\\\"scatterpolar\\\",\\\"marker\\\":{\\\"colorbar\\\":{\\\"ticks\\\":\\\"\\\",\\\"outlinewidth\\\":0}}}],\\\"parcoords\\\":[{\\\"line\\\":{\\\"colorbar\\\":{\\\"ticks\\\":\\\"\\\",\\\"outlinewidth\\\":0}},\\\"type\\\":\\\"parcoords\\\"}],\\\"scatter\\\":[{\\\"type\\\":\\\"scatter\\\",\\\"marker\\\":{\\\"colorbar\\\":{\\\"ticks\\\":\\\"\\\",\\\"outlinewidth\\\":0}}}],\\\"histogram2dcontour\\\":[{\\\"colorbar\\\":{\\\"ticks\\\":\\\"\\\",\\\"outlinewidth\\\":0},\\\"type\\\":\\\"histogram2dcontour\\\",\\\"colorscale\\\":[[0.0,\\\"#0d0887\\\"],[0.1111111111111111,\\\"#46039f\\\"],[0.2222222222222222,\\\"#7201a8\\\"],[0.3333333333333333,\\\"#9c179e\\\"],[0.4444444444444444,\\\"#bd3786\\\"],[0.5555555555555556,\\\"#d8576b\\\"],[0.6666666666666666,\\\"#ed7953\\\"],[0.7777777777777778,\\\"#fb9f3a\\\"],[0.8888888888888888,\\\"#fdca26\\\"],[1.0,\\\"#f0f921\\\"]]}],\\\"contour\\\":[{\\\"colorbar\\\":{\\\"ticks\\\":\\\"\\\",\\\"outlinewidth\\\":0},\\\"type\\\":\\\"contour\\\",\\\"colorscale\\\":[[0.0,\\\"#0d0887\\\"],[0.1111111111111111,\\\"#46039f\\\"],[0.2222222222222222,\\\"#7201a8\\\"],[0.3333333333333333,\\\"#9c179e\\\"],[0.4444444444444444,\\\"#bd3786\\\"],[0.5555555555555556,\\\"#d8576b\\\"],[0.6666666666666666,\\\"#ed7953\\\"],[0.7777777777777778,\\\"#fb9f3a\\\"],[0.8888888888888888,\\\"#fdca26\\\"],[1.0,\\\"#f0f921\\\"]]}],\\\"scattercarpet\\\":[{\\\"type\\\":\\\"scattercarpet\\\",\\\"marker\\\":{\\\"colorbar\\\":{\\\"ticks\\\":\\\"\\\",\\\"outlinewidth\\\":0}}}],\\\"mesh3d\\\":[{\\\"colorbar\\\":{\\\"ticks\\\":\\\"\\\",\\\"outlinewidth\\\":0},\\\"type\\\":\\\"mesh3d\\\"}],\\\"surface\\\":[{\\\"colorbar\\\":{\\\"ticks\\\":\\\"\\\",\\\"outlinewidth\\\":0},\\\"type\\\":\\\"surface\\\",\\\"colorscale\\\":[[0.0,\\\"#0d0887\\\"],[0.1111111111111111,\\\"#46039f\\\"],[0.2222222222222222,\\\"#7201a8\\\"],[0.3333333333333333,\\\"#9c179e\\\"],[0.4444444444444444,\\\"#bd3786\\\"],[0.5555555555555556,\\\"#d8576b\\\"],[0.6666666666666666,\\\"#ed7953\\\"],[0.7777777777777778,\\\"#fb9f3a\\\"],[0.8888888888888888,\\\"#fdca26\\\"],[1.0,\\\"#f0f921\\\"]]}],\\\"scattermapbox\\\":[{\\\"type\\\":\\\"scattermapbox\\\",\\\"marker\\\":{\\\"colorbar\\\":{\\\"ticks\\\":\\\"\\\",\\\"outlinewidth\\\":0}}}],\\\"scattergeo\\\":[{\\\"type\\\":\\\"scattergeo\\\",\\\"marker\\\":{\\\"colorbar\\\":{\\\"ticks\\\":\\\"\\\",\\\"outlinewidth\\\":0}}}],\\\"histogram\\\":[{\\\"type\\\":\\\"histogram\\\",\\\"marker\\\":{\\\"colorbar\\\":{\\\"ticks\\\":\\\"\\\",\\\"outlinewidth\\\":0}}}],\\\"pie\\\":[{\\\"type\\\":\\\"pie\\\",\\\"automargin\\\":true}],\\\"choropleth\\\":[{\\\"colorbar\\\":{\\\"ticks\\\":\\\"\\\",\\\"outlinewidth\\\":0},\\\"type\\\":\\\"choropleth\\\"}],\\\"heatmapgl\\\":[{\\\"colorbar\\\":{\\\"ticks\\\":\\\"\\\",\\\"outlinewidth\\\":0},\\\"type\\\":\\\"heatmapgl\\\",\\\"colorscale\\\":[[0.0,\\\"#0d0887\\\"],[0.1111111111111111,\\\"#46039f\\\"],[0.2222222222222222,\\\"#7201a8\\\"],[0.3333333333333333,\\\"#9c179e\\\"],[0.4444444444444444,\\\"#bd3786\\\"],[0.5555555555555556,\\\"#d8576b\\\"],[0.6666666666666666,\\\"#ed7953\\\"],[0.7777777777777778,\\\"#fb9f3a\\\"],[0.8888888888888888,\\\"#fdca26\\\"],[1.0,\\\"#f0f921\\\"]]}],\\\"bar\\\":[{\\\"type\\\":\\\"bar\\\",\\\"error_y\\\":{\\\"color\\\":\\\"#2a3f5f\\\"},\\\"error_x\\\":{\\\"color\\\":\\\"#2a3f5f\\\"},\\\"marker\\\":{\\\"line\\\":{\\\"color\\\":\\\"#E5ECF6\\\",\\\"width\\\":0.5}}}],\\\"heatmap\\\":[{\\\"colorbar\\\":{\\\"ticks\\\":\\\"\\\",\\\"outlinewidth\\\":0},\\\"type\\\":\\\"heatmap\\\",\\\"colorscale\\\":[[0.0,\\\"#0d0887\\\"],[0.1111111111111111,\\\"#46039f\\\"],[0.2222222222222222,\\\"#7201a8\\\"],[0.3333333333333333,\\\"#9c179e\\\"],[0.4444444444444444,\\\"#bd3786\\\"],[0.5555555555555556,\\\"#d8576b\\\"],[0.6666666666666666,\\\"#ed7953\\\"],[0.7777777777777778,\\\"#fb9f3a\\\"],[0.8888888888888888,\\\"#fdca26\\\"],[1.0,\\\"#f0f921\\\"]]}],\\\"contourcarpet\\\":[{\\\"colorbar\\\":{\\\"ticks\\\":\\\"\\\",\\\"outlinewidth\\\":0},\\\"type\\\":\\\"contourcarpet\\\"}],\\\"table\\\":[{\\\"type\\\":\\\"table\\\",\\\"header\\\":{\\\"line\\\":{\\\"color\\\":\\\"white\\\"},\\\"fill\\\":{\\\"color\\\":\\\"#C8D4E3\\\"}},\\\"cells\\\":{\\\"line\\\":{\\\"color\\\":\\\"white\\\"},\\\"fill\\\":{\\\"color\\\":\\\"#EBF0F8\\\"}}}],\\\"scatter3d\\\":[{\\\"line\\\":{\\\"colorbar\\\":{\\\"ticks\\\":\\\"\\\",\\\"outlinewidth\\\":0}},\\\"type\\\":\\\"scatter3d\\\",\\\"marker\\\":{\\\"colorbar\\\":{\\\"ticks\\\":\\\"\\\",\\\"outlinewidth\\\":0}}}],\\\"scattergl\\\":[{\\\"type\\\":\\\"scattergl\\\",\\\"marker\\\":{\\\"colorbar\\\":{\\\"ticks\\\":\\\"\\\",\\\"outlinewidth\\\":0}}}],\\\"histogram2d\\\":[{\\\"colorbar\\\":{\\\"ticks\\\":\\\"\\\",\\\"outlinewidth\\\":0},\\\"type\\\":\\\"histogram2d\\\",\\\"colorscale\\\":[[0.0,\\\"#0d0887\\\"],[0.1111111111111111,\\\"#46039f\\\"],[0.2222222222222222,\\\"#7201a8\\\"],[0.3333333333333333,\\\"#9c179e\\\"],[0.4444444444444444,\\\"#bd3786\\\"],[0.5555555555555556,\\\"#d8576b\\\"],[0.6666666666666666,\\\"#ed7953\\\"],[0.7777777777777778,\\\"#fb9f3a\\\"],[0.8888888888888888,\\\"#fdca26\\\"],[1.0,\\\"#f0f921\\\"]]}],\\\"scatterternary\\\":[{\\\"type\\\":\\\"scatterternary\\\",\\\"marker\\\":{\\\"colorbar\\\":{\\\"ticks\\\":\\\"\\\",\\\"outlinewidth\\\":0}}}],\\\"scatterpolargl\\\":[{\\\"type\\\":\\\"scatterpolargl\\\",\\\"marker\\\":{\\\"colorbar\\\":{\\\"ticks\\\":\\\"\\\",\\\"outlinewidth\\\":0}}}]}},\\\"legend\\\":{\\\"tracegroupgap\\\":0,\\\"title\\\":{\\\"text\\\":\\\"subgroup\\\"}},\\\"margin\\\":{\\\"l\\\":50,\\\"b\\\":50,\\\"r\\\":50,\\\"t\\\":60},\\\"yaxis\\\":{\\\"title\\\":{\\\"text\\\":\\\"y\\\"}}},{\\\"showLink\\\":false,\\\"editable\\\":false,\\\"responsive\\\":true,\\\"staticPlot\\\":false,\\\"scrollZoom\\\":true}); gd.on(\\\"plotly_hover\\\",(function (data){var filtered_data=WebIO.PlotlyCommands.filterEventData(gd,data,\\\"hover\\\"); return !(filtered_data.isnil) ? (WebIO.setval({\\\"name\\\":\\\"hover\\\",\\\"scope\\\":\\\"12396800900232147122\\\",\\\"id\\\":\\\"8389734489846308332\\\",\\\"type\\\":\\\"observable\\\"},filtered_data.out)) : undefined})); gd.on(\\\"plotly_unhover\\\",(function (){return WebIO.setval({\\\"name\\\":\\\"hover\\\",\\\"scope\\\":\\\"12396800900232147122\\\",\\\"id\\\":\\\"8389734489846308332\\\",\\\"type\\\":\\\"observable\\\"},{})})); gd.on(\\\"plotly_selected\\\",(function (data){var filtered_data=WebIO.PlotlyCommands.filterEventData(gd,data,\\\"selected\\\"); return !(filtered_data.isnil) ? (WebIO.setval({\\\"name\\\":\\\"selected\\\",\\\"scope\\\":\\\"12396800900232147122\\\",\\\"id\\\":\\\"5975586193295820981\\\",\\\"type\\\":\\\"observable\\\"},filtered_data.out)) : undefined})); gd.on(\\\"plotly_deselect\\\",(function (){return WebIO.setval({\\\"name\\\":\\\"selected\\\",\\\"scope\\\":\\\"12396800900232147122\\\",\\\"id\\\":\\\"5975586193295820981\\\",\\\"type\\\":\\\"observable\\\"},{})})); gd.on(\\\"plotly_relayout\\\",(function (data){var filtered_data=WebIO.PlotlyCommands.filterEventData(gd,data,\\\"relayout\\\"); return !(filtered_data.isnil) ? (WebIO.setval({\\\"name\\\":\\\"relayout\\\",\\\"scope\\\":\\\"12396800900232147122\\\",\\\"id\\\":\\\"9870703563530022849\\\",\\\"type\\\":\\\"observable\\\"},filtered_data.out)) : undefined})); return gd.on(\\\"plotly_click\\\",(function (data){var filtered_data=WebIO.PlotlyCommands.filterEventData(gd,data,\\\"click\\\"); return !(filtered_data.isnil) ? (WebIO.setval({\\\"name\\\":\\\"click\\\",\\\"scope\\\":\\\"12396800900232147122\\\",\\\"id\\\":\\\"9415106605237112387\\\",\\\"type\\\":\\\"observable\\\"},filtered_data.out)) : undefined}))}));\\n    (WebIO.importBlock({\\\"data\\\":[{\\\"name\\\":\\\"Plotly\\\",\\\"type\\\":\\\"js\\\",\\\"url\\\":\\\"\\/assetserver\\/ebc2568819c45230b18ee19270dfc0cc82744584-plotly.min.js\\\"},{\\\"name\\\":null,\\\"type\\\":\\\"js\\\",\\\"url\\\":\\\"\\/assetserver\\/227691613ecb7cfbcd71a984c241099bdc549b0a-plotly_webio.bundle.js\\\"}],\\\"type\\\":\\\"async_block\\\"})).then((imports) => handler.apply(this, imports));\\n}\\n\"],\"observables\":{\"_toImage\":{\"sync\":false,\"id\":\"236689432730540857\",\"value\":{}},\"hover\":{\"sync\":false,\"id\":\"8389734489846308332\",\"value\":{}},\"selected\":{\"sync\":false,\"id\":\"5975586193295820981\",\"value\":{}},\"__gd_contents\":{\"sync\":false,\"id\":\"15924441536061395249\",\"value\":{}},\"click\":{\"sync\":false,\"id\":\"9415106605237112387\",\"value\":{}},\"image\":{\"sync\":true,\"id\":\"7037901618062534997\",\"value\":\"\"},\"__get_gd_contents\":{\"sync\":false,\"id\":\"8290215725260718588\",\"value\":\"\"},\"_downloadImage\":{\"sync\":false,\"id\":\"961223475720764364\",\"value\":{}},\"relayout\":{\"sync\":false,\"id\":\"9870703563530022849\",\"value\":{}},\"_commands\":{\"sync\":false,\"id\":\"14186375805804517760\",\"value\":[]}}},\"children\":[{\"props\":{\"id\":\"plot-ba52d365-df27-482b-9381-930dd1823c6c\"},\"nodeType\":\"DOM\",\"type\":\"node\",\"instanceArgs\":{\"namespace\":\"html\",\"tag\":\"div\"},\"children\":[]}]},\n",
       "        window,\n",
       "    );\n",
       "    })()\n",
       "    </script>\n",
       "</div>\n"
      ],
      "text/plain": [
       "data: [\n",
       "  \"scatter3d with fields legendgroup, marker, mode, name, showlegend, type, x, xaxis, y, yaxis, and z\",\n",
       "  \"scatter3d with fields legendgroup, marker, mode, name, showlegend, type, x, xaxis, y, yaxis, and z\",\n",
       "  \"scatter3d with fields legendgroup, marker, mode, name, showlegend, type, x, xaxis, y, yaxis, and z\",\n",
       "  \"scatter3d with fields legendgroup, marker, mode, name, showlegend, type, x, xaxis, y, yaxis, and z\",\n",
       "  \"scatter3d with fields legendgroup, marker, mode, name, showlegend, type, x, xaxis, y, yaxis, and z\",\n",
       "  \"scatter3d with fields legendgroup, marker, mode, name, showlegend, type, x, xaxis, y, yaxis, and z\"\n",
       "]\n",
       "\n",
       "layout: \"layout with fields legend, margin, template, xaxis, and yaxis\"\n",
       "\n"
      ]
     },
     "metadata": {},
     "output_type": "display_data"
    }
   ],
   "source": [
    "using PlotlyJS, CSV, DataFrames\n",
    "# psi =((embedding .- mean(embedding, dims = 2))./ (2*pi))[1,:] \n",
    "# theta =((embedding .- mean(embedding, dims = 2)) ./ (2*pi))[2,:]\n",
    "# x,y,z = sin.(psi) .* cos.(theta),  sin.(psi) .* sin.(theta), cos.(psi)\n",
    "\n",
    "Layout(\n",
    "        title=\"Automatic Labels Based on Data Frame Column Names\"\n",
    "    )\n",
    "PlotlyJS.plot(DataFrame(\"x\" => embedding[1,:],\"y\" => embedding[2,:],\"z\" => embedding[3,:],\"subgroup\"=>BRCA.labels), x=:x,y=:y,z=:z, color=:subgroup,type=\"scatter3d\", mode = \"markers\")"
   ]
  },
  {
   "cell_type": "code",
   "execution_count": 58,
   "metadata": {},
   "outputs": [
    {
     "data": {
      "application/vnd.plotly.v1+json": {
       "config": {
        "editable": false,
        "responsive": true,
        "scrollZoom": true,
        "showLink": false,
        "staticPlot": false
       },
       "data": [
        {
         "legendgroup": "setosa",
         "marker": {
          "color": "#636efa"
         },
         "mode": "markers",
         "name": "setosa",
         "showlegend": true,
         "type": "scatter3d",
         "x": [
          5.1,
          4.9,
          4.7,
          4.6,
          5,
          5.4,
          4.6,
          5,
          4.4,
          4.9,
          5.4,
          4.8,
          4.8,
          4.3,
          5.8,
          5.7,
          5.4,
          5.1,
          5.7,
          5.1,
          5.4,
          5.1,
          4.6,
          5.1,
          4.8,
          5,
          5,
          5.2,
          5.2,
          4.7,
          4.8,
          5.4,
          5.2,
          5.5,
          4.9,
          5,
          5.5,
          4.9,
          4.4,
          5.1,
          5,
          4.5,
          4.4,
          5,
          5.1,
          4.8,
          5.1,
          4.6,
          5.3,
          5
         ],
         "xaxis": "x",
         "y": [
          3.5,
          3,
          3.2,
          3.1,
          3.6,
          3.9,
          3.4,
          3.4,
          2.9,
          3.1,
          3.7,
          3.4,
          3,
          3,
          4,
          4.4,
          3.9,
          3.5,
          3.8,
          3.8,
          3.4,
          3.7,
          3.6,
          3.3,
          3.4,
          3,
          3.4,
          3.5,
          3.4,
          3.2,
          3.1,
          3.4,
          4.1,
          4.2,
          3.1,
          3.2,
          3.5,
          3.1,
          3,
          3.4,
          3.5,
          2.3,
          3.2,
          3.5,
          3.8,
          3,
          3.8,
          3.2,
          3.7,
          3.3
         ],
         "yaxis": "y",
         "z": [
          0.2,
          0.2,
          0.2,
          0.2,
          0.2,
          0.4,
          0.3,
          0.2,
          0.2,
          0.1,
          0.2,
          0.2,
          0.1,
          0.1,
          0.2,
          0.4,
          0.4,
          0.3,
          0.3,
          0.3,
          0.2,
          0.4,
          0.2,
          0.5,
          0.2,
          0.2,
          0.4,
          0.2,
          0.2,
          0.2,
          0.2,
          0.4,
          0.1,
          0.2,
          0.1,
          0.2,
          0.2,
          0.1,
          0.2,
          0.2,
          0.3,
          0.3,
          0.2,
          0.6,
          0.4,
          0.3,
          0.2,
          0.2,
          0.2,
          0.2
         ]
        },
        {
         "legendgroup": "versicolor",
         "marker": {
          "color": "#EF553B"
         },
         "mode": "markers",
         "name": "versicolor",
         "showlegend": true,
         "type": "scatter3d",
         "x": [
          7,
          6.4,
          6.9,
          5.5,
          6.5,
          5.7,
          6.3,
          4.9,
          6.6,
          5.2,
          5,
          5.9,
          6,
          6.1,
          5.6,
          6.7,
          5.6,
          5.8,
          6.2,
          5.6,
          5.9,
          6.1,
          6.3,
          6.1,
          6.4,
          6.6,
          6.8,
          6.7,
          6,
          5.7,
          5.5,
          5.5,
          5.8,
          6,
          5.4,
          6,
          6.7,
          6.3,
          5.6,
          5.5,
          5.5,
          6.1,
          5.8,
          5,
          5.6,
          5.7,
          5.7,
          6.2,
          5.1,
          5.7
         ],
         "xaxis": "x",
         "y": [
          3.2,
          3.2,
          3.1,
          2.3,
          2.8,
          2.8,
          3.3,
          2.4,
          2.9,
          2.7,
          2,
          3,
          2.2,
          2.9,
          2.9,
          3.1,
          3,
          2.7,
          2.2,
          2.5,
          3.2,
          2.8,
          2.5,
          2.8,
          2.9,
          3,
          2.8,
          3,
          2.9,
          2.6,
          2.4,
          2.4,
          2.7,
          2.7,
          3,
          3.4,
          3.1,
          2.3,
          3,
          2.5,
          2.6,
          3,
          2.6,
          2.3,
          2.7,
          3,
          2.9,
          2.9,
          2.5,
          2.8
         ],
         "yaxis": "y",
         "z": [
          1.4,
          1.5,
          1.5,
          1.3,
          1.5,
          1.3,
          1.6,
          1,
          1.3,
          1.4,
          1,
          1.5,
          1,
          1.4,
          1.3,
          1.4,
          1.5,
          1,
          1.5,
          1.1,
          1.8,
          1.3,
          1.5,
          1.2,
          1.3,
          1.4,
          1.4,
          1.7,
          1.5,
          1,
          1.1,
          1,
          1.2,
          1.6,
          1.5,
          1.6,
          1.5,
          1.3,
          1.3,
          1.3,
          1.2,
          1.4,
          1.2,
          1,
          1.3,
          1.2,
          1.3,
          1.3,
          1.1,
          1.3
         ]
        },
        {
         "legendgroup": "virginica",
         "marker": {
          "color": "#00cc96"
         },
         "mode": "markers",
         "name": "virginica",
         "showlegend": true,
         "type": "scatter3d",
         "x": [
          6.3,
          5.8,
          7.1,
          6.3,
          6.5,
          7.6,
          4.9,
          7.3,
          6.7,
          7.2,
          6.5,
          6.4,
          6.8,
          5.7,
          5.8,
          6.4,
          6.5,
          7.7,
          7.7,
          6,
          6.9,
          5.6,
          7.7,
          6.3,
          6.7,
          7.2,
          6.2,
          6.1,
          6.4,
          7.2,
          7.4,
          7.9,
          6.4,
          6.3,
          6.1,
          7.7,
          6.3,
          6.4,
          6,
          6.9,
          6.7,
          6.9,
          5.8,
          6.8,
          6.7,
          6.7,
          6.3,
          6.5,
          6.2,
          5.9
         ],
         "xaxis": "x",
         "y": [
          3.3,
          2.7,
          3,
          2.9,
          3,
          3,
          2.5,
          2.9,
          2.5,
          3.6,
          3.2,
          2.7,
          3,
          2.5,
          2.8,
          3.2,
          3,
          3.8,
          2.6,
          2.2,
          3.2,
          2.8,
          2.8,
          2.7,
          3.3,
          3.2,
          2.8,
          3,
          2.8,
          3,
          2.8,
          3.8,
          2.8,
          2.8,
          2.6,
          3,
          3.4,
          3.1,
          3,
          3.1,
          3.1,
          3.1,
          2.7,
          3.2,
          3.3,
          3,
          2.5,
          3,
          3.4,
          3
         ],
         "yaxis": "y",
         "z": [
          2.5,
          1.9,
          2.1,
          1.8,
          2.2,
          2.1,
          1.7,
          1.8,
          1.8,
          2.5,
          2,
          1.9,
          2.1,
          2,
          2.4,
          2.3,
          1.8,
          2.2,
          2.3,
          1.5,
          2.3,
          2,
          2,
          1.8,
          2.1,
          1.8,
          1.8,
          1.8,
          2.1,
          1.6,
          1.9,
          2,
          2.2,
          1.5,
          1.4,
          2.3,
          2.4,
          1.8,
          1.8,
          2.1,
          2.4,
          2.3,
          1.9,
          2.3,
          2.5,
          2.3,
          1.9,
          2,
          2.3,
          1.8
         ]
        }
       ],
       "frames": [],
       "layout": {
        "legend": {
         "title": {
          "text": "species"
         },
         "tracegroupgap": 0
        },
        "margin": {
         "b": 50,
         "l": 50,
         "r": 50,
         "t": 60
        },
        "template": {
         "data": {
          "bar": [
           {
            "error_x": {
             "color": "#2a3f5f"
            },
            "error_y": {
             "color": "#2a3f5f"
            },
            "marker": {
             "line": {
              "color": "#E5ECF6",
              "width": 0.5
             }
            },
            "type": "bar"
           }
          ],
          "barpolar": [
           {
            "marker": {
             "line": {
              "color": "#E5ECF6",
              "width": 0.5
             }
            },
            "type": "barpolar"
           }
          ],
          "carpet": [
           {
            "aaxis": {
             "endlinecolor": "#2a3f5f",
             "gridcolor": "white",
             "linecolor": "white",
             "minorgridcolor": "white",
             "startlinecolor": "#2a3f5f"
            },
            "baxis": {
             "endlinecolor": "#2a3f5f",
             "gridcolor": "white",
             "linecolor": "white",
             "minorgridcolor": "white",
             "startlinecolor": "#2a3f5f"
            },
            "type": "carpet"
           }
          ],
          "choropleth": [
           {
            "colorbar": {
             "outlinewidth": 0,
             "ticks": ""
            },
            "type": "choropleth"
           }
          ],
          "contour": [
           {
            "colorbar": {
             "outlinewidth": 0,
             "ticks": ""
            },
            "colorscale": [
             [
              0,
              "#0d0887"
             ],
             [
              0.1111111111111111,
              "#46039f"
             ],
             [
              0.2222222222222222,
              "#7201a8"
             ],
             [
              0.3333333333333333,
              "#9c179e"
             ],
             [
              0.4444444444444444,
              "#bd3786"
             ],
             [
              0.5555555555555556,
              "#d8576b"
             ],
             [
              0.6666666666666666,
              "#ed7953"
             ],
             [
              0.7777777777777778,
              "#fb9f3a"
             ],
             [
              0.8888888888888888,
              "#fdca26"
             ],
             [
              1,
              "#f0f921"
             ]
            ],
            "type": "contour"
           }
          ],
          "contourcarpet": [
           {
            "colorbar": {
             "outlinewidth": 0,
             "ticks": ""
            },
            "type": "contourcarpet"
           }
          ],
          "heatmap": [
           {
            "colorbar": {
             "outlinewidth": 0,
             "ticks": ""
            },
            "colorscale": [
             [
              0,
              "#0d0887"
             ],
             [
              0.1111111111111111,
              "#46039f"
             ],
             [
              0.2222222222222222,
              "#7201a8"
             ],
             [
              0.3333333333333333,
              "#9c179e"
             ],
             [
              0.4444444444444444,
              "#bd3786"
             ],
             [
              0.5555555555555556,
              "#d8576b"
             ],
             [
              0.6666666666666666,
              "#ed7953"
             ],
             [
              0.7777777777777778,
              "#fb9f3a"
             ],
             [
              0.8888888888888888,
              "#fdca26"
             ],
             [
              1,
              "#f0f921"
             ]
            ],
            "type": "heatmap"
           }
          ],
          "heatmapgl": [
           {
            "colorbar": {
             "outlinewidth": 0,
             "ticks": ""
            },
            "colorscale": [
             [
              0,
              "#0d0887"
             ],
             [
              0.1111111111111111,
              "#46039f"
             ],
             [
              0.2222222222222222,
              "#7201a8"
             ],
             [
              0.3333333333333333,
              "#9c179e"
             ],
             [
              0.4444444444444444,
              "#bd3786"
             ],
             [
              0.5555555555555556,
              "#d8576b"
             ],
             [
              0.6666666666666666,
              "#ed7953"
             ],
             [
              0.7777777777777778,
              "#fb9f3a"
             ],
             [
              0.8888888888888888,
              "#fdca26"
             ],
             [
              1,
              "#f0f921"
             ]
            ],
            "type": "heatmapgl"
           }
          ],
          "histogram": [
           {
            "marker": {
             "colorbar": {
              "outlinewidth": 0,
              "ticks": ""
             }
            },
            "type": "histogram"
           }
          ],
          "histogram2d": [
           {
            "colorbar": {
             "outlinewidth": 0,
             "ticks": ""
            },
            "colorscale": [
             [
              0,
              "#0d0887"
             ],
             [
              0.1111111111111111,
              "#46039f"
             ],
             [
              0.2222222222222222,
              "#7201a8"
             ],
             [
              0.3333333333333333,
              "#9c179e"
             ],
             [
              0.4444444444444444,
              "#bd3786"
             ],
             [
              0.5555555555555556,
              "#d8576b"
             ],
             [
              0.6666666666666666,
              "#ed7953"
             ],
             [
              0.7777777777777778,
              "#fb9f3a"
             ],
             [
              0.8888888888888888,
              "#fdca26"
             ],
             [
              1,
              "#f0f921"
             ]
            ],
            "type": "histogram2d"
           }
          ],
          "histogram2dcontour": [
           {
            "colorbar": {
             "outlinewidth": 0,
             "ticks": ""
            },
            "colorscale": [
             [
              0,
              "#0d0887"
             ],
             [
              0.1111111111111111,
              "#46039f"
             ],
             [
              0.2222222222222222,
              "#7201a8"
             ],
             [
              0.3333333333333333,
              "#9c179e"
             ],
             [
              0.4444444444444444,
              "#bd3786"
             ],
             [
              0.5555555555555556,
              "#d8576b"
             ],
             [
              0.6666666666666666,
              "#ed7953"
             ],
             [
              0.7777777777777778,
              "#fb9f3a"
             ],
             [
              0.8888888888888888,
              "#fdca26"
             ],
             [
              1,
              "#f0f921"
             ]
            ],
            "type": "histogram2dcontour"
           }
          ],
          "mesh3d": [
           {
            "colorbar": {
             "outlinewidth": 0,
             "ticks": ""
            },
            "type": "mesh3d"
           }
          ],
          "parcoords": [
           {
            "line": {
             "colorbar": {
              "outlinewidth": 0,
              "ticks": ""
             }
            },
            "type": "parcoords"
           }
          ],
          "pie": [
           {
            "automargin": true,
            "type": "pie"
           }
          ],
          "scatter": [
           {
            "marker": {
             "colorbar": {
              "outlinewidth": 0,
              "ticks": ""
             }
            },
            "type": "scatter"
           }
          ],
          "scatter3d": [
           {
            "line": {
             "colorbar": {
              "outlinewidth": 0,
              "ticks": ""
             }
            },
            "marker": {
             "colorbar": {
              "outlinewidth": 0,
              "ticks": ""
             }
            },
            "type": "scatter3d"
           }
          ],
          "scattercarpet": [
           {
            "marker": {
             "colorbar": {
              "outlinewidth": 0,
              "ticks": ""
             }
            },
            "type": "scattercarpet"
           }
          ],
          "scattergeo": [
           {
            "marker": {
             "colorbar": {
              "outlinewidth": 0,
              "ticks": ""
             }
            },
            "type": "scattergeo"
           }
          ],
          "scattergl": [
           {
            "marker": {
             "colorbar": {
              "outlinewidth": 0,
              "ticks": ""
             }
            },
            "type": "scattergl"
           }
          ],
          "scattermapbox": [
           {
            "marker": {
             "colorbar": {
              "outlinewidth": 0,
              "ticks": ""
             }
            },
            "type": "scattermapbox"
           }
          ],
          "scatterpolar": [
           {
            "marker": {
             "colorbar": {
              "outlinewidth": 0,
              "ticks": ""
             }
            },
            "type": "scatterpolar"
           }
          ],
          "scatterpolargl": [
           {
            "marker": {
             "colorbar": {
              "outlinewidth": 0,
              "ticks": ""
             }
            },
            "type": "scatterpolargl"
           }
          ],
          "scatterternary": [
           {
            "marker": {
             "colorbar": {
              "outlinewidth": 0,
              "ticks": ""
             }
            },
            "type": "scatterternary"
           }
          ],
          "surface": [
           {
            "colorbar": {
             "outlinewidth": 0,
             "ticks": ""
            },
            "colorscale": [
             [
              0,
              "#0d0887"
             ],
             [
              0.1111111111111111,
              "#46039f"
             ],
             [
              0.2222222222222222,
              "#7201a8"
             ],
             [
              0.3333333333333333,
              "#9c179e"
             ],
             [
              0.4444444444444444,
              "#bd3786"
             ],
             [
              0.5555555555555556,
              "#d8576b"
             ],
             [
              0.6666666666666666,
              "#ed7953"
             ],
             [
              0.7777777777777778,
              "#fb9f3a"
             ],
             [
              0.8888888888888888,
              "#fdca26"
             ],
             [
              1,
              "#f0f921"
             ]
            ],
            "type": "surface"
           }
          ],
          "table": [
           {
            "cells": {
             "fill": {
              "color": "#EBF0F8"
             },
             "line": {
              "color": "white"
             }
            },
            "header": {
             "fill": {
              "color": "#C8D4E3"
             },
             "line": {
              "color": "white"
             }
            },
            "type": "table"
           }
          ]
         },
         "layout": {
          "annotationdefaults": {
           "arrowcolor": "#2a3f5f",
           "arrowhead": 0,
           "arrowwidth": 1
          },
          "autotypenumbers": "strict",
          "coloraxis": {
           "colorbar": {
            "outlinewidth": 0,
            "ticks": ""
           }
          },
          "colorscale": {
           "diverging": [
            [
             0,
             "#8e0152"
            ],
            [
             0.1,
             "#c51b7d"
            ],
            [
             0.2,
             "#de77ae"
            ],
            [
             0.3,
             "#f1b6da"
            ],
            [
             0.4,
             "#fde0ef"
            ],
            [
             0.5,
             "#f7f7f7"
            ],
            [
             0.6,
             "#e6f5d0"
            ],
            [
             0.7,
             "#b8e186"
            ],
            [
             0.8,
             "#7fbc41"
            ],
            [
             0.9,
             "#4d9221"
            ],
            [
             1,
             "#276419"
            ]
           ],
           "sequential": [
            [
             0,
             "#0d0887"
            ],
            [
             0.1111111111111111,
             "#46039f"
            ],
            [
             0.2222222222222222,
             "#7201a8"
            ],
            [
             0.3333333333333333,
             "#9c179e"
            ],
            [
             0.4444444444444444,
             "#bd3786"
            ],
            [
             0.5555555555555556,
             "#d8576b"
            ],
            [
             0.6666666666666666,
             "#ed7953"
            ],
            [
             0.7777777777777778,
             "#fb9f3a"
            ],
            [
             0.8888888888888888,
             "#fdca26"
            ],
            [
             1,
             "#f0f921"
            ]
           ],
           "sequentialminus": [
            [
             0,
             "#0d0887"
            ],
            [
             0.1111111111111111,
             "#46039f"
            ],
            [
             0.2222222222222222,
             "#7201a8"
            ],
            [
             0.3333333333333333,
             "#9c179e"
            ],
            [
             0.4444444444444444,
             "#bd3786"
            ],
            [
             0.5555555555555556,
             "#d8576b"
            ],
            [
             0.6666666666666666,
             "#ed7953"
            ],
            [
             0.7777777777777778,
             "#fb9f3a"
            ],
            [
             0.8888888888888888,
             "#fdca26"
            ],
            [
             1,
             "#f0f921"
            ]
           ]
          },
          "colorway": [
           "#636efa",
           "#EF553B",
           "#00cc96",
           "#ab63fa",
           "#FFA15A",
           "#19d3f3",
           "#FF6692",
           "#B6E880",
           "#FF97FF",
           "#FECB52"
          ],
          "font": {
           "color": "#2a3f5f"
          },
          "geo": {
           "bgcolor": "white",
           "lakecolor": "white",
           "landcolor": "#E5ECF6",
           "showlakes": true,
           "showland": true,
           "subunitcolor": "white"
          },
          "hoverlabel": {
           "align": "left"
          },
          "hovermode": "closest",
          "mapbox": {
           "style": "light"
          },
          "paper_bgcolor": "white",
          "plot_bgcolor": "#E5ECF6",
          "polar": {
           "angularaxis": {
            "gridcolor": "white",
            "linecolor": "white",
            "ticks": ""
           },
           "bgcolor": "#E5ECF6",
           "radialaxis": {
            "gridcolor": "white",
            "linecolor": "white",
            "ticks": ""
           }
          },
          "scene": {
           "xaxis": {
            "backgroundcolor": "#E5ECF6",
            "gridcolor": "white",
            "gridwidth": 2,
            "linecolor": "white",
            "showbackground": true,
            "ticks": "",
            "zerolinecolor": "white"
           },
           "yaxis": {
            "backgroundcolor": "#E5ECF6",
            "gridcolor": "white",
            "gridwidth": 2,
            "linecolor": "white",
            "showbackground": true,
            "ticks": "",
            "zerolinecolor": "white"
           },
           "zaxis": {
            "backgroundcolor": "#E5ECF6",
            "gridcolor": "white",
            "gridwidth": 2,
            "linecolor": "white",
            "showbackground": true,
            "ticks": "",
            "zerolinecolor": "white"
           }
          },
          "shapedefaults": {
           "line": {
            "color": "#2a3f5f"
           }
          },
          "ternary": {
           "aaxis": {
            "gridcolor": "white",
            "linecolor": "white",
            "ticks": ""
           },
           "baxis": {
            "gridcolor": "white",
            "linecolor": "white",
            "ticks": ""
           },
           "bgcolor": "#E5ECF6",
           "caxis": {
            "gridcolor": "white",
            "linecolor": "white",
            "ticks": ""
           }
          },
          "title": {
           "x": 0.05
          },
          "xaxis": {
           "automargin": true,
           "gridcolor": "white",
           "linecolor": "white",
           "ticks": "",
           "title": {
            "standoff": 15
           },
           "zerolinecolor": "white",
           "zerolinewidth": 2
          },
          "yaxis": {
           "automargin": true,
           "gridcolor": "white",
           "linecolor": "white",
           "ticks": "",
           "title": {
            "standoff": 15
           },
           "zerolinecolor": "white",
           "zerolinewidth": 2
          }
         }
        },
        "xaxis": {
         "title": {
          "text": "sepal_length"
         }
        },
        "yaxis": {
         "title": {
          "text": "sepal_width"
         }
        }
       }
      },
      "image/png": "[encoded data removed]",
      "image/svg+xml": [
       "<svg class=\"main-svg\" xmlns=\"http://www.w3.org/2000/svg\" xmlns:xlink=\"http://www.w3.org/1999/xlink\" width=\"700\" height=\"500\" style=\"\" viewBox=\"0 0 700 500\"><rect x=\"0\" y=\"0\" width=\"700\" height=\"500\" style=\"fill: rgb(255, 255, 255); fill-opacity: 1;\"/><defs id=\"defs-943c7b\"><g class=\"clips\"/><g class=\"gradients\"/></defs><g class=\"bglayer\"/><g class=\"layer-below\"><g class=\"imagelayer\"/><g class=\"shapelayer\"/></g><g class=\"cartesianlayer\"/><g class=\"polarlayer\"/><g class=\"ternarylayer\"/><g class=\"geolayer\"/><g class=\"funnelarealayer\"/><g class=\"pielayer\"/><g class=\"treemaplayer\"/><g class=\"sunburstlayer\"/><g class=\"glimages\"><image xmlns=\"http://www.w3.org/2000/svg\" xlink:href=\"data:image/png;base64,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\" x=\"50\" y=\"60\" width=\"530\" height=\"390\" preserveAspectRatio=\"none\"/></g><defs id=\"topdefs-943c7b\"><g class=\"clips\"/><clipPath id=\"legend943c7b\"><rect width=\"97\" height=\"83\" x=\"0\" y=\"0\"/></clipPath></defs><g class=\"layer-above\"><g class=\"imagelayer\"/><g class=\"shapelayer\"/></g><g class=\"infolayer\"><g class=\"legend\" pointer-events=\"all\" transform=\"translate(590.6,60)\"><rect class=\"bg\" shape-rendering=\"crispEdges\" style=\"stroke: rgb(68, 68, 68); stroke-opacity: 1; fill: rgb(255, 255, 255); fill-opacity: 1; stroke-width: 0px;\" width=\"97\" height=\"83\" x=\"0\" y=\"0\"/><g class=\"scrollbox\" transform=\"\" clip-path=\"url('#legend943c7b')\"><text class=\"legendtitletext\" text-anchor=\"start\" x=\"2\" y=\"15.600000000000001\" style=\"font-family: 'Open Sans', verdana, arial, sans-serif; font-size: 12px; fill: rgb(42, 63, 95); fill-opacity: 1; white-space: pre;\">species</text><g class=\"groups\" transform=\"\"><g class=\"traces\" transform=\"translate(0,30.1)\" style=\"opacity: 1;\"><text class=\"legendtext\" text-anchor=\"start\" x=\"40\" y=\"4.680000000000001\" style=\"font-family: 'Open Sans', verdana, arial, sans-serif; font-size: 12px; fill: rgb(42, 63, 95); fill-opacity: 1; white-space: pre;\">setosa</text><g class=\"layers\" style=\"opacity: 1;\"><g class=\"legendfill\"/><g class=\"legendlines\"/><g class=\"legendsymbols\"><g class=\"legendpoints\"><path class=\"scatterpts\" transform=\"translate(20,0)\" d=\"M4,0A4,4 0 1,1 0,-4A4,4 0 0,1 4,0Z\" style=\"opacity: 1; stroke-width: 0px; fill: rgb(99, 110, 250); fill-opacity: 1;\"/></g></g></g><rect class=\"legendtoggle\" x=\"0\" y=\"-9.5\" width=\"91.359375\" height=\"19\" style=\"fill: rgb(0, 0, 0); fill-opacity: 0;\"/></g></g><g class=\"groups\" transform=\"\"><g class=\"traces\" transform=\"translate(0,49.1)\" style=\"opacity: 1;\"><text class=\"legendtext\" text-anchor=\"start\" x=\"40\" y=\"4.680000000000001\" style=\"font-family: 'Open Sans', verdana, arial, sans-serif; font-size: 12px; fill: rgb(42, 63, 95); fill-opacity: 1; white-space: pre;\">versicolor</text><g class=\"layers\" style=\"opacity: 1;\"><g class=\"legendfill\"/><g class=\"legendlines\"/><g class=\"legendsymbols\"><g class=\"legendpoints\"><path class=\"scatterpts\" transform=\"translate(20,0)\" d=\"M4,0A4,4 0 1,1 0,-4A4,4 0 0,1 4,0Z\" style=\"opacity: 1; stroke-width: 0px; fill: rgb(239, 85, 59); fill-opacity: 1;\"/></g></g></g><rect class=\"legendtoggle\" x=\"0\" y=\"-9.5\" width=\"91.359375\" height=\"19\" style=\"fill: rgb(0, 0, 0); fill-opacity: 0;\"/></g></g><g class=\"groups\" transform=\"\"><g class=\"traces\" transform=\"translate(0,68.1)\" style=\"opacity: 1;\"><text class=\"legendtext\" text-anchor=\"start\" x=\"40\" y=\"4.680000000000001\" style=\"font-family: 'Open Sans', verdana, arial, sans-serif; font-size: 12px; fill: rgb(42, 63, 95); fill-opacity: 1; white-space: pre;\">virginica</text><g class=\"layers\" style=\"opacity: 1;\"><g class=\"legendfill\"/><g class=\"legendlines\"/><g class=\"legendsymbols\"><g class=\"legendpoints\"><path class=\"scatterpts\" transform=\"translate(20,0)\" d=\"M4,0A4,4 0 1,1 0,-4A4,4 0 0,1 4,0Z\" style=\"opacity: 1; stroke-width: 0px; fill: rgb(0, 204, 150); fill-opacity: 1;\"/></g></g></g><rect class=\"legendtoggle\" x=\"0\" y=\"-9.5\" width=\"91.359375\" height=\"19\" style=\"fill: rgb(0, 0, 0); fill-opacity: 0;\"/></g></g></g><rect class=\"scrollbar\" rx=\"20\" ry=\"3\" width=\"0\" height=\"0\" style=\"fill: rgb(128, 139, 164); fill-opacity: 1;\" x=\"0\" y=\"0\"/></g><g class=\"g-gtitle\"/></g></svg>"
      ],
      "text/html": [
       "<div\n",
       "    class=\"webio-mountpoint\"\n",
       "    data-webio-mountpoint=\"15590503521250481422\"\n",
       ">\n",
       "    <script>\n",
       "    (function(){\n",
       "    // Some integrations (namely, IJulia/Jupyter) use an alternate render pathway than\n",
       "    // just putting the html on the page. If WebIO isn't defined, then it's pretty likely\n",
       "    // that we're in one of those situations and the integration just isn't installed\n",
       "    // correctly.\n",
       "    if (typeof window.WebIO === \"undefined\") {\n",
       "        document\n",
       "            .querySelector('[data-webio-mountpoint=\"15590503521250481422\"]')\n",
       "            .innerHTML = (\n",
       "                '<div style=\"padding: 1em; background-color: #f8d6da; border: 1px solid #f5c6cb; font-weight: bold;\">' +\n",
       "                '<p><strong>WebIO not detected.</strong></p>' +\n",
       "                '<p>Please read ' +\n",
       "                '<a href=\"https://juliagizmos.github.io/WebIO.jl/latest/troubleshooting/not-detected/\" target=\"_blank\">the troubleshooting guide</a> ' +\n",
       "                'for more information on how to resolve this issue.</p>' +\n",
       "                '<p><a href=\"https://juliagizmos.github.io/WebIO.jl/latest/troubleshooting/not-detected/\" target=\"_blank\">https://juliagizmos.github.io/WebIO.jl/latest/troubleshooting/not-detected/</a></p>' +\n",
       "                '</div>'\n",
       "            );\n",
       "        return;\n",
       "    }\n",
       "    WebIO.mount(\n",
       "        document.querySelector('[data-webio-mountpoint=\"15590503521250481422\"]'),\n",
       "        {\"props\":{},\"nodeType\":\"Scope\",\"type\":\"node\",\"instanceArgs\":{\"imports\":{\"data\":[{\"name\":\"Plotly\",\"type\":\"js\",\"url\":\"\\/assetserver\\/ebc2568819c45230b18ee19270dfc0cc82744584-plotly.min.js\"},{\"name\":null,\"type\":\"js\",\"url\":\"\\/assetserver\\/227691613ecb7cfbcd71a984c241099bdc549b0a-plotly_webio.bundle.js\"}],\"type\":\"async_block\"},\"id\":\"10580776402517774809\",\"handlers\":{\"_toImage\":[\"(function (options){return this.Plotly.toImage(this.plotElem,options).then((function (data){return WebIO.setval({\\\"name\\\":\\\"image\\\",\\\"scope\\\":\\\"10580776402517774809\\\",\\\"id\\\":\\\"5113891963753379681\\\",\\\"type\\\":\\\"observable\\\"},data)}))})\"],\"__get_gd_contents\":[\"(function (prop){prop==\\\"data\\\" ? (WebIO.setval({\\\"name\\\":\\\"__gd_contents\\\",\\\"scope\\\":\\\"10580776402517774809\\\",\\\"id\\\":\\\"3175789746499855812\\\",\\\"type\\\":\\\"observable\\\"},this.plotElem.data)) : undefined; return prop==\\\"layout\\\" ? (WebIO.setval({\\\"name\\\":\\\"__gd_contents\\\",\\\"scope\\\":\\\"10580776402517774809\\\",\\\"id\\\":\\\"3175789746499855812\\\",\\\"type\\\":\\\"observable\\\"},this.plotElem.layout)) : undefined})\"],\"_downloadImage\":[\"(function (options){return this.Plotly.downloadImage(this.plotElem,options)})\"],\"_commands\":[\"(function (args){var fn=args.shift(); var elem=this.plotElem; var Plotly=this.Plotly; args.unshift(elem); return Plotly[fn].apply(this,args)})\"]},\"systemjs_options\":null,\"mount_callbacks\":[\"function () {\\n    var handler = ((function (Plotly,PlotlyWebIO){PlotlyWebIO.init(WebIO); var gd=this.dom.querySelector(\\\"#plot-7ac74ec1-cc08-42f7-ac81-6b68da868a23\\\"); this.plotElem=gd; this.Plotly=Plotly; (window.Blink!==undefined) ? (gd.style.width=\\\"100%\\\", gd.style.height=\\\"100vh\\\", gd.style.marginLeft=\\\"0%\\\", gd.style.marginTop=\\\"0vh\\\") : undefined; window.onresize=(function (){return Plotly.Plots.resize(gd)}); Plotly.newPlot(gd,[{\\\"showlegend\\\":true,\\\"mode\\\":\\\"markers\\\",\\\"xaxis\\\":\\\"x\\\",\\\"name\\\":\\\"setosa\\\",\\\"yaxis\\\":\\\"y\\\",\\\"z\\\":[0.2,0.2,0.2,0.2,0.2,0.4,0.3,0.2,0.2,0.1,0.2,0.2,0.1,0.1,0.2,0.4,0.4,0.3,0.3,0.3,0.2,0.4,0.2,0.5,0.2,0.2,0.4,0.2,0.2,0.2,0.2,0.4,0.1,0.2,0.1,0.2,0.2,0.1,0.2,0.2,0.3,0.3,0.2,0.6,0.4,0.3,0.2,0.2,0.2,0.2],\\\"legendgroup\\\":\\\"setosa\\\",\\\"marker\\\":{\\\"color\\\":\\\"#636efa\\\"},\\\"y\\\":[3.5,3.0,3.2,3.1,3.6,3.9,3.4,3.4,2.9,3.1,3.7,3.4,3.0,3.0,4.0,4.4,3.9,3.5,3.8,3.8,3.4,3.7,3.6,3.3,3.4,3.0,3.4,3.5,3.4,3.2,3.1,3.4,4.1,4.2,3.1,3.2,3.5,3.1,3.0,3.4,3.5,2.3,3.2,3.5,3.8,3.0,3.8,3.2,3.7,3.3],\\\"type\\\":\\\"scatter3d\\\",\\\"x\\\":[5.1,4.9,4.7,4.6,5.0,5.4,4.6,5.0,4.4,4.9,5.4,4.8,4.8,4.3,5.8,5.7,5.4,5.1,5.7,5.1,5.4,5.1,4.6,5.1,4.8,5.0,5.0,5.2,5.2,4.7,4.8,5.4,5.2,5.5,4.9,5.0,5.5,4.9,4.4,5.1,5.0,4.5,4.4,5.0,5.1,4.8,5.1,4.6,5.3,5.0]},{\\\"showlegend\\\":true,\\\"mode\\\":\\\"markers\\\",\\\"xaxis\\\":\\\"x\\\",\\\"name\\\":\\\"versicolor\\\",\\\"yaxis\\\":\\\"y\\\",\\\"z\\\":[1.4,1.5,1.5,1.3,1.5,1.3,1.6,1.0,1.3,1.4,1.0,1.5,1.0,1.4,1.3,1.4,1.5,1.0,1.5,1.1,1.8,1.3,1.5,1.2,1.3,1.4,1.4,1.7,1.5,1.0,1.1,1.0,1.2,1.6,1.5,1.6,1.5,1.3,1.3,1.3,1.2,1.4,1.2,1.0,1.3,1.2,1.3,1.3,1.1,1.3],\\\"legendgroup\\\":\\\"versicolor\\\",\\\"marker\\\":{\\\"color\\\":\\\"#EF553B\\\"},\\\"y\\\":[3.2,3.2,3.1,2.3,2.8,2.8,3.3,2.4,2.9,2.7,2.0,3.0,2.2,2.9,2.9,3.1,3.0,2.7,2.2,2.5,3.2,2.8,2.5,2.8,2.9,3.0,2.8,3.0,2.9,2.6,2.4,2.4,2.7,2.7,3.0,3.4,3.1,2.3,3.0,2.5,2.6,3.0,2.6,2.3,2.7,3.0,2.9,2.9,2.5,2.8],\\\"type\\\":\\\"scatter3d\\\",\\\"x\\\":[7.0,6.4,6.9,5.5,6.5,5.7,6.3,4.9,6.6,5.2,5.0,5.9,6.0,6.1,5.6,6.7,5.6,5.8,6.2,5.6,5.9,6.1,6.3,6.1,6.4,6.6,6.8,6.7,6.0,5.7,5.5,5.5,5.8,6.0,5.4,6.0,6.7,6.3,5.6,5.5,5.5,6.1,5.8,5.0,5.6,5.7,5.7,6.2,5.1,5.7]},{\\\"showlegend\\\":true,\\\"mode\\\":\\\"markers\\\",\\\"xaxis\\\":\\\"x\\\",\\\"name\\\":\\\"virginica\\\",\\\"yaxis\\\":\\\"y\\\",\\\"z\\\":[2.5,1.9,2.1,1.8,2.2,2.1,1.7,1.8,1.8,2.5,2.0,1.9,2.1,2.0,2.4,2.3,1.8,2.2,2.3,1.5,2.3,2.0,2.0,1.8,2.1,1.8,1.8,1.8,2.1,1.6,1.9,2.0,2.2,1.5,1.4,2.3,2.4,1.8,1.8,2.1,2.4,2.3,1.9,2.3,2.5,2.3,1.9,2.0,2.3,1.8],\\\"legendgroup\\\":\\\"virginica\\\",\\\"marker\\\":{\\\"color\\\":\\\"#00cc96\\\"},\\\"y\\\":[3.3,2.7,3.0,2.9,3.0,3.0,2.5,2.9,2.5,3.6,3.2,2.7,3.0,2.5,2.8,3.2,3.0,3.8,2.6,2.2,3.2,2.8,2.8,2.7,3.3,3.2,2.8,3.0,2.8,3.0,2.8,3.8,2.8,2.8,2.6,3.0,3.4,3.1,3.0,3.1,3.1,3.1,2.7,3.2,3.3,3.0,2.5,3.0,3.4,3.0],\\\"type\\\":\\\"scatter3d\\\",\\\"x\\\":[6.3,5.8,7.1,6.3,6.5,7.6,4.9,7.3,6.7,7.2,6.5,6.4,6.8,5.7,5.8,6.4,6.5,7.7,7.7,6.0,6.9,5.6,7.7,6.3,6.7,7.2,6.2,6.1,6.4,7.2,7.4,7.9,6.4,6.3,6.1,7.7,6.3,6.4,6.0,6.9,6.7,6.9,5.8,6.8,6.7,6.7,6.3,6.5,6.2,5.9]}],{\\\"xaxis\\\":{\\\"title\\\":{\\\"text\\\":\\\"sepal_length\\\"}},\\\"template\\\":{\\\"layout\\\":{\\\"coloraxis\\\":{\\\"colorbar\\\":{\\\"ticks\\\":\\\"\\\",\\\"outlinewidth\\\":0}},\\\"xaxis\\\":{\\\"gridcolor\\\":\\\"white\\\",\\\"zerolinewidth\\\":2,\\\"title\\\":{\\\"standoff\\\":15},\\\"ticks\\\":\\\"\\\",\\\"zerolinecolor\\\":\\\"white\\\",\\\"automargin\\\":true,\\\"linecolor\\\":\\\"white\\\"},\\\"hovermode\\\":\\\"closest\\\",\\\"paper_bgcolor\\\":\\\"white\\\",\\\"geo\\\":{\\\"showlakes\\\":true,\\\"showland\\\":true,\\\"landcolor\\\":\\\"#E5ECF6\\\",\\\"bgcolor\\\":\\\"white\\\",\\\"subunitcolor\\\":\\\"white\\\",\\\"lakecolor\\\":\\\"white\\\"},\\\"colorscale\\\":{\\\"sequential\\\":[[0.0,\\\"#0d0887\\\"],[0.1111111111111111,\\\"#46039f\\\"],[0.2222222222222222,\\\"#7201a8\\\"],[0.3333333333333333,\\\"#9c179e\\\"],[0.4444444444444444,\\\"#bd3786\\\"],[0.5555555555555556,\\\"#d8576b\\\"],[0.6666666666666666,\\\"#ed7953\\\"],[0.7777777777777778,\\\"#fb9f3a\\\"],[0.8888888888888888,\\\"#fdca26\\\"],[1.0,\\\"#f0f921\\\"]],\\\"diverging\\\":[[0,\\\"#8e0152\\\"],[0.1,\\\"#c51b7d\\\"],[0.2,\\\"#de77ae\\\"],[0.3,\\\"#f1b6da\\\"],[0.4,\\\"#fde0ef\\\"],[0.5,\\\"#f7f7f7\\\"],[0.6,\\\"#e6f5d0\\\"],[0.7,\\\"#b8e186\\\"],[0.8,\\\"#7fbc41\\\"],[0.9,\\\"#4d9221\\\"],[1,\\\"#276419\\\"]],\\\"sequentialminus\\\":[[0.0,\\\"#0d0887\\\"],[0.1111111111111111,\\\"#46039f\\\"],[0.2222222222222222,\\\"#7201a8\\\"],[0.3333333333333333,\\\"#9c179e\\\"],[0.4444444444444444,\\\"#bd3786\\\"],[0.5555555555555556,\\\"#d8576b\\\"],[0.6666666666666666,\\\"#ed7953\\\"],[0.7777777777777778,\\\"#fb9f3a\\\"],[0.8888888888888888,\\\"#fdca26\\\"],[1.0,\\\"#f0f921\\\"]]},\\\"yaxis\\\":{\\\"gridcolor\\\":\\\"white\\\",\\\"zerolinewidth\\\":2,\\\"title\\\":{\\\"standoff\\\":15},\\\"ticks\\\":\\\"\\\",\\\"zerolinecolor\\\":\\\"white\\\",\\\"automargin\\\":true,\\\"linecolor\\\":\\\"white\\\"},\\\"shapedefaults\\\":{\\\"line\\\":{\\\"color\\\":\\\"#2a3f5f\\\"}},\\\"hoverlabel\\\":{\\\"align\\\":\\\"left\\\"},\\\"mapbox\\\":{\\\"style\\\":\\\"light\\\"},\\\"polar\\\":{\\\"angularaxis\\\":{\\\"gridcolor\\\":\\\"white\\\",\\\"ticks\\\":\\\"\\\",\\\"linecolor\\\":\\\"white\\\"},\\\"bgcolor\\\":\\\"#E5ECF6\\\",\\\"radialaxis\\\":{\\\"gridcolor\\\":\\\"white\\\",\\\"ticks\\\":\\\"\\\",\\\"linecolor\\\":\\\"white\\\"}},\\\"autotypenumbers\\\":\\\"strict\\\",\\\"font\\\":{\\\"color\\\":\\\"#2a3f5f\\\"},\\\"ternary\\\":{\\\"baxis\\\":{\\\"gridcolor\\\":\\\"white\\\",\\\"ticks\\\":\\\"\\\",\\\"linecolor\\\":\\\"white\\\"},\\\"bgcolor\\\":\\\"#E5ECF6\\\",\\\"caxis\\\":{\\\"gridcolor\\\":\\\"white\\\",\\\"ticks\\\":\\\"\\\",\\\"linecolor\\\":\\\"white\\\"},\\\"aaxis\\\":{\\\"gridcolor\\\":\\\"white\\\",\\\"ticks\\\":\\\"\\\",\\\"linecolor\\\":\\\"white\\\"}},\\\"annotationdefaults\\\":{\\\"arrowhead\\\":0,\\\"arrowwidth\\\":1,\\\"arrowcolor\\\":\\\"#2a3f5f\\\"},\\\"plot_bgcolor\\\":\\\"#E5ECF6\\\",\\\"title\\\":{\\\"x\\\":0.05},\\\"scene\\\":{\\\"xaxis\\\":{\\\"gridcolor\\\":\\\"white\\\",\\\"gridwidth\\\":2,\\\"backgroundcolor\\\":\\\"#E5ECF6\\\",\\\"ticks\\\":\\\"\\\",\\\"showbackground\\\":true,\\\"zerolinecolor\\\":\\\"white\\\",\\\"linecolor\\\":\\\"white\\\"},\\\"zaxis\\\":{\\\"gridcolor\\\":\\\"white\\\",\\\"gridwidth\\\":2,\\\"backgroundcolor\\\":\\\"#E5ECF6\\\",\\\"ticks\\\":\\\"\\\",\\\"showbackground\\\":true,\\\"zerolinecolor\\\":\\\"white\\\",\\\"linecolor\\\":\\\"white\\\"},\\\"yaxis\\\":{\\\"gridcolor\\\":\\\"white\\\",\\\"gridwidth\\\":2,\\\"backgroundcolor\\\":\\\"#E5ECF6\\\",\\\"ticks\\\":\\\"\\\",\\\"showbackground\\\":true,\\\"zerolinecolor\\\":\\\"white\\\",\\\"linecolor\\\":\\\"white\\\"}},\\\"colorway\\\":[\\\"#636efa\\\",\\\"#EF553B\\\",\\\"#00cc96\\\",\\\"#ab63fa\\\",\\\"#FFA15A\\\",\\\"#19d3f3\\\",\\\"#FF6692\\\",\\\"#B6E880\\\",\\\"#FF97FF\\\",\\\"#FECB52\\\"]},\\\"data\\\":{\\\"barpolar\\\":[{\\\"type\\\":\\\"barpolar\\\",\\\"marker\\\":{\\\"line\\\":{\\\"color\\\":\\\"#E5ECF6\\\",\\\"width\\\":0.5}}}],\\\"carpet\\\":[{\\\"aaxis\\\":{\\\"gridcolor\\\":\\\"white\\\",\\\"endlinecolor\\\":\\\"#2a3f5f\\\",\\\"minorgridcolor\\\":\\\"white\\\",\\\"startlinecolor\\\":\\\"#2a3f5f\\\",\\\"linecolor\\\":\\\"white\\\"},\\\"type\\\":\\\"carpet\\\",\\\"baxis\\\":{\\\"gridcolor\\\":\\\"white\\\",\\\"endlinecolor\\\":\\\"#2a3f5f\\\",\\\"minorgridcolor\\\":\\\"white\\\",\\\"startlinecolor\\\":\\\"#2a3f5f\\\",\\\"linecolor\\\":\\\"white\\\"}}],\\\"scatterpolar\\\":[{\\\"type\\\":\\\"scatterpolar\\\",\\\"marker\\\":{\\\"colorbar\\\":{\\\"ticks\\\":\\\"\\\",\\\"outlinewidth\\\":0}}}],\\\"parcoords\\\":[{\\\"line\\\":{\\\"colorbar\\\":{\\\"ticks\\\":\\\"\\\",\\\"outlinewidth\\\":0}},\\\"type\\\":\\\"parcoords\\\"}],\\\"scatter\\\":[{\\\"type\\\":\\\"scatter\\\",\\\"marker\\\":{\\\"colorbar\\\":{\\\"ticks\\\":\\\"\\\",\\\"outlinewidth\\\":0}}}],\\\"histogram2dcontour\\\":[{\\\"colorbar\\\":{\\\"ticks\\\":\\\"\\\",\\\"outlinewidth\\\":0},\\\"type\\\":\\\"histogram2dcontour\\\",\\\"colorscale\\\":[[0.0,\\\"#0d0887\\\"],[0.1111111111111111,\\\"#46039f\\\"],[0.2222222222222222,\\\"#7201a8\\\"],[0.3333333333333333,\\\"#9c179e\\\"],[0.4444444444444444,\\\"#bd3786\\\"],[0.5555555555555556,\\\"#d8576b\\\"],[0.6666666666666666,\\\"#ed7953\\\"],[0.7777777777777778,\\\"#fb9f3a\\\"],[0.8888888888888888,\\\"#fdca26\\\"],[1.0,\\\"#f0f921\\\"]]}],\\\"contour\\\":[{\\\"colorbar\\\":{\\\"ticks\\\":\\\"\\\",\\\"outlinewidth\\\":0},\\\"type\\\":\\\"contour\\\",\\\"colorscale\\\":[[0.0,\\\"#0d0887\\\"],[0.1111111111111111,\\\"#46039f\\\"],[0.2222222222222222,\\\"#7201a8\\\"],[0.3333333333333333,\\\"#9c179e\\\"],[0.4444444444444444,\\\"#bd3786\\\"],[0.5555555555555556,\\\"#d8576b\\\"],[0.6666666666666666,\\\"#ed7953\\\"],[0.7777777777777778,\\\"#fb9f3a\\\"],[0.8888888888888888,\\\"#fdca26\\\"],[1.0,\\\"#f0f921\\\"]]}],\\\"scattercarpet\\\":[{\\\"type\\\":\\\"scattercarpet\\\",\\\"marker\\\":{\\\"colorbar\\\":{\\\"ticks\\\":\\\"\\\",\\\"outlinewidth\\\":0}}}],\\\"mesh3d\\\":[{\\\"colorbar\\\":{\\\"ticks\\\":\\\"\\\",\\\"outlinewidth\\\":0},\\\"type\\\":\\\"mesh3d\\\"}],\\\"surface\\\":[{\\\"colorbar\\\":{\\\"ticks\\\":\\\"\\\",\\\"outlinewidth\\\":0},\\\"type\\\":\\\"surface\\\",\\\"colorscale\\\":[[0.0,\\\"#0d0887\\\"],[0.1111111111111111,\\\"#46039f\\\"],[0.2222222222222222,\\\"#7201a8\\\"],[0.3333333333333333,\\\"#9c179e\\\"],[0.4444444444444444,\\\"#bd3786\\\"],[0.5555555555555556,\\\"#d8576b\\\"],[0.6666666666666666,\\\"#ed7953\\\"],[0.7777777777777778,\\\"#fb9f3a\\\"],[0.8888888888888888,\\\"#fdca26\\\"],[1.0,\\\"#f0f921\\\"]]}],\\\"scattermapbox\\\":[{\\\"type\\\":\\\"scattermapbox\\\",\\\"marker\\\":{\\\"colorbar\\\":{\\\"ticks\\\":\\\"\\\",\\\"outlinewidth\\\":0}}}],\\\"scattergeo\\\":[{\\\"type\\\":\\\"scattergeo\\\",\\\"marker\\\":{\\\"colorbar\\\":{\\\"ticks\\\":\\\"\\\",\\\"outlinewidth\\\":0}}}],\\\"histogram\\\":[{\\\"type\\\":\\\"histogram\\\",\\\"marker\\\":{\\\"colorbar\\\":{\\\"ticks\\\":\\\"\\\",\\\"outlinewidth\\\":0}}}],\\\"pie\\\":[{\\\"type\\\":\\\"pie\\\",\\\"automargin\\\":true}],\\\"choropleth\\\":[{\\\"colorbar\\\":{\\\"ticks\\\":\\\"\\\",\\\"outlinewidth\\\":0},\\\"type\\\":\\\"choropleth\\\"}],\\\"heatmapgl\\\":[{\\\"colorbar\\\":{\\\"ticks\\\":\\\"\\\",\\\"outlinewidth\\\":0},\\\"type\\\":\\\"heatmapgl\\\",\\\"colorscale\\\":[[0.0,\\\"#0d0887\\\"],[0.1111111111111111,\\\"#46039f\\\"],[0.2222222222222222,\\\"#7201a8\\\"],[0.3333333333333333,\\\"#9c179e\\\"],[0.4444444444444444,\\\"#bd3786\\\"],[0.5555555555555556,\\\"#d8576b\\\"],[0.6666666666666666,\\\"#ed7953\\\"],[0.7777777777777778,\\\"#fb9f3a\\\"],[0.8888888888888888,\\\"#fdca26\\\"],[1.0,\\\"#f0f921\\\"]]}],\\\"bar\\\":[{\\\"type\\\":\\\"bar\\\",\\\"error_y\\\":{\\\"color\\\":\\\"#2a3f5f\\\"},\\\"error_x\\\":{\\\"color\\\":\\\"#2a3f5f\\\"},\\\"marker\\\":{\\\"line\\\":{\\\"color\\\":\\\"#E5ECF6\\\",\\\"width\\\":0.5}}}],\\\"heatmap\\\":[{\\\"colorbar\\\":{\\\"ticks\\\":\\\"\\\",\\\"outlinewidth\\\":0},\\\"type\\\":\\\"heatmap\\\",\\\"colorscale\\\":[[0.0,\\\"#0d0887\\\"],[0.1111111111111111,\\\"#46039f\\\"],[0.2222222222222222,\\\"#7201a8\\\"],[0.3333333333333333,\\\"#9c179e\\\"],[0.4444444444444444,\\\"#bd3786\\\"],[0.5555555555555556,\\\"#d8576b\\\"],[0.6666666666666666,\\\"#ed7953\\\"],[0.7777777777777778,\\\"#fb9f3a\\\"],[0.8888888888888888,\\\"#fdca26\\\"],[1.0,\\\"#f0f921\\\"]]}],\\\"contourcarpet\\\":[{\\\"colorbar\\\":{\\\"ticks\\\":\\\"\\\",\\\"outlinewidth\\\":0},\\\"type\\\":\\\"contourcarpet\\\"}],\\\"table\\\":[{\\\"type\\\":\\\"table\\\",\\\"header\\\":{\\\"line\\\":{\\\"color\\\":\\\"white\\\"},\\\"fill\\\":{\\\"color\\\":\\\"#C8D4E3\\\"}},\\\"cells\\\":{\\\"line\\\":{\\\"color\\\":\\\"white\\\"},\\\"fill\\\":{\\\"color\\\":\\\"#EBF0F8\\\"}}}],\\\"scatter3d\\\":[{\\\"line\\\":{\\\"colorbar\\\":{\\\"ticks\\\":\\\"\\\",\\\"outlinewidth\\\":0}},\\\"type\\\":\\\"scatter3d\\\",\\\"marker\\\":{\\\"colorbar\\\":{\\\"ticks\\\":\\\"\\\",\\\"outlinewidth\\\":0}}}],\\\"scattergl\\\":[{\\\"type\\\":\\\"scattergl\\\",\\\"marker\\\":{\\\"colorbar\\\":{\\\"ticks\\\":\\\"\\\",\\\"outlinewidth\\\":0}}}],\\\"histogram2d\\\":[{\\\"colorbar\\\":{\\\"ticks\\\":\\\"\\\",\\\"outlinewidth\\\":0},\\\"type\\\":\\\"histogram2d\\\",\\\"colorscale\\\":[[0.0,\\\"#0d0887\\\"],[0.1111111111111111,\\\"#46039f\\\"],[0.2222222222222222,\\\"#7201a8\\\"],[0.3333333333333333,\\\"#9c179e\\\"],[0.4444444444444444,\\\"#bd3786\\\"],[0.5555555555555556,\\\"#d8576b\\\"],[0.6666666666666666,\\\"#ed7953\\\"],[0.7777777777777778,\\\"#fb9f3a\\\"],[0.8888888888888888,\\\"#fdca26\\\"],[1.0,\\\"#f0f921\\\"]]}],\\\"scatterternary\\\":[{\\\"type\\\":\\\"scatterternary\\\",\\\"marker\\\":{\\\"colorbar\\\":{\\\"ticks\\\":\\\"\\\",\\\"outlinewidth\\\":0}}}],\\\"scatterpolargl\\\":[{\\\"type\\\":\\\"scatterpolargl\\\",\\\"marker\\\":{\\\"colorbar\\\":{\\\"ticks\\\":\\\"\\\",\\\"outlinewidth\\\":0}}}]}},\\\"legend\\\":{\\\"tracegroupgap\\\":0,\\\"title\\\":{\\\"text\\\":\\\"species\\\"}},\\\"margin\\\":{\\\"l\\\":50,\\\"b\\\":50,\\\"r\\\":50,\\\"t\\\":60},\\\"yaxis\\\":{\\\"title\\\":{\\\"text\\\":\\\"sepal_width\\\"}}},{\\\"showLink\\\":false,\\\"editable\\\":false,\\\"responsive\\\":true,\\\"staticPlot\\\":false,\\\"scrollZoom\\\":true}); gd.on(\\\"plotly_hover\\\",(function (data){var filtered_data=WebIO.PlotlyCommands.filterEventData(gd,data,\\\"hover\\\"); return !(filtered_data.isnil) ? (WebIO.setval({\\\"name\\\":\\\"hover\\\",\\\"scope\\\":\\\"10580776402517774809\\\",\\\"id\\\":\\\"13341943118566407716\\\",\\\"type\\\":\\\"observable\\\"},filtered_data.out)) : undefined})); gd.on(\\\"plotly_unhover\\\",(function (){return WebIO.setval({\\\"name\\\":\\\"hover\\\",\\\"scope\\\":\\\"10580776402517774809\\\",\\\"id\\\":\\\"13341943118566407716\\\",\\\"type\\\":\\\"observable\\\"},{})})); gd.on(\\\"plotly_selected\\\",(function (data){var filtered_data=WebIO.PlotlyCommands.filterEventData(gd,data,\\\"selected\\\"); return !(filtered_data.isnil) ? (WebIO.setval({\\\"name\\\":\\\"selected\\\",\\\"scope\\\":\\\"10580776402517774809\\\",\\\"id\\\":\\\"84107646418004446\\\",\\\"type\\\":\\\"observable\\\"},filtered_data.out)) : undefined})); gd.on(\\\"plotly_deselect\\\",(function (){return WebIO.setval({\\\"name\\\":\\\"selected\\\",\\\"scope\\\":\\\"10580776402517774809\\\",\\\"id\\\":\\\"84107646418004446\\\",\\\"type\\\":\\\"observable\\\"},{})})); gd.on(\\\"plotly_relayout\\\",(function (data){var filtered_data=WebIO.PlotlyCommands.filterEventData(gd,data,\\\"relayout\\\"); return !(filtered_data.isnil) ? (WebIO.setval({\\\"name\\\":\\\"relayout\\\",\\\"scope\\\":\\\"10580776402517774809\\\",\\\"id\\\":\\\"10496887476778906084\\\",\\\"type\\\":\\\"observable\\\"},filtered_data.out)) : undefined})); return gd.on(\\\"plotly_click\\\",(function (data){var filtered_data=WebIO.PlotlyCommands.filterEventData(gd,data,\\\"click\\\"); return !(filtered_data.isnil) ? (WebIO.setval({\\\"name\\\":\\\"click\\\",\\\"scope\\\":\\\"10580776402517774809\\\",\\\"id\\\":\\\"5813401253080270169\\\",\\\"type\\\":\\\"observable\\\"},filtered_data.out)) : undefined}))}));\\n    (WebIO.importBlock({\\\"data\\\":[{\\\"name\\\":\\\"Plotly\\\",\\\"type\\\":\\\"js\\\",\\\"url\\\":\\\"\\/assetserver\\/ebc2568819c45230b18ee19270dfc0cc82744584-plotly.min.js\\\"},{\\\"name\\\":null,\\\"type\\\":\\\"js\\\",\\\"url\\\":\\\"\\/assetserver\\/227691613ecb7cfbcd71a984c241099bdc549b0a-plotly_webio.bundle.js\\\"}],\\\"type\\\":\\\"async_block\\\"})).then((imports) => handler.apply(this, imports));\\n}\\n\"],\"observables\":{\"_toImage\":{\"sync\":false,\"id\":\"8362101849203314549\",\"value\":{}},\"hover\":{\"sync\":false,\"id\":\"13341943118566407716\",\"value\":{}},\"selected\":{\"sync\":false,\"id\":\"84107646418004446\",\"value\":{}},\"__gd_contents\":{\"sync\":false,\"id\":\"3175789746499855812\",\"value\":{}},\"click\":{\"sync\":false,\"id\":\"5813401253080270169\",\"value\":{}},\"image\":{\"sync\":true,\"id\":\"5113891963753379681\",\"value\":\"\"},\"__get_gd_contents\":{\"sync\":false,\"id\":\"10727440513881691852\",\"value\":\"\"},\"_downloadImage\":{\"sync\":false,\"id\":\"8150212551691798110\",\"value\":{}},\"relayout\":{\"sync\":false,\"id\":\"10496887476778906084\",\"value\":{}},\"_commands\":{\"sync\":false,\"id\":\"5885947004544906821\",\"value\":[]}}},\"children\":[{\"props\":{\"id\":\"plot-7ac74ec1-cc08-42f7-ac81-6b68da868a23\"},\"nodeType\":\"DOM\",\"type\":\"node\",\"instanceArgs\":{\"namespace\":\"html\",\"tag\":\"div\"},\"children\":[]}]},\n",
       "        window,\n",
       "    );\n",
       "    })()\n",
       "    </script>\n",
       "</div>\n"
      ],
      "text/plain": [
       "data: [\n",
       "  \"scatter3d with fields legendgroup, marker, mode, name, showlegend, type, x, xaxis, y, yaxis, and z\",\n",
       "  \"scatter3d with fields legendgroup, marker, mode, name, showlegend, type, x, xaxis, y, yaxis, and z\",\n",
       "  \"scatter3d with fields legendgroup, marker, mode, name, showlegend, type, x, xaxis, y, yaxis, and z\"\n",
       "]\n",
       "\n",
       "layout: \"layout with fields legend, margin, template, xaxis, and yaxis\"\n",
       "\n"
      ]
     },
     "metadata": {},
     "output_type": "display_data"
    }
   ],
   "source": [
    "using PlotlyJS, CSV, DataFrames\n",
    "\n",
    "df = dataset(DataFrame, \"iris\")\n",
    "PlotlyJS.plot(\n",
    "    df,\n",
    "    x=:sepal_length, y=:sepal_width, z=:petal_width, color=:species,\n",
    "    type=\"scatter3d\", mode=\"markers\"\n",
    ")"
   ]
  },
  {
   "cell_type": "code",
   "execution_count": 50,
   "metadata": {},
   "outputs": [],
   "source": [
    "Projects = unique(DataFrame(\"case_id\" => USI, \"project\"=> Project_ID));\n"
   ]
  },
  {
   "cell_type": "code",
   "execution_count": 51,
   "metadata": {},
   "outputs": [
    {
     "data": {
      "text/html": [
       "<div class=\"data-frame\"><p>10,383 rows × 3 columns</p><table class=\"data-frame\"><thead><tr><th></th><th>case_id</th><th>II</th><th>project</th></tr><tr><th></th><th title=\"String\">String</th><th title=\"Int64\">Int64</th><th title=\"Any\">Any</th></tr></thead><tbody><tr><th>1</th><td>0004d251-3f70-4395-b175-c94c2f5b1b81</td><td>1</td><td>TCGA-LIHC</td></tr><tr><th>2</th><td>000d566c-96c7-4f1c-b36e-fa2222467983</td><td>2</td><td>TCGA-PRAD</td></tr><tr><th>3</th><td>0011a67b-1ba9-4a32-a6b8-7850759a38cf</td><td>3</td><td>TCGA-READ</td></tr><tr><th>4</th><td>001887aa-36d0-463f-8bca-dec7043b4f2e</td><td>4</td><td>TCGA-LIHC</td></tr><tr><th>5</th><td>001944e5-af34-4061-9c09-bb9ea346f6fd</td><td>5</td><td>TCGA-BLCA</td></tr><tr><th>6</th><td>001ad307-4ad3-4f1d-b2fc-efc032871c7e</td><td>6</td><td>TCGA-LGG</td></tr><tr><th>7</th><td>001cef41-ff86-4d3f-a140-a647ac4b10a1</td><td>7</td><td>TCGA-BRCA</td></tr><tr><th>8</th><td>001e0309-9c50-42b0-9e38-347883ee2cd3</td><td>8</td><td>TCGA-UCEC</td></tr><tr><th>9</th><td>0020317d-d10e-4e75-8fa6-7c1bdcdee471</td><td>9</td><td>TCGA-SARC</td></tr><tr><th>10</th><td>0022478c-4dfd-4cbe-a05e-fb20310844e3</td><td>10</td><td>TCGA-KIRC</td></tr><tr><th>11</th><td>0024ab57-4036-4b0f-b7a1-040f97787022</td><td>11</td><td>TCGA-PCPG</td></tr><tr><th>12</th><td>002724fa-7051-49fa-9c58-4bcb7eba4ac6</td><td>12</td><td>TCGA-UCEC</td></tr><tr><th>13</th><td>0030a28c-81aa-44b0-8be0-b35e1dcbf98c</td><td>13</td><td>TCGA-DLBC</td></tr><tr><th>14</th><td>00397ce0-a931-46dd-9407-c1c6a14c39f1</td><td>14</td><td>TCGA-MESO</td></tr><tr><th>15</th><td>0045349c-69d9-4306-a403-c9c1fa836644</td><td>15</td><td>TCGA-BRCA</td></tr><tr><th>16</th><td>0050d8be-1db6-4c17-8bef-3ae2eaaa63ce</td><td>16</td><td>TCGA-THYM</td></tr><tr><th>17</th><td>005669e5-1a31-45fb-ae97-9d450e74e7cb</td><td>17</td><td>TCGA-LUSC</td></tr><tr><th>18</th><td>005a6517-2e5a-4ea3-ab36-531522723607</td><td>18</td><td>TCGA-OV</td></tr><tr><th>19</th><td>0061e9ef-df6a-414e-af64-c88f8192e2d3</td><td>19</td><td>TCGA-LGG</td></tr><tr><th>20</th><td>0073a136-d5f4-4fd6-88f9-711768f2abc6</td><td>20</td><td>TCGA-LGG</td></tr><tr><th>21</th><td>0075437e-ba1a-46be-86d6-9773209a2b5e</td><td>21</td><td>TCGA-LUAD</td></tr><tr><th>22</th><td>00781a96-4068-427c-a9c5-584d167c3dea</td><td>22</td><td>TCGA-STAD</td></tr><tr><th>23</th><td>0078b0c4-68a9-483b-9aab-61156d263213</td><td>23</td><td>TCGA-GBM</td></tr><tr><th>24</th><td>007f9081-5093-4323-b4f8-cd510bf20705</td><td>24</td><td>TCGA-PRAD</td></tr><tr><th>&vellip;</th><td>&vellip;</td><td>&vellip;</td><td>&vellip;</td></tr></tbody></table></div>"
      ],
      "text/latex": [
       "\\begin{tabular}{r|ccc}\n",
       "\t& case\\_id & II & project\\\\\n",
       "\t\\hline\n",
       "\t& String & Int64 & Any\\\\\n",
       "\t\\hline\n",
       "\t1 & 0004d251-3f70-4395-b175-c94c2f5b1b81 & 1 & TCGA-LIHC \\\\\n",
       "\t2 & 000d566c-96c7-4f1c-b36e-fa2222467983 & 2 & TCGA-PRAD \\\\\n",
       "\t3 & 0011a67b-1ba9-4a32-a6b8-7850759a38cf & 3 & TCGA-READ \\\\\n",
       "\t4 & 001887aa-36d0-463f-8bca-dec7043b4f2e & 4 & TCGA-LIHC \\\\\n",
       "\t5 & 001944e5-af34-4061-9c09-bb9ea346f6fd & 5 & TCGA-BLCA \\\\\n",
       "\t6 & 001ad307-4ad3-4f1d-b2fc-efc032871c7e & 6 & TCGA-LGG \\\\\n",
       "\t7 & 001cef41-ff86-4d3f-a140-a647ac4b10a1 & 7 & TCGA-BRCA \\\\\n",
       "\t8 & 001e0309-9c50-42b0-9e38-347883ee2cd3 & 8 & TCGA-UCEC \\\\\n",
       "\t9 & 0020317d-d10e-4e75-8fa6-7c1bdcdee471 & 9 & TCGA-SARC \\\\\n",
       "\t10 & 0022478c-4dfd-4cbe-a05e-fb20310844e3 & 10 & TCGA-KIRC \\\\\n",
       "\t11 & 0024ab57-4036-4b0f-b7a1-040f97787022 & 11 & TCGA-PCPG \\\\\n",
       "\t12 & 002724fa-7051-49fa-9c58-4bcb7eba4ac6 & 12 & TCGA-UCEC \\\\\n",
       "\t13 & 0030a28c-81aa-44b0-8be0-b35e1dcbf98c & 13 & TCGA-DLBC \\\\\n",
       "\t14 & 00397ce0-a931-46dd-9407-c1c6a14c39f1 & 14 & TCGA-MESO \\\\\n",
       "\t15 & 0045349c-69d9-4306-a403-c9c1fa836644 & 15 & TCGA-BRCA \\\\\n",
       "\t16 & 0050d8be-1db6-4c17-8bef-3ae2eaaa63ce & 16 & TCGA-THYM \\\\\n",
       "\t17 & 005669e5-1a31-45fb-ae97-9d450e74e7cb & 17 & TCGA-LUSC \\\\\n",
       "\t18 & 005a6517-2e5a-4ea3-ab36-531522723607 & 18 & TCGA-OV \\\\\n",
       "\t19 & 0061e9ef-df6a-414e-af64-c88f8192e2d3 & 19 & TCGA-LGG \\\\\n",
       "\t20 & 0073a136-d5f4-4fd6-88f9-711768f2abc6 & 20 & TCGA-LGG \\\\\n",
       "\t21 & 0075437e-ba1a-46be-86d6-9773209a2b5e & 21 & TCGA-LUAD \\\\\n",
       "\t22 & 00781a96-4068-427c-a9c5-584d167c3dea & 22 & TCGA-STAD \\\\\n",
       "\t23 & 0078b0c4-68a9-483b-9aab-61156d263213 & 23 & TCGA-GBM \\\\\n",
       "\t24 & 007f9081-5093-4323-b4f8-cd510bf20705 & 24 & TCGA-PRAD \\\\\n",
       "\t$\\dots$ & $\\dots$ & $\\dots$ & $\\dots$ \\\\\n",
       "\\end{tabular}\n"
      ],
      "text/plain": [
       "\u001b[1m10383×3 DataFrame\u001b[0m\n",
       "\u001b[1m   Row \u001b[0m│\u001b[1m case_id                           \u001b[0m\u001b[1m II    \u001b[0m\u001b[1m project   \u001b[0m\n",
       "\u001b[1m       \u001b[0m│\u001b[90m String                            \u001b[0m\u001b[90m Int64 \u001b[0m\u001b[90m Any       \u001b[0m\n",
       "───────┼─────────────────────────────────────────────────────\n",
       "     1 │ 0004d251-3f70-4395-b175-c94c2f5b…      1  TCGA-LIHC\n",
       "     2 │ 000d566c-96c7-4f1c-b36e-fa222246…      2  TCGA-PRAD\n",
       "     3 │ 0011a67b-1ba9-4a32-a6b8-7850759a…      3  TCGA-READ\n",
       "     4 │ 001887aa-36d0-463f-8bca-dec7043b…      4  TCGA-LIHC\n",
       "     5 │ 001944e5-af34-4061-9c09-bb9ea346…      5  TCGA-BLCA\n",
       "     6 │ 001ad307-4ad3-4f1d-b2fc-efc03287…      6  TCGA-LGG\n",
       "     7 │ 001cef41-ff86-4d3f-a140-a647ac4b…      7  TCGA-BRCA\n",
       "     8 │ 001e0309-9c50-42b0-9e38-347883ee…      8  TCGA-UCEC\n",
       "   ⋮   │                 ⋮                    ⋮        ⋮\n",
       " 10377 │ ffcfa005-a04f-458e-9d1d-86143dd8…  10377  TCGA-ESCA\n",
       " 10378 │ ffd8d31f-bc4b-4e19-bbaf-0e26e9f3…  10378  TCGA-CESC\n",
       " 10379 │ ffed886e-261e-464c-aa27-8204dd0e…  10379  TCGA-KIRC\n",
       " 10380 │ ffedc8be-1056-4205-b9d9-99b5bdb8…  10380  TCGA-UCS\n",
       " 10381 │ fff304a2-113f-499d-a88c-9d3660c3…  10381  TCGA-LGG\n",
       " 10382 │ fff35c80-88cd-4923-80c1-0273ba5b…  10382  TCGA-LAML\n",
       " 10383 │ fffdb1d9-58d1-425c-ac12-1e1e5f44…  10383  TCGA-THCA\n",
       "\u001b[36m                                           10368 rows omitted\u001b[0m"
      ]
     },
     "metadata": {},
     "output_type": "display_data"
    }
   ],
   "source": [
    "samples_df = DataFrame(:case_id=>samples, :II=>collect(1:length(samples)))\n",
    "samples_df = sort(innerjoin(samples_df, Projects, on = :case_id), :II)\n",
    "    "
   ]
  },
  {
   "cell_type": "code",
   "execution_count": 54,
   "metadata": {},
   "outputs": [],
   "source": [
    "\n",
    "outfile = h5open(\"Data/TCGA_tpm_n10384_btypes_labels.h5\", \"w\")\n",
    "outfile[\"data\"] = log10.(m[samples_df.II,:] .+ 1) \n",
    "outfile[\"samples\"] = Array{String}(samples[samples_df.II]) \n",
    "outfile[\"labels\"] = Array{String}(samples_df.project) \n",
    "outfile[\"genes\"] = Array{String}(genes) \n",
    "outfile[\"biotypes\"] = Array{String}(biotypes)\n",
    "close(outfile)\n"
   ]
  },
  {
   "cell_type": "code",
   "execution_count": 57,
   "metadata": {},
   "outputs": [
    {
     "data": {
      "text/plain": [
       "(10383,)"
      ]
     },
     "metadata": {},
     "output_type": "display_data"
    }
   ],
   "source": [
    "size(samples)\n",
    "size(m)\n",
    "size(genes)\n",
    "size(biotypes)\n",
    "size(samples_df.project)\n",
    "#unique(FULL_CLIN_DF.II)"
   ]
  },
  {
   "cell_type": "code",
   "execution_count": null,
   "metadata": {},
   "outputs": [],
   "source": []
  }
 ],
 "metadata": {
  "kernelspec": {
   "display_name": "Julia 1.10.0",
   "language": "julia",
   "name": "julia-1.10"
  },
  "language_info": {
   "file_extension": ".jl",
   "mimetype": "application/julia",
   "name": "julia",
   "version": "1.10.0"
  }
 },
 "nbformat": 4,
 "nbformat_minor": 2
}
