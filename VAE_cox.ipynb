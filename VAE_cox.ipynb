{
 "cells": [
  {
   "cell_type": "markdown",
   "metadata": {},
   "source": [
    "# ISMB figures notebook"
   ]
  },
  {
   "cell_type": "code",
   "execution_count": 1,
   "metadata": {},
   "outputs": [
    {
     "name": "stderr",
     "output_type": "stream",
     "text": [
      "\u001b[32m\u001b[1m  Activating\u001b[22m\u001b[39m project at `~/vae_cox`\n"
     ]
    }
   ],
   "source": [
    "\n",
    "include(\"engines/init.jl\")\n",
    "include(\"engines/data_processing.jl\")\n",
    "include(\"engines/deep_learning.jl\")\n",
    "include(\"engines/cross_validation.jl\")\n",
    "outpath, session_id = set_dirs() ;"
   ]
  },
  {
   "cell_type": "code",
   "execution_count": 11,
   "metadata": {},
   "outputs": [
    {
     "data": {
      "text/plain": [
       "MLSurvDataset(Float32[3.21643 0.30103 … 0.0 1.4149734; 3.2214143 0.845098 … 0.47712126 1.9777236; … ; 3.299943 0.0 … 0.0 1.9138138; 3.067071 0.47712126 … 0.69897 1.80618], [\"001ad307-4ad3-4f1d-b2fc-efc032871c7e\", \"0061e9ef-df6a-414e-af64-c88f8192e2d3\", \"0073a136-d5f4-4fd6-88f9-711768f2abc6\", \"00b18ad6-ff70-41fe-8f4d-0763ac8f28b9\", \"010aac75-3bfe-4bf2-b866-af0f2d92f125\", \"0167cf11-74be-4701-ab9a-4e057d4bb545\", \"019c5de9-74fd-48b7-95a3-227532e16c5a\", \"01a13aba-74a4-4895-a5ad-e5119925c202\", \"01c4ca12-ac08-41dd-9e4f-bfb0971688a2\", \"02194c0c-e2c1-4ea7-994a-07b61b2575e2\"  …  \"fc8828ae-484d-4fc8-a168-f8bc58ad65b9\", \"fcd9e1c4-bddb-4856-844c-03df48fba499\", \"fcf14e9d-4671-453d-b8e0-5008e916f56d\", \"fdff46a7-f92a-45cf-8756-6c73a406c923\", \"fe5c5c11-ef39-4907-9a70-67f37bb62fd7\", \"fea46eef-6b7f-44c3-93bf-2dec16bdeb79\", \"febe2ce5-737b-43b8-bc70-4194fe3ed5fb\", \"fee2114e-f723-4374-91f8-f1dcc6b3eaee\", \"ffcec8e5-9fd3-4b42-a7cb-74761f713cf4\", \"fff304a2-113f-499d-a88c-9d3660c348d9\"], [\"TSPAN6\", \"TNMD\", \"DPM1\", \"SCYL3\", \"C1orf112\", \"FGR\", \"CFH\", \"FUCA2\", \"GCLC\", \"NFYA\"  …  \"AL451106.1\", \"AC092910.4\", \"AC073611.1\", \"AC136977.1\", \"AC078856.1\", \"AC008763.4\", \"AL592295.6\", \"AC006486.3\", \"AL391628.1\", \"AP006621.6\"], [\"protein_coding\", \"protein_coding\", \"protein_coding\", \"protein_coding\", \"protein_coding\", \"protein_coding\", \"protein_coding\", \"protein_coding\", \"protein_coding\", \"protein_coding\"  …  \"protein_coding\", \"lncRNA\", \"lncRNA\", \"lncRNA\", \"lncRNA\", \"protein_coding\", \"lncRNA\", \"protein_coding\", \"protein_coding\", \"protein_coding\"], [\"9382/3\", \"9451/3\", \"9401/3\", \"9451/3\", \"9450/3\", \"9401/3\", \"9400/3\", \"9401/3\", \"9450/3\", \"9382/3\"  …  \"9451/3\", \"9401/3\", \"9400/3\", \"9401/3\", \"9382/3\", \"9401/3\", \"9382/3\", \"9451/3\", \"9400/3\", \"9450/3\"], [82, 4084, 609, 494, 2772, 1033, 3725, 608, 4695, 956  …  431, 6423, 772, 74, 414, 15, 721, 1220, 526, 933], [0, 1, 0, 0, 0, 1, 0, 0, 1, 0  …  0, 0, 0, 0, 0, 0, 0, 1, 0, 0])"
      ]
     },
     "metadata": {},
     "output_type": "display_data"
    }
   ],
   "source": [
    "LGG = MLSurvDataset(\"Data/TCGA_LGG_tpm_n513_btypes_labels_surv.h5\")"
   ]
  },
  {
   "cell_type": "code",
   "execution_count": 12,
   "metadata": {},
   "outputs": [
    {
     "data": {
      "text/plain": [
       "MLSurvDataset(Float32[3.2911468 0.7781513 … 1.1760913 2.3384564; 2.9527924 1.3617278 … 0.30103 1.5185139; … ; 3.4551494 0.30103 … 0.30103 2.0681858; 3.796019 0.60206 … 0.7781513 2.0530784], [\"005a6517-2e5a-4ea3-ab36-531522723607\", \"01ea6354-137b-47f3-9021-a01a382b1147\", \"02594e5e-8751-47c1-9245-90c66984b665\", \"02d9aa2e-b16a-48ea-a420-5daed9fd51a6\", \"0484a929-7a7f-4926-8d25-470ddab082ec\", \"04ecaf38-0232-4dcd-9242-308a22cc1331\", \"05019013-7ea5-4905-ac79-901146ba2ee2\", \"05263959-c4f5-4540-b6d2-d8c8a128861f\", \"05ba5839-e00a-4a9e-8ba3-ecb490781e62\", \"062982f8-9f49-425a-99e9-008af5ed9040\"  …  \"f9793a4b-c0e7-4475-bf80-69543b7ee2f6\", \"f9c835db-2ab6-4bf5-826f-48723493c0ec\", \"f9f44f86-10c7-4473-b156-5afbfa9a2ad0\", \"fbb45305-de8d-4baf-8bd0-047b29c2e9d9\", \"fd4740db-76a8-4362-be71-7b609479bb67\", \"fdf83fdf-dfbb-4306-9a1b-b4487d18b402\", \"fe0e3851-d8cb-4533-9536-b4826cd25f87\", \"fe402983-70da-44db-b7b1-c32702ddde26\", \"fef1696c-a8f4-4db6-8615-e486522baaaa\", \"ff844242-7559-4b07-b09e-69ea40e5ac6b\"], [\"TSPAN6\", \"TNMD\", \"DPM1\", \"SCYL3\", \"C1orf112\", \"FGR\", \"CFH\", \"FUCA2\", \"GCLC\", \"NFYA\"  …  \"AL451106.1\", \"AC092910.4\", \"AC073611.1\", \"AC136977.1\", \"AC078856.1\", \"AC008763.4\", \"AL592295.6\", \"AC006486.3\", \"AL391628.1\", \"AP006621.6\"], [\"protein_coding\", \"protein_coding\", \"protein_coding\", \"protein_coding\", \"protein_coding\", \"protein_coding\", \"protein_coding\", \"protein_coding\", \"protein_coding\", \"protein_coding\"  …  \"protein_coding\", \"lncRNA\", \"lncRNA\", \"lncRNA\", \"lncRNA\", \"protein_coding\", \"lncRNA\", \"protein_coding\", \"protein_coding\", \"protein_coding\"], [\"8441/3\", \"8441/3\", \"8441/3\", \"8441/3\", \"8441/3\", \"8441/3\", \"8441/3\", \"8441/3\", \"8441/3\", \"8441/3\"  …  \"8441/3\", \"8441/3\", \"8441/3\", \"8441/3\", \"8441/3\", \"8441/3\", \"8441/3\", \"8441/3\", \"8441/3\", \"8441/3\"], [74, 1199, 1919, 147, 947, 967, 2400, 2338, 23, 857  …  194, 555, 1933, 2614, 1369, 130, 1106, 2438, 232, 760], [1, 1, 0, 0, 0, 0, 1, 0, 1, 1  …  0, 1, 1, 0, 1, 0, 1, 0, 0, 1])"
      ]
     },
     "metadata": {},
     "output_type": "display_data"
    }
   ],
   "source": [
    "OV = MLSurvDataset(\"Data/TCGA_OV_tpm_n420_btypes_labels_surv.h5\")"
   ]
  },
  {
   "cell_type": "code",
   "execution_count": 13,
   "metadata": {},
   "outputs": [
    {
     "data": {
      "text/plain": [
       "MLSurvDataset(Float32[2.628389 0.60206 … 0.47712126 1.30103; 3.3195224 2.4843 … 0.90309 1.3617278; … ; 3.2151086 1.0413927 … 0.0 1.0791812; 3.328991 1.0 … 0.60206 1.5563025], [\"001cef41-ff86-4d3f-a140-a647ac4b10a1\", \"0045349c-69d9-4306-a403-c9c1fa836644\", \"00807dae-9f4a-4fd1-aac2-82eb11bf2afb\", \"00a2d166-78c9-4687-a195-3d6315c27574\", \"00b11ca8-8540-4a3d-b602-ec754b00230b\", \"011b9b2d-ebe5-42bf-9662-d922faccc7a1\", \"01263518-5f7c-49dc-8d7e-84b0c03a6a63\", \"0130d616-885e-4a6c-9d03-2f17dd692a05\", \"01674b2c-5cf2-478f-84a1-f69c39f47bd4\", \"016caf42-4e19-4444-ab5d-6cf1e76c4afa\"  …  \"fb57c598-b45b-478a-9d34-ca1f050d5b7c\", \"fbee40f1-d6d8-4156-8d42-36e09bb9f095\", \"fc18d029-9be2-4fa0-9aef-6d647dc55f0b\", \"fcef8cb5-fb2c-4bfb-82cd-6b9f3145182c\", \"fd0b1b8b-1a76-480a-b61c-d176e4e02c6b\", \"fe15c48b-116d-461e-9b40-68514730fd18\", \"fe2cd610-aa52-4789-ac62-7683281bb22f\", \"fe7f74b8-20f4-4471-91dc-4cca8c68e5c0\", \"fec0da58-1047-44d2-b6d1-c18cceed43dc\", \"ff0f875f-113a-4c0f-8c0a-4259cd496e6d\"], [\"TSPAN6\", \"TNMD\", \"DPM1\", \"SCYL3\", \"C1orf112\", \"FGR\", \"CFH\", \"FUCA2\", \"GCLC\", \"NFYA\"  …  \"AL451106.1\", \"AC092910.4\", \"AC073611.1\", \"AC136977.1\", \"AC078856.1\", \"AC008763.4\", \"AL592295.6\", \"AC006486.3\", \"AL391628.1\", \"AP006621.6\"], [\"protein_coding\", \"protein_coding\", \"protein_coding\", \"protein_coding\", \"protein_coding\", \"protein_coding\", \"protein_coding\", \"protein_coding\", \"protein_coding\", \"protein_coding\"  …  \"protein_coding\", \"lncRNA\", \"lncRNA\", \"lncRNA\", \"lncRNA\", \"protein_coding\", \"lncRNA\", \"protein_coding\", \"protein_coding\", \"protein_coding\"], [\"LumA\", \"Basal\", \"Her2\", \"Her2\", \"Normal\", \"LumA\", \"LumB\", \"LumA\", \"Basal\", \"Basal\"  …  \"LumA\", \"LumB\", \"Basal\", \"Normal\", \"Her2\", \"Normal\", \"LumA\", \"Basal\", \"LumA\", \"Her2\"], [337, 259, 3102, 5, 759, 954, 304, 503, 915, 3248  …  78, 572, 584, 414, 2164, 2813, 5, 1532, 375, 381], [0, 0, 0, 0, 0, 0, 0, 0, 0, 0  …  0, 0, 0, 0, 0, 0, 0, 0, 0, 0])"
      ]
     },
     "metadata": {},
     "output_type": "display_data"
    }
   ],
   "source": [
    "BRCA = MLSurvDataset(\"Data/TCGA_BRCA_tpm_n1049_btypes_labels_surv.h5\")"
   ]
  },
  {
   "cell_type": "code",
   "execution_count": 14,
   "metadata": {},
   "outputs": [
    {
     "data": {
      "text/plain": [
       "MLSurvDataset(Float32[0.008600163 0.0 … 0.0 0.0; 0.033423774 0.00432137 … 0.0 0.029383799; … ; 0.4828736 0.0 … 0.0 0.15836251; 0.045322984 0.017033324 … 0.0 0.20682588], [\"01H001\", \"02H003\", \"02H009\", \"02H017\", \"02H026\", \"02H033\", \"02H053\", \"02H066\", \"03H016\", \"03H022\"  …  \"13H186\", \"14H001\", \"14H007\", \"14H012\", \"14H015\", \"14H017\", \"14H019\", \"14H020\", \"14H023\", \"14H038\"], [\"TSPAN6\", \"TNMD\", \"DPM1\", \"SCYL3\", \"C1orf112\", \"FGR\", \"CFH\", \"FUCA2\", \"GCLC\", \"NFYA\"  …  \"AP003086.3\", \"AL109627.1\", \"AC084851.4\", \"AC024558.2\", \"AC108479.4\", \"AL512357.2\", \"AL138899.3\", \"AL669830.1\", \"AC091135.2\", \"AL357075.5\"], [\"lncRNA\", \"lncRNA\", \"protein_coding\", \"lncRNA\", \"protein_coding\", \"lncRNA\", \"protein_coding,retained_intron\", \"lncRNA\", \"protein_coding\", \"protein_coding\"  …  \"transcribed_processed_pseudogene\", \"lncRNA\", \"processed_pseudogene\", \"protein_coding\", \"unprocessed_pseudogene\", \"lncRNA\", \"protein_coding\", \"retained_intron\", \"unprocessed_pseudogene\", \"protein_coding\"], [\"Therapy-related myeloid neoplasms\", \"AML with minimal differentiation\", \"AML without maturation\", \"AML with minimal differentiation\", \"AML with myelodysplasia-related changes\", \"Acute monoblastic and monocytic leukaemia\", \"AML without maturation\", \"AML without maturation\", \"Acute monoblastic and monocytic leukaemia\", \"AML with myelodysplasia-related changes\"  …  \"Acute myelomonocytic leukaemia\", \"AML without maturation\", \"AML with maturation\", \"AML with minimal differentiation\", \"Acute myelomonocytic leukaemia\", \"AML without maturation\", \"AML with minimal differentiation\", \"AML without maturation\", \"AML with myelodysplasia-related changes\", \"AML with inv(3)(q21q26.2) or t(3;3)(q21;q26.2); RPN1-EVI1\"], [2170, 1396, 236, 284, 358, 101, 37, 135, 6033, 805  …  150, 2086, 75, 1467, 207, 213, 1983, 1952, 36, 255], [1, 1, 1, 1, 1, 1, 1, 1, 0, 1  …  1, 0, 1, 1, 1, 1, 0, 0, 1, 1])"
      ]
     },
     "metadata": {},
     "output_type": "display_data"
    }
   ],
   "source": [
    "LAML = MLSurvDataset(\"Data/LGN_AML_tpm_n300_btypes_labels_surv.h5\") "
   ]
  },
  {
   "cell_type": "code",
   "execution_count": 28,
   "metadata": {},
   "outputs": [
    {
     "data": {
      "text/plain": [
       "Chain(\n",
       "  Dense(14996 => 1; bias=false),        \u001b[90m# 14_996 parameters\u001b[39m\n",
       ") "
      ]
     },
     "metadata": {},
     "output_type": "display_data"
    }
   ],
   "source": [
    "cox_ridge = gpu(Chain(Dense(params_dict[\"insize\"], 1, bias = false)))"
   ]
  },
  {
   "cell_type": "code",
   "execution_count": 37,
   "metadata": {},
   "outputs": [
    {
     "data": {
      "text/plain": [
       "4.958"
      ]
     },
     "metadata": {},
     "output_type": "display_data"
    }
   ],
   "source": [
    "ps1 = Flux.params(cox_ridge)\n",
    "gs1 = gradient(ps1) do \n",
    "    cox_nll_vec(cox_ridge, train_x, train_y_e, NE_frac_tr) + l2_penalty(cox_ridge)\n",
    "end \n",
    "Flux.update!(opt1,ps1, gs1)\n",
    "vaecox_loss =  round(cox_nll_vec(cox_ridge, train_x, train_y_e, NE_frac_tr) + l2_penalty(cox_ridge) * wd , digits = 3)  \n",
    "    "
   ]
  },
  {
   "cell_type": "code",
   "execution_count": 15,
   "metadata": {},
   "outputs": [
    {
     "data": {
      "text/plain": [
       "format_train_test (generic function with 1 method)"
      ]
     },
     "metadata": {},
     "output_type": "display_data"
    }
   ],
   "source": [
    "function format_train_test(fold; device = gpu)\n",
    "    nsamples = size(fold[\"train_x\"])[1]\n",
    "    ordering = sortperm(-fold[\"Y_t_train\"])\n",
    "    train_x = device(Matrix(fold[\"train_x\"][ordering,:]'));\n",
    "    train_y_t = device(Matrix(fold[\"Y_t_train\"][ordering,:]'));\n",
    "    train_y_e = device(Matrix(fold[\"Y_e_train\"][ordering,:]'));\n",
    "    NE_frac_tr = sum(train_y_e .== 1) != 0 ? 1 / sum(train_y_e .== 1) : 0\n",
    "\n",
    "    nsamples = size(fold[\"test_x\"])[1]\n",
    "    ordering = sortperm(-fold[\"Y_t_test\"])\n",
    "    test_x = device(Matrix(fold[\"test_x\"][ordering,:]'));\n",
    "    test_y_t = device(Matrix(fold[\"Y_t_test\"][ordering,:]'));\n",
    "    test_y_e = device(Matrix(fold[\"Y_e_test\"][ordering,:]'));\n",
    "    NE_frac_tst = sum(test_y_e .== 1) != 0 ? 1 / sum(test_y_e .== 1) : 0\n",
    "    return train_x, train_y_t, train_y_e, NE_frac_tr, test_x, test_y_t, test_y_e, NE_frac_tst\n",
    "end "
   ]
  },
  {
   "cell_type": "code",
   "execution_count": 19,
   "metadata": {},
   "outputs": [
    {
     "data": {
      "text/plain": [
       "data_prep_pca (generic function with 1 method)"
      ]
     },
     "metadata": {},
     "output_type": "display_data"
    }
   ],
   "source": [
    "function data_prep_pca(DATA;nfolds = 5, nepochs =1000, dim_redux= 125)\n",
    "    keep = [occursin(\"protein_coding\", bt) for bt in DATA.biotypes]\n",
    "    println(\"nb genes : $(sum(keep))\")\n",
    "    println(\"nb patients : $(size(DATA.samples)[1])\")\n",
    "    println(\"% uncensored : $(mean(DATA.surve .!= 0))\")\n",
    "    M = fit(PCA, Matrix(DATA.data[:,keep]'))\n",
    "    pca_data = Matrix(predict(M, Matrix(DATA.data[:,keep]') )')\n",
    "    params_dict = Dict(\n",
    "            ## run infos \n",
    "            \"session_id\" => session_id, \"nfolds\" =>5,  \"modelid\" => \"$(bytes2hex(sha256(\"$(now())\"))[1:Int(floor(end/3))])\",\n",
    "            \"machine_id\"=>strip(read(`hostname`, String)), \"device\" => \"$(device())\", \"model_title\"=>\"AECPHDNN\",\n",
    "            ## data infos \n",
    "            \"dataset\" => \"LAML_pca\", \"nsamples\" => size(DATA.samples)[1],\n",
    "            \"nsamples_test\" => Int(round(size(DATA.samples)[1] / nfolds)), \"ngenes\" => size(DATA.genes[keep])[1],\n",
    "            \"nsamples_train\" => size(DATA.samples)[1] - Int(round(size(DATA.samples)[1] / nfolds)),\n",
    "            ## optim infos \n",
    "            \"nepochs\" => nepochs, \"ae_lr\" =>1e-6, \"cph_lr\" => 1e-5, \"ae_wd\" => 1e-6, \"cph_wd\" => 1e-6,\n",
    "            ## model infos\n",
    "            \"model_type\"=> \"vaecox\", \"dim_redux\" => dim_redux, \"ae_nb_hls\" => 2,\n",
    "            \"enc_nb_hl\" => 2, \"enc_hl_size\"=> 128,\n",
    "            \"venc_nb_hl\" => 2, \"venc_hl_size\"=> 128,  \"dec_nb_hl\" => 2 , \"dec_hl_size\"=> 128,\n",
    "            \"nb_clinf\" => 0, \"cph_nb_hl\" => 2, \"cph_hl_size\" => 64, \n",
    "            \"insize\" => size(pca_data)[2],\n",
    "            ## metrics\n",
    "            \"model_cv_complete\" => false\n",
    "        )\n",
    "    # split train test\n",
    "    \n",
    "    folds = split_train_test(pca_data[:,1:30], DATA.survt, DATA.surve, DATA.samples;nfolds =5)\n",
    "    fold = folds[1]\n",
    "    # format input data  \n",
    "    train_x, train_y_t, train_y_e, NE_frac_tr, test_x, test_y_t, test_y_e, NE_frac_tst = format_train_test(fold)\n",
    "\n",
    "    return train_x, train_y_t, train_y_e, NE_frac_tr, test_x, test_y_t, test_y_e, NE_frac_tst, params_dict\n",
    "end"
   ]
  },
  {
   "cell_type": "code",
   "execution_count": 21,
   "metadata": {},
   "outputs": [
    {
     "data": {
      "text/plain": [
       "VAE_COX_loss (generic function with 1 method)"
      ]
     },
     "metadata": {},
     "output_type": "display_data"
    }
   ],
   "source": [
    "function VAE_COX_loss(VENC::VariationalEncoder, CPH, X, Y_e, NE_frac;device = gpu)\n",
    "    mu, log_sigma = VENC(X)\n",
    "    #z = mu + device(randn(Float32, size(log_sigma))) .* exp.(log_sigma)\n",
    "    outs = vec(CPH(mu))\n",
    "    hazard_ratios = exp.(outs)\n",
    "    log_risk = log.(cumsum(hazard_ratios))\n",
    "    uncensored_likelihood = outs .- log_risk\n",
    "    censored_likelihood = uncensored_likelihood .* Y_e'\n",
    "    #neg_likelihood = - sum(censored_likelihood) / sum(e .== 1)\n",
    "    neg_likelihood = - sum(censored_likelihood) * NE_frac\n",
    "    return neg_likelihood\n",
    "end "
   ]
  },
  {
   "cell_type": "code",
   "execution_count": 22,
   "metadata": {},
   "outputs": [
    {
     "data": {
      "text/plain": [
       "VariationalEncoder"
      ]
     },
     "metadata": {},
     "output_type": "display_data"
    }
   ],
   "source": [
    "function VariationalEncoder(input_dim::Int, latent_dim::Int, hidden_dim::Int;device = gpu) \n",
    "    return VariationalEncoder(\n",
    "    device(Chain(Dense(input_dim, hidden_dim, leakyrelu), Dense(hidden_dim,hidden_dim, leakyrelu))),   # linear\n",
    "    device(Dense(hidden_dim, latent_dim)),        # mu\n",
    "    device(Dense(hidden_dim, latent_dim)))        # log sigma\n",
    "end "
   ]
  },
  {
   "cell_type": "code",
   "execution_count": 23,
   "metadata": {},
   "outputs": [
    {
     "data": {
      "text/plain": [
       "l2_penalty (generic function with 7 methods)"
      ]
     },
     "metadata": {},
     "output_type": "display_data"
    }
   ],
   "source": [
    "function l2_penalty(model::VariationalEncoder)\n",
    "    l2_sum = 0\n",
    "    for wm in model.linear\n",
    "        l2_sum += sum(abs2, wm.weight)\n",
    "    end \n",
    "    l2_sum += sum(abs2, model.mu.weight)\n",
    "    l2_sum += sum(abs2, model.log_sigma.weight)\n",
    "    return l2_sum\n",
    "end"
   ]
  },
  {
   "cell_type": "code",
   "execution_count": 46,
   "metadata": {},
   "outputs": [
    {
     "name": "stdout",
     "output_type": "stream",
     "text": [
      "nb genes : 19962\n",
      "nb patients : 1049\n",
      "% uncensored : 0.14013346043851288\n"
     ]
    },
    {
     "name": "stdout",
     "output_type": "stream",
     "text": [
      "1 TRAIN 5.544 cind: 0.479 \t TEST ae-corr: 0.027 \tcind: 0.596 [1717, 1163, 0]\n"
     ]
    },
    {
     "name": "stdout",
     "output_type": "stream",
     "text": [
      "400 TRAIN 5.544 cind: 0.479 \t TEST ae-corr: 0.146 \tcind: 0.596 [1717, 1163, 0]\n"
     ]
    },
    {
     "name": "stdout",
     "output_type": "stream",
     "text": [
      "800 TRAIN 5.544 cind: 0.479 \t TEST ae-corr: 0.257 \tcind: 0.596 [1717, 1163, 0]\n"
     ]
    },
    {
     "name": "stdout",
     "output_type": "stream",
     "text": [
      "1200 TRAIN 5.544 cind: 0.479 \t TEST ae-corr: 0.39 \tcind: 0.596 [1717, 1163, 0]\n"
     ]
    },
    {
     "name": "stdout",
     "output_type": "stream",
     "text": [
      "1600 TRAIN 5.544 cind: 0.479 \t TEST ae-corr: 0.524 \tcind: 0.596 [1717, 1163, 0]\n"
     ]
    },
    {
     "name": "stdout",
     "output_type": "stream",
     "text": [
      "2000 TRAIN 5.544 cind: 0.479 \t TEST ae-corr: 0.567 \tcind: 0.596 [1717, 1163, 0]\n"
     ]
    },
    {
     "name": "stdout",
     "output_type": "stream",
     "text": [
      "2400 TRAIN 5.544 cind: 0.479 \t TEST ae-corr: 0.642 \tcind: 0.596 [1717, 1163, 0]\n"
     ]
    },
    {
     "name": "stdout",
     "output_type": "stream",
     "text": [
      "2800 TRAIN 5.544 cind: 0.479 \t TEST ae-corr: 0.679 \tcind: 0.596 [1717, 1163, 0]\n"
     ]
    },
    {
     "name": "stdout",
     "output_type": "stream",
     "text": [
      "1 TRAIN 5.542 cind: 0.479 \t TEST ae-corr: 0.693 \tcind: 0.596 [1717, 1163, 0]\n"
     ]
    },
    {
     "name": "stdout",
     "output_type": "stream",
     "text": [
      "400 TRAIN 5.504 cind: 0.492 \t TEST ae-corr: 0.695 \tcind: 0.592 [1704, 1176, 0]\n"
     ]
    },
    {
     "name": "stdout",
     "output_type": "stream",
     "text": [
      "800 TRAIN 5.468 cind: 0.507 \t TEST ae-corr: 0.701 \tcind: 0.592 [1706, 1174, 0]\n"
     ]
    },
    {
     "name": "stdout",
     "output_type": "stream",
     "text": [
      "1200 TRAIN 5.434 cind: 0.521 \t TEST ae-corr: 0.691 \tcind: 0.592 [1704, 1176, 0]\n"
     ]
    },
    {
     "name": "stdout",
     "output_type": "stream",
     "text": [
      "1600 TRAIN 5.403 cind: 0.537 \t TEST ae-corr: 0.706 \tcind: 0.585 [1686, 1194, 0]\n"
     ]
    },
    {
     "name": "stdout",
     "output_type": "stream",
     "text": [
      "2000 TRAIN 5.373 cind: 0.553 \t TEST ae-corr: 0.706 \tcind: 0.583 [1680, 1200, 0]\n"
     ]
    },
    {
     "name": "stdout",
     "output_type": "stream",
     "text": [
      "2400 TRAIN 5.344 cind: 0.571 \t TEST ae-corr: 0.697 \tcind: 0.581 [1674, 1206, 0]\n"
     ]
    },
    {
     "name": "stdout",
     "output_type": "stream",
     "text": [
      "2800 TRAIN 5.316 cind: 0.59 \t TEST ae-corr: 0.689 \tcind: 0.581 [1673, 1207, 0]\n"
     ]
    },
    {
     "name": "stdout",
     "output_type": "stream",
     "text": [
      "3200 TRAIN 5.29 cind: 0.607 \t TEST ae-corr: 0.654 \tcind: 0.585 [1686, 1194, 0]\n"
     ]
    },
    {
     "name": "stdout",
     "output_type": "stream",
     "text": [
      "3600 TRAIN 5.264 cind: 0.627 \t TEST ae-corr: 0.686 \tcind: 0.582 [1677, 1203, 0]\n"
     ]
    },
    {
     "name": "stdout",
     "output_type": "stream",
     "text": [
      "4000 TRAIN 5.239 cind: 0.645 \t TEST ae-corr: 0.706 \tcind: 0.582 [1677, 1203, 0]\n"
     ]
    },
    {
     "name": "stdout",
     "output_type": "stream",
     "text": [
      "4400 TRAIN 5.214 cind: 0.663 \t TEST ae-corr: 0.694 \tcind: 0.585 [1685, 1195, 0]\n"
     ]
    },
    {
     "name": "stdout",
     "output_type": "stream",
     "text": [
      "4800 TRAIN 5.191 cind: 0.68 \t TEST ae-corr: 0.698 \tcind: 0.586 [1688, 1192, 0]\n"
     ]
    },
    {
     "name": "stdout",
     "output_type": "stream",
     "text": [
      "5200 TRAIN 5.168 cind: 0.695 \t TEST ae-corr: 0.69 \tcind: 0.591 [1701, 1179, 0]\n"
     ]
    },
    {
     "name": "stdout",
     "output_type": "stream",
     "text": [
      "5600 TRAIN 5.145 cind: 0.71 \t TEST ae-corr: 0.699 \tcind: 0.59 [1699, 1181, 0]\n"
     ]
    },
    {
     "name": "stdout",
     "output_type": "stream",
     "text": [
      "6000 TRAIN 5.123 cind: 0.723 \t TEST ae-corr: 0.693 \tcind: 0.592 [1706, 1174, 0]\n"
     ]
    },
    {
     "name": "stdout",
     "output_type": "stream",
     "text": [
      "6400 TRAIN 5.102 cind: 0.735 \t TEST ae-corr: 0.702 \tcind: 0.594 [1712, 1168, 0]\n"
     ]
    },
    {
     "name": "stdout",
     "output_type": "stream",
     "text": [
      "6800 TRAIN 5.081 cind: 0.746 \t TEST ae-corr: 0.689 \tcind: 0.595 [1715, 1165, 0]\n"
     ]
    },
    {
     "name": "stdout",
     "output_type": "stream",
     "text": [
      "7200 TRAIN 5.06 cind: 0.755 \t TEST ae-corr: 0.699 \tcind: 0.599 [1725, 1155, 0]\n"
     ]
    },
    {
     "name": "stdout",
     "output_type": "stream",
     "text": [
      "7600 TRAIN 5.04 cind: 0.763 \t TEST ae-corr: 0.685 \tcind: 0.599 [1726, 1154, 0]\n"
     ]
    },
    {
     "name": "stdout",
     "output_type": "stream",
     "text": [
      "8000 TRAIN 5.02 cind: 0.771 \t TEST ae-corr: 0.693 \tcind: 0.6 [1729, 1151, 0]\n"
     ]
    },
    {
     "name": "stdout",
     "output_type": "stream",
     "text": [
      "8400 TRAIN 5.001 cind: 0.779 \t TEST ae-corr: 0.679 \tcind: 0.601 [1731, 1149, 0]\n"
     ]
    },
    {
     "name": "stdout",
     "output_type": "stream",
     "text": [
      "8800 TRAIN 4.982 cind: 0.785 \t TEST ae-corr: 0.692 \tcind: 0.601 [1730, 1150, 0]\n"
     ]
    },
    {
     "name": "stdout",
     "output_type": "stream",
     "text": [
      "9200 TRAIN 4.963 cind: 0.791 \t TEST ae-corr: 0.694 \tcind: 0.602 [1733, 1147, 0]\n"
     ]
    },
    {
     "name": "stdout",
     "output_type": "stream",
     "text": [
      "9600 TRAIN 4.945 cind: 0.797 \t TEST ae-corr: 0.704 \tcind: 0.601 [1730, 1150, 0]\n"
     ]
    },
    {
     "name": "stdout",
     "output_type": "stream",
     "text": [
      "10000 TRAIN 4.927 cind: 0.802 \t TEST ae-corr: 0.678 \tcind: 0.601 [1730, 1150, 0]\n"
     ]
    },
    {
     "name": "stdout",
     "output_type": "stream",
     "text": [
      "1 TRAIN 4.928 cind: 0.802 \t TEST ae-corr: 0.677 \tcind: 0.601 [1730, 1150, 0]\n"
     ]
    },
    {
     "name": "stdout",
     "output_type": "stream",
     "text": [
      "400 TRAIN 4.91 cind: 0.807 \t TEST ae-corr: 0.656 \tcind: 0.601 [1732, 1148, 0]\n"
     ]
    },
    {
     "name": "stdout",
     "output_type": "stream",
     "text": [
      "800 TRAIN 4.893 cind: 0.811 \t TEST ae-corr: 0.704 \tcind: 0.604 [1739, 1141, 0]\n"
     ]
    },
    {
     "name": "stdout",
     "output_type": "stream",
     "text": [
      "1200 TRAIN 4.875 cind: 0.816 \t TEST ae-corr: 0.69 \tcind: 0.603 [1736, 1144, 0]\n"
     ]
    },
    {
     "name": "stdout",
     "output_type": "stream",
     "text": [
      "1600 TRAIN 4.858 cind: 0.819 \t TEST ae-corr: 0.691 \tcind: 0.605 [1741, 1139, 0]\n"
     ]
    },
    {
     "name": "stdout",
     "output_type": "stream",
     "text": [
      "2000 TRAIN 4.841 cind: 0.824 \t TEST ae-corr: 0.682 \tcind: 0.604 [1740, 1140, 0]\n"
     ]
    },
    {
     "name": "stdout",
     "output_type": "stream",
     "text": [
      "2400 TRAIN 4.824 cind: 0.827 \t TEST ae-corr: 0.693 \tcind: 0.604 [1739, 1141, 0]\n"
     ]
    },
    {
     "name": "stdout",
     "output_type": "stream",
     "text": [
      "2800 TRAIN 4.808 cind: 0.831 \t TEST ae-corr: 0.684 \tcind: 0.604 [1740, 1140, 0]\n"
     ]
    },
    {
     "name": "stdout",
     "output_type": "stream",
     "text": [
      "3200 TRAIN 4.791 cind: 0.834 \t TEST ae-corr: 0.694 \tcind: 0.605 [1741, 1139, 0]\n"
     ]
    },
    {
     "name": "stdout",
     "output_type": "stream",
     "text": [
      "3600 TRAIN 4.775 cind: 0.838 \t TEST ae-corr: 0.686 \tcind: 0.602 [1733, 1147, 0]\n"
     ]
    },
    {
     "name": "stdout",
     "output_type": "stream",
     "text": [
      "4000 TRAIN 4.759 cind: 0.841 \t TEST ae-corr: 0.676 \tcind: 0.604 [1739, 1141, 0]\n"
     ]
    },
    {
     "name": "stdout",
     "output_type": "stream",
     "text": [
      "4400 TRAIN 4.743 cind: 0.844 \t TEST ae-corr: 0.687 \tcind: 0.605 [1741, 1139, 0]\n"
     ]
    },
    {
     "name": "stdout",
     "output_type": "stream",
     "text": [
      "4800 TRAIN 4.727 cind: 0.847 \t TEST ae-corr: 0.683 \tcind: 0.606 [1744, 1136, 0]\n"
     ]
    },
    {
     "name": "stdout",
     "output_type": "stream",
     "text": [
      "5200 TRAIN 4.711 cind: 0.85 \t TEST ae-corr: 0.694 \tcind: 0.606 [1745, 1135, 0]\n"
     ]
    },
    {
     "name": "stdout",
     "output_type": "stream",
     "text": [
      "5600 TRAIN 4.696 cind: 0.853 \t TEST ae-corr: 0.693 \tcind: 0.605 [1741, 1139, 0]\n"
     ]
    },
    {
     "name": "stdout",
     "output_type": "stream",
     "text": [
      "6000 TRAIN 4.68 cind: 0.857 \t TEST ae-corr: 0.677 \tcind: 0.607 [1747, 1133, 0]\n"
     ]
    },
    {
     "name": "stdout",
     "output_type": "stream",
     "text": [
      "6400 TRAIN 4.665 cind: 0.86 \t TEST ae-corr: 0.695 \tcind: 0.608 [1750, 1130, 0]\n"
     ]
    },
    {
     "name": "stdout",
     "output_type": "stream",
     "text": [
      "6800 TRAIN 4.649 cind: 0.863 \t TEST ae-corr: 0.702 \tcind: 0.609 [1755, 1125, 0]\n"
     ]
    },
    {
     "name": "stdout",
     "output_type": "stream",
     "text": [
      "7200 TRAIN 4.634 cind: 0.865 \t TEST ae-corr: 0.703 \tcind: 0.61 [1757, 1123, 0]\n"
     ]
    },
    {
     "name": "stdout",
     "output_type": "stream",
     "text": [
      "7600 TRAIN 4.619 cind: 0.868 \t TEST ae-corr: 0.679 \tcind: 0.61 [1758, 1122, 0]\n"
     ]
    },
    {
     "name": "stdout",
     "output_type": "stream",
     "text": [
      "8000 TRAIN 4.604 cind: 0.871 \t TEST ae-corr: 0.705 \tcind: 0.61 [1756, 1124, 0]\n"
     ]
    },
    {
     "name": "stdout",
     "output_type": "stream",
     "text": [
      "8400 TRAIN 4.589 cind: 0.873 \t TEST ae-corr: 0.684 \tcind: 0.61 [1758, 1122, 0]\n"
     ]
    },
    {
     "name": "stdout",
     "output_type": "stream",
     "text": [
      "8800 TRAIN 4.574 cind: 0.876 \t TEST ae-corr: 0.687 \tcind: 0.611 [1759, 1121, 0]\n"
     ]
    },
    {
     "name": "stdout",
     "output_type": "stream",
     "text": [
      "9200 TRAIN 4.559 cind: 0.878 \t TEST ae-corr: 0.668 \tcind: 0.611 [1761, 1119, 0]\n"
     ]
    },
    {
     "name": "stdout",
     "output_type": "stream",
     "text": [
      "9600 TRAIN 4.545 cind: 0.88 \t TEST ae-corr: 0.69 \tcind: 0.611 [1759, 1121, 0]\n"
     ]
    },
    {
     "name": "stdout",
     "output_type": "stream",
     "text": [
      "10000 TRAIN 4.53 cind: 0.883 \t TEST ae-corr: 0.687 \tcind: 0.611 [1759, 1121, 0]\n"
     ]
    }
   ],
   "source": [
    "train_x, train_y_t, train_y_e, NE_frac_tr, test_x, test_y_t, test_y_e, NE_frac_tst, params_dict = data_prep_pca(BRCA;nepochs = 10_000, dim_redux = 300)\n",
    "venc = VariationalEncoder(size(train_x)[1], params_dict[\"dim_redux\"], 600)\n",
    "vdec = Decoder(size(train_x)[1], params_dict[\"dim_redux\"], 600)\n",
    "cphdnn = gpu(Chain(Dense(params_dict[\"dim_redux\"],512, leakyrelu), Dense(512,512, leakyrelu), Dense(512, 1, bias = false)))\n",
    "opt1 = Flux.ADAM(1e-7) ## opt VENC-CPHDNN\n",
    "opt2 = Flux.ADAM(1e-5) ## opt VAE\n",
    "wd = params_dict[\"cph_wd\"]\n",
    "opt = Flux.ADAM(params_dict[\"cph_lr\"])\n",
    "# training VAE only first\n",
    "for i in 1:3000\n",
    "    vaecox_loss =  round(VAE_COX_loss(venc, cphdnn, train_x, train_y_e, NE_frac_tr) + l2_penalty(cphdnn) * wd + l2_penalty(venc) * wd, digits = 3)  \n",
    "    \n",
    "    OUTS_tr = cphdnn(venc(train_x)[1])\n",
    "    OUTS_tst = cphdnn(venc(test_x)[1])\n",
    "    \n",
    "    ps2 = Flux.params(venc, vdec)\n",
    "    gs2 = gradient(ps2) do \n",
    "        VAE_lossf(venc, vdec, train_x) + l2_penalty(venc) * wd + l2_penalty(vdec) * wd\n",
    "        #VAE_COX_loss(model[\"venc\"], model[\"cph\"], train_x, train_y_e, NE_frac_tr) + l2_penalty(model[\"venc\"]) * wd + l2_penalty(model[\"cph\"]) * wd \n",
    "    end \n",
    "    vae_loss =  round(VAE_lossf(venc, vdec, train_x) + l2_penalty(venc) * wd + l2_penalty(vdec) * wd, digits = 3)  \n",
    "    VAE_test = round(my_cor(vec(test_x), vec(MyReconstruct(venc, vdec, test_x)[end])),digits = 3)\n",
    "\n",
    "    cind_tr, cdnt_tr, ddnt_tr, tied_tr  = concordance_index(train_y_t, train_y_e, -1 * OUTS_tr)\n",
    "    cind_test,cdnt_tst, ddnt_tst, tied_tst = concordance_index(test_y_t, test_y_e, -1 *OUTS_tst)\n",
    "    \n",
    "    if i%400 ==0 || i == 1\n",
    "    println(\"$i TRAIN $vaecox_loss cind: $(round(cind_tr, digits = 3)) \\t TEST ae-corr: $VAE_test \\tcind: $(round(cind_test, digits = 3)) [$(Int(cdnt_tst)), $(Int(ddnt_tst)), $(Int(tied_tst))]\")\n",
    "    end \n",
    "    #Flux.update!(opt1,ps1, gs1)\n",
    "    Flux.update!(opt2,ps2, gs2)\n",
    "    params_dict[\"cph_tst_c_ind\"] = cind_test\n",
    "    params_dict[\"cph_train_c_ind\"] = cind_tr\n",
    "    params_dict[\"step\"] = i \n",
    "end\n",
    "# training VENC-CPHDNN \n",
    "for i in 1:params_dict[\"nepochs\"]\n",
    "    ps1 = Flux.params(cphdnn)\n",
    "    gs1 = gradient(ps1) do \n",
    "        cox_nll_vec(cphdnn, venc(train_x)[1], train_y_e, NE_frac_tr) + l2_penalty(cphdnn) * wd \n",
    "        #VAE_COX_loss(model[\"venc\"], model[\"cph\"], train_x, train_y_e, NE_frac_tr) + l2_penalty(model[\"venc\"]) * wd + l2_penalty(model[\"cph\"]) * wd \n",
    "    end \n",
    "    vaecox_loss =  round(cox_nll_vec(cphdnn, venc(train_x)[1], train_y_e, NE_frac_tr) + l2_penalty(cphdnn) * wd  , digits = 3)  \n",
    "    OUTS_tr = cphdnn(venc(train_x)[1])\n",
    "    OUTS_tst = cphdnn(venc(test_x)[1])\n",
    "    \n",
    "    vae_loss =  round(VAE_lossf(venc, vdec, train_x) + l2_penalty(venc) * wd + l2_penalty(vdec) * wd, digits = 3)  \n",
    "    VAE_test = round(my_cor(vec(test_x), vec(MyReconstruct(venc, vdec, test_x)[end])),digits = 3)\n",
    "\n",
    "    cind_tr, cdnt_tr, ddnt_tr, tied_tr  = concordance_index(train_y_t, train_y_e, -1 * OUTS_tr)\n",
    "    cind_test,cdnt_tst, ddnt_tst, tied_tst = concordance_index(test_y_t, test_y_e, -1 *OUTS_tst)\n",
    "    \n",
    "    if i%400 ==0 || i == 1\n",
    "    println(\"$i TRAIN $vaecox_loss cind: $(round(cind_tr, digits = 3)) \\t TEST ae-corr: $VAE_test \\tcind: $(round(cind_test, digits = 3)) [$(Int(cdnt_tst)), $(Int(ddnt_tst)), $(Int(tied_tst))]\")\n",
    "    end \n",
    "    Flux.update!(opt1,ps1, gs1)\n",
    "    #Flux.update!(opt2,ps2, gs2)\n",
    "    params_dict[\"cph_tst_c_ind\"] = cind_test\n",
    "    params_dict[\"cph_train_c_ind\"] = cind_tr\n",
    "    params_dict[\"step\"] = i \n",
    "end\n",
    "# training VENC-CPHDNN \n",
    "for i in 1:params_dict[\"nepochs\"]\n",
    "    ps1 = Flux.params(venc, cphdnn)\n",
    "    gs1 = gradient(ps1) do \n",
    "        VAE_COX_loss(venc, cphdnn, train_x, train_y_e, NE_frac_tr) + l2_penalty(cphdnn) * wd + l2_penalty(venc) * wd\n",
    "        #VAE_COX_loss(model[\"venc\"], model[\"cph\"], train_x, train_y_e, NE_frac_tr) + l2_penalty(model[\"venc\"]) * wd + l2_penalty(model[\"cph\"]) * wd \n",
    "    end \n",
    "    vaecox_loss =  round(VAE_COX_loss(venc, cphdnn, train_x, train_y_e, NE_frac_tr) + l2_penalty(cphdnn) * wd + l2_penalty(venc) * wd, digits = 3)  \n",
    "    OUTS_tr = cphdnn(venc(train_x)[1])\n",
    "    OUTS_tst = cphdnn(venc(test_x)[1])\n",
    "    \n",
    "    vae_loss =  round(VAE_lossf(venc, vdec, train_x) + l2_penalty(venc) * wd + l2_penalty(vdec) * wd, digits = 3)  \n",
    "    VAE_test = round(my_cor(vec(test_x), vec(MyReconstruct(venc, vdec, test_x)[end])),digits = 3)\n",
    "\n",
    "    cind_tr, cdnt_tr, ddnt_tr, tied_tr  = concordance_index(train_y_t, train_y_e, -1 * OUTS_tr)\n",
    "    cind_test,cdnt_tst, ddnt_tst, tied_tst = concordance_index(test_y_t, test_y_e, -1 *OUTS_tst)\n",
    "    \n",
    "    if i%400 ==0 || i == 1\n",
    "    println(\"$i TRAIN $vaecox_loss cind: $(round(cind_tr, digits = 3)) \\t TEST ae-corr: $VAE_test \\tcind: $(round(cind_test, digits = 3)) [$(Int(cdnt_tst)), $(Int(ddnt_tst)), $(Int(tied_tst))]\")\n",
    "    end \n",
    "    Flux.update!(opt1,ps1, gs1)\n",
    "    #Flux.update!(opt2,ps2, gs2)\n",
    "    params_dict[\"cph_tst_c_ind\"] = cind_test\n",
    "    params_dict[\"cph_train_c_ind\"] = cind_tr\n",
    "    params_dict[\"step\"] = i \n",
    "end"
   ]
  },
  {
   "cell_type": "code",
   "execution_count": 41,
   "metadata": {},
   "outputs": [
    {
     "name": "stdout",
     "output_type": "stream",
     "text": [
      "nb genes : 14996\n",
      "nb patients : 300\n",
      "% uncensored : 0.7433333333333333\n"
     ]
    },
    {
     "name": "stdout",
     "output_type": "stream",
     "text": [
      "1 TRAIN 4.912 cind: 0.553 \t TEST ae-corr: -0.012 \tcind: 0.574 [951, 705, 0]\n"
     ]
    },
    {
     "name": "stdout",
     "output_type": "stream",
     "text": [
      "400 TRAIN 4.9 cind: 0.571 \t TEST ae-corr: 0.0 \tcind: 0.58 [960, 696, 0]\n"
     ]
    },
    {
     "name": "stdout",
     "output_type": "stream",
     "text": [
      "800 TRAIN 4.887 cind: 0.589 \t TEST ae-corr: 0.017 \tcind: 0.585 [969, 687, 0]\n"
     ]
    },
    {
     "name": "stdout",
     "output_type": "stream",
     "text": [
      "1200 TRAIN 4.875 cind: 0.609 \t TEST ae-corr: 0.002 \tcind: 0.588 [974, 682, 0]\n"
     ]
    },
    {
     "name": "stdout",
     "output_type": "stream",
     "text": [
      "1600 TRAIN 4.863 cind: 0.627 \t TEST ae-corr: 0.007 \tcind: 0.589 [975, 681, 0]\n"
     ]
    },
    {
     "name": "stdout",
     "output_type": "stream",
     "text": [
      "2000 TRAIN 4.852 cind: 0.642 \t TEST ae-corr: -0.019 \tcind: 0.589 [976, 680, 0]\n"
     ]
    },
    {
     "name": "stdout",
     "output_type": "stream",
     "text": [
      "2400 TRAIN 4.841 cind: 0.656 \t TEST ae-corr: 0.014 \tcind: 0.594 [984, 672, 0]\n"
     ]
    },
    {
     "name": "stdout",
     "output_type": "stream",
     "text": [
      "2800 TRAIN 4.83 cind: 0.666 \t TEST ae-corr: 0.02 \tcind: 0.598 [991, 665, 0]\n"
     ]
    },
    {
     "name": "stdout",
     "output_type": "stream",
     "text": [
      "3200 TRAIN 4.82 cind: 0.677 \t TEST ae-corr: -0.009 \tcind: 0.597 [989, 667, 0]\n"
     ]
    },
    {
     "name": "stdout",
     "output_type": "stream",
     "text": [
      "3600 TRAIN 4.809 cind: 0.684 \t TEST ae-corr: 0.05 \tcind: 0.595 [986, 670, 0]\n"
     ]
    },
    {
     "name": "stdout",
     "output_type": "stream",
     "text": [
      "4000 TRAIN 4.799 cind: 0.692 \t TEST ae-corr: 0.022 \tcind: 0.593 [982, 674, 0]\n"
     ]
    },
    {
     "name": "stdout",
     "output_type": "stream",
     "text": [
      "4400 TRAIN 4.789 cind: 0.699 \t TEST ae-corr: 0.009 \tcind: 0.592 [981, 675, 0]\n"
     ]
    },
    {
     "name": "stdout",
     "output_type": "stream",
     "text": [
      "4800 TRAIN 4.78 cind: 0.704 \t TEST ae-corr: -0.008 \tcind: 0.598 [991, 665, 0]\n"
     ]
    },
    {
     "name": "stdout",
     "output_type": "stream",
     "text": [
      "5200 TRAIN 4.77 cind: 0.708 \t TEST ae-corr: -0.021 \tcind: 0.598 [990, 666, 0]\n"
     ]
    },
    {
     "name": "stdout",
     "output_type": "stream",
     "text": [
      "5600 TRAIN 4.761 cind: 0.714 \t TEST ae-corr: -0.018 \tcind: 0.595 [985, 671, 0]\n"
     ]
    },
    {
     "name": "stdout",
     "output_type": "stream",
     "text": [
      "6000 TRAIN 4.752 cind: 0.718 \t TEST ae-corr: 0.018 \tcind: 0.595 [985, 671, 0]\n"
     ]
    },
    {
     "name": "stdout",
     "output_type": "stream",
     "text": [
      "6400 TRAIN 4.743 cind: 0.722 \t TEST ae-corr: 0.008 \tcind: 0.595 [986, 670, 0]\n"
     ]
    },
    {
     "name": "stdout",
     "output_type": "stream",
     "text": [
      "6800 TRAIN 4.734 cind: 0.726 \t TEST ae-corr: 0.002 \tcind: 0.597 [989, 667, 0]\n"
     ]
    },
    {
     "name": "stdout",
     "output_type": "stream",
     "text": [
      "7200 TRAIN 4.726 cind: 0.728 \t TEST ae-corr: 0.011 \tcind: 0.598 [991, 665, 0]\n"
     ]
    },
    {
     "name": "stdout",
     "output_type": "stream",
     "text": [
      "7600 TRAIN 4.717 cind: 0.731 \t TEST ae-corr: -0.024 \tcind: 0.601 [996, 660, 0]\n"
     ]
    },
    {
     "name": "stdout",
     "output_type": "stream",
     "text": [
      "8000 TRAIN 4.709 cind: 0.735 \t TEST ae-corr: 0.003 \tcind: 0.6 [993, 663, 0]\n"
     ]
    },
    {
     "name": "stdout",
     "output_type": "stream",
     "text": [
      "8400 TRAIN 4.701 cind: 0.737 \t TEST ae-corr: 0.017 \tcind: 0.597 [989, 667, 0]\n"
     ]
    },
    {
     "name": "stdout",
     "output_type": "stream",
     "text": [
      "8800 TRAIN 4.692 cind: 0.74 \t TEST ae-corr: -0.006 \tcind: 0.597 [988, 668, 0]\n"
     ]
    },
    {
     "name": "stdout",
     "output_type": "stream",
     "text": [
      "9200 TRAIN 4.684 cind: 0.742 \t TEST ae-corr: 0.02 \tcind: 0.597 [989, 667, 0]\n"
     ]
    },
    {
     "name": "stdout",
     "output_type": "stream",
     "text": [
      "9600 TRAIN 4.677 cind: 0.745 \t TEST ae-corr: -0.0 \tcind: 0.595 [986, 670, 0]\n"
     ]
    },
    {
     "name": "stdout",
     "output_type": "stream",
     "text": [
      "10000 TRAIN 4.669 cind: 0.748 \t TEST ae-corr: 0.003 \tcind: 0.595 [986, 670, 0]\n"
     ]
    },
    {
     "name": "stdout",
     "output_type": "stream",
     "text": [
      "10400 TRAIN 4.661 cind: 0.75 \t TEST ae-corr: 0.002 \tcind: 0.594 [983, 673, 0]\n"
     ]
    },
    {
     "name": "stdout",
     "output_type": "stream",
     "text": [
      "10800 TRAIN 4.654 cind: 0.752 \t TEST ae-corr: 0.022 \tcind: 0.595 [985, 671, 0]\n"
     ]
    },
    {
     "name": "stdout",
     "output_type": "stream",
     "text": [
      "11200 TRAIN 4.646 cind: 0.755 \t TEST ae-corr: 0.009 \tcind: 0.595 [985, 671, 0]\n"
     ]
    },
    {
     "name": "stdout",
     "output_type": "stream",
     "text": [
      "11600 TRAIN 4.639 cind: 0.756 \t TEST ae-corr: 0.018 \tcind: 0.595 [986, 670, 0]\n"
     ]
    },
    {
     "name": "stdout",
     "output_type": "stream",
     "text": [
      "12000 TRAIN 4.632 cind: 0.758 \t TEST ae-corr: 0.025 \tcind: 0.594 [984, 672, 0]\n"
     ]
    },
    {
     "name": "stdout",
     "output_type": "stream",
     "text": [
      "12400 TRAIN 4.624 cind: 0.76 \t TEST ae-corr: -0.018 \tcind: 0.591 [979, 677, 0]\n"
     ]
    },
    {
     "name": "stdout",
     "output_type": "stream",
     "text": [
      "12800 TRAIN 4.617 cind: 0.762 \t TEST ae-corr: -0.006 \tcind: 0.592 [981, 675, 0]\n"
     ]
    },
    {
     "name": "stdout",
     "output_type": "stream",
     "text": [
      "13200 TRAIN 4.61 cind: 0.763 \t TEST ae-corr: -0.001 \tcind: 0.594 [984, 672, 0]\n"
     ]
    },
    {
     "name": "stdout",
     "output_type": "stream",
     "text": [
      "13600 TRAIN 4.604 cind: 0.765 \t TEST ae-corr: 0.008 \tcind: 0.593 [982, 674, 0]\n"
     ]
    },
    {
     "name": "stdout",
     "output_type": "stream",
     "text": [
      "14000 TRAIN 4.597 cind: 0.767 \t TEST ae-corr: 0.013 \tcind: 0.593 [982, 674, 0]\n"
     ]
    },
    {
     "name": "stdout",
     "output_type": "stream",
     "text": [
      "14400 TRAIN 4.59 cind: 0.769 \t TEST ae-corr: 0.015 \tcind: 0.594 [983, 673, 0]\n"
     ]
    },
    {
     "name": "stdout",
     "output_type": "stream",
     "text": [
      "14800 TRAIN 4.583 cind: 0.771 \t TEST ae-corr: 0.019 \tcind: 0.593 [982, 674, 0]\n"
     ]
    },
    {
     "name": "stdout",
     "output_type": "stream",
     "text": [
      "15200 TRAIN 4.577 cind: 0.772 \t TEST ae-corr: 0.006 \tcind: 0.595 [985, 671, 0]\n"
     ]
    },
    {
     "name": "stdout",
     "output_type": "stream",
     "text": [
      "15600 TRAIN 4.57 cind: 0.774 \t TEST ae-corr: -0.031 \tcind: 0.595 [985, 671, 0]\n"
     ]
    },
    {
     "name": "stdout",
     "output_type": "stream",
     "text": [
      "16000 TRAIN 4.564 cind: 0.775 \t TEST ae-corr: 0.008 \tcind: 0.595 [985, 671, 0]\n"
     ]
    },
    {
     "name": "stdout",
     "output_type": "stream",
     "text": [
      "16400 TRAIN 4.557 cind: 0.776 \t TEST ae-corr: -0.006 \tcind: 0.595 [985, 671, 0]\n"
     ]
    },
    {
     "name": "stdout",
     "output_type": "stream",
     "text": [
      "16800 TRAIN 4.551 cind: 0.778 \t TEST ae-corr: -0.003 \tcind: 0.595 [986, 670, 0]\n"
     ]
    },
    {
     "name": "stdout",
     "output_type": "stream",
     "text": [
      "17200 TRAIN 4.544 cind: 0.779 \t TEST ae-corr: 0.015 \tcind: 0.595 [986, 670, 0]\n"
     ]
    },
    {
     "name": "stdout",
     "output_type": "stream",
     "text": [
      "17600 TRAIN 4.538 cind: 0.78 \t TEST ae-corr: 0.004 \tcind: 0.595 [986, 670, 0]\n"
     ]
    },
    {
     "name": "stdout",
     "output_type": "stream",
     "text": [
      "18000 TRAIN 4.532 cind: 0.782 \t TEST ae-corr: 0.013 \tcind: 0.595 [986, 670, 0]\n"
     ]
    },
    {
     "name": "stdout",
     "output_type": "stream",
     "text": [
      "18400 TRAIN 4.526 cind: 0.783 \t TEST ae-corr: -0.004 \tcind: 0.597 [988, 668, 0]\n"
     ]
    },
    {
     "name": "stdout",
     "output_type": "stream",
     "text": [
      "18800 TRAIN 4.52 cind: 0.784 \t TEST ae-corr: -0.025 \tcind: 0.596 [987, 669, 0]\n"
     ]
    },
    {
     "name": "stdout",
     "output_type": "stream",
     "text": [
      "19200 TRAIN 4.514 cind: 0.785 \t TEST ae-corr: -0.011 \tcind: 0.595 [986, 670, 0]\n"
     ]
    },
    {
     "name": "stdout",
     "output_type": "stream",
     "text": [
      "19600 TRAIN 4.508 cind: 0.786 \t TEST ae-corr: 0.002 \tcind: 0.594 [984, 672, 0]\n"
     ]
    },
    {
     "name": "stdout",
     "output_type": "stream",
     "text": [
      "20000 TRAIN 4.502 cind: 0.787 \t TEST ae-corr: -0.011 \tcind: 0.596 [987, 669, 0]\n"
     ]
    },
    {
     "name": "stdout",
     "output_type": "stream",
     "text": [
      "20400 TRAIN 4.496 cind: 0.788 \t TEST ae-corr: 0.0 \tcind: 0.595 [986, 670, 0]\n"
     ]
    },
    {
     "name": "stdout",
     "output_type": "stream",
     "text": [
      "20800 TRAIN 4.49 cind: 0.789 \t TEST ae-corr: -0.036 \tcind: 0.595 [985, 671, 0]\n"
     ]
    },
    {
     "name": "stdout",
     "output_type": "stream",
     "text": [
      "21200 TRAIN 4.484 cind: 0.79 \t TEST ae-corr: 0.029 \tcind: 0.596 [987, 669, 0]\n"
     ]
    },
    {
     "name": "stdout",
     "output_type": "stream",
     "text": [
      "21600 TRAIN 4.478 cind: 0.791 \t TEST ae-corr: 0.001 \tcind: 0.595 [985, 671, 0]\n"
     ]
    },
    {
     "name": "stdout",
     "output_type": "stream",
     "text": [
      "22000 TRAIN 4.472 cind: 0.792 \t TEST ae-corr: -0.005 \tcind: 0.593 [982, 674, 0]\n"
     ]
    },
    {
     "name": "stdout",
     "output_type": "stream",
     "text": [
      "22400 TRAIN 4.467 cind: 0.793 \t TEST ae-corr: 0.002 \tcind: 0.594 [984, 672, 0]\n"
     ]
    },
    {
     "name": "stdout",
     "output_type": "stream",
     "text": [
      "22800 TRAIN 4.461 cind: 0.795 \t TEST ae-corr: 0.017 \tcind: 0.593 [982, 674, 0]\n"
     ]
    },
    {
     "name": "stdout",
     "output_type": "stream",
     "text": [
      "23200 TRAIN 4.455 cind: 0.796 \t TEST ae-corr: -0.006 \tcind: 0.591 [979, 677, 0]\n"
     ]
    },
    {
     "name": "stdout",
     "output_type": "stream",
     "text": [
      "23600 TRAIN 4.45 cind: 0.797 \t TEST ae-corr: -0.006 \tcind: 0.591 [978, 678, 0]\n"
     ]
    },
    {
     "name": "stdout",
     "output_type": "stream",
     "text": [
      "24000 TRAIN 4.444 cind: 0.798 \t TEST ae-corr: 0.021 \tcind: 0.591 [979, 677, 0]\n"
     ]
    },
    {
     "name": "stdout",
     "output_type": "stream",
     "text": [
      "24400 TRAIN 4.439 cind: 0.799 \t TEST ae-corr: 0.02 \tcind: 0.589 [976, 680, 0]\n"
     ]
    },
    {
     "name": "stdout",
     "output_type": "stream",
     "text": [
      "24800 TRAIN 4.433 cind: 0.8 \t TEST ae-corr: 0.022 \tcind: 0.59 [977, 679, 0]\n"
     ]
    },
    {
     "name": "stdout",
     "output_type": "stream",
     "text": [
      "25200 TRAIN 4.428 cind: 0.801 \t TEST ae-corr: 0.0 \tcind: 0.589 [975, 681, 0]\n"
     ]
    },
    {
     "name": "stdout",
     "output_type": "stream",
     "text": [
      "25600 TRAIN 4.422 cind: 0.802 \t TEST ae-corr: 0.041 \tcind: 0.589 [975, 681, 0]\n"
     ]
    },
    {
     "name": "stdout",
     "output_type": "stream",
     "text": [
      "26000 TRAIN 4.417 cind: 0.803 \t TEST ae-corr: -0.02 \tcind: 0.59 [977, 679, 0]\n"
     ]
    },
    {
     "name": "stdout",
     "output_type": "stream",
     "text": [
      "26400 TRAIN 4.411 cind: 0.804 \t TEST ae-corr: -0.019 \tcind: 0.589 [975, 681, 0]\n"
     ]
    },
    {
     "name": "stdout",
     "output_type": "stream",
     "text": [
      "26800 TRAIN 4.406 cind: 0.805 \t TEST ae-corr: -0.034 \tcind: 0.588 [974, 682, 0]\n"
     ]
    },
    {
     "name": "stdout",
     "output_type": "stream",
     "text": [
      "27200 TRAIN 4.401 cind: 0.805 \t TEST ae-corr: 0.003 \tcind: 0.588 [973, 683, 0]\n"
     ]
    },
    {
     "name": "stdout",
     "output_type": "stream",
     "text": [
      "27600 TRAIN 4.396 cind: 0.807 \t TEST ae-corr: 0.011 \tcind: 0.589 [975, 681, 0]\n"
     ]
    },
    {
     "name": "stdout",
     "output_type": "stream",
     "text": [
      "28000 TRAIN 4.39 cind: 0.807 \t TEST ae-corr: -0.001 \tcind: 0.589 [976, 680, 0]\n"
     ]
    },
    {
     "name": "stdout",
     "output_type": "stream",
     "text": [
      "28400 TRAIN 4.385 cind: 0.808 \t TEST ae-corr: 0.033 \tcind: 0.591 [978, 678, 0]\n"
     ]
    },
    {
     "name": "stdout",
     "output_type": "stream",
     "text": [
      "28800 TRAIN 4.38 cind: 0.809 \t TEST ae-corr: -0.016 \tcind: 0.59 [977, 679, 0]\n"
     ]
    },
    {
     "name": "stdout",
     "output_type": "stream",
     "text": [
      "29200 TRAIN 4.375 cind: 0.811 \t TEST ae-corr: -0.04 \tcind: 0.592 [980, 676, 0]\n"
     ]
    },
    {
     "name": "stdout",
     "output_type": "stream",
     "text": [
      "29600 TRAIN 4.37 cind: 0.811 \t TEST ae-corr: 0.016 \tcind: 0.591 [979, 677, 0]\n"
     ]
    },
    {
     "name": "stdout",
     "output_type": "stream",
     "text": [
      "30000 TRAIN 4.365 cind: 0.812 \t TEST ae-corr: -0.025 \tcind: 0.592 [980, 676, 0]\n"
     ]
    }
   ],
   "source": [
    "train_x, train_y_t, train_y_e, NE_frac_tr, test_x, test_y_t, test_y_e, NE_frac_tst, params_dict = data_prep_pca(LAML;nepochs = 30_000, dim_redux = 125)\n",
    "venc = VariationalEncoder(size(train_x)[1], params_dict[\"dim_redux\"], 600)\n",
    "vdec = Decoder(size(train_x)[1], params_dict[\"dim_redux\"], 600)\n",
    "cphdnn = gpu(Chain(Dense(params_dict[\"dim_redux\"],512, leakyrelu), Dense(512,512, leakyrelu), Dense(512, 1, bias = false)))\n",
    "opt1 = Flux.ADAM(1e-7) ## opt VENC-CPHDNN\n",
    "opt2 = Flux.ADAM(1e-5) ## opt VAE\n",
    "wd = params_dict[\"cph_wd\"]\n",
    "opt = Flux.ADAM(params_dict[\"cph_lr\"])\n",
    "for i in 1:params_dict[\"nepochs\"]\n",
    "    ps1 = Flux.params(venc, cphdnn)\n",
    "    gs1 = gradient(ps1) do \n",
    "        VAE_COX_loss(venc, cphdnn, train_x, train_y_e, NE_frac_tr) + l2_penalty(cphdnn) * wd + l2_penalty(venc) * wd\n",
    "        #VAE_COX_loss(model[\"venc\"], model[\"cph\"], train_x, train_y_e, NE_frac_tr) + l2_penalty(model[\"venc\"]) * wd + l2_penalty(model[\"cph\"]) * wd \n",
    "    end \n",
    "    vaecox_loss =  round(VAE_COX_loss(venc, cphdnn, train_x, train_y_e, NE_frac_tr) + l2_penalty(cphdnn) * wd + l2_penalty(venc) * wd, digits = 3)  \n",
    "    OUTS_tr = cphdnn(venc(train_x)[1])\n",
    "    OUTS_tst = cphdnn(venc(test_x)[1])\n",
    "    \n",
    "    vae_loss =  round(VAE_lossf(venc, vdec, train_x) + l2_penalty(venc) * wd + l2_penalty(vdec) * wd, digits = 3)  \n",
    "    VAE_test = round(my_cor(vec(test_x), vec(MyReconstruct(venc, vdec, test_x)[end])),digits = 3)\n",
    "\n",
    "    cind_tr, cdnt_tr, ddnt_tr, tied_tr  = concordance_index(train_y_t, train_y_e, -1 * OUTS_tr)\n",
    "    cind_test,cdnt_tst, ddnt_tst, tied_tst = concordance_index(test_y_t, test_y_e, -1 *OUTS_tst)\n",
    "    \n",
    "    if i%400 ==0 || i == 1\n",
    "    println(\"$i TRAIN $vaecox_loss cind: $(round(cind_tr, digits = 3)) \\t TEST ae-corr: $VAE_test \\tcind: $(round(cind_test, digits = 3)) [$(Int(cdnt_tst)), $(Int(ddnt_tst)), $(Int(tied_tst))]\")\n",
    "    end \n",
    "    Flux.update!(opt1,ps1, gs1)\n",
    "    #Flux.update!(opt2,ps2, gs2)\n",
    "    params_dict[\"cph_tst_c_ind\"] = cind_test\n",
    "    params_dict[\"cph_train_c_ind\"] = cind_tr\n",
    "    params_dict[\"step\"] = i \n",
    "end"
   ]
  },
  {
   "cell_type": "code",
   "execution_count": null,
   "metadata": {},
   "outputs": [],
   "source": [
    "function validate_vaecox(DATA, params_dict;device = gpu)\n",
    "    nfolds, nepochs, dim_redux = 5, 1000, 125\n",
    "    keep = [occursin(\"protein_coding\", bt) for bt in DATA.biotypes]\n",
    "    # split train test\n",
    "    folds = split_train_test(Matrix(DATA.data[:,keep]), DATA.survt, DATA.surve, DATA.samples;nfolds =5)\n",
    "    fold = folds[1]\n",
    "\n",
    "    venc = VariationalEncoder(size(DATA.data[:,keep])[2], 125, 600)\n",
    "    vdec = Decoder(size(DATA.data[:,keep])[2], 125, 600)\n",
    "    VAE_opt = Flux.ADAM(1e-4)\n",
    "\n",
    "    cphdnn = device(Chain(Dense(size(DATA.data[:,keep])[2], 125, leakyrelu), Dense(125, 100,leakyrelu),Dense(100, 1)))\n",
    "    cphdnn_opt = Flux.ADAM(1e-5)\n",
    "\n",
    "    train_x, train_y_t, train_y_e, NE_frac_tr, test_x, test_y_t, test_y_e, NE_frac_tst = format_train_test(fold)\n",
    "    for i in 1:nepochs\n",
    "        ps1 = Flux.params(venc, vdec)\n",
    "        gs1 = gradient(ps1) do\n",
    "            VAE_lossf(venc, vdec, train_x)\n",
    "        end \n",
    "        VAE_loss = VAE_lossf(venc, vdec, train_x)\n",
    "        VAE_cor = round(my_cor(vec(train_x), vec(MyReconstruct(venc, vdec, train_x)[end])),digits = 3)\n",
    "        VAE_test = round(my_cor(vec(test_x), vec(MyReconstruct(venc, vdec, test_x)[end])),digits = 3)\n",
    "\n",
    "        ps2 = Flux.params(venc, cphdnn)\n",
    "        gs2 = gradient(ps2) do \n",
    "            cox_nll_vec(cphdnn, train_x, train_y_e, NE_frac_tr)\n",
    "            #VAE_COX_loss(venc, cphdnn, train_x, train_y_e, NE_frac_tr)\n",
    "        end \n",
    "        CPH_loss = round(cox_nll_vec(cphdnn, train_x, train_y_e, NE_frac_tr), digits = 3) #round(VAE_COX_loss(venc, cphdnn, train_x, train_y_e, NE_frac_tr), digits = 3)\n",
    "        #mu, log_sigma = venc(train_x)\n",
    "        #z = mu + device(randn(Float32, size(log_sigma))) .* exp.(log_sigma)\n",
    "        #OUTS_tr = vec(cphdnn(z))\n",
    "        OUTS_tr = cphdnn(train_x)\n",
    "        OUTS_tst =  cphdnn(test_x)\n",
    "        cind_tr, cdnt_tr, ddnt_tr, tied_tr  = concordance_index(train_y_t, train_y_e, OUTS_tr)\n",
    "        cind_test,cdnt_tst, ddnt_tst, tied_tst = concordance_index(test_y_t, test_y_e,OUTS_tst)\n",
    "        #Flux.update!(VAE_opt, ps1, gs1)\n",
    "        Flux.update!(cphdnn_opt, ps2, gs2)\n",
    "        if i % 100 == 0 || i == 1\n",
    "            println(\"$i TRAIN - VAE-loss-avg: $VAE_loss\\tVAE-cor: $VAE_cor CPH-loss: $CPH_loss CPH-cind: $(round(cind_tr,digits=3))\")\n",
    "            println(\"$i TEST - VAE-loss-avg: $VAE_test \\tVAE-cor: CPH-loss: CPH-cind: $(round(cind_test,digits=3)) [$(Int(cdnt_tst)), $(Int(ddnt_tst)), $(Int(tied_tst))]\")\n",
    "\n",
    "        end\n",
    "    end\n",
    "    return cphdnn\n",
    "end "
   ]
  },
  {
   "cell_type": "code",
   "execution_count": null,
   "metadata": {},
   "outputs": [],
   "source": [
    "cdnn = validate_vaecox(DATA, params_dict)"
   ]
  },
  {
   "cell_type": "code",
   "execution_count": null,
   "metadata": {},
   "outputs": [],
   "source": [
    "cdnn(DATA.data[])"
   ]
  },
  {
   "cell_type": "code",
   "execution_count": 96,
   "metadata": {},
   "outputs": [
    {
     "name": "stdout",
     "output_type": "stream",
     "text": [
      "nb genes : 14996\n",
      "nb patients : 300\n",
      "% uncensored : 0.7433333333333333\n"
     ]
    },
    {
     "name": "stdout",
     "output_type": "stream",
     "text": [
      "FOLD 1\t TRAIN AE-loss 0.994 \t AE-cor: 0.008\t cph-loss-avg: 0.020545 \t cph-cind: 0.611\n",
      "\t\tTEST AE-loss 0.991 \t AE-cor: 0.006\t cph-loss-avg: 0.058383 \t cph-cind: 0.515 [836, 788, 0]\n"
     ]
    },
    {
     "name": "stdout",
     "output_type": "stream",
     "text": [
      "FOLD 100\t TRAIN AE-loss 0.972 \t AE-cor: 0.004\t cph-loss-avg: 0.019126 \t cph-cind: 0.827\n",
      "\t\tTEST AE-loss 0.97 \t AE-cor: 0.002\t cph-loss-avg: 0.0563 \t cph-cind: 0.657 [1067, 557, 0]\n"
     ]
    },
    {
     "name": "stdout",
     "output_type": "stream",
     "text": [
      "FOLD 200\t TRAIN AE-loss 0.969 \t AE-cor: 0.004\t cph-loss-avg: 0.018949 \t cph-cind: 0.863\n",
      "\t\tTEST AE-loss 0.967 \t AE-cor: 0.002\t cph-loss-avg: 0.056367 \t cph-cind: 0.646 [1049, 575, 0]\n"
     ]
    },
    {
     "name": "stdout",
     "output_type": "stream",
     "text": [
      "FOLD 300\t TRAIN AE-loss 0.966 \t AE-cor: 0.004\t cph-loss-avg: 0.018913 \t cph-cind: 0.875\n",
      "\t\tTEST AE-loss 0.965 \t AE-cor: 0.002\t cph-loss-avg: 0.0564 \t cph-cind: 0.643 [1045, 579, 0]\n"
     ]
    },
    {
     "name": "stdout",
     "output_type": "stream",
     "text": [
      "FOLD 400\t TRAIN AE-loss 0.964 \t AE-cor: 0.004\t cph-loss-avg: 0.018904 \t cph-cind: 0.881\n",
      "\t\tTEST AE-loss 0.963 \t AE-cor: 0.002\t cph-loss-avg: 0.056483 \t cph-cind: 0.638 [1036, 588, 0]\n"
     ]
    },
    {
     "name": "stdout",
     "output_type": "stream",
     "text": [
      "FOLD 500\t TRAIN AE-loss 0.963 \t AE-cor: 0.005\t cph-loss-avg: 0.018899 \t cph-cind: 0.883\n",
      "\t\tTEST AE-loss 0.962 \t AE-cor: 0.003\t cph-loss-avg: 0.05645 \t cph-cind: 0.638 [1036, 588, 0]\n"
     ]
    },
    {
     "name": "stdout",
     "output_type": "stream",
     "text": [
      "FOLD 600\t TRAIN AE-loss 0.962 \t AE-cor: 0.005\t cph-loss-avg: 0.018898 \t cph-cind: 0.884\n",
      "\t\tTEST AE-loss 0.961 \t AE-cor: 0.003\t cph-loss-avg: 0.056433 \t cph-cind: 0.639 [1037, 587, 0]\n"
     ]
    },
    {
     "name": "stdout",
     "output_type": "stream",
     "text": [
      "FOLD 700\t TRAIN AE-loss 0.962 \t AE-cor: 0.005\t cph-loss-avg: 0.018897 \t cph-cind: 0.886\n",
      "\t\tTEST AE-loss 0.96 \t AE-cor: 0.004\t cph-loss-avg: 0.056417 \t cph-cind: 0.638 [1036, 588, 0]\n"
     ]
    },
    {
     "name": "stdout",
     "output_type": "stream",
     "text": [
      "FOLD 800\t TRAIN AE-loss 0.962 \t AE-cor: 0.005\t cph-loss-avg: 0.018899 \t cph-cind: 0.887\n",
      "\t\tTEST AE-loss 0.96 \t AE-cor: 0.004\t cph-loss-avg: 0.056417 \t cph-cind: 0.641 [1041, 583, 0]\n"
     ]
    },
    {
     "name": "stdout",
     "output_type": "stream",
     "text": [
      "FOLD 900\t TRAIN AE-loss 0.961 \t AE-cor: 0.005\t cph-loss-avg: 0.018896 \t cph-cind: 0.889\n",
      "\t\tTEST AE-loss 0.96 \t AE-cor: 0.004\t cph-loss-avg: 0.0564 \t cph-cind: 0.64 [1039, 585, 0]\n"
     ]
    },
    {
     "name": "stdout",
     "output_type": "stream",
     "text": [
      "FOLD 1000\t TRAIN AE-loss 0.961 \t AE-cor: 0.005\t cph-loss-avg: 0.018893 \t cph-cind: 0.892\n",
      "\t\tTEST AE-loss 0.96 \t AE-cor: 0.004\t cph-loss-avg: 0.0564 \t cph-cind: 0.64 [1040, 584, 0]\n"
     ]
    }
   ],
   "source": [
    "train_x, train_y_t, train_y_e, NE_frac_tr, test_x, test_y_t, test_y_e, NE_frac_tst, params_dict = data_prep(LAML)\n",
    "# create model \n",
    "model = build_aecox(params_dict)\n",
    "for iter in 1:params_dict[\"nepochs\"]\n",
    "    ps1 = Flux.params(model[\"cph\"].model, model[\"enc\"])\n",
    "    gs1 = gradient(ps1) do\n",
    "        model[\"cph\"].lossf(model[\"cph\"],model[\"enc\"], train_x, train_y_e, NE_frac_tr, params_dict[\"cph_wd\"])\n",
    "    end \n",
    "    ## gradient Auto-Encoder \n",
    "    ps2 = Flux.params(model[\"ae\"].net)\n",
    "    gs2 = gradient(ps2) do\n",
    "        model[\"ae\"].lossf(model[\"ae\"], train_x, train_x, weight_decay = params_dict[\"ae_wd\"])\n",
    "    end\n",
    "    Flux.update!(model[\"cph\"].opt, ps1, gs1)\n",
    "    #Flux.update!(model[\"ae\"].opt, ps2, gs2)\n",
    "\n",
    "    ######\n",
    "    OUTS_tr = vec(model[\"cph\"].model(model[\"enc\"](train_x)))\n",
    "    ae_loss = model[\"ae\"].lossf(model[\"ae\"], train_x, train_x, weight_decay = params_dict[\"ae_wd\"])\n",
    "    ae_cor =  round(my_cor(vec(train_x), vec(model[\"ae\"].net(train_x))),digits = 3)\n",
    "    cph_loss = model[\"cph\"].lossf(model[\"cph\"],model[\"enc\"](train_x), train_y_e, NE_frac_tr, params_dict[\"cph_wd\"])\n",
    "    ae_loss_test = round(model[\"ae\"].lossf(model[\"ae\"], test_x, test_x, weight_decay = params_dict[\"ae_wd\"]), digits = 3)\n",
    "    ae_cor_test = round(my_cor(vec(test_x), vec(model[\"ae\"].net(test_x))), digits= 3)\n",
    "    cph_loss_test = round(model[\"cph\"].lossf(model[\"cph\"],model[\"enc\"](test_x), test_y_e, NE_frac_tst, params_dict[\"cph_wd\"]), digits= 3)\n",
    "                    \n",
    "    OUTS_tst =  vec(model[\"cph\"].model(model[\"enc\"](test_x)))\n",
    "            \n",
    "    cind_tr, cdnt_tr, ddnt_tr, tied_tr  = concordance_index(train_y_t, train_y_e, OUTS_tr)\n",
    "    cind_test,cdnt_tst, ddnt_tst, tied_tst = concordance_index(test_y_t, test_y_e,OUTS_tst)\n",
    "    if iter % 100 == 0  || iter == 1     \n",
    "        println(\"FOLD $iter\\t TRAIN AE-loss $(round(ae_loss,digits =3)) \\t AE-cor: $(round(ae_cor, digits = 3))\\t cph-loss-avg: $(round(cph_loss / params_dict[\"nsamples_train\"],digits =6)) \\t cph-cind: $(round(cind_tr,digits =3))\")\n",
    "        println(\"\\t\\tTEST AE-loss $(round(ae_loss_test,digits =3)) \\t AE-cor: $(round(ae_cor_test, digits = 3))\\t cph-loss-avg: $(round(cph_loss_test / params_dict[\"nsamples_test\"],digits =6)) \\t cph-cind: $(round(cind_test,digits =3)) [$(Int(cdnt_tst)), $(Int(ddnt_tst)), $(Int(tied_tst))]\")\n",
    "    end\n",
    "    params_dict[\"cph_tst_c_ind\"] = concordance_index(test_y_t, test_y_e, OUTS_tst)[1]\n",
    "    params_dict[\"cph_train_c_ind\"] = concordance_index(train_y_t, train_y_e, OUTS_tr)[1]\n",
    "    params_dict[\"step\"] = iter \n",
    "end\n"
   ]
  },
  {
   "cell_type": "code",
   "execution_count": 140,
   "metadata": {},
   "outputs": [
    {
     "data": {
      "text/plain": [
       "AE_model(Chain(Dense(14996 => 3040, leakyrelu), Dense(3040 => 616, leakyrelu), Dense(616 => 125), Dense(125 => 616, leakyrelu), Dense(616 => 3040, leakyrelu), Dense(3040 => 14996, leakyrelu)), Chain(Dense(14996 => 3040, leakyrelu), Dense(3040 => 616, leakyrelu), Dense(616 => 125)), Chain(Dense(125 => 616, leakyrelu), Dense(616 => 3040, leakyrelu), Dense(3040 => 14996, leakyrelu)), Dense(3040 => 14996, leakyrelu), Adam(1.0e-6, (0.9, 0.999), 1.0e-8, IdDict{Any, Any}()), mse_l2)"
      ]
     },
     "metadata": {},
     "output_type": "display_data"
    }
   ],
   "source": [
    "model = build_aecox(params_dict)\n",
    "model[\"ae\"]"
   ]
  },
  {
   "cell_type": "code",
   "execution_count": 99,
   "metadata": {},
   "outputs": [],
   "source": [
    "#params_dict[\"cph_tst_c_ind\"] = concordance_index(test_y_t, test_y_e, OUTS_tst)[1]\n",
    "#params_dict[\"cph_train_c_ind\"] = concordance_index(train_y_t, train_y_e, OUTS_tr)[1]\n",
    "#params_dict[\"ae_tst_corr\"] = my_cor(ae_outs_test, x_test)\n",
    "#params_dict[\"ae_train_corr\"] = my_cor(ae_outs_train, x_train)\n",
    "\n",
    "#params_dict[\"model_cv_complete\"] = true\n",
    "model_params_path = \"$(params_dict[\"session_id\"])/$(params_dict[\"model_type\"])_$(params_dict[\"modelid\"])\"\n",
    "mkdir(\"RES/$model_params_path\")\n",
    "bson(\"RES/$model_params_path/params.bson\",params_dict)"
   ]
  },
  {
   "cell_type": "code",
   "execution_count": null,
   "metadata": {},
   "outputs": [],
   "source": []
  },
  {
   "cell_type": "markdown",
   "metadata": {},
   "source": [
    "### Figures  "
   ]
  },
  {
   "cell_type": "code",
   "execution_count": 2,
   "metadata": {},
   "outputs": [],
   "source": [
    "function gather_params(basedir=\".\")\n",
    "    df = DataFrame()\n",
    "    for (root, dirs, files) in walkdir(basedir)\n",
    "        for file in files\n",
    "            if file == \"params.bson\"\n",
    "                # println(\"Loading $root/$file\")\n",
    "                d = BSON.load(\"$root/$file\")\n",
    "                push!(df, d, cols=:union)\n",
    "            end\n",
    "        end\n",
    "    end\n",
    "    return df\n",
    "end\n",
    "\n",
    "df = gather_params(\"RES/\");\n"
   ]
  },
  {
   "cell_type": "code",
   "execution_count": 3,
   "metadata": {},
   "outputs": [
    {
     "data": {
      "text/plain": [
       "5-element Vector{String}:\n",
       " \"BRCA_data(norm=true)\"\n",
       " \"BRCA\"\n",
       " \"LGG\"\n",
       " \"OV\"\n",
       " \"LAML\""
      ]
     },
     "metadata": {},
     "output_type": "display_data"
    }
   ],
   "source": [
    "df;\n",
    "unique(df.dataset)"
   ]
  },
  {
   "cell_type": "code",
   "execution_count": 4,
   "metadata": {},
   "outputs": [
    {
     "name": "stderr",
     "output_type": "stream",
     "text": [
      "┌ Warning: Found `resolution` in the theme when creating a `Scene`. The `resolution` keyword for `Scene`s and `Figure`s has been deprecated. Use `Figure(; size = ...` or `Scene(; size = ...)` instead, which better reflects that this is a unitless size and not a pixel resolution. The key could also come from `set_theme!` calls or related theming functions.\n",
      "└ @ Makie /u/sauves/.local/share/julia_GenuineIntel/packages/Makie/fyNiH/src/scenes.jl:220\n"
     ]
    },
    {
     "data": {
      "image/png": "[encoded data removed]",
      "text/html": [
       "<img width=1024 height=1024 style='object-fit: contain;' src=\"data:image/png;base64, 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\"/>"
      ]
     },
     "metadata": {},
     "output_type": "display_data"
    }
   ],
   "source": [
    "models= df[[x in [\"cphdnn_v5\", \"vaecox_v4\", \"cox_ridge\", \"vae_cox_transfer_v1\"] for x in df[:,\"model_type\"]],:]\n",
    "models[models.dataset .== \"BRCA_data(norm=true)\", \"dataset\"] .= \"LAML\"\n",
    "#combine(groupby(cphdnn[:,[\"dataset\", \"cph_tst_c_ind\"]], :dataset), :cph_tst_c_ind=>median) \n",
    "sorted_df = sort(models, :dataset)\n",
    "sorted_df = leftjoin(sorted_df, DataFrame(:id =>collect(1:length(unique(sorted_df.dataset))), :dataset =>unique(sorted_df.dataset)), on = :dataset)\n",
    "\n",
    "fig =  Figure(resolution = (1024,1024));\n",
    "ax = Axis(fig[1,1],\n",
    "    xticks = (collect(1:length(unique(sorted_df.dataset))), unique(sorted_df.dataset)), \n",
    "    title = \"Survival prediction in cancer datasets with CPH-DNN and VAE-Cox\",\n",
    "    xlabel = \"Dataset\",\n",
    "    ylabel = \"concordance index\",\n",
    "    limits = (nothing, nothing, 0.4, 1))\n",
    "boxplot!(ax, sorted_df.id[sorted_df.model_type .== \"cphdnn_v5\"] .- 0.1, width = 0.2,sorted_df[sorted_df.model_type .== \"cphdnn_v5\",\"cph_tst_c_ind\"], label = \"CPHDNN\")\n",
    "boxplot!(ax, sorted_df.id[sorted_df.model_type .== \"vaecox_v4\"] .+ 0.1, width = 0.2, sorted_df[sorted_df.model_type .== \"vaecox_v4\",\"cph_tst_c_ind\"], label = \"VAE-COX\")\n",
    "boxplot!(ax, sorted_df.id[sorted_df.model_type .== \"cox_ridge\"].+ 0.3, width = 0.2, sorted_df[sorted_df.model_type .== \"cox_ridge\",\"cph_tst_c_ind\"], label = \"Cox-ridge\")\n",
    "boxplot!(ax, sorted_df.id[sorted_df.model_type .== \"vae_cox_transfer_v1\"] .+ 0.5, width = 0.2,sorted_df[sorted_df.model_type .== \"vae_cox_transfer_v1\",\"cph_tst_c_ind\"], label = \"VAE-COX-transfer\")\n",
    "\n",
    "#scatter!(ax, sorted_df[:,\"id\"], sorted_df[:,\"cph_tst_c_ind\"])\n",
    "medians = combine(groupby(sorted_df[:,[\"id\", \"model_type\", \"dataset\", \"cph_tst_c_ind\"]], [\"id\",\"dataset\", \"model_type\"]), :cph_tst_c_ind=>median) \n",
    "text!(ax, medians.id[medians.model_type .== \"cphdnn_v5\"] .- 0.2, medians[medians.model_type .== \"cphdnn_v5\",:].cph_tst_c_ind_median, text= string.(round.(medians[medians.model_type .== \"cphdnn_v5\",:].cph_tst_c_ind_median, digits = 3)))\n",
    "text!(ax, medians.id[medians.model_type .== \"vaecox_v4\"], medians[medians.model_type .== \"vaecox_v4\",:].cph_tst_c_ind_median, text= string.(round.(medians[medians.model_type .== \"vaecox_v4\",:].cph_tst_c_ind_median, digits = 3)))\n",
    "text!(ax, medians.id[medians.model_type .== \"cox_ridge\"] .+ 0.2, medians[medians.model_type .==\"cox_ridge\",:].cph_tst_c_ind_median, text= string.(round.(medians[medians.model_type .== \"cox_ridge\",:].cph_tst_c_ind_median, digits = 3)))\n",
    "text!(ax, medians.id[medians.model_type .== \"vae_cox_transfer_v1\"] .+ 0.4, medians[medians.model_type .==\"vae_cox_transfer_v1\",:].cph_tst_c_ind_median, text= string.(round.(medians[medians.model_type .== \"vae_cox_transfer_v1\",:].cph_tst_c_ind_median, digits = 3)))\n",
    "\n",
    "axislegend(ax, position = :rt)\n",
    "CairoMakie.save(\"figures/cphdnn_vaecox_performance_multidatasets.svg\",fig)\n",
    "CairoMakie.save(\"figures/cphdnn_vaecox_performance_multidatasets.png\",fig)\n",
    "CairoMakie.save(\"figures/cphdnn_vaecox_performance_multidatasets.pdf\",fig)\n",
    "fig"
   ]
  },
  {
   "cell_type": "code",
   "execution_count": 26,
   "metadata": {},
   "outputs": [
    {
     "data": {
      "text/plain": [
       "MakieCore.Text{Tuple{Vector{Point{2, Float32}}}}"
      ]
     },
     "metadata": {},
     "output_type": "display_data"
    }
   ],
   "source": [
    "medians = combine(groupby(sorted_df[:,[\"id\", \"model_type\", \"dataset\", \"cph_tst_c_ind\"]], [\"id\",\"dataset\", \"model_type\"]), :cph_tst_c_ind=>median) \n",
    "medians[medians.model_type .== \"cphdnn_v5\",:].cph_tst_c_ind_median\n",
    "medians.id[medians.model_type .== \"cphdnn_v5\"] .- 0.1\n",
    "medians = combine(groupby(sorted_df[:,[\"id\", \"model_type\", \"dataset\", \"cph_tst_c_ind\"]], [\"id\",\"dataset\", \"model_type\"]), :cph_tst_c_ind=>median) \n",
    "text!(ax, medians.id[medians.model_type .== \"cphdnn_v5\"] .- 0.1, medians[medians.model_type .== \"cphdnn_v5\",:].cph_tst_c_ind_median, text= string.(round.(medians.cph_tst_c_ind_median, digits = 3)))\n"
   ]
  },
  {
   "cell_type": "markdown",
   "metadata": {},
   "source": [
    "unique(models.model_type)"
   ]
  },
  {
   "cell_type": "code",
   "execution_count": 65,
   "metadata": {},
   "outputs": [
    {
     "data": {
      "image/png": "[encoded data removed]"
     },
     "metadata": {},
     "output_type": "display_data"
    }
   ],
   "source": [
    "sorted_df = sort(df, :model_type)\n",
    "sorted_df = leftjoin(sorted_df, DataFrame(:id =>collect(1:length(unique(sorted_df.model_type))), :model_type =>unique(sorted_df.model_type)), on = :model_type)\n",
    "\n",
    "fig = Figure(resolution = (1024,512));\n",
    "ax = Axis(fig[1,1],\n",
    "    ylabel = \"Concordance index\", \n",
    "    xlabel = \"Version of CPHDNN\",\n",
    "    limits = (nothing, nothing, 0.5, 1),\n",
    "    xticks = (collect(1:length(unique(sorted_df.model_type))), unique(sorted_df.model_type)))#(log2.(unique(V1[:, \"dim_redux\"])), [\"$x\" for x in unique(V1_2[:, \"dim_redux\"])] ));\n",
    "boxplot!(ax, sorted_df.id, sorted_df[:,\"cph_train_c_ind\"], label = \"train\")\n",
    "boxplot!(ax, sorted_df.id, sorted_df[:,\"cph_tst_c_ind\"], label = \"test\")\n",
    "medians = combine(groupby(sorted_df[:,[\"id\", \"cph_tst_c_ind\"]], :id), :cph_tst_c_ind=>median) \n",
    "text!(ax, medians.id, medians.cph_tst_c_ind_median, text= string.(round.(medians.cph_tst_c_ind_median, digits = 3)))\n",
    "#scatter!(ax, , V1[:,\"cph_tst_c_ind\"], label = \"test\")\n",
    "axislegend(ax,position =:rb)\n",
    "fig"
   ]
  },
  {
   "cell_type": "code",
   "execution_count": 10,
   "metadata": {},
   "outputs": [
    {
     "data": {
      "text/plain": [
       "7-element Vector{String}:\n",
       " \"0.601\"\n",
       " \"0.682\"\n",
       " \"0.675\"\n",
       " \"0.66\"\n",
       " \"0.68\"\n",
       " \"0.654\"\n",
       " \"0.639\""
      ]
     },
     "metadata": {},
     "output_type": "display_data"
    }
   ],
   "source": [
    "medians = combine(groupby(sorted_df[:,[\"id\", \"cph_tst_c_ind\"]], :id), :cph_tst_c_ind=>median) \n",
    "string.(round.(medians.cph_tst_c_ind_median, digits = 3))"
   ]
  },
  {
   "cell_type": "code",
   "execution_count": 13,
   "metadata": {},
   "outputs": [
    {
     "data": {
      "text/html": [
       "<div class=\"data-frame\"><p>50 rows × 34 columns (omitted printing of 26 columns)</p><table class=\"data-frame\"><thead><tr><th></th><th>ae_lr</th><th>dim_redux</th><th>ae_nb_hls</th><th>nsamples</th><th>cph_wd</th><th>cph_hl_size</th><th>nepochs</th><th>venc_nb_hl</th></tr><tr><th></th><th title=\"Float64\">Float64</th><th title=\"Int64\">Int64</th><th title=\"Int64\">Int64</th><th title=\"Int64\">Int64</th><th title=\"Float64\">Float64</th><th title=\"Int64\">Int64</th><th title=\"Int64\">Int64</th><th title=\"Int64\">Int64</th></tr></thead><tbody><tr><th>1</th><td>1.0e-6</td><td>125</td><td>2</td><td>300</td><td>0.0001</td><td>64</td><td>10000</td><td>2</td></tr><tr><th>2</th><td>1.0e-6</td><td>125</td><td>2</td><td>300</td><td>0.0001</td><td>64</td><td>10000</td><td>2</td></tr><tr><th>3</th><td>1.0e-6</td><td>125</td><td>2</td><td>300</td><td>0.0001</td><td>64</td><td>10000</td><td>2</td></tr><tr><th>4</th><td>1.0e-6</td><td>125</td><td>2</td><td>300</td><td>0.0001</td><td>64</td><td>10000</td><td>2</td></tr><tr><th>5</th><td>1.0e-6</td><td>125</td><td>2</td><td>300</td><td>0.0001</td><td>64</td><td>10000</td><td>2</td></tr><tr><th>6</th><td>1.0e-6</td><td>125</td><td>2</td><td>300</td><td>0.0001</td><td>64</td><td>10000</td><td>2</td></tr><tr><th>7</th><td>1.0e-6</td><td>125</td><td>2</td><td>300</td><td>0.0001</td><td>64</td><td>10000</td><td>2</td></tr><tr><th>8</th><td>1.0e-6</td><td>125</td><td>2</td><td>300</td><td>0.0001</td><td>64</td><td>10000</td><td>2</td></tr><tr><th>9</th><td>1.0e-6</td><td>125</td><td>2</td><td>300</td><td>0.0001</td><td>64</td><td>10000</td><td>2</td></tr><tr><th>10</th><td>1.0e-6</td><td>125</td><td>2</td><td>300</td><td>0.0001</td><td>64</td><td>10000</td><td>2</td></tr><tr><th>11</th><td>1.0e-6</td><td>125</td><td>2</td><td>300</td><td>0.0001</td><td>64</td><td>10000</td><td>2</td></tr><tr><th>12</th><td>1.0e-6</td><td>125</td><td>2</td><td>300</td><td>0.0001</td><td>64</td><td>10000</td><td>2</td></tr><tr><th>13</th><td>1.0e-6</td><td>125</td><td>2</td><td>300</td><td>0.0001</td><td>64</td><td>10000</td><td>2</td></tr><tr><th>14</th><td>1.0e-6</td><td>125</td><td>2</td><td>300</td><td>0.0001</td><td>64</td><td>10000</td><td>2</td></tr><tr><th>15</th><td>1.0e-6</td><td>125</td><td>2</td><td>300</td><td>0.0001</td><td>64</td><td>10000</td><td>2</td></tr><tr><th>16</th><td>1.0e-6</td><td>125</td><td>2</td><td>300</td><td>0.0001</td><td>64</td><td>10000</td><td>2</td></tr><tr><th>17</th><td>1.0e-6</td><td>125</td><td>2</td><td>300</td><td>0.0001</td><td>64</td><td>10000</td><td>2</td></tr><tr><th>18</th><td>1.0e-6</td><td>125</td><td>2</td><td>300</td><td>0.0001</td><td>64</td><td>10000</td><td>2</td></tr><tr><th>19</th><td>1.0e-6</td><td>125</td><td>2</td><td>300</td><td>0.0001</td><td>64</td><td>10000</td><td>2</td></tr><tr><th>20</th><td>1.0e-6</td><td>125</td><td>2</td><td>300</td><td>0.0001</td><td>64</td><td>10000</td><td>2</td></tr><tr><th>21</th><td>1.0e-6</td><td>125</td><td>2</td><td>300</td><td>0.0001</td><td>64</td><td>10000</td><td>2</td></tr><tr><th>22</th><td>1.0e-6</td><td>125</td><td>2</td><td>300</td><td>0.0001</td><td>64</td><td>10000</td><td>2</td></tr><tr><th>23</th><td>1.0e-6</td><td>125</td><td>2</td><td>300</td><td>0.0001</td><td>64</td><td>10000</td><td>2</td></tr><tr><th>24</th><td>1.0e-6</td><td>125</td><td>2</td><td>300</td><td>0.0001</td><td>64</td><td>10000</td><td>2</td></tr><tr><th>&vellip;</th><td>&vellip;</td><td>&vellip;</td><td>&vellip;</td><td>&vellip;</td><td>&vellip;</td><td>&vellip;</td><td>&vellip;</td><td>&vellip;</td></tr></tbody></table></div>"
      ],
      "text/latex": [
       "\\begin{tabular}{r|ccccccccc}\n",
       "\t& ae\\_lr & dim\\_redux & ae\\_nb\\_hls & nsamples & cph\\_wd & cph\\_hl\\_size & nepochs & venc\\_nb\\_hl & \\\\\n",
       "\t\\hline\n",
       "\t& Float64 & Int64 & Int64 & Int64 & Float64 & Int64 & Int64 & Int64 & \\\\\n",
       "\t\\hline\n",
       "\t1 & 1.0e-6 & 125 & 2 & 300 & 0.0001 & 64 & 10000 & 2 & $\\dots$ \\\\\n",
       "\t2 & 1.0e-6 & 125 & 2 & 300 & 0.0001 & 64 & 10000 & 2 & $\\dots$ \\\\\n",
       "\t3 & 1.0e-6 & 125 & 2 & 300 & 0.0001 & 64 & 10000 & 2 & $\\dots$ \\\\\n",
       "\t4 & 1.0e-6 & 125 & 2 & 300 & 0.0001 & 64 & 10000 & 2 & $\\dots$ \\\\\n",
       "\t5 & 1.0e-6 & 125 & 2 & 300 & 0.0001 & 64 & 10000 & 2 & $\\dots$ \\\\\n",
       "\t6 & 1.0e-6 & 125 & 2 & 300 & 0.0001 & 64 & 10000 & 2 & $\\dots$ \\\\\n",
       "\t7 & 1.0e-6 & 125 & 2 & 300 & 0.0001 & 64 & 10000 & 2 & $\\dots$ \\\\\n",
       "\t8 & 1.0e-6 & 125 & 2 & 300 & 0.0001 & 64 & 10000 & 2 & $\\dots$ \\\\\n",
       "\t9 & 1.0e-6 & 125 & 2 & 300 & 0.0001 & 64 & 10000 & 2 & $\\dots$ \\\\\n",
       "\t10 & 1.0e-6 & 125 & 2 & 300 & 0.0001 & 64 & 10000 & 2 & $\\dots$ \\\\\n",
       "\t11 & 1.0e-6 & 125 & 2 & 300 & 0.0001 & 64 & 10000 & 2 & $\\dots$ \\\\\n",
       "\t12 & 1.0e-6 & 125 & 2 & 300 & 0.0001 & 64 & 10000 & 2 & $\\dots$ \\\\\n",
       "\t13 & 1.0e-6 & 125 & 2 & 300 & 0.0001 & 64 & 10000 & 2 & $\\dots$ \\\\\n",
       "\t14 & 1.0e-6 & 125 & 2 & 300 & 0.0001 & 64 & 10000 & 2 & $\\dots$ \\\\\n",
       "\t15 & 1.0e-6 & 125 & 2 & 300 & 0.0001 & 64 & 10000 & 2 & $\\dots$ \\\\\n",
       "\t16 & 1.0e-6 & 125 & 2 & 300 & 0.0001 & 64 & 10000 & 2 & $\\dots$ \\\\\n",
       "\t17 & 1.0e-6 & 125 & 2 & 300 & 0.0001 & 64 & 10000 & 2 & $\\dots$ \\\\\n",
       "\t18 & 1.0e-6 & 125 & 2 & 300 & 0.0001 & 64 & 10000 & 2 & $\\dots$ \\\\\n",
       "\t19 & 1.0e-6 & 125 & 2 & 300 & 0.0001 & 64 & 10000 & 2 & $\\dots$ \\\\\n",
       "\t20 & 1.0e-6 & 125 & 2 & 300 & 0.0001 & 64 & 10000 & 2 & $\\dots$ \\\\\n",
       "\t21 & 1.0e-6 & 125 & 2 & 300 & 0.0001 & 64 & 10000 & 2 & $\\dots$ \\\\\n",
       "\t22 & 1.0e-6 & 125 & 2 & 300 & 0.0001 & 64 & 10000 & 2 & $\\dots$ \\\\\n",
       "\t23 & 1.0e-6 & 125 & 2 & 300 & 0.0001 & 64 & 10000 & 2 & $\\dots$ \\\\\n",
       "\t24 & 1.0e-6 & 125 & 2 & 300 & 0.0001 & 64 & 10000 & 2 & $\\dots$ \\\\\n",
       "\t$\\dots$ & $\\dots$ & $\\dots$ & $\\dots$ & $\\dots$ & $\\dots$ & $\\dots$ & $\\dots$ & $\\dots$ &  \\\\\n",
       "\\end{tabular}\n"
      ],
      "text/plain": [
       "\u001b[1m50×34 DataFrame\u001b[0m\n",
       "\u001b[1m Row \u001b[0m│\u001b[1m ae_lr   \u001b[0m\u001b[1m dim_redux \u001b[0m\u001b[1m ae_nb_hls \u001b[0m\u001b[1m nsamples \u001b[0m\u001b[1m cph_wd  \u001b[0m\u001b[1m cph_hl_size \u001b[0m\u001b[1m nepochs \u001b[0m\u001b[1m\u001b[0m ⋯\n",
       "\u001b[1m     \u001b[0m│\u001b[90m Float64 \u001b[0m\u001b[90m Int64     \u001b[0m\u001b[90m Int64     \u001b[0m\u001b[90m Int64    \u001b[0m\u001b[90m Float64 \u001b[0m\u001b[90m Int64       \u001b[0m\u001b[90m Int64   \u001b[0m\u001b[90m\u001b[0m ⋯\n",
       "─────┼──────────────────────────────────────────────────────────────────────────\n",
       "   1 │  1.0e-6        125          2       300   0.0001           64    10000  ⋯\n",
       "   2 │  1.0e-6        125          2       300   0.0001           64    10000\n",
       "   3 │  1.0e-6        125          2       300   0.0001           64    10000\n",
       "   4 │  1.0e-6        125          2       300   0.0001           64    10000\n",
       "   5 │  1.0e-6        125          2       300   0.0001           64    10000  ⋯\n",
       "   6 │  1.0e-6        125          2       300   0.0001           64    10000\n",
       "   7 │  1.0e-6        125          2       300   0.0001           64    10000\n",
       "   8 │  1.0e-6        125          2       300   0.0001           64    10000\n",
       "  ⋮  │    ⋮         ⋮          ⋮         ⋮         ⋮          ⋮          ⋮     ⋱\n",
       "  44 │  1.0e-6        125          2       300   0.0001           64    10000  ⋯\n",
       "  45 │  1.0e-6        125          2       300   0.0001           64    10000\n",
       "  46 │  1.0e-6        125          2       300   0.0001           64    10000\n",
       "  47 │  1.0e-6        125          2       300   0.0001           64    10000\n",
       "  48 │  1.0e-6        125          2       300   0.0001           64    10000  ⋯\n",
       "  49 │  1.0e-6        125          2       300   0.0001           64    10000\n",
       "  50 │  1.0e-6        125          2       300   0.0001           64    10000\n",
       "\u001b[36m                                                  27 columns and 35 rows omitted\u001b[0m"
      ]
     },
     "metadata": {},
     "output_type": "display_data"
    }
   ],
   "source": [
    "median(df[df.model_type .== \"vaecox_v2\",\"cph_tst_c_ind\"])\n",
    "sorted_df[sorted_df.model_type .== \"vaecox_v2\",:]"
   ]
  },
  {
   "cell_type": "code",
   "execution_count": 322,
   "metadata": {},
   "outputs": [
    {
     "data": {
      "text/html": [
       "<div class=\"data-frame\"><p>6 rows × 2 columns</p><table class=\"data-frame\"><thead><tr><th></th><th>id</th><th>cph_tst_c_ind_mean</th></tr><tr><th></th><th title=\"Union{Missing, Int64}\">Int64?</th><th title=\"Float64\">Float64</th></tr></thead><tbody><tr><th>1</th><td>1</td><td>0.595233</td></tr><tr><th>2</th><td>2</td><td>0.669938</td></tr><tr><th>3</th><td>3</td><td>0.678311</td></tr><tr><th>4</th><td>4</td><td>0.656278</td></tr><tr><th>5</th><td>5</td><td>0.678584</td></tr><tr><th>6</th><td>6</td><td>0.650901</td></tr></tbody></table></div>"
      ],
      "text/latex": [
       "\\begin{tabular}{r|cc}\n",
       "\t& id & cph\\_tst\\_c\\_ind\\_mean\\\\\n",
       "\t\\hline\n",
       "\t& Int64? & Float64\\\\\n",
       "\t\\hline\n",
       "\t1 & 1 & 0.595233 \\\\\n",
       "\t2 & 2 & 0.669938 \\\\\n",
       "\t3 & 3 & 0.678311 \\\\\n",
       "\t4 & 4 & 0.656278 \\\\\n",
       "\t5 & 5 & 0.678584 \\\\\n",
       "\t6 & 6 & 0.650901 \\\\\n",
       "\\end{tabular}\n"
      ],
      "text/plain": [
       "\u001b[1m6×2 DataFrame\u001b[0m\n",
       "\u001b[1m Row \u001b[0m│\u001b[1m id     \u001b[0m\u001b[1m cph_tst_c_ind_mean \u001b[0m\n",
       "\u001b[1m     \u001b[0m│\u001b[90m Int64? \u001b[0m\u001b[90m Float64            \u001b[0m\n",
       "─────┼────────────────────────────\n",
       "   1 │      1            0.595233\n",
       "   2 │      2            0.669938\n",
       "   3 │      3            0.678311\n",
       "   4 │      4            0.656278\n",
       "   5 │      5            0.678584\n",
       "   6 │      6            0.650901"
      ]
     },
     "metadata": {},
     "output_type": "display_data"
    }
   ],
   "source": [
    "means = combine(groupby(sorted_df[:,[\"id\", \"cph_tst_c_ind\"]], :id), :cph_tst_c_ind=>mean) "
   ]
  },
  {
   "cell_type": "code",
   "execution_count": 324,
   "metadata": {},
   "outputs": [
    {
     "data": {
      "text/plain": [
       "6-element Vector{Union{Missing, Int64}}:\n",
       " 1\n",
       " 2\n",
       " 3\n",
       " 4\n",
       " 5\n",
       " 6"
      ]
     },
     "metadata": {},
     "output_type": "display_data"
    }
   ],
   "source": [
    "means.id"
   ]
  },
  {
   "cell_type": "code",
   "execution_count": null,
   "metadata": {},
   "outputs": [],
   "source": []
  }
 ],
 "metadata": {
  "kernelspec": {
   "display_name": "Julia 1.10.0",
   "language": "julia",
   "name": "julia-1.10"
  },
  "language_info": {
   "file_extension": ".jl",
   "mimetype": "application/julia",
   "name": "julia",
   "version": "1.10.0"
  }
 },
 "nbformat": 4,
 "nbformat_minor": 2
}
