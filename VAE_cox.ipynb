{
 "cells": [
  {
   "cell_type": "markdown",
   "metadata": {},
   "source": [
    "# ISMB figures notebook"
   ]
  },
  {
   "cell_type": "code",
   "execution_count": 32,
   "metadata": {},
   "outputs": [
    {
     "name": "stderr",
     "output_type": "stream",
     "text": [
      "\u001b[32m\u001b[1m  Activating\u001b[22m\u001b[39m project at `~/vae_cox`\n"
     ]
    }
   ],
   "source": [
    "\n",
    "include(\"engines/init.jl\")\n",
    "include(\"engines/data_processing.jl\")\n",
    "include(\"engines/deep_learning.jl\")\n",
    "include(\"engines/cross_validation.jl\")\n",
    "outpath, session_id = set_dirs() ;"
   ]
  },
  {
   "cell_type": "code",
   "execution_count": 33,
   "metadata": {},
   "outputs": [
    {
     "data": {
      "text/plain": [
       "MLSurvDataset(Float32[2.628389 0.60206 … 0.47712126 1.30103; 3.3195224 2.4843 … 0.90309 1.3617278; … ; 3.2151086 1.0413927 … 0.0 1.0791812; 3.328991 1.0 … 0.60206 1.5563025], [\"001cef41-ff86-4d3f-a140-a647ac4b10a1\", \"0045349c-69d9-4306-a403-c9c1fa836644\", \"00807dae-9f4a-4fd1-aac2-82eb11bf2afb\", \"00a2d166-78c9-4687-a195-3d6315c27574\", \"00b11ca8-8540-4a3d-b602-ec754b00230b\", \"011b9b2d-ebe5-42bf-9662-d922faccc7a1\", \"01263518-5f7c-49dc-8d7e-84b0c03a6a63\", \"0130d616-885e-4a6c-9d03-2f17dd692a05\", \"01674b2c-5cf2-478f-84a1-f69c39f47bd4\", \"016caf42-4e19-4444-ab5d-6cf1e76c4afa\"  …  \"fb57c598-b45b-478a-9d34-ca1f050d5b7c\", \"fbee40f1-d6d8-4156-8d42-36e09bb9f095\", \"fc18d029-9be2-4fa0-9aef-6d647dc55f0b\", \"fcef8cb5-fb2c-4bfb-82cd-6b9f3145182c\", \"fd0b1b8b-1a76-480a-b61c-d176e4e02c6b\", \"fe15c48b-116d-461e-9b40-68514730fd18\", \"fe2cd610-aa52-4789-ac62-7683281bb22f\", \"fe7f74b8-20f4-4471-91dc-4cca8c68e5c0\", \"fec0da58-1047-44d2-b6d1-c18cceed43dc\", \"ff0f875f-113a-4c0f-8c0a-4259cd496e6d\"], [\"TSPAN6\", \"TNMD\", \"DPM1\", \"SCYL3\", \"C1orf112\", \"FGR\", \"CFH\", \"FUCA2\", \"GCLC\", \"NFYA\"  …  \"AL451106.1\", \"AC092910.4\", \"AC073611.1\", \"AC136977.1\", \"AC078856.1\", \"AC008763.4\", \"AL592295.6\", \"AC006486.3\", \"AL391628.1\", \"AP006621.6\"], [\"protein_coding\", \"protein_coding\", \"protein_coding\", \"protein_coding\", \"protein_coding\", \"protein_coding\", \"protein_coding\", \"protein_coding\", \"protein_coding\", \"protein_coding\"  …  \"protein_coding\", \"lncRNA\", \"lncRNA\", \"lncRNA\", \"lncRNA\", \"protein_coding\", \"lncRNA\", \"protein_coding\", \"protein_coding\", \"protein_coding\"], [\"LumA\", \"Basal\", \"Her2\", \"Her2\", \"Normal\", \"LumA\", \"LumB\", \"LumA\", \"Basal\", \"Basal\"  …  \"LumA\", \"LumB\", \"Basal\", \"Normal\", \"Her2\", \"Normal\", \"LumA\", \"Basal\", \"LumA\", \"Her2\"], [337, 259, 3102, 5, 759, 954, 304, 503, 915, 3248  …  78, 572, 584, 414, 2164, 2813, 5, 1532, 375, 381], [0, 0, 0, 0, 0, 0, 0, 0, 0, 0  …  0, 0, 0, 0, 0, 0, 0, 0, 0, 0])"
      ]
     },
     "metadata": {},
     "output_type": "display_data"
    }
   ],
   "source": [
    "BRCA = MLSurvDataset(\"Data/TCGA_BRCA_tpm_n1049_btypes_labels_surv.h5\")"
   ]
  },
  {
   "cell_type": "code",
   "execution_count": 2,
   "metadata": {},
   "outputs": [
    {
     "data": {
      "text/plain": [
       "MLSurvDataset(Float32[0.008600163 0.0 … 0.0 0.0; 0.033423774 0.00432137 … 0.0 0.029383799; … ; 0.4828736 0.0 … 0.0 0.15836251; 0.045322984 0.017033324 … 0.0 0.20682588], [\"01H001\", \"02H003\", \"02H009\", \"02H017\", \"02H026\", \"02H033\", \"02H053\", \"02H066\", \"03H016\", \"03H022\"  …  \"13H186\", \"14H001\", \"14H007\", \"14H012\", \"14H015\", \"14H017\", \"14H019\", \"14H020\", \"14H023\", \"14H038\"], [\"TSPAN6\", \"TNMD\", \"DPM1\", \"SCYL3\", \"C1orf112\", \"FGR\", \"CFH\", \"FUCA2\", \"GCLC\", \"NFYA\"  …  \"AP003086.3\", \"AL109627.1\", \"AC084851.4\", \"AC024558.2\", \"AC108479.4\", \"AL512357.2\", \"AL138899.3\", \"AL669830.1\", \"AC091135.2\", \"AL357075.5\"], [\"lncRNA\", \"lncRNA\", \"protein_coding\", \"lncRNA\", \"protein_coding\", \"lncRNA\", \"protein_coding,retained_intron\", \"lncRNA\", \"protein_coding\", \"protein_coding\"  …  \"transcribed_processed_pseudogene\", \"lncRNA\", \"processed_pseudogene\", \"protein_coding\", \"unprocessed_pseudogene\", \"lncRNA\", \"protein_coding\", \"retained_intron\", \"unprocessed_pseudogene\", \"protein_coding\"], [\"Therapy-related myeloid neoplasms\", \"AML with minimal differentiation\", \"AML without maturation\", \"AML with minimal differentiation\", \"AML with myelodysplasia-related changes\", \"Acute monoblastic and monocytic leukaemia\", \"AML without maturation\", \"AML without maturation\", \"Acute monoblastic and monocytic leukaemia\", \"AML with myelodysplasia-related changes\"  …  \"Acute myelomonocytic leukaemia\", \"AML without maturation\", \"AML with maturation\", \"AML with minimal differentiation\", \"Acute myelomonocytic leukaemia\", \"AML without maturation\", \"AML with minimal differentiation\", \"AML without maturation\", \"AML with myelodysplasia-related changes\", \"AML with inv(3)(q21q26.2) or t(3;3)(q21;q26.2); RPN1-EVI1\"], [2170, 1396, 236, 284, 358, 101, 37, 135, 6033, 805  …  150, 2086, 75, 1467, 207, 213, 1983, 1952, 36, 255], [1, 1, 1, 1, 1, 1, 1, 1, 0, 1  …  1, 0, 1, 1, 1, 1, 0, 0, 1, 1])"
      ]
     },
     "metadata": {},
     "output_type": "display_data"
    }
   ],
   "source": [
    "LAML = MLSurvDataset(\"Data/LGN_AML_tpm_n300_btypes_labels_surv.h5\") "
   ]
  },
  {
   "cell_type": "code",
   "execution_count": 3,
   "metadata": {},
   "outputs": [
    {
     "data": {
      "text/plain": [
       "format_train_test (generic function with 1 method)"
      ]
     },
     "metadata": {},
     "output_type": "display_data"
    }
   ],
   "source": [
    "function format_train_test(fold; device = gpu)\n",
    "    nsamples = size(fold[\"train_x\"])[1]\n",
    "    ordering = sortperm(-fold[\"Y_t_train\"])\n",
    "    train_x = device(Matrix(fold[\"train_x\"][ordering,:]'));\n",
    "    train_y_t = device(Matrix(fold[\"Y_t_train\"][ordering,:]'));\n",
    "    train_y_e = device(Matrix(fold[\"Y_e_train\"][ordering,:]'));\n",
    "    NE_frac_tr = sum(train_y_e .== 1) != 0 ? 1 / sum(train_y_e .== 1) : 0\n",
    "\n",
    "    nsamples = size(fold[\"test_x\"])[1]\n",
    "    ordering = sortperm(-fold[\"Y_t_test\"])\n",
    "    test_x = device(Matrix(fold[\"test_x\"][ordering,:]'));\n",
    "    test_y_t = device(Matrix(fold[\"Y_t_test\"][ordering,:]'));\n",
    "    test_y_e = device(Matrix(fold[\"Y_e_test\"][ordering,:]'));\n",
    "    NE_frac_tst = sum(test_y_e .== 1) != 0 ? 1 / sum(test_y_e .== 1) : 0\n",
    "    return train_x, train_y_t, train_y_e, NE_frac_tr, test_x, test_y_t, test_y_e, NE_frac_tst\n",
    "end "
   ]
  },
  {
   "cell_type": "code",
   "execution_count": 4,
   "metadata": {},
   "outputs": [
    {
     "data": {
      "text/plain": [
       "data_prep (generic function with 1 method)"
      ]
     },
     "metadata": {},
     "output_type": "display_data"
    }
   ],
   "source": [
    "\n",
    "function data_prep(DATA;nfolds = 5, nepochs =1000, dim_redux= 125)\n",
    "    keep = [occursin(\"protein_coding\", bt) for bt in DATA.biotypes]\n",
    "    println(\"nb genes : $(sum(keep))\")\n",
    "    println(\"nb patients : $(size(DATA.samples)[1])\")\n",
    "    println(\"% uncensored : $(mean(DATA.surve .!= 0))\")\n",
    "    params_dict = Dict(\n",
    "            ## run infos \n",
    "            \"session_id\" => session_id, \"nfolds\" =>5,  \"modelid\" => \"$(bytes2hex(sha256(\"$(now())\"))[1:Int(floor(end/3))])\",\n",
    "            \"machine_id\"=>strip(read(`hostname`, String)), \"device\" => \"$(device())\", \"model_title\"=>\"AECPHDNN\",\n",
    "            ## data infos \n",
    "            \"dataset\" => \"BRCA_data(norm=true)\", \"nsamples\" => size(DATA.samples)[1],\n",
    "            \"nsamples_test\" => Int(round(size(DATA.samples)[1] / nfolds)), \"ngenes\" => size(DATA.genes[keep])[1],\n",
    "            \"nsamples_train\" => size(DATA.samples)[1] - Int(round(size(DATA.samples)[1] / nfolds)),\n",
    "            ## optim infos \n",
    "            \"nepochs\" => nepochs, \"ae_lr\" =>1e-6, \"cph_lr\" => 1e-5, \"ae_wd\" => 1e-6, \"cph_wd\" => 1e-6,\n",
    "            ## model infos\n",
    "            \"model_type\"=> \"vaecox\", \"dim_redux\" => dim_redux, \"ae_nb_hls\" => 2,\n",
    "            \"enc_nb_hl\" => 2, \"enc_hl_size\"=> 128,\n",
    "            \"venc_nb_hl\" => 2, \"venc_hl_size\"=> 128,  \"dec_nb_hl\" => 2 , \"dec_hl_size\"=> 128,\n",
    "            \"nb_clinf\" => 0, \"cph_nb_hl\" => 2, \"cph_hl_size\" => 64, \n",
    "            \"insize\" => size(DATA.genes[keep])[1],\n",
    "            ## metrics\n",
    "            \"model_cv_complete\" => false\n",
    "        )\n",
    "    # split train test\n",
    "    folds = split_train_test(Matrix(DATA.data[:,keep]), DATA.survt, DATA.surve, DATA.samples;nfolds =5)\n",
    "    fold = folds[1]\n",
    "    # format input data  \n",
    "    train_x, train_y_t, train_y_e, NE_frac_tr, test_x, test_y_t, test_y_e, NE_frac_tst = format_train_test(fold)\n",
    "\n",
    "    return train_x, train_y_t, train_y_e, NE_frac_tr, test_x, test_y_t, test_y_e, NE_frac_tst, params_dict\n",
    "end\n",
    "\n"
   ]
  },
  {
   "cell_type": "code",
   "execution_count": 5,
   "metadata": {},
   "outputs": [
    {
     "data": {
      "text/plain": [
       "cox_nll_vec (generic function with 6 methods)"
      ]
     },
     "metadata": {},
     "output_type": "display_data"
    }
   ],
   "source": [
    "function cox_nll_vec(mdl::Chain, X_, Y_e_, NE_frac)\n",
    "    outs = vec(mdl(X_))\n",
    "    #outs = vec(mdl.cphdnn(mdl.encoder(X_)))\n",
    "    hazard_ratios = exp.(outs)\n",
    "    log_risk = log.(cumsum(hazard_ratios))\n",
    "    uncensored_likelihood = outs .- log_risk\n",
    "    censored_likelihood = uncensored_likelihood .* Y_e_'\n",
    "    #neg_likelihood = - sum(censored_likelihood) / sum(e .== 1)\n",
    "    neg_likelihood = - sum(censored_likelihood) * NE_frac\n",
    "    return neg_likelihood\n",
    "end "
   ]
  },
  {
   "cell_type": "code",
   "execution_count": 6,
   "metadata": {},
   "outputs": [
    {
     "data": {
      "text/plain": [
       "VAE_COX_loss (generic function with 1 method)"
      ]
     },
     "metadata": {},
     "output_type": "display_data"
    }
   ],
   "source": [
    "function VAE_COX_loss(VENC::VariationalEncoder, CPH, X, Y_e, NE_frac;device = gpu)\n",
    "    mu, log_sigma = VENC(X)\n",
    "    #z = mu + device(randn(Float32, size(log_sigma))) .* exp.(log_sigma)\n",
    "    outs = vec(CPH(mu))\n",
    "    hazard_ratios = exp.(outs)\n",
    "    log_risk = log.(cumsum(hazard_ratios))\n",
    "    uncensored_likelihood = outs .- log_risk\n",
    "    censored_likelihood = uncensored_likelihood .* Y_e'\n",
    "    #neg_likelihood = - sum(censored_likelihood) / sum(e .== 1)\n",
    "    neg_likelihood = - sum(censored_likelihood) * NE_frac\n",
    "    return neg_likelihood\n",
    "end "
   ]
  },
  {
   "cell_type": "code",
   "execution_count": 7,
   "metadata": {},
   "outputs": [
    {
     "data": {
      "text/plain": [
       "VariationalEncoder"
      ]
     },
     "metadata": {},
     "output_type": "display_data"
    }
   ],
   "source": [
    "function VariationalEncoder(input_dim::Int, latent_dim::Int, hidden_dim::Int;device = gpu) \n",
    "    return VariationalEncoder(\n",
    "    device(Chain(Dense(input_dim, hidden_dim, leakyrelu), Dense(hidden_dim,hidden_dim, leakyrelu))),   # linear\n",
    "    device(Dense(hidden_dim, latent_dim)),        # mu\n",
    "    device(Dense(hidden_dim, latent_dim)))        # log sigma\n",
    "end "
   ]
  },
  {
   "cell_type": "code",
   "execution_count": 8,
   "metadata": {},
   "outputs": [
    {
     "data": {
      "text/plain": [
       "l2_penalty (generic function with 7 methods)"
      ]
     },
     "metadata": {},
     "output_type": "display_data"
    }
   ],
   "source": [
    "function l2_penalty(model::VariationalEncoder)\n",
    "    l2_sum = 0\n",
    "    for wm in model.linear\n",
    "        l2_sum += sum(abs2, wm.weight)\n",
    "    end \n",
    "    l2_sum += sum(abs2, model.mu.weight)\n",
    "    l2_sum += sum(abs2, model.log_sigma.weight)\n",
    "    return l2_sum\n",
    "end"
   ]
  },
  {
   "cell_type": "code",
   "execution_count": 16,
   "metadata": {},
   "outputs": [
    {
     "name": "stdout",
     "output_type": "stream",
     "text": [
      "nb genes : 19962\n",
      "nb patients : 1049\n",
      "% uncensored : 0.14013346043851288\n"
     ]
    },
    {
     "name": "stdout",
     "output_type": "stream",
     "text": [
      "1 TRAIN 5.461 cind: 0.469 \t TEST ae-corr: -0.003 \tcind: 0.468 [1082, 1229, 0]\n"
     ]
    },
    {
     "name": "stdout",
     "output_type": "stream",
     "text": [
      "400 TRAIN 5.461 cind: 0.469 \t TEST ae-corr: 0.651 \tcind: 0.468 [1082, 1229, 0]\n"
     ]
    },
    {
     "name": "stdout",
     "output_type": "stream",
     "text": [
      "800 TRAIN 5.461 cind: 0.469 \t TEST ae-corr: 0.808 \tcind: 0.468 [1082, 1229, 0]\n"
     ]
    },
    {
     "name": "stdout",
     "output_type": "stream",
     "text": [
      "1200 TRAIN 5.461 cind: 0.469 \t TEST ae-corr: 0.852 \tcind: 0.468 [1082, 1229, 0]\n"
     ]
    },
    {
     "name": "stdout",
     "output_type": "stream",
     "text": [
      "1600 TRAIN 5.461 cind: 0.469 \t TEST ae-corr: 0.888 \tcind: 0.468 [1082, 1229, 0]\n"
     ]
    },
    {
     "name": "stdout",
     "output_type": "stream",
     "text": [
      "2000 TRAIN 5.461 cind: 0.469 \t TEST ae-corr: 0.9 \tcind: 0.468 [1082, 1229, 0]\n"
     ]
    },
    {
     "name": "stdout",
     "output_type": "stream",
     "text": [
      "2400 TRAIN 5.461 cind: 0.469 \t TEST ae-corr: 0.916 \tcind: 0.468 [1082, 1229, 0]\n"
     ]
    },
    {
     "name": "stdout",
     "output_type": "stream",
     "text": [
      "2800 TRAIN 5.461 cind: 0.469 \t TEST ae-corr: 0.926 \tcind: 0.468 [1082, 1229, 0]\n"
     ]
    },
    {
     "name": "stdout",
     "output_type": "stream",
     "text": [
      "1 TRAIN 5.459 cind: 0.469 \t TEST ae-corr: 0.927 \tcind: 0.468 [1082, 1229, 0]\n"
     ]
    },
    {
     "name": "stdout",
     "output_type": "stream",
     "text": [
      "400 TRAIN 5.372 cind: 0.622 \t TEST ae-corr: 0.928 \tcind: 0.486 [1122, 1189, 0]\n"
     ]
    },
    {
     "name": "stdout",
     "output_type": "stream",
     "text": [
      "800 TRAIN 5.32 cind: 0.677 \t TEST ae-corr: 0.929 \tcind: 0.497 [1148, 1163, 0]\n"
     ]
    },
    {
     "name": "stdout",
     "output_type": "stream",
     "text": [
      "1200 TRAIN 5.274 cind: 0.714 \t TEST ae-corr: 0.929 \tcind: 0.511 [1182, 1129, 0]\n"
     ]
    },
    {
     "name": "stdout",
     "output_type": "stream",
     "text": [
      "1600 TRAIN 5.231 cind: 0.742 \t TEST ae-corr: 0.931 \tcind: 0.524 [1210, 1101, 0]\n"
     ]
    },
    {
     "name": "stdout",
     "output_type": "stream",
     "text": [
      "2000 TRAIN 5.188 cind: 0.764 \t TEST ae-corr: 0.93 \tcind: 0.536 [1238, 1073, 0]\n"
     ]
    },
    {
     "name": "stdout",
     "output_type": "stream",
     "text": [
      "2400 TRAIN 5.144 cind: 0.778 \t TEST ae-corr: 0.928 \tcind: 0.537 [1242, 1069, 0]\n"
     ]
    },
    {
     "name": "stdout",
     "output_type": "stream",
     "text": [
      "2800 TRAIN 5.1 cind: 0.792 \t TEST ae-corr: 0.929 \tcind: 0.543 [1256, 1055, 0]\n"
     ]
    },
    {
     "name": "stdout",
     "output_type": "stream",
     "text": [
      "3200 TRAIN 5.055 cind: 0.804 \t TEST ae-corr: 0.929 \tcind: 0.549 [1269, 1042, 0]\n"
     ]
    },
    {
     "name": "stdout",
     "output_type": "stream",
     "text": [
      "3600 TRAIN 5.01 cind: 0.813 \t TEST ae-corr: 0.929 \tcind: 0.553 [1278, 1033, 0]\n"
     ]
    },
    {
     "name": "stdout",
     "output_type": "stream",
     "text": [
      "4000 TRAIN 4.957 cind: 0.822 \t TEST ae-corr: 0.929 \tcind: 0.553 [1279, 1032, 0]\n"
     ]
    },
    {
     "name": "stdout",
     "output_type": "stream",
     "text": [
      "4400 TRAIN 4.911 cind: 0.83 \t TEST ae-corr: 0.93 \tcind: 0.557 [1287, 1024, 0]\n"
     ]
    },
    {
     "name": "stdout",
     "output_type": "stream",
     "text": [
      "4800 TRAIN 4.865 cind: 0.838 \t TEST ae-corr: 0.927 \tcind: 0.558 [1290, 1021, 0]\n"
     ]
    },
    {
     "name": "stdout",
     "output_type": "stream",
     "text": [
      "5200 TRAIN 4.818 cind: 0.844 \t TEST ae-corr: 0.928 \tcind: 0.56 [1295, 1016, 0]\n"
     ]
    },
    {
     "name": "stdout",
     "output_type": "stream",
     "text": [
      "5600 TRAIN 4.771 cind: 0.85 \t TEST ae-corr: 0.928 \tcind: 0.562 [1299, 1012, 0]\n"
     ]
    },
    {
     "name": "stdout",
     "output_type": "stream",
     "text": [
      "6000 TRAIN 4.725 cind: 0.855 \t TEST ae-corr: 0.93 \tcind: 0.563 [1302, 1009, 0]\n"
     ]
    },
    {
     "name": "stdout",
     "output_type": "stream",
     "text": [
      "6400 TRAIN 4.679 cind: 0.861 \t TEST ae-corr: 0.929 \tcind: 0.565 [1305, 1006, 0]\n"
     ]
    },
    {
     "name": "stdout",
     "output_type": "stream",
     "text": [
      "6800 TRAIN 4.634 cind: 0.866 \t TEST ae-corr: 0.929 \tcind: 0.562 [1299, 1012, 0]\n"
     ]
    },
    {
     "name": "stdout",
     "output_type": "stream",
     "text": [
      "7200 TRAIN 4.587 cind: 0.871 \t TEST ae-corr: 0.93 \tcind: 0.56 [1295, 1016, 0]\n"
     ]
    },
    {
     "name": "stdout",
     "output_type": "stream",
     "text": [
      "7600 TRAIN 4.544 cind: 0.876 \t TEST ae-corr: 0.93 \tcind: 0.561 [1297, 1014, 0]\n"
     ]
    },
    {
     "name": "stdout",
     "output_type": "stream",
     "text": [
      "8000 TRAIN 4.501 cind: 0.881 \t TEST ae-corr: 0.929 \tcind: 0.558 [1290, 1021, 0]\n"
     ]
    },
    {
     "name": "stdout",
     "output_type": "stream",
     "text": [
      "8400 TRAIN 4.46 cind: 0.885 \t TEST ae-corr: 0.927 \tcind: 0.559 [1293, 1018, 0]\n"
     ]
    },
    {
     "name": "stdout",
     "output_type": "stream",
     "text": [
      "8800 TRAIN 4.419 cind: 0.89 \t TEST ae-corr: 0.928 \tcind: 0.56 [1295, 1016, 0]\n"
     ]
    },
    {
     "name": "stdout",
     "output_type": "stream",
     "text": [
      "9200 TRAIN 4.377 cind: 0.894 \t TEST ae-corr: 0.93 \tcind: 0.559 [1292, 1019, 0]\n"
     ]
    },
    {
     "name": "stdout",
     "output_type": "stream",
     "text": [
      "9600 TRAIN 4.335 cind: 0.898 \t TEST ae-corr: 0.93 \tcind: 0.559 [1291, 1020, 0]\n"
     ]
    },
    {
     "name": "stdout",
     "output_type": "stream",
     "text": [
      "10000 TRAIN 4.292 cind: 0.903 \t TEST ae-corr: 0.929 \tcind: 0.559 [1292, 1019, 0]\n"
     ]
    },
    {
     "name": "stdout",
     "output_type": "stream",
     "text": [
      "1 TRAIN 4.294 cind: 0.903 \t TEST ae-corr: 0.929 \tcind: 0.559 [1292, 1019, 0]\n"
     ]
    },
    {
     "name": "stdout",
     "output_type": "stream",
     "text": [
      "400 TRAIN 4.254 cind: 0.907 \t TEST ae-corr: 0.928 \tcind: 0.556 [1286, 1025, 0]\n"
     ]
    },
    {
     "name": "stdout",
     "output_type": "stream",
     "text": [
      "800 TRAIN 4.213 cind: 0.912 \t TEST ae-corr: 0.928 \tcind: 0.558 [1290, 1021, 0]\n"
     ]
    },
    {
     "name": "stdout",
     "output_type": "stream",
     "text": [
      "1200 TRAIN 4.172 cind: 0.915 \t TEST ae-corr: 0.928 \tcind: 0.557 [1288, 1023, 0]\n"
     ]
    },
    {
     "name": "stdout",
     "output_type": "stream",
     "text": [
      "1600 TRAIN 4.129 cind: 0.918 \t TEST ae-corr: 0.929 \tcind: 0.559 [1291, 1020, 0]\n"
     ]
    },
    {
     "name": "stdout",
     "output_type": "stream",
     "text": [
      "2000 TRAIN 4.089 cind: 0.922 \t TEST ae-corr: 0.93 \tcind: 0.557 [1287, 1024, 0]\n"
     ]
    },
    {
     "name": "stdout",
     "output_type": "stream",
     "text": [
      "2400 TRAIN 4.049 cind: 0.925 \t TEST ae-corr: 0.929 \tcind: 0.556 [1285, 1026, 0]\n"
     ]
    },
    {
     "name": "stdout",
     "output_type": "stream",
     "text": [
      "2800 TRAIN 4.01 cind: 0.928 \t TEST ae-corr: 0.929 \tcind: 0.555 [1283, 1028, 0]\n"
     ]
    },
    {
     "name": "stdout",
     "output_type": "stream",
     "text": [
      "3200 TRAIN 3.969 cind: 0.93 \t TEST ae-corr: 0.929 \tcind: 0.555 [1282, 1029, 0]\n"
     ]
    },
    {
     "name": "stdout",
     "output_type": "stream",
     "text": [
      "3600 TRAIN 3.929 cind: 0.933 \t TEST ae-corr: 0.929 \tcind: 0.553 [1278, 1033, 0]\n"
     ]
    },
    {
     "name": "stdout",
     "output_type": "stream",
     "text": [
      "4000 TRAIN 3.886 cind: 0.936 \t TEST ae-corr: 0.928 \tcind: 0.553 [1279, 1032, 0]\n"
     ]
    },
    {
     "name": "stdout",
     "output_type": "stream",
     "text": [
      "4400 TRAIN 3.845 cind: 0.938 \t TEST ae-corr: 0.929 \tcind: 0.555 [1282, 1029, 0]\n"
     ]
    },
    {
     "name": "stdout",
     "output_type": "stream",
     "text": [
      "4800 TRAIN 3.804 cind: 0.941 \t TEST ae-corr: 0.929 \tcind: 0.553 [1279, 1032, 0]\n"
     ]
    },
    {
     "name": "stdout",
     "output_type": "stream",
     "text": [
      "5200 TRAIN 3.761 cind: 0.943 \t TEST ae-corr: 0.929 \tcind: 0.556 [1284, 1027, 0]\n"
     ]
    },
    {
     "name": "stdout",
     "output_type": "stream",
     "text": [
      "5600 TRAIN 3.719 cind: 0.946 \t TEST ae-corr: 0.93 \tcind: 0.557 [1288, 1023, 0]\n"
     ]
    },
    {
     "name": "stdout",
     "output_type": "stream",
     "text": [
      "6000 TRAIN 3.675 cind: 0.948 \t TEST ae-corr: 0.928 \tcind: 0.56 [1294, 1017, 0]\n"
     ]
    },
    {
     "name": "stdout",
     "output_type": "stream",
     "text": [
      "6400 TRAIN 3.632 cind: 0.951 \t TEST ae-corr: 0.929 \tcind: 0.56 [1294, 1017, 0]\n"
     ]
    },
    {
     "name": "stdout",
     "output_type": "stream",
     "text": [
      "6800 TRAIN 3.594 cind: 0.953 \t TEST ae-corr: 0.929 \tcind: 0.559 [1293, 1018, 0]\n"
     ]
    },
    {
     "name": "stdout",
     "output_type": "stream",
     "text": [
      "7200 TRAIN 3.555 cind: 0.955 \t TEST ae-corr: 0.927 \tcind: 0.559 [1292, 1019, 0]\n"
     ]
    },
    {
     "name": "stdout",
     "output_type": "stream",
     "text": [
      "7600 TRAIN 3.518 cind: 0.957 \t TEST ae-corr: 0.929 \tcind: 0.56 [1294, 1017, 0]\n"
     ]
    },
    {
     "name": "stdout",
     "output_type": "stream",
     "text": [
      "8000 TRAIN 3.478 cind: 0.959 \t TEST ae-corr: 0.928 \tcind: 0.561 [1296, 1015, 0]\n"
     ]
    },
    {
     "name": "stdout",
     "output_type": "stream",
     "text": [
      "8400 TRAIN 3.44 cind: 0.961 \t TEST ae-corr: 0.928 \tcind: 0.563 [1302, 1009, 0]\n"
     ]
    },
    {
     "name": "stdout",
     "output_type": "stream",
     "text": [
      "8800 TRAIN 3.402 cind: 0.963 \t TEST ae-corr: 0.929 \tcind: 0.563 [1301, 1010, 0]\n"
     ]
    },
    {
     "name": "stdout",
     "output_type": "stream",
     "text": [
      "9200 TRAIN 3.364 cind: 0.965 \t TEST ae-corr: 0.929 \tcind: 0.566 [1307, 1004, 0]\n"
     ]
    },
    {
     "name": "stdout",
     "output_type": "stream",
     "text": [
      "9600 TRAIN 3.327 cind: 0.967 \t TEST ae-corr: 0.928 \tcind: 0.569 [1314, 997, 0]\n"
     ]
    },
    {
     "name": "stdout",
     "output_type": "stream",
     "text": [
      "10000 TRAIN 3.287 cind: 0.969 \t TEST ae-corr: 0.931 \tcind: 0.571 [1319, 992, 0]\n"
     ]
    }
   ],
   "source": [
    "train_x, train_y_t, train_y_e, NE_frac_tr, test_x, test_y_t, test_y_e, NE_frac_tst, params_dict = data_prep(BRCA;nepochs = 10_000, dim_redux = 300)\n",
    "venc = VariationalEncoder(size(train_x)[1], params_dict[\"dim_redux\"], 600)\n",
    "vdec = Decoder(size(train_x)[1], params_dict[\"dim_redux\"], 600)\n",
    "cphdnn = gpu(Chain(Dense(params_dict[\"dim_redux\"],512, leakyrelu), Dense(512,512, leakyrelu), Dense(512, 1, bias = false)))\n",
    "opt1 = Flux.ADAM(1e-6) ## opt VENC-CPHDNN\n",
    "opt2 = Flux.ADAM(1e-5) ## opt VAE\n",
    "wd = params_dict[\"cph_wd\"]\n",
    "opt = Flux.ADAM(params_dict[\"cph_lr\"])\n",
    "# training VAE only first\n",
    "for i in 1:3000\n",
    "    vaecox_loss =  round(VAE_COX_loss(venc, cphdnn, train_x, train_y_e, NE_frac_tr) + l2_penalty(cphdnn) * wd + l2_penalty(venc) * wd, digits = 3)  \n",
    "    \n",
    "    OUTS_tr = cphdnn(venc(train_x)[1])\n",
    "    OUTS_tst = cphdnn(venc(test_x)[1])\n",
    "    \n",
    "    ps2 = Flux.params(venc, vdec)\n",
    "    gs2 = gradient(ps2) do \n",
    "        VAE_lossf(venc, vdec, train_x) + l2_penalty(venc) * wd + l2_penalty(vdec) * wd\n",
    "        #VAE_COX_loss(model[\"venc\"], model[\"cph\"], train_x, train_y_e, NE_frac_tr) + l2_penalty(model[\"venc\"]) * wd + l2_penalty(model[\"cph\"]) * wd \n",
    "    end \n",
    "    vae_loss =  round(VAE_lossf(venc, vdec, train_x) + l2_penalty(venc) * wd + l2_penalty(vdec) * wd, digits = 3)  \n",
    "    VAE_test = round(my_cor(vec(test_x), vec(MyReconstruct(venc, vdec, test_x)[end])),digits = 3)\n",
    "\n",
    "    cind_tr, cdnt_tr, ddnt_tr, tied_tr  = concordance_index(train_y_t, train_y_e, -1 * OUTS_tr)\n",
    "    cind_test,cdnt_tst, ddnt_tst, tied_tst = concordance_index(test_y_t, test_y_e, -1 *OUTS_tst)\n",
    "    \n",
    "    if i%400 ==0 || i == 1\n",
    "    println(\"$i TRAIN $vaecox_loss cind: $(round(cind_tr, digits = 3)) \\t TEST ae-corr: $VAE_test \\tcind: $(round(cind_test, digits = 3)) [$(Int(cdnt_tst)), $(Int(ddnt_tst)), $(Int(tied_tst))]\")\n",
    "    end \n",
    "    #Flux.update!(opt1,ps1, gs1)\n",
    "    Flux.update!(opt2,ps2, gs2)\n",
    "    params_dict[\"cph_tst_c_ind\"] = cind_test\n",
    "    params_dict[\"cph_train_c_ind\"] = cind_tr\n",
    "    params_dict[\"step\"] = i \n",
    "end\n",
    "# training VENC-CPHDNN \n",
    "for i in 1:params_dict[\"nepochs\"]\n",
    "    ps1 = Flux.params(cphdnn)\n",
    "    gs1 = gradient(ps1) do \n",
    "        cox_nll_vec(cphdnn, venc(train_x)[1], train_y_e, NE_frac_tr) + l2_penalty(cphdnn) * wd \n",
    "        #VAE_COX_loss(model[\"venc\"], model[\"cph\"], train_x, train_y_e, NE_frac_tr) + l2_penalty(model[\"venc\"]) * wd + l2_penalty(model[\"cph\"]) * wd \n",
    "    end \n",
    "    vaecox_loss =  round(cox_nll_vec(cphdnn, venc(train_x)[1], train_y_e, NE_frac_tr) + l2_penalty(cphdnn) * wd  , digits = 3)  \n",
    "    OUTS_tr = cphdnn(venc(train_x)[1])\n",
    "    OUTS_tst = cphdnn(venc(test_x)[1])\n",
    "    \n",
    "    vae_loss =  round(VAE_lossf(venc, vdec, train_x) + l2_penalty(venc) * wd + l2_penalty(vdec) * wd, digits = 3)  \n",
    "    VAE_test = round(my_cor(vec(test_x), vec(MyReconstruct(venc, vdec, test_x)[end])),digits = 3)\n",
    "\n",
    "    cind_tr, cdnt_tr, ddnt_tr, tied_tr  = concordance_index(train_y_t, train_y_e, -1 * OUTS_tr)\n",
    "    cind_test,cdnt_tst, ddnt_tst, tied_tst = concordance_index(test_y_t, test_y_e, -1 *OUTS_tst)\n",
    "    \n",
    "    if i%400 ==0 || i == 1\n",
    "    println(\"$i TRAIN $vaecox_loss cind: $(round(cind_tr, digits = 3)) \\t TEST ae-corr: $VAE_test \\tcind: $(round(cind_test, digits = 3)) [$(Int(cdnt_tst)), $(Int(ddnt_tst)), $(Int(tied_tst))]\")\n",
    "    end \n",
    "    Flux.update!(opt1,ps1, gs1)\n",
    "    #Flux.update!(opt2,ps2, gs2)\n",
    "    params_dict[\"cph_tst_c_ind\"] = cind_test\n",
    "    params_dict[\"cph_train_c_ind\"] = cind_tr\n",
    "    params_dict[\"step\"] = i \n",
    "end\n",
    "# training VENC-CPHDNN \n",
    "for i in 1:params_dict[\"nepochs\"]\n",
    "    ps1 = Flux.params(venc, cphdnn)\n",
    "    gs1 = gradient(ps1) do \n",
    "        VAE_COX_loss(venc, cphdnn, train_x, train_y_e, NE_frac_tr) + l2_penalty(cphdnn) * wd + l2_penalty(venc) * wd\n",
    "        #VAE_COX_loss(model[\"venc\"], model[\"cph\"], train_x, train_y_e, NE_frac_tr) + l2_penalty(model[\"venc\"]) * wd + l2_penalty(model[\"cph\"]) * wd \n",
    "    end \n",
    "    vaecox_loss =  round(VAE_COX_loss(venc, cphdnn, train_x, train_y_e, NE_frac_tr) + l2_penalty(cphdnn) * wd + l2_penalty(venc) * wd, digits = 3)  \n",
    "    OUTS_tr = cphdnn(venc(train_x)[1])\n",
    "    OUTS_tst = cphdnn(venc(test_x)[1])\n",
    "    \n",
    "    vae_loss =  round(VAE_lossf(venc, vdec, train_x) + l2_penalty(venc) * wd + l2_penalty(vdec) * wd, digits = 3)  \n",
    "    VAE_test = round(my_cor(vec(test_x), vec(MyReconstruct(venc, vdec, test_x)[end])),digits = 3)\n",
    "\n",
    "    cind_tr, cdnt_tr, ddnt_tr, tied_tr  = concordance_index(train_y_t, train_y_e, -1 * OUTS_tr)\n",
    "    cind_test,cdnt_tst, ddnt_tst, tied_tst = concordance_index(test_y_t, test_y_e, -1 *OUTS_tst)\n",
    "    \n",
    "    if i%400 ==0 || i == 1\n",
    "    println(\"$i TRAIN $vaecox_loss cind: $(round(cind_tr, digits = 3)) \\t TEST ae-corr: $VAE_test \\tcind: $(round(cind_test, digits = 3)) [$(Int(cdnt_tst)), $(Int(ddnt_tst)), $(Int(tied_tst))]\")\n",
    "    end \n",
    "    Flux.update!(opt1,ps1, gs1)\n",
    "    #Flux.update!(opt2,ps2, gs2)\n",
    "    params_dict[\"cph_tst_c_ind\"] = cind_test\n",
    "    params_dict[\"cph_train_c_ind\"] = cind_tr\n",
    "    params_dict[\"step\"] = i \n",
    "end"
   ]
  },
  {
   "cell_type": "code",
   "execution_count": 34,
   "metadata": {},
   "outputs": [
    {
     "name": "stdout",
     "output_type": "stream",
     "text": [
      "nb genes : 19962\n",
      "nb patients : 1049\n",
      "% uncensored : 0.14013346043851288\n"
     ]
    },
    {
     "name": "stdout",
     "output_type": "stream",
     "text": [
      "1 TRAIN 5.52 cind: 0.521 \t TEST ae-corr: -0.002 \tcind: 0.476 [1215, 1337, 0]\n"
     ]
    },
    {
     "name": "stdout",
     "output_type": "stream",
     "text": [
      "400 TRAIN 5.377 cind: 0.647 \t TEST ae-corr: -0.002 \tcind: 0.548 [1399, 1153, 0]\n"
     ]
    },
    {
     "name": "stdout",
     "output_type": "stream",
     "text": [
      "800 TRAIN 5.281 cind: 0.729 \t TEST ae-corr: -0.002 \tcind: 0.593 [1513, 1039, 0]\n"
     ]
    },
    {
     "name": "stdout",
     "output_type": "stream",
     "text": [
      "1200 TRAIN 5.198 cind: 0.77 \t TEST ae-corr: -0.002 \tcind: 0.611 [1560, 992, 0]\n"
     ]
    },
    {
     "name": "stdout",
     "output_type": "stream",
     "text": [
      "1600 TRAIN 5.12 cind: 0.795 \t TEST ae-corr: -0.002 \tcind: 0.624 [1593, 959, 0]\n"
     ]
    },
    {
     "name": "stdout",
     "output_type": "stream",
     "text": [
      "2000 TRAIN 5.047 cind: 0.812 \t TEST ae-corr: -0.002 \tcind: 0.633 [1616, 936, 0]\n"
     ]
    },
    {
     "name": "stdout",
     "output_type": "stream",
     "text": [
      "2400 TRAIN 4.972 cind: 0.826 \t TEST ae-corr: -0.002 \tcind: 0.639 [1631, 921, 0]\n"
     ]
    },
    {
     "name": "stdout",
     "output_type": "stream",
     "text": [
      "2800 TRAIN 4.901 cind: 0.838 \t TEST ae-corr: -0.002 \tcind: 0.644 [1644, 908, 0]\n"
     ]
    },
    {
     "name": "stdout",
     "output_type": "stream",
     "text": [
      "3200 TRAIN 4.829 cind: 0.847 \t TEST ae-corr: -0.002 \tcind: 0.651 [1661, 891, 0]\n"
     ]
    },
    {
     "name": "stdout",
     "output_type": "stream",
     "text": [
      "3600 TRAIN 4.759 cind: 0.857 \t TEST ae-corr: -0.003 \tcind: 0.654 [1668, 884, 0]\n"
     ]
    },
    {
     "name": "stdout",
     "output_type": "stream",
     "text": [
      "4000 TRAIN 4.688 cind: 0.866 \t TEST ae-corr: -0.002 \tcind: 0.659 [1683, 869, 0]\n"
     ]
    },
    {
     "name": "stdout",
     "output_type": "stream",
     "text": [
      "4400 TRAIN 4.621 cind: 0.874 \t TEST ae-corr: -0.002 \tcind: 0.663 [1691, 861, 0]\n"
     ]
    },
    {
     "name": "stdout",
     "output_type": "stream",
     "text": [
      "4800 TRAIN 4.551 cind: 0.882 \t TEST ae-corr: -0.002 \tcind: 0.668 [1704, 848, 0]\n"
     ]
    },
    {
     "name": "stdout",
     "output_type": "stream",
     "text": [
      "5200 TRAIN 4.485 cind: 0.889 \t TEST ae-corr: -0.002 \tcind: 0.67 [1711, 841, 0]\n"
     ]
    },
    {
     "name": "stdout",
     "output_type": "stream",
     "text": [
      "5600 TRAIN 4.42 cind: 0.896 \t TEST ae-corr: -0.002 \tcind: 0.671 [1712, 840, 0]\n"
     ]
    },
    {
     "name": "stdout",
     "output_type": "stream",
     "text": [
      "6000 TRAIN 4.357 cind: 0.902 \t TEST ae-corr: -0.002 \tcind: 0.671 [1712, 840, 0]\n"
     ]
    },
    {
     "name": "stdout",
     "output_type": "stream",
     "text": [
      "6400 TRAIN 4.293 cind: 0.907 \t TEST ae-corr: -0.002 \tcind: 0.678 [1730, 822, 0]\n"
     ]
    },
    {
     "name": "stdout",
     "output_type": "stream",
     "text": [
      "6800 TRAIN 4.232 cind: 0.912 \t TEST ae-corr: -0.002 \tcind: 0.678 [1729, 823, 0]\n"
     ]
    },
    {
     "name": "stdout",
     "output_type": "stream",
     "text": [
      "7200 TRAIN 4.172 cind: 0.918 \t TEST ae-corr: -0.002 \tcind: 0.681 [1738, 814, 0]\n"
     ]
    },
    {
     "name": "stdout",
     "output_type": "stream",
     "text": [
      "7600 TRAIN 4.111 cind: 0.922 \t TEST ae-corr: -0.002 \tcind: 0.684 [1746, 806, 0]\n"
     ]
    },
    {
     "name": "stdout",
     "output_type": "stream",
     "text": [
      "8000 TRAIN 4.052 cind: 0.926 \t TEST ae-corr: -0.002 \tcind: 0.688 [1757, 795, 0]\n"
     ]
    },
    {
     "name": "stdout",
     "output_type": "stream",
     "text": [
      "8400 TRAIN 3.993 cind: 0.93 \t TEST ae-corr: -0.002 \tcind: 0.689 [1759, 793, 0]\n"
     ]
    },
    {
     "name": "stdout",
     "output_type": "stream",
     "text": [
      "8800 TRAIN 3.932 cind: 0.935 \t TEST ae-corr: -0.002 \tcind: 0.688 [1755, 797, 0]\n"
     ]
    },
    {
     "name": "stdout",
     "output_type": "stream",
     "text": [
      "9200 TRAIN 3.872 cind: 0.939 \t TEST ae-corr: -0.002 \tcind: 0.689 [1758, 794, 0]\n"
     ]
    },
    {
     "name": "stdout",
     "output_type": "stream",
     "text": [
      "9600 TRAIN 3.813 cind: 0.943 \t TEST ae-corr: -0.002 \tcind: 0.69 [1761, 791, 0]\n"
     ]
    },
    {
     "name": "stdout",
     "output_type": "stream",
     "text": [
      "10000 TRAIN 3.755 cind: 0.946 \t TEST ae-corr: -0.002 \tcind: 0.693 [1769, 783, 0]\n"
     ]
    }
   ],
   "source": [
    "train_x, train_y_t, train_y_e, NE_frac_tr, test_x, test_y_t, test_y_e, NE_frac_tst, params_dict = data_prep(BRCA;nepochs = 10_000, dim_redux = 300)\n",
    "venc = VariationalEncoder(size(train_x)[1], params_dict[\"dim_redux\"], 600)\n",
    "vdec = Decoder(size(train_x)[1], params_dict[\"dim_redux\"], 600)\n",
    "cphdnn = gpu(Chain(Dense(params_dict[\"dim_redux\"],512, leakyrelu), Dense(512,512, leakyrelu), Dense(512, 1, bias = false)))\n",
    "opt1 = Flux.ADAM(1e-6) ## opt VENC-CPHDNN\n",
    "opt2 = Flux.ADAM(1e-5) ## opt VAE\n",
    "wd = params_dict[\"cph_wd\"]\n",
    "opt = Flux.ADAM(params_dict[\"cph_lr\"])\n",
    "for i in 1:params_dict[\"nepochs\"]\n",
    "    ps1 = Flux.params(venc, cphdnn)\n",
    "    gs1 = gradient(ps1) do \n",
    "        VAE_COX_loss(venc, cphdnn, train_x, train_y_e, NE_frac_tr) + l2_penalty(cphdnn) * wd + l2_penalty(venc) * wd\n",
    "        #VAE_COX_loss(model[\"venc\"], model[\"cph\"], train_x, train_y_e, NE_frac_tr) + l2_penalty(model[\"venc\"]) * wd + l2_penalty(model[\"cph\"]) * wd \n",
    "    end \n",
    "    vaecox_loss =  round(VAE_COX_loss(venc, cphdnn, train_x, train_y_e, NE_frac_tr) + l2_penalty(cphdnn) * wd + l2_penalty(venc) * wd, digits = 3)  \n",
    "    OUTS_tr = cphdnn(venc(train_x)[1])\n",
    "    OUTS_tst = cphdnn(venc(test_x)[1])\n",
    "    \n",
    "    vae_loss =  round(VAE_lossf(venc, vdec, train_x) + l2_penalty(venc) * wd + l2_penalty(vdec) * wd, digits = 3)  \n",
    "    VAE_test = round(my_cor(vec(test_x), vec(MyReconstruct(venc, vdec, test_x)[end])),digits = 3)\n",
    "\n",
    "    cind_tr, cdnt_tr, ddnt_tr, tied_tr  = concordance_index(train_y_t, train_y_e, -1 * OUTS_tr)\n",
    "    cind_test,cdnt_tst, ddnt_tst, tied_tst = concordance_index(test_y_t, test_y_e, -1 *OUTS_tst)\n",
    "    \n",
    "    if i%400 ==0 || i == 1\n",
    "    println(\"$i TRAIN $vaecox_loss cind: $(round(cind_tr, digits = 3)) \\t TEST ae-corr: $VAE_test \\tcind: $(round(cind_test, digits = 3)) [$(Int(cdnt_tst)), $(Int(ddnt_tst)), $(Int(tied_tst))]\")\n",
    "    end \n",
    "    Flux.update!(opt1,ps1, gs1)\n",
    "    #Flux.update!(opt2,ps2, gs2)\n",
    "    params_dict[\"cph_tst_c_ind\"] = cind_test\n",
    "    params_dict[\"cph_train_c_ind\"] = cind_tr\n",
    "    params_dict[\"step\"] = i \n",
    "end"
   ]
  },
  {
   "cell_type": "code",
   "execution_count": null,
   "metadata": {},
   "outputs": [],
   "source": [
    "function validate_vaecox(DATA, params_dict;device = gpu)\n",
    "    nfolds, nepochs, dim_redux = 5, 1000, 125\n",
    "    keep = [occursin(\"protein_coding\", bt) for bt in DATA.biotypes]\n",
    "    # split train test\n",
    "    folds = split_train_test(Matrix(DATA.data[:,keep]), DATA.survt, DATA.surve, DATA.samples;nfolds =5)\n",
    "    fold = folds[1]\n",
    "\n",
    "    venc = VariationalEncoder(size(DATA.data[:,keep])[2], 125, 600)\n",
    "    vdec = Decoder(size(DATA.data[:,keep])[2], 125, 600)\n",
    "    VAE_opt = Flux.ADAM(1e-4)\n",
    "\n",
    "    cphdnn = device(Chain(Dense(size(DATA.data[:,keep])[2], 125, leakyrelu), Dense(125, 100,leakyrelu),Dense(100, 1)))\n",
    "    cphdnn_opt = Flux.ADAM(1e-5)\n",
    "\n",
    "    train_x, train_y_t, train_y_e, NE_frac_tr, test_x, test_y_t, test_y_e, NE_frac_tst = format_train_test(fold)\n",
    "    for i in 1:nepochs\n",
    "        ps1 = Flux.params(venc, vdec)\n",
    "        gs1 = gradient(ps1) do\n",
    "            VAE_lossf(venc, vdec, train_x)\n",
    "        end \n",
    "        VAE_loss = VAE_lossf(venc, vdec, train_x)\n",
    "        VAE_cor = round(my_cor(vec(train_x), vec(MyReconstruct(venc, vdec, train_x)[end])),digits = 3)\n",
    "        VAE_test = round(my_cor(vec(test_x), vec(MyReconstruct(venc, vdec, test_x)[end])),digits = 3)\n",
    "\n",
    "        ps2 = Flux.params(venc, cphdnn)\n",
    "        gs2 = gradient(ps2) do \n",
    "            cox_nll_vec(cphdnn, train_x, train_y_e, NE_frac_tr)\n",
    "            #VAE_COX_loss(venc, cphdnn, train_x, train_y_e, NE_frac_tr)\n",
    "        end \n",
    "        CPH_loss = round(cox_nll_vec(cphdnn, train_x, train_y_e, NE_frac_tr), digits = 3) #round(VAE_COX_loss(venc, cphdnn, train_x, train_y_e, NE_frac_tr), digits = 3)\n",
    "        #mu, log_sigma = venc(train_x)\n",
    "        #z = mu + device(randn(Float32, size(log_sigma))) .* exp.(log_sigma)\n",
    "        #OUTS_tr = vec(cphdnn(z))\n",
    "        OUTS_tr = cphdnn(train_x)\n",
    "        OUTS_tst =  cphdnn(test_x)\n",
    "        cind_tr, cdnt_tr, ddnt_tr, tied_tr  = concordance_index(train_y_t, train_y_e, OUTS_tr)\n",
    "        cind_test,cdnt_tst, ddnt_tst, tied_tst = concordance_index(test_y_t, test_y_e,OUTS_tst)\n",
    "        #Flux.update!(VAE_opt, ps1, gs1)\n",
    "        Flux.update!(cphdnn_opt, ps2, gs2)\n",
    "        if i % 100 == 0 || i == 1\n",
    "            println(\"$i TRAIN - VAE-loss-avg: $VAE_loss\\tVAE-cor: $VAE_cor CPH-loss: $CPH_loss CPH-cind: $(round(cind_tr,digits=3))\")\n",
    "            println(\"$i TEST - VAE-loss-avg: $VAE_test \\tVAE-cor: CPH-loss: CPH-cind: $(round(cind_test,digits=3)) [$(Int(cdnt_tst)), $(Int(ddnt_tst)), $(Int(tied_tst))]\")\n",
    "\n",
    "        end\n",
    "    end\n",
    "    return cphdnn\n",
    "end "
   ]
  },
  {
   "cell_type": "code",
   "execution_count": null,
   "metadata": {},
   "outputs": [],
   "source": [
    "cdnn = validate_vaecox(DATA, params_dict)"
   ]
  },
  {
   "cell_type": "code",
   "execution_count": null,
   "metadata": {},
   "outputs": [],
   "source": [
    "cdnn(DATA.data[])"
   ]
  },
  {
   "cell_type": "code",
   "execution_count": 96,
   "metadata": {},
   "outputs": [
    {
     "name": "stdout",
     "output_type": "stream",
     "text": [
      "nb genes : 14996\n",
      "nb patients : 300\n",
      "% uncensored : 0.7433333333333333\n"
     ]
    },
    {
     "name": "stdout",
     "output_type": "stream",
     "text": [
      "FOLD 1\t TRAIN AE-loss 0.994 \t AE-cor: 0.008\t cph-loss-avg: 0.020545 \t cph-cind: 0.611\n",
      "\t\tTEST AE-loss 0.991 \t AE-cor: 0.006\t cph-loss-avg: 0.058383 \t cph-cind: 0.515 [836, 788, 0]\n"
     ]
    },
    {
     "name": "stdout",
     "output_type": "stream",
     "text": [
      "FOLD 100\t TRAIN AE-loss 0.972 \t AE-cor: 0.004\t cph-loss-avg: 0.019126 \t cph-cind: 0.827\n",
      "\t\tTEST AE-loss 0.97 \t AE-cor: 0.002\t cph-loss-avg: 0.0563 \t cph-cind: 0.657 [1067, 557, 0]\n"
     ]
    },
    {
     "name": "stdout",
     "output_type": "stream",
     "text": [
      "FOLD 200\t TRAIN AE-loss 0.969 \t AE-cor: 0.004\t cph-loss-avg: 0.018949 \t cph-cind: 0.863\n",
      "\t\tTEST AE-loss 0.967 \t AE-cor: 0.002\t cph-loss-avg: 0.056367 \t cph-cind: 0.646 [1049, 575, 0]\n"
     ]
    },
    {
     "name": "stdout",
     "output_type": "stream",
     "text": [
      "FOLD 300\t TRAIN AE-loss 0.966 \t AE-cor: 0.004\t cph-loss-avg: 0.018913 \t cph-cind: 0.875\n",
      "\t\tTEST AE-loss 0.965 \t AE-cor: 0.002\t cph-loss-avg: 0.0564 \t cph-cind: 0.643 [1045, 579, 0]\n"
     ]
    },
    {
     "name": "stdout",
     "output_type": "stream",
     "text": [
      "FOLD 400\t TRAIN AE-loss 0.964 \t AE-cor: 0.004\t cph-loss-avg: 0.018904 \t cph-cind: 0.881\n",
      "\t\tTEST AE-loss 0.963 \t AE-cor: 0.002\t cph-loss-avg: 0.056483 \t cph-cind: 0.638 [1036, 588, 0]\n"
     ]
    },
    {
     "name": "stdout",
     "output_type": "stream",
     "text": [
      "FOLD 500\t TRAIN AE-loss 0.963 \t AE-cor: 0.005\t cph-loss-avg: 0.018899 \t cph-cind: 0.883\n",
      "\t\tTEST AE-loss 0.962 \t AE-cor: 0.003\t cph-loss-avg: 0.05645 \t cph-cind: 0.638 [1036, 588, 0]\n"
     ]
    },
    {
     "name": "stdout",
     "output_type": "stream",
     "text": [
      "FOLD 600\t TRAIN AE-loss 0.962 \t AE-cor: 0.005\t cph-loss-avg: 0.018898 \t cph-cind: 0.884\n",
      "\t\tTEST AE-loss 0.961 \t AE-cor: 0.003\t cph-loss-avg: 0.056433 \t cph-cind: 0.639 [1037, 587, 0]\n"
     ]
    },
    {
     "name": "stdout",
     "output_type": "stream",
     "text": [
      "FOLD 700\t TRAIN AE-loss 0.962 \t AE-cor: 0.005\t cph-loss-avg: 0.018897 \t cph-cind: 0.886\n",
      "\t\tTEST AE-loss 0.96 \t AE-cor: 0.004\t cph-loss-avg: 0.056417 \t cph-cind: 0.638 [1036, 588, 0]\n"
     ]
    },
    {
     "name": "stdout",
     "output_type": "stream",
     "text": [
      "FOLD 800\t TRAIN AE-loss 0.962 \t AE-cor: 0.005\t cph-loss-avg: 0.018899 \t cph-cind: 0.887\n",
      "\t\tTEST AE-loss 0.96 \t AE-cor: 0.004\t cph-loss-avg: 0.056417 \t cph-cind: 0.641 [1041, 583, 0]\n"
     ]
    },
    {
     "name": "stdout",
     "output_type": "stream",
     "text": [
      "FOLD 900\t TRAIN AE-loss 0.961 \t AE-cor: 0.005\t cph-loss-avg: 0.018896 \t cph-cind: 0.889\n",
      "\t\tTEST AE-loss 0.96 \t AE-cor: 0.004\t cph-loss-avg: 0.0564 \t cph-cind: 0.64 [1039, 585, 0]\n"
     ]
    },
    {
     "name": "stdout",
     "output_type": "stream",
     "text": [
      "FOLD 1000\t TRAIN AE-loss 0.961 \t AE-cor: 0.005\t cph-loss-avg: 0.018893 \t cph-cind: 0.892\n",
      "\t\tTEST AE-loss 0.96 \t AE-cor: 0.004\t cph-loss-avg: 0.0564 \t cph-cind: 0.64 [1040, 584, 0]\n"
     ]
    }
   ],
   "source": [
    "train_x, train_y_t, train_y_e, NE_frac_tr, test_x, test_y_t, test_y_e, NE_frac_tst, params_dict = data_prep(LAML)\n",
    "# create model \n",
    "model = build_aecox(params_dict)\n",
    "for iter in 1:params_dict[\"nepochs\"]\n",
    "    ps1 = Flux.params(model[\"cph\"].model, model[\"enc\"])\n",
    "    gs1 = gradient(ps1) do\n",
    "        model[\"cph\"].lossf(model[\"cph\"],model[\"enc\"], train_x, train_y_e, NE_frac_tr, params_dict[\"cph_wd\"])\n",
    "    end \n",
    "    ## gradient Auto-Encoder \n",
    "    ps2 = Flux.params(model[\"ae\"].net)\n",
    "    gs2 = gradient(ps2) do\n",
    "        model[\"ae\"].lossf(model[\"ae\"], train_x, train_x, weight_decay = params_dict[\"ae_wd\"])\n",
    "    end\n",
    "    Flux.update!(model[\"cph\"].opt, ps1, gs1)\n",
    "    #Flux.update!(model[\"ae\"].opt, ps2, gs2)\n",
    "\n",
    "    ######\n",
    "    OUTS_tr = vec(model[\"cph\"].model(model[\"enc\"](train_x)))\n",
    "    ae_loss = model[\"ae\"].lossf(model[\"ae\"], train_x, train_x, weight_decay = params_dict[\"ae_wd\"])\n",
    "    ae_cor =  round(my_cor(vec(train_x), vec(model[\"ae\"].net(train_x))),digits = 3)\n",
    "    cph_loss = model[\"cph\"].lossf(model[\"cph\"],model[\"enc\"](train_x), train_y_e, NE_frac_tr, params_dict[\"cph_wd\"])\n",
    "    ae_loss_test = round(model[\"ae\"].lossf(model[\"ae\"], test_x, test_x, weight_decay = params_dict[\"ae_wd\"]), digits = 3)\n",
    "    ae_cor_test = round(my_cor(vec(test_x), vec(model[\"ae\"].net(test_x))), digits= 3)\n",
    "    cph_loss_test = round(model[\"cph\"].lossf(model[\"cph\"],model[\"enc\"](test_x), test_y_e, NE_frac_tst, params_dict[\"cph_wd\"]), digits= 3)\n",
    "                    \n",
    "    OUTS_tst =  vec(model[\"cph\"].model(model[\"enc\"](test_x)))\n",
    "            \n",
    "    cind_tr, cdnt_tr, ddnt_tr, tied_tr  = concordance_index(train_y_t, train_y_e, OUTS_tr)\n",
    "    cind_test,cdnt_tst, ddnt_tst, tied_tst = concordance_index(test_y_t, test_y_e,OUTS_tst)\n",
    "    if iter % 100 == 0  || iter == 1     \n",
    "        println(\"FOLD $iter\\t TRAIN AE-loss $(round(ae_loss,digits =3)) \\t AE-cor: $(round(ae_cor, digits = 3))\\t cph-loss-avg: $(round(cph_loss / params_dict[\"nsamples_train\"],digits =6)) \\t cph-cind: $(round(cind_tr,digits =3))\")\n",
    "        println(\"\\t\\tTEST AE-loss $(round(ae_loss_test,digits =3)) \\t AE-cor: $(round(ae_cor_test, digits = 3))\\t cph-loss-avg: $(round(cph_loss_test / params_dict[\"nsamples_test\"],digits =6)) \\t cph-cind: $(round(cind_test,digits =3)) [$(Int(cdnt_tst)), $(Int(ddnt_tst)), $(Int(tied_tst))]\")\n",
    "    end\n",
    "    params_dict[\"cph_tst_c_ind\"] = concordance_index(test_y_t, test_y_e, OUTS_tst)[1]\n",
    "    params_dict[\"cph_train_c_ind\"] = concordance_index(train_y_t, train_y_e, OUTS_tr)[1]\n",
    "    params_dict[\"step\"] = iter \n",
    "end\n"
   ]
  },
  {
   "cell_type": "code",
   "execution_count": 140,
   "metadata": {},
   "outputs": [
    {
     "data": {
      "text/plain": [
       "AE_model(Chain(Dense(14996 => 3040, leakyrelu), Dense(3040 => 616, leakyrelu), Dense(616 => 125), Dense(125 => 616, leakyrelu), Dense(616 => 3040, leakyrelu), Dense(3040 => 14996, leakyrelu)), Chain(Dense(14996 => 3040, leakyrelu), Dense(3040 => 616, leakyrelu), Dense(616 => 125)), Chain(Dense(125 => 616, leakyrelu), Dense(616 => 3040, leakyrelu), Dense(3040 => 14996, leakyrelu)), Dense(3040 => 14996, leakyrelu), Adam(1.0e-6, (0.9, 0.999), 1.0e-8, IdDict{Any, Any}()), mse_l2)"
      ]
     },
     "metadata": {},
     "output_type": "display_data"
    }
   ],
   "source": [
    "model = build_aecox(params_dict)\n",
    "model[\"ae\"]"
   ]
  },
  {
   "cell_type": "code",
   "execution_count": 99,
   "metadata": {},
   "outputs": [],
   "source": [
    "#params_dict[\"cph_tst_c_ind\"] = concordance_index(test_y_t, test_y_e, OUTS_tst)[1]\n",
    "#params_dict[\"cph_train_c_ind\"] = concordance_index(train_y_t, train_y_e, OUTS_tr)[1]\n",
    "#params_dict[\"ae_tst_corr\"] = my_cor(ae_outs_test, x_test)\n",
    "#params_dict[\"ae_train_corr\"] = my_cor(ae_outs_train, x_train)\n",
    "\n",
    "#params_dict[\"model_cv_complete\"] = true\n",
    "model_params_path = \"$(params_dict[\"session_id\"])/$(params_dict[\"model_type\"])_$(params_dict[\"modelid\"])\"\n",
    "mkdir(\"RES/$model_params_path\")\n",
    "bson(\"RES/$model_params_path/params.bson\",params_dict)"
   ]
  },
  {
   "cell_type": "code",
   "execution_count": null,
   "metadata": {},
   "outputs": [],
   "source": []
  },
  {
   "cell_type": "markdown",
   "metadata": {},
   "source": [
    "### Figures  "
   ]
  },
  {
   "cell_type": "code",
   "execution_count": 29,
   "metadata": {},
   "outputs": [],
   "source": [
    "function gather_params(basedir=\".\")\n",
    "    df = DataFrame()\n",
    "    for (root, dirs, files) in walkdir(basedir)\n",
    "        for file in files\n",
    "            if file == \"params.bson\"\n",
    "                # println(\"Loading $root/$file\")\n",
    "                d = BSON.load(\"$root/$file\")\n",
    "                push!(df, d, cols=:union)\n",
    "            end\n",
    "        end\n",
    "    end\n",
    "    return df\n",
    "end\n",
    "\n",
    "df = gather_params(\"RES/\");\n"
   ]
  },
  {
   "cell_type": "code",
   "execution_count": 53,
   "metadata": {},
   "outputs": [
    {
     "data": {
      "image/png": "[encoded data removed]"
     },
     "metadata": {},
     "output_type": "display_data"
    }
   ],
   "source": [
    "cphdnn = df[df[:,\"model_type\"] .== \"cphdnn_v5\",:]\n",
    "cphdnn[cphdnn.dataset .!= \"BRCA\", \"dataset\"] .= \"LAML\"\n",
    "#combine(groupby(cphdnn[:,[\"dataset\", \"cph_tst_c_ind\"]], :dataset), :cph_tst_c_ind=>median) \n",
    "sorted_df = sort(cphdnn, :dataset)\n",
    "sorted_df = leftjoin(sorted_df, DataFrame(:id =>collect(1:length(unique(sorted_df.dataset))), :dataset =>unique(sorted_df.dataset)), on = :dataset)\n",
    "\n",
    "fig =  Figure(resolution = (512,512));\n",
    "ax = Axis(fig[1,1],\n",
    "    xticks = (collect(1:length(unique(sorted_df.dataset))), unique(sorted_df.dataset)), \n",
    "    limits = (nothing, nothing, 0.5, 1))\n",
    "boxplot!(ax, sorted_df.id, sorted_df[:,\"cph_tst_c_ind\"])\n",
    "scatter!(ax, sorted_df[:,\"id\"], sorted_df[:,\"cph_tst_c_ind\"])\n",
    "medians = combine(groupby(sorted_df[:,[\"id\", \"cph_tst_c_ind\"]], :id), :cph_tst_c_ind=>median) \n",
    "text!(ax, medians.id, medians.cph_tst_c_ind_median, text= string.(round.(medians.cph_tst_c_ind_median, digits = 3)))\n",
    "\n",
    "fig"
   ]
  },
  {
   "cell_type": "code",
   "execution_count": 11,
   "metadata": {},
   "outputs": [
    {
     "data": {
      "image/png": "[encoded data removed]"
     },
     "metadata": {},
     "output_type": "display_data"
    }
   ],
   "source": [
    "sorted_df = sort(df, :model_type)\n",
    "sorted_df = leftjoin(sorted_df, DataFrame(:id =>collect(1:length(unique(sorted_df.model_type))), :model_type =>unique(sorted_df.model_type)), on = :model_type)\n",
    "\n",
    "fig = Figure(resolution = (1024,512));\n",
    "ax = Axis(fig[1,1],\n",
    "    ylabel = \"Concordance index\", \n",
    "    xlabel = \"Version of CPHDNN\",\n",
    "    limits = (nothing, nothing, 0.5, 1),\n",
    "    xticks = (collect(1:length(unique(sorted_df.model_type))), unique(sorted_df.model_type)))#(log2.(unique(V1[:, \"dim_redux\"])), [\"$x\" for x in unique(V1_2[:, \"dim_redux\"])] ));\n",
    "boxplot!(ax, sorted_df.id, sorted_df[:,\"cph_train_c_ind\"], label = \"train\")\n",
    "boxplot!(ax, sorted_df.id, sorted_df[:,\"cph_tst_c_ind\"], label = \"test\")\n",
    "medians = combine(groupby(sorted_df[:,[\"id\", \"cph_tst_c_ind\"]], :id), :cph_tst_c_ind=>median) \n",
    "text!(ax, medians.id, medians.cph_tst_c_ind_median, text= string.(round.(medians.cph_tst_c_ind_median, digits = 3)))\n",
    "#scatter!(ax, , V1[:,\"cph_tst_c_ind\"], label = \"test\")\n",
    "axislegend(ax,position =:rb)\n",
    "fig"
   ]
  },
  {
   "cell_type": "code",
   "execution_count": 10,
   "metadata": {},
   "outputs": [
    {
     "data": {
      "text/plain": [
       "7-element Vector{String}:\n",
       " \"0.601\"\n",
       " \"0.682\"\n",
       " \"0.675\"\n",
       " \"0.66\"\n",
       " \"0.68\"\n",
       " \"0.654\"\n",
       " \"0.639\""
      ]
     },
     "metadata": {},
     "output_type": "display_data"
    }
   ],
   "source": [
    "medians = combine(groupby(sorted_df[:,[\"id\", \"cph_tst_c_ind\"]], :id), :cph_tst_c_ind=>median) \n",
    "string.(round.(medians.cph_tst_c_ind_median, digits = 3))"
   ]
  },
  {
   "cell_type": "code",
   "execution_count": 13,
   "metadata": {},
   "outputs": [
    {
     "data": {
      "text/html": [
       "<div class=\"data-frame\"><p>50 rows × 34 columns (omitted printing of 26 columns)</p><table class=\"data-frame\"><thead><tr><th></th><th>ae_lr</th><th>dim_redux</th><th>ae_nb_hls</th><th>nsamples</th><th>cph_wd</th><th>cph_hl_size</th><th>nepochs</th><th>venc_nb_hl</th></tr><tr><th></th><th title=\"Float64\">Float64</th><th title=\"Int64\">Int64</th><th title=\"Int64\">Int64</th><th title=\"Int64\">Int64</th><th title=\"Float64\">Float64</th><th title=\"Int64\">Int64</th><th title=\"Int64\">Int64</th><th title=\"Int64\">Int64</th></tr></thead><tbody><tr><th>1</th><td>1.0e-6</td><td>125</td><td>2</td><td>300</td><td>0.0001</td><td>64</td><td>10000</td><td>2</td></tr><tr><th>2</th><td>1.0e-6</td><td>125</td><td>2</td><td>300</td><td>0.0001</td><td>64</td><td>10000</td><td>2</td></tr><tr><th>3</th><td>1.0e-6</td><td>125</td><td>2</td><td>300</td><td>0.0001</td><td>64</td><td>10000</td><td>2</td></tr><tr><th>4</th><td>1.0e-6</td><td>125</td><td>2</td><td>300</td><td>0.0001</td><td>64</td><td>10000</td><td>2</td></tr><tr><th>5</th><td>1.0e-6</td><td>125</td><td>2</td><td>300</td><td>0.0001</td><td>64</td><td>10000</td><td>2</td></tr><tr><th>6</th><td>1.0e-6</td><td>125</td><td>2</td><td>300</td><td>0.0001</td><td>64</td><td>10000</td><td>2</td></tr><tr><th>7</th><td>1.0e-6</td><td>125</td><td>2</td><td>300</td><td>0.0001</td><td>64</td><td>10000</td><td>2</td></tr><tr><th>8</th><td>1.0e-6</td><td>125</td><td>2</td><td>300</td><td>0.0001</td><td>64</td><td>10000</td><td>2</td></tr><tr><th>9</th><td>1.0e-6</td><td>125</td><td>2</td><td>300</td><td>0.0001</td><td>64</td><td>10000</td><td>2</td></tr><tr><th>10</th><td>1.0e-6</td><td>125</td><td>2</td><td>300</td><td>0.0001</td><td>64</td><td>10000</td><td>2</td></tr><tr><th>11</th><td>1.0e-6</td><td>125</td><td>2</td><td>300</td><td>0.0001</td><td>64</td><td>10000</td><td>2</td></tr><tr><th>12</th><td>1.0e-6</td><td>125</td><td>2</td><td>300</td><td>0.0001</td><td>64</td><td>10000</td><td>2</td></tr><tr><th>13</th><td>1.0e-6</td><td>125</td><td>2</td><td>300</td><td>0.0001</td><td>64</td><td>10000</td><td>2</td></tr><tr><th>14</th><td>1.0e-6</td><td>125</td><td>2</td><td>300</td><td>0.0001</td><td>64</td><td>10000</td><td>2</td></tr><tr><th>15</th><td>1.0e-6</td><td>125</td><td>2</td><td>300</td><td>0.0001</td><td>64</td><td>10000</td><td>2</td></tr><tr><th>16</th><td>1.0e-6</td><td>125</td><td>2</td><td>300</td><td>0.0001</td><td>64</td><td>10000</td><td>2</td></tr><tr><th>17</th><td>1.0e-6</td><td>125</td><td>2</td><td>300</td><td>0.0001</td><td>64</td><td>10000</td><td>2</td></tr><tr><th>18</th><td>1.0e-6</td><td>125</td><td>2</td><td>300</td><td>0.0001</td><td>64</td><td>10000</td><td>2</td></tr><tr><th>19</th><td>1.0e-6</td><td>125</td><td>2</td><td>300</td><td>0.0001</td><td>64</td><td>10000</td><td>2</td></tr><tr><th>20</th><td>1.0e-6</td><td>125</td><td>2</td><td>300</td><td>0.0001</td><td>64</td><td>10000</td><td>2</td></tr><tr><th>21</th><td>1.0e-6</td><td>125</td><td>2</td><td>300</td><td>0.0001</td><td>64</td><td>10000</td><td>2</td></tr><tr><th>22</th><td>1.0e-6</td><td>125</td><td>2</td><td>300</td><td>0.0001</td><td>64</td><td>10000</td><td>2</td></tr><tr><th>23</th><td>1.0e-6</td><td>125</td><td>2</td><td>300</td><td>0.0001</td><td>64</td><td>10000</td><td>2</td></tr><tr><th>24</th><td>1.0e-6</td><td>125</td><td>2</td><td>300</td><td>0.0001</td><td>64</td><td>10000</td><td>2</td></tr><tr><th>&vellip;</th><td>&vellip;</td><td>&vellip;</td><td>&vellip;</td><td>&vellip;</td><td>&vellip;</td><td>&vellip;</td><td>&vellip;</td><td>&vellip;</td></tr></tbody></table></div>"
      ],
      "text/latex": [
       "\\begin{tabular}{r|ccccccccc}\n",
       "\t& ae\\_lr & dim\\_redux & ae\\_nb\\_hls & nsamples & cph\\_wd & cph\\_hl\\_size & nepochs & venc\\_nb\\_hl & \\\\\n",
       "\t\\hline\n",
       "\t& Float64 & Int64 & Int64 & Int64 & Float64 & Int64 & Int64 & Int64 & \\\\\n",
       "\t\\hline\n",
       "\t1 & 1.0e-6 & 125 & 2 & 300 & 0.0001 & 64 & 10000 & 2 & $\\dots$ \\\\\n",
       "\t2 & 1.0e-6 & 125 & 2 & 300 & 0.0001 & 64 & 10000 & 2 & $\\dots$ \\\\\n",
       "\t3 & 1.0e-6 & 125 & 2 & 300 & 0.0001 & 64 & 10000 & 2 & $\\dots$ \\\\\n",
       "\t4 & 1.0e-6 & 125 & 2 & 300 & 0.0001 & 64 & 10000 & 2 & $\\dots$ \\\\\n",
       "\t5 & 1.0e-6 & 125 & 2 & 300 & 0.0001 & 64 & 10000 & 2 & $\\dots$ \\\\\n",
       "\t6 & 1.0e-6 & 125 & 2 & 300 & 0.0001 & 64 & 10000 & 2 & $\\dots$ \\\\\n",
       "\t7 & 1.0e-6 & 125 & 2 & 300 & 0.0001 & 64 & 10000 & 2 & $\\dots$ \\\\\n",
       "\t8 & 1.0e-6 & 125 & 2 & 300 & 0.0001 & 64 & 10000 & 2 & $\\dots$ \\\\\n",
       "\t9 & 1.0e-6 & 125 & 2 & 300 & 0.0001 & 64 & 10000 & 2 & $\\dots$ \\\\\n",
       "\t10 & 1.0e-6 & 125 & 2 & 300 & 0.0001 & 64 & 10000 & 2 & $\\dots$ \\\\\n",
       "\t11 & 1.0e-6 & 125 & 2 & 300 & 0.0001 & 64 & 10000 & 2 & $\\dots$ \\\\\n",
       "\t12 & 1.0e-6 & 125 & 2 & 300 & 0.0001 & 64 & 10000 & 2 & $\\dots$ \\\\\n",
       "\t13 & 1.0e-6 & 125 & 2 & 300 & 0.0001 & 64 & 10000 & 2 & $\\dots$ \\\\\n",
       "\t14 & 1.0e-6 & 125 & 2 & 300 & 0.0001 & 64 & 10000 & 2 & $\\dots$ \\\\\n",
       "\t15 & 1.0e-6 & 125 & 2 & 300 & 0.0001 & 64 & 10000 & 2 & $\\dots$ \\\\\n",
       "\t16 & 1.0e-6 & 125 & 2 & 300 & 0.0001 & 64 & 10000 & 2 & $\\dots$ \\\\\n",
       "\t17 & 1.0e-6 & 125 & 2 & 300 & 0.0001 & 64 & 10000 & 2 & $\\dots$ \\\\\n",
       "\t18 & 1.0e-6 & 125 & 2 & 300 & 0.0001 & 64 & 10000 & 2 & $\\dots$ \\\\\n",
       "\t19 & 1.0e-6 & 125 & 2 & 300 & 0.0001 & 64 & 10000 & 2 & $\\dots$ \\\\\n",
       "\t20 & 1.0e-6 & 125 & 2 & 300 & 0.0001 & 64 & 10000 & 2 & $\\dots$ \\\\\n",
       "\t21 & 1.0e-6 & 125 & 2 & 300 & 0.0001 & 64 & 10000 & 2 & $\\dots$ \\\\\n",
       "\t22 & 1.0e-6 & 125 & 2 & 300 & 0.0001 & 64 & 10000 & 2 & $\\dots$ \\\\\n",
       "\t23 & 1.0e-6 & 125 & 2 & 300 & 0.0001 & 64 & 10000 & 2 & $\\dots$ \\\\\n",
       "\t24 & 1.0e-6 & 125 & 2 & 300 & 0.0001 & 64 & 10000 & 2 & $\\dots$ \\\\\n",
       "\t$\\dots$ & $\\dots$ & $\\dots$ & $\\dots$ & $\\dots$ & $\\dots$ & $\\dots$ & $\\dots$ & $\\dots$ &  \\\\\n",
       "\\end{tabular}\n"
      ],
      "text/plain": [
       "\u001b[1m50×34 DataFrame\u001b[0m\n",
       "\u001b[1m Row \u001b[0m│\u001b[1m ae_lr   \u001b[0m\u001b[1m dim_redux \u001b[0m\u001b[1m ae_nb_hls \u001b[0m\u001b[1m nsamples \u001b[0m\u001b[1m cph_wd  \u001b[0m\u001b[1m cph_hl_size \u001b[0m\u001b[1m nepochs \u001b[0m\u001b[1m\u001b[0m ⋯\n",
       "\u001b[1m     \u001b[0m│\u001b[90m Float64 \u001b[0m\u001b[90m Int64     \u001b[0m\u001b[90m Int64     \u001b[0m\u001b[90m Int64    \u001b[0m\u001b[90m Float64 \u001b[0m\u001b[90m Int64       \u001b[0m\u001b[90m Int64   \u001b[0m\u001b[90m\u001b[0m ⋯\n",
       "─────┼──────────────────────────────────────────────────────────────────────────\n",
       "   1 │  1.0e-6        125          2       300   0.0001           64    10000  ⋯\n",
       "   2 │  1.0e-6        125          2       300   0.0001           64    10000\n",
       "   3 │  1.0e-6        125          2       300   0.0001           64    10000\n",
       "   4 │  1.0e-6        125          2       300   0.0001           64    10000\n",
       "   5 │  1.0e-6        125          2       300   0.0001           64    10000  ⋯\n",
       "   6 │  1.0e-6        125          2       300   0.0001           64    10000\n",
       "   7 │  1.0e-6        125          2       300   0.0001           64    10000\n",
       "   8 │  1.0e-6        125          2       300   0.0001           64    10000\n",
       "  ⋮  │    ⋮         ⋮          ⋮         ⋮         ⋮          ⋮          ⋮     ⋱\n",
       "  44 │  1.0e-6        125          2       300   0.0001           64    10000  ⋯\n",
       "  45 │  1.0e-6        125          2       300   0.0001           64    10000\n",
       "  46 │  1.0e-6        125          2       300   0.0001           64    10000\n",
       "  47 │  1.0e-6        125          2       300   0.0001           64    10000\n",
       "  48 │  1.0e-6        125          2       300   0.0001           64    10000  ⋯\n",
       "  49 │  1.0e-6        125          2       300   0.0001           64    10000\n",
       "  50 │  1.0e-6        125          2       300   0.0001           64    10000\n",
       "\u001b[36m                                                  27 columns and 35 rows omitted\u001b[0m"
      ]
     },
     "metadata": {},
     "output_type": "display_data"
    }
   ],
   "source": [
    "median(df[df.model_type .== \"vaecox_v2\",\"cph_tst_c_ind\"])\n",
    "sorted_df[sorted_df.model_type .== \"vaecox_v2\",:]"
   ]
  },
  {
   "cell_type": "code",
   "execution_count": 322,
   "metadata": {},
   "outputs": [
    {
     "data": {
      "text/html": [
       "<div class=\"data-frame\"><p>6 rows × 2 columns</p><table class=\"data-frame\"><thead><tr><th></th><th>id</th><th>cph_tst_c_ind_mean</th></tr><tr><th></th><th title=\"Union{Missing, Int64}\">Int64?</th><th title=\"Float64\">Float64</th></tr></thead><tbody><tr><th>1</th><td>1</td><td>0.595233</td></tr><tr><th>2</th><td>2</td><td>0.669938</td></tr><tr><th>3</th><td>3</td><td>0.678311</td></tr><tr><th>4</th><td>4</td><td>0.656278</td></tr><tr><th>5</th><td>5</td><td>0.678584</td></tr><tr><th>6</th><td>6</td><td>0.650901</td></tr></tbody></table></div>"
      ],
      "text/latex": [
       "\\begin{tabular}{r|cc}\n",
       "\t& id & cph\\_tst\\_c\\_ind\\_mean\\\\\n",
       "\t\\hline\n",
       "\t& Int64? & Float64\\\\\n",
       "\t\\hline\n",
       "\t1 & 1 & 0.595233 \\\\\n",
       "\t2 & 2 & 0.669938 \\\\\n",
       "\t3 & 3 & 0.678311 \\\\\n",
       "\t4 & 4 & 0.656278 \\\\\n",
       "\t5 & 5 & 0.678584 \\\\\n",
       "\t6 & 6 & 0.650901 \\\\\n",
       "\\end{tabular}\n"
      ],
      "text/plain": [
       "\u001b[1m6×2 DataFrame\u001b[0m\n",
       "\u001b[1m Row \u001b[0m│\u001b[1m id     \u001b[0m\u001b[1m cph_tst_c_ind_mean \u001b[0m\n",
       "\u001b[1m     \u001b[0m│\u001b[90m Int64? \u001b[0m\u001b[90m Float64            \u001b[0m\n",
       "─────┼────────────────────────────\n",
       "   1 │      1            0.595233\n",
       "   2 │      2            0.669938\n",
       "   3 │      3            0.678311\n",
       "   4 │      4            0.656278\n",
       "   5 │      5            0.678584\n",
       "   6 │      6            0.650901"
      ]
     },
     "metadata": {},
     "output_type": "display_data"
    }
   ],
   "source": [
    "means = combine(groupby(sorted_df[:,[\"id\", \"cph_tst_c_ind\"]], :id), :cph_tst_c_ind=>mean) "
   ]
  },
  {
   "cell_type": "code",
   "execution_count": 324,
   "metadata": {},
   "outputs": [
    {
     "data": {
      "text/plain": [
       "6-element Vector{Union{Missing, Int64}}:\n",
       " 1\n",
       " 2\n",
       " 3\n",
       " 4\n",
       " 5\n",
       " 6"
      ]
     },
     "metadata": {},
     "output_type": "display_data"
    }
   ],
   "source": [
    "means.id"
   ]
  },
  {
   "cell_type": "code",
   "execution_count": null,
   "metadata": {},
   "outputs": [],
   "source": []
  }
 ],
 "metadata": {
  "kernelspec": {
   "display_name": "Julia 1.9.4",
   "language": "julia",
   "name": "julia-1.9"
  },
  "language_info": {
   "file_extension": ".jl",
   "mimetype": "application/julia",
   "name": "julia",
   "version": "1.9.4"
  }
 },
 "nbformat": 4,
 "nbformat_minor": 2
}
