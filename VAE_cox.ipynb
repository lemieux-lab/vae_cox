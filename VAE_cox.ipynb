{
 "cells": [
  {
   "cell_type": "markdown",
   "metadata": {},
   "source": [
    "# ISMB figures notebook"
   ]
  },
  {
   "cell_type": "code",
   "execution_count": 4,
   "metadata": {},
   "outputs": [
    {
     "name": "stderr",
     "output_type": "stream",
     "text": [
      "\u001b[32m\u001b[1m  Activating\u001b[22m\u001b[39m project at `~/vae_cox`\n"
     ]
    }
   ],
   "source": [
    "\n",
    "include(\"engines/init.jl\")\n",
    "include(\"engines/data_processing.jl\")\n",
    "include(\"engines/deep_learning.jl\")\n",
    "include(\"engines/cross_validation.jl\")\n",
    "outpath, session_id = set_dirs() ;"
   ]
  },
  {
   "cell_type": "code",
   "execution_count": 11,
   "metadata": {},
   "outputs": [
    {
     "data": {
      "text/plain": [
       "MLSurvDataset(Float32[3.21643 0.30103 … 0.0 1.4149734; 3.2214143 0.845098 … 0.47712126 1.9777236; … ; 3.299943 0.0 … 0.0 1.9138138; 3.067071 0.47712126 … 0.69897 1.80618], [\"001ad307-4ad3-4f1d-b2fc-efc032871c7e\", \"0061e9ef-df6a-414e-af64-c88f8192e2d3\", \"0073a136-d5f4-4fd6-88f9-711768f2abc6\", \"00b18ad6-ff70-41fe-8f4d-0763ac8f28b9\", \"010aac75-3bfe-4bf2-b866-af0f2d92f125\", \"0167cf11-74be-4701-ab9a-4e057d4bb545\", \"019c5de9-74fd-48b7-95a3-227532e16c5a\", \"01a13aba-74a4-4895-a5ad-e5119925c202\", \"01c4ca12-ac08-41dd-9e4f-bfb0971688a2\", \"02194c0c-e2c1-4ea7-994a-07b61b2575e2\"  …  \"fc8828ae-484d-4fc8-a168-f8bc58ad65b9\", \"fcd9e1c4-bddb-4856-844c-03df48fba499\", \"fcf14e9d-4671-453d-b8e0-5008e916f56d\", \"fdff46a7-f92a-45cf-8756-6c73a406c923\", \"fe5c5c11-ef39-4907-9a70-67f37bb62fd7\", \"fea46eef-6b7f-44c3-93bf-2dec16bdeb79\", \"febe2ce5-737b-43b8-bc70-4194fe3ed5fb\", \"fee2114e-f723-4374-91f8-f1dcc6b3eaee\", \"ffcec8e5-9fd3-4b42-a7cb-74761f713cf4\", \"fff304a2-113f-499d-a88c-9d3660c348d9\"], [\"TSPAN6\", \"TNMD\", \"DPM1\", \"SCYL3\", \"C1orf112\", \"FGR\", \"CFH\", \"FUCA2\", \"GCLC\", \"NFYA\"  …  \"AL451106.1\", \"AC092910.4\", \"AC073611.1\", \"AC136977.1\", \"AC078856.1\", \"AC008763.4\", \"AL592295.6\", \"AC006486.3\", \"AL391628.1\", \"AP006621.6\"], [\"protein_coding\", \"protein_coding\", \"protein_coding\", \"protein_coding\", \"protein_coding\", \"protein_coding\", \"protein_coding\", \"protein_coding\", \"protein_coding\", \"protein_coding\"  …  \"protein_coding\", \"lncRNA\", \"lncRNA\", \"lncRNA\", \"lncRNA\", \"protein_coding\", \"lncRNA\", \"protein_coding\", \"protein_coding\", \"protein_coding\"], [\"9382/3\", \"9451/3\", \"9401/3\", \"9451/3\", \"9450/3\", \"9401/3\", \"9400/3\", \"9401/3\", \"9450/3\", \"9382/3\"  …  \"9451/3\", \"9401/3\", \"9400/3\", \"9401/3\", \"9382/3\", \"9401/3\", \"9382/3\", \"9451/3\", \"9400/3\", \"9450/3\"], [82, 4084, 609, 494, 2772, 1033, 3725, 608, 4695, 956  …  431, 6423, 772, 74, 414, 15, 721, 1220, 526, 933], [0, 1, 0, 0, 0, 1, 0, 0, 1, 0  …  0, 0, 0, 0, 0, 0, 0, 1, 0, 0])"
      ]
     },
     "metadata": {},
     "output_type": "display_data"
    }
   ],
   "source": [
    "LGG = MLSurvDataset(\"Data/TCGA_LGG_tpm_n513_btypes_labels_surv.h5\")"
   ]
  },
  {
   "cell_type": "code",
   "execution_count": 12,
   "metadata": {},
   "outputs": [
    {
     "data": {
      "text/plain": [
       "MLSurvDataset(Float32[3.2911468 0.7781513 … 1.1760913 2.3384564; 2.9527924 1.3617278 … 0.30103 1.5185139; … ; 3.4551494 0.30103 … 0.30103 2.0681858; 3.796019 0.60206 … 0.7781513 2.0530784], [\"005a6517-2e5a-4ea3-ab36-531522723607\", \"01ea6354-137b-47f3-9021-a01a382b1147\", \"02594e5e-8751-47c1-9245-90c66984b665\", \"02d9aa2e-b16a-48ea-a420-5daed9fd51a6\", \"0484a929-7a7f-4926-8d25-470ddab082ec\", \"04ecaf38-0232-4dcd-9242-308a22cc1331\", \"05019013-7ea5-4905-ac79-901146ba2ee2\", \"05263959-c4f5-4540-b6d2-d8c8a128861f\", \"05ba5839-e00a-4a9e-8ba3-ecb490781e62\", \"062982f8-9f49-425a-99e9-008af5ed9040\"  …  \"f9793a4b-c0e7-4475-bf80-69543b7ee2f6\", \"f9c835db-2ab6-4bf5-826f-48723493c0ec\", \"f9f44f86-10c7-4473-b156-5afbfa9a2ad0\", \"fbb45305-de8d-4baf-8bd0-047b29c2e9d9\", \"fd4740db-76a8-4362-be71-7b609479bb67\", \"fdf83fdf-dfbb-4306-9a1b-b4487d18b402\", \"fe0e3851-d8cb-4533-9536-b4826cd25f87\", \"fe402983-70da-44db-b7b1-c32702ddde26\", \"fef1696c-a8f4-4db6-8615-e486522baaaa\", \"ff844242-7559-4b07-b09e-69ea40e5ac6b\"], [\"TSPAN6\", \"TNMD\", \"DPM1\", \"SCYL3\", \"C1orf112\", \"FGR\", \"CFH\", \"FUCA2\", \"GCLC\", \"NFYA\"  …  \"AL451106.1\", \"AC092910.4\", \"AC073611.1\", \"AC136977.1\", \"AC078856.1\", \"AC008763.4\", \"AL592295.6\", \"AC006486.3\", \"AL391628.1\", \"AP006621.6\"], [\"protein_coding\", \"protein_coding\", \"protein_coding\", \"protein_coding\", \"protein_coding\", \"protein_coding\", \"protein_coding\", \"protein_coding\", \"protein_coding\", \"protein_coding\"  …  \"protein_coding\", \"lncRNA\", \"lncRNA\", \"lncRNA\", \"lncRNA\", \"protein_coding\", \"lncRNA\", \"protein_coding\", \"protein_coding\", \"protein_coding\"], [\"8441/3\", \"8441/3\", \"8441/3\", \"8441/3\", \"8441/3\", \"8441/3\", \"8441/3\", \"8441/3\", \"8441/3\", \"8441/3\"  …  \"8441/3\", \"8441/3\", \"8441/3\", \"8441/3\", \"8441/3\", \"8441/3\", \"8441/3\", \"8441/3\", \"8441/3\", \"8441/3\"], [74, 1199, 1919, 147, 947, 967, 2400, 2338, 23, 857  …  194, 555, 1933, 2614, 1369, 130, 1106, 2438, 232, 760], [1, 1, 0, 0, 0, 0, 1, 0, 1, 1  …  0, 1, 1, 0, 1, 0, 1, 0, 0, 1])"
      ]
     },
     "metadata": {},
     "output_type": "display_data"
    }
   ],
   "source": [
    "OV = MLSurvDataset(\"Data/TCGA_OV_tpm_n420_btypes_labels_surv.h5\")"
   ]
  },
  {
   "cell_type": "code",
   "execution_count": 13,
   "metadata": {},
   "outputs": [
    {
     "data": {
      "text/plain": [
       "MLSurvDataset(Float32[2.628389 0.60206 … 0.47712126 1.30103; 3.3195224 2.4843 … 0.90309 1.3617278; … ; 3.2151086 1.0413927 … 0.0 1.0791812; 3.328991 1.0 … 0.60206 1.5563025], [\"001cef41-ff86-4d3f-a140-a647ac4b10a1\", \"0045349c-69d9-4306-a403-c9c1fa836644\", \"00807dae-9f4a-4fd1-aac2-82eb11bf2afb\", \"00a2d166-78c9-4687-a195-3d6315c27574\", \"00b11ca8-8540-4a3d-b602-ec754b00230b\", \"011b9b2d-ebe5-42bf-9662-d922faccc7a1\", \"01263518-5f7c-49dc-8d7e-84b0c03a6a63\", \"0130d616-885e-4a6c-9d03-2f17dd692a05\", \"01674b2c-5cf2-478f-84a1-f69c39f47bd4\", \"016caf42-4e19-4444-ab5d-6cf1e76c4afa\"  …  \"fb57c598-b45b-478a-9d34-ca1f050d5b7c\", \"fbee40f1-d6d8-4156-8d42-36e09bb9f095\", \"fc18d029-9be2-4fa0-9aef-6d647dc55f0b\", \"fcef8cb5-fb2c-4bfb-82cd-6b9f3145182c\", \"fd0b1b8b-1a76-480a-b61c-d176e4e02c6b\", \"fe15c48b-116d-461e-9b40-68514730fd18\", \"fe2cd610-aa52-4789-ac62-7683281bb22f\", \"fe7f74b8-20f4-4471-91dc-4cca8c68e5c0\", \"fec0da58-1047-44d2-b6d1-c18cceed43dc\", \"ff0f875f-113a-4c0f-8c0a-4259cd496e6d\"], [\"TSPAN6\", \"TNMD\", \"DPM1\", \"SCYL3\", \"C1orf112\", \"FGR\", \"CFH\", \"FUCA2\", \"GCLC\", \"NFYA\"  …  \"AL451106.1\", \"AC092910.4\", \"AC073611.1\", \"AC136977.1\", \"AC078856.1\", \"AC008763.4\", \"AL592295.6\", \"AC006486.3\", \"AL391628.1\", \"AP006621.6\"], [\"protein_coding\", \"protein_coding\", \"protein_coding\", \"protein_coding\", \"protein_coding\", \"protein_coding\", \"protein_coding\", \"protein_coding\", \"protein_coding\", \"protein_coding\"  …  \"protein_coding\", \"lncRNA\", \"lncRNA\", \"lncRNA\", \"lncRNA\", \"protein_coding\", \"lncRNA\", \"protein_coding\", \"protein_coding\", \"protein_coding\"], [\"LumA\", \"Basal\", \"Her2\", \"Her2\", \"Normal\", \"LumA\", \"LumB\", \"LumA\", \"Basal\", \"Basal\"  …  \"LumA\", \"LumB\", \"Basal\", \"Normal\", \"Her2\", \"Normal\", \"LumA\", \"Basal\", \"LumA\", \"Her2\"], [337, 259, 3102, 5, 759, 954, 304, 503, 915, 3248  …  78, 572, 584, 414, 2164, 2813, 5, 1532, 375, 381], [0, 0, 0, 0, 0, 0, 0, 0, 0, 0  …  0, 0, 0, 0, 0, 0, 0, 0, 0, 0])"
      ]
     },
     "metadata": {},
     "output_type": "display_data"
    }
   ],
   "source": [
    "BRCA = MLSurvDataset(\"Data/TCGA_BRCA_tpm_n1049_btypes_labels_surv.h5\")"
   ]
  },
  {
   "cell_type": "code",
   "execution_count": 14,
   "metadata": {},
   "outputs": [
    {
     "data": {
      "text/plain": [
       "MLSurvDataset(Float32[0.008600163 0.0 … 0.0 0.0; 0.033423774 0.00432137 … 0.0 0.029383799; … ; 0.4828736 0.0 … 0.0 0.15836251; 0.045322984 0.017033324 … 0.0 0.20682588], [\"01H001\", \"02H003\", \"02H009\", \"02H017\", \"02H026\", \"02H033\", \"02H053\", \"02H066\", \"03H016\", \"03H022\"  …  \"13H186\", \"14H001\", \"14H007\", \"14H012\", \"14H015\", \"14H017\", \"14H019\", \"14H020\", \"14H023\", \"14H038\"], [\"TSPAN6\", \"TNMD\", \"DPM1\", \"SCYL3\", \"C1orf112\", \"FGR\", \"CFH\", \"FUCA2\", \"GCLC\", \"NFYA\"  …  \"AP003086.3\", \"AL109627.1\", \"AC084851.4\", \"AC024558.2\", \"AC108479.4\", \"AL512357.2\", \"AL138899.3\", \"AL669830.1\", \"AC091135.2\", \"AL357075.5\"], [\"lncRNA\", \"lncRNA\", \"protein_coding\", \"lncRNA\", \"protein_coding\", \"lncRNA\", \"protein_coding,retained_intron\", \"lncRNA\", \"protein_coding\", \"protein_coding\"  …  \"transcribed_processed_pseudogene\", \"lncRNA\", \"processed_pseudogene\", \"protein_coding\", \"unprocessed_pseudogene\", \"lncRNA\", \"protein_coding\", \"retained_intron\", \"unprocessed_pseudogene\", \"protein_coding\"], [\"Therapy-related myeloid neoplasms\", \"AML with minimal differentiation\", \"AML without maturation\", \"AML with minimal differentiation\", \"AML with myelodysplasia-related changes\", \"Acute monoblastic and monocytic leukaemia\", \"AML without maturation\", \"AML without maturation\", \"Acute monoblastic and monocytic leukaemia\", \"AML with myelodysplasia-related changes\"  …  \"Acute myelomonocytic leukaemia\", \"AML without maturation\", \"AML with maturation\", \"AML with minimal differentiation\", \"Acute myelomonocytic leukaemia\", \"AML without maturation\", \"AML with minimal differentiation\", \"AML without maturation\", \"AML with myelodysplasia-related changes\", \"AML with inv(3)(q21q26.2) or t(3;3)(q21;q26.2); RPN1-EVI1\"], [2170, 1396, 236, 284, 358, 101, 37, 135, 6033, 805  …  150, 2086, 75, 1467, 207, 213, 1983, 1952, 36, 255], [1, 1, 1, 1, 1, 1, 1, 1, 0, 1  …  1, 0, 1, 1, 1, 1, 0, 0, 1, 1])"
      ]
     },
     "metadata": {},
     "output_type": "display_data"
    }
   ],
   "source": [
    "LAML = MLSurvDataset(\"Data/LGN_AML_tpm_n300_btypes_labels_surv.h5\") "
   ]
  },
  {
   "cell_type": "code",
   "execution_count": 28,
   "metadata": {},
   "outputs": [
    {
     "data": {
      "text/plain": [
       "Chain(\n",
       "  Dense(14996 => 1; bias=false),        \u001b[90m# 14_996 parameters\u001b[39m\n",
       ") "
      ]
     },
     "metadata": {},
     "output_type": "display_data"
    }
   ],
   "source": [
    "cox_ridge = gpu(Chain(Dense(params_dict[\"insize\"], 1, bias = false)))"
   ]
  },
  {
   "cell_type": "code",
   "execution_count": 37,
   "metadata": {},
   "outputs": [
    {
     "data": {
      "text/plain": [
       "4.958"
      ]
     },
     "metadata": {},
     "output_type": "display_data"
    }
   ],
   "source": [
    "ps1 = Flux.params(cox_ridge)\n",
    "gs1 = gradient(ps1) do \n",
    "    cox_nll_vec(cox_ridge, train_x, train_y_e, NE_frac_tr) + l2_penalty(cox_ridge)\n",
    "end \n",
    "Flux.update!(opt1,ps1, gs1)\n",
    "vaecox_loss =  round(cox_nll_vec(cox_ridge, train_x, train_y_e, NE_frac_tr) + l2_penalty(cox_ridge) * wd , digits = 3)  \n",
    "    "
   ]
  },
  {
   "cell_type": "code",
   "execution_count": 15,
   "metadata": {},
   "outputs": [
    {
     "data": {
      "text/plain": [
       "format_train_test (generic function with 1 method)"
      ]
     },
     "metadata": {},
     "output_type": "display_data"
    }
   ],
   "source": [
    "function format_train_test(fold; device = gpu)\n",
    "    nsamples = size(fold[\"train_x\"])[1]\n",
    "    ordering = sortperm(-fold[\"Y_t_train\"])\n",
    "    train_x = device(Matrix(fold[\"train_x\"][ordering,:]'));\n",
    "    train_y_t = device(Matrix(fold[\"Y_t_train\"][ordering,:]'));\n",
    "    train_y_e = device(Matrix(fold[\"Y_e_train\"][ordering,:]'));\n",
    "    NE_frac_tr = sum(train_y_e .== 1) != 0 ? 1 / sum(train_y_e .== 1) : 0\n",
    "\n",
    "    nsamples = size(fold[\"test_x\"])[1]\n",
    "    ordering = sortperm(-fold[\"Y_t_test\"])\n",
    "    test_x = device(Matrix(fold[\"test_x\"][ordering,:]'));\n",
    "    test_y_t = device(Matrix(fold[\"Y_t_test\"][ordering,:]'));\n",
    "    test_y_e = device(Matrix(fold[\"Y_e_test\"][ordering,:]'));\n",
    "    NE_frac_tst = sum(test_y_e .== 1) != 0 ? 1 / sum(test_y_e .== 1) : 0\n",
    "    return train_x, train_y_t, train_y_e, NE_frac_tr, test_x, test_y_t, test_y_e, NE_frac_tst\n",
    "end "
   ]
  },
  {
   "cell_type": "code",
   "execution_count": 19,
   "metadata": {},
   "outputs": [
    {
     "data": {
      "text/plain": [
       "data_prep_pca (generic function with 1 method)"
      ]
     },
     "metadata": {},
     "output_type": "display_data"
    }
   ],
   "source": [
    "function data_prep_pca(DATA;nfolds = 5, nepochs =1000, dim_redux= 125)\n",
    "    keep = [occursin(\"protein_coding\", bt) for bt in DATA.biotypes]\n",
    "    println(\"nb genes : $(sum(keep))\")\n",
    "    println(\"nb patients : $(size(DATA.samples)[1])\")\n",
    "    println(\"% uncensored : $(mean(DATA.surve .!= 0))\")\n",
    "    M = fit(PCA, Matrix(DATA.data[:,keep]'))\n",
    "    pca_data = Matrix(predict(M, Matrix(DATA.data[:,keep]') )')\n",
    "    params_dict = Dict(\n",
    "            ## run infos \n",
    "            \"session_id\" => session_id, \"nfolds\" =>5,  \"modelid\" => \"$(bytes2hex(sha256(\"$(now())\"))[1:Int(floor(end/3))])\",\n",
    "            \"machine_id\"=>strip(read(`hostname`, String)), \"device\" => \"$(device())\", \"model_title\"=>\"AECPHDNN\",\n",
    "            ## data infos \n",
    "            \"dataset\" => \"LAML_pca\", \"nsamples\" => size(DATA.samples)[1],\n",
    "            \"nsamples_test\" => Int(round(size(DATA.samples)[1] / nfolds)), \"ngenes\" => size(DATA.genes[keep])[1],\n",
    "            \"nsamples_train\" => size(DATA.samples)[1] - Int(round(size(DATA.samples)[1] / nfolds)),\n",
    "            ## optim infos \n",
    "            \"nepochs\" => nepochs, \"ae_lr\" =>1e-6, \"cph_lr\" => 1e-5, \"ae_wd\" => 1e-6, \"cph_wd\" => 1e-6,\n",
    "            ## model infos\n",
    "            \"model_type\"=> \"vaecox\", \"dim_redux\" => dim_redux, \"ae_nb_hls\" => 2,\n",
    "            \"enc_nb_hl\" => 2, \"enc_hl_size\"=> 128,\n",
    "            \"venc_nb_hl\" => 2, \"venc_hl_size\"=> 128,  \"dec_nb_hl\" => 2 , \"dec_hl_size\"=> 128,\n",
    "            \"nb_clinf\" => 0, \"cph_nb_hl\" => 2, \"cph_hl_size\" => 64, \n",
    "            \"insize\" => size(pca_data)[2],\n",
    "            ## metrics\n",
    "            \"model_cv_complete\" => false\n",
    "        )\n",
    "    # split train test\n",
    "    \n",
    "    folds = split_train_test(pca_data[:,1:30], DATA.survt, DATA.surve, DATA.samples;nfolds =5)\n",
    "    fold = folds[1]\n",
    "    # format input data  \n",
    "    train_x, train_y_t, train_y_e, NE_frac_tr, test_x, test_y_t, test_y_e, NE_frac_tst = format_train_test(fold)\n",
    "\n",
    "    return train_x, train_y_t, train_y_e, NE_frac_tr, test_x, test_y_t, test_y_e, NE_frac_tst, params_dict\n",
    "end"
   ]
  },
  {
   "cell_type": "code",
   "execution_count": 21,
   "metadata": {},
   "outputs": [
    {
     "data": {
      "text/plain": [
       "VAE_COX_loss (generic function with 1 method)"
      ]
     },
     "metadata": {},
     "output_type": "display_data"
    }
   ],
   "source": [
    "function VAE_COX_loss(VENC::VariationalEncoder, CPH, X, Y_e, NE_frac;device = gpu)\n",
    "    mu, log_sigma = VENC(X)\n",
    "    #z = mu + device(randn(Float32, size(log_sigma))) .* exp.(log_sigma)\n",
    "    outs = vec(CPH(mu))\n",
    "    hazard_ratios = exp.(outs)\n",
    "    log_risk = log.(cumsum(hazard_ratios))\n",
    "    uncensored_likelihood = outs .- log_risk\n",
    "    censored_likelihood = uncensored_likelihood .* Y_e'\n",
    "    #neg_likelihood = - sum(censored_likelihood) / sum(e .== 1)\n",
    "    neg_likelihood = - sum(censored_likelihood) * NE_frac\n",
    "    return neg_likelihood\n",
    "end "
   ]
  },
  {
   "cell_type": "code",
   "execution_count": 22,
   "metadata": {},
   "outputs": [
    {
     "data": {
      "text/plain": [
       "VariationalEncoder"
      ]
     },
     "metadata": {},
     "output_type": "display_data"
    }
   ],
   "source": [
    "function VariationalEncoder(input_dim::Int, latent_dim::Int, hidden_dim::Int;device = gpu) \n",
    "    return VariationalEncoder(\n",
    "    device(Chain(Dense(input_dim, hidden_dim, leakyrelu), Dense(hidden_dim,hidden_dim, leakyrelu))),   # linear\n",
    "    device(Dense(hidden_dim, latent_dim)),        # mu\n",
    "    device(Dense(hidden_dim, latent_dim)))        # log sigma\n",
    "end "
   ]
  },
  {
   "cell_type": "code",
   "execution_count": 23,
   "metadata": {},
   "outputs": [
    {
     "data": {
      "text/plain": [
       "l2_penalty (generic function with 7 methods)"
      ]
     },
     "metadata": {},
     "output_type": "display_data"
    }
   ],
   "source": [
    "function l2_penalty(model::VariationalEncoder)\n",
    "    l2_sum = 0\n",
    "    for wm in model.linear\n",
    "        l2_sum += sum(abs2, wm.weight)\n",
    "    end \n",
    "    l2_sum += sum(abs2, model.mu.weight)\n",
    "    l2_sum += sum(abs2, model.log_sigma.weight)\n",
    "    return l2_sum\n",
    "end"
   ]
  },
  {
   "cell_type": "code",
   "execution_count": 46,
   "metadata": {},
   "outputs": [
    {
     "name": "stdout",
     "output_type": "stream",
     "text": [
      "nb genes : 19962\n",
      "nb patients : 1049\n",
      "% uncensored : 0.14013346043851288\n"
     ]
    },
    {
     "name": "stdout",
     "output_type": "stream",
     "text": [
      "1 TRAIN 5.544 cind: 0.479 \t TEST ae-corr: 0.027 \tcind: 0.596 [1717, 1163, 0]\n"
     ]
    },
    {
     "name": "stdout",
     "output_type": "stream",
     "text": [
      "400 TRAIN 5.544 cind: 0.479 \t TEST ae-corr: 0.146 \tcind: 0.596 [1717, 1163, 0]\n"
     ]
    },
    {
     "name": "stdout",
     "output_type": "stream",
     "text": [
      "800 TRAIN 5.544 cind: 0.479 \t TEST ae-corr: 0.257 \tcind: 0.596 [1717, 1163, 0]\n"
     ]
    },
    {
     "name": "stdout",
     "output_type": "stream",
     "text": [
      "1200 TRAIN 5.544 cind: 0.479 \t TEST ae-corr: 0.39 \tcind: 0.596 [1717, 1163, 0]\n"
     ]
    },
    {
     "name": "stdout",
     "output_type": "stream",
     "text": [
      "1600 TRAIN 5.544 cind: 0.479 \t TEST ae-corr: 0.524 \tcind: 0.596 [1717, 1163, 0]\n"
     ]
    },
    {
     "name": "stdout",
     "output_type": "stream",
     "text": [
      "2000 TRAIN 5.544 cind: 0.479 \t TEST ae-corr: 0.567 \tcind: 0.596 [1717, 1163, 0]\n"
     ]
    },
    {
     "name": "stdout",
     "output_type": "stream",
     "text": [
      "2400 TRAIN 5.544 cind: 0.479 \t TEST ae-corr: 0.642 \tcind: 0.596 [1717, 1163, 0]\n"
     ]
    },
    {
     "name": "stdout",
     "output_type": "stream",
     "text": [
      "2800 TRAIN 5.544 cind: 0.479 \t TEST ae-corr: 0.679 \tcind: 0.596 [1717, 1163, 0]\n"
     ]
    },
    {
     "name": "stdout",
     "output_type": "stream",
     "text": [
      "1 TRAIN 5.542 cind: 0.479 \t TEST ae-corr: 0.693 \tcind: 0.596 [1717, 1163, 0]\n"
     ]
    },
    {
     "name": "stdout",
     "output_type": "stream",
     "text": [
      "400 TRAIN 5.504 cind: 0.492 \t TEST ae-corr: 0.695 \tcind: 0.592 [1704, 1176, 0]\n"
     ]
    },
    {
     "name": "stdout",
     "output_type": "stream",
     "text": [
      "800 TRAIN 5.468 cind: 0.507 \t TEST ae-corr: 0.701 \tcind: 0.592 [1706, 1174, 0]\n"
     ]
    },
    {
     "name": "stdout",
     "output_type": "stream",
     "text": [
      "1200 TRAIN 5.434 cind: 0.521 \t TEST ae-corr: 0.691 \tcind: 0.592 [1704, 1176, 0]\n"
     ]
    },
    {
     "name": "stdout",
     "output_type": "stream",
     "text": [
      "1600 TRAIN 5.403 cind: 0.537 \t TEST ae-corr: 0.706 \tcind: 0.585 [1686, 1194, 0]\n"
     ]
    },
    {
     "name": "stdout",
     "output_type": "stream",
     "text": [
      "2000 TRAIN 5.373 cind: 0.553 \t TEST ae-corr: 0.706 \tcind: 0.583 [1680, 1200, 0]\n"
     ]
    },
    {
     "name": "stdout",
     "output_type": "stream",
     "text": [
      "2400 TRAIN 5.344 cind: 0.571 \t TEST ae-corr: 0.697 \tcind: 0.581 [1674, 1206, 0]\n"
     ]
    },
    {
     "name": "stdout",
     "output_type": "stream",
     "text": [
      "2800 TRAIN 5.316 cind: 0.59 \t TEST ae-corr: 0.689 \tcind: 0.581 [1673, 1207, 0]\n"
     ]
    },
    {
     "name": "stdout",
     "output_type": "stream",
     "text": [
      "3200 TRAIN 5.29 cind: 0.607 \t TEST ae-corr: 0.654 \tcind: 0.585 [1686, 1194, 0]\n"
     ]
    },
    {
     "name": "stdout",
     "output_type": "stream",
     "text": [
      "3600 TRAIN 5.264 cind: 0.627 \t TEST ae-corr: 0.686 \tcind: 0.582 [1677, 1203, 0]\n"
     ]
    },
    {
     "name": "stdout",
     "output_type": "stream",
     "text": [
      "4000 TRAIN 5.239 cind: 0.645 \t TEST ae-corr: 0.706 \tcind: 0.582 [1677, 1203, 0]\n"
     ]
    },
    {
     "name": "stdout",
     "output_type": "stream",
     "text": [
      "4400 TRAIN 5.214 cind: 0.663 \t TEST ae-corr: 0.694 \tcind: 0.585 [1685, 1195, 0]\n"
     ]
    },
    {
     "name": "stdout",
     "output_type": "stream",
     "text": [
      "4800 TRAIN 5.191 cind: 0.68 \t TEST ae-corr: 0.698 \tcind: 0.586 [1688, 1192, 0]\n"
     ]
    },
    {
     "name": "stdout",
     "output_type": "stream",
     "text": [
      "5200 TRAIN 5.168 cind: 0.695 \t TEST ae-corr: 0.69 \tcind: 0.591 [1701, 1179, 0]\n"
     ]
    },
    {
     "name": "stdout",
     "output_type": "stream",
     "text": [
      "5600 TRAIN 5.145 cind: 0.71 \t TEST ae-corr: 0.699 \tcind: 0.59 [1699, 1181, 0]\n"
     ]
    },
    {
     "name": "stdout",
     "output_type": "stream",
     "text": [
      "6000 TRAIN 5.123 cind: 0.723 \t TEST ae-corr: 0.693 \tcind: 0.592 [1706, 1174, 0]\n"
     ]
    },
    {
     "name": "stdout",
     "output_type": "stream",
     "text": [
      "6400 TRAIN 5.102 cind: 0.735 \t TEST ae-corr: 0.702 \tcind: 0.594 [1712, 1168, 0]\n"
     ]
    },
    {
     "name": "stdout",
     "output_type": "stream",
     "text": [
      "6800 TRAIN 5.081 cind: 0.746 \t TEST ae-corr: 0.689 \tcind: 0.595 [1715, 1165, 0]\n"
     ]
    },
    {
     "name": "stdout",
     "output_type": "stream",
     "text": [
      "7200 TRAIN 5.06 cind: 0.755 \t TEST ae-corr: 0.699 \tcind: 0.599 [1725, 1155, 0]\n"
     ]
    },
    {
     "name": "stdout",
     "output_type": "stream",
     "text": [
      "7600 TRAIN 5.04 cind: 0.763 \t TEST ae-corr: 0.685 \tcind: 0.599 [1726, 1154, 0]\n"
     ]
    },
    {
     "name": "stdout",
     "output_type": "stream",
     "text": [
      "8000 TRAIN 5.02 cind: 0.771 \t TEST ae-corr: 0.693 \tcind: 0.6 [1729, 1151, 0]\n"
     ]
    },
    {
     "name": "stdout",
     "output_type": "stream",
     "text": [
      "8400 TRAIN 5.001 cind: 0.779 \t TEST ae-corr: 0.679 \tcind: 0.601 [1731, 1149, 0]\n"
     ]
    },
    {
     "name": "stdout",
     "output_type": "stream",
     "text": [
      "8800 TRAIN 4.982 cind: 0.785 \t TEST ae-corr: 0.692 \tcind: 0.601 [1730, 1150, 0]\n"
     ]
    },
    {
     "name": "stdout",
     "output_type": "stream",
     "text": [
      "9200 TRAIN 4.963 cind: 0.791 \t TEST ae-corr: 0.694 \tcind: 0.602 [1733, 1147, 0]\n"
     ]
    },
    {
     "name": "stdout",
     "output_type": "stream",
     "text": [
      "9600 TRAIN 4.945 cind: 0.797 \t TEST ae-corr: 0.704 \tcind: 0.601 [1730, 1150, 0]\n"
     ]
    },
    {
     "name": "stdout",
     "output_type": "stream",
     "text": [
      "10000 TRAIN 4.927 cind: 0.802 \t TEST ae-corr: 0.678 \tcind: 0.601 [1730, 1150, 0]\n"
     ]
    },
    {
     "name": "stdout",
     "output_type": "stream",
     "text": [
      "1 TRAIN 4.928 cind: 0.802 \t TEST ae-corr: 0.677 \tcind: 0.601 [1730, 1150, 0]\n"
     ]
    },
    {
     "name": "stdout",
     "output_type": "stream",
     "text": [
      "400 TRAIN 4.91 cind: 0.807 \t TEST ae-corr: 0.656 \tcind: 0.601 [1732, 1148, 0]\n"
     ]
    },
    {
     "name": "stdout",
     "output_type": "stream",
     "text": [
      "800 TRAIN 4.893 cind: 0.811 \t TEST ae-corr: 0.704 \tcind: 0.604 [1739, 1141, 0]\n"
     ]
    },
    {
     "name": "stdout",
     "output_type": "stream",
     "text": [
      "1200 TRAIN 4.875 cind: 0.816 \t TEST ae-corr: 0.69 \tcind: 0.603 [1736, 1144, 0]\n"
     ]
    },
    {
     "name": "stdout",
     "output_type": "stream",
     "text": [
      "1600 TRAIN 4.858 cind: 0.819 \t TEST ae-corr: 0.691 \tcind: 0.605 [1741, 1139, 0]\n"
     ]
    },
    {
     "name": "stdout",
     "output_type": "stream",
     "text": [
      "2000 TRAIN 4.841 cind: 0.824 \t TEST ae-corr: 0.682 \tcind: 0.604 [1740, 1140, 0]\n"
     ]
    },
    {
     "name": "stdout",
     "output_type": "stream",
     "text": [
      "2400 TRAIN 4.824 cind: 0.827 \t TEST ae-corr: 0.693 \tcind: 0.604 [1739, 1141, 0]\n"
     ]
    },
    {
     "name": "stdout",
     "output_type": "stream",
     "text": [
      "2800 TRAIN 4.808 cind: 0.831 \t TEST ae-corr: 0.684 \tcind: 0.604 [1740, 1140, 0]\n"
     ]
    },
    {
     "name": "stdout",
     "output_type": "stream",
     "text": [
      "3200 TRAIN 4.791 cind: 0.834 \t TEST ae-corr: 0.694 \tcind: 0.605 [1741, 1139, 0]\n"
     ]
    },
    {
     "name": "stdout",
     "output_type": "stream",
     "text": [
      "3600 TRAIN 4.775 cind: 0.838 \t TEST ae-corr: 0.686 \tcind: 0.602 [1733, 1147, 0]\n"
     ]
    },
    {
     "name": "stdout",
     "output_type": "stream",
     "text": [
      "4000 TRAIN 4.759 cind: 0.841 \t TEST ae-corr: 0.676 \tcind: 0.604 [1739, 1141, 0]\n"
     ]
    },
    {
     "name": "stdout",
     "output_type": "stream",
     "text": [
      "4400 TRAIN 4.743 cind: 0.844 \t TEST ae-corr: 0.687 \tcind: 0.605 [1741, 1139, 0]\n"
     ]
    },
    {
     "name": "stdout",
     "output_type": "stream",
     "text": [
      "4800 TRAIN 4.727 cind: 0.847 \t TEST ae-corr: 0.683 \tcind: 0.606 [1744, 1136, 0]\n"
     ]
    },
    {
     "name": "stdout",
     "output_type": "stream",
     "text": [
      "5200 TRAIN 4.711 cind: 0.85 \t TEST ae-corr: 0.694 \tcind: 0.606 [1745, 1135, 0]\n"
     ]
    },
    {
     "name": "stdout",
     "output_type": "stream",
     "text": [
      "5600 TRAIN 4.696 cind: 0.853 \t TEST ae-corr: 0.693 \tcind: 0.605 [1741, 1139, 0]\n"
     ]
    },
    {
     "name": "stdout",
     "output_type": "stream",
     "text": [
      "6000 TRAIN 4.68 cind: 0.857 \t TEST ae-corr: 0.677 \tcind: 0.607 [1747, 1133, 0]\n"
     ]
    },
    {
     "name": "stdout",
     "output_type": "stream",
     "text": [
      "6400 TRAIN 4.665 cind: 0.86 \t TEST ae-corr: 0.695 \tcind: 0.608 [1750, 1130, 0]\n"
     ]
    },
    {
     "name": "stdout",
     "output_type": "stream",
     "text": [
      "6800 TRAIN 4.649 cind: 0.863 \t TEST ae-corr: 0.702 \tcind: 0.609 [1755, 1125, 0]\n"
     ]
    },
    {
     "name": "stdout",
     "output_type": "stream",
     "text": [
      "7200 TRAIN 4.634 cind: 0.865 \t TEST ae-corr: 0.703 \tcind: 0.61 [1757, 1123, 0]\n"
     ]
    },
    {
     "name": "stdout",
     "output_type": "stream",
     "text": [
      "7600 TRAIN 4.619 cind: 0.868 \t TEST ae-corr: 0.679 \tcind: 0.61 [1758, 1122, 0]\n"
     ]
    },
    {
     "name": "stdout",
     "output_type": "stream",
     "text": [
      "8000 TRAIN 4.604 cind: 0.871 \t TEST ae-corr: 0.705 \tcind: 0.61 [1756, 1124, 0]\n"
     ]
    },
    {
     "name": "stdout",
     "output_type": "stream",
     "text": [
      "8400 TRAIN 4.589 cind: 0.873 \t TEST ae-corr: 0.684 \tcind: 0.61 [1758, 1122, 0]\n"
     ]
    },
    {
     "name": "stdout",
     "output_type": "stream",
     "text": [
      "8800 TRAIN 4.574 cind: 0.876 \t TEST ae-corr: 0.687 \tcind: 0.611 [1759, 1121, 0]\n"
     ]
    },
    {
     "name": "stdout",
     "output_type": "stream",
     "text": [
      "9200 TRAIN 4.559 cind: 0.878 \t TEST ae-corr: 0.668 \tcind: 0.611 [1761, 1119, 0]\n"
     ]
    },
    {
     "name": "stdout",
     "output_type": "stream",
     "text": [
      "9600 TRAIN 4.545 cind: 0.88 \t TEST ae-corr: 0.69 \tcind: 0.611 [1759, 1121, 0]\n"
     ]
    },
    {
     "name": "stdout",
     "output_type": "stream",
     "text": [
      "10000 TRAIN 4.53 cind: 0.883 \t TEST ae-corr: 0.687 \tcind: 0.611 [1759, 1121, 0]\n"
     ]
    }
   ],
   "source": [
    "train_x, train_y_t, train_y_e, NE_frac_tr, test_x, test_y_t, test_y_e, NE_frac_tst, params_dict = data_prep_pca(BRCA;nepochs = 10_000, dim_redux = 300)\n",
    "venc = VariationalEncoder(size(train_x)[1], params_dict[\"dim_redux\"], 600)\n",
    "vdec = Decoder(size(train_x)[1], params_dict[\"dim_redux\"], 600)\n",
    "cphdnn = gpu(Chain(Dense(params_dict[\"dim_redux\"],512, leakyrelu), Dense(512,512, leakyrelu), Dense(512, 1, bias = false)))\n",
    "opt1 = Flux.ADAM(1e-7) ## opt VENC-CPHDNN\n",
    "opt2 = Flux.ADAM(1e-5) ## opt VAE\n",
    "wd = params_dict[\"cph_wd\"]\n",
    "opt = Flux.ADAM(params_dict[\"cph_lr\"])\n",
    "# training VAE only first\n",
    "for i in 1:3000\n",
    "    vaecox_loss =  round(VAE_COX_loss(venc, cphdnn, train_x, train_y_e, NE_frac_tr) + l2_penalty(cphdnn) * wd + l2_penalty(venc) * wd, digits = 3)  \n",
    "    \n",
    "    OUTS_tr = cphdnn(venc(train_x)[1])\n",
    "    OUTS_tst = cphdnn(venc(test_x)[1])\n",
    "    \n",
    "    ps2 = Flux.params(venc, vdec)\n",
    "    gs2 = gradient(ps2) do \n",
    "        VAE_lossf(venc, vdec, train_x) + l2_penalty(venc) * wd + l2_penalty(vdec) * wd\n",
    "        #VAE_COX_loss(model[\"venc\"], model[\"cph\"], train_x, train_y_e, NE_frac_tr) + l2_penalty(model[\"venc\"]) * wd + l2_penalty(model[\"cph\"]) * wd \n",
    "    end \n",
    "    vae_loss =  round(VAE_lossf(venc, vdec, train_x) + l2_penalty(venc) * wd + l2_penalty(vdec) * wd, digits = 3)  \n",
    "    VAE_test = round(my_cor(vec(test_x), vec(MyReconstruct(venc, vdec, test_x)[end])),digits = 3)\n",
    "\n",
    "    cind_tr, cdnt_tr, ddnt_tr, tied_tr  = concordance_index(train_y_t, train_y_e, -1 * OUTS_tr)\n",
    "    cind_test,cdnt_tst, ddnt_tst, tied_tst = concordance_index(test_y_t, test_y_e, -1 *OUTS_tst)\n",
    "    \n",
    "    if i%400 ==0 || i == 1\n",
    "    println(\"$i TRAIN $vaecox_loss cind: $(round(cind_tr, digits = 3)) \\t TEST ae-corr: $VAE_test \\tcind: $(round(cind_test, digits = 3)) [$(Int(cdnt_tst)), $(Int(ddnt_tst)), $(Int(tied_tst))]\")\n",
    "    end \n",
    "    #Flux.update!(opt1,ps1, gs1)\n",
    "    Flux.update!(opt2,ps2, gs2)\n",
    "    params_dict[\"cph_tst_c_ind\"] = cind_test\n",
    "    params_dict[\"cph_train_c_ind\"] = cind_tr\n",
    "    params_dict[\"step\"] = i \n",
    "end\n",
    "# training VENC-CPHDNN \n",
    "for i in 1:params_dict[\"nepochs\"]\n",
    "    ps1 = Flux.params(cphdnn)\n",
    "    gs1 = gradient(ps1) do \n",
    "        cox_nll_vec(cphdnn, venc(train_x)[1], train_y_e, NE_frac_tr) + l2_penalty(cphdnn) * wd \n",
    "        #VAE_COX_loss(model[\"venc\"], model[\"cph\"], train_x, train_y_e, NE_frac_tr) + l2_penalty(model[\"venc\"]) * wd + l2_penalty(model[\"cph\"]) * wd \n",
    "    end \n",
    "    vaecox_loss =  round(cox_nll_vec(cphdnn, venc(train_x)[1], train_y_e, NE_frac_tr) + l2_penalty(cphdnn) * wd  , digits = 3)  \n",
    "    OUTS_tr = cphdnn(venc(train_x)[1])\n",
    "    OUTS_tst = cphdnn(venc(test_x)[1])\n",
    "    \n",
    "    vae_loss =  round(VAE_lossf(venc, vdec, train_x) + l2_penalty(venc) * wd + l2_penalty(vdec) * wd, digits = 3)  \n",
    "    VAE_test = round(my_cor(vec(test_x), vec(MyReconstruct(venc, vdec, test_x)[end])),digits = 3)\n",
    "\n",
    "    cind_tr, cdnt_tr, ddnt_tr, tied_tr  = concordance_index(train_y_t, train_y_e, -1 * OUTS_tr)\n",
    "    cind_test,cdnt_tst, ddnt_tst, tied_tst = concordance_index(test_y_t, test_y_e, -1 *OUTS_tst)\n",
    "    \n",
    "    if i%400 ==0 || i == 1\n",
    "    println(\"$i TRAIN $vaecox_loss cind: $(round(cind_tr, digits = 3)) \\t TEST ae-corr: $VAE_test \\tcind: $(round(cind_test, digits = 3)) [$(Int(cdnt_tst)), $(Int(ddnt_tst)), $(Int(tied_tst))]\")\n",
    "    end \n",
    "    Flux.update!(opt1,ps1, gs1)\n",
    "    #Flux.update!(opt2,ps2, gs2)\n",
    "    params_dict[\"cph_tst_c_ind\"] = cind_test\n",
    "    params_dict[\"cph_train_c_ind\"] = cind_tr\n",
    "    params_dict[\"step\"] = i \n",
    "end\n",
    "# training VENC-CPHDNN \n",
    "for i in 1:params_dict[\"nepochs\"]\n",
    "    ps1 = Flux.params(venc, cphdnn)\n",
    "    gs1 = gradient(ps1) do \n",
    "        VAE_COX_loss(venc, cphdnn, train_x, train_y_e, NE_frac_tr) + l2_penalty(cphdnn) * wd + l2_penalty(venc) * wd\n",
    "        #VAE_COX_loss(model[\"venc\"], model[\"cph\"], train_x, train_y_e, NE_frac_tr) + l2_penalty(model[\"venc\"]) * wd + l2_penalty(model[\"cph\"]) * wd \n",
    "    end \n",
    "    vaecox_loss =  round(VAE_COX_loss(venc, cphdnn, train_x, train_y_e, NE_frac_tr) + l2_penalty(cphdnn) * wd + l2_penalty(venc) * wd, digits = 3)  \n",
    "    OUTS_tr = cphdnn(venc(train_x)[1])\n",
    "    OUTS_tst = cphdnn(venc(test_x)[1])\n",
    "    \n",
    "    vae_loss =  round(VAE_lossf(venc, vdec, train_x) + l2_penalty(venc) * wd + l2_penalty(vdec) * wd, digits = 3)  \n",
    "    VAE_test = round(my_cor(vec(test_x), vec(MyReconstruct(venc, vdec, test_x)[end])),digits = 3)\n",
    "\n",
    "    cind_tr, cdnt_tr, ddnt_tr, tied_tr  = concordance_index(train_y_t, train_y_e, -1 * OUTS_tr)\n",
    "    cind_test,cdnt_tst, ddnt_tst, tied_tst = concordance_index(test_y_t, test_y_e, -1 *OUTS_tst)\n",
    "    \n",
    "    if i%400 ==0 || i == 1\n",
    "    println(\"$i TRAIN $vaecox_loss cind: $(round(cind_tr, digits = 3)) \\t TEST ae-corr: $VAE_test \\tcind: $(round(cind_test, digits = 3)) [$(Int(cdnt_tst)), $(Int(ddnt_tst)), $(Int(tied_tst))]\")\n",
    "    end \n",
    "    Flux.update!(opt1,ps1, gs1)\n",
    "    #Flux.update!(opt2,ps2, gs2)\n",
    "    params_dict[\"cph_tst_c_ind\"] = cind_test\n",
    "    params_dict[\"cph_train_c_ind\"] = cind_tr\n",
    "    params_dict[\"step\"] = i \n",
    "end"
   ]
  },
  {
   "cell_type": "code",
   "execution_count": 41,
   "metadata": {},
   "outputs": [
    {
     "name": "stdout",
     "output_type": "stream",
     "text": [
      "nb genes : 14996\n",
      "nb patients : 300\n",
      "% uncensored : 0.7433333333333333\n"
     ]
    },
    {
     "name": "stdout",
     "output_type": "stream",
     "text": [
      "1 TRAIN 4.912 cind: 0.553 \t TEST ae-corr: -0.012 \tcind: 0.574 [951, 705, 0]\n"
     ]
    },
    {
     "name": "stdout",
     "output_type": "stream",
     "text": [
      "400 TRAIN 4.9 cind: 0.571 \t TEST ae-corr: 0.0 \tcind: 0.58 [960, 696, 0]\n"
     ]
    },
    {
     "name": "stdout",
     "output_type": "stream",
     "text": [
      "800 TRAIN 4.887 cind: 0.589 \t TEST ae-corr: 0.017 \tcind: 0.585 [969, 687, 0]\n"
     ]
    },
    {
     "name": "stdout",
     "output_type": "stream",
     "text": [
      "1200 TRAIN 4.875 cind: 0.609 \t TEST ae-corr: 0.002 \tcind: 0.588 [974, 682, 0]\n"
     ]
    },
    {
     "name": "stdout",
     "output_type": "stream",
     "text": [
      "1600 TRAIN 4.863 cind: 0.627 \t TEST ae-corr: 0.007 \tcind: 0.589 [975, 681, 0]\n"
     ]
    },
    {
     "name": "stdout",
     "output_type": "stream",
     "text": [
      "2000 TRAIN 4.852 cind: 0.642 \t TEST ae-corr: -0.019 \tcind: 0.589 [976, 680, 0]\n"
     ]
    },
    {
     "name": "stdout",
     "output_type": "stream",
     "text": [
      "2400 TRAIN 4.841 cind: 0.656 \t TEST ae-corr: 0.014 \tcind: 0.594 [984, 672, 0]\n"
     ]
    },
    {
     "name": "stdout",
     "output_type": "stream",
     "text": [
      "2800 TRAIN 4.83 cind: 0.666 \t TEST ae-corr: 0.02 \tcind: 0.598 [991, 665, 0]\n"
     ]
    },
    {
     "name": "stdout",
     "output_type": "stream",
     "text": [
      "3200 TRAIN 4.82 cind: 0.677 \t TEST ae-corr: -0.009 \tcind: 0.597 [989, 667, 0]\n"
     ]
    },
    {
     "name": "stdout",
     "output_type": "stream",
     "text": [
      "3600 TRAIN 4.809 cind: 0.684 \t TEST ae-corr: 0.05 \tcind: 0.595 [986, 670, 0]\n"
     ]
    },
    {
     "name": "stdout",
     "output_type": "stream",
     "text": [
      "4000 TRAIN 4.799 cind: 0.692 \t TEST ae-corr: 0.022 \tcind: 0.593 [982, 674, 0]\n"
     ]
    },
    {
     "name": "stdout",
     "output_type": "stream",
     "text": [
      "4400 TRAIN 4.789 cind: 0.699 \t TEST ae-corr: 0.009 \tcind: 0.592 [981, 675, 0]\n"
     ]
    },
    {
     "name": "stdout",
     "output_type": "stream",
     "text": [
      "4800 TRAIN 4.78 cind: 0.704 \t TEST ae-corr: -0.008 \tcind: 0.598 [991, 665, 0]\n"
     ]
    },
    {
     "name": "stdout",
     "output_type": "stream",
     "text": [
      "5200 TRAIN 4.77 cind: 0.708 \t TEST ae-corr: -0.021 \tcind: 0.598 [990, 666, 0]\n"
     ]
    },
    {
     "name": "stdout",
     "output_type": "stream",
     "text": [
      "5600 TRAIN 4.761 cind: 0.714 \t TEST ae-corr: -0.018 \tcind: 0.595 [985, 671, 0]\n"
     ]
    },
    {
     "name": "stdout",
     "output_type": "stream",
     "text": [
      "6000 TRAIN 4.752 cind: 0.718 \t TEST ae-corr: 0.018 \tcind: 0.595 [985, 671, 0]\n"
     ]
    },
    {
     "name": "stdout",
     "output_type": "stream",
     "text": [
      "6400 TRAIN 4.743 cind: 0.722 \t TEST ae-corr: 0.008 \tcind: 0.595 [986, 670, 0]\n"
     ]
    },
    {
     "name": "stdout",
     "output_type": "stream",
     "text": [
      "6800 TRAIN 4.734 cind: 0.726 \t TEST ae-corr: 0.002 \tcind: 0.597 [989, 667, 0]\n"
     ]
    },
    {
     "name": "stdout",
     "output_type": "stream",
     "text": [
      "7200 TRAIN 4.726 cind: 0.728 \t TEST ae-corr: 0.011 \tcind: 0.598 [991, 665, 0]\n"
     ]
    },
    {
     "name": "stdout",
     "output_type": "stream",
     "text": [
      "7600 TRAIN 4.717 cind: 0.731 \t TEST ae-corr: -0.024 \tcind: 0.601 [996, 660, 0]\n"
     ]
    },
    {
     "name": "stdout",
     "output_type": "stream",
     "text": [
      "8000 TRAIN 4.709 cind: 0.735 \t TEST ae-corr: 0.003 \tcind: 0.6 [993, 663, 0]\n"
     ]
    },
    {
     "name": "stdout",
     "output_type": "stream",
     "text": [
      "8400 TRAIN 4.701 cind: 0.737 \t TEST ae-corr: 0.017 \tcind: 0.597 [989, 667, 0]\n"
     ]
    },
    {
     "name": "stdout",
     "output_type": "stream",
     "text": [
      "8800 TRAIN 4.692 cind: 0.74 \t TEST ae-corr: -0.006 \tcind: 0.597 [988, 668, 0]\n"
     ]
    },
    {
     "name": "stdout",
     "output_type": "stream",
     "text": [
      "9200 TRAIN 4.684 cind: 0.742 \t TEST ae-corr: 0.02 \tcind: 0.597 [989, 667, 0]\n"
     ]
    },
    {
     "name": "stdout",
     "output_type": "stream",
     "text": [
      "9600 TRAIN 4.677 cind: 0.745 \t TEST ae-corr: -0.0 \tcind: 0.595 [986, 670, 0]\n"
     ]
    },
    {
     "name": "stdout",
     "output_type": "stream",
     "text": [
      "10000 TRAIN 4.669 cind: 0.748 \t TEST ae-corr: 0.003 \tcind: 0.595 [986, 670, 0]\n"
     ]
    },
    {
     "name": "stdout",
     "output_type": "stream",
     "text": [
      "10400 TRAIN 4.661 cind: 0.75 \t TEST ae-corr: 0.002 \tcind: 0.594 [983, 673, 0]\n"
     ]
    },
    {
     "name": "stdout",
     "output_type": "stream",
     "text": [
      "10800 TRAIN 4.654 cind: 0.752 \t TEST ae-corr: 0.022 \tcind: 0.595 [985, 671, 0]\n"
     ]
    },
    {
     "name": "stdout",
     "output_type": "stream",
     "text": [
      "11200 TRAIN 4.646 cind: 0.755 \t TEST ae-corr: 0.009 \tcind: 0.595 [985, 671, 0]\n"
     ]
    },
    {
     "name": "stdout",
     "output_type": "stream",
     "text": [
      "11600 TRAIN 4.639 cind: 0.756 \t TEST ae-corr: 0.018 \tcind: 0.595 [986, 670, 0]\n"
     ]
    },
    {
     "name": "stdout",
     "output_type": "stream",
     "text": [
      "12000 TRAIN 4.632 cind: 0.758 \t TEST ae-corr: 0.025 \tcind: 0.594 [984, 672, 0]\n"
     ]
    },
    {
     "name": "stdout",
     "output_type": "stream",
     "text": [
      "12400 TRAIN 4.624 cind: 0.76 \t TEST ae-corr: -0.018 \tcind: 0.591 [979, 677, 0]\n"
     ]
    },
    {
     "name": "stdout",
     "output_type": "stream",
     "text": [
      "12800 TRAIN 4.617 cind: 0.762 \t TEST ae-corr: -0.006 \tcind: 0.592 [981, 675, 0]\n"
     ]
    },
    {
     "name": "stdout",
     "output_type": "stream",
     "text": [
      "13200 TRAIN 4.61 cind: 0.763 \t TEST ae-corr: -0.001 \tcind: 0.594 [984, 672, 0]\n"
     ]
    },
    {
     "name": "stdout",
     "output_type": "stream",
     "text": [
      "13600 TRAIN 4.604 cind: 0.765 \t TEST ae-corr: 0.008 \tcind: 0.593 [982, 674, 0]\n"
     ]
    },
    {
     "name": "stdout",
     "output_type": "stream",
     "text": [
      "14000 TRAIN 4.597 cind: 0.767 \t TEST ae-corr: 0.013 \tcind: 0.593 [982, 674, 0]\n"
     ]
    },
    {
     "name": "stdout",
     "output_type": "stream",
     "text": [
      "14400 TRAIN 4.59 cind: 0.769 \t TEST ae-corr: 0.015 \tcind: 0.594 [983, 673, 0]\n"
     ]
    },
    {
     "name": "stdout",
     "output_type": "stream",
     "text": [
      "14800 TRAIN 4.583 cind: 0.771 \t TEST ae-corr: 0.019 \tcind: 0.593 [982, 674, 0]\n"
     ]
    },
    {
     "name": "stdout",
     "output_type": "stream",
     "text": [
      "15200 TRAIN 4.577 cind: 0.772 \t TEST ae-corr: 0.006 \tcind: 0.595 [985, 671, 0]\n"
     ]
    },
    {
     "name": "stdout",
     "output_type": "stream",
     "text": [
      "15600 TRAIN 4.57 cind: 0.774 \t TEST ae-corr: -0.031 \tcind: 0.595 [985, 671, 0]\n"
     ]
    },
    {
     "name": "stdout",
     "output_type": "stream",
     "text": [
      "16000 TRAIN 4.564 cind: 0.775 \t TEST ae-corr: 0.008 \tcind: 0.595 [985, 671, 0]\n"
     ]
    },
    {
     "name": "stdout",
     "output_type": "stream",
     "text": [
      "16400 TRAIN 4.557 cind: 0.776 \t TEST ae-corr: -0.006 \tcind: 0.595 [985, 671, 0]\n"
     ]
    },
    {
     "name": "stdout",
     "output_type": "stream",
     "text": [
      "16800 TRAIN 4.551 cind: 0.778 \t TEST ae-corr: -0.003 \tcind: 0.595 [986, 670, 0]\n"
     ]
    },
    {
     "name": "stdout",
     "output_type": "stream",
     "text": [
      "17200 TRAIN 4.544 cind: 0.779 \t TEST ae-corr: 0.015 \tcind: 0.595 [986, 670, 0]\n"
     ]
    },
    {
     "name": "stdout",
     "output_type": "stream",
     "text": [
      "17600 TRAIN 4.538 cind: 0.78 \t TEST ae-corr: 0.004 \tcind: 0.595 [986, 670, 0]\n"
     ]
    },
    {
     "name": "stdout",
     "output_type": "stream",
     "text": [
      "18000 TRAIN 4.532 cind: 0.782 \t TEST ae-corr: 0.013 \tcind: 0.595 [986, 670, 0]\n"
     ]
    },
    {
     "name": "stdout",
     "output_type": "stream",
     "text": [
      "18400 TRAIN 4.526 cind: 0.783 \t TEST ae-corr: -0.004 \tcind: 0.597 [988, 668, 0]\n"
     ]
    },
    {
     "name": "stdout",
     "output_type": "stream",
     "text": [
      "18800 TRAIN 4.52 cind: 0.784 \t TEST ae-corr: -0.025 \tcind: 0.596 [987, 669, 0]\n"
     ]
    },
    {
     "name": "stdout",
     "output_type": "stream",
     "text": [
      "19200 TRAIN 4.514 cind: 0.785 \t TEST ae-corr: -0.011 \tcind: 0.595 [986, 670, 0]\n"
     ]
    },
    {
     "name": "stdout",
     "output_type": "stream",
     "text": [
      "19600 TRAIN 4.508 cind: 0.786 \t TEST ae-corr: 0.002 \tcind: 0.594 [984, 672, 0]\n"
     ]
    },
    {
     "name": "stdout",
     "output_type": "stream",
     "text": [
      "20000 TRAIN 4.502 cind: 0.787 \t TEST ae-corr: -0.011 \tcind: 0.596 [987, 669, 0]\n"
     ]
    },
    {
     "name": "stdout",
     "output_type": "stream",
     "text": [
      "20400 TRAIN 4.496 cind: 0.788 \t TEST ae-corr: 0.0 \tcind: 0.595 [986, 670, 0]\n"
     ]
    },
    {
     "name": "stdout",
     "output_type": "stream",
     "text": [
      "20800 TRAIN 4.49 cind: 0.789 \t TEST ae-corr: -0.036 \tcind: 0.595 [985, 671, 0]\n"
     ]
    },
    {
     "name": "stdout",
     "output_type": "stream",
     "text": [
      "21200 TRAIN 4.484 cind: 0.79 \t TEST ae-corr: 0.029 \tcind: 0.596 [987, 669, 0]\n"
     ]
    },
    {
     "name": "stdout",
     "output_type": "stream",
     "text": [
      "21600 TRAIN 4.478 cind: 0.791 \t TEST ae-corr: 0.001 \tcind: 0.595 [985, 671, 0]\n"
     ]
    },
    {
     "name": "stdout",
     "output_type": "stream",
     "text": [
      "22000 TRAIN 4.472 cind: 0.792 \t TEST ae-corr: -0.005 \tcind: 0.593 [982, 674, 0]\n"
     ]
    },
    {
     "name": "stdout",
     "output_type": "stream",
     "text": [
      "22400 TRAIN 4.467 cind: 0.793 \t TEST ae-corr: 0.002 \tcind: 0.594 [984, 672, 0]\n"
     ]
    },
    {
     "name": "stdout",
     "output_type": "stream",
     "text": [
      "22800 TRAIN 4.461 cind: 0.795 \t TEST ae-corr: 0.017 \tcind: 0.593 [982, 674, 0]\n"
     ]
    },
    {
     "name": "stdout",
     "output_type": "stream",
     "text": [
      "23200 TRAIN 4.455 cind: 0.796 \t TEST ae-corr: -0.006 \tcind: 0.591 [979, 677, 0]\n"
     ]
    },
    {
     "name": "stdout",
     "output_type": "stream",
     "text": [
      "23600 TRAIN 4.45 cind: 0.797 \t TEST ae-corr: -0.006 \tcind: 0.591 [978, 678, 0]\n"
     ]
    },
    {
     "name": "stdout",
     "output_type": "stream",
     "text": [
      "24000 TRAIN 4.444 cind: 0.798 \t TEST ae-corr: 0.021 \tcind: 0.591 [979, 677, 0]\n"
     ]
    },
    {
     "name": "stdout",
     "output_type": "stream",
     "text": [
      "24400 TRAIN 4.439 cind: 0.799 \t TEST ae-corr: 0.02 \tcind: 0.589 [976, 680, 0]\n"
     ]
    },
    {
     "name": "stdout",
     "output_type": "stream",
     "text": [
      "24800 TRAIN 4.433 cind: 0.8 \t TEST ae-corr: 0.022 \tcind: 0.59 [977, 679, 0]\n"
     ]
    },
    {
     "name": "stdout",
     "output_type": "stream",
     "text": [
      "25200 TRAIN 4.428 cind: 0.801 \t TEST ae-corr: 0.0 \tcind: 0.589 [975, 681, 0]\n"
     ]
    },
    {
     "name": "stdout",
     "output_type": "stream",
     "text": [
      "25600 TRAIN 4.422 cind: 0.802 \t TEST ae-corr: 0.041 \tcind: 0.589 [975, 681, 0]\n"
     ]
    },
    {
     "name": "stdout",
     "output_type": "stream",
     "text": [
      "26000 TRAIN 4.417 cind: 0.803 \t TEST ae-corr: -0.02 \tcind: 0.59 [977, 679, 0]\n"
     ]
    },
    {
     "name": "stdout",
     "output_type": "stream",
     "text": [
      "26400 TRAIN 4.411 cind: 0.804 \t TEST ae-corr: -0.019 \tcind: 0.589 [975, 681, 0]\n"
     ]
    },
    {
     "name": "stdout",
     "output_type": "stream",
     "text": [
      "26800 TRAIN 4.406 cind: 0.805 \t TEST ae-corr: -0.034 \tcind: 0.588 [974, 682, 0]\n"
     ]
    },
    {
     "name": "stdout",
     "output_type": "stream",
     "text": [
      "27200 TRAIN 4.401 cind: 0.805 \t TEST ae-corr: 0.003 \tcind: 0.588 [973, 683, 0]\n"
     ]
    },
    {
     "name": "stdout",
     "output_type": "stream",
     "text": [
      "27600 TRAIN 4.396 cind: 0.807 \t TEST ae-corr: 0.011 \tcind: 0.589 [975, 681, 0]\n"
     ]
    },
    {
     "name": "stdout",
     "output_type": "stream",
     "text": [
      "28000 TRAIN 4.39 cind: 0.807 \t TEST ae-corr: -0.001 \tcind: 0.589 [976, 680, 0]\n"
     ]
    },
    {
     "name": "stdout",
     "output_type": "stream",
     "text": [
      "28400 TRAIN 4.385 cind: 0.808 \t TEST ae-corr: 0.033 \tcind: 0.591 [978, 678, 0]\n"
     ]
    },
    {
     "name": "stdout",
     "output_type": "stream",
     "text": [
      "28800 TRAIN 4.38 cind: 0.809 \t TEST ae-corr: -0.016 \tcind: 0.59 [977, 679, 0]\n"
     ]
    },
    {
     "name": "stdout",
     "output_type": "stream",
     "text": [
      "29200 TRAIN 4.375 cind: 0.811 \t TEST ae-corr: -0.04 \tcind: 0.592 [980, 676, 0]\n"
     ]
    },
    {
     "name": "stdout",
     "output_type": "stream",
     "text": [
      "29600 TRAIN 4.37 cind: 0.811 \t TEST ae-corr: 0.016 \tcind: 0.591 [979, 677, 0]\n"
     ]
    },
    {
     "name": "stdout",
     "output_type": "stream",
     "text": [
      "30000 TRAIN 4.365 cind: 0.812 \t TEST ae-corr: -0.025 \tcind: 0.592 [980, 676, 0]\n"
     ]
    }
   ],
   "source": [
    "train_x, train_y_t, train_y_e, NE_frac_tr, test_x, test_y_t, test_y_e, NE_frac_tst, params_dict = data_prep_pca(LAML;nepochs = 30_000, dim_redux = 125)\n",
    "venc = VariationalEncoder(size(train_x)[1], params_dict[\"dim_redux\"], 600)\n",
    "vdec = Decoder(size(train_x)[1], params_dict[\"dim_redux\"], 600)\n",
    "cphdnn = gpu(Chain(Dense(params_dict[\"dim_redux\"],512, leakyrelu), Dense(512,512, leakyrelu), Dense(512, 1, bias = false)))\n",
    "opt1 = Flux.ADAM(1e-7) ## opt VENC-CPHDNN\n",
    "opt2 = Flux.ADAM(1e-5) ## opt VAE\n",
    "wd = params_dict[\"cph_wd\"]\n",
    "opt = Flux.ADAM(params_dict[\"cph_lr\"])\n",
    "for i in 1:params_dict[\"nepochs\"]\n",
    "    ps1 = Flux.params(venc, cphdnn)\n",
    "    gs1 = gradient(ps1) do \n",
    "        VAE_COX_loss(venc, cphdnn, train_x, train_y_e, NE_frac_tr) + l2_penalty(cphdnn) * wd + l2_penalty(venc) * wd\n",
    "        #VAE_COX_loss(model[\"venc\"], model[\"cph\"], train_x, train_y_e, NE_frac_tr) + l2_penalty(model[\"venc\"]) * wd + l2_penalty(model[\"cph\"]) * wd \n",
    "    end \n",
    "    vaecox_loss =  round(VAE_COX_loss(venc, cphdnn, train_x, train_y_e, NE_frac_tr) + l2_penalty(cphdnn) * wd + l2_penalty(venc) * wd, digits = 3)  \n",
    "    OUTS_tr = cphdnn(venc(train_x)[1])\n",
    "    OUTS_tst = cphdnn(venc(test_x)[1])\n",
    "    \n",
    "    vae_loss =  round(VAE_lossf(venc, vdec, train_x) + l2_penalty(venc) * wd + l2_penalty(vdec) * wd, digits = 3)  \n",
    "    VAE_test = round(my_cor(vec(test_x), vec(MyReconstruct(venc, vdec, test_x)[end])),digits = 3)\n",
    "\n",
    "    cind_tr, cdnt_tr, ddnt_tr, tied_tr  = concordance_index(train_y_t, train_y_e, -1 * OUTS_tr)\n",
    "    cind_test,cdnt_tst, ddnt_tst, tied_tst = concordance_index(test_y_t, test_y_e, -1 *OUTS_tst)\n",
    "    \n",
    "    if i%400 ==0 || i == 1\n",
    "    println(\"$i TRAIN $vaecox_loss cind: $(round(cind_tr, digits = 3)) \\t TEST ae-corr: $VAE_test \\tcind: $(round(cind_test, digits = 3)) [$(Int(cdnt_tst)), $(Int(ddnt_tst)), $(Int(tied_tst))]\")\n",
    "    end \n",
    "    Flux.update!(opt1,ps1, gs1)\n",
    "    #Flux.update!(opt2,ps2, gs2)\n",
    "    params_dict[\"cph_tst_c_ind\"] = cind_test\n",
    "    params_dict[\"cph_train_c_ind\"] = cind_tr\n",
    "    params_dict[\"step\"] = i \n",
    "end"
   ]
  },
  {
   "cell_type": "code",
   "execution_count": null,
   "metadata": {},
   "outputs": [],
   "source": [
    "function validate_vaecox(DATA, params_dict;device = gpu)\n",
    "    nfolds, nepochs, dim_redux = 5, 1000, 125\n",
    "    keep = [occursin(\"protein_coding\", bt) for bt in DATA.biotypes]\n",
    "    # split train test\n",
    "    folds = split_train_test(Matrix(DATA.data[:,keep]), DATA.survt, DATA.surve, DATA.samples;nfolds =5)\n",
    "    fold = folds[1]\n",
    "\n",
    "    venc = VariationalEncoder(size(DATA.data[:,keep])[2], 125, 600)\n",
    "    vdec = Decoder(size(DATA.data[:,keep])[2], 125, 600)\n",
    "    VAE_opt = Flux.ADAM(1e-4)\n",
    "\n",
    "    cphdnn = device(Chain(Dense(size(DATA.data[:,keep])[2], 125, leakyrelu), Dense(125, 100,leakyrelu),Dense(100, 1)))\n",
    "    cphdnn_opt = Flux.ADAM(1e-5)\n",
    "\n",
    "    train_x, train_y_t, train_y_e, NE_frac_tr, test_x, test_y_t, test_y_e, NE_frac_tst = format_train_test(fold)\n",
    "    for i in 1:nepochs\n",
    "        ps1 = Flux.params(venc, vdec)\n",
    "        gs1 = gradient(ps1) do\n",
    "            VAE_lossf(venc, vdec, train_x)\n",
    "        end \n",
    "        VAE_loss = VAE_lossf(venc, vdec, train_x)\n",
    "        VAE_cor = round(my_cor(vec(train_x), vec(MyReconstruct(venc, vdec, train_x)[end])),digits = 3)\n",
    "        VAE_test = round(my_cor(vec(test_x), vec(MyReconstruct(venc, vdec, test_x)[end])),digits = 3)\n",
    "\n",
    "        ps2 = Flux.params(venc, cphdnn)\n",
    "        gs2 = gradient(ps2) do \n",
    "            cox_nll_vec(cphdnn, train_x, train_y_e, NE_frac_tr)\n",
    "            #VAE_COX_loss(venc, cphdnn, train_x, train_y_e, NE_frac_tr)\n",
    "        end \n",
    "        CPH_loss = round(cox_nll_vec(cphdnn, train_x, train_y_e, NE_frac_tr), digits = 3) #round(VAE_COX_loss(venc, cphdnn, train_x, train_y_e, NE_frac_tr), digits = 3)\n",
    "        #mu, log_sigma = venc(train_x)\n",
    "        #z = mu + device(randn(Float32, size(log_sigma))) .* exp.(log_sigma)\n",
    "        #OUTS_tr = vec(cphdnn(z))\n",
    "        OUTS_tr = cphdnn(train_x)\n",
    "        OUTS_tst =  cphdnn(test_x)\n",
    "        cind_tr, cdnt_tr, ddnt_tr, tied_tr  = concordance_index(train_y_t, train_y_e, OUTS_tr)\n",
    "        cind_test,cdnt_tst, ddnt_tst, tied_tst = concordance_index(test_y_t, test_y_e,OUTS_tst)\n",
    "        #Flux.update!(VAE_opt, ps1, gs1)\n",
    "        Flux.update!(cphdnn_opt, ps2, gs2)\n",
    "        if i % 100 == 0 || i == 1\n",
    "            println(\"$i TRAIN - VAE-loss-avg: $VAE_loss\\tVAE-cor: $VAE_cor CPH-loss: $CPH_loss CPH-cind: $(round(cind_tr,digits=3))\")\n",
    "            println(\"$i TEST - VAE-loss-avg: $VAE_test \\tVAE-cor: CPH-loss: CPH-cind: $(round(cind_test,digits=3)) [$(Int(cdnt_tst)), $(Int(ddnt_tst)), $(Int(tied_tst))]\")\n",
    "\n",
    "        end\n",
    "    end\n",
    "    return cphdnn\n",
    "end "
   ]
  },
  {
   "cell_type": "code",
   "execution_count": null,
   "metadata": {},
   "outputs": [],
   "source": [
    "cdnn = validate_vaecox(DATA, params_dict)"
   ]
  },
  {
   "cell_type": "code",
   "execution_count": null,
   "metadata": {},
   "outputs": [],
   "source": [
    "cdnn(DATA.data[])"
   ]
  },
  {
   "cell_type": "code",
   "execution_count": 96,
   "metadata": {},
   "outputs": [
    {
     "name": "stdout",
     "output_type": "stream",
     "text": [
      "nb genes : 14996\n",
      "nb patients : 300\n",
      "% uncensored : 0.7433333333333333\n"
     ]
    },
    {
     "name": "stdout",
     "output_type": "stream",
     "text": [
      "FOLD 1\t TRAIN AE-loss 0.994 \t AE-cor: 0.008\t cph-loss-avg: 0.020545 \t cph-cind: 0.611\n",
      "\t\tTEST AE-loss 0.991 \t AE-cor: 0.006\t cph-loss-avg: 0.058383 \t cph-cind: 0.515 [836, 788, 0]\n"
     ]
    },
    {
     "name": "stdout",
     "output_type": "stream",
     "text": [
      "FOLD 100\t TRAIN AE-loss 0.972 \t AE-cor: 0.004\t cph-loss-avg: 0.019126 \t cph-cind: 0.827\n",
      "\t\tTEST AE-loss 0.97 \t AE-cor: 0.002\t cph-loss-avg: 0.0563 \t cph-cind: 0.657 [1067, 557, 0]\n"
     ]
    },
    {
     "name": "stdout",
     "output_type": "stream",
     "text": [
      "FOLD 200\t TRAIN AE-loss 0.969 \t AE-cor: 0.004\t cph-loss-avg: 0.018949 \t cph-cind: 0.863\n",
      "\t\tTEST AE-loss 0.967 \t AE-cor: 0.002\t cph-loss-avg: 0.056367 \t cph-cind: 0.646 [1049, 575, 0]\n"
     ]
    },
    {
     "name": "stdout",
     "output_type": "stream",
     "text": [
      "FOLD 300\t TRAIN AE-loss 0.966 \t AE-cor: 0.004\t cph-loss-avg: 0.018913 \t cph-cind: 0.875\n",
      "\t\tTEST AE-loss 0.965 \t AE-cor: 0.002\t cph-loss-avg: 0.0564 \t cph-cind: 0.643 [1045, 579, 0]\n"
     ]
    },
    {
     "name": "stdout",
     "output_type": "stream",
     "text": [
      "FOLD 400\t TRAIN AE-loss 0.964 \t AE-cor: 0.004\t cph-loss-avg: 0.018904 \t cph-cind: 0.881\n",
      "\t\tTEST AE-loss 0.963 \t AE-cor: 0.002\t cph-loss-avg: 0.056483 \t cph-cind: 0.638 [1036, 588, 0]\n"
     ]
    },
    {
     "name": "stdout",
     "output_type": "stream",
     "text": [
      "FOLD 500\t TRAIN AE-loss 0.963 \t AE-cor: 0.005\t cph-loss-avg: 0.018899 \t cph-cind: 0.883\n",
      "\t\tTEST AE-loss 0.962 \t AE-cor: 0.003\t cph-loss-avg: 0.05645 \t cph-cind: 0.638 [1036, 588, 0]\n"
     ]
    },
    {
     "name": "stdout",
     "output_type": "stream",
     "text": [
      "FOLD 600\t TRAIN AE-loss 0.962 \t AE-cor: 0.005\t cph-loss-avg: 0.018898 \t cph-cind: 0.884\n",
      "\t\tTEST AE-loss 0.961 \t AE-cor: 0.003\t cph-loss-avg: 0.056433 \t cph-cind: 0.639 [1037, 587, 0]\n"
     ]
    },
    {
     "name": "stdout",
     "output_type": "stream",
     "text": [
      "FOLD 700\t TRAIN AE-loss 0.962 \t AE-cor: 0.005\t cph-loss-avg: 0.018897 \t cph-cind: 0.886\n",
      "\t\tTEST AE-loss 0.96 \t AE-cor: 0.004\t cph-loss-avg: 0.056417 \t cph-cind: 0.638 [1036, 588, 0]\n"
     ]
    },
    {
     "name": "stdout",
     "output_type": "stream",
     "text": [
      "FOLD 800\t TRAIN AE-loss 0.962 \t AE-cor: 0.005\t cph-loss-avg: 0.018899 \t cph-cind: 0.887\n",
      "\t\tTEST AE-loss 0.96 \t AE-cor: 0.004\t cph-loss-avg: 0.056417 \t cph-cind: 0.641 [1041, 583, 0]\n"
     ]
    },
    {
     "name": "stdout",
     "output_type": "stream",
     "text": [
      "FOLD 900\t TRAIN AE-loss 0.961 \t AE-cor: 0.005\t cph-loss-avg: 0.018896 \t cph-cind: 0.889\n",
      "\t\tTEST AE-loss 0.96 \t AE-cor: 0.004\t cph-loss-avg: 0.0564 \t cph-cind: 0.64 [1039, 585, 0]\n"
     ]
    },
    {
     "name": "stdout",
     "output_type": "stream",
     "text": [
      "FOLD 1000\t TRAIN AE-loss 0.961 \t AE-cor: 0.005\t cph-loss-avg: 0.018893 \t cph-cind: 0.892\n",
      "\t\tTEST AE-loss 0.96 \t AE-cor: 0.004\t cph-loss-avg: 0.0564 \t cph-cind: 0.64 [1040, 584, 0]\n"
     ]
    }
   ],
   "source": [
    "train_x, train_y_t, train_y_e, NE_frac_tr, test_x, test_y_t, test_y_e, NE_frac_tst, params_dict = data_prep(LAML)\n",
    "# create model \n",
    "model = build_aecox(params_dict)\n",
    "for iter in 1:params_dict[\"nepochs\"]\n",
    "    ps1 = Flux.params(model[\"cph\"].model, model[\"enc\"])\n",
    "    gs1 = gradient(ps1) do\n",
    "        model[\"cph\"].lossf(model[\"cph\"],model[\"enc\"], train_x, train_y_e, NE_frac_tr, params_dict[\"cph_wd\"])\n",
    "    end \n",
    "    ## gradient Auto-Encoder \n",
    "    ps2 = Flux.params(model[\"ae\"].net)\n",
    "    gs2 = gradient(ps2) do\n",
    "        model[\"ae\"].lossf(model[\"ae\"], train_x, train_x, weight_decay = params_dict[\"ae_wd\"])\n",
    "    end\n",
    "    Flux.update!(model[\"cph\"].opt, ps1, gs1)\n",
    "    #Flux.update!(model[\"ae\"].opt, ps2, gs2)\n",
    "\n",
    "    ######\n",
    "    OUTS_tr = vec(model[\"cph\"].model(model[\"enc\"](train_x)))\n",
    "    ae_loss = model[\"ae\"].lossf(model[\"ae\"], train_x, train_x, weight_decay = params_dict[\"ae_wd\"])\n",
    "    ae_cor =  round(my_cor(vec(train_x), vec(model[\"ae\"].net(train_x))),digits = 3)\n",
    "    cph_loss = model[\"cph\"].lossf(model[\"cph\"],model[\"enc\"](train_x), train_y_e, NE_frac_tr, params_dict[\"cph_wd\"])\n",
    "    ae_loss_test = round(model[\"ae\"].lossf(model[\"ae\"], test_x, test_x, weight_decay = params_dict[\"ae_wd\"]), digits = 3)\n",
    "    ae_cor_test = round(my_cor(vec(test_x), vec(model[\"ae\"].net(test_x))), digits= 3)\n",
    "    cph_loss_test = round(model[\"cph\"].lossf(model[\"cph\"],model[\"enc\"](test_x), test_y_e, NE_frac_tst, params_dict[\"cph_wd\"]), digits= 3)\n",
    "                    \n",
    "    OUTS_tst =  vec(model[\"cph\"].model(model[\"enc\"](test_x)))\n",
    "            \n",
    "    cind_tr, cdnt_tr, ddnt_tr, tied_tr  = concordance_index(train_y_t, train_y_e, OUTS_tr)\n",
    "    cind_test,cdnt_tst, ddnt_tst, tied_tst = concordance_index(test_y_t, test_y_e,OUTS_tst)\n",
    "    if iter % 100 == 0  || iter == 1     \n",
    "        println(\"FOLD $iter\\t TRAIN AE-loss $(round(ae_loss,digits =3)) \\t AE-cor: $(round(ae_cor, digits = 3))\\t cph-loss-avg: $(round(cph_loss / params_dict[\"nsamples_train\"],digits =6)) \\t cph-cind: $(round(cind_tr,digits =3))\")\n",
    "        println(\"\\t\\tTEST AE-loss $(round(ae_loss_test,digits =3)) \\t AE-cor: $(round(ae_cor_test, digits = 3))\\t cph-loss-avg: $(round(cph_loss_test / params_dict[\"nsamples_test\"],digits =6)) \\t cph-cind: $(round(cind_test,digits =3)) [$(Int(cdnt_tst)), $(Int(ddnt_tst)), $(Int(tied_tst))]\")\n",
    "    end\n",
    "    params_dict[\"cph_tst_c_ind\"] = concordance_index(test_y_t, test_y_e, OUTS_tst)[1]\n",
    "    params_dict[\"cph_train_c_ind\"] = concordance_index(train_y_t, train_y_e, OUTS_tr)[1]\n",
    "    params_dict[\"step\"] = iter \n",
    "end\n"
   ]
  },
  {
   "cell_type": "code",
   "execution_count": 140,
   "metadata": {},
   "outputs": [
    {
     "data": {
      "text/plain": [
       "AE_model(Chain(Dense(14996 => 3040, leakyrelu), Dense(3040 => 616, leakyrelu), Dense(616 => 125), Dense(125 => 616, leakyrelu), Dense(616 => 3040, leakyrelu), Dense(3040 => 14996, leakyrelu)), Chain(Dense(14996 => 3040, leakyrelu), Dense(3040 => 616, leakyrelu), Dense(616 => 125)), Chain(Dense(125 => 616, leakyrelu), Dense(616 => 3040, leakyrelu), Dense(3040 => 14996, leakyrelu)), Dense(3040 => 14996, leakyrelu), Adam(1.0e-6, (0.9, 0.999), 1.0e-8, IdDict{Any, Any}()), mse_l2)"
      ]
     },
     "metadata": {},
     "output_type": "display_data"
    }
   ],
   "source": [
    "model = build_aecox(params_dict)\n",
    "model[\"ae\"]"
   ]
  },
  {
   "cell_type": "code",
   "execution_count": 99,
   "metadata": {},
   "outputs": [],
   "source": [
    "#params_dict[\"cph_tst_c_ind\"] = concordance_index(test_y_t, test_y_e, OUTS_tst)[1]\n",
    "#params_dict[\"cph_train_c_ind\"] = concordance_index(train_y_t, train_y_e, OUTS_tr)[1]\n",
    "#params_dict[\"ae_tst_corr\"] = my_cor(ae_outs_test, x_test)\n",
    "#params_dict[\"ae_train_corr\"] = my_cor(ae_outs_train, x_train)\n",
    "\n",
    "#params_dict[\"model_cv_complete\"] = true\n",
    "model_params_path = \"$(params_dict[\"session_id\"])/$(params_dict[\"model_type\"])_$(params_dict[\"modelid\"])\"\n",
    "mkdir(\"RES/$model_params_path\")\n",
    "bson(\"RES/$model_params_path/params.bson\",params_dict)"
   ]
  },
  {
   "cell_type": "code",
   "execution_count": null,
   "metadata": {},
   "outputs": [],
   "source": []
  },
  {
   "cell_type": "markdown",
   "metadata": {},
   "source": [
    "### Figures  "
   ]
  },
  {
   "cell_type": "code",
   "execution_count": 5,
   "metadata": {},
   "outputs": [],
   "source": [
    "function gather_params(basedir=\".\")\n",
    "    df = DataFrame()\n",
    "    for (root, dirs, files) in walkdir(basedir)\n",
    "        for file in files\n",
    "            if file == \"params.bson\"\n",
    "                # println(\"Loading $root/$file\")\n",
    "                d = BSON.load(\"$root/$file\")\n",
    "                push!(df, d, cols=:union)\n",
    "            end\n",
    "        end\n",
    "    end\n",
    "    return df\n",
    "end\n",
    "\n",
    "df = gather_params(\"RES/\");\n"
   ]
  },
  {
   "cell_type": "code",
   "execution_count": 8,
   "metadata": {},
   "outputs": [
    {
     "data": {
      "text/html": [
       "<div><div style = \"float: left;\"><span>1550×33 DataFrame</span></div><div style = \"float: right;\"><span style = \"font-style: italic;\">1525 rows omitted</span></div><div style = \"clear: both;\"></div></div><div class = \"data-frame\" style = \"overflow-x: scroll;\"><table class = \"data-frame\" style = \"margin-bottom: 6px;\"><thead><tr class = \"header\"><th class = \"rowNumber\" style = \"font-weight: bold; text-align: right;\">Row</th><th style = \"text-align: left;\">ae_lr</th><th style = \"text-align: left;\">dim_redux</th><th style = \"text-align: left;\">ae_nb_hls</th><th style = \"text-align: left;\">nsamples</th><th style = \"text-align: left;\">cph_wd</th><th style = \"text-align: left;\">cph_hl_size</th><th style = \"text-align: left;\">nepochs</th><th style = \"text-align: left;\">venc_nb_hl</th><th style = \"text-align: left;\">venc_hl_size</th><th style = \"text-align: left;\">nsamples_test</th><th style = \"text-align: left;\">nfolds</th><th style = \"text-align: left;\">cph_lr</th><th style = \"text-align: left;\">enc_nb_hl</th><th style = \"text-align: left;\">enc_hl_size</th><th style = \"text-align: left;\">dec_nb_hl</th><th style = \"text-align: left;\">session_id</th><th style = \"text-align: left;\">device</th><th style = \"text-align: left;\">dec_hl_size</th><th style = \"text-align: left;\">cph_nb_hl</th><th style = \"text-align: left;\">machine_id</th><th style = \"text-align: left;\">step</th><th style = \"text-align: left;\">nsamples_train</th><th style = \"text-align: left;\">modelid</th><th style = \"text-align: left;\">ae_wd</th><th style = \"text-align: left;\">ngenes</th><th style = \"text-align: left;\">dataset</th><th style = \"text-align: left;\">cph_tst_c_ind</th><th style = \"text-align: left;\">model_title</th><th style = \"text-align: left;\">nb_clinf</th><th style = \"text-align: left;\">model_cv_complete</th><th style = \"text-align: left;\">insize</th><th style = \"text-align: left;\">model_type</th><th style = \"text-align: left;\">cph_train_c_ind</th></tr><tr class = \"subheader headerLastRow\"><th class = \"rowNumber\" style = \"font-weight: bold; text-align: right;\"></th><th title = \"Float64\" style = \"text-align: left;\">Float64</th><th title = \"Int64\" style = \"text-align: left;\">Int64</th><th title = \"Int64\" style = \"text-align: left;\">Int64</th><th title = \"Int64\" style = \"text-align: left;\">Int64</th><th title = \"Float64\" style = \"text-align: left;\">Float64</th><th title = \"Int64\" style = \"text-align: left;\">Int64</th><th title = \"Int64\" style = \"text-align: left;\">Int64</th><th title = \"Int64\" style = \"text-align: left;\">Int64</th><th title = \"Int64\" style = \"text-align: left;\">Int64</th><th title = \"Int64\" style = \"text-align: left;\">Int64</th><th title = \"Int64\" style = \"text-align: left;\">Int64</th><th title = \"Float64\" style = \"text-align: left;\">Float64</th><th title = \"Int64\" style = \"text-align: left;\">Int64</th><th title = \"Int64\" style = \"text-align: left;\">Int64</th><th title = \"Int64\" style = \"text-align: left;\">Int64</th><th title = \"String\" style = \"text-align: left;\">String</th><th title = \"String\" style = \"text-align: left;\">String</th><th title = \"Int64\" style = \"text-align: left;\">Int64</th><th title = \"Int64\" style = \"text-align: left;\">Int64</th><th title = \"SubString{String}\" style = \"text-align: left;\">SubStrin…</th><th title = \"Int64\" style = \"text-align: left;\">Int64</th><th title = \"Int64\" style = \"text-align: left;\">Int64</th><th title = \"String\" style = \"text-align: left;\">String</th><th title = \"Float64\" style = \"text-align: left;\">Float64</th><th title = \"Int64\" style = \"text-align: left;\">Int64</th><th title = \"String\" style = \"text-align: left;\">String</th><th title = \"Float64\" style = \"text-align: left;\">Float64</th><th title = \"String\" style = \"text-align: left;\">String</th><th title = \"Int64\" style = \"text-align: left;\">Int64</th><th title = \"Bool\" style = \"text-align: left;\">Bool</th><th title = \"Int64\" style = \"text-align: left;\">Int64</th><th title = \"String\" style = \"text-align: left;\">String</th><th title = \"Float64\" style = \"text-align: left;\">Float64</th></tr></thead><tbody><tr><td class = \"rowNumber\" style = \"font-weight: bold; text-align: right;\">1</td><td style = \"text-align: right;\">1.0e-6</td><td style = \"text-align: right;\">125</td><td style = \"text-align: right;\">2</td><td style = \"text-align: right;\">300</td><td style = \"text-align: right;\">0.0001</td><td style = \"text-align: right;\">64</td><td style = \"text-align: right;\">2000</td><td style = \"text-align: right;\">2</td><td style = \"text-align: right;\">128</td><td style = \"text-align: right;\">60</td><td style = \"text-align: right;\">5</td><td style = \"text-align: right;\">1.0e-5</td><td style = \"text-align: right;\">2</td><td style = \"text-align: right;\">128</td><td style = \"text-align: right;\">2</td><td style = \"text-align: left;\">2024-01-11T14:57:09.420</td><td style = \"text-align: left;\">CuDevice(1)</td><td style = \"text-align: right;\">128</td><td style = \"text-align: right;\">2</td><td style = \"text-align: left;\">smaug.iric.ca</td><td style = \"text-align: right;\">2000</td><td style = \"text-align: right;\">240</td><td style = \"text-align: left;\">000897bf5700c5ecc4907</td><td style = \"text-align: right;\">1.0e-6</td><td style = \"text-align: right;\">14996</td><td style = \"text-align: left;\">BRCA_data(norm=true)</td><td style = \"text-align: right;\">0.697749</td><td style = \"text-align: left;\">AECPHDNN</td><td style = \"text-align: right;\">0</td><td style = \"text-align: right;\">false</td><td style = \"text-align: right;\">14996</td><td style = \"text-align: left;\">cphdnn_v5</td><td style = \"text-align: right;\">0.79831</td></tr><tr><td class = \"rowNumber\" style = \"font-weight: bold; text-align: right;\">2</td><td style = \"text-align: right;\">1.0e-6</td><td style = \"text-align: right;\">125</td><td style = \"text-align: right;\">2</td><td style = \"text-align: right;\">300</td><td style = \"text-align: right;\">0.0001</td><td style = \"text-align: right;\">64</td><td style = \"text-align: right;\">2000</td><td style = \"text-align: right;\">2</td><td style = \"text-align: right;\">128</td><td style = \"text-align: right;\">60</td><td style = \"text-align: right;\">5</td><td style = \"text-align: right;\">1.0e-5</td><td style = \"text-align: right;\">2</td><td style = \"text-align: right;\">128</td><td style = \"text-align: right;\">2</td><td style = \"text-align: left;\">2024-01-11T14:57:09.420</td><td style = \"text-align: left;\">CuDevice(1)</td><td style = \"text-align: right;\">128</td><td style = \"text-align: right;\">2</td><td style = \"text-align: left;\">smaug.iric.ca</td><td style = \"text-align: right;\">2000</td><td style = \"text-align: right;\">240</td><td style = \"text-align: left;\">05b507f41ebb8a933dd0d</td><td style = \"text-align: right;\">1.0e-6</td><td style = \"text-align: right;\">14996</td><td style = \"text-align: left;\">BRCA_data(norm=true)</td><td style = \"text-align: right;\">0.657244</td><td style = \"text-align: left;\">AECPHDNN</td><td style = \"text-align: right;\">0</td><td style = \"text-align: right;\">false</td><td style = \"text-align: right;\">14996</td><td style = \"text-align: left;\">cphdnn_v5</td><td style = \"text-align: right;\">0.794915</td></tr><tr><td class = \"rowNumber\" style = \"font-weight: bold; text-align: right;\">3</td><td style = \"text-align: right;\">1.0e-6</td><td style = \"text-align: right;\">125</td><td style = \"text-align: right;\">2</td><td style = \"text-align: right;\">300</td><td style = \"text-align: right;\">0.0001</td><td style = \"text-align: right;\">64</td><td style = \"text-align: right;\">2000</td><td style = \"text-align: right;\">2</td><td style = \"text-align: right;\">128</td><td style = \"text-align: right;\">60</td><td style = \"text-align: right;\">5</td><td style = \"text-align: right;\">1.0e-5</td><td style = \"text-align: right;\">2</td><td style = \"text-align: right;\">128</td><td style = \"text-align: right;\">2</td><td style = \"text-align: left;\">2024-01-11T14:57:09.420</td><td style = \"text-align: left;\">CuDevice(1)</td><td style = \"text-align: right;\">128</td><td style = \"text-align: right;\">2</td><td style = \"text-align: left;\">smaug.iric.ca</td><td style = \"text-align: right;\">2000</td><td style = \"text-align: right;\">240</td><td style = \"text-align: left;\">06f28c0483450cc1e0392</td><td style = \"text-align: right;\">1.0e-6</td><td style = \"text-align: right;\">14996</td><td style = \"text-align: left;\">BRCA_data(norm=true)</td><td style = \"text-align: right;\">0.682057</td><td style = \"text-align: left;\">AECPHDNN</td><td style = \"text-align: right;\">0</td><td style = \"text-align: right;\">false</td><td style = \"text-align: right;\">14996</td><td style = \"text-align: left;\">cphdnn_v5</td><td style = \"text-align: right;\">0.80666</td></tr><tr><td class = \"rowNumber\" style = \"font-weight: bold; text-align: right;\">4</td><td style = \"text-align: right;\">1.0e-6</td><td style = \"text-align: right;\">125</td><td style = \"text-align: right;\">2</td><td style = \"text-align: right;\">300</td><td style = \"text-align: right;\">0.0001</td><td style = \"text-align: right;\">64</td><td style = \"text-align: right;\">2000</td><td style = \"text-align: right;\">2</td><td style = \"text-align: right;\">128</td><td style = \"text-align: right;\">60</td><td style = \"text-align: right;\">5</td><td style = \"text-align: right;\">1.0e-5</td><td style = \"text-align: right;\">2</td><td style = \"text-align: right;\">128</td><td style = \"text-align: right;\">2</td><td style = \"text-align: left;\">2024-01-11T14:57:09.420</td><td style = \"text-align: left;\">CuDevice(1)</td><td style = \"text-align: right;\">128</td><td style = \"text-align: right;\">2</td><td style = \"text-align: left;\">smaug.iric.ca</td><td style = \"text-align: right;\">2000</td><td style = \"text-align: right;\">240</td><td style = \"text-align: left;\">0fce75ca843c25eb74181</td><td style = \"text-align: right;\">1.0e-6</td><td style = \"text-align: right;\">14996</td><td style = \"text-align: left;\">BRCA_data(norm=true)</td><td style = \"text-align: right;\">0.662833</td><td style = \"text-align: left;\">AECPHDNN</td><td style = \"text-align: right;\">0</td><td style = \"text-align: right;\">false</td><td style = \"text-align: right;\">14996</td><td style = \"text-align: left;\">cphdnn_v5</td><td style = \"text-align: right;\">0.798735</td></tr><tr><td class = \"rowNumber\" style = \"font-weight: bold; text-align: right;\">5</td><td style = \"text-align: right;\">1.0e-6</td><td style = \"text-align: right;\">125</td><td style = \"text-align: right;\">2</td><td style = \"text-align: right;\">300</td><td style = \"text-align: right;\">0.0001</td><td style = \"text-align: right;\">64</td><td style = \"text-align: right;\">2000</td><td style = \"text-align: right;\">2</td><td style = \"text-align: right;\">128</td><td style = \"text-align: right;\">60</td><td style = \"text-align: right;\">5</td><td style = \"text-align: right;\">1.0e-5</td><td style = \"text-align: right;\">2</td><td style = \"text-align: right;\">128</td><td style = \"text-align: right;\">2</td><td style = \"text-align: left;\">2024-01-11T14:57:09.420</td><td style = \"text-align: left;\">CuDevice(1)</td><td style = \"text-align: right;\">128</td><td style = \"text-align: right;\">2</td><td style = \"text-align: left;\">smaug.iric.ca</td><td style = \"text-align: right;\">2000</td><td style = \"text-align: right;\">240</td><td style = \"text-align: left;\">11e90ef0bc8507e416fe4</td><td style = \"text-align: right;\">1.0e-6</td><td style = \"text-align: right;\">14996</td><td style = \"text-align: left;\">BRCA_data(norm=true)</td><td style = \"text-align: right;\">0.688312</td><td style = \"text-align: left;\">AECPHDNN</td><td style = \"text-align: right;\">0</td><td style = \"text-align: right;\">false</td><td style = \"text-align: right;\">14996</td><td style = \"text-align: left;\">cphdnn_v5</td><td style = \"text-align: right;\">0.788927</td></tr><tr><td class = \"rowNumber\" style = \"font-weight: bold; text-align: right;\">6</td><td style = \"text-align: right;\">1.0e-6</td><td style = \"text-align: right;\">125</td><td style = \"text-align: right;\">2</td><td style = \"text-align: right;\">300</td><td style = \"text-align: right;\">0.0001</td><td style = \"text-align: right;\">64</td><td style = \"text-align: right;\">2000</td><td style = \"text-align: right;\">2</td><td style = \"text-align: right;\">128</td><td style = \"text-align: right;\">60</td><td style = \"text-align: right;\">5</td><td style = \"text-align: right;\">1.0e-5</td><td style = \"text-align: right;\">2</td><td style = \"text-align: right;\">128</td><td style = \"text-align: right;\">2</td><td style = \"text-align: left;\">2024-01-11T14:57:09.420</td><td style = \"text-align: left;\">CuDevice(1)</td><td style = \"text-align: right;\">128</td><td style = \"text-align: right;\">2</td><td style = \"text-align: left;\">smaug.iric.ca</td><td style = \"text-align: right;\">2000</td><td style = \"text-align: right;\">240</td><td style = \"text-align: left;\">1b0685331fb8785251df0</td><td style = \"text-align: right;\">1.0e-6</td><td style = \"text-align: right;\">14996</td><td style = \"text-align: left;\">BRCA_data(norm=true)</td><td style = \"text-align: right;\">0.658243</td><td style = \"text-align: left;\">AECPHDNN</td><td style = \"text-align: right;\">0</td><td style = \"text-align: right;\">false</td><td style = \"text-align: right;\">14996</td><td style = \"text-align: left;\">cphdnn_v5</td><td style = \"text-align: right;\">0.806698</td></tr><tr><td class = \"rowNumber\" style = \"font-weight: bold; text-align: right;\">7</td><td style = \"text-align: right;\">1.0e-6</td><td style = \"text-align: right;\">125</td><td style = \"text-align: right;\">2</td><td style = \"text-align: right;\">300</td><td style = \"text-align: right;\">0.0001</td><td style = \"text-align: right;\">64</td><td style = \"text-align: right;\">2000</td><td style = \"text-align: right;\">2</td><td style = \"text-align: right;\">128</td><td style = \"text-align: right;\">60</td><td style = \"text-align: right;\">5</td><td style = \"text-align: right;\">1.0e-5</td><td style = \"text-align: right;\">2</td><td style = \"text-align: right;\">128</td><td style = \"text-align: right;\">2</td><td style = \"text-align: left;\">2024-01-11T14:57:09.420</td><td style = \"text-align: left;\">CuDevice(1)</td><td style = \"text-align: right;\">128</td><td style = \"text-align: right;\">2</td><td style = \"text-align: left;\">smaug.iric.ca</td><td style = \"text-align: right;\">2000</td><td style = \"text-align: right;\">240</td><td style = \"text-align: left;\">201d3bbb99fccafbaa1e7</td><td style = \"text-align: right;\">1.0e-6</td><td style = \"text-align: right;\">14996</td><td style = \"text-align: left;\">BRCA_data(norm=true)</td><td style = \"text-align: right;\">0.647647</td><td style = \"text-align: left;\">AECPHDNN</td><td style = \"text-align: right;\">0</td><td style = \"text-align: right;\">false</td><td style = \"text-align: right;\">14996</td><td style = \"text-align: left;\">cphdnn_v5</td><td style = \"text-align: right;\">0.802109</td></tr><tr><td class = \"rowNumber\" style = \"font-weight: bold; text-align: right;\">8</td><td style = \"text-align: right;\">1.0e-6</td><td style = \"text-align: right;\">125</td><td style = \"text-align: right;\">2</td><td style = \"text-align: right;\">300</td><td style = \"text-align: right;\">0.0001</td><td style = \"text-align: right;\">64</td><td style = \"text-align: right;\">2000</td><td style = \"text-align: right;\">2</td><td style = \"text-align: right;\">128</td><td style = \"text-align: right;\">60</td><td style = \"text-align: right;\">5</td><td style = \"text-align: right;\">1.0e-5</td><td style = \"text-align: right;\">2</td><td style = \"text-align: right;\">128</td><td style = \"text-align: right;\">2</td><td style = \"text-align: left;\">2024-01-11T14:57:09.420</td><td style = \"text-align: left;\">CuDevice(1)</td><td style = \"text-align: right;\">128</td><td style = \"text-align: right;\">2</td><td style = \"text-align: left;\">smaug.iric.ca</td><td style = \"text-align: right;\">2000</td><td style = \"text-align: right;\">240</td><td style = \"text-align: left;\">24a2aa2fb14d1100c3fa5</td><td style = \"text-align: right;\">1.0e-6</td><td style = \"text-align: right;\">14996</td><td style = \"text-align: left;\">BRCA_data(norm=true)</td><td style = \"text-align: right;\">0.705049</td><td style = \"text-align: left;\">AECPHDNN</td><td style = \"text-align: right;\">0</td><td style = \"text-align: right;\">false</td><td style = \"text-align: right;\">14996</td><td style = \"text-align: left;\">cphdnn_v5</td><td style = \"text-align: right;\">0.795363</td></tr><tr><td class = \"rowNumber\" style = \"font-weight: bold; text-align: right;\">9</td><td style = \"text-align: right;\">1.0e-6</td><td style = \"text-align: right;\">125</td><td style = \"text-align: right;\">2</td><td style = \"text-align: right;\">300</td><td style = \"text-align: right;\">0.0001</td><td style = \"text-align: right;\">64</td><td style = \"text-align: right;\">2000</td><td style = \"text-align: right;\">2</td><td style = \"text-align: right;\">128</td><td style = \"text-align: right;\">60</td><td style = \"text-align: right;\">5</td><td style = \"text-align: right;\">1.0e-5</td><td style = \"text-align: right;\">2</td><td style = \"text-align: right;\">128</td><td style = \"text-align: right;\">2</td><td style = \"text-align: left;\">2024-01-11T14:57:09.420</td><td style = \"text-align: left;\">CuDevice(1)</td><td style = \"text-align: right;\">128</td><td style = \"text-align: right;\">2</td><td style = \"text-align: left;\">smaug.iric.ca</td><td style = \"text-align: right;\">2000</td><td style = \"text-align: right;\">240</td><td style = \"text-align: left;\">25b8a7f255ec90f1b7214</td><td style = \"text-align: right;\">1.0e-6</td><td style = \"text-align: right;\">14996</td><td style = \"text-align: left;\">BRCA_data(norm=true)</td><td style = \"text-align: right;\">0.696203</td><td style = \"text-align: left;\">AECPHDNN</td><td style = \"text-align: right;\">0</td><td style = \"text-align: right;\">false</td><td style = \"text-align: right;\">14996</td><td style = \"text-align: left;\">cphdnn_v5</td><td style = \"text-align: right;\">0.784024</td></tr><tr><td class = \"rowNumber\" style = \"font-weight: bold; text-align: right;\">10</td><td style = \"text-align: right;\">1.0e-6</td><td style = \"text-align: right;\">125</td><td style = \"text-align: right;\">2</td><td style = \"text-align: right;\">300</td><td style = \"text-align: right;\">0.0001</td><td style = \"text-align: right;\">64</td><td style = \"text-align: right;\">2000</td><td style = \"text-align: right;\">2</td><td style = \"text-align: right;\">128</td><td style = \"text-align: right;\">60</td><td style = \"text-align: right;\">5</td><td style = \"text-align: right;\">1.0e-5</td><td style = \"text-align: right;\">2</td><td style = \"text-align: right;\">128</td><td style = \"text-align: right;\">2</td><td style = \"text-align: left;\">2024-01-11T14:57:09.420</td><td style = \"text-align: left;\">CuDevice(1)</td><td style = \"text-align: right;\">128</td><td style = \"text-align: right;\">2</td><td style = \"text-align: left;\">smaug.iric.ca</td><td style = \"text-align: right;\">2000</td><td style = \"text-align: right;\">240</td><td style = \"text-align: left;\">28562392467c46150e5b7</td><td style = \"text-align: right;\">1.0e-6</td><td style = \"text-align: right;\">14996</td><td style = \"text-align: left;\">BRCA_data(norm=true)</td><td style = \"text-align: right;\">0.669702</td><td style = \"text-align: left;\">AECPHDNN</td><td style = \"text-align: right;\">0</td><td style = \"text-align: right;\">false</td><td style = \"text-align: right;\">14996</td><td style = \"text-align: left;\">cphdnn_v5</td><td style = \"text-align: right;\">0.777547</td></tr><tr><td class = \"rowNumber\" style = \"font-weight: bold; text-align: right;\">11</td><td style = \"text-align: right;\">1.0e-6</td><td style = \"text-align: right;\">125</td><td style = \"text-align: right;\">2</td><td style = \"text-align: right;\">300</td><td style = \"text-align: right;\">0.0001</td><td style = \"text-align: right;\">64</td><td style = \"text-align: right;\">2000</td><td style = \"text-align: right;\">2</td><td style = \"text-align: right;\">128</td><td style = \"text-align: right;\">60</td><td style = \"text-align: right;\">5</td><td style = \"text-align: right;\">1.0e-5</td><td style = \"text-align: right;\">2</td><td style = \"text-align: right;\">128</td><td style = \"text-align: right;\">2</td><td style = \"text-align: left;\">2024-01-11T14:57:09.420</td><td style = \"text-align: left;\">CuDevice(1)</td><td style = \"text-align: right;\">128</td><td style = \"text-align: right;\">2</td><td style = \"text-align: left;\">smaug.iric.ca</td><td style = \"text-align: right;\">2000</td><td style = \"text-align: right;\">240</td><td style = \"text-align: left;\">31d236112fd1ba7d12c97</td><td style = \"text-align: right;\">1.0e-6</td><td style = \"text-align: right;\">14996</td><td style = \"text-align: left;\">BRCA_data(norm=true)</td><td style = \"text-align: right;\">0.658566</td><td style = \"text-align: left;\">AECPHDNN</td><td style = \"text-align: right;\">0</td><td style = \"text-align: right;\">false</td><td style = \"text-align: right;\">14996</td><td style = \"text-align: left;\">cphdnn_v5</td><td style = \"text-align: right;\">0.791641</td></tr><tr><td class = \"rowNumber\" style = \"font-weight: bold; text-align: right;\">12</td><td style = \"text-align: right;\">1.0e-6</td><td style = \"text-align: right;\">125</td><td style = \"text-align: right;\">2</td><td style = \"text-align: right;\">300</td><td style = \"text-align: right;\">0.0001</td><td style = \"text-align: right;\">64</td><td style = \"text-align: right;\">2000</td><td style = \"text-align: right;\">2</td><td style = \"text-align: right;\">128</td><td style = \"text-align: right;\">60</td><td style = \"text-align: right;\">5</td><td style = \"text-align: right;\">1.0e-5</td><td style = \"text-align: right;\">2</td><td style = \"text-align: right;\">128</td><td style = \"text-align: right;\">2</td><td style = \"text-align: left;\">2024-01-11T14:57:09.420</td><td style = \"text-align: left;\">CuDevice(1)</td><td style = \"text-align: right;\">128</td><td style = \"text-align: right;\">2</td><td style = \"text-align: left;\">smaug.iric.ca</td><td style = \"text-align: right;\">2000</td><td style = \"text-align: right;\">240</td><td style = \"text-align: left;\">379847d38d325c62aa706</td><td style = \"text-align: right;\">1.0e-6</td><td style = \"text-align: right;\">14996</td><td style = \"text-align: left;\">BRCA_data(norm=true)</td><td style = \"text-align: right;\">0.687075</td><td style = \"text-align: left;\">AECPHDNN</td><td style = \"text-align: right;\">0</td><td style = \"text-align: right;\">false</td><td style = \"text-align: right;\">14996</td><td style = \"text-align: left;\">cphdnn_v5</td><td style = \"text-align: right;\">0.789783</td></tr><tr><td class = \"rowNumber\" style = \"font-weight: bold; text-align: right;\">13</td><td style = \"text-align: right;\">1.0e-6</td><td style = \"text-align: right;\">125</td><td style = \"text-align: right;\">2</td><td style = \"text-align: right;\">300</td><td style = \"text-align: right;\">0.0001</td><td style = \"text-align: right;\">64</td><td style = \"text-align: right;\">2000</td><td style = \"text-align: right;\">2</td><td style = \"text-align: right;\">128</td><td style = \"text-align: right;\">60</td><td style = \"text-align: right;\">5</td><td style = \"text-align: right;\">1.0e-5</td><td style = \"text-align: right;\">2</td><td style = \"text-align: right;\">128</td><td style = \"text-align: right;\">2</td><td style = \"text-align: left;\">2024-01-11T14:57:09.420</td><td style = \"text-align: left;\">CuDevice(1)</td><td style = \"text-align: right;\">128</td><td style = \"text-align: right;\">2</td><td style = \"text-align: left;\">smaug.iric.ca</td><td style = \"text-align: right;\">2000</td><td style = \"text-align: right;\">240</td><td style = \"text-align: left;\">390917eb2340a01a353ed</td><td style = \"text-align: right;\">1.0e-6</td><td style = \"text-align: right;\">14996</td><td style = \"text-align: left;\">BRCA_data(norm=true)</td><td style = \"text-align: right;\">0.664118</td><td style = \"text-align: left;\">AECPHDNN</td><td style = \"text-align: right;\">0</td><td style = \"text-align: right;\">false</td><td style = \"text-align: right;\">14996</td><td style = \"text-align: left;\">cphdnn_v5</td><td style = \"text-align: right;\">0.809022</td></tr><tr><td style = \"text-align: right;\">&vellip;</td><td style = \"text-align: right;\">&vellip;</td><td style = \"text-align: right;\">&vellip;</td><td style = \"text-align: right;\">&vellip;</td><td style = \"text-align: right;\">&vellip;</td><td style = \"text-align: right;\">&vellip;</td><td style = \"text-align: right;\">&vellip;</td><td style = \"text-align: right;\">&vellip;</td><td style = \"text-align: right;\">&vellip;</td><td style = \"text-align: right;\">&vellip;</td><td style = \"text-align: right;\">&vellip;</td><td style = \"text-align: right;\">&vellip;</td><td style = \"text-align: right;\">&vellip;</td><td style = \"text-align: right;\">&vellip;</td><td style = \"text-align: right;\">&vellip;</td><td style = \"text-align: right;\">&vellip;</td><td style = \"text-align: right;\">&vellip;</td><td style = \"text-align: right;\">&vellip;</td><td style = \"text-align: right;\">&vellip;</td><td style = \"text-align: right;\">&vellip;</td><td style = \"text-align: right;\">&vellip;</td><td style = \"text-align: right;\">&vellip;</td><td style = \"text-align: right;\">&vellip;</td><td style = \"text-align: right;\">&vellip;</td><td style = \"text-align: right;\">&vellip;</td><td style = \"text-align: right;\">&vellip;</td><td style = \"text-align: right;\">&vellip;</td><td style = \"text-align: right;\">&vellip;</td><td style = \"text-align: right;\">&vellip;</td><td style = \"text-align: right;\">&vellip;</td><td style = \"text-align: right;\">&vellip;</td><td style = \"text-align: right;\">&vellip;</td><td style = \"text-align: right;\">&vellip;</td><td style = \"text-align: right;\">&vellip;</td></tr><tr><td class = \"rowNumber\" style = \"font-weight: bold; text-align: right;\">1539</td><td style = \"text-align: right;\">1.0e-6</td><td style = \"text-align: right;\">125</td><td style = \"text-align: right;\">2</td><td style = \"text-align: right;\">513</td><td style = \"text-align: right;\">0.0001</td><td style = \"text-align: right;\">64</td><td style = \"text-align: right;\">15000</td><td style = \"text-align: right;\">2</td><td style = \"text-align: right;\">128</td><td style = \"text-align: right;\">103</td><td style = \"text-align: right;\">5</td><td style = \"text-align: right;\">1.0e-5</td><td style = \"text-align: right;\">2</td><td style = \"text-align: right;\">128</td><td style = \"text-align: right;\">2</td><td style = \"text-align: left;\">2024-01-23T12:43:25.214</td><td style = \"text-align: left;\">CuDevice(3)</td><td style = \"text-align: right;\">128</td><td style = \"text-align: right;\">2</td><td style = \"text-align: left;\">smaug.iric.ca</td><td style = \"text-align: right;\">15000</td><td style = \"text-align: right;\">410</td><td style = \"text-align: left;\">ec646132610353a15e377</td><td style = \"text-align: right;\">1.0e-6</td><td style = \"text-align: right;\">19962</td><td style = \"text-align: left;\">LGG</td><td style = \"text-align: right;\">0.84058</td><td style = \"text-align: left;\">AECPHDNN</td><td style = \"text-align: right;\">0</td><td style = \"text-align: right;\">false</td><td style = \"text-align: right;\">19962</td><td style = \"text-align: left;\">cox_ridge</td><td style = \"text-align: right;\">0.989182</td></tr><tr><td class = \"rowNumber\" style = \"font-weight: bold; text-align: right;\">1540</td><td style = \"text-align: right;\">1.0e-6</td><td style = \"text-align: right;\">125</td><td style = \"text-align: right;\">2</td><td style = \"text-align: right;\">420</td><td style = \"text-align: right;\">0.0001</td><td style = \"text-align: right;\">64</td><td style = \"text-align: right;\">15000</td><td style = \"text-align: right;\">2</td><td style = \"text-align: right;\">128</td><td style = \"text-align: right;\">84</td><td style = \"text-align: right;\">5</td><td style = \"text-align: right;\">1.0e-5</td><td style = \"text-align: right;\">2</td><td style = \"text-align: right;\">128</td><td style = \"text-align: right;\">2</td><td style = \"text-align: left;\">2024-01-23T12:43:25.214</td><td style = \"text-align: left;\">CuDevice(3)</td><td style = \"text-align: right;\">128</td><td style = \"text-align: right;\">2</td><td style = \"text-align: left;\">smaug.iric.ca</td><td style = \"text-align: right;\">15000</td><td style = \"text-align: right;\">336</td><td style = \"text-align: left;\">ed593ed446393d66e0eca</td><td style = \"text-align: right;\">1.0e-6</td><td style = \"text-align: right;\">19962</td><td style = \"text-align: left;\">OV</td><td style = \"text-align: right;\">0.52238</td><td style = \"text-align: left;\">AECPHDNN</td><td style = \"text-align: right;\">0</td><td style = \"text-align: right;\">false</td><td style = \"text-align: right;\">19962</td><td style = \"text-align: left;\">cox_ridge</td><td style = \"text-align: right;\">0.978396</td></tr><tr><td class = \"rowNumber\" style = \"font-weight: bold; text-align: right;\">1541</td><td style = \"text-align: right;\">1.0e-6</td><td style = \"text-align: right;\">125</td><td style = \"text-align: right;\">2</td><td style = \"text-align: right;\">1049</td><td style = \"text-align: right;\">0.0001</td><td style = \"text-align: right;\">64</td><td style = \"text-align: right;\">15000</td><td style = \"text-align: right;\">2</td><td style = \"text-align: right;\">128</td><td style = \"text-align: right;\">210</td><td style = \"text-align: right;\">5</td><td style = \"text-align: right;\">1.0e-5</td><td style = \"text-align: right;\">2</td><td style = \"text-align: right;\">128</td><td style = \"text-align: right;\">2</td><td style = \"text-align: left;\">2024-01-23T12:43:25.214</td><td style = \"text-align: left;\">CuDevice(3)</td><td style = \"text-align: right;\">128</td><td style = \"text-align: right;\">2</td><td style = \"text-align: left;\">smaug.iric.ca</td><td style = \"text-align: right;\">15000</td><td style = \"text-align: right;\">839</td><td style = \"text-align: left;\">efaf8d4765b62432b990f</td><td style = \"text-align: right;\">1.0e-6</td><td style = \"text-align: right;\">19962</td><td style = \"text-align: left;\">BRCA</td><td style = \"text-align: right;\">0.679591</td><td style = \"text-align: left;\">AECPHDNN</td><td style = \"text-align: right;\">0</td><td style = \"text-align: right;\">false</td><td style = \"text-align: right;\">19962</td><td style = \"text-align: left;\">cox_ridge</td><td style = \"text-align: right;\">0.993113</td></tr><tr><td class = \"rowNumber\" style = \"font-weight: bold; text-align: right;\">1542</td><td style = \"text-align: right;\">1.0e-6</td><td style = \"text-align: right;\">125</td><td style = \"text-align: right;\">2</td><td style = \"text-align: right;\">513</td><td style = \"text-align: right;\">0.0001</td><td style = \"text-align: right;\">64</td><td style = \"text-align: right;\">15000</td><td style = \"text-align: right;\">2</td><td style = \"text-align: right;\">128</td><td style = \"text-align: right;\">103</td><td style = \"text-align: right;\">5</td><td style = \"text-align: right;\">1.0e-5</td><td style = \"text-align: right;\">2</td><td style = \"text-align: right;\">128</td><td style = \"text-align: right;\">2</td><td style = \"text-align: left;\">2024-01-23T12:43:25.214</td><td style = \"text-align: left;\">CuDevice(3)</td><td style = \"text-align: right;\">128</td><td style = \"text-align: right;\">2</td><td style = \"text-align: left;\">smaug.iric.ca</td><td style = \"text-align: right;\">15000</td><td style = \"text-align: right;\">410</td><td style = \"text-align: left;\">f077b0c76fcf334e815cc</td><td style = \"text-align: right;\">1.0e-6</td><td style = \"text-align: right;\">19962</td><td style = \"text-align: left;\">LGG</td><td style = \"text-align: right;\">0.818468</td><td style = \"text-align: left;\">AECPHDNN</td><td style = \"text-align: right;\">0</td><td style = \"text-align: right;\">false</td><td style = \"text-align: right;\">19962</td><td style = \"text-align: left;\">cox_ridge</td><td style = \"text-align: right;\">0.988367</td></tr><tr><td class = \"rowNumber\" style = \"font-weight: bold; text-align: right;\">1543</td><td style = \"text-align: right;\">1.0e-6</td><td style = \"text-align: right;\">125</td><td style = \"text-align: right;\">2</td><td style = \"text-align: right;\">300</td><td style = \"text-align: right;\">0.0001</td><td style = \"text-align: right;\">64</td><td style = \"text-align: right;\">15000</td><td style = \"text-align: right;\">2</td><td style = \"text-align: right;\">128</td><td style = \"text-align: right;\">60</td><td style = \"text-align: right;\">5</td><td style = \"text-align: right;\">1.0e-5</td><td style = \"text-align: right;\">2</td><td style = \"text-align: right;\">128</td><td style = \"text-align: right;\">2</td><td style = \"text-align: left;\">2024-01-23T12:43:25.214</td><td style = \"text-align: left;\">CuDevice(3)</td><td style = \"text-align: right;\">128</td><td style = \"text-align: right;\">2</td><td style = \"text-align: left;\">smaug.iric.ca</td><td style = \"text-align: right;\">15000</td><td style = \"text-align: right;\">240</td><td style = \"text-align: left;\">f290ccc408172f0dbb4b9</td><td style = \"text-align: right;\">1.0e-6</td><td style = \"text-align: right;\">14996</td><td style = \"text-align: left;\">LAML</td><td style = \"text-align: right;\">0.632141</td><td style = \"text-align: left;\">AECPHDNN</td><td style = \"text-align: right;\">0</td><td style = \"text-align: right;\">false</td><td style = \"text-align: right;\">14996</td><td style = \"text-align: left;\">cox_ridge</td><td style = \"text-align: right;\">0.894152</td></tr><tr><td class = \"rowNumber\" style = \"font-weight: bold; text-align: right;\">1544</td><td style = \"text-align: right;\">1.0e-6</td><td style = \"text-align: right;\">125</td><td style = \"text-align: right;\">2</td><td style = \"text-align: right;\">1049</td><td style = \"text-align: right;\">0.0001</td><td style = \"text-align: right;\">64</td><td style = \"text-align: right;\">15000</td><td style = \"text-align: right;\">2</td><td style = \"text-align: right;\">128</td><td style = \"text-align: right;\">210</td><td style = \"text-align: right;\">5</td><td style = \"text-align: right;\">1.0e-5</td><td style = \"text-align: right;\">2</td><td style = \"text-align: right;\">128</td><td style = \"text-align: right;\">2</td><td style = \"text-align: left;\">2024-01-23T12:43:25.214</td><td style = \"text-align: left;\">CuDevice(3)</td><td style = \"text-align: right;\">128</td><td style = \"text-align: right;\">2</td><td style = \"text-align: left;\">smaug.iric.ca</td><td style = \"text-align: right;\">15000</td><td style = \"text-align: right;\">839</td><td style = \"text-align: left;\">f2e2ac058c3ce33d31bb8</td><td style = \"text-align: right;\">1.0e-6</td><td style = \"text-align: right;\">19962</td><td style = \"text-align: left;\">BRCA</td><td style = \"text-align: right;\">0.724055</td><td style = \"text-align: left;\">AECPHDNN</td><td style = \"text-align: right;\">0</td><td style = \"text-align: right;\">false</td><td style = \"text-align: right;\">19962</td><td style = \"text-align: left;\">cox_ridge</td><td style = \"text-align: right;\">0.993198</td></tr><tr><td class = \"rowNumber\" style = \"font-weight: bold; text-align: right;\">1545</td><td style = \"text-align: right;\">1.0e-6</td><td style = \"text-align: right;\">125</td><td style = \"text-align: right;\">2</td><td style = \"text-align: right;\">420</td><td style = \"text-align: right;\">0.0001</td><td style = \"text-align: right;\">64</td><td style = \"text-align: right;\">15000</td><td style = \"text-align: right;\">2</td><td style = \"text-align: right;\">128</td><td style = \"text-align: right;\">84</td><td style = \"text-align: right;\">5</td><td style = \"text-align: right;\">1.0e-5</td><td style = \"text-align: right;\">2</td><td style = \"text-align: right;\">128</td><td style = \"text-align: right;\">2</td><td style = \"text-align: left;\">2024-01-23T12:43:25.214</td><td style = \"text-align: left;\">CuDevice(3)</td><td style = \"text-align: right;\">128</td><td style = \"text-align: right;\">2</td><td style = \"text-align: left;\">smaug.iric.ca</td><td style = \"text-align: right;\">15000</td><td style = \"text-align: right;\">336</td><td style = \"text-align: left;\">f3fb68b08b00806f61519</td><td style = \"text-align: right;\">1.0e-6</td><td style = \"text-align: right;\">19962</td><td style = \"text-align: left;\">OV</td><td style = \"text-align: right;\">0.62339</td><td style = \"text-align: left;\">AECPHDNN</td><td style = \"text-align: right;\">0</td><td style = \"text-align: right;\">false</td><td style = \"text-align: right;\">19962</td><td style = \"text-align: left;\">cox_ridge</td><td style = \"text-align: right;\">0.978833</td></tr><tr><td class = \"rowNumber\" style = \"font-weight: bold; text-align: right;\">1546</td><td style = \"text-align: right;\">1.0e-6</td><td style = \"text-align: right;\">125</td><td style = \"text-align: right;\">2</td><td style = \"text-align: right;\">300</td><td style = \"text-align: right;\">0.0001</td><td style = \"text-align: right;\">64</td><td style = \"text-align: right;\">15000</td><td style = \"text-align: right;\">2</td><td style = \"text-align: right;\">128</td><td style = \"text-align: right;\">60</td><td style = \"text-align: right;\">5</td><td style = \"text-align: right;\">1.0e-5</td><td style = \"text-align: right;\">2</td><td style = \"text-align: right;\">128</td><td style = \"text-align: right;\">2</td><td style = \"text-align: left;\">2024-01-23T12:43:25.214</td><td style = \"text-align: left;\">CuDevice(3)</td><td style = \"text-align: right;\">128</td><td style = \"text-align: right;\">2</td><td style = \"text-align: left;\">smaug.iric.ca</td><td style = \"text-align: right;\">15000</td><td style = \"text-align: right;\">240</td><td style = \"text-align: left;\">f58a7b6ccba934d67ac8b</td><td style = \"text-align: right;\">1.0e-6</td><td style = \"text-align: right;\">14996</td><td style = \"text-align: left;\">LAML</td><td style = \"text-align: right;\">0.656585</td><td style = \"text-align: left;\">AECPHDNN</td><td style = \"text-align: right;\">0</td><td style = \"text-align: right;\">false</td><td style = \"text-align: right;\">14996</td><td style = \"text-align: left;\">cox_ridge</td><td style = \"text-align: right;\">0.891567</td></tr><tr><td class = \"rowNumber\" style = \"font-weight: bold; text-align: right;\">1547</td><td style = \"text-align: right;\">1.0e-6</td><td style = \"text-align: right;\">125</td><td style = \"text-align: right;\">2</td><td style = \"text-align: right;\">300</td><td style = \"text-align: right;\">0.0001</td><td style = \"text-align: right;\">64</td><td style = \"text-align: right;\">15000</td><td style = \"text-align: right;\">2</td><td style = \"text-align: right;\">128</td><td style = \"text-align: right;\">60</td><td style = \"text-align: right;\">5</td><td style = \"text-align: right;\">1.0e-5</td><td style = \"text-align: right;\">2</td><td style = \"text-align: right;\">128</td><td style = \"text-align: right;\">2</td><td style = \"text-align: left;\">2024-01-23T12:43:25.214</td><td style = \"text-align: left;\">CuDevice(3)</td><td style = \"text-align: right;\">128</td><td style = \"text-align: right;\">2</td><td style = \"text-align: left;\">smaug.iric.ca</td><td style = \"text-align: right;\">15000</td><td style = \"text-align: right;\">240</td><td style = \"text-align: left;\">f7dc66c1484f50b70a141</td><td style = \"text-align: right;\">1.0e-6</td><td style = \"text-align: right;\">14996</td><td style = \"text-align: left;\">LAML</td><td style = \"text-align: right;\">0.692757</td><td style = \"text-align: left;\">AECPHDNN</td><td style = \"text-align: right;\">0</td><td style = \"text-align: right;\">false</td><td style = \"text-align: right;\">14996</td><td style = \"text-align: left;\">cox_ridge</td><td style = \"text-align: right;\">0.896369</td></tr><tr><td class = \"rowNumber\" style = \"font-weight: bold; text-align: right;\">1548</td><td style = \"text-align: right;\">1.0e-6</td><td style = \"text-align: right;\">125</td><td style = \"text-align: right;\">2</td><td style = \"text-align: right;\">420</td><td style = \"text-align: right;\">0.0001</td><td style = \"text-align: right;\">64</td><td style = \"text-align: right;\">15000</td><td style = \"text-align: right;\">2</td><td style = \"text-align: right;\">128</td><td style = \"text-align: right;\">84</td><td style = \"text-align: right;\">5</td><td style = \"text-align: right;\">1.0e-5</td><td style = \"text-align: right;\">2</td><td style = \"text-align: right;\">128</td><td style = \"text-align: right;\">2</td><td style = \"text-align: left;\">2024-01-23T12:43:25.214</td><td style = \"text-align: left;\">CuDevice(3)</td><td style = \"text-align: right;\">128</td><td style = \"text-align: right;\">2</td><td style = \"text-align: left;\">smaug.iric.ca</td><td style = \"text-align: right;\">15000</td><td style = \"text-align: right;\">336</td><td style = \"text-align: left;\">fa3edc495dba796423d5d</td><td style = \"text-align: right;\">1.0e-6</td><td style = \"text-align: right;\">19962</td><td style = \"text-align: left;\">OV</td><td style = \"text-align: right;\">0.563636</td><td style = \"text-align: left;\">AECPHDNN</td><td style = \"text-align: right;\">0</td><td style = \"text-align: right;\">false</td><td style = \"text-align: right;\">19962</td><td style = \"text-align: left;\">cox_ridge</td><td style = \"text-align: right;\">0.977664</td></tr><tr><td class = \"rowNumber\" style = \"font-weight: bold; text-align: right;\">1549</td><td style = \"text-align: right;\">1.0e-6</td><td style = \"text-align: right;\">125</td><td style = \"text-align: right;\">2</td><td style = \"text-align: right;\">513</td><td style = \"text-align: right;\">0.0001</td><td style = \"text-align: right;\">64</td><td style = \"text-align: right;\">15000</td><td style = \"text-align: right;\">2</td><td style = \"text-align: right;\">128</td><td style = \"text-align: right;\">103</td><td style = \"text-align: right;\">5</td><td style = \"text-align: right;\">1.0e-5</td><td style = \"text-align: right;\">2</td><td style = \"text-align: right;\">128</td><td style = \"text-align: right;\">2</td><td style = \"text-align: left;\">2024-01-23T12:43:25.214</td><td style = \"text-align: left;\">CuDevice(3)</td><td style = \"text-align: right;\">128</td><td style = \"text-align: right;\">2</td><td style = \"text-align: left;\">smaug.iric.ca</td><td style = \"text-align: right;\">15000</td><td style = \"text-align: right;\">410</td><td style = \"text-align: left;\">fbbb275bf27953decb241</td><td style = \"text-align: right;\">1.0e-6</td><td style = \"text-align: right;\">19962</td><td style = \"text-align: left;\">LGG</td><td style = \"text-align: right;\">0.850178</td><td style = \"text-align: left;\">AECPHDNN</td><td style = \"text-align: right;\">0</td><td style = \"text-align: right;\">false</td><td style = \"text-align: right;\">19962</td><td style = \"text-align: left;\">cox_ridge</td><td style = \"text-align: right;\">0.986451</td></tr><tr><td class = \"rowNumber\" style = \"font-weight: bold; text-align: right;\">1550</td><td style = \"text-align: right;\">1.0e-6</td><td style = \"text-align: right;\">125</td><td style = \"text-align: right;\">2</td><td style = \"text-align: right;\">420</td><td style = \"text-align: right;\">0.0001</td><td style = \"text-align: right;\">64</td><td style = \"text-align: right;\">15000</td><td style = \"text-align: right;\">2</td><td style = \"text-align: right;\">128</td><td style = \"text-align: right;\">84</td><td style = \"text-align: right;\">5</td><td style = \"text-align: right;\">1.0e-5</td><td style = \"text-align: right;\">2</td><td style = \"text-align: right;\">128</td><td style = \"text-align: right;\">2</td><td style = \"text-align: left;\">2024-01-23T12:43:25.214</td><td style = \"text-align: left;\">CuDevice(3)</td><td style = \"text-align: right;\">128</td><td style = \"text-align: right;\">2</td><td style = \"text-align: left;\">smaug.iric.ca</td><td style = \"text-align: right;\">15000</td><td style = \"text-align: right;\">336</td><td style = \"text-align: left;\">ff3fd5606c56262001b5d</td><td style = \"text-align: right;\">1.0e-6</td><td style = \"text-align: right;\">19962</td><td style = \"text-align: left;\">OV</td><td style = \"text-align: right;\">0.594488</td><td style = \"text-align: left;\">AECPHDNN</td><td style = \"text-align: right;\">0</td><td style = \"text-align: right;\">false</td><td style = \"text-align: right;\">19962</td><td style = \"text-align: left;\">cox_ridge</td><td style = \"text-align: right;\">0.981728</td></tr></tbody></table></div>"
      ],
      "text/latex": [
       "\\begin{tabular}{r|ccccccccc}\n",
       "\t& ae\\_lr & dim\\_redux & ae\\_nb\\_hls & nsamples & cph\\_wd & cph\\_hl\\_size & nepochs & venc\\_nb\\_hl & \\\\\n",
       "\t\\hline\n",
       "\t& Float64 & Int64 & Int64 & Int64 & Float64 & Int64 & Int64 & Int64 & \\\\\n",
       "\t\\hline\n",
       "\t1 & 1.0e-6 & 125 & 2 & 300 & 0.0001 & 64 & 2000 & 2 & $\\dots$ \\\\\n",
       "\t2 & 1.0e-6 & 125 & 2 & 300 & 0.0001 & 64 & 2000 & 2 & $\\dots$ \\\\\n",
       "\t3 & 1.0e-6 & 125 & 2 & 300 & 0.0001 & 64 & 2000 & 2 & $\\dots$ \\\\\n",
       "\t4 & 1.0e-6 & 125 & 2 & 300 & 0.0001 & 64 & 2000 & 2 & $\\dots$ \\\\\n",
       "\t5 & 1.0e-6 & 125 & 2 & 300 & 0.0001 & 64 & 2000 & 2 & $\\dots$ \\\\\n",
       "\t6 & 1.0e-6 & 125 & 2 & 300 & 0.0001 & 64 & 2000 & 2 & $\\dots$ \\\\\n",
       "\t7 & 1.0e-6 & 125 & 2 & 300 & 0.0001 & 64 & 2000 & 2 & $\\dots$ \\\\\n",
       "\t8 & 1.0e-6 & 125 & 2 & 300 & 0.0001 & 64 & 2000 & 2 & $\\dots$ \\\\\n",
       "\t9 & 1.0e-6 & 125 & 2 & 300 & 0.0001 & 64 & 2000 & 2 & $\\dots$ \\\\\n",
       "\t10 & 1.0e-6 & 125 & 2 & 300 & 0.0001 & 64 & 2000 & 2 & $\\dots$ \\\\\n",
       "\t11 & 1.0e-6 & 125 & 2 & 300 & 0.0001 & 64 & 2000 & 2 & $\\dots$ \\\\\n",
       "\t12 & 1.0e-6 & 125 & 2 & 300 & 0.0001 & 64 & 2000 & 2 & $\\dots$ \\\\\n",
       "\t13 & 1.0e-6 & 125 & 2 & 300 & 0.0001 & 64 & 2000 & 2 & $\\dots$ \\\\\n",
       "\t14 & 1.0e-6 & 125 & 2 & 300 & 0.0001 & 64 & 2000 & 2 & $\\dots$ \\\\\n",
       "\t15 & 1.0e-6 & 125 & 2 & 300 & 0.0001 & 64 & 2000 & 2 & $\\dots$ \\\\\n",
       "\t16 & 1.0e-6 & 125 & 2 & 300 & 0.0001 & 64 & 2000 & 2 & $\\dots$ \\\\\n",
       "\t17 & 1.0e-6 & 125 & 2 & 300 & 0.0001 & 64 & 2000 & 2 & $\\dots$ \\\\\n",
       "\t18 & 1.0e-6 & 125 & 2 & 300 & 0.0001 & 64 & 2000 & 2 & $\\dots$ \\\\\n",
       "\t19 & 1.0e-6 & 125 & 2 & 300 & 0.0001 & 64 & 2000 & 2 & $\\dots$ \\\\\n",
       "\t20 & 1.0e-6 & 125 & 2 & 300 & 0.0001 & 64 & 2000 & 2 & $\\dots$ \\\\\n",
       "\t21 & 1.0e-6 & 125 & 2 & 300 & 0.0001 & 64 & 2000 & 2 & $\\dots$ \\\\\n",
       "\t22 & 1.0e-6 & 125 & 2 & 300 & 0.0001 & 64 & 2000 & 2 & $\\dots$ \\\\\n",
       "\t23 & 1.0e-6 & 125 & 2 & 300 & 0.0001 & 64 & 2000 & 2 & $\\dots$ \\\\\n",
       "\t24 & 1.0e-6 & 125 & 2 & 300 & 0.0001 & 64 & 2000 & 2 & $\\dots$ \\\\\n",
       "\t$\\dots$ & $\\dots$ & $\\dots$ & $\\dots$ & $\\dots$ & $\\dots$ & $\\dots$ & $\\dots$ & $\\dots$ &  \\\\\n",
       "\\end{tabular}\n"
      ],
      "text/plain": [
       "\u001b[1m1550×33 DataFrame\u001b[0m\n",
       "\u001b[1m  Row \u001b[0m│\u001b[1m ae_lr   \u001b[0m\u001b[1m dim_redux \u001b[0m\u001b[1m ae_nb_hls \u001b[0m\u001b[1m nsamples \u001b[0m\u001b[1m cph_wd  \u001b[0m\u001b[1m cph_hl_size \u001b[0m\u001b[1m nepochs\u001b[0m ⋯\n",
       "      │\u001b[90m Float64 \u001b[0m\u001b[90m Int64     \u001b[0m\u001b[90m Int64     \u001b[0m\u001b[90m Int64    \u001b[0m\u001b[90m Float64 \u001b[0m\u001b[90m Int64       \u001b[0m\u001b[90m Int64  \u001b[0m ⋯\n",
       "──────┼─────────────────────────────────────────────────────────────────────────\n",
       "    1 │  1.0e-6        125          2       300   0.0001           64     2000 ⋯\n",
       "    2 │  1.0e-6        125          2       300   0.0001           64     2000\n",
       "    3 │  1.0e-6        125          2       300   0.0001           64     2000\n",
       "    4 │  1.0e-6        125          2       300   0.0001           64     2000\n",
       "    5 │  1.0e-6        125          2       300   0.0001           64     2000 ⋯\n",
       "    6 │  1.0e-6        125          2       300   0.0001           64     2000\n",
       "    7 │  1.0e-6        125          2       300   0.0001           64     2000\n",
       "    8 │  1.0e-6        125          2       300   0.0001           64     2000\n",
       "  ⋮   │    ⋮         ⋮          ⋮         ⋮         ⋮          ⋮          ⋮    ⋱\n",
       " 1544 │  1.0e-6        125          2      1049   0.0001           64    15000 ⋯\n",
       " 1545 │  1.0e-6        125          2       420   0.0001           64    15000\n",
       " 1546 │  1.0e-6        125          2       300   0.0001           64    15000\n",
       " 1547 │  1.0e-6        125          2       300   0.0001           64    15000\n",
       " 1548 │  1.0e-6        125          2       420   0.0001           64    15000 ⋯\n",
       " 1549 │  1.0e-6        125          2       513   0.0001           64    15000\n",
       " 1550 │  1.0e-6        125          2       420   0.0001           64    15000\n",
       "\u001b[36m                                                26 columns and 1535 rows omitted\u001b[0m"
      ]
     },
     "metadata": {},
     "output_type": "display_data"
    }
   ],
   "source": [
    "unique(df.dataset)\n",
    "df"
   ]
  },
  {
   "cell_type": "code",
   "execution_count": 11,
   "metadata": {},
   "outputs": [
    {
     "name": "stderr",
     "output_type": "stream",
     "text": [
      "┌ Warning: Found `resolution` in the theme when creating a `Scene`. The `resolution` keyword for `Scene`s and `Figure`s has been deprecated. Use `Figure(; size = ...` or `Scene(; size = ...)` instead, which better reflects that this is a unitless size and not a pixel resolution. The key could also come from `set_theme!` calls or related theming functions.\n",
      "└ @ Makie /u/sauves/.local/share/julia_GenuineIntel/packages/Makie/fyNiH/src/scenes.jl:220\n"
     ]
    },
    {
     "data": {
      "image/png": "[encoded data removed]",
      "text/html": [
       "<img width=612 height=512 style='object-fit: contain;' src=\"data:image/png;base64, iVBORw0KGgoAAAANSUhEUgAABMgAAAQACAIAAACbF/KBAAAABmJLR0QA/wD/AP+gvaeTAAAgAElEQVR4nOzdZ0AU1/438N/Sm3QFFQVFKaJYsBGjqMTeEsVerxqvxhJL1GiEaNRYHk3sGjUxURGNImLvclXsQbEEJVKUjhQFFnFh2efF3Mx/7taZHaSY7+fVcOacmbPDzOz+5pw5R6JQKAgAAAAAAABAXwZVXQEAAAAAAACo2RBYAgAAAAAAgCgILAEAAAAAAEAUBJYAAAAAAAAgCgJLAAAAAAAAEAWBJQAAAAAAAIiCwBIAAAAAAABEQWAJAAAAAAAAoiCwBAAAAAAAAFEQWAIAAAAAAIAoCCwBAAAAAABAFASWAAAAAAAAIAoCSwAAAAAAABAFgSUAAAAAAACIgsASAAAAAAAAREFgCQAAAAAAAKIgsAQAAAAAAABREFgCAAAAAACAKAgsAQAAAAAAQBQElgAAAAAAACAKAksAAAAAAAAQBYElAAAAAAAAiILAEgAAAAAAAERBYAkAAAAAAACiILAEAAAAAAAAURBYAgAAAAAAgCgILAEAAAAAAEAUBJYAAAAAAAAgCgJLAAAAAAAAEAWBJQAAAAAAAIiCwBIAAAAAAABEQWAJAAAAAAAAoiCwBAAAAAAAAFEQWAIAAAAAAIAoCCwBAAAAAABAFASWAAAAAAAAIIpRVVcAQL379+/funUrKSkpKSmJiNzc3Nzc3Nq1a9e+ffuqrpoa+fn57dq1Y5bd3d3PnTtXCTstLCwMDQ1llp2cnD777LNK2On7c+HChYSEBGZ54MCB9erVo0o5sFXyv9OpetYKlKg9aaGq6HHVvL+7aGlpaXR09IULF16+fJmfn1+/fn0PDw8vL6+ePXsaGxur5g8NDS0sLFS7KRsbm6ZNmzZt2tTGxkZplVQq3bdvH/vn+PHjzc3NVbdw5MiRnJwcZrlr165eXl466x8WFvbmzRvVdFNTU1tb2wYNGrRq1crISM1vSKUq9erVq1GjRqrZzpw58+LFC2a5bdu2bdu2rZDi1RD/u0RaWtqJEyeYZRMTk4kTJ6rNlpube/jwYWZZIpFMmjRJ7T+iuLh479697J9ubm69e/fWtOujR49mZ2fr+ihERMbGxpMmTeKTk0vo5QA1mAKgmrl3716/fv00nbHdunWLioqq6joqe/XqFVtDT0/PytkpE3IzOnToUDk7fX+GDBnCfpwrV64wiZVwYKvkf6dT9awVKFF70kJV0eOqeU930b179zZo0EDtV1jjxo33799fXl6uVMTV1VXzL7X/GjJkSHJyMrdUSkoKN0NGRoba+rRs2ZLNs2vXLj4fwd3dXXtlrKyspk6dmp6erlRQqUo9e/ZUu33ut/y3335bUcWrIf53iTdv3piamrKZnz59qjbbrl272Dx+fn6atsY+MWE4OjqWlpZqyuzn56f9382ytLTk/dH/S4/LAWoudIWF6uXevXudOnU6deqUpgxXrlzp2rXr1q1bK7NW8AGYNm1ak7/98ccfVV0dgP+qKWdmTamnWpVW+bKysokTJ44bN04pQGIlJiaOGTNm0KBB5eXlQjceHh7u7e199+5d0dWsAEVFRTt27PDz83v8+LGWbOfPnz9+/LjeexFZvGaxtrbu1asX++fJkyfVZjt9+jS7PGLECE1bUwosc3JyLl++LLqOwrzXywGqJwSWUI3k5+cPHTr03bt3bIqfn9/QoUP79OnTtGlTbs7Zs2c/efKk0isINVhGRkbC396+fVvV1QH4r5pyZtaUeqpVaZWfPXv2nj17lBKdnZ1r1arFTTlx4kRwcLAe23/79u3nn39eVlamfxUrVEZGRv/+/TV14mXMnTuX+7UulMjiNcvw4cPZZbVP2EtLSy9evMgsSyQSbn6unJyc8+fPKyWGhYVVUDX5et+XA1RDCCyhGtm3b19ycjKz7OzsfP/+/Xv37v3++++nT5+Oj4+/fPmyk5MTs7asrGzz5s1VVlEVDg4O+X+rJo+TPwyVcGCr5/+uetYKoDqr8qvm4sWL3N40tWrV+uWXX9LT0zMyMgoKCmJjYz/55BN27ffff3/lyhW129mzZ0/G3xITE8+ePdu9e3d2bWxsbCU34u3YsYOtz6NHj3799dfOnTuza1+8eLF48WItxRMSEn744Qe99y6yeM0ycOBAMzMzZvn69euqr7leu3aNDeP9/f01dTE9dOiQ6tOHiIgIPiH6mjVrMjRLTEzk+Vkq6nKAmgWD90A1cvPmTXZ56dKlrVq14q7t1q3br7/+2qdPH+ZPbqeO4uLivLw8Ztna2tra2ppb8NWrV+zNtG7duoaGhkT07t079oUcCwsLe3t7IsrKyrp3717z5s1tbGyKioqYtbVq1VIaMqGsrCwzM5NZlkgk9evXLy8vZ/ObmpoyT+Nev34taCPctQqFIiMjIzk5OT093d7e3sXFxc3NzcTERPPB003tUXrw4EFiYmKtWrVatmxZp04dpSLaj5LSS0F5eXkPHjzIzc21sbHx9vbW9IXHyMzMfPDgQXFxsbu7O/f9HyVqD6ySsrKyBw8epKWlGRsbe3p6NmrUyMBAwCMzPrsgovj4+MTExIKCAltbW09PT7UvRKk9XGlpaQ8fPiwtLfXy8nJ3d2dOP71rVYG74OJ/DHmemSLrKeh/yufEE3Qma8LzpGVV4FUsdFM5OTkJCQmpqalOTk6NGjWqV6+eRCLRsn1BF692QnfNyMzMZH8HOzk5seN5yOXyjIwMZtnY2Jh9tkhE+fn5UqmUWbazs7O0tOR5LeuUnZ19//79d+/eeXt7u7u787+frFixgl12dna+ePGij48Pm+Lr63vixIkuXbqwQe/27du7deumuh1bW1tnZ2f2z0aNGnXt2rV58+bPnz9nUp48eTJ48GChn0tvNjY2bH2cnZ2bN28+atSoSZMmsaPs/Pzzz8uWLWMuK7W+//778ePH6z26lcjiLD7Xkch7l9C7hBIrK6s+ffpEREQQUWlp6fnz54cOHcrNcObMGXZZSz/Y/fv3s8sNGzZ8+fIlEb158+bMmTOffvqp9jpYW1tzTz+9VdTloPPLVyqV5ufns3/Wrl2b+6oq996idA+B96JK3/AE+B/ctwvCw8NVM5SUlLRp06Zly5YtW7bs1KkTm859l33hwoVKpTp06MCu/euvv5hE7rOxIUOGlJeXf/PNN8wXzL59+3766Sd2bb9+/ZQ2eOzYMXZt+/btFRpGgBC6EYZcLj9w4IC3t7fSperg4BAcHJyfn8/mFDrshNJRevLkia+vL5tiaGg4ZswYqVTKLaL9KLHZXr16FRQUpPRd2759+8uXL6tWo6ioaOzYsdzMvr6+sbGxakc40P4Zy8rK1qxZo/Qcwdraes2aNe/evWOzLV++3M/Pz9bWls3j6enp5+d36NAhPocxIiJCdVhCHx8f1U+ndLhyc3ODgoK4v0pdXV3PnDmj8z+lpVYVuAtBx1Ah5MwUU0/+9VEIOfF4nsmaCDpp+R8r7WemHoddoVBcunTpo48+Usrs6uq6fft21QPI8xjyqaceu+bijsXCvfn/5z//YdNtbW25g3xwG80uXbqk0HDVCLr8pVLp559/zh1js0WLFjdu3NBeeUZ8fDz3g2/cuFFtNnbYTyKqXbs2m879uRwREaFa8IsvvmAzjBw5kkmsnMF7wsLCVDO8fv3a0tKSzbN582a1VWKNHj2aW5zn4D1Ci2vC/zrS+94l9C6hCbfD6rhx45TWsh/BwMBA07+bHYSWiJo2bbplyxb2z2HDhqktwh28Z/v27TorqZPIy4HB88s3JSWF+5UxY8YMdtXDhw+5/7u1a9eK/2igHQJLqEYmT57MXv+dO3cuKCjgWVB8YMntybNv377c3Fz2kbm5uXlxcTF3g9OmTWMz//DDDwoNP2iEboSxaNEi0qxbt27swG5iAstx48bVrl1bdfutWrVKSUlhi2g/SkyeqKiounXrqq2tRCJhf20wkpOTudEsy9HRkZ0ngPgFlmlpaR07dtR0oFq1asUecE1jozN107KLoqIipafFSiZPnlxWVqb2cPXp00epyZ3FZ1hjPoGlyF0IOoYKIWem3vUUVB9BJx6fM1kToSct/2Ol/czU47Dv3r1bS+YePXpwT1f+x5BPPYXuWsmmTZvYzHPnzmXT165dy93Os2fPmPTS0lILCwsm0dLSkglc1V41/C//tm3bcvvmsczNzRMSErSfJAqFYufOnWwRR0dHpYd0rNLS0pCQkG/+xobcOgPLBQsWsBnGjx/PJFZhYKlQKP7973+zeYYOHaq2SiNHjmSXo6Oj2bI8A0uhxTXhfx3pd+/S4y6hSVFREXtu165dWy6Xs6u4p2v37t01beG7775js33zzTcZGRlscGVhYVFUVKRapMIDS5GXg9AvX+7ujI2Nnz9/zqRzz5N27dppvwtBhUBgCdUI97kaEdnY2EyZMiU0NDQxMVF7QZGBZcuWLbkzKTE/NPv378+mnDhxgrvBxo0bM+kGBgapqakKzWGAoI0oFIqoqChutzFHR8cWLVoo9f/ZuXMnk1lMYMnuxdTUVKmj2oABA9giOo+SVCrlVs/DwyMoKIj7I8bQ0DAuLo7doNLvNiMjI7VzWPEJLLk/OIjIwcGhcePG3GeTU6dOZXLq3WK5cOFC7i5MTEyaNm2q1LazadMmtYeLpdoPsEWLFjr/WXwCS5G7EHQMBZ2ZeteTf32Enng6z2QthJ60/I+VzpZAQYc9Pj6e2wGsVq1aH3/8MbfvGREFBwezn4v/MdRZT6G7VvXXX3+xOf39/dl0pYkl9+7dy6RzR3Zlb1kiWyxZqifqZ599pv0kUSgUn3/+OZtftYuKTjoDS6UX0phEpTCsffv2ndThNi1WYGDJHZfF1dVVbZWePn3KPsT08/NjwySegaXQ4moJuo70u3cJvUtoFxQUxBa5desWm859ZZF7v1XCnac0NjZWoVB06dKFTQkNDVUtwg0sZ86ceUazwsJCPh9B5OUg9MtXoVAEBgayq5iG2atXr3K38PjxY6HVAD0gsIRqpKSkRNPEzXZ2doGBgd988821a9dUnzmJDCwZ3t7eEyZMmDVrFtPxiTtUN/tzVvG/P4C6dOnCJGoKAwRtRKFQzJw5k01fuXIl+yW6fft2Nn3SpEnad6oJ9ygRkb29/YkTJ2QyWV5e3tKlS7mr7t69y/MoLVu2jF01a9YstsLc778hQ4Ywidz5yo2MjLZu3VpYWFhcXPzrr79yf5USj8Dy1q1b7Dd9rVq1Ll68yKTfuXOH+2IVG7ErFIpBgwax6deuXWPTNe0iLi6O+8tg0aJFb9++VSgURUVFU6ZMYdNtbW2zs7PVHq4WLVpcvny5uLg4Jyfnq6++4q7Ky8vT/s/iGViK2YWgYyjozNSvnoLqI+jEU60PqZzJmuhx0go9VprOTKGb4j6Ymz9/PnufvHnzJtsA4uXlxW5c6DHUUk+hu1aLjWRMTExKSkqYRKVf/9OnT2fSt23bxiZu27aNSdRyS+Rz+RORm5vbqVOniouLs7KyRo0axaardtJTNXDgQDb/F198oTO/Ei2BZVlZ2YYNG7j1PH78OLNKU8dRLSowsOReHaampmqrlJGRwf3q2b17N5ONZ2AptLhagq4jPe5detwltDt8+DBbZMmSJWx63759mURjY+Pc3Fy1ZbnPXDw8PJhE7hXKfXbM4j+P5aNHj/h8BDGXgx5fvgqFIikpycrKilklkUju3r3L7Zn/3XffCaoD6A2BJVQvz58/V/v2NpejoyP77cIQH1jOnz+f2+FE8b/dURo0aMCmc2/QOn/QCNqIQqEYNGiQq6urq6urh4eHTCZj07njsOmMZjVRCizPnTvHXcu9X7P9rHQeJTs7O2ZV7dq1mVs/KyAggC3ItHv07NmTTVm1ahU3s1Jjtc7Acvz48Wz61q1buZvi9gI6cOAA99iy6XwCS27HbKXXexQKBfcsXb58uerhsrS05HYqLi8v9/DwYNfevHlT5f/zP/gEliJ3IegYCjoz9aunoPoIOvEUPM5kTfQ4aYUeKy0Bm6BNcZsIlJ7lz507l2m56ty5M9udWOgx1FJPobtWa8aMGexGrl+/rlAomBFHiIgdb4OdDn7cuHFsZrZLi8jAUiKRPHjwgF3FvXsT0atXr7RUXvG/73yuXr1ae2ZV3MDS29ubbWxs06YN+59iNG/enA3dqzawfPjwIXfLzP9XNTKUy+Vt2rRh/qxTp87r168VQgJLQcXVEnQd6XHv0uMuoV1xcTHbyNy6dWsm8e3bt+bm5kxi3759NZWdO3cuuzs2KOX2hjUxMVF97FjhgaWYy0GPL18Gd7IAFxcXdrlly5bc/zu8VxgVFqoXd3f3y5cvnz59+vjx42fPnn3x4oVqnpycnMmTJ9+7d4/7uFEMJyenlStXKg39Z2lpOXDgwIMHDxJRSkpKbGws00mMnRvKyMiI219FLaEb4Y7owygpKXny5Mm6devYFLlcrten/B/NmzfnfhcS0ezZs9m3FP7880/VIqpHKTs7mx2KrU2bNuwgt2wKO/BGbGysl5cX+yvEzMyMOxAFEU2cOHHx4sUFBQU8688dGGDYsGHcVePGjWOHaFcaA0YQbi+aefPmKa2dM2cO+/vj2rVrqsXbtm3L/WKTSCQtWrRgq/369Wu9K1ZRuxB0DMWcmTzryb8+Qk88pfqovd410eOkrcCrWNCmuG0js2fPPnr0aP/+/fv27evt7b1+/Xql7Yg8hkoE7VqT3r17s7/Co6OjO3XqdPv2bebPESNG7Nu3Ly8v7+HDhyUlJWZmZuwqZtBgnrvQrnHjxtyewJaWlu7u7o8ePWL+fP36taOjo5bi3MFFRc67GBcXp2mVRCLZsGGDplFJO3furHas4Nu3b7Pj5TKePn26Y8cO1Zzjx49v3bo1z3pyZwSVSCSahik2MDDYuHEjE2lkZ2d/9913/M8K8cVJxCXJ895VgV9tDHNz8/79+x86dIiI7t+/n56eXq9evStXrrAHXNP0leXl5czvDQZ7I3V2du7UqRPzVSWTyY4eParp3WP+tJ9CYi4Hvb98p0+ffvjwYaZ4amoqk2hkZLRnzx61PZPhfUBgCdVR3759mS4fL1++jImJ+eOPP65fv37r1q2SkhI2z08//TRu3Dh/f3/xu2vevLnam86oUaPYe/SpU6datmxZWlrK3tG6d++udvwb8Rv566+/Tp8+HRUV9fDhw+Tk5PLycv0+lxYtWrRQSvH09DQxMZHJZETEHVOOpXqUuB16z507p+XnXUJCQkFBAfvj1c3NTSnkMzc3b9KkSUxMDM/6s8PuW1tbK/3ac3V15f5c0Bv74NzAwEDpbTEiat68ObvMtqtwqf4GZWcnqygid6HHMdTvzORZT/71iY6OZpd1nniqiZqud1ViTtoKvIp5bmrw4MFsYFZeXh4VFRUVFfXVV1+5urr27dt3wIABvXr1YsNpQRevzhoK2rUm3bp1MzU1ZX6D3rhxg4hu3brFrProo4+ePXt29uzZ0tLS+/fve3l5sT/ue/furbN6PKmeqNwWS524k22ovSeIV7du3V9//ZX7LpmS33//Xe1EEa1atYqNjeWmJCcnb9y4UTVnx44d+QeW6enp7LKNjY2WSTg+/vjjkSNHMuOdbt68mdvEzYfI4gw9Lkk+966K/WpjDRs2jAksiejUqVOff/75qVOn2DpomjLkypUr7D/Fy8uL+0U/dOhQNgwLCwvTElguWLBA6d1mLrYpW/spJOZy0PvLVyKR/Pzzz76+vtxHHgsXLuR/SoN4CCyhWmvYsGHDhg2Ze6hUKt25c+fChQtLS0uJSKFQnDlzpkICS+64Dly9e/e2t7dn5n48efLk4sWLb9y4wc5NrGUKKb038vbt27lz5/70008KhYKbbmxszHzqiqI6lZOBgUHt2rXT0tKIKC8vTyaTKT1+Vj1KatuT1WLmtdOydyLSNDqlKu48Y5r+dyLJ5XL2m8nOzk71STy3tqpzWFd/Qo/h+z4zBdVH0Imnmsj/nNHvpK3AYyVoU926ddu3b9/cuXPZI8l48eLF9u3bt2/f7u7ufuDAgfbt25PoYyhm15pYWFh06dLlwoULpBJY+vv7P3ny5OzZs0R0+/btN2/esAeEndm4ynGDc/6HVy1fX1/uA0djY2MvL69WrVoNGDBAy1yRlY97gXC7zqq1du3a48ePS6XS0tLSOXPmCJ1uV0zx93r7qsCvNq6+ffvWqlWL+anABJbsDJZ9+vTR1BmHO6xDeXk5t09pbm4uuxwVFZWVlaVpRsdGjRppGZ2bJ70vB5Ffvk2aNOnZs2dkZCTzp0Qi4Y5dDJUAgSVUF2/fvv3tt9+YZYlEMmXKFKVx2CwtLefMmfPq1atVq1YxKUoTJVU4Y2PjIUOGMK8m3r59Oycnh31H39TUVMsjPb03smTJErZviZmZWWBgYIcOHVq3bu3p6cl9tUM87pNmhlwuz87OZpbr1q3LZxr3OnXqsMsdO3bkvvSixMvLi9uhiJ3xnEupM54WpqambKyu9EO2ohgaGlpYWBQXFxNRXl4e0/uOm4GJwBl6z8NehYQew/d9Zgqqj6ATT0yt9DtpK/BYCd3UmDFjhg0bdvTo0cOHD587d04qlXLXJiQk9OjR4/nz57Vr167wY8h/11o20qtXLyawfPXqVVxcHNPO4+Li0qBBA/ZVeSawZJbNzc25r4NWrU6dOrHLV69eZbovqmZ78+ZN/fr12Rnbk5OTVdsYly1bpnMW++qAO8YM9+Or5eLi8vXXXwcHBxPR2bNnhUbIYoq/19tXBX61cZmZmQ0YMODAgQNEdPHixdjYWPaNUE0PtUtKSo4ePcr+GR8fr+k3klwuP3z4MPet5gon5nIQ8+V75cqV48ePs38qFIp58+b9/vvvoj8Q8IXAEqoLQ0ND7tSOnTt3btasmWo27teA6gjgRMTcj7i4tyGhRo4cycSE5eXlZ86cYWPC3r1782/34LmR0tJS9tVze3v7mJgYdjiH+/fv6/0R1Lp//75CoeAewNjYWPbZraenJ5+NcP8XdevWXbJkifb8jo6OOTk5RJScnJyXl8f9ZSCVSgU9JmjSpMmdO3eI6O3btykpKQ0aNOBuij1c9erVY6d1EapRo0ZPnjwhIoVCcf/+faW2ce7Ie9xRN2oQ/sewQYMGlXBm8q+P0BNPb0ynXEEnbQVexfptysTEZMSIESNGjCgpKbl48WJkZOSxY8eYj0BEBQUFv//++/Tp09/HMeS5ay1b6N27Nzvw5vbt25mGC2ZoR7a1886dO+zboV27dq3wHuZ6CwgIsLS0ZCJqmUy2YcMGpUk4GRcuXGCjbmtra7U9VyuBv7//zZs3VdObNm3KcwuxsbHcd+G0PJtgffXVVz///HNycjIRMU+RBNGv+Pv+YtXjLsHTsGHDmMBSKpWys5haWlpypzHjOnnyJP/uM2FhYSIDS+2nkJjLQe8vX6lUyozuy008fPjwkSNHdI6IARWF1+gFAJXAxMSE+2icGedNKY9CoWB7OBDnK5B7H7937x63yNWrV7k9VYQKCAhgH7Pt2bOH/R7i2Q9W0EYSExPZ0M7X15d7x+Q+hqwQf/31V3h4ODfl+++/Z5fVTvSsqkGDBuw7SLdv31Z6QT89PT3qb8wrE+x7DjKZTOkVvi1btrDdg/ng/iz+6aefuKu2bt3a+W9qZyTjqWvXruwy20jOKC8vX716Nftn9+7d9d5LFeJ/DCvnzORfH6EnnhhCT9oKPFaCNpWdnd3xb0z/NzMzs/79++/atSslJWXMmDFsTqb9pAKPodBda+Hj49OwYUNmmZ0jkQksHR0dmc51iYmJ169fZ1ZVn36wRGRjY8Mdq3bjxo0///yzUp6srKw5c+awf2qKECqBjY1NR3UcHBz4FI+JieFGkh4eHj169NBZyszMTMwL8PoVr4TbVwV+tXH17t2b7fLKDvg3YMAATa/+cvvB2tvb11eHzXDz5k2RbwJrP4XEXA56f/kuXLiQHee5e/fu7Hvd06dPZ59wwXtXBSPRAmiwfPly7snZuXPno0ePJiQkSKXStLS0c+fODRgwgF0rkUgePnzIFHz8+DG34Lx58/78889nz57t2LFD6eV7tdONcOdqU8W98TEsLCyKioq4eXTO/MFnI9y7vJWV1blz5969e1dcXLxr1y7uU/lOnTrx3KkSpelGzM3Nd+7cmZ6e/vjx4wkTJrDpJiYm7PD9Oo/S7Nmz2QwzZ85kR/R++fIl+11rYGDw559/KhQK9quR+fctWbLk+fPnycnJqkN06pxuhP1lSURGRkbbtm0rKioqLy8/ceIE+6UrkUgyMjLYItxex+Hh4Tr/d8nJydzv7/Hjx798+VKhUDx//pydTIyInJyc8vPz+Ryu0aNHs2vPnDmj/Z/FZ7oRkbvgfwyFnpn61VPQ/1TQiaezPloIPWn1OFaazkyhm2KfXhkYGISGhpaXlzPphYWF3Mk2Dh06xKQLPYaa6qnHrrVQHZflzp07zCrVx3nx8fHcslpuiUIvf4baqaq0SE9PVwrMgoKCtm3bdv369ePHjwcHB3MnDjE3N2e/whRa57HUQnVyDrXZuKPd6jHdyLBhw5b/bfbs2V26dFGanpF7SHVWSXVGMe3TjQgqrkrodaTHvUuPrzaexo4dq/Rhjx07pjZnfn4+9wWWx48fq83Gfc95zZo1bDp3upGBAwcu1yo6OppP5fW+HPT48lUoFFFRUWwnLAsLi/T0dO7RGzlyJM9jDiIhsIRqpLi4mP87UVOnTmULymQyniPO6xFY3r17V2kjw4cPV8qjM8bjsxGFQqH0ApKZmZnqEAX+/v48d6pEKbDUZObMmWwRnUcpPz+fG7rXrl3b39+f24mRiCZMmMDm//jjj/nUQWdgqVAoRo4cyS1iaGjIzvHFUJrRlNvtx8nJ6bPPPmMmGdeyi5UrVypVTPVR8f79+3keruoWWAo6hoLOTL3ryb8+Qk88vQNLhfCTVuix0nRmCt2U0uztDp60AMQAACAASURBVA4OPj4+TZo04Q6Ba2FhkZaWpt8x1FJPobvWQqkRydzcnI14f/jhB+6qxo0bK5XVci3rcfkrhAeWCoXixIkTPMcc3rt3L7dgdQ4stZs4caKgKj18+FDpNBYUWGovrpag60i/e5fQuwRPJ06c4Ba3sbEpKSlRm5OdLYyIvL29NW2Q2x+VnSFTIWQeS1KZq1N7/fW7HIR++UqlUu4ZGxwcrFAoXrx4wX0Coikmh4qFrrBQjZibm1+6dEnnGAAGBgaTJ0/mzoRrbGy8adMmtZm7du3aqlUrMbVq27ZtkyZNuCmC+sEK2siaNWu4f5aUlDCTay1atIh9FBcfH8+ddkU/Q4YMUTvkzKBBg1Rv6FrY2tqGhYWxrwm9evXq5s2b3F8GY8aM4X7hHTx4UO0XmKurq9ABwX/88Ufuo2vuUHKk7oNwe81lZWVFREToHKruq6++mjFjBveRM/cNXhMTk++++477O6PG4X8MK+fM5F8foSeeGEJPWqHHSsuZKWhTq1ev5m4qNzf3yZMnz58/Z/sBMs2JbOui0GOopZ5Cd61FYGCgkdH/jf7Qtm1b9ocpN8wjIm7bhU56XP766d+//4kTJ7hNMaqsrKzWrl2r2hhV4xgYGMyYMYPnI0tWixYtxAzUqUfxSrh9VeBXG1fPnj25AzF89tlnSm3FLOZtTIbSPMBcQ4YMYZfv37//vkdA1PtyEPrlu2jRInb86jp16syfP5+IGjZsyH2iNHXqVPb1bHiPqjqyBVDj4sWL3bp1U33QZWFhMWHChKdPn6otdenSJe6oM7Vq1frqq6/evn2r9qmzoBaMkJAQNrPaR4Z8Gg91boSxc+dO7nAOLVu2PH36tEKh4IbHc+fO5blTLu7X/8KFC+/cucOd5MrW1nbFihVsHzZBRyknJ2fMmDHcbkUSiaRbt25Hjx5V2qBCoWBer+dmDgwMzMzM5H7h8WmxVCgU5eXlW7Zs8fT0ZB8/M9NeHTlyRG09N2/ezB2pfPPmzXwOY3R0tL+/P/cbztjYuGfPnmwXQZ6Hqxq2WCqEHEP+Z6aYegr6n/I/8cS0WCoEnrRCj5VCw5mpx6ZKS0sPHTrUqVMnpQ54pqamY8eOjYmJEXMMtddTj11r0qVLF7Y4t99BcXEx90vh5MmTSgW1X8t6XP56tFgycnNzFyxYwL4vynJ0dPzyyy+zs7NVi9SUFksTE5PatWu3bdt2zpw53K68gqqUm5vLHRlBUIul9uKa8L+O9L53Cb1L8MR9UeXs2bNq86SkpHCH4nvy5ImWDXID3aVLlzKJ76nFkqHH5cDg+eV79epV7sffunUrd9fcyHzs2LGCag56kChUxkcBqCbKy8tTU1OTk5Pz8/Pr16/v6uqqfah6Rm5ubnx8vLm5uZeXV/UZMFAQuVyenJyckZHRoEGDChxxdPfu3ez7SwsXLmTegE9ISEhPT7e2tvb29uYzxYgWb9++jY+PLygoqFOnTsOGDZU6MSopKipinhA3atRIv2m+uN69e/fs2TO5XO7l5aV9v0RUWFhYUFBgbW1tZWWldmBhtV6/fp2UlFRYWGhjY+Pu7m5lZSWyztUNn2P4ns5MvevDEHTiiSHopNXjWGk6M/XYVFlZWUZGRlpamqGhoYuLi5OTk1K8p0TQMdR+BQnddSXT7/LXW3x8fGpqakFBgYuLS5MmTd7TvLvAR+Xcvir2q+0Do9/l8MF/+X5gEFgC/FOoDSwBAAAAAMSrRs8RAQAAAAAAoCZCYAkAAAAAAACi/OMCy/z8fB8fn2nTpulRtqCgYPPmzf369WvdunVAQMDs2bMfPXpU4TUEAAAAAACoWYx0Z/mwhIeH//nnnzznPOR6+PDhoEGDkpOT2ZSrV69u2bJl1apVzLjGAAAAAAAA/0z/rMF7Xr165efnl5KS0q9fv5MnT/IvmJOT06ZNm5SUFGNj4wEDBnTr1i0+Pj4iIiI1NZWI9u/fX6PnsoN/iOLi4ry8PGbZ2tra2tq6ausDAAAAAB+Mf0RgWV5e/vz589OnT2/cuJFpchQaWH711Vfr168nol9++eVf//oXk5iWltahQ4e0tLS6desmJibW0JktAAAAAAAARPrw37F8/vy5ubm5p6fnnDlzuB1Z+ZPJZDt37iSiUaNGsVElEdWvX3/37t1ElJGRER4eXkH1BQAAAAAAqGE+/MBSIpHUrVvX9W+mpqZCt/Cf//ynsLCQiCZOnKi0KjAw0MbGhohOnz5dIbUFAAAAAACocT78wNLd3T2Zo2PHjkK3cPfuXSIyNDT09/dXWmVsbNyrVy8iunPnToXUFgAAAAAAoMb58ANL8eLj44mofv36FhYWqmt9fHyIKDk5uaysrLJrBgAAAAAAUA0gsNQtMzOTiOrWrat2bb169YiorKzs1atXlVotAAAAAACA6uEfN4+lHqRSKRGpba4kInNzc242LSQSScVWDAAAAAAAgKf3OiEIWix1k8lkRGRkpD4IZ9NLSkoqr04AAAAAAADVBlosdWPaKt+9e6d2LRtPsk2Xmmh/QsC0Z/4TphX9IBUVFeXl5VlaWjo4OFR1XQAqT2Zmpkwmc3Z2NjExqeq6AFQSmUyWmZlpYmLi7Oxc1XUBqDy5ublSqdTe3t7Kyqqq6wL6qIS+k2ix1K1WrVpEVFBQoHYtm85kAwAAAAAA+KdBYKlbo0aNiCg1NVXt2rS0NCKytLSsXbt2pVYLAAAAAACgekBgqZu3tzcR5eTkZGRkqK59+PAhEXl5eWFsHgAAAAAA+GdCYKlbYGAgs3Dp0iWlVSUlJdHR0UT0ySefVHa1AAAAAAAAqgcElro1bdrU19eXiLZu3ao0uM6+ffuYdyyHDh1aNZUDAAAAAACoaggslS1evNjZ2dnZ2TkyMpJNDA4OJqJbt26FhITI5XIm8fbt2wsXLiSivn37+vn5VUltAQAAAAAAqhwCS2UFBQVZWVlZWVlv375lE4OCgsaNG0dEK1asqFOnzmeffdasWbOOHTvm5+fXq1dv165dVVdfAAAAAACAKobAkq+ff/45JCTEwsIiLy/v2LFjcXFxRNSjR4+bN2/Wq1evqmsHAAAAAABQZSRKLw2CdoWFhdeuXUtPT7e2tvbz83N3d6+oLTODyuLfUUMVFRXl5eVZWlo6ODhUdV0AKk9mZqZMJnN2djYxManqugBUEplMlpmZaWJi4uzsXNV1Aag8ubm5UqnU3t7eysqqqusC+qiEWMPo/W36g1SrVq2+fftWdS0AAAAAoObB7HTw/lR5AxW6wgIAAAAAAIAoaLEEAAAAAKg8Vd6yBB+YatISjhZLAAAAAAAAEAWBJQAAAAAAAIiCwBIAAAAAAABEQWAJAAAAAAAAoiCwBAAAAAAAAFEQWAIAAAAAAIAoCCwBAAAAAABAFASWAAAAAAAAIAoCSwAAAAAAABAFgSUAAAAAAACIYlTVFQAAAAAAgP+Slys6bLxW+fs1kNCd2V0qf7/wwUCLJQAAAAAAAIiCwBIAAAAAAABEQWAJAAAAAAAAoiCwBAAAAAAAAFEQWAIAAAAAAIAoCCwBAAAAAABAFASWAAAAAAAAIAoCSwAAAAAAABDFqKorAAAAAAAANU9xcfHx48cjIyOTkpKysrKcnJw8PDx8fHymTJliZ2enmj82NvbmzZuq6RKJxNHR0cPDo0mTJubm5qoZzp07l5SUZG5uPn78eC31uX79+uPHj4no888/NzQ0ZBLv3r37xx9/qGY2MTFxdnZu1qyZm5ubpg2GhoYWFhZKJJLx48ebmZlpyvb06dOoqCgimjBhAjebyOI1DgJLAAAAAAAQ5vDhwzNnzszKymJTkpOTb9++TURr164NCQmZNWuWRCLhFrlw4cL8+fO1bNPMzGz+/Plff/21hYUFN3379u2RkZEODg7aA8uDBw9u3bqViCZMmMAGlpGRkStXrtRSqnXr1suWLRswYIDqqm+++ebFixfMR1u1apWmLVy/fn3atGlEFBQUxI0MRRavcRBYAgAAAACAAMHBwStWrCAiIyOjHj16+Pv729rapqSkxMbGnj9/Pi8vb/bs2VKpdPHixWqLOzs7s4EfEcnl8qysLIVCUVJSsnz58sjIyLt375qYmFRsnevWrWtg8H+vARYUFBQWFhLR/fv3Bw4cOGXKlB07dihFwqx169aNHDnS19dXv12LLF5TILAEAAAAAAC+duzYwUSVrVu3Dg0N9fb25q69d+/e8OHDExMTQ0JCOnXqFBAQoLqFa9euNWnShJtSUlJy6dKlefPmPXv27OHDh99///3SpUsrttoxMTHOzs7clFevXh06dOjrr7+WSqU7d+60srJav3692rJlZWWTJk26desWNx7mT2TxmgKD9wAAAAAAAC9paWkLFiwgIm9v78uXLytFlUTUtm3biIgICwsLuVweEhLCc7NmZmb9+vW7cOGCjY0NEW3ZsqViq61W7dq1Z8yYcevWraZNmxLRhg0bbt26pZqNCUfv3bu3adMmPfYisngNgsASAAAAAAB4Wb9+PdODdPXq1ba2tmrz+Pr6jhgxgoiuX7+enZ3Nf+MNGjQYNGgQEeXm5goqKEbz5s1/++03IiovL1+9erVqhsGDBzPtrsHBwcnJyUK3L7J4DYLAEgAAAAAAdJPJZHv37iUiHx8ftaPdsEaPHu3g4GBnZ3fx4kVBu2jcuDGzkJiYqHc9hfL39+/SpQsRnTp1KicnR2mtRCLZuXOnqampVCqdOnWq0I2LLF6DILAEAAAAAADdYmJicnNziWj69OmaxrlhdO/ePScnJycnZ9SoUYJ28fz5c2bB1dVV73rqgQn5ysrK1E6I4uHhERwcTETnzp3bv3+/0I2LLF5TILAEAAAAAADd7ty5wyyovlpZIRITE48dO0ZEjo6OdevWfR+70IQdTCgmJkZthgULFrRo0YKI5syZo9qqqZPI4jUCRoUFAAAAAADd2FcE3dzcKnbL+fn5Fy5cWLhwYVFRERHNmzdPNY9UKp0xY4aWjVy9elXvCjRs2JBZ0PRup7Gx8e7du/39/XNycubMmbNv3z5B2xdZvEZAYAkAAAAAALrl5+cTkaGhoYuLi5jttGnThjulpFwuZ+JJRocOHb766ivVUiUlJVu3bhWzXy3q1KljYmIik8mYz6hW+/btZ8yYsWnTpv37948dO7Znz56CdiGyePWHwBIAAAAAAHRTKBQVsh1mXFlVJiYm8+fPDwkJMTJSE6QYGxt3795dy2bj4uJevnypX5VKS0tLS0uJyNTUVEu2lStXHjt27OXLl1OnTn38+LGFhYWgvYgsXs0hsAQAAAAAAN3s7OyISC6Xv3jxwt3dXe/trFu3zsnJiZtibGzs6enZrFkzExMTTaWsra3Pnj2rZbMzZszQu0kzJSWFCZuZz6iJlZXVjh07+vbtm5SUFBISsm7dOkF7EVm8mkNgCQAAAAAAurEjtSYmJuoMLA8ePJiZmWlhYTFlyhSlVYMGDWIHy6km2KZOdr4TTfr06TNy5MiwsLANGzaMHDnSz89P0I5EFq/OMCosAAAAAADo1rFjR2ZB09CpLJlMNmnSpDlz5vzyyy/vv14V4NatW8xC+/btdWbesGGDvb29XC6fPHlyWVmZ0H2JLF5tIbAEAAAAAADd/Pz86tSpQ0QbNmwoLi7WkjM6OprJ0K5du0qqnAglJSWbNm0iorp167Zp00Zn/jp16vzwww9E9ODBA2ZBEJHFqy0ElgAAAAAAoJuxsfGkSZOIKDMzc8uWLVpysu86Dh48uDJqJs62bdsyMzOJaNKkSWrHDVI1fvz4Tz75hIiWLl36/PlzoXsUWbx6QmAJAAAAAAC8zJs3jxl3Z9myZVeuXFGbJyIiIjw8nIh8fX0DAgIqtX4ClZeXL1myhJndxMXFZf78+fzL/vTTT+bm5m/fvv3xxx/12LXI4tUQBu8BAAAAAABeHBwc9uzZM3DgwOLi4l69en355ZfTp093c3Nj1ubk5KxZs4aJlIyMjDZt2sSdr7JqXblyhTvia2FhYUJCwuHDh5n3RS0tLUNDQ62trflvsHHjxkuXLl24cKFMJtOjPiKLV0MILAEAAAAAgK8+ffocPnx49OjRxcXF69atW7dunYuLi6OjY2pqak5ODpPHyspq27Zt1aq5ctSoUZpWNW7ceN++fR999JHQbc6dOzcsLOzBgwf6VUlk8eqmujxCAAAAAACAGuHTTz+Ni4sbNWqUmZkZEaWmpj548ICNKkeMGPH06dOxY8dWaR11MDIyql+/fq9evX766acnT57oEVUyG9m9e7ehoaHedRBTvLqRMDOBQpWTSCREhH9HDVVUVJSXl2dpaeng4FDVdQGoPJmZmTKZzNnZWct81gAfGJlMlpmZaWJi4uzsXNV1gZqHz+89ebmiw8ZrlVWj/2MgoTuzuwgtVVRUFBUV9eLFi/z8fBcXFw8PDw8PD0dHx/dRQ9CEz3lVCbEGusICAAAAAIA+rKys+vfvX9W1gGoBXWEBAAAAAABAFASWAAAAAAAAIAoCSwAAAAAAABAFgSUAAAAAAACIgsASAAAAAAAAREFgCQAAAAAAAKIgsAQAAAAAAABREFgCAAAAAACAKEZVXQEAAAAAAPgvQwPJvTldqroWAIKhxRIAAAAAAABEQWAJAAAAAAAAoiCwBAAAAAAAAFEQWAIAAAAAAIAoCCwBAAAAAABAFIwKCwAAAABQbSjkOSc7VMF+JQaO/e9UwX7hQ4EWSwAAAAAAABAFgSUAAAAAAACIgsASAAAAAAAAREFgCQAAAAAAAKIgsAQAAAAAAABREFgCAAAAAACAKAgsAQAAAAAAQBQElgAAAAAAACCKUVVXAAAAAAAAqrvi4uK9e/cSkZubW+/evbVnjoiIyMrKMjIymjx5stoMSUlJ586dY5aHDRtmb2+vNltMTMydO3f4VK9JkyaffPIJn5xcxcXFx48fj4yMTEpKysrKcnJy8vDw8PHxmTJlip2dnc7iMpns/Pnzx48f//PPPzMyMoyNjevWrdumTZtBgwZ17txZIpEo5Q8PD3/16hURffLJJ02aNNG02SdPnly7do2IGjVq1KtXL6EfqqpIFApFVdcBiIiYMw//jhqqqKgoLy/P0tLSwcGhqusCUHkyMzNlMpmzs7OJiUlV1wWgkshksszMTBMTE2dn56quC9Q8vH7vKeQ5JztUUoW4JAaO/XWEcJ6envHx8Y6OjhkZGUZGGhuoioqKateuXVJS0qNHj/Pnz6vNM3PmzC1btjDLmzdvnjFjhtpsK1asCA4O5lP94cOHHzx4kE9O1uHDh2fOnJmVlaW6yt7ePiQkZNasWarBISsyMnLevHkJCQlq17Zr127jxo3+/v7cxPDw8KCgIGbtzZs3DQ0NVQuWlJS0atXq2bNnRkZG0dHR7du31/lB+JxXlRBroMUSAAAAAAB0Gz169LfffpuTk3Px4kUtjZYnT54sKSkhopEjR6rNUFZWdujQIfbPsLAwTYEly9nZWW0YxhL6cD84OHjFihVEZGRk1KNHD39/f1tb25SUlNjY2PPnz+fl5c2ePVsqlS5evFht8SVLlqxcuZJZ9vb27tOnT8OGDUtLSxMSEk6ePJmamnr37t0uXbrs3r17/PjxbKkhQ4aMHj06NDT07t27P/zww/z581W3/O233z579oyIFi9ezCeqrD7QYlldoMWyRkOLJfwzocUS/oHQYgli1PQWy8TERHd3dyIaN27cb7/9pilbUFBQeHi4qalpZmamra2taobTp0/369ePiBo1apSUlCSRSBISEho1aqSak22xTElJcXFxEfSBtNixY8e0adOIqHXr1qGhod7e3ty19+7dGz58eGJioqGh4aVLlwICAjTVqmHDhtu3b+/bty93rUKh2LVr1/z58wsKCogoPDx88ODB7Nr8/PzmzZunp6ebm5vHxsY2bdpUadcdO3aUy+Xt2rW7ceOGlmZhrmrSYonBewAAAAAAQLfGjRszfTsjIiKYNklVxcXFZ86cIaLevXurjSqJKDQ0lIgsLS137txJRAqFIiws7H1VWkVaWtqCBQuIyNvb+/Lly0pRJRG1bds2IiLCwsJCLpeHhIQorb158+bSpUuJqEmTJjdu3FCKKolIIpFMmTLl8uXLzMf//PPPMzIy2LV2dna7d+8mordv306aNIkb6clksokTJ8rlcnNz83379vGMKqsPBJYAAAAAAMDL2LFjiaiwsPDUqVNqM5w+fbq4uJg094OVSqWRkZFE9OmnnwYGBjZs2JCIDhw48L5qrGL9+vWFhYVEtHr1ak2hr6+v74gRI4jo+vXr2dnZ3FVLliyRy+VEtH379vr162vai5+f37fffktEeXl569at467q06fPlClTiOjatWvbtm1j01esWPHo0SMiWrt2raenp76fr8ogsAQAAAAAAF6GDx9ubGxMRJraGMPDw4nI0tJywIABajNERERIpVIiGjt2rEQiGTp0KBE9efLk4cOH76vSHDKZjBnb1sfHR1MNGaNHj3ZwcLCzs7t48SKb+OjRo8uXLxNRr169dA5CO23aNFdXVyLavXs385FZ69evZ7r+fv311y9evCCi2NjY1atXE1GPHj2mT5+u36erWggsAQAAAACAF3t7e6bz56lTp5h3CLlKSkpOnjxJRIMGDbKwsFC7BaYfrLOzMxOYMYElVVajZUxMTG5uLhFNnz5dy4ivRNS9e/ecnJycnJxRo0axiadPn2YWli1bpnNfpqamzNg/BQUF0dHR3FVWVlZ79uyRSCRFRUVTpkwpKyubOHFiaWmpnZ0dk67HR6tyCCwBAAAAAICvMWPGEFFJScmxY8eUVp07d66oqIiImH6kqrKzs5kGwJEjRzKjvHbo0IFp1gsLC6uEYSzZWTFVX63k4+rVq0RkZ2fHc7zWnj17MgvMvJRcAQEBX375JRGdP38+MDAwJiaGdHWvreZq2CuhAAAAAABQhQYMGGBjY/PmzZuwsLBx48ZxVzH9YO3s7Hr16qW27MGDB8vKyujvdzUZQ4cOXbdu3cuXL6Ojoz/++GO1BYODgy0tLbXUau7cuY0bN9ZZ+eTkZGbBzc1NZ2ZVL1++JCIfHx+ejYpubm7W1tYFBQXsfrlWrVp19uzZp0+fMvHqyJEjhw8frketqgkElgAAAAAAwJepqenQoUN379598eLFnJwcR0dHJl0mkx0/fpyIhgwZomkaKqYfbLNmzVq3bs0mDhs2jBneJjQ0VFNg+euvv2qv1YgRI/gElvn5+URkaGio3+QlTDdaQdPL2dvbFxQU5OTkqK4yMzP79ttvmVGOJBLJmjVr9KhS9YHAEgAAAAAABBg9evTu3bvLysqOHDkydepUJvHixYtv3rwhzf1g//rrL6YnKtOZltWuXTtmQssjR45s3rxZ7TQbXbt2NTU11VIlOzs7PjUX2dtWj9kgmR6/TDutEplMxgzYw2xz+fLlzPwrNRQCSwAAAAAAECAgIKBBgwYpKSlhYWFsYMn0g3V2du7atavaUkxzJRFZWVkpvZ/p6emZlJSUk5Nz/vx51ZkhiWjfvn382xgXLVp09+5dbgq7Ryb+lMvlL168cHd357lBlqOjY3p6+qtXr/gXYTLXrl1bddW3334bGxtLRN7e3nFxcbt27Ro0aFC/fv2E1qqaQGAJAAAAAAACSCSSUaNGrVmz5tq1a6mpqS4uLmVlZUzkNmzYMKaNThUbWM6aNUvTlsPCwtQGloLcv3//0qVL3BQbGxtmgRkoiIgSExN1BpYHDx7MzMy0sLBgpp0kokaNGj18+PDRo0dlZWVqW1aVJCYmMmPnMpOLcEVHR69du5aI+vTps3//fh8fn8zMzMmTJz969IjtXVyzYFRYAAAAAAHkivKqrgJA1WNG31EoFIcOHSKiy5cv5+XlERHzxqCqO3fuPH/+nIgcHR1d1TE3NyeiY8eOvX37VmTdVq5ceeZ/Ma2pRNSxY0dmgRmFVQuZTDZp0qQ5c+b88ssvbGK3bt2IqKio6MqVK3xqcuLECW5BllQqHT9+fHl5ubW19c6dO+3t7bdu3UpEmZmZbAtwjYPAEgAAAEC3uNdZwTFn+136ZdDd3/veCB0VFbrnr7vSMllV1wugavj4+LRs2ZKIwsLC6O9+sG5ubmzkpmT//v3MQlRUVLI6s2fPJqKioiJmBCAx/Pz8ev+vwMBAdlWdOnWIaMOGDcXFxVo2Eh0dzWRo164dmzhgwAADAwMiWrhwYXm5jmdMr1+/XrFiBRHVrl1baVCiuXPnJiQkENH69euZLr6DBw9mpvQMDw/fu3ev4M9cDSCwBAAAANBhz193x187eCb1aZ7sLRHJFeXxBa+2xkWPjNqfUJhb1bUDqBpMo+Uff/zx9OlTph+spmF75HI507DZsmVLHx8ftXnYmTbYHrPvg7Gx8aRJk4goMzNzy5YtWnIyTYhENHjwYDaxcePGQUFBRHT//v3ffvtN+76WLVvGDAb75ZdfmpmZsemnT59mBun55JNPJk+ezKZv2bKFGW921qxZzLwmNQsCSwAAAABtjr14vDUuulzdOJDpxQUzbkYUlJZUfq0AqtyoUaOY5rvp06dnZ2eT5n6wFy5c0J6BiFq2bOnt7U1EZ8+eZXrVvifz5s1zcnIiomXLlmnq0RoREcG0wfr6+gYEBHBXrVq1inljc9asWefPn9e0l61bt27atImIvLy8mMZYRm5uLhNMWllZ7d69m1ukTp06GzduJKI3b97861//EjmAbeVDYAkAAACgUYm8bHPcdS0ZXpUU7fnrrpYMAB+qunXrdu/enYguX75MRM2aNfP19VWbk+kHK5FItASW9HejZWlp6ZEjR5RWRUVFndVFKpXyqbaDg8OePXuMjIyKi4t79eo1f/785ORkdm1OTs78+fOZXqlGRkabNm1igmdW48aNf/vtNyMjo6Kioj59+kyePJkZ2ZUhl8ujoqJ69+49Y8aM8vJyMI0spwAAIABJREFUe3v7I0eOWFpashmmTZuWkZFBRGvXrmVHEmKNHj26f//+RHT58mUmLq1BJDUuFP5Q6TErDlQfRUVFeXl5lpaWgibMBajpMjMzZTKZs7OzpomwAT4A/8lMnHfn/974UigUpaWlEonE2NiYTaxjbnW6x2R1pQH+B6/fewp5zskOlVQhLomBY/87Qgv99ttvEyZMYJaXL1++ZMkS1TxSqdTJyUkqlXbu3Pnq1atatvb06VOm0TIgICAqKoqIVqxYERwczLMycXFxXl5ePDMfO3Zs9OjR7GuWLi4ujo6OqampTOdVIrKystq2bRvT3VfV+fPnhw8f/vr1a+ZPBweH+vXrl5aWpqamFhYWMokeHh4nTpzw8PBgS4WGhjJzeHbt2vXy5cvM+aAkLS3Nx8fnzZs3ZmZmMTExzAHRjs95VQmxBlosAQAAADRKKMzRmSf7bVFh6btKqAxAdTNkyBALCwtmWdMLlseOHWPaEkeNGqV9a15eXsyAQFevXk1NTa3Qmir79NNP4+LiRo0axbz9mJqa+uDBAzaqHDFixNOnTzVFlUTUs2fPv/76a86cOczEmLm5uQ8fPoyLi2OiSldX1/Xr1z969IgbVaamps6YMYOILCwsfv75Z7VRJRHVr19/3bp1RFRSUjJ27NjS0tIK+8zvGVosqwu0WNZoaLGEfya0WMI/wda4aG5PV7UtlkR0qsckJ/NalV47qGE+vBbLD0BRUVFUVNSLFy/y8/NdXFw8PDw8PDz4zyRZVlZ28+bNZ8+eZWdnGxkZOTs7t2rVSlOX4PekmrRY6p7WEwAAAOAfy97UQmceA4nEzkR3NgCohqysrJjXGvVjZGTUuXPnzp07V2CVaih0hQUAAADQyM/RRWeeFnZ1TQwNK6EyAADVFgJLAAAAAI08rGu3dqivPc/wRi0rpzIAANUWAksAAAAAbYJb9bA1Mde0treLV496HprWAgD8QyCwBAAAANCmoaXtL52Ht7Crq5RuYmg4sWn7Za17ahrdEQDgnwOD9wAAAADo0NDSdk/n4Q/y0m9kJCbkZFoYm7Sq1yjAubGjmaXuwgAA/wAILAEAAAB4aWVfr5mVY2atTBMTE2dn56quDgBANYKusAAAAAAAACAKAksAAAAAAAAQBV1hAQAAAACqDYmh44B7VV0JAMHQYgkAAAAAAACiILAEAAAAAAAAURBYAgAAAAAAgCgILAEAAAAAAEAUBJYAAAAAAAAgCkaFBQAAAACoLuSK8g4nNlX+fg0kkjsDvqz8/cIHAy2WAAAAAAAAIAoCSwAAAAAAABAFgSUAAAAAAACIgsASAAAAAAAAREFgCQAAAAAAAKIgsAQAAAAAAABREFgCAAAAAACAKAgsAQAAAAAAQBSjqq4AAAAAAADUPMXFxcePH4+MjExKSsrKynJycvLw8PDx8ZkyZYqdnV1V167iPXjw4NatWzY2NiNHjqzqulRHCCwBAAAAAECYw4cPz5w5Mysri01JTk6+ffs2Ea1duzYkJGTWrFkSiaTqKqjDlStXFi1aRERDhw6dN28enyJnz55dtGiRu7s7Aku1EFgCAAAAAIAAwcHBK1asICIjI6MePXr4+/vb2tqmpKTExsaeP38+Ly9v9uzZUql08eLFVV1TjXJzc5kwuG3btlVdlw8EAksAAAAAvubPn3/16lWJRLJly5aPPvqoqqsDUAV27NjBRJWtW7cODQ319vbmrr13797w4cMTExNDQkI6deoUEBBQRdWEyobAEgAAAICv+Pj4Bw8eEFF+fn5V1wWgCqSlpS1YsICIvL29L1++bGtrq5Shbdu2ERER/v7+xcXFISEh//nPf6qimrr17ds3KSmJiKytrau6Lh8IjAoLAAAAAAC8rF+/vrCwkIhWr16tGlUyfH19R4wYQUTXr1/Pzs7WtKnCwsLy8vL3VE9N5HJ5cXExEVlYWLi5ubm5udnb22vK/O7du3fv3vHcskwm45+ZIZVKK/8IvD8ILAEAAAAAQDeZTLZ3714i8vHxGTBggJaco0ePdnBwsLOzu3jxotKqyMjIgIAAU1NTa2trExOT5s2br169Wi6Xc/MUFRWNGTMmKCho69atqhsPCQkJCgqaNWuWQqHQXuGSkpKgoKCgoKDCwsKCgoJ//etflpaWTBMlu4rpg8D17t27xYsXu7m5mZmZmZmZubm5LV68uKioSO0uFArFunXrPD09zczMzM3NPT09N27cWF5efuzYsaCgoLVr16oWiYuLGzZsmJ2dnZWVlbm5ube394oVK3Jzc7V/luoPXWEBAAAAAEC3mJgYJv6ZPn269hFfu3fvnpOTo5RYUlIyd+7c7du3sylyufzJkyeLFi06ceLEgQMHXF1dmXQrK6uWLVsuWLAgMjLS39+/TZs2bJHIyMjly5cT0ZkzZ3SOOltWVhYeHk5EP/7449ChQ5nRegwNDbmrJk+ezC2SlJQUFBQUExPDprx48WLVqlURERH9+/dX2n5BQcGYMWNOnDjBpsTHx8+ePfvKlSvt2rULDw8vKytTKrJnz54ZM2YwraZEJJPJnj59GhwcvH379jNnzvj6+mr/RNUZWiwBAAAAAEC3O3fuMAtKA/bwFBISwkSVXbp0OXLkyPPnzy9evPjFF18Q0Y0bNz777DNuC+S8efM++uijsrKyCRMmyGQyJjE/P3/atGlENG3atN69e/Pf9YIFC27fvu3u7j558uT/9//+n6Zs5eXlAwcOZKLKESNGnDhx4unTp/v37/fz83v69OmPP/6olH/8+PFMVPn5559funQpPj5+//79TZs2jYyM3Lx5s+r2jx49OnHixOLiYh8fn4MHD8bHx9+4cWPx4sXGxsbp6endunVTjcZrELRYAgAAAACAbsnJycyCm5ub0LKpqalMrDVkyJCwsDBjY2Micnd3DwwMbN68+RdffHH//v3Dhw8PGzaMyW9gYPDbb7+1atXq0aNHK1euXLZsGRHNmjUrIyOjadOm69atE7T3gwcPfvnll2vWrDE1NdWSbd++fY8fPyaib7/9dunSpUyip6fnp59+OmDAgCtXrnAz37t379ixY0S0Zs0aZkAjImratGmvXr26dOkSFxentPGysjJm5syAgICzZ8+amZkx+f39/Xv16tW9e/e8vDym6VLQR6s+0GIJAAAAAAC6MYMhGxoauri4CC27efPmkpISIyOjdevWMVEla+rUqT4+PkSk1JbYpEmTNWvWENGqVasePHhw8uTJ/fv3GxkZ7d+/38LCQtDemzZtun79eu1RJRGtX7+eiBo3brxkyRJuuqWl5Q8//KCU+fvvvyciV1fXuXPnctMdHR3VTuB54MCB+Ph4AwODXbt2MVElq0uXLkxL7KFDh3S+OFptIbAEAAAAAADdxMQ8T548IaLAwEDV1k6JRDJp0iQi+vPPP5VWffHFF4GBgaWlpRMmTPj3v/9NRIsXL27fvr3QvY8dO5Z5tVILuVz+9OlTIpoyZYqRkXK/zlatWnXs2JGbcu/ePSIaN26caubhw4ebm5srJTI9bH18fJo2baq69z59+hBRfn6+alNnTYGusAAAAAAAoJudnR0RyeXyFy9euLu7CyqbkJBARE2aNFG7ltlacXFxZmams7Mzmy6RSH755ZcWLVrExsYSUbt27YKDg5XKLlq06O7du9wUKysrppMqq2HDhjprmJycXFpaSkReXl5qM3h6et66dYtZfvfuXVpaGltzJcbGxg0aNIiPj+cmMn++e/du9uzZqkXYqXGTk5ObNWums7bVEAJLAAAAAADQjR21NTExUWdgefDgwczMTAsLiylTphDRixcviEhTH9oGDRowC8nJydzAkogaNmw4bdo0pk/svHnzVJsH79+/f+nSJW6KjY2NUp46depory0RpaamsntUm4GbnpyczExBWb9+fbWZXVxclALLxMREIoqPj1dKV6JpXpPqD4ElAAAAAADoxvYFjYmJ6dGjh5acMpls0qRJxcXFHTp0YAJLBweH1NRUtl1OyevXr5kF1ZgwPT19165dzHJISMjAgQOVepmuXLlSqQ1Q6R1OItI5MQkROTk5MQt5eXlqM7x584ZdrlWrllLNlRQUFCilMB8tMDBQaYITJR06dNBZ1eoJgSUAAAAAAOjm5+dXp06d7OzsDRs2zJw5U8sIOtHR0cxUje3atWNS3N3dU1NTmXZLVcx4swYGBo0bN1ZaNXHixLy8vLZt2z579iw+Pv6bb75RGkfHz89PxGf6P40aNZJIJAqFIjExMTAwUDVDUlISu1yvXj0rK6uioiJNn+jly5dKKU2aNLlz545EIhkxYkSFVLi6weA9AAAAAACgm7GxMTPKTmZm5pYtW7Tk3Lp1K7MwePBgZoHpOhsVFVVSUqKa/+zZs0TUoEEDpYFbt23bdu7cOXNz8wMHDjC9YTdu3BgdHV0BH0aFqakp01M3IiJCdW1BQcG1a9e4Kcz7oufPn1fN/Oeff2ZnZyslMmP2xMbGstNycj169GjDhg3scauJEFgCAAAAAAAv8+bNY7qMLlu2TGleR1ZERER4eDgR+fr6BgQEMImjRo0ioqysLLZfK+vJkydHjhwhouH/n737jo+qyv8//pmaSa8kIUCoIYTeBARRKYogRQGFRURFV3HVtSKugovIquuquCy4IkUUEV3lBxZE/KqIVKkShEhogSSQkEbKpEy7vz8uxhiSSRnITXk9H/t47PWeM2c+M9Fk3nPPPWfSpLLnExMTZ86cKSLz58+PiYmZMWPGtdde63K57r777qKiosv8wkRE5K677hKRjRs3XppdFy5cWG7W6x133CEi33zzzb59+8p1fvXVVy8dfNKkSQaDISMjQ93UpCxFUWbMmPH4449XGFMbCoIlAABAdamz+0TEarVqWwmgidDQ0HfffddoNBYWFo4YMWLmzJnqLFZVZmbmzJkzb7vtNhExGo0LFy7U6y/GjWHDhqm3ZT7xxBOLFi1yOp3q+S1btgwbNszlcoWGhv7tb38rHcrhcNx5552FhYUDBw5Ub6HU6XTLli2zWCzHjx+vcKNIzz355JNBQUEiMmrUqPXr16vL89hstn/+85/PP/986WtRPfzww+oVzpEjR27ZskU9abPZnn766ffee0+9z7PsQ+Li4tTrvXPnzn3llVdK34Hs7Oy77757x44dOp3uoYceuhKvq24QLAEAAKqrdIu5SzfcA5qIkSNHfvLJJz4+Pna7/bXXXmvbtm2rVq169erVrFmzZs2avfbaa06n08/Pb8WKFaWXK1X//ve/W7du7XA4HnnkkYCAgH79+oWHh19//fXp6ek+Pj5vv/22GupUL7300u7duy0Wy4oVK0rjWUxMzNy5c0Vk4cKF27Ztu+wvLSgo6L///a/FYsnLy7v11luDgoJ69+4dGBj4zDPPGAyGefPmle1ssVjeeecdX1/fjIyM66+/PiIi4qqrrgoICPjXv/7Vq1evJ554QkTKrTP04osv9urVy2az/e1vfwsICOjbt2/v3r1btmz5/vvvi8j8+fNvvPHGy/6i6gzBEgAAAEAN3HLLLQkJCVOmTLFYLCKSkpLy888/Z2Zmqq2TJ0/+9ddf77zzznKPiouLO3jwoLp0TWFh4Z49ezIyMkSkd+/e+/btmzhxYmnPvXv3vvjiiyLy4osvxsbGlh3kqaee6tOnj8vluueee0pnEFxGkydP3rFjh3o/ZH5+/oEDB4qLi6Ojozdt2nTpij4jR47ctWtXx44dReT8+fN79+612Wx33HHHDz/8oN5I6efnV7Z/eHj4rl27nnzySYPBUFhYuG/fvgMHDhQVFXXs2PGjjz66Qpdh6wyrwgIAAAComejo6NWrVxcUFPzwww+nT5/Oyclp2bJlx44dO3bsGBYWVtmjAgMD16xZ89prr/3000+ZmZn+/v7dunXr2rVruW59+/a12+0VjmAwGPbu3VvNIv38/BRFqWlTr169jh49unv37qNHjzqdznbt2g0ePFi9anrpQ7p27ZqQkLBz587ExESLxdK/f391YVt1VdhLt8Q0m82vvfbac889t3379rS0tNDQ0JiYmLi4OIPBUM0XVW8RLAEAAADUhp+f3+jRo2v6qBYtWpSuFls/6XS6/v37u99Scs+ePampqZGRkQMGDBg0aNCgQYNKmxwOh5p+O3fuXOFjg4ODa/G+1XNMhQUAAACAmtm0adOtt946evToSzdQWbly5enTp728vCrcD7OxIlgCAAAAQM1MmDDBbDZnZWWNGzfu2LFj6smCgoLXX3/94YcfFpG77747ICBA0xrrFFNhAQAAAKBm4uLili5devfdd3/zzTcdO3Zs1qyZ2WxOTU1VW3v16vXKK69oW2Ed44olAAAAANTYtGnTfv7550mTJjVv3jwzMzM1NTUsLGzAgAEvvvjijz/+WHb3lKaAK5YAAADV4sw/FWgpyRAREW/HScVh1Rl9Na4JgKa6d+/+0UcfiUhxcbHNZmtSc1/L4YolAABAFZxF5/N2P5bzw23N/C7umxda/G32tzcXnVwtlexYAKBJsVgsTTlVClcsAQAA3HMVpeVum+4qPl/uvGIvsB5e4LKm+HabpUlhAFB/cMUSAADAnYL4ly5NlaWKkj6xpW+ty3oAoB7iiiUAAEClnPknbed3uO9TdHK1OWJw3dSDRs+g0+8d+5jWVQA11lSCZV5e3nvvvff111+fPXs2ICCgV69e9957b7du3Wo0yOnTpz/++OOff/75119/DQgI6NGjx9SpU6+66qorVDMAANCcPWtvNfocEJdD9E3lYxUAXKpJ/AaMj48fN25cUlJS6Zkff/xx0aJFL7/88syZM6szgqIo//3vf2fNmlVQUFB6csuWLf/5z38effTRN954Q6fTXfayAQCA5lzFmVV3UpwuW7beEn7lywGAeqrxB8vMzMzRo0cnJyebTKYxY8YMGTIkMTFx3bp1KSkpTz/9dFRU1B133FHlIAsWLHjyySdFpHXr1lOnTo2NjU1MTFyzZs2JEyfefPNNf3//efPmXfmXAgAA6pzBq1rd9JYrXAcA1GuNP1i+8sorycnJIrJkyZJ77rlHPTlr1qz+/funpqbOnDlzwoQJFou7PwYnT56cM2eOiNxwww2ffvpp6TrCzzzzzB133PHZZ5/985//vOeee9q2bXuFXwoAAKhrBt/WVfbRe4XoTf51UAwA1FuNfFVYm832zjvviMiUKVNKU6WItGjRYtmyZSJy7ty5tWvXuh9kyZIlhYWF3t7ey5cvL7s7ja+v77Jly0JCQmw224oVK67MKwAAAFoyh1+tM/q47+MVNVy4KQZA09bIg+WWLVvy8/NFZPr06eWahg0bFhgYKCJfffWV+0EOHjwoIn379m3VqlW5prCwsBEjRojIF198cblqBgAA9YfO6OsbO8NdB1OAd4fyHzMAoKlp5MFyz549ImIwGK6++upyTSaTSc2Eu3fvdj/IkSNHRKRDhw4VtsbFxal9HA6H5wUDAID6xtL2T5Z2Uyps0nuFBPT/t94SVsclAUB908iDZWJiooi0aNHCx6eCSSxdunQRkaSkJPeZMCwsTETOnj1bYat63m63nzlzxvOCAQBAvaPT+XV5IvDqt8zhAxXl4pRXp87Pu/3U4Os+MgXXbPcyAGiUGvniPWlpaSLSvHnzClujoqJExOFwZGRkVNZHRLp163bgwIF9+/YVFBT4+fmVbbLZbN999516nJub676Yffv2VVmwzWarsg/qIZvNZrfbbTYbP0E0KXa7Xf03X+tCgDoR0NPSq+eJrDUimSKSYplk6vAXu4jwnwCAekDzP8eNPFharVYRqfBypYh4e3uX7VaZsWPHvv/++5mZmbNmzVq0aFHplpVOp/Opp546duxYdQYRkb59+1ZZsJqE0eBYrdbc3Fxvb2+73a51LUDdycjIUP+dN5lMWtcC1BGXS1EPCgoK+KsNoP7Q/DdSIw+WanA3Git+maXni4uL3QwyYcKEMWPGfPHFF2+99VZ8fPztt98eHR19/PjxDz/8cP/+/d7e3kVFRSLi5VXFPle9e/d207p//34RMZvN7gdB/WS3200mk9ls5ieIJkXNk2azmWCJJshgMPA7H7WjYw1hXAGa/0Zq5MFSvVZZUlJSYWtpniy9dFmZ5cuXT58+/csvv9y2bdu2bdtKz/fq1Wvy5MmzZs0SEX//Kjawcj8VVv0VExkZ6X4Q1E8FBQUmk8nX1zc0NFTrWoA6ZbPZIiIiNP9jBtQZvf7i+hR+fn781QZQf2j+G6mRB0s17OXl5VXYWnq+ykzYrFmzL7744tNPP/3yyy/j4+MzMzPbtm07ceLEGTNmvP7662ofzX+WAAAAqM8URdG6hFrKysqyWq0hISHlFhwBSjXyYNm2bVsRSUlJqbA1NTVVRHx9fZs1a1ad0SZOnDhx4sRyJ8+dOycizZs3DwoK8qhWAAAAAGiYGvl2I+omk5mZmWr8Kyc+Pl5EOnXq5MlM9y1btohIv379aj0CAAAAADRojTxYDhs2TD0o3RSkVHFx8fbt20Vk+PDh7gdZv3799ddfP3To0Pz8/HJNhw4dOnjwoIiMHTv28lQMAAAAAA1NIw+WMTEx3bt3F5HFixeXm9S+atUq9R7L2267zf0gnTp12rJly+bNmz/44IOy510u1wsvvCAiISEhl06RBQAAAIAmopEHSxGZM2eOiOzatev55593Op3qyZ9++kldynXUqFF9+vQp2//ZZ5+NjIyMjIz87LPP1DOdOnXq37+/iMycOXPDhg3qyczMzD//+c9r164VkdmzZwcEBNTVCwIAAACA+qXxB8uJEydOmzZNRObPnx8eHn7rrbd27tx5wIABOTk5UVFRS5cuLdc/Ly8vPT09PT1d3Z1StXr16oCAAKvVOnr06DZt2nTr1i08PHzFihUiMnny5Mcee6wuXxEAAAAA1CuNP1iKyPLly59//nkfH5/s7Oz169cnJCSIyA033LBz586oqKjqjNC+ffvt27cPHjxYRE6fPv3LL78oihIcHPzKK6+sXr2aXW4BAAAANGW6hrudTk3l5+dv3br17NmzAQEBffr0ad++fS0GOXr06OHDh/Py8qKjowcNGuTl5XW5ylPTadP5cTQyBQUF2dnZvr6+oaGhWtcC1J20tDSbzRYZGWk2m7WuBagj4eHhGRkZIvL3v/997ty5WpcD1BH2sWzo6iBrNPJ9LMvy9/cfNWqUh4PExsbGxsZelnoAAAAAoHFoElNhAQAAAABXDsESAAAAAOARgiUAAAAAwCMESwAAAACARwiWAAAAAACPECwBAAAAAB4hWAIAAAAAPEKwBAAAAAB4hGAJAAAAAPAIwRIAAAAA4BGCJQAAAADAIwRLAAAAAIBHCJYAAAAAAI8QLAEAAAAAHiFYAgAAAAA8QrAEAAAAAHiEYAkAAAAA8AjBEgAAAADgEYIlAAAAAMAjBEsAAAAAgEcIlgAAAAAAjxAsAQAAAAAeIVgCAAAAADxCsAQAAAAAeIRgCQAAAADwCMESAAAAAOARgiUAAAAAwCMESwAAAACARwiWAAAAAACPECwBAAAAAB4hWAIAAAAAPGLUugAAAKCxH05kHcso0LqKhsErrIVkZIjICWfg0l2ntS6nYRjbJTLC30vrKgBcWQRLAACauu+OZWxMOK91FQ1DvljUg11ptoSdBMtq6RcdTLAEGj2mwgIAAAAAPEKwBAAAAAB4hGAJAAAAAPAIwRIAAAAA4BGCJQAAAADAIwRLAAAAAIBHCJYAAAAAAI8QLAEAAAAAHiFYAgAAAAA8QrAEAAAAAHiEYAkAAAAA8AjBEgAAoLoUl/PigeLSthIAqFcIlgAAANVVmHrs4kFKoraVAEC9QrAEAAAAAHiEYAkAAAAA8IhR6wIAAIDGthUcOOqXpHUVDYPy9G1SmC8iFyIj8322a11Ow3CsoHkPCdC6CgBXFsESAICmzqG4XOLUuooGwqgXs1FEXHpFx5tWPYqidQUArjyCJQAAQO0pxSXOHQech48pF/LF4qWPbm68po++RUTNBrEWObbucaWkK+mZOn8/ffNmht6d9e2jq/lwx/c7HT/sNvTpaho3rPSk8+CvSnZulY/Vt2qu71DdJwKAyhAsAQAAasmVklayeLWSdeH3M8eSHJt/Mt16g2nENdUcxLHzZ/v/vlKsRaVnnL8k2v9vu7Ffd/Od48TLXEUNZ87aPt0kDqc+N/8Pw/7wk/Pw8Sqf3XTDIIIlAM8RLAEAAGpDKSgsWfSBkp0rBoOhR6whtp0rPdN54IiSk2dfu0kX5G/s36PKQVzHkmzvrROXS+djMQ7qo2veTMm3Og8ccSWlOnbHi9Fgvnu8u8eX2EqWfiIODyblWrxq/1gA+A3BEgAAoDYcG39U55qap441DuqtnlRuGlz80hLlQp79003G3l3EVMVnLdsHn4vLpQv0t8x+UBfor5403TTYtuozx7Z9jh0HjIP7upkTa/tog5KeWWGT11+nubm70bHnkG35p7pmIcYbBrqvEACqg+1GAAAAas7pdGzdKyLGft1LU6WI6IICzHfdIiJKbr5j/2H3YyjWIte5DBExjbimNFWKiOh0pok3iU4nIs7jZyotYc8hx/b9Ol9vna9PBc06nej1Ff5PyS2wr9kgBoPX/bfruGIJ4HIgWAIAANSY61iyUlwiIoZr+pRrMnRqp/O2iIjrUKL7QZS0DPVAFx5arknnY9H5+5btU/6xWRdsH3wuIuY7bxEfSw1KVxTbik+VwiLT+Bv0rVvU4IEAUDmCJQAAQI0pZ86JiOj1hnatyrcZDPouHUTEmZTifhBdgJ964Dp3vvz41kIl31q2zx+4XCXLPlGKio3X9DH07lyjyu3/t9159JQhrr1pOJNgAVw2BEsAAIAaU85ni4guyF/Mpktb9VHhIqJkXhCXy80gumYh+g6tRcTx9TYlI/v3BqfT9uGXoiii1xv6db9s88mYAAAgAElEQVT0gfYvNrtOnNFFhJknjapZ2Rfy7J9/L3q9adIodaotAFwWLN4DAABQYxcvJwb6V7iPpS4oQETE5VLyrX+4efISXvffXvz6u0p6ZtHz/9YFB4rDKUaDUlgshUViNJjvvOXSLTFdx07bN/4oBoPXfbdd3IykqFhEXKfPVlyqtdCxda9yLsOVnqVk5YjNbohtq2/e7DK8CwDwG4IlAABAzZXYRUQUpfiFRZfuY2no2+UP3SqnCwowDbvatuZLcbqUzJyyTfq2LY2XTHNVCotKln8iLpdpwo361lEi4jpzVikoFBGxVfBcjp0/2/+3UbEWlj3pPHqq+KW3zXfeoo9uXp3XCgBVYiosAABAjSlOp4i4UtOVrAtiMBh6dzb/abRx6ABdcIC4XM7dhy52s1cRLB07Dtg+/ELdF0Tn661vGakLDlQnqbqOnS5esLJcf9v7nynZuYZO7Uw3XiPy2z6WlXAdP2Nb+f8Ua6F4mY3DB6oTdPURYSLiOn225N/vKXkFtXz9APBHXLEEAACoMZ3ZpIiI3SGV7GNZ2s3NIEpOnu399SIier3XQ3cYunW8eN5aVPLPd1xpma6Tyfb/941p/I3qecfWvc79h3W+3ubpE9Tw6WYfS3G51Miq8/OxPPOAYi0s/naH6PVeM+91HT9dsuRjJd9q++Bzr79M8fS9AACuWAIAANTGb4mxsn0sL3K7S6T98+/U1X1MI64pTZUiovP19pp1v3rs2PyTOsdVycmzffyViJin3aLew1m6j6XoK1iGx3Ui2ZWSJiKmUdfpwkMcP+wWEUO3jroAP0PvLmrNzl8SxeGszcsHgD/iiiUAAEDNGS5+O1/hPpZiNIrDIXq9zs/HzRjOhBPqgb59dLkmna+3ztuiFBUrJTbXmXP6DtFKTq6aMH+f++pwiIhSbBOXIiKu81mFf3lBREzDB5rG3+A8mXyxnt5dFGuRY+8hETH+Vq2hS4xj2z5xOF1n0/XRUbV6CwDgd1yxBAAAqDnl4v/rw4LKNxkMOl9vERG9vootPYpt6v9XvI9lUfHF4wLrH9ocjov/Uzl/u+SoKBfPO50iouTmi4jO4qULCXRs3yd2hy7A7/froqVzdJ3uNkQBgGriiiUAAEDN/Tb71Hk82RgW8ocmu0OsRSIiTqe4XKKv9Ht8XcsIJTFJRBxfbzP27qJr9ts46j6WpU/VIkJEdFHhXk9OV884tu937vpZFxxovnOcmIwlC1aKy6ULDjRPnyAi+pBAETGPv8E8bpiabJ3b9omIoW/X0mIuXizV6XQRYZ69EQAgQrAEAACojd/29nD88JOxf/eyVyYdu35W1MuJiuJ+H0tD6xauxCQRUayFRXP/Y7yqmy6ymRQUOg7+qqRnik4niqLz8daFBYuIzuJliG0rIq5jp52748Vg8PrLFHXHEdGJiOjMJrXDRUaj+kFPOZ/tSssUEUPHNmqLKynVsWWPiBj6dtX5WC7PGwKgaSNYAgAA1NxvG1S6TibbP//eNGaIejHQdSrFvvabS7vZ1/2fY/t+ETFPHWvoGaeeNN4wyLHzgFJQKHq92B2OHQf+8BSKIiKmW4eXTa2X7mNZJecvieqBPqaNiDj3Hbat+kzsdp2vj/mW4TV+4QBQEYIlAABAjan7WOoC/ZXcfPuGHxw//KSPaaOkZ7rOZYiIztdbsRaJiGK3q6FQKS65uGmk3VE6iC7I3zRmiO2jDerasKLX6Sxeis1eulKrvnWU8bp+ZZ+3/D6W1eD85ZiI6CPDlAKr7d3/p+ZMnY+316PTfp98CwCeYfEeAACAGlM3qNSFh5hGDxGzSbEWOX9OUFOloXN706jry3arjJKTZ9+wRRQRL7OIiEtRCosvpkovs4i4Tp91bN1b2v/SfSyrZnc4j54SEdHri19YrKZKQ49Olhce0bdpUdNXDQCV4YolAABAzalRsNhmGjvUeOMg17HTSm6+zuKlbx2laxbi+H7XxW6/7WNp/tNo859GlxvDvnGLklcgJpP37AfFz0c5l+E6n63z99FHhutCA0sWrnIeOW5f/62xfw8xmy7dx7KULiRIycjWx7SuoE6T0WvGZNt761xnz4uIvkWEafyNZffMBIDLgmAJAABQY7rQQBFRcnJFXVbnj1FNuZAnIuJlrmofy5MiYohprS7NquvQWt/h93BoHNTbeeS4km+tdB/L3wdyiohjxwHHroPy2z6Waotjyx7bh1+Iouj8fEwTRhgH9qrupU4AqAmCJQAAQI3pIkJFRCkoVHLzL1331ZWSLiL6yLAqUpy1UETURV8reIrwizdAVrCPZYVcrov3av62s6Vz3y9qqjR062i+e7zO39ddMQDgAYIlAABAjelj26gHzoSTxgE9/tBmd7iOnxYRQ1x794PoosKVxCQlPbPCVte5i+cv3ceyHNvyT5QL+YZuHY03XiO/7WMpNrtt1eeiKIaecV4zJrvZThMAPEewBACgqUs/kWDTX9C6iobBZS9RD5zeOl3zUOVclv3bra6OEVLmwqRr9xGluEREXB2b23LS3A0XGSSJ4jx2uuRQvK5l+B+fyeX8dquIiLeX3WATdZxw74rHMehFRLEYneHeIuIUm+SkuX46rBQWicGgG3O1Lfd87V7vZZF2LlViYzQsAEAdIFgCANDUXTif6vCvZHYlKuEstsqgLvLpj8qZdMeGH+X67hdnvaZmyobtIiIxLZxBZrHmXnzA9z/LgeMiIqP7S2yriyf7tJe9CVJY4nxvg4zqJx1bXjx/oUC+3itn0kVEhvRwFOaKey6XiLgcNpe1TM+DiSIivl6OvYfcPbZbW7GYq/26ayM3O+uKjg+gPiBYAgAA1ErnaOneTuJPytZDsveotI6QzDzJzBUR8feW0QP+0LnELtZiESndo/Jit7FXyyc/Sl6hfPSDWMwS4i/WYsn97abKLq2lb21XcM3OFxHJK5SNe9x1a9v8SgdLAE0BwRIAgKYusn1crl3LqZINiKPggjob1ugXrDeZ5a5xzm92OTfvlSKb/Jqs9tHHtjZMulEX/IcdQZxe3mqgNPoG6oMjfm/oH6G0a+dct9mVcEqKbXL24sU9XZC/Ycy1+t6dqlOV3WBQRPRe3sbSkV2KLdfq9kEXmQJDdcEh1elZaxFRLavuBKCB0ymKonUNEBHR6XQiwo+jgSooKMjOzvb19Q0NDdW6FqDupKWl2Wy2yMhIs5nLHQ3b4E9W779wSusqGoaSzBRnsVVEvMJaGCx+6kmluKTcPpa1GFmxFv5hH8uwoEazL8jKayfdxj2WDVxWVpbVag0JCfHz89O6FtRGHWQNrlgCAAB45NJ9LGsziK9PuX0sAaABYeFpAAAAAIBHCJYAAAAAAI8wFRbw1NHzBTtPpKdk5ob4W69qb+jdItCgbyR3xQBoIgpOJTlPJ2hdRcOg5GWJvVhEXOcKxWTRupyGoaBHVdulAGj4CJZA7Z3MKpz/bWL82TyXy+VwOPR6/YoDGVEBlplD2g9uxyo+ABqM1C83lmzdrnUVDYxd6wIakNRrxkq/vlpXAeDKYiosUEtH0gvuXnMg/mxeufNn84qf+PzwZ7+kaVIVAAAAUPe4YgnUht3pmv1VQqHdWWGrosgr3x/v1SIwOti7jgsDgFrwa9cmOy9L6yoaBpetWHE5RERvtuj0fI6qFr+gIK1LAHDF8QsRqI0tJ7LOXChy08HudH0af+6J69rVWUkAUGstbh6ZPqiT1lU0DKX7WJrK7GMJ91q0468h0PgxFRaojd1nLlSjT04dVAIAAABojmAJ1Eam1VZln4yCkjqoBAAAANAcwRKoDS9j1f/tVKcPAAAA0AjwwReojeqsytM62KcOKgEAAAA0R7AEamNohzCdroo+QzqE1UktAAAAgMYIlkBtxIb7jewU4aZD2xCfW7pG1lk9AAAAgIYIlkAtPTc8ZkDr4AqbWgV5v3lLVzP3WAIAAKBpYB9LoJa8jPqFt3b94nD6/w6ePZqer56MCrSMjouY2relj8mgbXkAAABAnSFYArWn1+nGdY0c1zXyfHZuUlpmWKBfuxbu5scCAAAAjRLBErgMfMyGSD+Tr4X/oAAAANAUcQ8YAAAAAMAjBEsAAAAAgEcIlgAAAAAAjxAsAQAAAAAeIVgCAAAAADxCsAQAAAAAeIRgCQAAAADwCMESAAAAAOARgiUAAAAAwCMESwAAAACARwiWAAAAAACPECwBAAAAAB4hWAIAAAAAPEKwBAAAAAB4hGAJAAAAAPAIwRIAAAAA4BGCJQAAAADAIwRLAAAAAIBHCJYAAAAAAI8YtS4AaAxsTldWoV1vdmldCAAAAKABgiVQe4oiG389/2n82fjUCza7Q6/XdwgPuDku/E+9W1qMTAcAAABAU0GwBGrJ5nQ9syHhxxNZIuJSLp5Myi5cvD3pq4Tz/xnfLdLfS8v6AAAAgLrCRRWgll7+7riaKi91Krvw0XWH7E5mxgIAAKBJ0DhYKopSdScRESksLLyilQA1cizD+uWRNDcdTmQVfnEkvc7qAQAAADSkcbB87LHHNm3aVGW3rVu3du/evQ7qAarp++OZVX4r8m1iZp3UAgAAAGhM42CZmpp60003PfTQQ5VdkCwsLHzssceuu+66EydO1HFtgBtJ2VVfQk/KttZBJQAAAIDmNF68p3PnzmvXrn3rrbe+/fbbVatW9evXr2zrtm3b7rnnnuPHj4tInz59NKoRqEBJNe6fLHZwjyWAhiHEGOjrDNa6iobBnnzImZclIl7GFl7NeNOqxcdg1roEAFecxsFy3rx5ffr0mTFjRmJi4qBBg5577rnZs2cbjcaioqLnnnvu3//+t8vlslgsc+fOfeqpp7QtFSgrzLfqv5HNqtEHAOqD7t4dUosCtK6iYchZNVsKLoiI74hWUSNGaV1Ow9DShwQONH7arwo7bty4I0eOTJ061eFwvPDCC4MGDfr444979OixYMECl8t17bXXxsfHz5o1y2AwaF0p8Lu+LQOr7NMvmr+jAAAAaBK0D5YiEhwcvGrVqi+++CIqKmr37t2TJ08+duyYv7//W2+99cMPP8TExGhdIFDekA5h0cHebjqYDPrbekbVWT0AAACAhjSeCltWy5Ytw8LCzp49q/5jbGzs8OHDdTqdtlUBFTIZ9HNvjP3L2vjKbqR88rp20UHukicA1B+394ga3DZU6yoahnFzHA4REekVanh0VJzG1TQQrd1+FQugcagXwdJms/3jH/94+eWX7XZ7QEDAgw8++M477+zdu7dHjx7z589/7LHH9Pp6cWUVKKt7VMCKyb1e/L/EhPT8sufD/cxPDekwtEOYVoUBQE11ax7QrbnWRTQQLrtNPQiSohtjm2lbDADUHzqlys34rrD9+/fffffdhw4dEpHhw4evWLGiVatWZ8+enT59urrF5cCBA1esWBEbG6ttnVeaem1W8x8HauHQubydJ9LPZecF+nr3a9/8qlaBJgNfhaBJSEtLs9lskZGRZjNLVaGp8PLystlsIjJlypTVq1drXQ5QR7KysqxWa0hIiJ+fn9a1oDbqIGto/PF38eLF/fv3P3TokK+v76JFi7755ptWrVqJSFRU1Ndff7148WIfH58dO3b07Nnztdde07ZUoDLdmgdM6dn8np7N7uwZMbBNMKkSAAAATY3Gn4A3b97scDgGDRp08ODBhx56qNwdlX/5y18OHDjQr1+/4uLimTNnalUkAAAAAMANjYOlxWL517/+9eOPP7Zv377CDh07dty+ffvcuXONxnpxOygAAAAAoByN09qSJUt8fX3d9zEajX//+99HjWIPYgAAAACojzQOllWmylJXXXXVFa0EAIAmy5F/UinJ0rqKhiHIV3/eJiIS4We1Z+7RupyGwRgYpzOx4gvQyNWj+aWKoiQkJCQlJRUUFPTv379169ZaVwQAQJNQdPzdkpSNWlfRMLSPdJzPERHp7L87d+eDWpfTMAQNWm4M6aF1FQCurHqxfGVGRsaDDz4YGhrapUuXm2++edKkSTt37hSRxYsXjxs37ptvvtG6QAAAAABApbQPlgcPHuzUqdPbb7+dk5NTrslut3/++ec33XTTSy+9pEltAAAAAIAqaRwss7KyRo4cmZ2dbTAYHnnkkQ0bNkybNq20ddiwYQMHDlQU5bnnnvvf//6nYZ0AAAAAgMpoHCwXL1587tw5k8m0efPmhQsXjho1Kjg4uLS1W7duW7duvfPOO0Vkzpw5TqdTu0oBAAAAABXTOFh++OGHIvL0008PHjy4wg56vX7BggUWiyUxMfHo0aN1Wx0AAAAAoGpaBkun03ny5EkRGT16tJtuoaGhsbGxIpKYmFhHlQEAAAAAqk3LYFlcXGy320UkLCzMfU+DwSAiWVlssQUAAAAA9Y6WwdLX1zcwMFBEDhw44Kabw+FISEgQkcjIyDqqDAAAAABQbRrfYzl8+HARmTdvXklJSWV9Xn311aKiIqPROGjQoDosDQAAAABQLUZtn37evHkbN2785ZdfRowYsWzZsg4dOpRtLSkpef3111944QURefzxx4OCgmr9RHl5ee+9997XX3999uzZgICAXr163Xvvvd26davRINnZ2e+88058fHxiYmJ4eHjnzp3Hjx8/cODAWlcFAAAAAI2ATlEUbStYvnz5fffdJyJ6vb5r167FxcWJiYnDhg0Tkfj4+IyMDBHp3bv3zp07zWZz7Z4iPj5+3LhxSUlJZU8aDIaXX3555syZ1Rzk/ffff/zxx7Ozs8udnzJlyjvvvOPr61u72krpdDoR0fzHgdopKCjIzs729fUNDQ3Vuhag7qSlpdlstsjIyFr/fkY9kX9gTknKRq2raBjGzjq4M8EhIkufbH7LdVFal9MwBA1abgzpoXUV8EhWVpbVag0JCfHz89O6FtRGHWQNja9Yisi9994bHBz8zDPPHDt2LD4+Xj353XffqQcGg+G+++6bN29erT+1ZGZmjh49Ojk52WQyjRkzZsiQIYmJievWrUtJSXn66aejoqLuuOOOKgf58ccfp0+f7nQ6g4KC7r333ri4uPPnz69bt27Pnj0ffvih2Wx+9913a1ceAAAAADR02gdLERk/fvyYMWPWrFmzf//+xMTEkydPBgYGxsTExMTE3H777XFxcZ4M/sorryQnJ4vIkiVL7rnnHvXkrFmz+vfvn5qaOnPmzAkTJlgsFveDzJgxw+l0Nm/efN++fc2bN1dPPvPMM/fff/+yZctWrlz55z//mTmxAAAAAJqmehEsRcRkMk2bNm3atGmXd1ibzfbOO++IyJQpU0pTpYi0aNFi2bJlI0eOPHfu3Nq1a91ftMzOzlaXpZ05c2ZpqhQRnU73r3/9a/ny5YqibN++nWAJAAAAoGnSeFXYK23Lli35+fkiMn369HJNw4YNUzc7+eqrr9wP8uuvv6oHMTEx5ZqCgoLCw8NFRE2eAAAAANAENfJguWfPHhExGAxXX311uSaTyTRixAgR2b17t/tBIiIi1IMjR46Ua8rKyjp//rywxyYAAACAJqxOp8KuWbNmzpw5tX748ePHa/qQxMREEWnRooWPj8+lrV26dBGRpKQkh8NhNFb6VrRv3/6aa67Ztm3bq6++OmHChPbt26vn7Xb7ww8/rCiKwWCYMmVKTWsDAAAAgMahToNlbm7uiRMn6vIZ09LSRKTsjZFlRUVFiYjD4cjIyKisj+qjjz4aOnRoYmJi165dJ0+e3KlTp8zMzM8//zwxMdFsNi9durRr165VFqPe7eleQUFBlX1QD82dOzctLc1oNM6fP9+TDVeBhsVqtdpstoKCArYbaehsNpvL5dK6igZGURTetGoqLCzUm/mE07BZrVar1erl5aV1Iai/6jRYDhgw4OWXXy53MjMz880333Q6nWqH2NjY6Ojo3NzcU6dObd269cKFC3q9/sUXXxw6dGgtntFqtYpIhZcrRcTb27tsNzdatGixc+fOXr16nTlzZuXKlWWb1qxZM378+OoU88ADD1TZ59J9MtEgrF69Wv0WY8aMGXzOQNNx4cIFu91uNptNJpPWtcAj+qIivcOhdRUNjMulOHjTqicvL8/l4hNOw5aTk1NUVCQiJSUlWteCeqpOg2XPnj179uxZ9kxBQUHfvn2dTueQIUPeeOONcq15eXkLFy58/vnn//73v196k2R12Gw2Ealsmmvp+eLiYvfj/PLLLxMnTjxz5oxOp+vYsWNMTMz58+cPHz5stVqnTp366quvPvzww1UW8+c//9lN69KlS0WEPWcbKL3+4u3KPj4+/BDRdBQWFtpsNl9fX65YNnQOs9mlb+TLLlx2Ot3vv/zhnpe3t44/jg2czWbT6XR+fn6+vr5a14J6SuPtRubPn3/06NG+fft++eWXl15XDAgImD17ttFo/Nvf/nb33XefOnWqpr/B1TEr+2alNE+WXrqsUEpKyvDhw9PT0+Pi4t59993+/fur53NycmbNmrV06dJHHnnEy8vLfW6UqqbCqsEyJCTE/SCon0r/zQwKCuKHiKbDZrPZbLaQkBCCZUOX7+1dUvlaA6iQXq93s0ADygoMDDTyx7GBUxTFbDYHBwfzBToqo/E3bWvWrBGRJ554orLZqiLy+OOPe3l5nTlzZvv27TUd39/fX0Ty8vIqbC09r3arzMsvv5yenu7t7b1+/frSVCkiwcHBS5YsufHGG0XkueeeKywsrGl5AAAAANAIaBksS0pKzpw5IyK9e/d2083LyysuLk5EarHwT9u2bUUkJSWlwtbU1FQR8fX1bdasmZtBvv32WxEZPHhwx44dyzXpdDp1h8yMjIwDBw7UtDwAAAAAaATqxRSO48ePx8bGVtbqcrnUSFmLCSdqIs3MzDx37tyl677Gx8eLSKdOnXQ6nZtB1AV11Ix6qdLdRzIzM2taHgAAaOjyC50ff5/13f68tGy7v7e+WzufqTeGxbV2d5dNqU27c5Mzql4KpXs7n35xf5h/mJPveH9T5pGkohNni8MCTbGtLKMHBl3VqYo5ihcKnKNn/Xp1V/9/PRhdnfIAoPq0DJZeXl7R0dFnzpxZvXr1zTffXFm39evX5+fni4ib8FmZYcOGqQfffffd1KlTyzYVFxerc2uHDx/ufpAuXbps2bLl6NGjFbb++uuv6kF1dhwBAACNyZGkoqnzjyeft5We2Xm4YPmGjNnTWjw8PqLKhy//6vzm/RXfsFPWX26JKBssP/4+a87ylJz839ek/W5f7lvr0ydcF/LGQ619LJXOR/tyR87R5OLoCHaMAHD5aXyP5ZQpU0RkzZo1L7zwQoVrdm/fvv3uu+8WkY4dO/bt27em48fExHTv3l1EFi9erChK2aZVq1ap91jedttt7gdRn3fbtm179+4t1+RwOBYtWiQiwcHB7dq1q2l5AACg4crOc0yZdzz5vM1k0I2+OujlB1rdNzo8KszsdCkvrEz59IfLtsGGn7eh9Hjn4YJHF57OyXcE+hr+ckvEm4+0fm5ai14xviKydkv2rCVnKhskK9fx2kfnLldJAFCOrlzcqmPFxcUDBw5U705s167dAw88oO5jmZ2dffLkyXXr1m3cuFFELBbLzp07y21GUk2ffvqpGh1nz549d+5cg8EgIj/99NPIkSNzcnJGjRq1YcOGsv2fffbZFStWiMiSJUvGjRsnImfPnu3Ro0dmZmbLli3feuutMWPGqD1PnTr16KOPfvHFFyLy1ltvPfjgg568Fep0XG1/HKi1Vq1aqbfynj59Ojqa+UVoKtLS0mw2W2RkJKvCNnT5B+aUpGzUuoqGYeysgzsTHCKy9MnmB0643lqfLiIL/9rmT8ND1Q7nsuwjnko4l2WPCDbtW9rVy+zuS3yXIi5XpX/612/NefCNU20ivTb/O640Ww566HBicnFEsOm7N+Migi9uIaso8sTi0x98kykiX70aW3ZOrEuRU2eLv92Xt+TzdPXK6g19Az98voMnb0JNBQ1abgzpUZfPiMsuKyvLarWGhISwKmwDVQdZQ+N7LC0Wy6effjp27NjDhw+fPHly1qxZl/YJCgp6++23a5cqRWTixInTpk17//3358+f/9Zbb1177bVHjx5NSEgQkaioKHWTj7Ly8vLS09NFRN0EVu22YsWKiRMnpqSkjB07Njg4uEOHDunp6cnJyerPZtKkSR6mSgAA0LA4nMr7mzJFZMJ1IaWpUkSah5refKTNpLnH0nPsX+y4MPF6d9ts6HWiN1S80MPZTNvf3jljMuiWPt2uNFXm5DsSk4tF5OHxEaWpUkR0Opl7T8vV/5epKPLTEWtpsDx1ruSahw7bHHxtDeCK035j33bt2sXHx69cubJbt24m0++/IvV6fXR09Jw5c5KSkiZNmuTJUyxfvvz555/38fHJzs5ev369mipvuOGGnTt3RkVFVWeEMWPGHDp0aNSoUSKSk5OzZ8+eM2fOKIrSqlWrDz/88KOPPvKkPAAA0OAkptgKipwiMmV4WLmmwT38A3wMIvLtvtzaDa4o8tCCpAsFztl3tejZ4fct2Y6nXtyCu12UpdxDAn0NYYEmEUlMKSo9qdNJRIipVbhZ/Z/Z5G61QgDwRL1YFVav199111133XWX0+lMSkpKSUmJiIho27atl9flubncaDS+8MILTz311NatW8+ePRsQENCnT5/S1VzLWbRokXrbZDkdO3bcsGFDVlZWQkLC8ePHmzVrFhcX16ZNG71e+3AOAADqWFKaXUQMet1VnXzLNZkMuiG9Az7blrM/0Vq7wd9an77tUP51PQIeHPeHFYCaBV38Cv5octGNVwWWbcrOd2Tm2kUkIuj3r+nbRHrtX9at9B/HPZu445f82pUEAO7Vi2BZymAwtG/fvrLI5yF/f3/1kqMnQkNDr7nmmmuuueaylAQAABqo9ByHiDQPNXl7VfAVc6do788kJ/m8zeFUjJVMdq3MuSz7Pz88a9Dr5v+5ZbkN0dpEevXv7PfTkYJFa9PHDG9EekEAACAASURBVAxuE3nxK3i7U3nm7WRFEYNeN/46d5NvAeAK0T5YKoqybt26Xbt2nT9/3n3PlStX1klFAAAAVci1ukSk7I2OZUWGmETE4VSy8hyV9anMSx+kFpW47rghrFN0BZthLp3Z7tbZiSdSi695+Mitg4NjWlqy8xxf7849kVpsNureeLh1NbfQBIDLS+NgWVxcfMstt2zatKk6nQmWAACgniixKyJS4eVKEbH8thhsYbGrRsMeSSr63/dZ3l76Z+6oeBmI5qGmja/GDn0sISXD9tF3WWWblsxsN/rqoBo9HQBcLhoHyzfffFNNlb6+vj179gwK4rchAABoAJxORUQqm+Zaer7YVrNgOffdFJciM8ZFqNc8L5Vwumj6KydTMmw6nbSPsrSL8srMdfx6pqiw2PXg66fS7mlx383hNXpGALgsNA6W6o6RAwYMWL9+fURERJX9AQAA6gN1hdUSe8W5sfi385Vd0qzQ/kTr5gN5RoPuvpubVdjhbKZtwpxjGRfsHVtZFj7apk/Hi+sGXShwznsvZdWmzL8tSfYy6u8cUX6hWgC40rRc0dRut586dUpEFi1aRKoEAAANiDrZNb+o4mBZUOhUD0q3oKyOd7/KEJHhfQLDK7kt89+fpmVcsFvM+vefbV+aKkUkyM/w+l9aD+kVICL/+CC1qKRml0kBwHNaBkuXy+VwOAwGQ8+ePTUsAwAAoKbCAg0icjbTVmHruSy7iPhY9KEB1Z0dlpPvWLctR0TuuDG0sj5bDuaLyNVd/Nq3KL+PpU53cUfNrFzHoZOF1XxSALhctAyWXl5eLVu2dDqdqampGpYBAABQU81DjCKSnedIz7Ff2no4qUhEYlpadNXeauTDb7NKbK7wYNPwPoGV9cnJd4hIdETFG323aX7xfFaeo7rPCgCXiZbBUkSmTZsmIh9//LG2ZQAAANRIXLRZPfjxYH65phKba3dCgYhc1yOg+gN+8E2miIwdFOxm30t1A5LjqcUVth5LuXieHUcA1D2Ng+Xs2bN79+797LPPrl27VttKAAAAqi882Ni5jbeIrNhwXlH+0PS/zdn5hU4RGTsouJqjnTpXosbFQV393HTr2cFHRH46UvDz8fKTXR1OZfmX50UkyM/QupJLmgBw5Wi8KmxRUdGqVaseeOCBiRMnDhw4cNSoUR06dAgMrHgGyE033VTH5QEAAFTmqUnNp//z5N6j1lc+PPv0n5ob9DoR2ZdonfdeiogM7xvYo4NPaed/vJ+6+tssEXn9oeiR/cvvr/bdvlz1YEAXfzfP+OAtER99n5Wd57jrpROvzoge0e/iR6Yz6SXPLk3el2gVkWfvbFH9+bcAcLloHCzvv//+0muVO3bs2LFjh5vOSrnvAwEAALQzZlDwpKGhH3+f9cbH5979KuPqLn7HU4sTk4tFJDLEtODh1mU75xc5My7YpZKdLb/dlyciHVpYwgLdfTaLDDEt/Gub6a+cOJtpmzr/eJCfoW1zS8YFe2qmTf2UdMvg4HtGVrxVCQBcURpPhQUAAGi43nyk9VOTm3t76XPyHV/tuqCmyut7Bmz8V6fIkIq3DLlUic21/VC+iFztdh6sakS/wB//03l430ARuVDgPHDMmpJhUxRpEWZe8lTbpTPbefBqAKD2dNpeBiwuLnY4qrtwmZ9f1b9tGy6dTidclW2wWrVqlZKSIiKnT5+Ojo7WuhygjqSlpdlstsjISLPZrHUt8Ej+gTklKRu1rqJhGDvr4M4Eh4gsfbL5LddFqScLipy7DhekZdv9fQw9Ovi0iayLWxyz8x3HkotPnSsJDTR2bGlpFeGlr68zYIMGLTeG9NC6CngkKyvLarWGhIQ07g/kjVgdZA2Np8JaLOV3YQIAAGhY/LwN6iXEuhTib+zf2a9/Zz7lA6gXmAoLAAAAAPBIXV+xfP3110+dOiUi8+bNCwkJ+fnnn9PS0qr5WFaFBQAAAIB6qK6D5SeffPLTTz+JyFNPPRUSEjJ//vzq72DJ/YcAAAAAUA9pfI8lAADQ3Iy/f/7JV4e0rqJhcLgufs09Y0HaX96s7qyrJu77DfHXjGDxHqCRq+tg+fLLL2dlZYlIeHi4iHzwwQcrV66s4xoAAEBZDqfL7mRaUM04XYpT6xoaCpergq07ATQydR0shwwZUvYfWRUWAAAAABo6psICANDULZk3bsF9bEZaLROejd/1q0NE3n6s+Zhrm2tdTsPQrB/zYIHGj2AJAEBTZ9DrzEad1lU0DLrf3ieDQXjTqkmn440CGj/2sQQAAAAAeIRgCQAAAADwCMESAAAAAOARgiUAAAAAwCMESwAAAACARwiWAAAAAACPECwBAAAAAB6pR/tYKoqSkJCQlJRUUFDQv3//1q1ba10RAAAAAKBq9eKKZUZGxoMPPhgaGtqlS5ebb7550qRJO3fuFJHFixePGzfum2++0bpAAAAAAECltA+WBw8e7NSp09tvv52Tk1OuyW63f/755zfddNNLL72kSW0AgMrk5+cfPnxYnWmidS1A3TEZjb8dmLStBADqFY2DZVZW1siRI7Ozsw0GwyOPPLJhw4Zp06aVtg4bNmzgwIGKojz33HP/+9//NKwTAFDOjz/+OHz48JtuuunRRx/Vuhag7pjNXhcPvMzaVgIA9YrGwXLx4sXnzp0zmUybN29euHDhqFGjgoODS1u7deu2devWO++8U0TmzJnjdDq1qxQAAAAAUDGNg+WHH34oIk8//fTgwYMr7KDX6xcsWGCxWBITE48ePVq31QEAAAAAqqZlsHQ6nSdPnhSR0aNHu+kWGhoaGxsrIomJiXVUGQCgKufPn1cPMjIytK0EAABoTstgWVxcbLfbRSQsLMx9T4PBICJZWVl1URYAoBpOnz6tHpw5c0bbSgAAgOa0DJa+vr6BgYEicuDAATfdHA5HQkKCiERGRtZRZQAAAACAatP4Hsvhw4eLyLx580pKSirr8+qrrxYVFRmNxkGDBtVhaQAAAACAatE4WM6bN8/Hx+eXX34ZMWLE8ePHy7WWlJS89NJLL7zwgog8/vjjQUFBWtQIAAAAAHDHqO3Td+7ceeHChffdd9+WLVtiY2O7du1aXFwsIsuWLVu2bFl8fLy6JkTv3r3nz5+vbakAAAAAgAppHCxF5N577w0ODn7mmWeOHTsWHx+vnvzuu+/UA4PBcN99982bN89sZhtiAAAAAKiPtA+WIjJ+/PgxY8asWbNm//79iYmJJ0+eDAwMjImJiYmJuf322+Pi4rQuEAAAAABQqXoRLEXEZDJNmzZt2rRpWhcCAAAAAKgZjRfvKaukpKSwsLD0H10u1+7du51Op4YlAQAAAACqVC+C5bp166699trAwMAdO3aUnrTZbP379w8ODn744YeLioo0LA+okrroVNkDAAAAoOnQPlg+8cQT48eP37p1a4VbWebn5y9evLh37945OTl1XxtQTaX/fmZnZ2tbCQAAAFD3NA6W33///YIFC0Ske/fuS5cu7devX2mTxWI5cuTI7NmzjUbjr7/+OmfOHO3KBAAAAABUSuNg+Y9//ENEBg4cuHv37vvuuy8gIKBsa1xc3Isvvvj++++LyNtvv821IAAAAACohzQOlurGlc8//7yXl1dlff70pz9FRUU5nc4jR47UYWkAAAAAgGrRMlhardbMzEwR6dSpk/ue0dHRInLs2LG6KAsAAAAAUBNaBktvb2+j0SjVSIyJiYki4uPjUxdlAQAAAABqQstgqdfre/XqJSKrV692023Tpk3q3ZU9e/aso8oAAAAAANWm8T2Wf/3rX0Vk5cqVc+bMqXADwK1bt06ZMkVErr322tjY2LquDwAAAABQFaO2Tz916tTvv//+3XffnT9//ttvvz158uR27dq1bNnSarUmJSV9//33W7duFZGQkJAPPvhA21IBAAAAABXSOFiKyOLFi41G44oVKzIzMxctWnRph5iYmKVLl7Zq1aruawMAAAAAVEnjqbAi4u3t/c477xw+fPiuu+7q1q2br6+vej4yMnLw4MGLFy8+cuTIddddp22RAAAAAIDKaH/FUhUbG7ty5Ur1OD093c/PrzRhAgAAAADqs/oSLMuKiIjQugQAAAAAQHVpHywVRVm3bt2uXbvOnz/vvmfpJU0AAAAAQP2hcbAsLi6+5ZZbNm3aVJ3OBEsAAAAAqIc0DpZvvvmmmip9fX179uwZFBSkbT1A7SiKoh7YbDZtKwEAAADqnsbBcsWKFSIyYMCA9evXc2slGi6Xy6Ue5OTkaFsJAAAAUPe0DJZ2u/3UqVMismjRIlIlAACo/0YOCGzb3CQirSO8tK4FAOoRLYOly+VyOBwGg6Fnz54algEAAFBNd94YZrfbdTqdyWTSuhYAqEf0Gj63l5dXy5YtnU5namqqhmUAAAAAADyh8T2W06ZNe+mllz7++OOZM2dqWwkAAE2Wb9wj3u3v0rqKhuH555/ftWuXTqf7xz/+0bdvX63LaRgMvi21LgHAFadxsJw9e/bXX3/97LPPtmvXbsKECdoWAwBA06S3hOst4VpX0TAcOJqz+adTIpJV5G8M6KB1OQBQX2gcLIuKilatWvXAAw9MnDhx4MCBo0aN6tChQ2BgYIWdb7rppjouDwAAAABQJY2D5f3337927Vr1eMeOHTt27HDTuXSrQAAAAABA/aHl4j0AAAAAgEZA4yuWH3zwwcqVK7WtAQAAAADgCY2DpcVi0bYAAAAAAICHmAoLAAAAAPBIwwiWV199tY+PT25urtaFAAAAAADK03gqbKnk5OT09PQKmxISEvbs2eN0OpOTkyvbiQQAAAAAoBXtg+WmTZumT59+9uxZ990CAgLatGlTJxUBAAAAAGpA46mwP//8880331xlqoyJifn888/9/PzqpioAAAAAQPVpHCwXLFjgdDpDQkLWrl17+vTpdevWGY3GiIiI5OTk5OTk7777bsqUKSIydOjQ6667TttSAQAAAAAV0ngq7ObNm0Vk3rx548ePF5Ho6Ogbbrhh48aN2dnZ3bt3b9my5dChQ/39/ZcsWTJ69OjRo0drWy0AAAAA4FJaXrF0uVznzp0TkSFDhpSe7NOnj4gcPHiw9MyLL77o4+MzY8YMl8tV90UCAAAAANzTMlgWFhY6HA4RCQoKKj3Zvn17ETl27FjpmWbNmvXu3Ts1NXX37t11XyQAAAAAwD0tg6Wfn5+/v7+IqNctVWqwLHvFUkRat24tf0ybAAAAAIB6QuPFe9TEuGbNmtIzcXFxIrJjxw6bzVZ68vz58yJiNGq/OQoAAAAAoByNg+Vdd90lIm+88cYTTzzxyy+/iEhYWFj79u0zMzP/85//qH2OHj36ww8/iEhMTIx2lQIAAAAAKqZxsHzggQc6duyoKMqCBQvmzp2rnrz//vtF5Kmnnho6dOj48eP79+9vt9tjYmJ69uypZa0AAAAAgIpoHCz9/f137959xx13hISElJ589NFHBwwYIPL/2bvv+Kiq9H/gzy1T0xukJySE3ntRkGZBVLACsqC4C/v7WnYFFVdB17aKZYUFFEWRZWERBUFRAVcQpPeaAAmQhPQ2KZPJtFt+f9wwhGSSTAq5CXzeL15yc87JOU8mmOTJafTbb79t2rSptLTUaDQuWbIES2EBAAAAAABaIfVTNT8/vzVr1siybDKZlBKdTrdjx44lS5b88ssvdru9V69ezz77rLL3EgAAAEAVsiwfKrySnhBExttIFHfZ8vpWlIUbfdWOCwCgVVA/sVQwDBMUFOR602g0zps3b968eSqGBAAAAKC4ZC5acHxbcmlBVowfBcQS0eaKjN93rHosrs8zXYZrOU7tAAEAVKbyUlgAAACAVu6y2fSnfd8mlxZUKxdl6b+Xjs8/vlWWZVUCAwBoPVp0xnLdunULFixo9LtfvHixGYMBAAAAqJcsy2+d/F+Zw1Zbg505F7dmXRgf2aUlowIAaG1aNLEsLS29dOlSS44IAAAA0BTnSvPPFOfU3eab1JNILAHgFteiieWQIUPefffdaoWFhYWLFi0SRVFp0Llz5+jo6NLS0tTU1D179pSUlLAs+9Zbb40ePbolQwUiOmXKtggOtaNoG5iECGUd1CXGuj8/Te1w2oYhITEsw6gdBQBAPU4WZdXbJrEkzyGJWhY7LQHg1tWiiWWfPn2q3UVZXl4+YMAAURRHjRr1z3/+s1ptWVnZv/71r9dee+31118fOnRoS4YKRPTe6Z0pZYVqR9FGTB1NskxEKyyX/nswV+1o2obd4//Pi9eqHQUAQD2KHdZ628iyXGyvaG/waYF4AABaJ5VPhX377bcvXLgwYMCAH3/80Wg0Vqv19fWdP38+z/N/+9vfnnjiidTUVJbFaUMAAADQcoye/QrMW6O70ZEAALRmKudp69atI6I5c+bUzCpdnn/+eZ1Od+XKlX379rVgaAAAAAAU7xNUb5tQgw+WYADALU7NxNJut1+5coWI+vXrV0cznU7XtWtXIsLBPwAAANDCBodEB+pq/fW34m6c3AMAt7xWsbK07ntEJElSUkqeV3nhLgAAANxqdBz/126319EgzOg7o+OAFosHAKB1UjOx1Ol00dHRRLR27do6mm3evNlsNhNR586dWygyAAAAgKvGR3Wd030E7+6ghxjvgKVDJvlggyUA3PJUnrGcOnUqEa1bt+6NN94QBKFmg3379j3xxBNE1KlTpwED8OtAAAAAUMHU+H7/Hfn4g7E99TaBJIkcQiznNbfHyLUjH4/xDlA7OgAA9am8uPT111/fvn37iRMn/v73v69evXr27NnKPZYmk+ny5cubNm3aunUrEen1+vXr1zO48q5lpZkq8qx2taNoGxiWk0WBiErsUrmEF80jDkHywvJ2AGg74nyCXuk1Zs+8D7dt20ZEf/1x2r1xfdUOCgCgtVD5xzq9Xr9hw4b7778/MTHx8uXL8+bNq9nG399/+fLl1a64hBaQXWYzOZ1qR9E2yFcfSm0C48RvQDzilOT6GwEAAABAW6D+4T1xcXGnT59etWpVz549NRqNq5xl2ejo6AULFqSlpT322GMqRggAAAAAAAB1aBUL0ViWnTFjxowZM0RRTEtLy8zMbN++fYcOHXQ6bIUHAAAAAABo7VpFYunCcVx8fHx8fLzagQAAAAAAAICn1FwKW1FRwfM8z/Mff/yximEAAAAAAABAU6h8jyXP86Ionj9/XsUwAAAAAAAAoCnUTCw5jps8eTIR7dy5027HDQ0AAAAAAABtksqnwi5evHjQoEEXL158+eWXRVFUNxgAAAAAAABoBJUP72FZdsOGDS+99NKiRYt++umn6dOnR0VFtWvXjmHc3AR49913t3yEAAAAAAAAUDeVE8snn3xy48aNynNKSsqCBQvqaCzLuE4dAAAAAACg1VF5KSwAAAAAAAC0dSrPWK5Zs2bVqlXqxgAAAAAAAABNoXJiqdfr1Q0AAAAAAAAAmkjlxLKm3NzctLQ0Pz+/uLg4nU6ndjgAAAAAAABQj1axx1KW5W+++WbgwIFeXl5hYWFDhw7t1q2b0WiMjY19+eWXS0tL1Q4QAAAAAAAAaqV+YpmWlta/f//HHnvs6NGjFRUVrnJJktLT0xcuXBgfH79hwwYVIwQAAAAAAIA6qLwUVhCEqVOnnjhxgoh69Ogxc+bM+Pj4qKiokpKS1NTUbdu2bdy4saioaMaMGT169OjSpYu60QIAAAAAAEBNKieWH3zwwYEDB4ho+fLls2bNYhjGVTVq1KiZM2cmJiaOHj06Pz9/2rRpR48eVS9SAAAAAAAAcE/lpbBr1qwhoqeffnr27NlVs0qX7t27f/3110R07NixxMTElo4PAAAAAAAA6qNmYimK4vnz54nowQcfrKPZqFGjgoODiejs2bMtFBkAANQnJydHeai6PR4AAABuTWomlhaLRZIkIoqNja27ZYcOHYiorKysBaICAABPlJeXKw9Op1PdSAAAAEB1au6x9PX11Wq1Dofj1KlTcXFxtTUTBEGZq1TmLQHaBNlmF/efEBNT5BIz6XVsdBh/W382or0n7yueOi+b6r9lh40KYztGN9egws4Dwq7DXP8emgfGeNIeAAAAbhEWwXG6NNdUbo7ihL5Gg4bl1I4IWiOVD+8ZNGjQ3r17Fy9ePGHCBI1G47bNp59+arVaGYYZMmRIC4cH0DhSZq592Vq5qORaSUqa8NshzaRxmrtuq/fdhV2HxMSL9TbTjBteNbFsyqDSlWzHhu0kiGypud5xAQAA4BaRaSldkrR3V+4lu9MhSRLP895a3aSYnrM7DzXy7n90h1uWyof3zJ07l4h27949ZcqU9PT0arU2m23JkiVz5swhosmTJ4eFhakQIkADyeUV9qVr5KIS4jiuXzftlAn86CFMgC9JknPjduHQqWYbSa9rnkHtDvuKb0kQmy0wAAAAaPtOmbIf3712R06KKEuuwgrBufbS8em/rzPZscEerqPyjOXEiRNnz5792Wefbdy48fvvvx87dmx8fHxkZGRxcXF6evquXbvy8vKIKDY29tNPP1U3VAAPCVt/Vxayaqfdzw/vpxTKd99u+8dnckmZc8N2vl930tT1v57uuekky7X2f+SM48sNTEggP25Yswzq+PonOa+wgR8lAAAA3MzKHLYXjmyxCA63tWnlpleObV0+7KEWjgpaM5UTSyJatGiRr6/vkiVLbDbbtm3baja48847Fy9e7Ofn1/KxATSYIAp7jhIRP6iXK8EjIsbfVztjon3xarnULBxP5Af3rqsThiF3t+8QkVxc5lz3E3GcbtajjGvGsgmDikfOCPuOM14GIka24FePAAAAQET0TdqpYru1jgZHCzOOFWX2D4pssZCglVM/sdTr9e+///5zzz23ZMmSxMTES5cupaenBwUFxcfHx8fHP/7446NHj1Y7RgBPSSnpss1ORNygnsLOg9edozOsL2PQy1abdCaZ6kws6zi8R9h5QK6wcn27SZczySkqeyzF5LTGDSoXlTjW/EBEpNWSzdYcLwAAAADcDPbkpnrSBokluKifWCoiIyMXLlyodhQATSWlZxMRMYzjvz9WTQ6Vc3TY8HZyZq6Ylll3J/Ue3iOeSBJPJLkO75GUDhs6qCTZv/hWttrYhBgpJZ202IIPAAAAlbKt9R9Qn11Rfxu4dbSWxJKI7Ha7KIpGo1F5U5Kko0eP9u/fn+NwojG0GVJeERERw8imUuI4rndnrnOclFconkiSi8ukzFwikgtLSJKIbfLRWVeXwsqNGtS55Tfp0hUmJFAuLG5qJAAAAABwa2sVieWmTZs+/vjjw4cP//jjj2PHjlUKHQ7H4MGDfXx8pk+f/sEHHxgMBnWDBPBIWTkRkSRRLefoKLWy2cL4+dTWh9vDexz/3iwcOMEP78d2iat2eI9cZm7ooFJymnPrbmIZcjhlXDECAAAA1ws1+Na9x5KIQg21/jADtyCVrxshojlz5jz44IN79uyx2+01a81m87Jly/r161dcjEkVaANke+XhaW7P0bnWzu6sqxeGIZat+kfKzhcOniSthr9jcM3De2RbwwaV0rNtH35JkkySjKwSAAAAahreLrb+Nu073PhAoM1QObHcuXPnxx9/TES9evVasWLFoEGDXFV6vT4pKWn+/Pk8z58/f37BggXqhQngKbm88mBV7rb+1aq4LnHM1X2MsrPOxLIG54btJMuascOcG7bJFVbNg+PYmIhrg1oaNqhz869ERBqeCfJngvyJbxUrFwAAAKD1eKxDH1+tvo4GvQLCBgVHtVg80PqpnFi+8847RDRs2LDDhw//8Y9/9PX1rVrbtWvXt956a/Xq1US0fPlyk8mkTpQAnhMrbxDm4mp8qeU4JqK98sg05KQcKTVTTLpILEssI15I5brGa8YOu66FIHo+qLDnqJiYwngZDO88b3h3ruHduWwcznMDAACA6wToDO/1H6/j3P/2Odzo++6A8Uwtt6PBrUnlxPL06dNE9Nprr+l0utraTJkyJTw8XBTFpKSkFgwNoFFEkYiI49wessp4V55N1aAjWIVdh4mI6xLn/GUfsazmsfHVb7lUslkPBpWLyxzrfyYi7fSJjL9vzcYAAAAAikEh0f8ZMXVou5iqCaSW4x6M7blm5NT22GAJ11NzCZzFYiksLCSiLl261N0yOjo6Ozs7JSXltttua5HQABqr8itv9aN3KrmO5Kml3s17WKzC0TNERJJEDid/W382vF31Rqyng8rFpeRwEpF9xbfXGijJsMNJRML+E8LBU0SkGTtM8+A4T6MEAACAm1GcT+CSIZOK7BUHryQXl5dHBYUMDO9g5LVqxwWtkZozlgaDged5IkpJSam7ZXJyMhG5biIBaL2U23FEye2hOHLJ1UKHp3sshX3HyCkw3kbxQippNZr7x7hppFwi0qBBBeHan6on0EpSZaEoehghAAAA3NyCdMYhgVEjgqL7B0Ygq4TaqDljybJs3759jxw5snbtWtctIzVt375d2V3Zp0+fFowOoDEYrUbJ0sRzl/khva+rcwpSfpHyKDudHm5KEPceIyLSaqi8QjN2GOPvZtkJo9N6Omh4O93cmdXe3bH+ZzkzlzQ8OQWuZyf+ztuIiA308yxAAAAAAAC191g+99xzRLRq1aoFCxbYbLaaDfbs2TN16lQiGjFiROfOnVs6PoCG8qq8cFXYdajaXZTCwZOuOUMPD++R801SbiERyaZSYll+9BC3zRiPB2X0Oq5zh2p/GKOeqHIRL+PnU1kYEujRxwsAAAAAoO6MJRFNmzZt586dX3311dtvv718+fLJkyfHxcVFRkZaLJa0tLSdO3fu2bOHiAIDA9esWaNuqACeYPSV60OkyxnOH3Zq7hulrFOVUjOdG3+51u7qFZTOTf8T9h0nIu20+7k+Xav1Jp5Ndj1zPTsxvt7uR73am4eDAgAAAAA0L/Xvr1u2bBnP8ytXriwsLFy6dGnNBgkJCStWrIiK8qn3iwAAIABJREFUwj050AYwQf5ERDxPguD8aZew6xCbECvnFUo5BaSsWbU7SKd1ndQq2+xyWTkRkVOo2Zt4NoWIiGFIlvkad1RWGTSgQYMCAAAAADQvlZfCEpHBYPj8888TExNnzJjRs2dPLy8vpTw0NPT2229ftmxZUlLSyJEj1Q0SwENMaAgRkSDw44aRViNbrOLJc0qCx3WLZ2MjiYgNDa5+X4hbTkG8kEpEJMuMrzfXs1NtDdmw5hsUAAAAAKDh1J+xVHTu3HnVqlXKc15enre3tyvDBGhDuC4dlB2NbFS44cN5Ukq6XGpm9Do2Jpzx97XOfY+IuK7xrvbaKRO0Uya470vDG5e9ZnttsZRbyA3oUXn0q9tBu8ZRQwZ130nnON2z0xrysQIAAAAAVGotiWVV7du3VzsEgEZi2gWykaFSZq6w6xA/uFfVaUZhz1HZZicirn8PD3tzHd7DdYqtc9CgZhwUAAAAAKCh1F8KC3CT0dx7B109R4ckSSl0naPD9ezExoS7Gjs3/c/6wkLrCwvFk+dqduU6vIdNiG3GQQEAAAAAmpf6M5ayLG/atOngwYP5+fl1t3StlW2EsrKyf//739u2bcvOzvb19e3bt+9TTz3Vs2dPT953y5Yt6enp9Tbr27fv8OHDGx0h3DS4/t35oX2EAyfdnKPj76P9w8SqjT05vIcNDWZ86lkZ3qBBAQAAAACal8qJpc1mmzhx4vbt2z1p3OjE8vTp0w888EBaWpqr5Pfff1+6dOm777774osv1vvuy5Yt8yTCuXPn3mSJpS3xgmguUjuKNqI4jySRiMQcG8NyXI9OssMpnjqvnKOjNGEjQ/mRA6VL1/2SQs43KQ/S5Qxirz9cRxTF85eIiAnwFY+drTcEzwetzmwhIrnU7MkozUh4zE0uDQAAAABtkcqJ5aJFi5SczcvLq0+fPv7+/s0+RGFh4YQJEzIyMjQazX333Tdq1Kjk5ORNmzZlZma+9NJL4eHhjz/+eLMM5OPj0yz9tB7F6zc7M7LVjqKNcdReJWXmOtZuqa3WueMA7Tjgtko8d1k8d7lx8dQ96HUtr2TbP1vfuFEax/bmv8i31f1fczAn98U9O9WOom3I7hZDDwwjIs4/6PZv/qt2OG3D4HYRH96Bc84BAOAmpHJiuXLlSiIaMmTI5s2bb9CZPe+9915GRgYRffbZZ08++aRSOG/evMGDB2dlZb344osPPfSQXq+vo4eff/5Zurpprab169dPmzYtPj5+zpw5zRs5ALS8jDLz8dJGpvG3GtFXot5xROTQe+FF8xQjqx0BAADADaFmYul0OlNTU4lo6dKlNyirdDgcn3/+ORFNnTrVlVUSUURExBdffHHPPffk5ORs3Lix7klLlmXZWm56yMzMfPbZZzUazddff33zzVgauneR2gWoHUXbIFotRBIRcXpvXBfpIQ2vUTsEAAAAAGgeaiaWkiQJgsBxXJ8+fW7QELt37zabzUQ0c+bMalVjxozx8/MrLS39+eefG7caVpbl6dOnFxcXf/jhhwMGDGiGcFsZ/8ceEJxlakfRNlhzLsmiQETasDiGQ77kEV2dKwUAAAAAoA1RM7HU6XSRkZGZmZlZWVnR0dE3YogjR44QEcdxQ4cOrVal0Wjuuuuub7755vDhw43r/KOPPvrtt9/Gjh17sy6CtZWZRLKqHUUbIVcubxNtFobl1I2lrRAFHN4DAAAAcJNQeY/l9OnT//GPf6xfv96T01kbITk5mYgiIiKMRmPN2u7duxNRWlqaIAg837CXIisr6/XXX+c4btGiRcxNuvSxJO2Cw0f9C2naFkdxntohtBk2m60VHt4DAAAAAI2gctowf/78bdu2vfLKK3FxcQ899FCz95+bm0tEYWFhbmvDw8OJSBCEgoKC2trUZv78+RUVFU899ZSSnXpi1qxZ9bYxmUwNCuOGkgmHTMANVFJaYuJb3eyuudyMf/mekqs+4kXziCA4W9XXeWgEp9OpPJjNZnw24dZRXFxcUVHBMIzDUccR+HBLUzmxtFqt//nPf2bPnv3www8PGzZs/PjxHTt29PPzc9v47rvvbmj/FouFiNxOVxKRwWCo2sxzp0+fXr16tdFofPPNNz1/rxUrVtTbpry8vEGR3FA6n0DJgB8WPSLaLMpqWFZvZBj3Rz1BNXa7o1X9g1fYbXbXwmao23XJJF40z4ii2Ar/2UODiKKoPNhsNnw24dZhsVisVqtGo5HxBR9qoXJiOWvWrI0bNyrP+/fv379/fx2NG/HvWPmdSm3LXF3lNputQd2++OKLkiQ9//zzypynhz777LM6amfPnk1EgYGBDYrkhgqI7SwJOLzHI9acy8rhPbqAUIbD+mGPhIaGBup1akdRnXdxyc26uL3ZVX2h8KJ5iOc1rerrPDSCRlN5QpuPjw8+m3BL0Wq1gYGBXl5eagcCrdRN/hOwMldpt9vd1rrySdfUpScOHz78yy+/8Dz/zDPPNCiYupfCKomlt7d3g/q8oRiGIcIPi42AF80jRqPR29iA//Vahl5vwGewUfCieYTjuFb1dR4ageMq1/Dr9Xp8NuHWofw47eXlhX/2UBuVE8s1a9asWrXqxvWv3C1ZVuZ+2s1V3qArKD/55BMiGj9+fGhoaJMDBAAAAAAAaPNUTiz1N/giuw4dOhBRZmam29qsrCwi8vLyCgkJ8bBDk8m0fv16InrqqaeaKUYAAAAAAIC27SY/ZaRr165EVFhYmJOTU7P29OnTRNSlSxfPdwetXLnSZrOFhoaOHz++GeMEAAAAAABou1pdYpmbm3vw4MFz587VtjGyQcaMGaM87Nixo1qVzWbbt28fEY0dO9bzDr/44gsieuSRRxp67yUAAAAAAMDNqlVkR7Isf/vttx988EFSUlJFRYVSyLJsVFTU5MmT//a3v9V2AUm9EhISevXqdfr06WXLlj3++ONVZyb/85//KHssH3nkEQ97u3jx4oULF4ho5MiRjYsHAOAmJtvs4v4TYmKKXGImvY6NDuNv689GtG9EV1JalnDghJSVR3YnGxbMdurAD+9H7laXyBarsOeIlJkn5xUyPt5sWAjXrxsbH93kjwYAAAAaQP0Zy7S0tP79+z/22GNHjx51ZZVEJElSenr6woUL4+PjN2zY0Oj+FyxYQEQHDx587bXXXHdPHTp0aN68eUQ0fvz4/v37V23/yiuvhIaGhoaGfv/999W62rp1q/Jw++23NzoeAICbkpSZa3tjqePrn8QzyVJGjpSSJuw4YHvrE+f2vQ3sSHKs+9H2j+XCb4ek5DQpPUs4eMqxerPtneWyqbRaW+HASdv8j53f/U88fFpKzxbPJjv/t8+2cIXji2/Jjiu8AQAAWo7KM5aCIEydOvXEiRNE1KNHj5kzZ8bHx0dFRZWUlKSmpm7btm3jxo1FRUUzZszo0aNHly5dGjHEww8/PH369NWrV7/99tuffPLJiBEjLly4cO7cOSIKDw9fsWJFtfZlZWV5eXlEZLVaq1UpiWXnzp3btWvXiEgAAG5WcnmFfeka2VRKLMv4GIllSSbZaiO7w7lxO+Pvww/u7WFXjnU/CbsPExHj40VaDRGRTLKpRLqSbV/xjf7Fp4hliUg8dV46f9m58yDJMqPVsHFR5OtNdoeUkSubSoTDp6UCEz+kDxsVxna8bvZSLioRjp6RMnLl3ALS69jIMH5IbzY2oplfEQAAgFuMyonlBx98cODAASJavnz5rFmzqi5VHTVq1MyZMxMTE0ePHp2fnz9t2rSjR482bpQvv/wyNjb2ww8/NJlMmzdvVgrHjRv3xRdfhIeHe9iJzWbbtWsXEY0YMaJxYQAA3KyErb9XTidKklxaXq3WuWE73687aer/jiNeSFWySiKSzZZqtdKlK8LBU/ywvkQk7DokJl6sbOlwiucvV2+cmulIzdSMG34tsZRlYfcRx8btVSczpeQ04beD/Jih2kfudrvUFgAAADyh/j2WRPT000/Pnj3bbYPu3bt//fXXo0ePPnbsWGJiYvfu3RsxCs/zb7zxxgsvvLBnz57s7GxfX9/+/fvHx8e7bbx06dKlS5fWLNfr9VVX6gIAQCVREn4/UvnMcVzvzlznOCmvUDyRJBeXEZFcahaOJ3oyaSn8tMv1zMZEcD0SGH8f8fxl8Vhi5VAnkpTEkkTJo9j0umud/7rf8e02ImKC/PnBvZnQYDmvSDh8Wi4wCb/uZ3RazQNjPOoTAAAAalAzsRRF8fz580T04IMP1tFs1KhRwcHBhYWFZ8+ebVxiqfDx8cEdIQAAzU5OzZavzgFqp93PD+9XWX737bZ/fCaXlBGRdOoC1ZdYymaLeCFVeeaH9tU+MUmZQuRHDhJ2HXb8dwsRMSGBSgPN/aOVWUrd/z3O9epUrSvr8+/KVhuj1/HjhlV2XlDs+H4HEXHd4rV/nsJcTTg1d99u/3KDePKcc/sefng/JjigKS8FAADALUvNw3ssFoskSUQUGxtbd8sOHToQkXKIKwAAtC5X8pW/+QE9XFklETH+vtoZE5VnMTm13m7Ec5dIlomIDW+nnTGx6sJU/o5ByumycmFxZed+PsqDlFdALFv1j5RTIFttRMT16+ZKIIXfj5DDSRqNdvokpso0Jum02ukTGS8DCaKw73jjXgAAAABQM7H09fXVarVEdOrUqTqaCYJw9uxZIgoODm6hyAAAwGNyWo7ywI0YWK2K6xKnbK2UzRaS6lm8KqdmKg/8bf2JZeXyCvH8ZfFMsrJ7U/vkQ7rZk/nbByhtmJBAtmMMEQnb9soFpmu9CIL946+IiBiGHzfcVSxl5hARGxvOBFa/v4rxNrLdE4hIPHXe848aAAAAqlJ5j+WgQYP27t27ePHiCRMmaDQat20+/fRTq9XKMMyQIUNaODwAAKhfsVn5m4uLql7FcWxEeykti2RZNltc04xuiZczlAe2W0f7F9+KR8+6clHGx0szaRx/23W3Q+lmPWr76Cs5r9D69yX8wJ5MaAiVVwgHTshmCzGM9okHq16hKeUUEBHbLsjt0GxYiKi0kSTl1FkAAABoEJW/fc6dO5eIdu/ePWXKlPT09Gq1NpttyZIlc+bMIaLJkyeHhYWpECIAANSpcoOlhq+8HeR612YIrfZ6+imzEBExjP3TdeLh0yRJjF7H6LREJJstjtWb7cvXXdezv6/+5VlMoB85BWH/Ced3vzh/2aucJat95B5+aJ/rGnsbiUjZ8OlmaKVcFOWi6ldlAgAAgCdUnrGcOHHi7NmzP/vss40bN37//fdjx46Nj4+PjIwsLi5OT0/ftWuXcqVkbGzsp59+qm6oAADgniASEcO7/4bCeBmVB6m0jAutc0eDzU5EJMtyXiETHCCbSmXb1VyU40gUxeNJwr7jrm2cUlae47OvZVMpMQzbPohpFyRdzpTLLUTk2PQ/4lh+1GBX32xEe+lKjpSeTXYH6bTV4hfPVd5WIlttuHIEAACgEVROLIlo0aJFvr6+S5Yssdls27Ztq9ngzjvvXLx4sZ9f9V0xAADQBlw9g4eR62vpWviq1ymH9DBeRpIlucJGoqhUOb/7RUks5eIy+8er5LJyNixE+8SDbIdIKTPX9tYnpNXwfbsJh0451v1IPOfak8n17iIcOCmXVzg2btdOmXDtZCBJcmzYJucXVb7puHbFJQAAAHhO/cRSr9e///77zz333JIlSxITEy9dupSenh4UFBQfHx8fH//444+PHj1a7RgBAKAODBEpB7q6IQjK3zLn6eYL2Wbnh/TRTByrLKOVcguca7coN5HIZotsKmUC/Zxbd8tl5aTR6P5vKtM+mIicG7aTLGvGDtM8MEY2W8Ski87Nv/KDeysLdLl+3bneXcRT54Vdh6XMPH5ADybQTyowiYdOS1eySaMhp5OIqJZ5VwAAAKhba/kOGhkZuXDhQrWjAACAhtPxZLPLSmJWg7LpkYjYOk/uISLiOOVvfkgf7cyHXMVsaIjuLzOsr34sF5cSkZSVxwX6KYtXuYQYJauUUjPFpIvEsvzoIcQw/PB+YtJF2WyRruSwHaOVfrTTJzr+vUk8fUG6mO64eG1XPxsdxg3s6dz4CxGR/vpVsgAAAOCZVnT2nd1ur6iocL0pSdLhw4fFq8ufAACgdWIMOiIiUZJLzTVr5cKSyieDvp6ODJXXS2oeGFO9iuf4gT0qnx1OIiJLBRExwQFKmbDrMBFxPTsxvt5ExLQLrBy93HItTh8v3TPTdLMn80P7stFhTKAfmxCrnXyv/m+zXdOtjG992S8AAAC40yoSy02bNo0YMcLPz2///v2uQofDMXjw4ICAgGeeecZqtaoYHgAA1CW88kge1xE41zgFqaCIiIjjlHNZ6+DKEmWHu8lPsXIHpkwyETHh7YhIziskItliFY6eIeUCTCIiknIKlYeqN44ouP7dtU8+qJ//f4b3XtC/+BQ/eghxnFxSTkSMnw9jrC/7BQAAAHfUTyznzJnz4IMP7tmzx253cxK92WxetmxZv379iouLWz42AACoFxNVmbwJO/ZX22kpHDypnBnLtgu8dl5OLbiEGOXBufnX6nV2h3DktPLI+voQERcTQURiSrqUniXsO0ZOgfH15np2IiKSJOG3g0TEGA2uZLVuUnIqEbEdIj1pDAAAADWpnFju3Lnz448/JqJevXqtWLFi0KBBriq9Xp+UlDR//nye58+fP79gwQL1wgQAgFoxHSOUByk92/nDTtfhrlJqZuXGRSKud5eq7+Lc9D/rCwutLywUT55zFbIJscqDeCLJseo72WpT3pQLTLbFqytvuSRiItsTET9uOONtJEmyf/Jf4dcDRMQN6EEsKxcW2z9dJ6VmEpFm0lhXNiuePGf78Ev7RyuvXWFylZSVJ2Xm1gwSAAAUDofj8OHDx44dO3HihNqxQOul8uE977zzDhENGzZs586dOp2uWm3Xrl3feuutbt26TZ06dfny5W+++WZgYKAaYQIAQO2C/NjIUCU3c/60S9h1iE2IlfMKpZwCVxOuf4+q7yHb7HJZORGRU7jWJiGG8fFSDvsR9p8QDp5iQ4Nlh1O5ekTBRrRnDHoiYvx9tDMm2T/7Wi4uU6rEs8nWl8/JxWXKrCk3sCc/8tovK5nQYCk5jYjEQ6eqlpMsO7f8RkSMl4Hr372ZXhEAgJtKbm7u+PHjiSgyMjIjI0PtcKCVUnnG8vTp00T02muv1cwqXaZMmRIeHi6KYlJSUguGBgAAntLce0flE8fKFqt48lxlVsmxRMT17MTGhFdtL12u/LlESs+6Vsqy/N23u55JkqTs/MqsUsMTETGMduoEV3OudxfD68+w4e2UN+V8k2wqJVlmAv10f3xE96dHq47IhoYoK10dG7aLZy5Uvkt5hWP1ZvF4ovIhMPpavxMBAABA3dScsbRYLIWFhUTUpUs9q4+io6Ozs7NTUlJuu+22FgkNAAAagOvfnR/aRzhwkkSJ9Do2JFA2W+SSMhIlxt9H+4eJ1dqzcVFSejYRsTERVcs1Y4ZKiRfFpIskScQwjJ8PSZJcVq5MbGruGeFaLqtg2gczgf6Unc8E+mnuH8P4GNnQdkywv9v9nLo/PmJ76xPZZrcvWcME+TN6nZSdf216c8zQZn1JAAAAbi1qJpYGg4HneUEQUlJSYmJi6miZnJxMREZjPScKAgCAWrQzJjFBAc5f9pLNLmXkKIVct3jt9EmMv8d3eLCs7umpjs07hF2HyCnIJZXLXJmQAO20B7iu8dXbOwXxQioRcd0T+GF96+6bCQnUzfuT479bpJR0uahEOWWIMRr4u2/X3HVbvWcLAQAAQB3UTCxZlu3bt++RI0fWrl07duzY2ppt377dZDIRUZ8+fVowOgAAaAiW1dw/mr9zuJSSLpeaGb2OjQlnQtxvjNdOmaCdMsFtFWk02kfu1t4/WkxJk0vLGW8jGxnKBPnX0pg3LnutATFGtNe/+Ecpt1DOzpdtdibQj+sYTbzKxw0AAADcBFT+bvrcc8/94Q9/WLVqVWRk5KuvvqrXV79AbM+ePVOnTiWiESNGdO7cWY0YAQDAU4xeV3nnRxPptFyP5ujHHTY0mEKDb1DnAAAAtyaVE8tp06bt3Lnzq6++evvtt5cvXz558uS4uLjIyEiLxZKWlrZz5849e/YQUWBg4Jo1a9QNFQBuBTabVXLa1I6ibZAFZ+WDLOFF85DdYlY7BAAAgBtC/fU/y5Yt43l+5cqVhYWFS5curdkgISFhxYoVUVFRLR8bANxq0i+l2PLS1Y6ijZHsVrxoHkozZxH9We0oAAAAmp/6iaXBYPj888/nzp377rvvHj9+/PLlyxaLhYhCQ0MTEhImT548a9YsHhtgAKBFFGRm0te/qR0F3LSsoeH1NwIAAGiDWkvC1rlz51WrVinPeXl53t7eXl5eqkYEALci0SlQclb97QAaRdJ6qx0CAADADdFaEsuq2rdvr3YIAHCLCg2PVDsEuJl5BeDQIAAAuDm1xsQSAEAtkR3jdU8/rnYUbYPktDnLioiI1eo1PkFqh9M2RER3VTsEaKr58+c/8sgjPM8PHDhQ7VgAAFoRJJYAANd4+fpxvbuoHUUbYSunQgMRMXovLhgzvR7x9o9VOwRoqoEDB0ZFRWm12nbt2qkdCwBAK4LEEmrlo+MtxKodRdtgI5KJiEjHsxyPF80jHMuoHQIAAADUTxCEag8ANSGxhFr1DPPVlznUjqJtMKWJykOoF+/lZVQ3mLZCjwwcAACgLcjPz1ceCgoK1I0EWjP8YAcAAAAAAABNgsQSAAAAAAAAmgSJJQAAAAAAADQJEksAAAAAAABoEiSWAAAAAAAA0CRILAEAAAAAAKBJkFgCAAAAAABAkyCxBAAAAAAAgCZBYgkAAAAAAABNgsQSAAAAAAAAmgSJJQAAAAAAADQJr3YAAAAAAG2AJMt78lL3515OLcwzanW9zNFjwhJivAPUjgsAoFVAYgkAAABQj/Ol+fOPbUsrN8my7HQ6GYbZW5K5/PyBidE95vYYqePwAxUA3OqwFBYAAACgLsllBbP3bUgrN1Url2T5u/Qz847+JMmyKoEBALQeSCwBAAAAaiXL8tsnf7UIjtoa7M1L/TEjqSVDAgBohZBYAgAAANQqsSQvqSSv7jYb0k63TDAAAK0WEksAAACAWp0uzqm3zbnSfIcktkAwAACtFhJLAAAAgFoV2yvqbSPLsifNAABuYkgsAQAAAGrlxWs9aeaj0d/oSAAAWjMklgAAAAC1SvALqbdNuNHXyGtaIBgAgFYLiSUAAABArQYGRQXrvepuc09kl5YJBkAVFotFeZBxsw7UDoklAAAAQK20HDe3+0iGYWprEOnlN6PjwJYMCaCFlZeXKw+SJKkbCbRmvNoBQOv1Ys87yp21XtsFVd3x0j9JlonoqQ/uHTRokNrhtA16Dl9/AKBtGBfRqcxp/yhxl0OsfvRrR9/gjwbdh3WwAAD4wQ5q1S8oUu0Q2gz5QobykCAbRoTGqRsMAAA0u4diew4Oif469cTBvLSMMpOB13YLDh8bljAhqpuW49SODgBAfUgsAQAAAOoX6eX3Qo87HJ0cubm5Wq02NDRU7YgAAFoR7LEEAAAAAACAJkFiCQAAAAAAAE2CxBIAAAAAAACaBIklAAAAAAAANAkSSwAAAAAAAGgSnAoLAFCFYPZiytUOom2QtE6Dv5GIGJ7n8aJ5xigVqh0CAADADYHEEgDgGt6eF8gWqR1FG8ES+RGRTCQR2dWOpm0IEKxqhwAAAHBDILEEALgmyl+v47FHwCOSJNrtDiLiOE6r1aodTtsQ5W9QOwQAAIAbAoklAMA1LMMwjNpBtCGyrPwXL5qHWLxQAABwk8Iv5gEAAAAAAKBJkFgCAAAAAABAkyCxBAAAAAAAgCbBHksAgGtijN4LvC6rHUXbkHSp5NvfCogoNlQzY0Ks2uG0DVEBg9QOAQAA4IZAYgkAcI2fRjNSU6x2FG1DcV72ma05ROTdlR85yU/tcNoGnR4LhQAA4OaE73AAAAAAAADQJEgsAQAAAAAAoEmQWAIAAAAAAECTILEEAAAAAACAJkFiCQAAAAAAAE2CxBIAAAAAAACaBIklAAAAAAAANAkSSwAAAAAAAGgSJJYAAAAAAADQJEgsAQAAAAAAoEmQWAIAAAAAAECTILEEAAAAAACAJuHVDgAAAAAAoKXZBGn2t6fUjqJtyEsuVh4Ylp2x7oS6wbQV0QGGt+7uonYULQqJJQAAAADcciRZTsw1qx1F22AxWV3PeNE8ZBcktUNoaUgsAQCgeZgrxPU7i3YcL8s1OX0MbM8447Q7g7vGGBrR1YkUy/qdRefSbRU2MSFSP7ynz5SxwSzjpqXJLPxne2FKpu1Slk2nZbtGGwZ08Zo0ItBtYyLKyHds3ms6e9makmnzMXLdOxgeuSOwb4JXI4IEAAAAFySWUCvr5f/K9kK1o2gbfAyM2SoTUbD914pz6WqH0zYYOv2Z4bRqRwHNJinNOu3tixn5DlfJgcTyL38qmD894pkH23vejyDK87/I+PKnAlfJyYsV3+4yrfy5YPWr8RHB1/2bWb+z6LUvM01mwVWy74z5i5/o0+/zPn4mpmecsWpjWaavtha8uSrTYrv2W+T9Z81f/Jg/6752bz0VxdSSiwIAAEC9kFhCrewZW4SyFLWjaBsMWjJbiYi0xb9WXDygdjhtgyHhKSIkljcJU5kw9c2LWYUODcfcNchveC+fS1n2nw+WZBc63liVGRqoefiOQA+7euXzjK+2FhBRn47G0f39QgM1e06bt+wrPn2p4k/vp/7wbieeq8z/Dp8rf3ZxmiyTUc9Ovyuke6zBXCHuOW3eeqjk1MWKR15P2bOkW4i/xtXz8u/zXluZSURR7bQP3xHUMUJ3Kdv+3W5TWq79sx/yvQ3cy4+HN/cLAwAAcKtAYgkAAE21eENuVqGDiD56OmbK2CCl8LmHQu964VxOkfPvX2XeN8wA+nHSAAAgAElEQVRfp63/HPJ9Z8xKVjl5dNC//hKrTCE+eU/Iyp8L5i2/cuR8+YZdpsljgohIlOQXP70iyxToy2/7oEuHMJ3Sw5/ua/fj/uKZCy8XlQpzl11Z/Wq8Up6ea393bTYR3dHHd+XLcT5GTin/y0Ohf/4odeuhkiUbc6eODYpur2vWFwYAAOBWgetGAACgSWSZVm8vJKKHRga6skoiCgvSLHo2lojyip1b9pd40tVH63OIqHsHw6LnYqouTJ05PkTZq7n1UGU/R85ZktKsRDTn0TBXVqmYMCzg8XHBRLTjWKlDkJXCf28rtNolvZZd9FyMK6skIqOeXfRsTIAP7xDktb8WNfiDBwAAACJCYgkAAE1UViGXW0Uimjo2uFrV7b19fI0cEf16rLTefopKhX1nzEQ0ZUwwV+PsnWXPx66cF/eHOyuHOHrBojxMGOZfs6vRfX2JyCHI59MrTzI8m1ZBRH0SjNV2aRJRoC8/qq8vEW0/7FH2CwAAADVhKSwAADRJuVUmIo5lBnapfraqhmNG9fP9fm/x8WRLvf3sOlkmyUREk24PqFnbM85Y9TCeXJODiLwNXM1EkYgMuspfmzrFyhnL5Cs2Iqo2t+nSKUqvtBFE2bWHEwAAADyHGUsAAGgSq0MmorAgjSudq6pLtIGIMvIdwtUcrzbK7KKPkWsXoCEiU5nw+ynzr0dLMwscNRu/NiMy7Zu+Sat7ue1q9ykzEbEMdYzQKyWBvjwR5Zqcbtsr5U5RznI3FgAAANQLM5YAANAkToGIqH2Axm1taKCGiARRLioTamujuJxjJ6J2AZrCUuHVFRk/7Ct25aJBfvyC6RHKzkmFVsNoNe6nFk+kWFZtLSCiB24L9POq3E7ZLdZw5nLFqYsVFpvkpb8uAXYI8u+nypTnsgqx3o8XAAAAasKMJQAANImS/bmdriQi/dXDYCuq3B7pVmm5SEQ8SxNevvDd7yZBlAN9eCUzLCoV/rok/cl3L9UbzJZ9xY++nmJzSIE+/Ct/uHZ9yN2D/IjIVCa8uSpTrjJ1Kkry6yszL2fbPQwSAAAA3MKMJQAANImSp9W2NdFVbnPUk7NV2EUiupBhI6JHRwX9bVp4ZIiWiFIybS99emXvGfOPB0rW/VpU9eDZqi5k2F5fmbnjWCkR+XtzX/+9Y2zotR2VE4YF3DXIb/vh0pU/FySmWSfeFhARok3NsW/cbTp9qUKvZZXwapsFBQAAgLohsQQAgCZRDnC1O93njbar5bVNadb06KigZc/Hut5MiNSvfyPh9mcSL2fb3/x3Zs3EstQivrcme9W2AmXp7F2D/D56OqbmstvFz8Y+96+0X46UHkoqP5RU7irvGWecNCLgzVVZRORt4AgAAAAaDoklAAA0CccSEZmt7hPL8qu7FuvN2Yy6ygZ/mxZerUrLM//vgfYvfnqlsFTILHAoM5mKX4+WPvev9IISJxF1jTG8NiNi7AA/t/0H+fFrF3Tcsq/4lyOliWlWU5kQ3V57//CAGfeEfLIpT2nTrs5doAAAAFAbJJYAANAkei1DJGcXuj9PNafISURGPRvkW893nJAAnoj8vbmqeaOLcrosEZ1Pt7oarNpa8NLyK7JMgb7835+IfGxMUI37L6u7b3jAfcOrX2eSV+wkovYBGtdhPwAAANAgSCwBAKBJDFoiIlOZkFfsrLkANTHNSkQJkXqmvpQvIUJPRA5BlmWq2dhV4pr5/GFf8bzlV2SZxg7wW/qX2CC/xn9H23/WTET9OlW/hxMAAAA8hFNhAQCgSfy8KnO+30+Zq1XZHdLhc+VENLK3b739DOrmTUQVNikl01az9szlCuWhWwcDEVnt0txl6ZJM9wz2/8+r8fVmlT8fLHngleRJryaXW6tfKHIu3ZqYaiWiuwe7X0MLAAAA9UJiCQAATaLXMt1iDUS08qf8qjd5ENE3v5nMFSIR3V9j9WlNQ7p5K/nhP9ZkVauqsEnLNuURUdcYg6+RI6Jvd5lKykUtz/zzmZjaDqStKiFSv/+see8Z87e7TFXLJZneX5dDRAE+/H3D6g8SAAAA3MJSWAAAaKoXHgubufDy0QuW9/6b/dKUMI5liOhYsuXNf2cS0dgBfr07Gqu2f2d11tpfi4joo6ej7xnsrxTyHPPcQ6Gvr8z86UDJs4vT3vlTlJJDpuXan1mUllngYBha+OdopfGPB4qJKMRfs3nvdYliNY/cEaRsm0yI1Pfv5HUs2fL3rzIjQ7TjBlRea/nGqqwf9xcT0ZxHQ32M2GAJAADQSEgsAQCgqe4bHvDY6KD1O4v+uT7nq58Lhnb3vphlS86wEVFooObjZ2KqtTdbReUc12qXW866r92uE2W/nSj7ekfRt7+ZEiL1FXbpSp5dqf3rI2FDu3srz6nZdiLKKnT87bOMOgIb2dvXdR7P8hc6jP7rOXOFOPXNi1HttN4G7vwVqzLFOun2wNn3t2/yywAAAHDrwlJYAABoBouejXlhcphBxxabhZ8PlihZ5R19fLd+0CU00NM7PHiOWf1q/P+b2F6nZUVJPn/FqmSVMaG6DW8lvHL1GhJRkjML3B9CW4fYUN1PCzsP6e5NRBn5jnPpVlkmf29uwYyI5S90qPdsIQAAAKgDZiwBAKAZ8Bwzb2r405PaH0wszzU5fYxc747G2FCd28bvzY5+b3a02yq9ln1zZuS8qeEHE815xc5AX757rDGq3XUXkHAsk7OpXyOC7Bpj2PJu54tZtvNXbOUVYkSIdnBXb60GOSUAAEBTIbEEAIBm423gxg5ohrNVvfTsmP436ozWjhH6jhH6G9Q5AADArQlLYQEAAAAAAKBJkFgCAAAAAABAk2ApLADANTa7/VKWTe0o2oa8YlF5sDlkvGgeCjKU+6gdAwBA04k2S9GR7WXnDznLClm9lzEiIXjwvYawuEZ0ZblyvujoNltOquiw6tvF+HTsEzzoHmLqmv0Srebz/3rGJ7539MNzamtTeGCLJDprq/XrNlQXGNaIaKEOSCwBAK45fvLcyP+XqHYUbcyJS+IQvGieeXQ8s36s2kEAADSNNfvSxZWvOEy5rpLyS6cK9n4Xce+s9qOmeN6PLIkZm5cU7N3kKqnIuGA69kvBvs3xM9/R+rer7R2LT+225aXpgmrNDEWbJf3bD+sYWusXgsSy2SGxBAAAAAAAjwiW0otfvOwoyWc43q/7MJ+Ofe0FGSVn9jhKCjK3LNf4Bgf2H+dhVxnfLS7Y/z0RGaM6+3UZrPELNqccLz61qyIzOXX1G52e+RfDcm4CKC/J+eXfdfdsL8xs6McFTYfEEgDgGoNBFxfu/oYMqMZiFfOKBSLSa5nwYG297YGIQoO91Q4BAKBJcnesdZTkE1HMIy8EDbpHKQwd/fi5RbOdpYWZWz717z2S5ev/pmC+eFLJKoMG3h07+WViGCIKGfZAwb7NVzZ+XJ521nTsl6CB91x7B1myFWaVnTuY9/sGJYA62AuziIjhNH3f3Uqsm1W1TJ1LbaFxkFgCAFzTt1fXQ8t7qB1F27B5d/afPsohor7x3A8L8aJ5RBeJhbAA0LYVHthCRIH9xrqySiLS+AXHPjYv5fMXnWVFJad2ezJpmfO/fxORIbxjzGPzlKxSETJ8YsH+7605l0vO7nMllvbCrMSFM+Ta90xWYyvIJCJdcATDazz+yKCpkFgCAAAAAIAHZFm0VxBR8ODx1Wp8Evpxei/RZik9d7DexFIoLzFfPElEwYPuZmrMKMZOfcVemMVqq1w4zDAa30DXW06zSRbqSjKVGUt9u6h6PyBoRkgsAQAAAADAUwzLesV0r17I8b5dBhWf/M1y5Vy9PZQlHyVZIqKAvmNq1hojEowRCVVLdEHhPRd843ozedlfzJdO1tG/vSCTiPTtopU3ZUlkGLbqvCjcCEgsAQAAAACgfjIREWn8Qq6bTrzKENqhmH5zmHJlSXR77o6LNSeViDi9l8YnkIgES6k1+6IkOA2hHbQB7Zsep60wi4g0vkHZ278qPr7DbsphON4QFucd2yN03B94o2/Th4CakFgCAAAAAICnNL5BdZTLkiiUl9TWRqGc2qrxCRTKizM2Lyk+uUuWKu9G5r39I+6dFTz43kaHJ9osQnkxEWV+v8zVrSwKlvQkS3qS6fj/Yh57ya/bsEb3D7VBYgkAAAAAAB6QZSJiNe6PT3eVSw5b3d2IVjMREctdWPKsrSCDiHgvX1mSRGu5UF6Svv790nMH4594q3ExKhssiUiW5ZCh9/t2HqgPjbUX5ZQm7S/Y/4PTXHx59Rvd561ulqlRqAqJJQAAAAAAeKq2Za4MV1kuOR119yA6bERky0sjoqABd4bf80clzbPlX7my4Z/miydKTv9edHhr1YNnPWc35TC8hmG52KmvBPQaqRTq20X7dR3s123oxRXzJIftyoZ/dvzTwkZ0DnXAFS4AAAAAAOABhiEiqZZrP1z5JKv19EbooAF3xk591TV5qG8XnTD7A11IJBFl/vhZ42IM6DWy3/u/9n1vuyurdPHrOiSw7xgiKrtwWBLqyX6hoZBYAgAAAACApySbxW25aKtQHjidoe4euKtn/4Tf88dqVQynaT/yUSISyosdxXlNCtQdv25DiUiWJFteerN3fotDYgkAAAAAAJ5ylBS4LXeWFhARq9XzXv5198D7BBIRZ/Bxu9HRENpBebDmpjYpUHd0IZWXWzpMuc3e+S0OiSUAAAAAANRPuQhSsJQ6y4pq1lpzLhGRvl1MvTdGKjdMyqJTOQ2oxjCV787pjI0I0mk2Oc2m2g4Qqjw3iEhZcAvNCIklAAAAAAB44GrKZ045Vq1GEhzlqWeJyLdT/3q78e7Qk4gkh82Wf6VmbUVmivJgCI9vRIwpn845/fqktHXvuq21Zl8iIobT6K9OXUJzwamwADeEuUJcv7Nox/GyXJPTx8D2jDNOuzO4a0w9Ww5qOpFiWb+z6Fy6rcImJkTqh/f0mTI2mK3l94CeD7p6e6FDkGob9M4BftHtPd12DwAAALcOQ3i8NftS/t5Ngf3GVZ2ZNB39RbRZiCigzx31duId14v39hfKS7J+XhH/5NtVqySHLW/X10RkCIvj9F6NiDCg3xjrz1+UnN1rzU11rapViDZL3q71ROTbeQDDIQ9qZnhBAZpfUpp12tsXM/KvnTZ2ILH8y58K5k+PeOZBTy9NEkR5/hcZX/50bRvDyYsV3+4yrfy5YPWr8RHB2kYPaq4Q5y6ra8N6eJAWiSUAANzc7KKQYTirdhRtgxhbTlNGERGj0Wl1kdYVlyzpSed/fc9rwr3EskTkTE0r+XEZEWl7dC9KcBbRtRe2/PsfbPv3E5HP1Km63r1c5fq7Rpdv/K7kzJ7Eb+f5PPIwYzAQkVhQWLZ6tbM4jxhGP+WB2j5BNtZCRFbW7LaBeFsss1Mv22wXvpzrO2O6JqGjUi5kZpatWSuYTYxWy0+550Z/9gXJl6j+ydubCRJLgGZmKhOmvnkxq9Ch4Zi7BvkN7+VzKcv+88GS7ELHG6syQwM1D98R6Ek/r3ye8dXWAiLq09E4ur9faKBmz2nzln3Fpy9V/On91B/e7cRzVX5N2JBBL2fbm/2jBgAAaFtEWS7nTGpH0TbIBiclRBCRzPHOsBj+bB/hwEnL1m0Vv+9mE2LlvEIpp4CIGH8fbvq91V5Vh71EKjMTkU0sdlatGtebO3daTLpoO3DQdugwGxosO5xyYbFSqblnhL1LoJ3cf4JExqn81/1nMJi0f3zYvmytWFRU/M+PmQBfxt9XLiyWzRYiIp7XTJ1gbc9QLZ03l2JZvKH9t0JILAGa2eINuVmFDiL66OmYKWODlMLnHgq964VzOUXOv3+Ved8wf522nu3N+86Ylaxy8uigf/0lVllp8uQ9ISt/Lpi3/MqR8+Ubdpkmjwlq3KCpOXYi0vJM6vq+rLtAuNrW2gIAAMAtTztjEhMU4Pxlr2yxiifPKYVct3jt9EmMv4+nvbCs7umpjs07hF2HyClI2flKMRMSoJ32ANe1MbsrXbhenXV/neHc/KuUmikXl8nFZZVjxkdrp09kw0Ka0jnUBoklQHNyCvLq7YVE9NDIQFeCR0RhQZpFz8Y+9veUvGLnlv0l9U5afrQ+h4i6dzAsei6m6slqM8eHrNpacC7duvVQiSuxdDRw0MvZNiLqEKbTapBAAgAAQAOxrOb+0fydw6WUdLnUzOh1bEw4E+L+ZxvtlAnaKRPc96PRaB+5W3v/aDElTS4tZ7yNbGQoE1TPVSVEpH/hqXrbcF3jua7xUm6BXFAsl5UzwQFsVChjbPBpF+A5JJYAzel4SkW5VSSiqWODq1Xd3tvH18iVVYi/HiutO7EsKhX2nTET0ZQxwTUnD5c9H5uWYzfork017j9rbtCgyoxlx0h9Iz5AAAAAACJi9DquZ6dm6Ein5Xo0Rz/usKEhFIr5yRaC60YAmlNSmo2IOJYZ2KX6OWYajhnVz5eIjidb6u5k18kySSYimnR7QM3annHG+4YHjB3g5yo5mVLRoEEvZduJqGNEZWIpiLLbS6QAAAAAADyEGUuA5nQl30FEYUGaqjOKLl2iDd9TcUa+QxDlqkfvVHM+3UpEPkauXYCGiExlwtlUq8MpdYkxRIZUPwyWiC5l2Ro0aGqOjYjaB2jeX5f93e/FV3LtGg3TNdowsKv3nEdDA3zwZQEAAAAAGgY/QQI0p6JSgYjaB2jc1oYGaohIEOWiMqG2NkR0OcdORO0CNIWlwqsrMn7YVyyIlVOKQX78gukRj4+7bslrXonT80HNFWJhqUBEr63MdHXrFOVjyZZjyZaNu02Lno25c6Cf264AAABuGg673VGSr3YUbYQsXf1bwovmoTKhWO0QWhoSS4DmZHNIROR25pCI9FfPZa2wSXV0Ulou0v9n777jo6rSBo4/U9MTkkBIQgklQCBCpAssIBBREQQEEWFFUd91FRR1cbGyoqi46i4qYIfFrgsCKgiIgKCCNCWIQGiRhPTep79/XByzyWQyySSZlN/3s39czzn33GdmL5N55px7johWLRMfPqWMRoYEaC1WW0GJJafAfP+rv+04VLDmkT9WS1N6c/GiygOWImK12m69pt2V/QN7dfK+kGHYfrDgP19lZeWb/u+Fc9+tiO0U5mBoFACAFsNkMpmLW91Xf3fZrLxpLiopZrsRAG4wmW0iUt00V3u5kn9Wp9RgEZFTyeUiMmNM6CN/jlRmwJ5OKf/7axe+O1b05b78j3bk2BeArdVFL2QY9DqVRq1a9UCXicMvPcPZo6P3uIFBVw0KuvmpM6Xl1r+/fuGjxdG1euEAAABozUgsgfqkDA8aTI7zxvLfy6sbXaxkxpjQlQ90sf9nj47enyzpMXL+8XOphqfWptgTS6U3Fy86cXjwxeEO1gQSkfhBQVNHhmzYm7vrSKHBaK1xs00AAJovLy8vfZswT0fRPNisFlNhjoio1GpdYOUl6OFQQICXp0NobCSWQH3y9VaLSFGZ4xyvuPTSpAh/H42zTrwu1T7y58hKVXqt6u7J7R967UJ2gTkly6iMZPr71MNFFeMHB23Ym2ux2hJTyvt2862xPVoztVrz+wG/QQBofrQ6ndbf8S+tqMRmMSmJpajUvGku8tO1uhUr+DYA1KfItjoRSc02OqxNyzGJiK+3OjTQ2W867YK1ItLGX+NwDdiYzpf29lUWjxWRzu293L+oonuHS7+uJWc67g2w8/G5tGONjzf7TQMA0NqRWAL1qWu4l4jkFpoz8kxVa48nlYlIj47eqmq3GhER6dHBW0SMZsfbS9rPtY9A9uzo7fpFM/NMmXmmMoPj4c383x807xbZ6uZvAAAAoM5ILIH6NDjm0vTRPUeLKlUZjNYDJ4pFZHRcoPNOhvTxF5HScuvplPKqtcfOlSoHfbpeGiYa9XuHrlx02hOnY29NmLc8yeGlf00qExG9VtW9g7fzIAEAAAA7EkugPnUK0/fp4iMiqzdnVhpv/HRXblGpRUSuH1HDwwlX9PEPDdKKyLPvX6xUVVpuXbkhQ0R6R/kE+l4asewW6eX6RW8YFSwiW/fnn7xQVqnzwlLLqo0ZIjL68kBdNWvMAgAAAFWxeA9QzxbeFHH78+cOnSpZ9mHq32+O0KhVInI4seSptSkiEj8oKC76j0Vxnnn34gc7ckTkpXmdrx3aRinUalT3TQv/x+qUzfvy73056Zn/66TkkEnphvnLk1KyjCqVPP/XznW76Iyxoa9+llFUapn11JmVD3QdFuuvlP9yrvSBFb9l5pl8vNTL7urUwG8SAABoxmzlBssPP1mOn7blF4m3l7pzhPZPA9Ud2teqE/OeQ2KpdrNHTd+eqrb/81u8LSfffOiYNTndlp4l3l7qjhHaK+LUXTrUS+dwH4klUM8mjQi+aWzoJztz/vVJ2potWcNi/c9cLE9MLheR8BDdv+dHVWxcVGbJyjdJlZ0t/zIpbPdPhbt+Kvz4m5z/7srt0dG71GC9kGFQau+/McKeENb2oh3a6l//W9dblp5JzjRe/8ipyLb68BDdhQxDdoFZRPQ61T//2llZDQgAAKAqa0q6YeUHtpz8P0pOJ5l3/aibepXu6j+52Imt3GB8f5OTBl7BszT23M9mM3970Lh+mxj+WFzQmphk3rVfO26Y/sZr5H+Xr6hd56gnJJZA/Vt+b1SnMP3KDRl5ReYt+y997F55eeC/740KD9G50oNWo3r3se7Pvp+6ekuWwWi1T1uNCvd6aV5nh09pun7R8YODPn2qx7PvpR5JLEnNNtqXkx0c47/83qienXi6EgAAOGYrLjWseN+WWyAajSaul6ZXN2tGtuWnX215hab121RtArRD41zqJyPH9Yuad/xg/O9WEVGFttEOjVOFt7Vl5JgPJNiycs07flB56XWTx9W5c9QXEkug/mk1qkWzIudNbb//eHF6rinAVxMX7dsl3MEw4LK7Oi+7q3PVchHx1qufur3jolmR+48XZeSZQgK1sV18O4U52ICkthcVkdFxgaPjAk+nlP+WbsjMN0W194rt6tvGv+aNLgEAQGtm/mqPLbdARPR/vl47YoBSaLtmZPmzb9jyC03rtmkHxIqu5hTDlpkjIqLV+L7yuDjcD/n3QUhbVp5x0zciounTXf/Xm1Xel77b6K4ZaXhnneXnE6Zte7UjBlSc2up656hHJJZAQ/H30cQPcndvXD9v9biBteikVhft0dG7R0fGJwEAgGssVvPeQyKiHdLPnlWKiKpNoP7WKYaX37UVFJmPHHdl0NKamSMi6nahoq0hHzHvOShGk+h0+jlT7VmliIiXXj9nSvnpJFtJmfn7IxUHLV3vHPWIVWEBAAAAuCAp3VZuEBHNnwZWqtHEdFP5eIuI9ViiKz3ZMnNFRBXetsaW1pQ0EVF3iVSFVP7pXOXvq47tISKWoyfr1jnqEYklAAAAABdczBYRUas13aosIK/RqGOjRcSSlOJKT5cGFdv/nvtZrVJpzzR7y7QsEVGHhTqsVUe0u9TG+sc6iK53jnrUWkaHCwsL165du3Xr1tTU1MDAwP79+99xxx19+/atbT8HDx5cu3btL7/8UlJSEhMTc+WVV86dO1ftcOo2AAAA0ILYcgpFRNUmQPQOFiNUR4ZZRGzZ+WK1On6ysWJXmTkiomrjb/pip/nAMVt2nmg16sgwdffOuuuuVPn52Fuq/H1tuQW2/ELH/SjlFostp0DVLri2naMetYrEMiEhYfLkyUlJSfaSPXv2rFix4rnnnnvooYdc7MRsNt9///0rV660lxw6dOj9999ftWrVxo0bO3Vqgfv+XT1/x69n8zwdRfNQUn7pZ7Ax9yeqeBzcNampJQFt/DwdBQAAcFlxmYioggIcVqraBIqIWK22opLq2ihs5QZbUYmIGD/d+sdIo8ViPZ9iPZ9iOZCgnzNF06+XUqzu0N56Ic36W6oYjOL1v6sYmi2WE+cu9VlWrqp956hHLT+xzM7OnjhxYnJysk6nmzRp0pgxYxITEzds2JCSkvL3v/89MjJy9uzZrvRz3333vfbaayIyaNCga665JjIycufOnevWrTty5MjMmTO//fZbbYt7OLikzFxcVu3GsnCopNxacyOIiIiNSSkAADQvRrOIqBwNV4rIH4vBGkzOu7m0aquI2GzaUYM1faJVke1s2XmWhFPmbw/aCosNb33q8+S9qtA2IqKJizHv+9lWXGpcv01/88Q/FnS1Wo3rtv7RldFYh85Rj1paLlTVsmXLkpOTReSNN96YO3euUrho0aKhQ4devHjxoYcemjZtmrd3DQtj7t69W8kqb7311jVr1ihDUnffffeqVavmzZv3ww8/vP/++7fddlvDvhIAAADAgywWERGN42muqt+nv9pMJufTt2zZeaLVilrldfs0zYDYS6Xh7TSX9dT07WV49T0xGI0ffuF17y0iohkQq4mLsRw9ad59wJqSoR10mSokyJqVa/kxwXohVXQ6MZlExL4AbK06Rz1q4Yml0Wh88803RWTWrFn2rFJEOnTo8Pbbb1977bVpaWnr16+vcdDy6aefFpG4uLh33nmn4kTHe+655/XXXz927NimTZtaXmK5fWW8If+Mp6NoHob85Wh2oU1Edi3vGRXu6+lwmoeAAH9Ph+CA2q+jX99Fno6ieSg6sV3kjIjkGgJ401yk8YvydAgA4AadVkRsJscz2mxms3JQ7ZDm7zQDYn1XxTqu6ttTM7iv5eAxy/EzYjIrV9TPmWJcu8GScMp65jfjmd/sjdWdIzSD+5rWbxcR8dbXrXPUlxb+bn777bdFRUUicvvtt1eqGjduXFBQUEFBwZYtW5wnlllZWbt37xaR2267TaOpvIP82rVrz5496+vbAnMJX2+t3rfy64VD6t9/bfDzVgfwpjVnaq9Qny43ejqK5iG19LhykJxh4E0DgFbBSyciUm5wXFv2e3nF3SZrT9Ovl+XgMbFarWlZ6s4RIqIK8POa/2fL4aJ1/t0AACAASURBVOOWhFPWi+m24lJVaLB2YKx29GDT198rZ6kCnT3V6aRz1JcWnlgePHhQRDQazbBhwypV6XS6q6+++tNPPz1w4IDzTr7++mur1SoiM2fOrFrbv3///v3711O8AAAAQFMV7C8itrwCh5WXFmj10qv83RpxsW8TYsvNlwq5n2ZgrGZg5aFIW36xiKiCAlS+NTza5rxzuK+FJ5aJiYki0qFDB4cjirGxsSKSlJRkNpudLL3zyy+/iEhgYGB4eLiIZGdnHz161GAwXHbZZZ07d26o0AEAAICmRNW2jU3EVlxqKyiquu6rNSVDRNThbaWmFfJthcUiovL2crhtia207NLlqtm78n8umnheRNRdOzZE56iVFr4BY3p6uohERDj+NSIyMlJEzGZzVlaWk07OnDkjIuHh4ZmZmbNmzYqIiIiPj7/uuuuioqLCwsLeeeedBggcAAAAaGK6XfpSbd/k4w8ms/XMbyKi6d29xm4M/1pTtvB5w5r1DmutKekiIlqNun2oiFh+PlH+4juGl1bbqkzBtV7MUBpr4mLq1jnqUQsfsSwpKRGR6h6A9PHxqdisOnl5eSKi1WpHjhypDIGGhoZaLJb8/PysrKw777xzy5Yt69c7vncrGjhwYI1tlEy4qSgvt5lqWC0aCvu+GRaz2cSb5pqMjAzRtMCHk1uP4uJi5cBqtTatzy6gIZlMpqysLJ2uhrVJ0PTlGoxsfOWiP96o0EB1x/bWlAzz7h81Q/pWHJk07/tZSfzUA2JrfGM1g/taN31j+fmk5WKGOjLsf65VVm7e/r2IaHp3t6nVYrOp2re1JiaJiHn/z9rRQyqGZfpip4io/Hw0A/rYL1qrzuvydrjGYrW0tj+OLTyxNBqNIlLdNFd7eXl5uZNOlLTz119/FZFbbrll6dKlygzYkydP3nPPPbt27frss8/WrFlTcdVZh44cOeJiwE2E1mpt0H9vLZLNZuOvlItMRqNoWvhHUMtmsfyxKmCT+uwCGpTJZFJ+QOS2b+5MRmOFX4bhKu11Vxrf+MR6Ltn0+U7dpCtFrRYR6/kU82fbRURzWQ91VETFN9a0cYfl+59ERPfnSfZxRc2wONO276TcYFzxvn7uDeoel1bMtianm97bZCssFr1ON3OC0o8qPFTdtaP1fIpp/XZVSJCmb08RsRWXmj772nLkVxHRThgt3nr7RWvVecOx2Wyt7VOihX+rU8YqDQbHS1fZ80n70KVzt9xyy7vvvmv/z5iYmK1bt1522WWnT59++OGHa0wsDx065KR20KBBIqI8xtlEFJ/1tpj4RbZ2NFotP2O7KLR9e5XWz9NRoO78/S9tGKNWq5vUZxfQoJRvinq9vn379p6OBW7RlZWranoUEJdUeKO0A2Otwy437/vZvOVby7cH1D262DKyrWlZIqJqE6CfM6Xyu1puvPTQo8lsr1KFtPG6c7ph5Ye2nHzDi6tVwYGqNoG27DxbUYmIiFarnzVR3S7E3ofXndPLn37NVm4wrvhAFdpG5a23pmYp4x+awX118cMqRljbzhuIRqNpbX8cW3hiGRAQICKFhYUOa+3lSrPq+Pld+u67dOnSSlV6vf7BBx+8++67MzMzL1y44HwtH1emwur1+hrbNBq1Wm3lA9c1Wo1GxCwiOq2Wv1Iu0uv1Km0TuuFRWxW3X2pSn11AQ9PpdDqdjtu+udNZrCL8ya4Dlf7WqarQYNP272wlZZafTyilmj7d9XOmqtoEOjmx4huu6Rfjdf+tpo07rOdTbHmFtrxLX8vV3Tvr50xRR7T7nzPbhXot+j/jh19YT/9my8lXhhpVvj7aa0bqrv5T1bWCatV5A1GJqrV9SrTwxLJr164ikpKS4rD24sWLIuLn59eunbPbS/lJMjg42GHeqCwtKyK//PILi8S2Wiq1utIBAABAy6RW664fqx0/wnr6N1tBkcrbSx0VqapmDFB/80T9zRMdVml6d9f07m5Nz7Jl5dkKi1Vtg9WdwlW+jicSqju0937oTmt6ti0101ZuUIUEaaI7S/XbOtSqc9SLFp5Y9u7dW0Sys7PT0tKqrg2bkJAgIjExMc6HmGJiYkTEaDTabLaqLe0lzoc9AQAAgBZD5e2lPO7oJnV4Owl3dQhRHd5Wwts2UOdwUwsfXRk3bpxy8M0331SqKi8v//7770UkPj7eeScjRowQkZKSkpMnT1at/emnn5SDfv36uRktAAAAADRHLTyx7NGjh5LvrVy5stJane+9957yjOWNN97ovJORI0cqc2Ufe+yxSlUlJSUvvviiiPTt2zcoKKgeIwcAAACA5qKFT4UVkSeeeOLGG2/cv3//4sWLn3zySWW1iR9//HHRokUiMmHChEpr6jz66KOrV68WkTfeeGPy5MkiotVqFy1atHDhwg0bNsydO3f58uVKDnn27NnbbrvtwoULKpVqxYoVHnhtAAAAqBOTyWTe8YOno2gebFaLFOaIiKjV5sAMT4fTPJS0aSu3eTqIxtXyE8vp06fPmTPn3XffXbp06apVq0aNGnXq1KkTJ06ISGRk5FtvvVWpfWFhYUZGhoiUlZXZCxcsWLB9+/bt27f/5z//ee+992JiYkpLS8+fP6/UPvroo6NGjWqsFwQAAAB3GcrLjZ9+5ekomhmbSOvamdENhZ0iPR1CY2vhU2EV77zzzuLFi319fXNzczdu3KhklVddddW+ffsiI136v1yr1W7cuPHBBx/09va2WCzHjx9Xsspu3bp9/fXXVbchAQAAAIDWo+WPWIqIVqtdsmTJwoUL9+7dm5qaGhgYOHDgwO7duztsvGLFCofzWn18fF566aUlS5bs3bs3LS2tbdu2cXFxUVFRDRw7AAAA6p9er9fGD/d0FM2E1WIuKRARUau1fm08HU3z4Bca5ukQGlurSCwVAQEBEyZMcLMTf3//a6+9tl7iAQAAgKfovbz0M/hS5xKbxWROOyciKo1WH+F4bAaVBOpa3bqerWIqLAAAAACg4ZBYAgAAAADcQmIJAAAAAHALiSUAAAAAwC0klgAAAAAAt5BYAgAAAADcQmIJAAAAAHALiSUAAAAAwC0klgAAAAAAt5BYAgAAAADcovV0AAAAAEBj89aqu4b6ejqK5qGsrPRcmoiI2Ky8aS7q6h/o6RAaG4klAAAAWh21SuWtZe6eSyxq1aUjm403zUV+eo2nQ2hs3BkAAAAAALeQWAIA6iIsLEw5aNeunWcjAQAAHkdiCQCoi6ioKOWgc+fOno0EAAB4HIklAAAAAMAtJJYAAAAAALeQWAIAAAAA3EJiCQAAAABwC4klAAAAAMAtJJaAW8xWW3aJ0WK1Kf+ZXWIsN1s9GxIAAADQyLSeDgBoxvJKTamF5WarzWq7lFhmFhs0Wda2fvrwAG+VyrPRAQ3oUHbyf0t+k9vGi0ZzKjRsXVLChI4xvlq9p+MCAACeQWIJ1FFeqelCfpk9pVTYbGK22jKKjRarrWMbH0/FBjScQlP54iPbvss4X2AokM5hIpIT6LcsYeebp/Y/PeCaoe3Y0xJA82CzWW2WMk9H0TyobUZvvYiISiW8aS6ymYo9HUJjI7EE6sJstaUUVM4q7Ww2W3apqY2vzl/PPzG0KCar5d59G4/np1etyjWUPnBg08orbugf2qHxAwOAWrOUW4qTPB1E86C12jqFioio1MKb5iKzOcXTITQ2nrEE6iK31Gi2Os4qFTabLaPI0GjxAI3j0/NHHWaVCqPF8mzCN9X94AIAAFowEkugLgrLzTW2KTOyig9amo0XfnHe4HxRbkJeWuMEAwAAmg4SS6AunA9XKiyM26BlKTUbzxfl1tjsFxJLAABaHxJLAIBLCk0uze4uMJY3dCQAAKCpIbEE6kKvqfnfjlbNfiNoUQJ13q40C9K71AwAALQkJJZAXQT76mpsE+jNkrBoUXy1uij/4Bqb9WkT3gjBAACAJoXEEqiLNt46H53GSQONWtU+wKvR4gEax6ROfZw36OTXJi4konGCAQAATQeJJVAXKpVEBftUNyFWo1Z1Cqq2Fmi+ZnUf0DOwXXW1WrX6kX5jNSrufAAAWh3+/AN15KPTRLf1C/LWVXyWUqNW+eo1XUN8XZkrCzQ7erVmxbCpA0M7Vq0K1Hv/c/DEIe06N35UAADA43gGDKg7L626W6hvmcmi+T23jAr2iW7nw6I9aMFCvHxfHz7tu8zzq3ZvPpORJxpNG7Puvj5/mhJ1mYur+wAAgJaHxBJwl49Oo1ap7MdklWjxVCrVyPbdCv27ffzGZhHpc801c54Z5OmgAKB2VCLt1CZPR9E8WG3WHGOpiGjUqhA/rYiYy0xpe8/kJKQY8kq1PvqAqJDIK3v6d6p5gbeKLu48ZbVYq6tte3lHn3YBdWicdSS5PKe4xqsHRIW26RlWm3hrJ0Td6maGklgCAACg1fHR6j4KTPB0FM3D+dSSIQtOikhYkGrbewN+TSr789IzyZlGe4O8k+kXvz7x+JwO829o72KfRaWWbqt/dtLg0Q7dJ3RvU4fGM3af3nWksMYA7pnSfskgB0921BdtYHTDdd40kVgCAAAAcEluoXnWU2cuZht1GtXVQ4JG9As4e9GwZX9+arZxyX9SwkN0068McaWfc6kG1y9aq8Yu8vdxtrw/6oDEEgAAAIBLXl6XfjHbKCIvzYu6OT5UKbxvWvjVC0+k5ZieXJMyaXgbL33Ns0DPpxlERK9Vnf+kv8NJo5oKiyPWqvHH/+hhtdqqu+7GvXl3/+t8l3Cvu6c04DzY1qnVzf0FAAAAUAc2kXe3ZYvItNEh9qxSRCJCdcvv7SIiGXmmL37Id6Wrc6nlItI1wkuvU2k1Dv6nUtWxsVolDttoNarMPNMjb17QaVRv/b0bI5b1jsQSAAAAQM1MZikus4jIrPi2lapGxgUE+mpEZMfhAle6UgYhozu6tJx4rRpXx2aTef9Oyi+2PH5rh8ujfd3pCg6RWAIAAAComckiIqJRqwbH+FWq0mlUYwYEisiRxBJXujqbahCR6A6XckWzxWardvpq7RpXZ9XGjO+OFY2OC7x7sqsrDKFWeMYSAAAAQM0sVpuIRITqfLwcjE7FdPbZJHnJmUazxaataf+182nlItI+WPfPj1I/25N3Id2g06l6d/YZ3Nv/wRnhwQHaOjd2KC3H9PyHqRq1aun/dVSxNVzDILEEAAAAUDOrVUSkfbDOYW14iE5EzBZbTqG5ujaKolJLdoFZRBavTjFbLg0+miy2w4klhxNL1n+bu/zeqPGDg+rQuDrPvn+xzGCdfVXbmM4+Lr9c1A6JJQAAAICaKVmdw+FKEfH+fTHY0nKr836UZyZFxGq13XpNuyv7B/bq5H0hw7D9YMF/vsrKyjf93wvnvlsR2ylMX9vGDv2aVPbpzhwfL/XDsyNr9XpRKySWAAAAAFxgExGpbpqrvbzcWENieSHDoNepNGrVqge6TBwerBT26Og9bmDQVYOCbn7qTGm59e+vX/hocXRtGzv05JoUq03+Orm9MqaKBkJiCQAAAKBmytOJBpPjvLH89/LqhjTtJg4Pvvh7ilhJ/KCgqSNDNuzN3XWk0GC0eunVtWpctc2RxJJdPxVqNao7r2vnPCq4iVVhAQAAANRMSSyLyhwnlsWlFuXAzS0ilQcmLVZbYkq5+43XbMkSkfiBQWFOH/uE+0gsAQAAANRMrRIRSc02OqxNyzGJiK+3OjTQrUmR3Tt4KQfJmY4v5HrjvCLzhu/yRGT2+FB3QoIrmAqLavlfvkSsNf9QBBEpLB2iHFijH2vTt7dng2kuVBqWZQMAoDnRalQittxCc0aeqeq6r8eTykSkR0fvGvfzyMwziUiAr8bhpNn84ksjn90ivWrbuJIPd+QYjNawYF38wBqWjYX7SCxRLW1QT0+H0GyUGczKgVEfpQ3u59lgAAAAGoL+99Rhz9GiG68MqVhlMFoPnCgWkdFxgTX2M+2J0ycvlE0aEbx6Ubeqtb8mlYmIXqvq3sG7to0reX97tohcPyK4xn014T6mwgIAAAComUYtfbr4iMjqzZk22/9Ufbort6jUIiLXj3C80E5FN4wKFpGt+/NPXiirVFVYalm1MUNERl8eqNOoatu4ovNphjMXy0VkxGX+Lr9E1B2JJQAAAACXLLwpQkQOnSpZ9mGqxXopuTycWPLU2hQRiR8UFBftW7H9M+9e7DMnoc+chK9+zLcXzhgbGuCrMVlss546s+94sb38l3Ol0x5PzMwz+Xipl93VqQ6NK/rmcIFycEVsQL28djjHVFgAAAAALpk0IvimsaGf7Mz51ydpa7ZkDYv1P3OxPDG5XETCQ3T/nh9VqX1RmSUr3yT/u7llh7b61//W9ZalZ5Izjdc/ciqyrT48RHchw5BdYBYRvU71z7927tzeqw6NK9pxuFBEojt4tw0i5WkMjFgCAAAAcNXye6MWzozw8VLnFZm37M9XssorLw/86oWY8BBXt/QYPzjo06d6DOjpJyKp2cYjiSVKojg4xn/X8j4zx4XWubHCYLR+f6xIRIYxD7axkL4DAAAAcJVWo1o0K3Le1Pb7jxen55oCfDVx0b5dwh2MGYrIsrs6L7urs8Oq0XGBo+MCT6eU/5ZuyMw3RbX3iu3q28bf8R6YtWosIl56dfK6/nV4dagzEksAAAAAtePvo4kfVA97ePTo6N2jo4MFXd1vjEbGVFgAAAAAgFtILAEAAAAAbmEqLAAAAFodo9H41H8uejqK5qGgxKQcFJfbeNNcFBlpfXi0p4NoXCSWAAAAaHUMBuOrn6V7OopmptQgvGkuiu1e/rCnY2hkTIUFAAAAALiFEUsAAAC0Ol5e+idu7eDpKJqHvELjig1ZIuLnLQ/exJvmkvbhre6NIrEEAABAq6PX6++bFu7pKJqH86kllxJLLxVvmou0gV09HUJjYyosAAAAAMAtJJYAAAAAALeQWAIAAAAA3EJiCQAAAABwC4klUA+8vb0rHQAAAACtB4klUA+Cg4OVg5CQEM9GAgAAADQ+thsB3HI0N3VdUkL2n0eJ2iYG0z9OfXuzZkh8ZE+1SuXp0AAAAIBGQmIJ1JHVZvvX8W8/PveziFj9vcVoFK3mcEHascNfbfjtl38Onhig8/J0jAAAAEBjYCosUEevnfxBySqrOpidvPDAFzabrZFDAgAAADyCxBKoi4ulBe+dPeykweGclK9TTzdaPAAAAIAHkVgCdfH1xUSz1eq8zdaLJxsnGAAAAMCzSCyBujhdmF0vbQAAAIAWgMQSqItSs6nGNiVmYyNEAgAAAHgciSVQF8FePjW30dfcBgAAAGgBSCyBurg8JLLGNgNCOzZCJAAAAIDHkVgCdTEuskeIl6+TBmqVamrUZY0WDwAAAOBBJJZAXfhp9Y9fHq9WqaprcFuPwX3atG/MkAAAAABPIbEE6mhU+27Lh05u5+1fqdxbo70/duTdvYZ5JCqg0dhsNvH3kTb+VnW1v7AAAIBWQuvpAIBmbHhYl03j5u5KP3PTx1uMpnIxmu+eeNvMfsNdWdoHaL4yy4tXJx74pOCoPDhNRA4EBv71h/W3RA8cEdbF06EBAADPILEE3KLXaK7u0Ctg74mClBQRue7VHmSVaNmO5FxcePCLQmN5sdWslFhFDmUnH8pOntE17qHLrlRVP0UcAAC0VEyFBQC4KqOs6IEfNxUayx3Wfnr+6HtnDzdySAAAoCkgsQQAuOrtxAMlZqPTBj86bwAAAFokEksAgEtsNtvOtNPO25SaTfsyf2uceAAAQNNBYgkAcEmBqbygmkmwFV0oyWuEYAAAQJNCYgkAcInRanGlWbnZ3NCRAACApobEEgDgkmC9j0ZV81+NMJ/Km7sCAIAWj8QSAOASnVrTP7RDjc2GtOvcCMEAAIAmhcQSAOCqW6IHOm9wZXj3zn5tGicYAADQdJBYAgBcNSKsy83d+ldXG+kb+HC/sY0ZDwAAaCJILAEAtfBg7Ki/9x0TpPeuWKhWqeIje/xn5My23n6eCgwAAHiQ1tMBAACaE5VKNaNr3PWdY1/+/JOHd60TjaZ7954b7n62g2+Qp0MDAAAeQ2IJAKg1b432Mn0b2fuLiLT3jiCrBACglWMqLAAAAADALSSWAAAAAAC3kFgCAAAAANxCYgkAAAAAcAuJJQAAAADALSSWAAAAAAC3kFgCAAAAANxCYgkAAAAAcAuJJQAAAADALSSWAAAAAAC3kFgCAAAAANxCYgkAAAAAcAuJJQAAAADALSSWAAAAAAC3kFgCAAAAANxCYgkAAAAAcAuJJQAAAADALVpPBwAAaJaGDx/++eefm0ym6OhoT8cCAAA8jMQSAFAXwcHBgwcPNhqN4eHhno4FAAB4GIklAKB2bFaT8eJXhtSvJftXrdlQFNjRJ3y4V9R0jW+kp0MDAACeQWIJAKgFa2lq4aGF5oJEEbGZTGKzWYtOlxafKTv/id9li7w7X+/pAAEAgAeweA8AwFU2c0nB/nuUrLJylcVQnPC0IW1n40cFAAA8jsQSAOCqsjPvWkpSqq222Up+edFmNTViRAAAoEkgsQQAuMpw8SvnDazlmabsQ40TDAAAaDpILAEALrGZiiylqTU2sxSdboRgAABAk0JiCQBwic1c4lIzU1FDRwIAAJoaEksAgEtU+jauNQtu6EgAAEBTw3YjAACXqDTe2qBe5oJTzpvpQi5vnHgAwB0qjU/I+G2ejqJ52P/VVpE/i0hOkfCmuUilanV5Vqt7wQCAOvOOmlac8KyTBto2vbVBvRstHgCoO5VK7RXq6SCaB4vK/9KB1cabhuowFRYA4CrvzlN07a6orlal9Q2Ie0JUqsYMCQAANAUklgAAl6nUgYNe8O58fdXsUePXOWjY65rAnh6JCwAAeBZTYQEAtaDS+vjHLfbp9mdD2o7CtJ+tpnJ9aFef8BH68NGi0ng6OgAA4BkklgCAWtMEdPMN+EthYLrFaPQJD9fr9Z6OCAAAeBJTYQEAAAAAbiGxBAAAAAC4hcQSAAAAAOAWEksAAAAAgFtILAEAAAAAbiGxBAAAAAC4hcQSAAAAAOAWEksAAAAA1QoLC1MONBqNZyNBU0ZiCQAAAKBaKpXK0yGgGSCxBAAAAAC4hcQSAAAAQLXsI5ZqNbkDqsXNAQAAAKBaERERykH79u09GwmaMhJLAAAAAIBbSCwBAAAAAG4hsQQAAAAAuIXEEgAAAADgFhJLAAAAAIBbtJ4OoJEUFhauXbt269atqampgYGB/fv3v+OOO/r27et6D2+++abRaKyu9rrrruvatWt9RAoAAAAAzUyrSCwTEhImT56clJRkL9mzZ8+KFSuee+65hx56yJUeCgsL77rrLicNOnbsSGIJAAAAoHVq+Ylldnb2xIkTk5OTdTrdpEmTxowZk5iYuGHDhpSUlL///e+RkZGzZ8+usZPTp083QqgAAAAA0By1/MRy2bJlycnJIvLGG2/MnTtXKVy0aNHQoUMvXrz40EMPTZs2zdvb23knZ86cERG9Xl9YWKjRaKo2cFgIAAAANGsXSvLfTzkms8aKXlug0X949sh1nfoE6Wv48oxWqIUv3mM0Gt98800RmTVrlj2rFJEOHTq8/fbbIpKWlrZ+/foa+1FGLKOjo728vLSOqFSqBnsRAAAAQGOz2KzLj++dvnPtx6nHJTpSOocZuob96/ieSTve2Zx8wtPRoclp4Ynlt99+W1RUJCK33357papx48YFBQWJyJYtW2rsRxmx7NWrVwPECAAAADQ5yxJ2vX/2sNVmq1ReajY9+fP2LSknPRIVmqwWnlgePHhQRDQazbBhwypV6XS6q6++WkQOHDhQYz/KiKU9sTSbzbYq/8YAAACAluFwTsqG345VV2uz2V44tqvAWN6YIaGJa+GJZWJiooh06NDB19e3am1sbKyIJCUlmc1m5/0oI5YRERFPPvlkr169fH19AwICrrjiigcffDA3N7cBAgcAAAA8ZsNvvzhvUGQyfJPG8pb4QwtfvCc9PV1EIiIiHNZGRkaKiNlszsrKqq6NiBQWFmZmZorI3/72N3sKajKZfvzxxx9//PHDDz98++23J06cWP/RAwAAAJ7wS15ajW2O5aXdEFWLbeHRsrXwxLKkpEREHA5XioiPj0/FZtVRhitFxGq13nXXXePHj+/Tp8/58+e//PLL119/PSMjY+bMmcePH4+KinIejCsL/LAIUHNX420AAADQTBlFDlf4z8MiT3oqFDQ9LTyxNBqNIqLVOn6Z9vLycmcTxM+fP+/l5aXRaN59991p06YphTExMddee+1111133XXXlZSU3HPPPZs3b67X2AEAAACgeWjhiaUyVmkwGBzW2vNJ+9ClQ9OmTbPnk5VMmDBh5syZH3/88bZt28rLy53vh8l6Py3Y6tWr77jjjrlz565evdrTsQCNZ/DgwYcOHTpw4MDgwYM9HQvQSA4ePDhkyJBBgwYpCwQCrcTtt9++Zs2ad955p+pWC4CihS/eExAQICKFhYUOa+3lSrO6UZ6utFgsJ06wnw8AAACA1qiFJ5Zdu3YVkZSUFIe1Fy9eFBE/P7927drV+RI9e/ZUDn777bc6dwIAAAAAzVcLTyx79+4tItnZ2WlpDha2SkhIEJGYmBjnS+akp6enp6eXlpY6rM3Ly1MOevTo4W64AAAAANAMtfDEcty4ccrBN998U6mqvLz8+++/F5H4+HjnncTHx0dERNx6660Oa5XsVK/X24cuAQAAAKBVaeGJZY8ePfr16yciK1eurLR2znvvvac8Y3njjTc67+Tmm28WkU2bNh0/frxSVUFBwUsvvSQiV111lU6nq8fIAQAAAKC5aOGJpYg88cQTIrJ///7FixdbLBal8Mcff1y0aJGITJgwYeDAgRXbP/roo+Hh4eHh4Zs2bVJK5syZExgYaDKZJk6cuGfPHnvLn3/+OT4+Pj093dfX99VXX22k1wMAAAAATUzLTyynT58+Z84cEVm6qEcrRgAAHSBJREFUdGlYWNjUqVP79OlzxRVX5OXlRUZGvvXWW5XaFxYWZmRkZGRklJWVKSWdOnX64IMP1Gp1UlLS6NGjO3XqNHTo0Pbt2/fv3//QoUNeXl4rV65UVgkCAAAAgFao5SeWIvLOO+8sXrzY19c3Nzd348aNyr4gV1111b59+yIjI13pYeLEidu2bRsyZIiIpKSkHDhwIDMzU0SGDx/+008/3XbbbQ0ZPgAAAAA0aVpPB9AYtFrtkiVLFi5cuHfv3tTU1MDAwIEDB3bv3t1h4xUrVqxYsaJqeXx8fHx8/MmTJ8+dO5eent6tW7e4uLjg4OAGjh0AAAAAmjpVpSVtAAAAAAColVYxFRYAAAAA0HBILAEAAAAAbiGxBAAAAAC4hcQSAAAAAOAWEksAAAAAgFtILAEAAAAAbiGxBAAAAAC4hcQSAAAAAOAWEksAAAAAgFtILAEAAAAAbtF6OgCgAX322WeZmZlVy/V6fffu3Xv16hUeHl619tdff92zZ091fYaEhHTv3j06OjooKKjGAEpLSz///PNNmzadP38+IyOjffv2PXv2jI2N/ctf/hIcHFzj6efPn9+2bZtyPGPGjJCQkBpPAew2bdqUlpYWHBx800031fZc1++9d999t7S0VETCw8OnTJnivNtTp07t2rVLOZ4wYULnzp3dDxWokTs3mMVi2b1792effXb8+PHU1FStVtuzZ88ePXqMGTNmwoQJjdMD0KCMRuP27ds///zzX3/9NS0tTafTRUREDBgwYPLkySNHjlSpVJXal5aWvvvuuyLSpUuXa665xnnnGzZsyMjI0Gq1d955Z0O9ADQdNqDlGjhwoPP7f+TIkYcPH6501muvvVbjPxytVnvXXXelpqY6ufqnn37avn17h6eHhIQsX77carU6j3/+/Pn2U1599VV33w60MiNGjBCRXr161eFc1+89+03u4+NTXFzsvNu5c+fau/3iiy/qJVSgRnW+wXbt2hUbG1vdH4Jhw4bt3r27oXsAGtTGjRu7d+9e3S06ePDgH374oepZPXv2FJG2bduaTCYnnRcVFXl7e4vIVVdd1WCvAE0II5Zo+XQ6XVhYWMWSnJyc8vJyEdm7d+/gwYO/+uqr8ePHVz0xLCxMp9NVLDGbzVlZWVar1Ww2v/HGG5s3b05ISHA49vjEE08sXbpURLRa7VVXXTVs2LA2bdokJycfPXp0+/btubm5999/f0lJyaOPPlpd2Gaz+ZNPPrH/50cffVTxuz7QcOp275WVlX3xxRczZ86sroHJZNq4cWP9hAg0vFWrVs2fP99ms4lIt27drrvuui5duphMJmXgPSkpad++fWPHjv3ss88mT57cQD0ADerxxx9/5plnlOPevXtfe+21nTt3NplMZ8+e/fLLL1NSUg4ePDhq1Ki333771ltvrXji7Nmz//GPf2RnZ+/YscPJoOWXX36pfN26+eabG/SFoKnwdGYLNCBlxDIuLq5q1cWLFxcvXqzVakUkPDw8Ly/PXmUfsTx48GDVEw0Gw/fffz98+HClzS233FK1jb2H/v37//rrr5VqDx482K1bNxHRaDROfqvevHmz0knXrl1FRKVSnTt3ztVXDrgxSlOre6/isPyUKVOcdLtly5aKf30YsUSjqcMNtnbtWuVGbdu27QcffFCp1mg0vvHGG76+viLi6+t76NChhugBaFBPP/20cot27tx58+bNlWqtVusbb7wRGBiotFm/fn3F2rNnzyrlc+bMcXKJadOmiYiXl1fFb1lowUgs0ZI5SSwVTz75pPLJ+OWXX9oLnSeWiry8POX7dFBQUKWqlJSUgIAAEendu3d1n6RHjx5Vvk+MGjWqukvMmjVLRPz8/L7++mslnmeeeabalwpUUedsrVb3nvIPYcCAAcq3h4KCgupaKvNg7RPUSSzRaGp7gyUlJSnfp8PCwqr+OGi3efNmZVbLyJEj670HoEH98MMPGo1GRKKjo1NSUqprdujQoTZt2ohISEhIpcd/hg0bJiIBAQFlZWUOzy0pKVG+6kyePLmeo0dTxaqwaNWU39JE5Oeff67ViW3atFFmzxYUFFy4cKFi1UsvvVRUVCQiy5YtUz6Oq+rXr58yY/C7775zuLxQSUnJpk2bRGTKlCnjxo1T1jj58MMPaxUkUAd1u/dGjBgRGRlpMBiUc6uyz4NleR40fc8++2xhYaFy0Lt37+qaTZgw4ZZbbhGR7777Ljk5uX57ABrU448/brFYROS1117r0KFDdc0GDhz4j3/8Q0Ryc3NffPHFilXKrVtUVGSf5FLJli1blKXdmAfbepBYolXz9/dXDry8vGp7rn1F2eLiYnuh0WhUlkqLjY2dNGmSk9Nnz54dGhoaHBy8Y8eOqrUbNmwoKSkRkVtuuUWlUt14440icvz48YSEhNrGCdRK3e49tVqttKz4cGZFO3bsyMvLCwwMdPg8M9B0FBQUvP/++yLSp0+f2267zXnjefPmDR06dMiQIT/++GM99gA0qGPHju3cuVNErr766vj4eOeN77777qioKBF5++23lb8OiptuukkZb//oo48cnrh+/XoR8fPzc/51CC0JiSVatR9++EE5UGZ01EpSUpKIaLVa+5YJInLkyJGcnBwRmTdvXtUVuisaO3ZsdnZ2dna2Mu2wkg8++EBEwsPDlU985Su7MGiJhlfne08Zity+fXteXl7V2k8//VREJk+eXIcfcYDGtGvXLmWY5bHHHlPmCjoxYMCA/fv379+/f/r06fXYA9Cg7E+8L1mypMbGXl5eykKDhYWF33//vb08JCRE2S9n8+bNyvh8ReXl5V9++aWITJ48WZkQi9aAxBKt1/79+x988EERGTdunPIEjuvOnz//1VdficgNN9xgH/YUkQMHDigHTuY+1SgzM1MZxrz55puVLyVDhw5Vfi/86KOPbDZbnXsGnHPn3rviiiuU5QQ/++yzSlUmk0mZIjtjxoyGCh2oJ/avzuPGjfNUD0CDUjbrDg4OHjJkiCvt7TNN9u7dW7H8z3/+s4iUl5dXXfF727ZtynwuJ0uFo+UhsUTLl5ycfOf/mjp1alxc3LBhwzIyMsaNG7du3TqHJxYUFGT/r4yMjJ9++un1118fPXp0cXFx9+7dX3755YqnKMOYItKlS5c6B/zxxx+bzWb5/QEGhTJwdOHChYq/FwL1y517T6VSKXlj1dmwyjxY+5PJQFOmfIyHhIRUtxFxI/QANChlbYjY2FjnU6vsunTpoixGZf+So5g0aVJQUJA4mg2rzIMNDg6++uqr6yNkNA/sY4mWLzc395133nFY5efnN2fOHGUR16qcP3hw2223vfDCC23btq1YqEwC1Gg0HTt2rGu8l+Yi9unTp3///vbCGTNmKM/Nf/DBB3/605/q3DnghJv33k033fTiiy/u3LkzKyurXbt29nL7PFi9Xt9QoQP1RHmcISQkxGHtE088sWvXrqrlUVFRyj+feukBaFDKLRoaGur6KSEhIYWFhdnZ2RULvby8brzxxrfffnvHjh3Z2dn2b0RGo/Hzzz8XkWnTpvGx36qQWKLlCwwMHDNmTKXCgoKCX375JTs7+9Zbb33zzTe//PLL6lZwrc7x48dTUlIqJZbuz1M9ffq0Mp9WmWFiN3jw4K5du54/f37dunWvvvqqsgMnUI/cv/cGDRrUvXv3s2fPrl+//q9//atSyDxYNEcFBQUOy0+cOOFw6L7SF+566QFoIMpAZa2+sSgPRyhTWiqaPXv222+/bTab161bZ//Y37Fjh3L/Mw+2teG7KVq+rl27Vp39LyJWq/XVV1998MEHv//++9mzZ1ddL3vNmjUxMTGVCrOysvbt2/fvf//74MGD48ePP3r0aEREhL02ODhYRCwWy2+//da9e/c6RGv/xdrf379S2L169Tp//nx2dvb27duVJ+aBelQv996MGTOee+65Tz75xP4N4+uvv87LywsODr7qqqsaKHKgHinDOFlZWQUFBco0v4qmTp0aHR1dseTAgQOVRiDd7wFoUG3btk1NTc3KynL9FKVxxakoitGjR3fq1Ck5Ofmjjz6yf+wr82DDw8OvvPLK+okYzQSJJVovtVq9YMGC48ePv/XWW1u2bDl+/HhsbGzFBpdddtmgQYOqnjhp0qShQ4dOmTIlKyvr008/XbBggb1KWeZERM6dO1djYvnxxx+np6f7+vr+5S9/sRfav9zfd9991Z340UcfkVii3tXLvacklnv27ElLS1N+c1HmwU6dOlVZmB5o4uxPyJ8+fbrqn4DZs2dXKlm0aFGltND9HoAG1bVr14SEhGPHjpnNZlcmQJ07d05Z97Vr166VqlQq1axZs55//vm9e/empKR07NjRbDYrP03OmDGjxlWR0cKweA9auylTpigHx44dc/2syZMnK09R2peBVVxxxRXKwZEjR5z3YDQa77jjjgceeGD16tX2wgMHDpw5c0ZE2rZtG+WIj4+PiGzcuLGsrMz1aIEa1de9d/nll/fq1ctqtSprYhmNRubBonkZNWqUcvDtt9+60v6nn36q9x6ABqU8H1RcXOziLxpffPFFxRMrURZ7s9lsysptO3fuzM3NFZGbb765vgJGc0FiidbO/milwWCo1YnKb9KVtuwbOHBgWFiYiCxfvlzZx6w633//vdJg8ODB9kJlT20R2b17d5Ij999/v4gUFxcrj8UD9aUe7z0lh/z4449F5Ouvv87Pzw8NDWXfBTQXV155pbKi27Jly6ruzldJWVnZ4cOH670HoEFNmjRJrVaLyKJFi6xWq/PG+fn5S5cuFZF27do5XL8tNjY2Li5Ofl8bVpkH26VLF/tP7Wg9SCzR2tmHFvv27VurE729vUUkPz+/YqFOp7vjjjtEJD09fcWKFU5OX7lypXJwww03KAcWi0X5tS8uLq7SpFw7ZQ96qTBrEXBf/d57Sst9+/alpKT897//FZGpU6ey3BSai4CAgP/7v/8Tkezs7GXLljlv/PDDDyuDM/XbA9CgunXrNn36dBH56aef1q5d67zxkiVLlJWlFixYoHzzqUoZtDx8+PDJkyeVebAs29M6kViiVUtPT3/22WdFJCQkpLrv09WxWCwiUnVY8m9/+5uyd9mSJUuqm2SyYcMG5Se9fv36jR49Win8+uuvMzMzxenskbi4uN69e4vI1q1b+S6C+lK/915sbGxsbKzNZnvvvfeYB4vm6JFHHlGeEP7nP/9Z8WmFSt57771XX321gXoAGtRzzz2nrCx13333bd++vbpmK1eufOWVV0QkJiZGmbfi0KxZs5Qh0Hnz5tX41wQtGD8ho+UrKiraunVrpcLCwsJjx46tXLlSmcv68ssve3l51apbZbPg5OTkSuWhoaFr1qy5/vrrS0tLr7766gULFsybN8++lkN2dvbzzz//73//W0S0Wu0rr7yifBbL73MRVSqV84/jm2666cknnzSZTOvWrau46g/gUElJSdX7306v148dO7be772bbrpp8eLFzz77bHFxcbt27Rw+llO3UF3pB3DI9Rusbdu277///oQJEwwGwx133LFp06aFCxcOHz5cWYnEYDAkJCQsXrx469atWq12/PjxW7ZsqdSb+z0ADapbt25r166dPn16cXHxtddeO3fu3HvvvVeZ0SoiFotl7969y5Yt27Ztm4iEhISsW7fOz8+vut4iIiLGjh27Y8eOnTt3ikifPn369evXOC8ETYsNaLkGDhxY4z8BjUbz8MMPVzzrtddeU6oOHjzopPN58+YpzXbu3Fm1dsOGDb6+vvardOzY8fLLL6+46aW/v/+7775rb19cXKx8ZI8cOdL5izpx4oTSw+jRo2vxXqD1GTFiRI33f2hoqJv3njI+v2DBgootT548ab/EXXfd5bCTL774orah1sObglapbjfYzp07K+5vHBAQEBMT06tXL/tCl/7+/ps2bVIWfuvVq1fV67rfA9Cgtm3bVvEWDQ0N7devX+/evZWHhBU9e/Y8depUjV395z//sZ/y9NNPN0LwaIKYCotWysvLKy4u7pZbbvnxxx+fe+65OvQwfvx45UB5UKGSKVOmnDhxYtasWcoDCSkpKT///LN9/+uZM2eePHlSeSZBsXHjxpKSEhGZNWuW8+vGxMQovynu2bMnJSWlDpEDFTXEvderVy/7L9/Mg0UzNWbMmMTExL/+9a/+/v4iUlRUdPLkyVOnTlksFi8vr9mzZ588efL666+PjY0NCQlpoB6ABjV+/PjTp08/8MADyi7cOTk5CQkJJ06cKCoqEpGoqKiXXnrp2LFjPXv2rLGradOm2X9P5wHLVktls9k8HQPQkhUXF+/evfu3337Ly8vr2LFjz549e/bsWXHoEgDQlJWXl3/77bdnz57NyckJCgqKiooaO3ZsxSGdRugBaFBms3nfvn2nTp3KzMzUarXh4eGXX34501lRWySWAAAAAAC3MBUWAAAAAOAWEksAAAAAgFtILAEAAAAAbiGxBAAAAAC4hcQSAAAAAOAWEksAAAAAgFtILAEAAAAAbiGxBAAAAAC4hcQSAAAAAOAWEksAAAAAgFtILAEAAAAAbiGxBAAAAAC4hcQSAAAAAOAWEksAAAAAgFtILAEAAAAAbtF6OgAAAJqTgwcPHj58uGq5Xq8PDw/v06dPly5dGj0oAAA8jMQSAIBa2LRp0zPPPOOkQf/+/ZcsWTJp0qRGCwkAAI9jKiwAAHURERHRoYKAgACl/Keffrr++uvvuusum83m5iWWL18+ceLEp556yu1g619Tjg0A0PgYsQQAoC6OHDkSHh5esSQrK+uTTz55+OGHS0pK3nzzTX9//5deesmdS/z888+bN292L8yG0pRjAwA0PkYsAQCoH+3atZs/f/7+/ft79OghIsuXL9+/f7+ngwIAoDGQWAIAUJ8uu+yytWvXiojVal22bJmTliUlJVar1c3L1aoTo9FoNpsbomcAQCtHYgkAQD0bNmzYqFGjRGTz5s3Z2dkVq4qLi//1r3/FxcUFBgb6+/t7e3t36dJl7ty5CQkJFZu9/vrr06dP3717t4gcPnx4+vTp06dPz83NrVUndkeOHLnxxhu7dOni4+Pj4+PTrVu3O++888KFCw4bnzhxYsaMGcHBwf7+/j4+Pr179166dGlOTo6LsQEAWikbAABw2WOPPab8AU1LS3PS7MMPP1Saff755/bC/Pz8Xr16OfxzrNFotm3bZm95xx13VG2TnJxcq04Uy5cvV6lUVRv7+PgcPXq0UuPVq1f7+vpWbRwZGWlv7CQ2AECrxYglAAD1Lzo6Wjk4cuSIvXD+/PmnTp1SqVQPPvjgwYMHU1JSjh079sorr4SEhFgslrlz59pbPvzww3v37r322mtFZPjw4Xv37t27d29YWFitOhGRQ4cO/e1vf7PZbEOHDv3yyy+TkpJOnDjx8ssv+/n5lZWVzZkzp2Ljzz777Pbbby8tLY2Njf34448TExN/+OGHRx99VKfTpaamjhkzRhl9dRIbAKDVYlVYAADqX+fOnZWDzMxMe+GWLVtE5P7777evFtuhQ4fLLrssMjJy+vTpqampycnJnTp1EpHo6Ojo6GglWwsODv7Tn/5Uh05EZPPmzRaLJSQkZMeOHf7+/kphTEyMyWRauHDh0aNHc3JyQkNDRcRsNj/yyCMiMnr06K1bt3p7e4tIjx49hg0bdvXVV48dOzY3N/eJJ5547bXXnMQGAGi1SCwBAKh/YWFher3eaDTm5eUpJTk5OWPGjBGR22+/vVLjwYMHKwcZGRn2nNCh2nZy+vRpEenUqZM9q1TMnDnTy8tLRCwWi1Ly4YcfJiYmqtXqt956S8kq7UaNGnX33XevWLHik08+WbVqlcOJtQCAVo7EEgCA+mcymUwmk4go+ZuIhIaGrlu3zmHjitNlnattJ127dhWRhISEV155Zf78+Wr1pUdgOnToMH/+/Kqnx8bGKnulVHLttdeuWLEiLy/vxIkTffr0cTFaAEDrQWIJAED9UxazEZHg4OCqtTk5OSdOnDh79uyZM2eOHDmyffv2OlzClU7uuuuuFStW5OfnL1iw4Pnnn7/uuutGjRo1cuTIqKioSi0TExNFxGAw3H///VX7sY+7JiUlkVgCAKoisQQAoP7ZN/Po1q2bvdBgMLzyyitvvfWWMkPVrn379hkZGS72XKtOOnbsuGfPnnvuuee7775LTU1966233nrrLRHp16/frFmzFixYYJ/1eu7cORFJTExUMszqFBcXuxgnAKBVIbEEAKD+7d+/XzkYMmSIclBaWhofH79v3z4RCQ0NHTZsWP/+/aOjo/v16xcaGmpf7Me5OnTSt2/fvXv3Hj9+fOPGjdu2bTtw4IDBYEhISEhISFizZs2+ffuUMdWgoCARGTdu3J133ukkgKFDh9biXQAAtBoklgAA1LPy8vJXXnlFRCIiIgYMGKAUrlixQkkIX3jhhfvuu0+v19vbp6SkuNhznTuJjY2NjY197LHHysvLv/vuuzfffPO///3vqVOnlixZsnz5chGJjo4+cOCASqWaOXNm7V4tAAAklgAA1LtVq1alp6eLyB133KHVXvpTu23bNhEZM2bMwoULK7V3Pvu0olp1YrVaX3jhBZvNduWVV15xxRVKobe3d3x8fHx8/JgxY3bv3n3gwAGlXFmz5+jRo0ajsWK+qjh27Ng333yj0+nmzZvnYqgAgFZF7ekAAABoOaxW6+OPP65kfR07dnzooYfsVQaDQapZy2f16tX/394ds7S1BQAcP2oQ1KhgcUlBQqlCluKgVIQKTu03cBUcase2k1awCAH7CaqbUISCk3Rx0bg0Q6E4qigESwapYmmVSElpOuQRRH191fN48PD323I59+Qky+XP5d7zh/NfaZL6+vrXr19PTEy8evXq4vjm5uYQQkdHR/XjyMhIQ0PDwcFBbXvMmkqlMj4+/vTp0+u9ZAiAm0BYAsB15HK5lTOWlpZmZ2f7+/uz2WylUmlpaVlcXGxra6uNv3fvXghhdXV1e3u7dvDw8PDJkyeLi4vVj5ubm2e/orpjZLFYrO5cco1Jqo9ELi8vLywsVN9SG0Iol8tzc3PVm58PHjyoHsxkMmNjYyGEly9fzs7O1va3PDo6Gh0dzefzdXV1Z29XXlwbADdZXe0yAwD8o6mpqWw2+/sxd+7cefPmzeDg4NmDm5ubfX19pVKpsbFxeHi4s7Nzb2/v48ePpVLp8ePHa2trOzs7iUSiv78/n89XT5menp6ZmQkhJJPJ9vb2Dx8+fP369UqTFAqF3t7eb9++hRBSqVQ6nf7x48fu7u7R0VEIYWBgIJfL1V4M+/nz50ePHm1sbIQQmpubM5nMz58/t7a2Tk9PQwjZbHZycrL2cy6uLZVK/Tt/MQD/RxUA4I+9ePHi0utpIpG4ffv2w4cP5+fnT09PLz13ZWXl7t27Z89KpVLv3r2rVCrr6+vV25tNTU218QcHB319fbXB1b0xrzpJPp8fGho6t9pkMvns2bPDw8NzK/z+/fvz588bGhrODu7p6Xn79u25kZeuDYAbyx1LAPjvlMvljY2N3d3dcrnc09Nz//79+vq/Hks5OTkpFApdXV3VnT9qPn36dHx8nEqlao9WXmOSnZ2dQqFQLBaTyWQ6nc5kMq2trX+3yC9fvrx//35/f//WrVvd3d2ZTOZcav5mbQDcTMISAACAKF7eAwAAQBRhCQAAQBRhCQAAQBRhCQAAQBRhCQAAQBRhCQAAQBRhCQAAQBRhCQAAQBRhCQAAQBRhCQAAQBRhCQAAQBRhCQAAQBRhCQAAQBRhCQAAQBRhCQAAQBRhCQAAQBRhCQAAQBRhCQAAQBRhCQAAQBRhCQAAQBRhCQAAQBRhCQAAQBRhCQAAQBRhCQAAQBRhCQAAQBRhCQAAQBRhCQAAQBRhCQAAQBRhCQAAQBRhCQAAQBRhCQAAQBRhCQAAQBRhCQAAQBRhCQAAQBRhCQAAQJRfflrAquu4bC0AAAAASUVORK5CYII=\"/>"
      ]
     },
     "metadata": {},
     "output_type": "display_data"
    }
   ],
   "source": [
    "models= df[[x in [\"cphdnn_v5\", \"vaecox_v4\", \"cox_ridge\"] for x in df[:,\"model_type\"]],:]\n",
    "models[models.dataset .== \"BRCA_data(norm=true)\", \"dataset\"] .= \"LAML\"\n",
    "#combine(groupby(cphdnn[:,[\"dataset\", \"cph_tst_c_ind\"]], :dataset), :cph_tst_c_ind=>median) \n",
    "sorted_df = sort(models, :dataset)\n",
    "sorted_df = leftjoin(sorted_df, DataFrame(:id =>collect(1:length(unique(sorted_df.dataset))), :dataset =>unique(sorted_df.dataset)), on = :dataset)\n",
    "\n",
    "fig =  Figure(resolution = (612,512));\n",
    "ax = Axis(fig[1,1],\n",
    "    xticks = (collect(1:length(unique(sorted_df.dataset))), unique(sorted_df.dataset)), \n",
    "    title = \"Survival prediction in cancer datasets with CPH-DNN and VAE-Cox\",\n",
    "    xlabel = \"Dataset\",\n",
    "    ylabel = \"concordance index\",\n",
    "    limits = (nothing, nothing, 0.5, 1))\n",
    "boxplot!(ax, sorted_df.id[sorted_df.model_type .== \"cphdnn_v5\"], sorted_df[sorted_df.model_type .== \"cphdnn_v5\",\"cph_tst_c_ind\"], label = \"CPHDNN\")\n",
    "boxplot!(ax, sorted_df.id[sorted_df.model_type .== \"vaecox_v4\"], sorted_df[sorted_df.model_type .== \"vaecox_v4\",\"cph_tst_c_ind\"], label = \"VAE-COX\")\n",
    "boxplot!(ax, sorted_df.id[sorted_df.model_type .== \"cox_ridge\"], sorted_df[sorted_df.model_type .== \"cox_ridge\",\"cph_tst_c_ind\"], label = \"Cox-ridge\")\n",
    "\n",
    "#scatter!(ax, sorted_df[:,\"id\"], sorted_df[:,\"cph_tst_c_ind\"])\n",
    "medians = combine(groupby(sorted_df[:,[\"id\", \"model_type\", \"cph_tst_c_ind\"]], [\"id\", \"model_type\"]), :cph_tst_c_ind=>median) \n",
    "text!(ax, medians.id, medians.cph_tst_c_ind_median, text= string.(round.(medians.cph_tst_c_ind_median, digits = 3)))\n",
    "axislegend(ax, position = :rt)\n",
    "CairoMakie.save(\"figures/cphdnn_vaecox_performance_multidatasets.svg\",fig)\n",
    "CairoMakie.save(\"figures/cphdnn_vaecox_performance_multidatasets.png\",fig)\n",
    "CairoMakie.save(\"figures/cphdnn_vaecox_performance_multidatasets.pdf\",fig)\n",
    "fig"
   ]
  },
  {
   "cell_type": "markdown",
   "metadata": {},
   "source": [
    "unique(models.model_type)"
   ]
  },
  {
   "cell_type": "code",
   "execution_count": 65,
   "metadata": {},
   "outputs": [
    {
     "data": {
      "image/png": "[encoded data removed]"
     },
     "metadata": {},
     "output_type": "display_data"
    }
   ],
   "source": [
    "sorted_df = sort(df, :model_type)\n",
    "sorted_df = leftjoin(sorted_df, DataFrame(:id =>collect(1:length(unique(sorted_df.model_type))), :model_type =>unique(sorted_df.model_type)), on = :model_type)\n",
    "\n",
    "fig = Figure(resolution = (1024,512));\n",
    "ax = Axis(fig[1,1],\n",
    "    ylabel = \"Concordance index\", \n",
    "    xlabel = \"Version of CPHDNN\",\n",
    "    limits = (nothing, nothing, 0.5, 1),\n",
    "    xticks = (collect(1:length(unique(sorted_df.model_type))), unique(sorted_df.model_type)))#(log2.(unique(V1[:, \"dim_redux\"])), [\"$x\" for x in unique(V1_2[:, \"dim_redux\"])] ));\n",
    "boxplot!(ax, sorted_df.id, sorted_df[:,\"cph_train_c_ind\"], label = \"train\")\n",
    "boxplot!(ax, sorted_df.id, sorted_df[:,\"cph_tst_c_ind\"], label = \"test\")\n",
    "medians = combine(groupby(sorted_df[:,[\"id\", \"cph_tst_c_ind\"]], :id), :cph_tst_c_ind=>median) \n",
    "text!(ax, medians.id, medians.cph_tst_c_ind_median, text= string.(round.(medians.cph_tst_c_ind_median, digits = 3)))\n",
    "#scatter!(ax, , V1[:,\"cph_tst_c_ind\"], label = \"test\")\n",
    "axislegend(ax,position =:rb)\n",
    "fig"
   ]
  },
  {
   "cell_type": "code",
   "execution_count": 10,
   "metadata": {},
   "outputs": [
    {
     "data": {
      "text/plain": [
       "7-element Vector{String}:\n",
       " \"0.601\"\n",
       " \"0.682\"\n",
       " \"0.675\"\n",
       " \"0.66\"\n",
       " \"0.68\"\n",
       " \"0.654\"\n",
       " \"0.639\""
      ]
     },
     "metadata": {},
     "output_type": "display_data"
    }
   ],
   "source": [
    "medians = combine(groupby(sorted_df[:,[\"id\", \"cph_tst_c_ind\"]], :id), :cph_tst_c_ind=>median) \n",
    "string.(round.(medians.cph_tst_c_ind_median, digits = 3))"
   ]
  },
  {
   "cell_type": "code",
   "execution_count": 13,
   "metadata": {},
   "outputs": [
    {
     "data": {
      "text/html": [
       "<div class=\"data-frame\"><p>50 rows × 34 columns (omitted printing of 26 columns)</p><table class=\"data-frame\"><thead><tr><th></th><th>ae_lr</th><th>dim_redux</th><th>ae_nb_hls</th><th>nsamples</th><th>cph_wd</th><th>cph_hl_size</th><th>nepochs</th><th>venc_nb_hl</th></tr><tr><th></th><th title=\"Float64\">Float64</th><th title=\"Int64\">Int64</th><th title=\"Int64\">Int64</th><th title=\"Int64\">Int64</th><th title=\"Float64\">Float64</th><th title=\"Int64\">Int64</th><th title=\"Int64\">Int64</th><th title=\"Int64\">Int64</th></tr></thead><tbody><tr><th>1</th><td>1.0e-6</td><td>125</td><td>2</td><td>300</td><td>0.0001</td><td>64</td><td>10000</td><td>2</td></tr><tr><th>2</th><td>1.0e-6</td><td>125</td><td>2</td><td>300</td><td>0.0001</td><td>64</td><td>10000</td><td>2</td></tr><tr><th>3</th><td>1.0e-6</td><td>125</td><td>2</td><td>300</td><td>0.0001</td><td>64</td><td>10000</td><td>2</td></tr><tr><th>4</th><td>1.0e-6</td><td>125</td><td>2</td><td>300</td><td>0.0001</td><td>64</td><td>10000</td><td>2</td></tr><tr><th>5</th><td>1.0e-6</td><td>125</td><td>2</td><td>300</td><td>0.0001</td><td>64</td><td>10000</td><td>2</td></tr><tr><th>6</th><td>1.0e-6</td><td>125</td><td>2</td><td>300</td><td>0.0001</td><td>64</td><td>10000</td><td>2</td></tr><tr><th>7</th><td>1.0e-6</td><td>125</td><td>2</td><td>300</td><td>0.0001</td><td>64</td><td>10000</td><td>2</td></tr><tr><th>8</th><td>1.0e-6</td><td>125</td><td>2</td><td>300</td><td>0.0001</td><td>64</td><td>10000</td><td>2</td></tr><tr><th>9</th><td>1.0e-6</td><td>125</td><td>2</td><td>300</td><td>0.0001</td><td>64</td><td>10000</td><td>2</td></tr><tr><th>10</th><td>1.0e-6</td><td>125</td><td>2</td><td>300</td><td>0.0001</td><td>64</td><td>10000</td><td>2</td></tr><tr><th>11</th><td>1.0e-6</td><td>125</td><td>2</td><td>300</td><td>0.0001</td><td>64</td><td>10000</td><td>2</td></tr><tr><th>12</th><td>1.0e-6</td><td>125</td><td>2</td><td>300</td><td>0.0001</td><td>64</td><td>10000</td><td>2</td></tr><tr><th>13</th><td>1.0e-6</td><td>125</td><td>2</td><td>300</td><td>0.0001</td><td>64</td><td>10000</td><td>2</td></tr><tr><th>14</th><td>1.0e-6</td><td>125</td><td>2</td><td>300</td><td>0.0001</td><td>64</td><td>10000</td><td>2</td></tr><tr><th>15</th><td>1.0e-6</td><td>125</td><td>2</td><td>300</td><td>0.0001</td><td>64</td><td>10000</td><td>2</td></tr><tr><th>16</th><td>1.0e-6</td><td>125</td><td>2</td><td>300</td><td>0.0001</td><td>64</td><td>10000</td><td>2</td></tr><tr><th>17</th><td>1.0e-6</td><td>125</td><td>2</td><td>300</td><td>0.0001</td><td>64</td><td>10000</td><td>2</td></tr><tr><th>18</th><td>1.0e-6</td><td>125</td><td>2</td><td>300</td><td>0.0001</td><td>64</td><td>10000</td><td>2</td></tr><tr><th>19</th><td>1.0e-6</td><td>125</td><td>2</td><td>300</td><td>0.0001</td><td>64</td><td>10000</td><td>2</td></tr><tr><th>20</th><td>1.0e-6</td><td>125</td><td>2</td><td>300</td><td>0.0001</td><td>64</td><td>10000</td><td>2</td></tr><tr><th>21</th><td>1.0e-6</td><td>125</td><td>2</td><td>300</td><td>0.0001</td><td>64</td><td>10000</td><td>2</td></tr><tr><th>22</th><td>1.0e-6</td><td>125</td><td>2</td><td>300</td><td>0.0001</td><td>64</td><td>10000</td><td>2</td></tr><tr><th>23</th><td>1.0e-6</td><td>125</td><td>2</td><td>300</td><td>0.0001</td><td>64</td><td>10000</td><td>2</td></tr><tr><th>24</th><td>1.0e-6</td><td>125</td><td>2</td><td>300</td><td>0.0001</td><td>64</td><td>10000</td><td>2</td></tr><tr><th>&vellip;</th><td>&vellip;</td><td>&vellip;</td><td>&vellip;</td><td>&vellip;</td><td>&vellip;</td><td>&vellip;</td><td>&vellip;</td><td>&vellip;</td></tr></tbody></table></div>"
      ],
      "text/latex": [
       "\\begin{tabular}{r|ccccccccc}\n",
       "\t& ae\\_lr & dim\\_redux & ae\\_nb\\_hls & nsamples & cph\\_wd & cph\\_hl\\_size & nepochs & venc\\_nb\\_hl & \\\\\n",
       "\t\\hline\n",
       "\t& Float64 & Int64 & Int64 & Int64 & Float64 & Int64 & Int64 & Int64 & \\\\\n",
       "\t\\hline\n",
       "\t1 & 1.0e-6 & 125 & 2 & 300 & 0.0001 & 64 & 10000 & 2 & $\\dots$ \\\\\n",
       "\t2 & 1.0e-6 & 125 & 2 & 300 & 0.0001 & 64 & 10000 & 2 & $\\dots$ \\\\\n",
       "\t3 & 1.0e-6 & 125 & 2 & 300 & 0.0001 & 64 & 10000 & 2 & $\\dots$ \\\\\n",
       "\t4 & 1.0e-6 & 125 & 2 & 300 & 0.0001 & 64 & 10000 & 2 & $\\dots$ \\\\\n",
       "\t5 & 1.0e-6 & 125 & 2 & 300 & 0.0001 & 64 & 10000 & 2 & $\\dots$ \\\\\n",
       "\t6 & 1.0e-6 & 125 & 2 & 300 & 0.0001 & 64 & 10000 & 2 & $\\dots$ \\\\\n",
       "\t7 & 1.0e-6 & 125 & 2 & 300 & 0.0001 & 64 & 10000 & 2 & $\\dots$ \\\\\n",
       "\t8 & 1.0e-6 & 125 & 2 & 300 & 0.0001 & 64 & 10000 & 2 & $\\dots$ \\\\\n",
       "\t9 & 1.0e-6 & 125 & 2 & 300 & 0.0001 & 64 & 10000 & 2 & $\\dots$ \\\\\n",
       "\t10 & 1.0e-6 & 125 & 2 & 300 & 0.0001 & 64 & 10000 & 2 & $\\dots$ \\\\\n",
       "\t11 & 1.0e-6 & 125 & 2 & 300 & 0.0001 & 64 & 10000 & 2 & $\\dots$ \\\\\n",
       "\t12 & 1.0e-6 & 125 & 2 & 300 & 0.0001 & 64 & 10000 & 2 & $\\dots$ \\\\\n",
       "\t13 & 1.0e-6 & 125 & 2 & 300 & 0.0001 & 64 & 10000 & 2 & $\\dots$ \\\\\n",
       "\t14 & 1.0e-6 & 125 & 2 & 300 & 0.0001 & 64 & 10000 & 2 & $\\dots$ \\\\\n",
       "\t15 & 1.0e-6 & 125 & 2 & 300 & 0.0001 & 64 & 10000 & 2 & $\\dots$ \\\\\n",
       "\t16 & 1.0e-6 & 125 & 2 & 300 & 0.0001 & 64 & 10000 & 2 & $\\dots$ \\\\\n",
       "\t17 & 1.0e-6 & 125 & 2 & 300 & 0.0001 & 64 & 10000 & 2 & $\\dots$ \\\\\n",
       "\t18 & 1.0e-6 & 125 & 2 & 300 & 0.0001 & 64 & 10000 & 2 & $\\dots$ \\\\\n",
       "\t19 & 1.0e-6 & 125 & 2 & 300 & 0.0001 & 64 & 10000 & 2 & $\\dots$ \\\\\n",
       "\t20 & 1.0e-6 & 125 & 2 & 300 & 0.0001 & 64 & 10000 & 2 & $\\dots$ \\\\\n",
       "\t21 & 1.0e-6 & 125 & 2 & 300 & 0.0001 & 64 & 10000 & 2 & $\\dots$ \\\\\n",
       "\t22 & 1.0e-6 & 125 & 2 & 300 & 0.0001 & 64 & 10000 & 2 & $\\dots$ \\\\\n",
       "\t23 & 1.0e-6 & 125 & 2 & 300 & 0.0001 & 64 & 10000 & 2 & $\\dots$ \\\\\n",
       "\t24 & 1.0e-6 & 125 & 2 & 300 & 0.0001 & 64 & 10000 & 2 & $\\dots$ \\\\\n",
       "\t$\\dots$ & $\\dots$ & $\\dots$ & $\\dots$ & $\\dots$ & $\\dots$ & $\\dots$ & $\\dots$ & $\\dots$ &  \\\\\n",
       "\\end{tabular}\n"
      ],
      "text/plain": [
       "\u001b[1m50×34 DataFrame\u001b[0m\n",
       "\u001b[1m Row \u001b[0m│\u001b[1m ae_lr   \u001b[0m\u001b[1m dim_redux \u001b[0m\u001b[1m ae_nb_hls \u001b[0m\u001b[1m nsamples \u001b[0m\u001b[1m cph_wd  \u001b[0m\u001b[1m cph_hl_size \u001b[0m\u001b[1m nepochs \u001b[0m\u001b[1m\u001b[0m ⋯\n",
       "\u001b[1m     \u001b[0m│\u001b[90m Float64 \u001b[0m\u001b[90m Int64     \u001b[0m\u001b[90m Int64     \u001b[0m\u001b[90m Int64    \u001b[0m\u001b[90m Float64 \u001b[0m\u001b[90m Int64       \u001b[0m\u001b[90m Int64   \u001b[0m\u001b[90m\u001b[0m ⋯\n",
       "─────┼──────────────────────────────────────────────────────────────────────────\n",
       "   1 │  1.0e-6        125          2       300   0.0001           64    10000  ⋯\n",
       "   2 │  1.0e-6        125          2       300   0.0001           64    10000\n",
       "   3 │  1.0e-6        125          2       300   0.0001           64    10000\n",
       "   4 │  1.0e-6        125          2       300   0.0001           64    10000\n",
       "   5 │  1.0e-6        125          2       300   0.0001           64    10000  ⋯\n",
       "   6 │  1.0e-6        125          2       300   0.0001           64    10000\n",
       "   7 │  1.0e-6        125          2       300   0.0001           64    10000\n",
       "   8 │  1.0e-6        125          2       300   0.0001           64    10000\n",
       "  ⋮  │    ⋮         ⋮          ⋮         ⋮         ⋮          ⋮          ⋮     ⋱\n",
       "  44 │  1.0e-6        125          2       300   0.0001           64    10000  ⋯\n",
       "  45 │  1.0e-6        125          2       300   0.0001           64    10000\n",
       "  46 │  1.0e-6        125          2       300   0.0001           64    10000\n",
       "  47 │  1.0e-6        125          2       300   0.0001           64    10000\n",
       "  48 │  1.0e-6        125          2       300   0.0001           64    10000  ⋯\n",
       "  49 │  1.0e-6        125          2       300   0.0001           64    10000\n",
       "  50 │  1.0e-6        125          2       300   0.0001           64    10000\n",
       "\u001b[36m                                                  27 columns and 35 rows omitted\u001b[0m"
      ]
     },
     "metadata": {},
     "output_type": "display_data"
    }
   ],
   "source": [
    "median(df[df.model_type .== \"vaecox_v2\",\"cph_tst_c_ind\"])\n",
    "sorted_df[sorted_df.model_type .== \"vaecox_v2\",:]"
   ]
  },
  {
   "cell_type": "code",
   "execution_count": 322,
   "metadata": {},
   "outputs": [
    {
     "data": {
      "text/html": [
       "<div class=\"data-frame\"><p>6 rows × 2 columns</p><table class=\"data-frame\"><thead><tr><th></th><th>id</th><th>cph_tst_c_ind_mean</th></tr><tr><th></th><th title=\"Union{Missing, Int64}\">Int64?</th><th title=\"Float64\">Float64</th></tr></thead><tbody><tr><th>1</th><td>1</td><td>0.595233</td></tr><tr><th>2</th><td>2</td><td>0.669938</td></tr><tr><th>3</th><td>3</td><td>0.678311</td></tr><tr><th>4</th><td>4</td><td>0.656278</td></tr><tr><th>5</th><td>5</td><td>0.678584</td></tr><tr><th>6</th><td>6</td><td>0.650901</td></tr></tbody></table></div>"
      ],
      "text/latex": [
       "\\begin{tabular}{r|cc}\n",
       "\t& id & cph\\_tst\\_c\\_ind\\_mean\\\\\n",
       "\t\\hline\n",
       "\t& Int64? & Float64\\\\\n",
       "\t\\hline\n",
       "\t1 & 1 & 0.595233 \\\\\n",
       "\t2 & 2 & 0.669938 \\\\\n",
       "\t3 & 3 & 0.678311 \\\\\n",
       "\t4 & 4 & 0.656278 \\\\\n",
       "\t5 & 5 & 0.678584 \\\\\n",
       "\t6 & 6 & 0.650901 \\\\\n",
       "\\end{tabular}\n"
      ],
      "text/plain": [
       "\u001b[1m6×2 DataFrame\u001b[0m\n",
       "\u001b[1m Row \u001b[0m│\u001b[1m id     \u001b[0m\u001b[1m cph_tst_c_ind_mean \u001b[0m\n",
       "\u001b[1m     \u001b[0m│\u001b[90m Int64? \u001b[0m\u001b[90m Float64            \u001b[0m\n",
       "─────┼────────────────────────────\n",
       "   1 │      1            0.595233\n",
       "   2 │      2            0.669938\n",
       "   3 │      3            0.678311\n",
       "   4 │      4            0.656278\n",
       "   5 │      5            0.678584\n",
       "   6 │      6            0.650901"
      ]
     },
     "metadata": {},
     "output_type": "display_data"
    }
   ],
   "source": [
    "means = combine(groupby(sorted_df[:,[\"id\", \"cph_tst_c_ind\"]], :id), :cph_tst_c_ind=>mean) "
   ]
  },
  {
   "cell_type": "code",
   "execution_count": 324,
   "metadata": {},
   "outputs": [
    {
     "data": {
      "text/plain": [
       "6-element Vector{Union{Missing, Int64}}:\n",
       " 1\n",
       " 2\n",
       " 3\n",
       " 4\n",
       " 5\n",
       " 6"
      ]
     },
     "metadata": {},
     "output_type": "display_data"
    }
   ],
   "source": [
    "means.id"
   ]
  },
  {
   "cell_type": "code",
   "execution_count": null,
   "metadata": {},
   "outputs": [],
   "source": []
  }
 ],
 "metadata": {
  "kernelspec": {
   "display_name": "Julia 1.10.0",
   "language": "julia",
   "name": "julia-1.10"
  },
  "language_info": {
   "file_extension": ".jl",
   "mimetype": "application/julia",
   "name": "julia",
   "version": "1.10.0"
  }
 },
 "nbformat": 4,
 "nbformat_minor": 2
}
