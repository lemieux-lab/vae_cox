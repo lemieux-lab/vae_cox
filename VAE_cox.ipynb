{
 "cells": [
  {
   "cell_type": "markdown",
   "metadata": {},
   "source": [
    "# ISMB figures notebook"
   ]
  },
  {
   "cell_type": "code",
   "execution_count": 6,
   "metadata": {},
   "outputs": [
    {
     "name": "stderr",
     "output_type": "stream",
     "text": [
      "\u001b[32m\u001b[1m  Activating\u001b[22m\u001b[39m project at `~/vae_cox`\n"
     ]
    }
   ],
   "source": [
    "\n",
    "include(\"engines/init.jl\")\n",
    "include(\"engines/data_processing.jl\")\n",
    "include(\"engines/deep_learning.jl\")\n",
    "include(\"engines/cross_validation.jl\")\n",
    "outpath, session_id = set_dirs() ;"
   ]
  },
  {
   "cell_type": "code",
   "execution_count": null,
   "metadata": {},
   "outputs": [],
   "source": [
    "BRCA = MLSurvDataset(\"Data/TCGA_BRCA_tpm_n1049_btypes_labels_surv.h5\")"
   ]
  },
  {
   "cell_type": "code",
   "execution_count": null,
   "metadata": {},
   "outputs": [],
   "source": [
    "LAML = MLSurvDataset(\"Data/LGN_AML_tpm_n300_btypes_labels_surv.h5\") "
   ]
  },
  {
   "cell_type": "code",
   "execution_count": null,
   "metadata": {},
   "outputs": [],
   "source": [
    "BRCA_pcoding = BRCA.biotypes .== \"protein_coding\"\n",
    "println(sum(BRCA_pcoding))\n",
    "println(size(BRCA.samples)[1])\n",
    "println(mean(BRCA.surve .!= 0))\n"
   ]
  },
  {
   "cell_type": "code",
   "execution_count": null,
   "metadata": {},
   "outputs": [],
   "source": [
    "pcoding = [occursin(\"protein_coding\", bt) for bt in LAML.biotypes]\n",
    "println(size(LAML.genes[pcoding])[1])\n",
    "println(mean(LAML.surve .!= 0))"
   ]
  },
  {
   "cell_type": "code",
   "execution_count": null,
   "metadata": {},
   "outputs": [],
   "source": [
    "# testing VAE-Cox\n",
    "# set hyper parameters \n",
    "DATA = BRCA\n",
    "keep = BRCA_pcoding\n",
    "# split train test\n",
    "folds = split_train_test(Matrix(DATA.data[:,keep]), DATA.survt, DATA.surve, DATA.samples;nfolds =5)\n"
   ]
  },
  {
   "cell_type": "code",
   "execution_count": null,
   "metadata": {},
   "outputs": [],
   "source": [
    "device!()"
   ]
  },
  {
   "cell_type": "code",
   "execution_count": 3,
   "metadata": {},
   "outputs": [
    {
     "name": "stdout",
     "output_type": "stream",
     "text": [
      "0.7433333333333333\n"
     ]
    },
    {
     "data": {
      "text/plain": [
       "(Float32[1.5314789 1.4358444 … 1.513617 1.6565772; 0.5786392 0.94497585 … 0.6857417 0.8350561; … ; 0.0 0.0 … 0.0 0.0; 0.06069783 0.049218025 … 0.0 0.0], [6033 5912 … 11 8], [0 0 … 1 1], 0.005555555555555556, Float32[1.5194342 1.7227983 … 1.66483 1.7653705; 0.81224465 0.8813847 … 1.1367205 0.53655845; … ; 0.0 0.0 … 0.0 0.0; 0.0 0.096910015 … 0.053078443 0.07188203], [5918 5848 … 14 9], [0 0 … 1 1], 0.023255813953488372)"
      ]
     },
     "metadata": {},
     "output_type": "display_data"
    }
   ],
   "source": [
    "# testing VAE-Cox\n",
    "# set hyper parameters \n",
    "DATA,nfolds, nepochs, dim_redux = LAML, 5, 100, 125\n",
    "keep = [occursin(\"protein_coding\", bt) for bt in DATA.biotypes]\n",
    "println(sum(keep))\n",
    "println(size(DATA.samples)[1])\n",
    "println(mean(DATA.surve .!= 0))\n",
    "params_dict = Dict(\n",
    "        ## run infos \n",
    "        \"session_id\" => session_id, \"nfolds\" =>5,  \"modelid\" => \"$(bytes2hex(sha256(\"$(now())\"))[1:Int(floor(end/3))])\",\n",
    "        \"machine_id\"=>strip(read(`hostname`, String)), \"device\" => \"$(device())\", \"model_title\"=>\"AECPHDNN\",\n",
    "        ## data infos \n",
    "        \"dataset\" => \"BRCA_data(norm=true)\", \"nsamples\" => size(DATA.samples)[1],\n",
    "        \"nsamples_test\" => Int(round(size(DATA.samples)[1] / nfolds)), \"ngenes\" => size(DATA.genes[keep])[1],\n",
    "        \"nsamples_train\" => size(DATA.samples)[1] - Int(round(size(DATA.samples)[1] / nfolds)),\n",
    "        ## optim infos \n",
    "        \"nepochs\" => nepochs, \"ae_lr\" =>1e-5, \"cph_lr\" => 1e-5, \"ae_wd\" => 1e-6, \"cph_wd\" => 1e-6,\n",
    "        ## model infos\n",
    "        \"model_type\"=> \"aecphdnn\", \"dim_redux\" => dim_redux, \"ae_nb_hls\" => 2, \"ae_hl_size\"=> 128,\n",
    "        \"enc_nb_hl\" => 2, \"enc_hl_size\"=> 128,  \"dec_nb_hl\" => 2 , \"dec_hl_size\"=> 128,\n",
    "        \"nb_clinf\" => 0, \"cph_nb_hl\" => 2, \"cph_hl_size\" => 64, \n",
    "        \"insize\" => size(DATA.genes[keep])[1],\n",
    "        ## metrics\n",
    "        \"model_cv_complete\" => false\n",
    "    )\n",
    "# split train test\n",
    "folds = split_train_test(Matrix(DATA.data[:,keep]), DATA.survt, DATA.surve, DATA.samples;nfolds =5)\n",
    "fold = folds[1]\n",
    "# format input data  \n",
    "train_x, train_y_t, train_y_e, NE_frac_tr, test_x, test_y_t, test_y_e, NE_frac_tst = format_train_test(fold)\n",
    "# create model \n",
    "#model = build_vaecox(params_dict)\n",
    "# train model \n",
    "## gradient CPH            \n",
    "\n",
    "# report learning curves\n",
    "# test model\n",
    "# report c-index"
   ]
  },
  {
   "cell_type": "code",
   "execution_count": 14,
   "metadata": {},
   "outputs": [
    {
     "data": {
      "text/plain": [
       "VAE_COX_loss (generic function with 1 method)"
      ]
     },
     "metadata": {},
     "output_type": "display_data"
    }
   ],
   "source": [
    "function VAE_COX_loss(VENC, CPH, X, Y_e, NE_frac;device = gpu)\n",
    "    mu, log_sigma = VENC(X)\n",
    "    z = mu + device(randn(Float32, size(log_sigma))) .* exp.(log_sigma)\n",
    "    outs = vec(CPH(z))\n",
    "    hazard_ratios = exp.(outs)\n",
    "    log_risk = log.(cumsum(hazard_ratios))\n",
    "    uncensored_likelihood = outs .- log_risk\n",
    "    censored_likelihood = uncensored_likelihood .* Y_e'\n",
    "    #neg_likelihood = - sum(censored_likelihood) / sum(e .== 1)\n",
    "    neg_likelihood = - sum(censored_likelihood) * NE_frac\n",
    "    return neg_likelihood\n",
    "end "
   ]
  },
  {
   "cell_type": "code",
   "execution_count": 31,
   "metadata": {},
   "outputs": [
    {
     "data": {
      "text/plain": [
       "validate_vaecox (generic function with 1 method)"
      ]
     },
     "metadata": {},
     "output_type": "display_data"
    }
   ],
   "source": [
    "function validate_vaecox(DATA, params_dict;device = gpu)\n",
    "    nfolds, nepochs, dim_redux = 5, 10000, 125\n",
    "    keep = [occursin(\"protein_coding\", bt) for bt in DATA.biotypes]\n",
    "    # split train test\n",
    "    folds = split_train_test(Matrix(DATA.data[:,keep]), DATA.survt, DATA.surve, DATA.samples;nfolds =5)\n",
    "    fold = folds[1]\n",
    "\n",
    "    venc = VariationalEncoder(size(DATA.data[:,keep])[2], 125, 600)\n",
    "    vdec = Decoder(size(DATA.data[:,keep])[2], 125, 600)\n",
    "    VAE_opt = Flux.ADAM(1e-6)\n",
    "\n",
    "    cphdnn = device(Chain(Dense(125, 100,leakyrelu),Dense(100, 1)))\n",
    "    cphdnn_opt = Flux.ADAM(1e-5)\n",
    "\n",
    "    train_x, train_y_t, train_y_e, NE_frac_tr, test_x, test_y_t, test_y_e, NE_frac_tst = format_train_test(fold)\n",
    "    for i in 1:nepochs\n",
    "        ps1 = Flux.params(venc, vdec)\n",
    "        gs1 = gradient(ps1) do\n",
    "            VAE_lossf(venc, vdec, train_x)\n",
    "        end \n",
    "        VAE_loss = VAE_lossf(venc, vdec, train_x)\n",
    "        VAE_cor = round(my_cor(vec(train_x), vec(MyReconstruct(venc, vdec, train_x)[end])),digits = 3)\n",
    "        VAE_test = round(my_cor(vec(test_x), vec(MyReconstruct(venc, vdec, test_x)[end])),digits = 3)\n",
    "\n",
    "        ps2 = Flux.params(venc, cphdnn)\n",
    "        gs2 = gradient(ps2) do \n",
    "            VAE_COX_loss(venc, cphdnn, train_x, train_y_e, NE_frac_tr)\n",
    "        end \n",
    "        CPH_loss = round(VAE_COX_loss(venc, cphdnn, train_x, train_y_e, NE_frac_tr), digits = 3)\n",
    "        mu, log_sigma = venc(train_x)\n",
    "        z = mu + device(randn(Float32, size(log_sigma))) .* exp.(log_sigma)\n",
    "        OUTS_tr = vec(cphdnn(z))\n",
    "        cind_tr, cdnt_tr, ddnt_tr, tied_tr  = concordance_index(train_y_t, train_y_e, OUTS_tr)\n",
    "\n",
    "        Flux.update!(VAE_opt, ps1, gs1)\n",
    "        Flux.update!(cphdnn_opt, ps2, gs2)\n",
    "        if i % 100 == 0 || i == 1\n",
    "            println(\"$i TRAIN - VAE-loss-avg: $VAE_loss\\tVAE-cor: $VAE_cor CPH-loss: $CPH_loss CPH-cind: $(round(cind_tr,digits=3))\\tTEST - VAE-cor: $VAE_test\")\n",
    "        end\n",
    "    end\n",
    "end "
   ]
  },
  {
   "cell_type": "code",
   "execution_count": 32,
   "metadata": {},
   "outputs": [
    {
     "name": "stdout",
     "output_type": "stream",
     "text": [
      "1 TRAIN - VAE-loss-avg: 60284.832\tVAE-cor: 0.006 CPH-loss: 35.594 CPH-cind: 0.504\tTEST - VAE-cor: 0.006\n"
     ]
    },
    {
     "name": "stdout",
     "output_type": "stream",
     "text": [
      "100 TRAIN - VAE-loss-avg: 61348.703\tVAE-cor: 0.033 CPH-loss: 45.128 CPH-cind: 0.469\tTEST - VAE-cor: 0.036\n"
     ]
    },
    {
     "name": "stdout",
     "output_type": "stream",
     "text": [
      "200 TRAIN - VAE-loss-avg: 52931.45\tVAE-cor: 0.062 CPH-loss: 34.331 CPH-cind: 0.496\tTEST - VAE-cor: 0.062\n"
     ]
    },
    {
     "name": "stdout",
     "output_type": "stream",
     "text": [
      "300 TRAIN - VAE-loss-avg: 48749.258\tVAE-cor: 0.096 CPH-loss: 34.436 CPH-cind: 0.467\tTEST - VAE-cor: 0.096\n"
     ]
    },
    {
     "name": "stdout",
     "output_type": "stream",
     "text": [
      "400 TRAIN - VAE-loss-avg: 38963.156\tVAE-cor: 0.127 CPH-loss: 23.187 CPH-cind: 0.514\tTEST - VAE-cor: 0.132\n"
     ]
    },
    {
     "name": "stdout",
     "output_type": "stream",
     "text": [
      "500 TRAIN - VAE-loss-avg: 37286.805\tVAE-cor: 0.166 CPH-loss: 20.106 CPH-cind: 0.505\tTEST - VAE-cor: 0.164\n"
     ]
    },
    {
     "name": "stdout",
     "output_type": "stream",
     "text": [
      "600 TRAIN - VAE-loss-avg: 32832.6\tVAE-cor: 0.198 CPH-loss: 16.285 CPH-cind: 0.445\tTEST - VAE-cor: 0.187\n"
     ]
    },
    {
     "name": "stdout",
     "output_type": "stream",
     "text": [
      "700 TRAIN - VAE-loss-avg: 32570.127\tVAE-cor: 0.234 CPH-loss: 17.133 CPH-cind: 0.503\tTEST - VAE-cor: 0.231\n"
     ]
    },
    {
     "name": "stdout",
     "output_type": "stream",
     "text": [
      "800 TRAIN - VAE-loss-avg: 30518.744\tVAE-cor: 0.256 CPH-loss: 15.917 CPH-cind: 0.518\tTEST - VAE-cor: 0.25\n"
     ]
    },
    {
     "name": "stdout",
     "output_type": "stream",
     "text": [
      "900 TRAIN - VAE-loss-avg: 29334.602\tVAE-cor: 0.299 CPH-loss: 11.523 CPH-cind: 0.496\tTEST - VAE-cor: 0.302\n"
     ]
    },
    {
     "name": "stdout",
     "output_type": "stream",
     "text": [
      "1000 TRAIN - VAE-loss-avg: 27639.652\tVAE-cor: 0.334 CPH-loss: 11.496 CPH-cind: 0.514\tTEST - VAE-cor: 0.338\n"
     ]
    },
    {
     "name": "stdout",
     "output_type": "stream",
     "text": [
      "1100 TRAIN - VAE-loss-avg: 26212.73\tVAE-cor: 0.364 CPH-loss: 10.964 CPH-cind: 0.474\tTEST - VAE-cor: 0.364\n"
     ]
    },
    {
     "name": "stdout",
     "output_type": "stream",
     "text": [
      "1200 TRAIN - VAE-loss-avg: 25118.477\tVAE-cor: 0.41 CPH-loss: 9.82 CPH-cind: 0.517\tTEST - VAE-cor: 0.382\n"
     ]
    },
    {
     "name": "stdout",
     "output_type": "stream",
     "text": [
      "1300 TRAIN - VAE-loss-avg: 24393.61\tVAE-cor: 0.419 CPH-loss: 10.775 CPH-cind: 0.519\tTEST - VAE-cor: 0.414\n"
     ]
    },
    {
     "name": "stdout",
     "output_type": "stream",
     "text": [
      "1400 TRAIN - VAE-loss-avg: 22389.023\tVAE-cor: 0.45 CPH-loss: 10.193 CPH-cind: 0.487\tTEST - VAE-cor: 0.428\n"
     ]
    },
    {
     "name": "stdout",
     "output_type": "stream",
     "text": [
      "1500 TRAIN - VAE-loss-avg: 22461.758\tVAE-cor: 0.469 CPH-loss: 11.915 CPH-cind: 0.461\tTEST - VAE-cor: 0.454\n"
     ]
    },
    {
     "name": "stdout",
     "output_type": "stream",
     "text": [
      "1600 TRAIN - VAE-loss-avg: 21915.91\tVAE-cor: 0.503 CPH-loss: 12.729 CPH-cind: 0.519\tTEST - VAE-cor: 0.486\n"
     ]
    },
    {
     "name": "stdout",
     "output_type": "stream",
     "text": [
      "1700 TRAIN - VAE-loss-avg: 21060.436\tVAE-cor: 0.51 CPH-loss: 8.541 CPH-cind: 0.504\tTEST - VAE-cor: 0.518\n"
     ]
    },
    {
     "name": "stdout",
     "output_type": "stream",
     "text": [
      "1800 TRAIN - VAE-loss-avg: 20981.545\tVAE-cor: 0.534 CPH-loss: 8.733 CPH-cind: 0.504\tTEST - VAE-cor: 0.518\n"
     ]
    },
    {
     "name": "stdout",
     "output_type": "stream",
     "text": [
      "1900 TRAIN - VAE-loss-avg: 20079.488\tVAE-cor: 0.536 CPH-loss: 8.745 CPH-cind: 0.49\tTEST - VAE-cor: 0.533\n"
     ]
    },
    {
     "name": "stdout",
     "output_type": "stream",
     "text": [
      "2000 TRAIN - VAE-loss-avg: 19655.723\tVAE-cor: 0.561 CPH-loss: 7.955 CPH-cind: 0.494\tTEST - VAE-cor: 0.571\n"
     ]
    },
    {
     "name": "stdout",
     "output_type": "stream",
     "text": [
      "2100 TRAIN - VAE-loss-avg: 20090.84\tVAE-cor: 0.584 CPH-loss: 9.113 CPH-cind: 0.523\tTEST - VAE-cor: 0.538\n"
     ]
    },
    {
     "name": "stdout",
     "output_type": "stream",
     "text": [
      "2200 TRAIN - VAE-loss-avg: 19455.7\tVAE-cor: 0.574 CPH-loss: 8.339 CPH-cind: 0.518\tTEST - VAE-cor: 0.636\n"
     ]
    },
    {
     "name": "stdout",
     "output_type": "stream",
     "text": [
      "2300 TRAIN - VAE-loss-avg: 19308.268\tVAE-cor: 0.6 CPH-loss: 8.11 CPH-cind: 0.509\tTEST - VAE-cor: 0.604\n"
     ]
    },
    {
     "name": "stdout",
     "output_type": "stream",
     "text": [
      "2400 TRAIN - VAE-loss-avg: 18929.764\tVAE-cor: 0.596 CPH-loss: 10.306 CPH-cind: 0.531\tTEST - VAE-cor: 0.612\n"
     ]
    },
    {
     "name": "stdout",
     "output_type": "stream",
     "text": [
      "2500 TRAIN - VAE-loss-avg: 18614.229\tVAE-cor: 0.614 CPH-loss: 8.3 CPH-cind: 0.496\tTEST - VAE-cor: 0.558\n"
     ]
    },
    {
     "name": "stdout",
     "output_type": "stream",
     "text": [
      "2600 TRAIN - VAE-loss-avg: 18710.492\tVAE-cor: 0.627 CPH-loss: 7.69 CPH-cind: 0.503\tTEST - VAE-cor: 0.637\n"
     ]
    },
    {
     "name": "stdout",
     "output_type": "stream",
     "text": [
      "2700 TRAIN - VAE-loss-avg: 18373.025\tVAE-cor: 0.627 CPH-loss: 6.957 CPH-cind: 0.495\tTEST - VAE-cor: 0.667\n"
     ]
    },
    {
     "name": "stdout",
     "output_type": "stream",
     "text": [
      "2800 TRAIN - VAE-loss-avg: 18492.912\tVAE-cor: 0.64 CPH-loss: 7.618 CPH-cind: 0.481\tTEST - VAE-cor: 0.647\n"
     ]
    },
    {
     "name": "stdout",
     "output_type": "stream",
     "text": [
      "2900 TRAIN - VAE-loss-avg: 17839.04\tVAE-cor: 0.644 CPH-loss: 7.428 CPH-cind: 0.518\tTEST - VAE-cor: 0.666\n"
     ]
    },
    {
     "name": "stdout",
     "output_type": "stream",
     "text": [
      "3000 TRAIN - VAE-loss-avg: 18449.953\tVAE-cor: 0.658 CPH-loss: 6.893 CPH-cind: 0.495\tTEST - VAE-cor: 0.652\n"
     ]
    },
    {
     "name": "stdout",
     "output_type": "stream",
     "text": [
      "3100 TRAIN - VAE-loss-avg: 17344.646\tVAE-cor: 0.676 CPH-loss: 6.953 CPH-cind: 0.541\tTEST - VAE-cor: 0.64\n"
     ]
    },
    {
     "name": "stdout",
     "output_type": "stream",
     "text": [
      "3200 TRAIN - VAE-loss-avg: 18260.102\tVAE-cor: 0.667 CPH-loss: 8.23 CPH-cind: 0.503\tTEST - VAE-cor: 0.658\n"
     ]
    },
    {
     "name": "stdout",
     "output_type": "stream",
     "text": [
      "3300 TRAIN - VAE-loss-avg: 17415.275\tVAE-cor: 0.667 CPH-loss: 7.49 CPH-cind: 0.518\tTEST - VAE-cor: 0.684\n"
     ]
    },
    {
     "name": "stdout",
     "output_type": "stream",
     "text": [
      "3400 TRAIN - VAE-loss-avg: 17286.416\tVAE-cor: 0.67 CPH-loss: 7.656 CPH-cind: 0.502\tTEST - VAE-cor: 0.66\n"
     ]
    },
    {
     "name": "stdout",
     "output_type": "stream",
     "text": [
      "3500 TRAIN - VAE-loss-avg: 17908.746\tVAE-cor: 0.691 CPH-loss: 7.006 CPH-cind: 0.532\tTEST - VAE-cor: 0.663\n"
     ]
    },
    {
     "name": "stdout",
     "output_type": "stream",
     "text": [
      "3600 TRAIN - VAE-loss-avg: 16730.89\tVAE-cor: 0.689 CPH-loss: 7.199 CPH-cind: 0.508\tTEST - VAE-cor: 0.698\n"
     ]
    },
    {
     "name": "stdout",
     "output_type": "stream",
     "text": [
      "3700 TRAIN - VAE-loss-avg: 16603.47\tVAE-cor: 0.709 CPH-loss: 6.732 CPH-cind: 0.529\tTEST - VAE-cor: 0.699\n"
     ]
    },
    {
     "name": "stdout",
     "output_type": "stream",
     "text": [
      "3800 TRAIN - VAE-loss-avg: 16664.602\tVAE-cor: 0.704 CPH-loss: 6.214 CPH-cind: 0.503\tTEST - VAE-cor: 0.685\n"
     ]
    },
    {
     "name": "stdout",
     "output_type": "stream",
     "text": [
      "3900 TRAIN - VAE-loss-avg: 17087.23\tVAE-cor: 0.715 CPH-loss: 6.94 CPH-cind: 0.507\tTEST - VAE-cor: 0.693\n"
     ]
    },
    {
     "name": "stdout",
     "output_type": "stream",
     "text": [
      "4000 TRAIN - VAE-loss-avg: 16452.525\tVAE-cor: 0.715 CPH-loss: 6.539 CPH-cind: 0.528\tTEST - VAE-cor: 0.717\n"
     ]
    },
    {
     "name": "stdout",
     "output_type": "stream",
     "text": [
      "4100 TRAIN - VAE-loss-avg: 16609.387\tVAE-cor: 0.709 CPH-loss: 6.098 CPH-cind: 0.521\tTEST - VAE-cor: 0.704\n"
     ]
    },
    {
     "name": "stdout",
     "output_type": "stream",
     "text": [
      "4200 TRAIN - VAE-loss-avg: 16279.866\tVAE-cor: 0.738 CPH-loss: 7.066 CPH-cind: 0.518\tTEST - VAE-cor: 0.722\n"
     ]
    },
    {
     "name": "stdout",
     "output_type": "stream",
     "text": [
      "4300 TRAIN - VAE-loss-avg: 16465.84\tVAE-cor: 0.725 CPH-loss: 6.3 CPH-cind: 0.535\tTEST - VAE-cor: 0.739\n"
     ]
    },
    {
     "name": "stdout",
     "output_type": "stream",
     "text": [
      "4400 TRAIN - VAE-loss-avg: 15924.422\tVAE-cor: 0.736 CPH-loss: 6.764 CPH-cind: 0.517\tTEST - VAE-cor: 0.74\n"
     ]
    },
    {
     "name": "stdout",
     "output_type": "stream",
     "text": [
      "4500 TRAIN - VAE-loss-avg: 15892.258\tVAE-cor: 0.761 CPH-loss: 6.667 CPH-cind: 0.523\tTEST - VAE-cor: 0.724\n"
     ]
    },
    {
     "name": "stdout",
     "output_type": "stream",
     "text": [
      "4600 TRAIN - VAE-loss-avg: 15763.355\tVAE-cor: 0.747 CPH-loss: 6.524 CPH-cind: 0.532\tTEST - VAE-cor: 0.76\n"
     ]
    },
    {
     "name": "stdout",
     "output_type": "stream",
     "text": [
      "4700 TRAIN - VAE-loss-avg: 15589.575\tVAE-cor: 0.75 CPH-loss: 6.936 CPH-cind: 0.506\tTEST - VAE-cor: 0.747\n"
     ]
    },
    {
     "name": "stdout",
     "output_type": "stream",
     "text": [
      "4800 TRAIN - VAE-loss-avg: 15628.309\tVAE-cor: 0.765 CPH-loss: 6.122 CPH-cind: 0.482\tTEST - VAE-cor: 0.751\n"
     ]
    },
    {
     "name": "stdout",
     "output_type": "stream",
     "text": [
      "4900 TRAIN - VAE-loss-avg: 15742.772\tVAE-cor: 0.761 CPH-loss: 6.901 CPH-cind: 0.504\tTEST - VAE-cor: 0.737\n"
     ]
    },
    {
     "name": "stdout",
     "output_type": "stream",
     "text": [
      "5000 TRAIN - VAE-loss-avg: 15280.695\tVAE-cor: 0.773 CPH-loss: 6.148 CPH-cind: 0.491\tTEST - VAE-cor: 0.769\n"
     ]
    },
    {
     "name": "stdout",
     "output_type": "stream",
     "text": [
      "5100 TRAIN - VAE-loss-avg: 15436.633\tVAE-cor: 0.776 CPH-loss: 6.066 CPH-cind: 0.546\tTEST - VAE-cor: 0.765\n"
     ]
    },
    {
     "name": "stdout",
     "output_type": "stream",
     "text": [
      "5200 TRAIN - VAE-loss-avg: 15322.672\tVAE-cor: 0.779 CPH-loss: 5.808 CPH-cind: 0.531\tTEST - VAE-cor: 0.755\n"
     ]
    },
    {
     "name": "stdout",
     "output_type": "stream",
     "text": [
      "5300 TRAIN - VAE-loss-avg: 15100.583\tVAE-cor: 0.791 CPH-loss: 5.93 CPH-cind: 0.5\tTEST - VAE-cor: 0.781\n"
     ]
    },
    {
     "name": "stdout",
     "output_type": "stream",
     "text": [
      "5400 TRAIN - VAE-loss-avg: 15201.875\tVAE-cor: 0.791 CPH-loss: 5.754 CPH-cind: 0.527\tTEST - VAE-cor: 0.771\n"
     ]
    },
    {
     "name": "stdout",
     "output_type": "stream",
     "text": [
      "5500 TRAIN - VAE-loss-avg: 14994.355\tVAE-cor: 0.796 CPH-loss: 5.795 CPH-cind: 0.538\tTEST - VAE-cor: 0.774\n"
     ]
    },
    {
     "name": "stdout",
     "output_type": "stream",
     "text": [
      "5600 TRAIN - VAE-loss-avg: 14956.049\tVAE-cor: 0.794 CPH-loss: 6.006 CPH-cind: 0.544\tTEST - VAE-cor: 0.803\n"
     ]
    },
    {
     "name": "stdout",
     "output_type": "stream",
     "text": [
      "5700 TRAIN - VAE-loss-avg: 14991.865\tVAE-cor: 0.807 CPH-loss: 6.007 CPH-cind: 0.513\tTEST - VAE-cor: 0.799\n"
     ]
    },
    {
     "name": "stdout",
     "output_type": "stream",
     "text": [
      "5800 TRAIN - VAE-loss-avg: 14937.89\tVAE-cor: 0.813 CPH-loss: 5.839 CPH-cind: 0.493\tTEST - VAE-cor: 0.802\n"
     ]
    },
    {
     "name": "stdout",
     "output_type": "stream",
     "text": [
      "5900 TRAIN - VAE-loss-avg: 14695.708\tVAE-cor: 0.817 CPH-loss: 5.677 CPH-cind: 0.519\tTEST - VAE-cor: 0.807\n"
     ]
    },
    {
     "name": "stdout",
     "output_type": "stream",
     "text": [
      "6000 TRAIN - VAE-loss-avg: 14644.946\tVAE-cor: 0.806 CPH-loss: 5.646 CPH-cind: 0.54\tTEST - VAE-cor: 0.814\n"
     ]
    },
    {
     "name": "stdout",
     "output_type": "stream",
     "text": [
      "6100 TRAIN - VAE-loss-avg: 14769.177\tVAE-cor: 0.82 CPH-loss: 6.664 CPH-cind: 0.459\tTEST - VAE-cor: 0.802\n"
     ]
    },
    {
     "name": "stdout",
     "output_type": "stream",
     "text": [
      "6200 TRAIN - VAE-loss-avg: 14669.262\tVAE-cor: 0.823 CPH-loss: 6.165 CPH-cind: 0.535\tTEST - VAE-cor: 0.814\n"
     ]
    },
    {
     "name": "stdout",
     "output_type": "stream",
     "text": [
      "6300 TRAIN - VAE-loss-avg: 14527.224\tVAE-cor: 0.814 CPH-loss: 5.604 CPH-cind: 0.502\tTEST - VAE-cor: 0.807\n"
     ]
    },
    {
     "name": "stdout",
     "output_type": "stream",
     "text": [
      "6400 TRAIN - VAE-loss-avg: 14487.605\tVAE-cor: 0.827 CPH-loss: 6.055 CPH-cind: 0.502\tTEST - VAE-cor: 0.821\n"
     ]
    },
    {
     "name": "stdout",
     "output_type": "stream",
     "text": [
      "6500 TRAIN - VAE-loss-avg: 14395.778\tVAE-cor: 0.826 CPH-loss: 5.665 CPH-cind: 0.502\tTEST - VAE-cor: 0.829\n"
     ]
    },
    {
     "name": "stdout",
     "output_type": "stream",
     "text": [
      "6600 TRAIN - VAE-loss-avg: 14425.195\tVAE-cor: 0.832 CPH-loss: 5.833 CPH-cind: 0.515\tTEST - VAE-cor: 0.83\n"
     ]
    },
    {
     "name": "stdout",
     "output_type": "stream",
     "text": [
      "6700 TRAIN - VAE-loss-avg: 14322.387\tVAE-cor: 0.84 CPH-loss: 6.02 CPH-cind: 0.541\tTEST - VAE-cor: 0.826\n"
     ]
    },
    {
     "name": "stdout",
     "output_type": "stream",
     "text": [
      "6800 TRAIN - VAE-loss-avg: 14253.645\tVAE-cor: 0.846 CPH-loss: 5.529 CPH-cind: 0.528\tTEST - VAE-cor: 0.831\n"
     ]
    },
    {
     "name": "stdout",
     "output_type": "stream",
     "text": [
      "6900 TRAIN - VAE-loss-avg: 14238.805\tVAE-cor: 0.839 CPH-loss: 6.069 CPH-cind: 0.51\tTEST - VAE-cor: 0.829\n"
     ]
    },
    {
     "name": "stdout",
     "output_type": "stream",
     "text": [
      "7000 TRAIN - VAE-loss-avg: 14252.937\tVAE-cor: 0.847 CPH-loss: 5.67 CPH-cind: 0.527\tTEST - VAE-cor: 0.829\n"
     ]
    },
    {
     "name": "stdout",
     "output_type": "stream",
     "text": [
      "7100 TRAIN - VAE-loss-avg: 14070.017\tVAE-cor: 0.851 CPH-loss: 5.485 CPH-cind: 0.481\tTEST - VAE-cor: 0.841\n"
     ]
    },
    {
     "name": "stdout",
     "output_type": "stream",
     "text": [
      "7200 TRAIN - VAE-loss-avg: 14081.795\tVAE-cor: 0.85 CPH-loss: 5.952 CPH-cind: 0.517\tTEST - VAE-cor: 0.851\n"
     ]
    },
    {
     "name": "stdout",
     "output_type": "stream",
     "text": [
      "7300 TRAIN - VAE-loss-avg: 14004.711\tVAE-cor: 0.857 CPH-loss: 5.582 CPH-cind: 0.505\tTEST - VAE-cor: 0.85\n"
     ]
    },
    {
     "name": "stdout",
     "output_type": "stream",
     "text": [
      "7400 TRAIN - VAE-loss-avg: 13988.052\tVAE-cor: 0.854 CPH-loss: 5.569 CPH-cind: 0.487\tTEST - VAE-cor: 0.852\n"
     ]
    },
    {
     "name": "stdout",
     "output_type": "stream",
     "text": [
      "7500 TRAIN - VAE-loss-avg: 14008.455\tVAE-cor: 0.859 CPH-loss: 5.53 CPH-cind: 0.495\tTEST - VAE-cor: 0.852\n"
     ]
    },
    {
     "name": "stdout",
     "output_type": "stream",
     "text": [
      "7600 TRAIN - VAE-loss-avg: 13924.727\tVAE-cor: 0.862 CPH-loss: 5.569 CPH-cind: 0.544\tTEST - VAE-cor: 0.823\n"
     ]
    },
    {
     "name": "stdout",
     "output_type": "stream",
     "text": [
      "7700 TRAIN - VAE-loss-avg: 13847.5\tVAE-cor: 0.863 CPH-loss: 5.556 CPH-cind: 0.551\tTEST - VAE-cor: 0.852\n"
     ]
    },
    {
     "name": "stdout",
     "output_type": "stream",
     "text": [
      "7800 TRAIN - VAE-loss-avg: 13832.739\tVAE-cor: 0.868 CPH-loss: 5.752 CPH-cind: 0.551\tTEST - VAE-cor: 0.858\n"
     ]
    },
    {
     "name": "stdout",
     "output_type": "stream",
     "text": [
      "7900 TRAIN - VAE-loss-avg: 13837.665\tVAE-cor: 0.865 CPH-loss: 5.261 CPH-cind: 0.508\tTEST - VAE-cor: 0.85\n"
     ]
    },
    {
     "name": "stdout",
     "output_type": "stream",
     "text": [
      "8000 TRAIN - VAE-loss-avg: 13909.536\tVAE-cor: 0.868 CPH-loss: 5.792 CPH-cind: 0.54\tTEST - VAE-cor: 0.855\n"
     ]
    },
    {
     "name": "stdout",
     "output_type": "stream",
     "text": [
      "8100 TRAIN - VAE-loss-avg: 13743.497\tVAE-cor: 0.865 CPH-loss: 5.469 CPH-cind: 0.511\tTEST - VAE-cor: 0.864\n"
     ]
    },
    {
     "name": "stdout",
     "output_type": "stream",
     "text": [
      "8200 TRAIN - VAE-loss-avg: 13797.354\tVAE-cor: 0.87 CPH-loss: 5.495 CPH-cind: 0.503\tTEST - VAE-cor: 0.86\n"
     ]
    },
    {
     "name": "stdout",
     "output_type": "stream",
     "text": [
      "8300 TRAIN - VAE-loss-avg: 13734.568\tVAE-cor: 0.874 CPH-loss: 5.536 CPH-cind: 0.519\tTEST - VAE-cor: 0.859\n"
     ]
    },
    {
     "name": "stdout",
     "output_type": "stream",
     "text": [
      "8400 TRAIN - VAE-loss-avg: 13722.186\tVAE-cor: 0.871 CPH-loss: 5.672 CPH-cind: 0.536\tTEST - VAE-cor: 0.86\n"
     ]
    },
    {
     "name": "stdout",
     "output_type": "stream",
     "text": [
      "8500 TRAIN - VAE-loss-avg: 13649.807\tVAE-cor: 0.874 CPH-loss: 5.538 CPH-cind: 0.529\tTEST - VAE-cor: 0.873\n"
     ]
    },
    {
     "name": "stdout",
     "output_type": "stream",
     "text": [
      "8600 TRAIN - VAE-loss-avg: 13686.388\tVAE-cor: 0.878 CPH-loss: 5.575 CPH-cind: 0.511\tTEST - VAE-cor: 0.853\n"
     ]
    },
    {
     "name": "stdout",
     "output_type": "stream",
     "text": [
      "8700 TRAIN - VAE-loss-avg: 13662.048\tVAE-cor: 0.879 CPH-loss: 5.34 CPH-cind: 0.508\tTEST - VAE-cor: 0.867\n"
     ]
    },
    {
     "name": "stdout",
     "output_type": "stream",
     "text": [
      "8800 TRAIN - VAE-loss-avg: 13626.84\tVAE-cor: 0.884 CPH-loss: 5.526 CPH-cind: 0.518\tTEST - VAE-cor: 0.864\n"
     ]
    },
    {
     "name": "stdout",
     "output_type": "stream",
     "text": [
      "8900 TRAIN - VAE-loss-avg: 13553.521\tVAE-cor: 0.881 CPH-loss: 5.425 CPH-cind: 0.495\tTEST - VAE-cor: 0.872\n"
     ]
    }
   ],
   "source": [
    "validate_vaecox(DATA, params_dict)"
   ]
  },
  {
   "cell_type": "code",
   "execution_count": null,
   "metadata": {},
   "outputs": [],
   "source": [
    "for iter in 1:nepochs\n",
    "    ps1 = Flux.params(model[\"cph\"].model, model[\"enc\"])\n",
    "    gs1 = gradient(ps1) do\n",
    "        model[\"cph\"].lossf(model[\"cph\"],model[\"enc\"], train_x, train_y_e, NE_frac_tr, params_dict[\"cph_wd\"])\n",
    "    end \n",
    "    ## gradient Auto-Encoder \n",
    "    ps2 = Flux.params(model[\"ae\"].net)\n",
    "    gs2 = gradient(ps2) do\n",
    "        model[\"ae\"].lossf(model[\"ae\"], train_x, train_x, weight_decay = params_dict[\"ae_wd\"])\n",
    "    end\n",
    "    Flux.update!(model[\"cph\"].opt, ps1, gs1)\n",
    "    Flux.update!(model[\"ae\"].opt, ps2, gs2)\n",
    "\n",
    "    ######\n",
    "    OUTS_tr = vec(model[\"cph\"].model(model[\"enc\"](train_x)))\n",
    "    ae_loss = model[\"ae\"].lossf(model[\"ae\"], train_x, train_x, weight_decay = params_dict[\"ae_wd\"])\n",
    "    ae_cor =  round(my_cor(vec(train_x), vec(model[\"ae\"].net(train_x))),digits = 3)\n",
    "    cph_loss = model[\"cph\"].lossf(model[\"cph\"],model[\"enc\"](train_x), train_y_e, NE_frac_tr, params_dict[\"cph_wd\"])\n",
    "    ae_loss_test = round(model[\"ae\"].lossf(model[\"ae\"], test_x, test_x, weight_decay = params_dict[\"ae_wd\"]), digits = 3)\n",
    "    ae_cor_test = round(my_cor(vec(test_x), vec(model[\"ae\"].net(test_x))), digits= 3)\n",
    "    cph_loss_test = round(model[\"cph\"].lossf(model[\"cph\"],model[\"enc\"](test_x), test_y_e, NE_frac_tst, params_dict[\"cph_wd\"]), digits= 3)\n",
    "                    \n",
    "    OUTS_tst =  vec(model[\"cph\"].model(model[\"enc\"](test_x)))\n",
    "            \n",
    "    cind_tr, cdnt_tr, ddnt_tr, tied_tr  = concordance_index(train_y_t, train_y_e, OUTS_tr)\n",
    "    cind_test,cdnt_tst, ddnt_tst, tied_tst = concordance_index(test_y_t, test_y_e,OUTS_tst)\n",
    "    if iter % 10 == 0       \n",
    "        println(\"FOLD $(fold[\"foldn\"]) $iter\\t TRAIN AE-loss $(round(ae_loss,digits =3)) \\t AE-cor: $(round(ae_cor, digits = 3))\\t cph-loss-avg: $(round(cph_loss / params_dict[\"nsamples_train\"],digits =6)) \\t cph-cind: $(round(cind_tr,digits =3))\")\n",
    "        println(\"\\t\\tTEST AE-loss $(round(ae_loss_test,digits =3)) \\t AE-cor: $(round(ae_cor_test, digits = 3))\\t cph-loss-avg: $(round(cph_loss_test / params_dict[\"nsamples_test\"],digits =6)) \\t cph-cind: $(round(cind_test,digits =3)) [$(Int(cdnt_tst)), $(Int(ddnt_tst)), $(Int(tied_tst))]\")\n",
    "    end\n",
    "end "
   ]
  },
  {
   "cell_type": "code",
   "execution_count": null,
   "metadata": {},
   "outputs": [],
   "source": []
  }
 ],
 "metadata": {
  "kernelspec": {
   "display_name": "Julia 1.9.4",
   "language": "julia",
   "name": "julia-1.9"
  },
  "language_info": {
   "file_extension": ".jl",
   "mimetype": "application/julia",
   "name": "julia",
   "version": "1.9.4"
  }
 },
 "nbformat": 4,
 "nbformat_minor": 2
}
