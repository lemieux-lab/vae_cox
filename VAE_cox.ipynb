{
 "cells": [
  {
   "cell_type": "markdown",
   "metadata": {},
   "source": [
    "# ISMB figures notebook"
   ]
  },
  {
   "cell_type": "code",
   "execution_count": 1,
   "metadata": {},
   "outputs": [
    {
     "name": "stderr",
     "output_type": "stream",
     "text": [
      "\u001b[32m\u001b[1m  Activating\u001b[22m\u001b[39m project at `~/vae_cox`\n"
     ]
    }
   ],
   "source": [
    "\n",
    "include(\"engines/init.jl\")\n",
    "include(\"engines/data_processing.jl\")\n",
    "include(\"engines/deep_learning.jl\")\n",
    "include(\"engines/cross_validation.jl\")\n",
    "outpath, session_id = set_dirs() ;"
   ]
  },
  {
   "cell_type": "code",
   "execution_count": 11,
   "metadata": {},
   "outputs": [
    {
     "data": {
      "text/plain": [
       "MLSurvDataset(Float32[3.21643 0.30103 … 0.0 1.4149734; 3.2214143 0.845098 … 0.47712126 1.9777236; … ; 3.299943 0.0 … 0.0 1.9138138; 3.067071 0.47712126 … 0.69897 1.80618], [\"001ad307-4ad3-4f1d-b2fc-efc032871c7e\", \"0061e9ef-df6a-414e-af64-c88f8192e2d3\", \"0073a136-d5f4-4fd6-88f9-711768f2abc6\", \"00b18ad6-ff70-41fe-8f4d-0763ac8f28b9\", \"010aac75-3bfe-4bf2-b866-af0f2d92f125\", \"0167cf11-74be-4701-ab9a-4e057d4bb545\", \"019c5de9-74fd-48b7-95a3-227532e16c5a\", \"01a13aba-74a4-4895-a5ad-e5119925c202\", \"01c4ca12-ac08-41dd-9e4f-bfb0971688a2\", \"02194c0c-e2c1-4ea7-994a-07b61b2575e2\"  …  \"fc8828ae-484d-4fc8-a168-f8bc58ad65b9\", \"fcd9e1c4-bddb-4856-844c-03df48fba499\", \"fcf14e9d-4671-453d-b8e0-5008e916f56d\", \"fdff46a7-f92a-45cf-8756-6c73a406c923\", \"fe5c5c11-ef39-4907-9a70-67f37bb62fd7\", \"fea46eef-6b7f-44c3-93bf-2dec16bdeb79\", \"febe2ce5-737b-43b8-bc70-4194fe3ed5fb\", \"fee2114e-f723-4374-91f8-f1dcc6b3eaee\", \"ffcec8e5-9fd3-4b42-a7cb-74761f713cf4\", \"fff304a2-113f-499d-a88c-9d3660c348d9\"], [\"TSPAN6\", \"TNMD\", \"DPM1\", \"SCYL3\", \"C1orf112\", \"FGR\", \"CFH\", \"FUCA2\", \"GCLC\", \"NFYA\"  …  \"AL451106.1\", \"AC092910.4\", \"AC073611.1\", \"AC136977.1\", \"AC078856.1\", \"AC008763.4\", \"AL592295.6\", \"AC006486.3\", \"AL391628.1\", \"AP006621.6\"], [\"protein_coding\", \"protein_coding\", \"protein_coding\", \"protein_coding\", \"protein_coding\", \"protein_coding\", \"protein_coding\", \"protein_coding\", \"protein_coding\", \"protein_coding\"  …  \"protein_coding\", \"lncRNA\", \"lncRNA\", \"lncRNA\", \"lncRNA\", \"protein_coding\", \"lncRNA\", \"protein_coding\", \"protein_coding\", \"protein_coding\"], [\"9382/3\", \"9451/3\", \"9401/3\", \"9451/3\", \"9450/3\", \"9401/3\", \"9400/3\", \"9401/3\", \"9450/3\", \"9382/3\"  …  \"9451/3\", \"9401/3\", \"9400/3\", \"9401/3\", \"9382/3\", \"9401/3\", \"9382/3\", \"9451/3\", \"9400/3\", \"9450/3\"], [82, 4084, 609, 494, 2772, 1033, 3725, 608, 4695, 956  …  431, 6423, 772, 74, 414, 15, 721, 1220, 526, 933], [0, 1, 0, 0, 0, 1, 0, 0, 1, 0  …  0, 0, 0, 0, 0, 0, 0, 1, 0, 0])"
      ]
     },
     "metadata": {},
     "output_type": "display_data"
    }
   ],
   "source": [
    "LGG = MLSurvDataset(\"Data/TCGA_LGG_tpm_n513_btypes_labels_surv.h5\")"
   ]
  },
  {
   "cell_type": "code",
   "execution_count": 12,
   "metadata": {},
   "outputs": [
    {
     "data": {
      "text/plain": [
       "MLSurvDataset(Float32[3.2911468 0.7781513 … 1.1760913 2.3384564; 2.9527924 1.3617278 … 0.30103 1.5185139; … ; 3.4551494 0.30103 … 0.30103 2.0681858; 3.796019 0.60206 … 0.7781513 2.0530784], [\"005a6517-2e5a-4ea3-ab36-531522723607\", \"01ea6354-137b-47f3-9021-a01a382b1147\", \"02594e5e-8751-47c1-9245-90c66984b665\", \"02d9aa2e-b16a-48ea-a420-5daed9fd51a6\", \"0484a929-7a7f-4926-8d25-470ddab082ec\", \"04ecaf38-0232-4dcd-9242-308a22cc1331\", \"05019013-7ea5-4905-ac79-901146ba2ee2\", \"05263959-c4f5-4540-b6d2-d8c8a128861f\", \"05ba5839-e00a-4a9e-8ba3-ecb490781e62\", \"062982f8-9f49-425a-99e9-008af5ed9040\"  …  \"f9793a4b-c0e7-4475-bf80-69543b7ee2f6\", \"f9c835db-2ab6-4bf5-826f-48723493c0ec\", \"f9f44f86-10c7-4473-b156-5afbfa9a2ad0\", \"fbb45305-de8d-4baf-8bd0-047b29c2e9d9\", \"fd4740db-76a8-4362-be71-7b609479bb67\", \"fdf83fdf-dfbb-4306-9a1b-b4487d18b402\", \"fe0e3851-d8cb-4533-9536-b4826cd25f87\", \"fe402983-70da-44db-b7b1-c32702ddde26\", \"fef1696c-a8f4-4db6-8615-e486522baaaa\", \"ff844242-7559-4b07-b09e-69ea40e5ac6b\"], [\"TSPAN6\", \"TNMD\", \"DPM1\", \"SCYL3\", \"C1orf112\", \"FGR\", \"CFH\", \"FUCA2\", \"GCLC\", \"NFYA\"  …  \"AL451106.1\", \"AC092910.4\", \"AC073611.1\", \"AC136977.1\", \"AC078856.1\", \"AC008763.4\", \"AL592295.6\", \"AC006486.3\", \"AL391628.1\", \"AP006621.6\"], [\"protein_coding\", \"protein_coding\", \"protein_coding\", \"protein_coding\", \"protein_coding\", \"protein_coding\", \"protein_coding\", \"protein_coding\", \"protein_coding\", \"protein_coding\"  …  \"protein_coding\", \"lncRNA\", \"lncRNA\", \"lncRNA\", \"lncRNA\", \"protein_coding\", \"lncRNA\", \"protein_coding\", \"protein_coding\", \"protein_coding\"], [\"8441/3\", \"8441/3\", \"8441/3\", \"8441/3\", \"8441/3\", \"8441/3\", \"8441/3\", \"8441/3\", \"8441/3\", \"8441/3\"  …  \"8441/3\", \"8441/3\", \"8441/3\", \"8441/3\", \"8441/3\", \"8441/3\", \"8441/3\", \"8441/3\", \"8441/3\", \"8441/3\"], [74, 1199, 1919, 147, 947, 967, 2400, 2338, 23, 857  …  194, 555, 1933, 2614, 1369, 130, 1106, 2438, 232, 760], [1, 1, 0, 0, 0, 0, 1, 0, 1, 1  …  0, 1, 1, 0, 1, 0, 1, 0, 0, 1])"
      ]
     },
     "metadata": {},
     "output_type": "display_data"
    }
   ],
   "source": [
    "OV = MLSurvDataset(\"Data/TCGA_OV_tpm_n420_btypes_labels_surv.h5\")"
   ]
  },
  {
   "cell_type": "code",
   "execution_count": 13,
   "metadata": {},
   "outputs": [
    {
     "data": {
      "text/plain": [
       "MLSurvDataset(Float32[2.628389 0.60206 … 0.47712126 1.30103; 3.3195224 2.4843 … 0.90309 1.3617278; … ; 3.2151086 1.0413927 … 0.0 1.0791812; 3.328991 1.0 … 0.60206 1.5563025], [\"001cef41-ff86-4d3f-a140-a647ac4b10a1\", \"0045349c-69d9-4306-a403-c9c1fa836644\", \"00807dae-9f4a-4fd1-aac2-82eb11bf2afb\", \"00a2d166-78c9-4687-a195-3d6315c27574\", \"00b11ca8-8540-4a3d-b602-ec754b00230b\", \"011b9b2d-ebe5-42bf-9662-d922faccc7a1\", \"01263518-5f7c-49dc-8d7e-84b0c03a6a63\", \"0130d616-885e-4a6c-9d03-2f17dd692a05\", \"01674b2c-5cf2-478f-84a1-f69c39f47bd4\", \"016caf42-4e19-4444-ab5d-6cf1e76c4afa\"  …  \"fb57c598-b45b-478a-9d34-ca1f050d5b7c\", \"fbee40f1-d6d8-4156-8d42-36e09bb9f095\", \"fc18d029-9be2-4fa0-9aef-6d647dc55f0b\", \"fcef8cb5-fb2c-4bfb-82cd-6b9f3145182c\", \"fd0b1b8b-1a76-480a-b61c-d176e4e02c6b\", \"fe15c48b-116d-461e-9b40-68514730fd18\", \"fe2cd610-aa52-4789-ac62-7683281bb22f\", \"fe7f74b8-20f4-4471-91dc-4cca8c68e5c0\", \"fec0da58-1047-44d2-b6d1-c18cceed43dc\", \"ff0f875f-113a-4c0f-8c0a-4259cd496e6d\"], [\"TSPAN6\", \"TNMD\", \"DPM1\", \"SCYL3\", \"C1orf112\", \"FGR\", \"CFH\", \"FUCA2\", \"GCLC\", \"NFYA\"  …  \"AL451106.1\", \"AC092910.4\", \"AC073611.1\", \"AC136977.1\", \"AC078856.1\", \"AC008763.4\", \"AL592295.6\", \"AC006486.3\", \"AL391628.1\", \"AP006621.6\"], [\"protein_coding\", \"protein_coding\", \"protein_coding\", \"protein_coding\", \"protein_coding\", \"protein_coding\", \"protein_coding\", \"protein_coding\", \"protein_coding\", \"protein_coding\"  …  \"protein_coding\", \"lncRNA\", \"lncRNA\", \"lncRNA\", \"lncRNA\", \"protein_coding\", \"lncRNA\", \"protein_coding\", \"protein_coding\", \"protein_coding\"], [\"LumA\", \"Basal\", \"Her2\", \"Her2\", \"Normal\", \"LumA\", \"LumB\", \"LumA\", \"Basal\", \"Basal\"  …  \"LumA\", \"LumB\", \"Basal\", \"Normal\", \"Her2\", \"Normal\", \"LumA\", \"Basal\", \"LumA\", \"Her2\"], [337, 259, 3102, 5, 759, 954, 304, 503, 915, 3248  …  78, 572, 584, 414, 2164, 2813, 5, 1532, 375, 381], [0, 0, 0, 0, 0, 0, 0, 0, 0, 0  …  0, 0, 0, 0, 0, 0, 0, 0, 0, 0])"
      ]
     },
     "metadata": {},
     "output_type": "display_data"
    }
   ],
   "source": [
    "BRCA = MLSurvDataset(\"Data/TCGA_BRCA_tpm_n1049_btypes_labels_surv.h5\")"
   ]
  },
  {
   "cell_type": "code",
   "execution_count": 14,
   "metadata": {},
   "outputs": [
    {
     "data": {
      "text/plain": [
       "MLSurvDataset(Float32[0.008600163 0.0 … 0.0 0.0; 0.033423774 0.00432137 … 0.0 0.029383799; … ; 0.4828736 0.0 … 0.0 0.15836251; 0.045322984 0.017033324 … 0.0 0.20682588], [\"01H001\", \"02H003\", \"02H009\", \"02H017\", \"02H026\", \"02H033\", \"02H053\", \"02H066\", \"03H016\", \"03H022\"  …  \"13H186\", \"14H001\", \"14H007\", \"14H012\", \"14H015\", \"14H017\", \"14H019\", \"14H020\", \"14H023\", \"14H038\"], [\"TSPAN6\", \"TNMD\", \"DPM1\", \"SCYL3\", \"C1orf112\", \"FGR\", \"CFH\", \"FUCA2\", \"GCLC\", \"NFYA\"  …  \"AP003086.3\", \"AL109627.1\", \"AC084851.4\", \"AC024558.2\", \"AC108479.4\", \"AL512357.2\", \"AL138899.3\", \"AL669830.1\", \"AC091135.2\", \"AL357075.5\"], [\"lncRNA\", \"lncRNA\", \"protein_coding\", \"lncRNA\", \"protein_coding\", \"lncRNA\", \"protein_coding,retained_intron\", \"lncRNA\", \"protein_coding\", \"protein_coding\"  …  \"transcribed_processed_pseudogene\", \"lncRNA\", \"processed_pseudogene\", \"protein_coding\", \"unprocessed_pseudogene\", \"lncRNA\", \"protein_coding\", \"retained_intron\", \"unprocessed_pseudogene\", \"protein_coding\"], [\"Therapy-related myeloid neoplasms\", \"AML with minimal differentiation\", \"AML without maturation\", \"AML with minimal differentiation\", \"AML with myelodysplasia-related changes\", \"Acute monoblastic and monocytic leukaemia\", \"AML without maturation\", \"AML without maturation\", \"Acute monoblastic and monocytic leukaemia\", \"AML with myelodysplasia-related changes\"  …  \"Acute myelomonocytic leukaemia\", \"AML without maturation\", \"AML with maturation\", \"AML with minimal differentiation\", \"Acute myelomonocytic leukaemia\", \"AML without maturation\", \"AML with minimal differentiation\", \"AML without maturation\", \"AML with myelodysplasia-related changes\", \"AML with inv(3)(q21q26.2) or t(3;3)(q21;q26.2); RPN1-EVI1\"], [2170, 1396, 236, 284, 358, 101, 37, 135, 6033, 805  …  150, 2086, 75, 1467, 207, 213, 1983, 1952, 36, 255], [1, 1, 1, 1, 1, 1, 1, 1, 0, 1  …  1, 0, 1, 1, 1, 1, 0, 0, 1, 1])"
      ]
     },
     "metadata": {},
     "output_type": "display_data"
    }
   ],
   "source": [
    "LAML = MLSurvDataset(\"Data/LGN_AML_tpm_n300_btypes_labels_surv.h5\") "
   ]
  },
  {
   "cell_type": "code",
   "execution_count": 42,
   "metadata": {},
   "outputs": [
    {
     "name": "stderr",
     "output_type": "stream",
     "text": [
      "\u001b[32m\u001b[1m  Activating\u001b[22m\u001b[39m project at `~/vae_cox`\n"
     ]
    },
    {
     "name": "stdout",
     "output_type": "stream",
     "text": [
      "Switching to GPU-1: NVIDIA GeForce RTX 2080 Ti (uuid: 90981aca-14ac-00b8-6e79-2efa12b4483f)\n"
     ]
    },
    {
     "name": "stdout",
     "output_type": "stream",
     "text": [
      "nb genes : 14996\n",
      "nb patients : 300\n",
      "% uncensored : 0.7433333333333333\n"
     ]
    },
    {
     "name": "stdout",
     "output_type": "stream",
     "text": [
      "1 TRAIN cind: 0.465 \t TEST cind: 0.475 [795, 878, 0]\n"
     ]
    },
    {
     "name": "stdout",
     "output_type": "stream",
     "text": [
      "400 TRAIN cind: 0.558 \t TEST cind: 0.558 [934, 739, 0]\n"
     ]
    },
    {
     "name": "stdout",
     "output_type": "stream",
     "text": [
      "800 TRAIN cind: 0.637 \t TEST cind: 0.626 [1047, 626, 0]\n"
     ]
    },
    {
     "name": "stdout",
     "output_type": "stream",
     "text": [
      "1200 TRAIN cind: 0.682 \t TEST cind: 0.66 [1105, 568, 0]\n"
     ]
    },
    {
     "name": "stdout",
     "output_type": "stream",
     "text": [
      "1600 TRAIN cind: 0.709 \t TEST cind: 0.684 [1144, 529, 0]\n"
     ]
    },
    {
     "name": "stdout",
     "output_type": "stream",
     "text": [
      "2000 TRAIN cind: 0.726 \t TEST cind: 0.695 [1162, 511, 0]\n"
     ]
    },
    {
     "name": "stdout",
     "output_type": "stream",
     "text": [
      "2400 TRAIN cind: 0.739 \t TEST cind: 0.703 [1176, 497, 0]\n"
     ]
    },
    {
     "name": "stdout",
     "output_type": "stream",
     "text": [
      "2800 TRAIN cind: 0.75 \t TEST cind: 0.708 [1185, 488, 0]\n"
     ]
    },
    {
     "name": "stdout",
     "output_type": "stream",
     "text": [
      "3200 TRAIN cind: 0.76 \t TEST cind: 0.718 [1201, 472, 0]\n"
     ]
    },
    {
     "name": "stdout",
     "output_type": "stream",
     "text": [
      "3600 TRAIN cind: 0.769 \t TEST cind: 0.717 [1200, 473, 0]\n"
     ]
    },
    {
     "name": "stdout",
     "output_type": "stream",
     "text": [
      "4000 TRAIN cind: 0.778 \t TEST cind: 0.721 [1206, 467, 0]\n"
     ]
    },
    {
     "name": "stdout",
     "output_type": "stream",
     "text": [
      "4400 TRAIN cind: 0.785 \t TEST cind: 0.722 [1208, 465, 0]\n"
     ]
    },
    {
     "name": "stdout",
     "output_type": "stream",
     "text": [
      "4800 TRAIN cind: 0.792 \t TEST cind: 0.717 [1199, 474, 0]\n"
     ]
    },
    {
     "name": "stdout",
     "output_type": "stream",
     "text": [
      "5200 TRAIN cind: 0.798 \t TEST cind: 0.714 [1195, 478, 0]\n"
     ]
    },
    {
     "name": "stdout",
     "output_type": "stream",
     "text": [
      "5600 TRAIN cind: 0.805 \t TEST cind: 0.712 [1192, 481, 0]\n"
     ]
    },
    {
     "name": "stdout",
     "output_type": "stream",
     "text": [
      "6000 TRAIN cind: 0.811 \t TEST cind: 0.709 [1186, 487, 0]\n"
     ]
    },
    {
     "name": "stdout",
     "output_type": "stream",
     "text": [
      "6400 TRAIN cind: 0.816 \t TEST cind: 0.71 [1188, 485, 0]\n"
     ]
    },
    {
     "name": "stdout",
     "output_type": "stream",
     "text": [
      "6800 TRAIN cind: 0.822 \t TEST cind: 0.711 [1189, 484, 0]\n"
     ]
    },
    {
     "name": "stdout",
     "output_type": "stream",
     "text": [
      "7200 TRAIN cind: 0.827 \t TEST cind: 0.712 [1192, 481, 0]\n"
     ]
    },
    {
     "name": "stdout",
     "output_type": "stream",
     "text": [
      "7600 TRAIN cind: 0.831 \t TEST cind: 0.717 [1199, 474, 0]\n"
     ]
    },
    {
     "name": "stdout",
     "output_type": "stream",
     "text": [
      "8000 TRAIN cind: 0.836 \t TEST cind: 0.72 [1204, 469, 0]\n"
     ]
    },
    {
     "name": "stdout",
     "output_type": "stream",
     "text": [
      "8400 TRAIN cind: 0.84 \t TEST cind: 0.72 [1205, 468, 0]\n"
     ]
    },
    {
     "name": "stdout",
     "output_type": "stream",
     "text": [
      "8800 TRAIN cind: 0.844 \t TEST cind: 0.724 [1212, 461, 0]\n"
     ]
    },
    {
     "name": "stdout",
     "output_type": "stream",
     "text": [
      "9200 TRAIN cind: 0.849 \t TEST cind: 0.724 [1212, 461, 0]\n"
     ]
    },
    {
     "name": "stdout",
     "output_type": "stream",
     "text": [
      "9600 TRAIN cind: 0.852 \t TEST cind: 0.726 [1214, 459, 0]\n"
     ]
    },
    {
     "name": "stdout",
     "output_type": "stream",
     "text": [
      "10000 TRAIN cind: 0.856 \t TEST cind: 0.726 [1214, 459, 0]\n"
     ]
    },
    {
     "name": "stdout",
     "output_type": "stream",
     "text": [
      "10400 TRAIN cind: 0.859 \t TEST cind: 0.724 [1211, 462, 0]\n"
     ]
    },
    {
     "name": "stdout",
     "output_type": "stream",
     "text": [
      "10800 TRAIN cind: 0.862 \t TEST cind: 0.726 [1215, 458, 0]\n"
     ]
    },
    {
     "name": "stdout",
     "output_type": "stream",
     "text": [
      "11200 TRAIN cind: 0.866 \t TEST cind: 0.727 [1217, 456, 0]\n"
     ]
    },
    {
     "name": "stdout",
     "output_type": "stream",
     "text": [
      "11600 TRAIN cind: 0.869 \t TEST cind: 0.726 [1215, 458, 0]\n"
     ]
    },
    {
     "name": "stdout",
     "output_type": "stream",
     "text": [
      "12000 TRAIN cind: 0.872 \t TEST cind: 0.727 [1217, 456, 0]\n"
     ]
    },
    {
     "name": "stdout",
     "output_type": "stream",
     "text": [
      "12400 TRAIN cind: 0.875 \t TEST cind: 0.728 [1218, 455, 0]\n"
     ]
    },
    {
     "name": "stdout",
     "output_type": "stream",
     "text": [
      "12800 TRAIN cind: 0.878 \t TEST cind: 0.727 [1217, 456, 0]\n"
     ]
    },
    {
     "name": "stdout",
     "output_type": "stream",
     "text": [
      "13200 TRAIN cind: 0.88 \t TEST cind: 0.725 [1213, 460, 0]\n"
     ]
    },
    {
     "name": "stdout",
     "output_type": "stream",
     "text": [
      "13600 TRAIN cind: 0.883 \t TEST cind: 0.726 [1214, 459, 0]\n"
     ]
    },
    {
     "name": "stdout",
     "output_type": "stream",
     "text": [
      "14000 TRAIN cind: 0.885 \t TEST cind: 0.729 [1219, 454, 0]\n"
     ]
    },
    {
     "name": "stdout",
     "output_type": "stream",
     "text": [
      "14400 TRAIN cind: 0.887 \t TEST cind: 0.729 [1219, 454, 0]\n"
     ]
    },
    {
     "name": "stdout",
     "output_type": "stream",
     "text": [
      "14800 TRAIN cind: 0.889 \t TEST cind: 0.726 [1215, 458, 0]\n"
     ]
    },
    {
     "name": "stdout",
     "output_type": "stream",
     "text": [
      "15200 TRAIN cind: 0.892 \t TEST cind: 0.727 [1217, 456, 0]\n"
     ]
    },
    {
     "name": "stdout",
     "output_type": "stream",
     "text": [
      "15600 TRAIN cind: 0.894 \t TEST cind: 0.729 [1219, 454, 0]\n"
     ]
    },
    {
     "name": "stdout",
     "output_type": "stream",
     "text": [
      "16000 TRAIN cind: 0.896 \t TEST cind: 0.727 [1216, 457, 0]\n"
     ]
    },
    {
     "name": "stdout",
     "output_type": "stream",
     "text": [
      "16400 TRAIN cind: 0.899 \t TEST cind: 0.727 [1217, 456, 0]\n"
     ]
    },
    {
     "name": "stdout",
     "output_type": "stream",
     "text": [
      "16800 TRAIN cind: 0.901 \t TEST cind: 0.726 [1215, 458, 0]\n"
     ]
    },
    {
     "name": "stdout",
     "output_type": "stream",
     "text": [
      "17200 TRAIN cind: 0.903 \t TEST cind: 0.727 [1217, 456, 0]\n"
     ]
    },
    {
     "name": "stdout",
     "output_type": "stream",
     "text": [
      "17600 TRAIN cind: 0.905 \t TEST cind: 0.729 [1220, 453, 0]\n"
     ]
    },
    {
     "name": "stdout",
     "output_type": "stream",
     "text": [
      "18000 TRAIN cind: 0.907 \t TEST cind: 0.727 [1217, 456, 0]\n"
     ]
    },
    {
     "name": "stdout",
     "output_type": "stream",
     "text": [
      "18400 TRAIN cind: 0.908 \t TEST cind: 0.725 [1213, 460, 0]\n"
     ]
    },
    {
     "name": "stdout",
     "output_type": "stream",
     "text": [
      "18800 TRAIN cind: 0.91 \t TEST cind: 0.724 [1212, 461, 0]\n"
     ]
    },
    {
     "name": "stdout",
     "output_type": "stream",
     "text": [
      "19200 TRAIN cind: 0.912 \t TEST cind: 0.724 [1211, 462, 0]\n"
     ]
    },
    {
     "name": "stdout",
     "output_type": "stream",
     "text": [
      "19600 TRAIN cind: 0.914 \t TEST cind: 0.723 [1210, 463, 0]\n"
     ]
    },
    {
     "name": "stdout",
     "output_type": "stream",
     "text": [
      "20000 TRAIN cind: 0.916 \t TEST cind: 0.723 [1210, 463, 0]\n"
     ]
    },
    {
     "name": "stdout",
     "output_type": "stream",
     "text": [
      "20400 TRAIN cind: 0.918 \t TEST cind: 0.723 [1209, 464, 0]\n"
     ]
    },
    {
     "name": "stdout",
     "output_type": "stream",
     "text": [
      "20800 TRAIN cind: 0.919 \t TEST cind: 0.721 [1207, 466, 0]\n"
     ]
    },
    {
     "name": "stdout",
     "output_type": "stream",
     "text": [
      "21200 TRAIN cind: 0.921 \t TEST cind: 0.721 [1206, 467, 0]\n"
     ]
    },
    {
     "name": "stdout",
     "output_type": "stream",
     "text": [
      "21600 TRAIN cind: 0.923 \t TEST cind: 0.721 [1207, 466, 0]\n"
     ]
    },
    {
     "name": "stdout",
     "output_type": "stream",
     "text": [
      "22000 TRAIN cind: 0.925 \t TEST cind: 0.72 [1205, 468, 0]\n"
     ]
    },
    {
     "name": "stdout",
     "output_type": "stream",
     "text": [
      "22400 TRAIN cind: 0.926 \t TEST cind: 0.72 [1205, 468, 0]\n"
     ]
    },
    {
     "name": "stdout",
     "output_type": "stream",
     "text": [
      "22800 TRAIN cind: 0.928 \t TEST cind: 0.721 [1207, 466, 0]\n"
     ]
    },
    {
     "name": "stdout",
     "output_type": "stream",
     "text": [
      "23200 TRAIN cind: 0.929 \t TEST cind: 0.72 [1205, 468, 0]\n"
     ]
    },
    {
     "name": "stdout",
     "output_type": "stream",
     "text": [
      "23600 TRAIN cind: 0.931 \t TEST cind: 0.72 [1205, 468, 0]\n"
     ]
    },
    {
     "name": "stdout",
     "output_type": "stream",
     "text": [
      "24000 TRAIN cind: 0.932 \t TEST cind: 0.721 [1206, 467, 0]\n"
     ]
    },
    {
     "name": "stdout",
     "output_type": "stream",
     "text": [
      "24400 TRAIN cind: 0.934 \t TEST cind: 0.721 [1207, 466, 0]\n"
     ]
    },
    {
     "name": "stdout",
     "output_type": "stream",
     "text": [
      "24800 TRAIN cind: 0.935 \t TEST cind: 0.722 [1208, 465, 0]\n"
     ]
    },
    {
     "name": "stdout",
     "output_type": "stream",
     "text": [
      "25200 TRAIN cind: 0.936 \t TEST cind: 0.723 [1209, 464, 0]\n"
     ]
    },
    {
     "name": "stdout",
     "output_type": "stream",
     "text": [
      "25600 TRAIN cind: 0.937 \t TEST cind: 0.722 [1208, 465, 0]\n"
     ]
    },
    {
     "name": "stdout",
     "output_type": "stream",
     "text": [
      "26000 TRAIN cind: 0.938 \t TEST cind: 0.721 [1207, 466, 0]\n"
     ]
    },
    {
     "name": "stdout",
     "output_type": "stream",
     "text": [
      "26400 TRAIN cind: 0.94 \t TEST cind: 0.72 [1204, 469, 0]\n"
     ]
    },
    {
     "name": "stdout",
     "output_type": "stream",
     "text": [
      "26800 TRAIN cind: 0.941 \t TEST cind: 0.719 [1203, 470, 0]\n"
     ]
    },
    {
     "name": "stdout",
     "output_type": "stream",
     "text": [
      "27200 TRAIN cind: 0.942 \t TEST cind: 0.719 [1203, 470, 0]\n"
     ]
    },
    {
     "name": "stdout",
     "output_type": "stream",
     "text": [
      "27600 TRAIN cind: 0.943 \t TEST cind: 0.72 [1204, 469, 0]\n"
     ]
    },
    {
     "name": "stdout",
     "output_type": "stream",
     "text": [
      "28000 TRAIN cind: 0.944 \t TEST cind: 0.72 [1204, 469, 0]\n"
     ]
    },
    {
     "name": "stdout",
     "output_type": "stream",
     "text": [
      "28400 TRAIN cind: 0.945 \t TEST cind: 0.717 [1200, 473, 0]\n"
     ]
    },
    {
     "name": "stdout",
     "output_type": "stream",
     "text": [
      "28800 TRAIN cind: 0.946 \t TEST cind: 0.718 [1202, 471, 0]\n"
     ]
    },
    {
     "name": "stdout",
     "output_type": "stream",
     "text": [
      "29200 TRAIN cind: 0.947 \t TEST cind: 0.718 [1201, 472, 0]\n"
     ]
    },
    {
     "name": "stdout",
     "output_type": "stream",
     "text": [
      "29600 TRAIN cind: 0.948 \t TEST cind: 0.718 [1202, 471, 0]\n"
     ]
    },
    {
     "name": "stdout",
     "output_type": "stream",
     "text": [
      "30000 TRAIN cind: 0.949 \t TEST cind: 0.718 [1201, 472, 0]\n"
     ]
    },
    {
     "name": "stdout",
     "output_type": "stream",
     "text": [
      "nb genes : 19962\n",
      "nb patients : 1049\n",
      "% uncensored : 0.14013346043851288\n"
     ]
    },
    {
     "name": "stdout",
     "output_type": "stream",
     "text": [
      "1 TRAIN cind: 0.521 \t TEST cind: 0.525 [1441, 1306, 0]\n"
     ]
    },
    {
     "name": "stdout",
     "output_type": "stream",
     "text": [
      "400 TRAIN cind: 0.616 \t TEST cind: 0.492 [1352, 1395, 0]\n"
     ]
    },
    {
     "name": "stdout",
     "output_type": "stream",
     "text": [
      "800 TRAIN cind: 0.701 \t TEST cind: 0.511 [1403, 1344, 0]\n"
     ]
    },
    {
     "name": "stdout",
     "output_type": "stream",
     "text": [
      "1200 TRAIN cind: 0.764 \t TEST cind: 0.537 [1474, 1273, 0]\n"
     ]
    },
    {
     "name": "stdout",
     "output_type": "stream",
     "text": [
      "1600 TRAIN cind: 0.809 \t TEST cind: 0.574 [1577, 1170, 0]\n"
     ]
    },
    {
     "name": "stdout",
     "output_type": "stream",
     "text": [
      "2000 TRAIN cind: 0.845 \t TEST cind: 0.601 [1651, 1096, 0]\n"
     ]
    },
    {
     "name": "stdout",
     "output_type": "stream",
     "text": [
      "2400 TRAIN cind: 0.869 \t TEST cind: 0.622 [1708, 1039, 0]\n"
     ]
    },
    {
     "name": "stdout",
     "output_type": "stream",
     "text": [
      "2800 TRAIN cind: 0.889 \t TEST cind: 0.641 [1762, 985, 0]\n"
     ]
    },
    {
     "name": "stdout",
     "output_type": "stream",
     "text": [
      "3200 TRAIN cind: 0.905 \t TEST cind: 0.651 [1789, 958, 0]\n"
     ]
    },
    {
     "name": "stdout",
     "output_type": "stream",
     "text": [
      "3600 TRAIN cind: 0.918 \t TEST cind: 0.663 [1821, 926, 0]\n"
     ]
    },
    {
     "name": "stdout",
     "output_type": "stream",
     "text": [
      "4000 TRAIN cind: 0.93 \t TEST cind: 0.668 [1836, 911, 0]\n"
     ]
    },
    {
     "name": "stdout",
     "output_type": "stream",
     "text": [
      "4400 TRAIN cind: 0.938 \t TEST cind: 0.676 [1858, 889, 0]\n"
     ]
    },
    {
     "name": "stdout",
     "output_type": "stream",
     "text": [
      "4800 TRAIN cind: 0.944 \t TEST cind: 0.683 [1875, 872, 0]\n"
     ]
    },
    {
     "name": "stdout",
     "output_type": "stream",
     "text": [
      "5200 TRAIN cind: 0.951 \t TEST cind: 0.689 [1892, 855, 0]\n"
     ]
    },
    {
     "name": "stdout",
     "output_type": "stream",
     "text": [
      "5600 TRAIN cind: 0.956 \t TEST cind: 0.693 [1903, 844, 0]\n"
     ]
    },
    {
     "name": "stdout",
     "output_type": "stream",
     "text": [
      "6000 TRAIN cind: 0.96 \t TEST cind: 0.699 [1919, 828, 0]\n"
     ]
    },
    {
     "name": "stdout",
     "output_type": "stream",
     "text": [
      "6400 TRAIN cind: 0.964 \t TEST cind: 0.701 [1925, 822, 0]\n"
     ]
    },
    {
     "name": "stdout",
     "output_type": "stream",
     "text": [
      "6800 TRAIN cind: 0.967 \t TEST cind: 0.703 [1930, 817, 0]\n"
     ]
    },
    {
     "name": "stdout",
     "output_type": "stream",
     "text": [
      "7200 TRAIN cind: 0.97 \t TEST cind: 0.703 [1932, 815, 0]\n"
     ]
    },
    {
     "name": "stdout",
     "output_type": "stream",
     "text": [
      "7600 TRAIN cind: 0.972 \t TEST cind: 0.704 [1934, 813, 0]\n"
     ]
    },
    {
     "name": "stdout",
     "output_type": "stream",
     "text": [
      "8000 TRAIN cind: 0.975 \t TEST cind: 0.704 [1935, 812, 0]\n"
     ]
    },
    {
     "name": "stdout",
     "output_type": "stream",
     "text": [
      "8400 TRAIN cind: 0.976 \t TEST cind: 0.705 [1937, 810, 0]\n"
     ]
    },
    {
     "name": "stdout",
     "output_type": "stream",
     "text": [
      "8800 TRAIN cind: 0.978 \t TEST cind: 0.706 [1940, 807, 0]\n"
     ]
    },
    {
     "name": "stdout",
     "output_type": "stream",
     "text": [
      "9200 TRAIN cind: 0.98 \t TEST cind: 0.706 [1939, 808, 0]\n"
     ]
    },
    {
     "name": "stdout",
     "output_type": "stream",
     "text": [
      "9600 TRAIN cind: 0.981 \t TEST cind: 0.704 [1935, 812, 0]\n"
     ]
    },
    {
     "name": "stdout",
     "output_type": "stream",
     "text": [
      "10000 TRAIN cind: 0.982 \t TEST cind: 0.707 [1942, 805, 0]\n"
     ]
    },
    {
     "name": "stdout",
     "output_type": "stream",
     "text": [
      "10400 TRAIN cind: 0.983 \t TEST cind: 0.708 [1945, 802, 0]\n"
     ]
    },
    {
     "name": "stdout",
     "output_type": "stream",
     "text": [
      "10800 TRAIN cind: 0.985 \t TEST cind: 0.709 [1948, 799, 0]\n"
     ]
    },
    {
     "name": "stdout",
     "output_type": "stream",
     "text": [
      "11200 TRAIN cind: 0.986 \t TEST cind: 0.71 [1951, 796, 0]\n"
     ]
    },
    {
     "name": "stdout",
     "output_type": "stream",
     "text": [
      "11600 TRAIN cind: 0.987 \t TEST cind: 0.712 [1957, 790, 0]\n"
     ]
    },
    {
     "name": "stdout",
     "output_type": "stream",
     "text": [
      "12000 TRAIN cind: 0.988 \t TEST cind: 0.712 [1955, 792, 0]\n"
     ]
    },
    {
     "name": "stdout",
     "output_type": "stream",
     "text": [
      "12400 TRAIN cind: 0.988 \t TEST cind: 0.711 [1954, 793, 0]\n"
     ]
    },
    {
     "name": "stdout",
     "output_type": "stream",
     "text": [
      "12800 TRAIN cind: 0.989 \t TEST cind: 0.712 [1955, 792, 0]\n"
     ]
    },
    {
     "name": "stdout",
     "output_type": "stream",
     "text": [
      "13200 TRAIN cind: 0.99 \t TEST cind: 0.711 [1953, 794, 0]\n"
     ]
    },
    {
     "name": "stdout",
     "output_type": "stream",
     "text": [
      "13600 TRAIN cind: 0.99 \t TEST cind: 0.71 [1951, 796, 0]\n"
     ]
    },
    {
     "name": "stdout",
     "output_type": "stream",
     "text": [
      "14000 TRAIN cind: 0.991 \t TEST cind: 0.71 [1949, 798, 0]\n"
     ]
    },
    {
     "name": "stdout",
     "output_type": "stream",
     "text": [
      "14400 TRAIN cind: 0.992 \t TEST cind: 0.709 [1948, 799, 0]\n"
     ]
    },
    {
     "name": "stdout",
     "output_type": "stream",
     "text": [
      "14800 TRAIN cind: 0.992 \t TEST cind: 0.708 [1946, 801, 0]\n"
     ]
    },
    {
     "name": "stdout",
     "output_type": "stream",
     "text": [
      "15200 TRAIN cind: 0.993 \t TEST cind: 0.709 [1947, 800, 0]\n"
     ]
    },
    {
     "name": "stdout",
     "output_type": "stream",
     "text": [
      "15600 TRAIN cind: 0.993 \t TEST cind: 0.71 [1949, 798, 0]\n"
     ]
    },
    {
     "name": "stdout",
     "output_type": "stream",
     "text": [
      "16000 TRAIN cind: 0.994 \t TEST cind: 0.711 [1952, 795, 0]\n"
     ]
    },
    {
     "name": "stdout",
     "output_type": "stream",
     "text": [
      "16400 TRAIN cind: 0.994 \t TEST cind: 0.71 [1950, 797, 0]\n"
     ]
    },
    {
     "name": "stdout",
     "output_type": "stream",
     "text": [
      "16800 TRAIN cind: 0.994 \t TEST cind: 0.709 [1947, 800, 0]\n"
     ]
    },
    {
     "name": "stdout",
     "output_type": "stream",
     "text": [
      "17200 TRAIN cind: 0.995 \t TEST cind: 0.708 [1946, 801, 0]\n"
     ]
    },
    {
     "name": "stdout",
     "output_type": "stream",
     "text": [
      "17600 TRAIN cind: 0.995 \t TEST cind: 0.708 [1946, 801, 0]\n"
     ]
    },
    {
     "name": "stdout",
     "output_type": "stream",
     "text": [
      "18000 TRAIN cind: 0.995 \t TEST cind: 0.709 [1948, 799, 0]\n"
     ]
    },
    {
     "name": "stdout",
     "output_type": "stream",
     "text": [
      "18400 TRAIN cind: 0.995 \t TEST cind: 0.708 [1946, 801, 0]\n"
     ]
    },
    {
     "name": "stdout",
     "output_type": "stream",
     "text": [
      "18800 TRAIN cind: 0.996 \t TEST cind: 0.708 [1946, 801, 0]\n"
     ]
    },
    {
     "name": "stdout",
     "output_type": "stream",
     "text": [
      "19200 TRAIN cind: 0.996 \t TEST cind: 0.709 [1947, 800, 0]\n"
     ]
    },
    {
     "name": "stdout",
     "output_type": "stream",
     "text": [
      "19600 TRAIN cind: 0.996 \t TEST cind: 0.709 [1947, 800, 0]\n"
     ]
    },
    {
     "name": "stdout",
     "output_type": "stream",
     "text": [
      "20000 TRAIN cind: 0.997 \t TEST cind: 0.71 [1950, 797, 0]\n"
     ]
    },
    {
     "name": "stdout",
     "output_type": "stream",
     "text": [
      "20400 TRAIN cind: 0.997 \t TEST cind: 0.71 [1951, 796, 0]\n"
     ]
    },
    {
     "name": "stdout",
     "output_type": "stream",
     "text": [
      "20800 TRAIN cind: 0.997 \t TEST cind: 0.71 [1950, 797, 0]\n"
     ]
    },
    {
     "name": "stdout",
     "output_type": "stream",
     "text": [
      "21200 TRAIN cind: 0.997 \t TEST cind: 0.71 [1949, 798, 0]\n"
     ]
    },
    {
     "name": "stdout",
     "output_type": "stream",
     "text": [
      "21600 TRAIN cind: 0.997 \t TEST cind: 0.709 [1948, 799, 0]\n"
     ]
    },
    {
     "name": "stdout",
     "output_type": "stream",
     "text": [
      "22000 TRAIN cind: 0.998 \t TEST cind: 0.71 [1951, 796, 0]\n"
     ]
    },
    {
     "name": "stdout",
     "output_type": "stream",
     "text": [
      "22400 TRAIN cind: 0.998 \t TEST cind: 0.711 [1954, 793, 0]\n"
     ]
    },
    {
     "name": "stdout",
     "output_type": "stream",
     "text": [
      "22800 TRAIN cind: 0.998 \t TEST cind: 0.713 [1958, 789, 0]\n"
     ]
    },
    {
     "name": "stdout",
     "output_type": "stream",
     "text": [
      "23200 TRAIN cind: 0.998 \t TEST cind: 0.714 [1960, 787, 0]\n"
     ]
    },
    {
     "name": "stdout",
     "output_type": "stream",
     "text": [
      "23600 TRAIN cind: 0.998 \t TEST cind: 0.714 [1960, 787, 0]\n"
     ]
    },
    {
     "name": "stdout",
     "output_type": "stream",
     "text": [
      "24000 TRAIN cind: 0.998 \t TEST cind: 0.714 [1960, 787, 0]\n"
     ]
    },
    {
     "name": "stdout",
     "output_type": "stream",
     "text": [
      "24400 TRAIN cind: 0.998 \t TEST cind: 0.713 [1959, 788, 0]\n"
     ]
    },
    {
     "name": "stdout",
     "output_type": "stream",
     "text": [
      "24800 TRAIN cind: 0.998 \t TEST cind: 0.714 [1960, 787, 0]\n"
     ]
    },
    {
     "name": "stdout",
     "output_type": "stream",
     "text": [
      "25200 TRAIN cind: 0.999 \t TEST cind: 0.714 [1961, 786, 0]\n"
     ]
    },
    {
     "name": "stdout",
     "output_type": "stream",
     "text": [
      "25600 TRAIN cind: 0.999 \t TEST cind: 0.713 [1959, 788, 0]\n"
     ]
    },
    {
     "name": "stdout",
     "output_type": "stream",
     "text": [
      "26000 TRAIN cind: 0.999 \t TEST cind: 0.713 [1959, 788, 0]\n"
     ]
    },
    {
     "name": "stdout",
     "output_type": "stream",
     "text": [
      "26400 TRAIN cind: 0.999 \t TEST cind: 0.714 [1962, 785, 0]\n"
     ]
    },
    {
     "name": "stdout",
     "output_type": "stream",
     "text": [
      "26800 TRAIN cind: 0.999 \t TEST cind: 0.714 [1962, 785, 0]\n"
     ]
    },
    {
     "name": "stdout",
     "output_type": "stream",
     "text": [
      "27200 TRAIN cind: 0.999 \t TEST cind: 0.715 [1963, 784, 0]\n"
     ]
    },
    {
     "name": "stdout",
     "output_type": "stream",
     "text": [
      "27600 TRAIN cind: 0.999 \t TEST cind: 0.716 [1966, 781, 0]\n"
     ]
    },
    {
     "name": "stdout",
     "output_type": "stream",
     "text": [
      "28000 TRAIN cind: 0.999 \t TEST cind: 0.716 [1966, 781, 0]\n"
     ]
    },
    {
     "name": "stdout",
     "output_type": "stream",
     "text": [
      "28400 TRAIN cind: 0.999 \t TEST cind: 0.716 [1967, 780, 0]\n"
     ]
    },
    {
     "name": "stdout",
     "output_type": "stream",
     "text": [
      "28800 TRAIN cind: 0.999 \t TEST cind: 0.716 [1967, 780, 0]\n"
     ]
    },
    {
     "name": "stdout",
     "output_type": "stream",
     "text": [
      "29200 TRAIN cind: 0.999 \t TEST cind: 0.716 [1967, 780, 0]\n"
     ]
    },
    {
     "name": "stdout",
     "output_type": "stream",
     "text": [
      "29600 TRAIN cind: 0.999 \t TEST cind: 0.717 [1969, 778, 0]\n"
     ]
    },
    {
     "name": "stdout",
     "output_type": "stream",
     "text": [
      "30000 TRAIN cind: 0.999 \t TEST cind: 0.717 [1970, 777, 0]\n"
     ]
    },
    {
     "name": "stdout",
     "output_type": "stream",
     "text": [
      "nb genes : 19962\n",
      "nb patients : 420\n",
      "% uncensored : 0.6214285714285714\n"
     ]
    },
    {
     "name": "stdout",
     "output_type": "stream",
     "text": [
      "1 TRAIN cind: 0.506 \t TEST cind: 0.541 [1029, 872, 0]\n"
     ]
    },
    {
     "name": "stdout",
     "output_type": "stream",
     "text": [
      "400 TRAIN cind: 0.585 \t TEST cind: 0.577 [1096, 805, 0]\n"
     ]
    },
    {
     "name": "stdout",
     "output_type": "stream",
     "text": [
      "800 TRAIN cind: 0.662 \t TEST cind: 0.59 [1122, 779, 0]\n"
     ]
    },
    {
     "name": "stdout",
     "output_type": "stream",
     "text": [
      "1200 TRAIN cind: 0.717 \t TEST cind: 0.592 [1126, 775, 0]\n"
     ]
    },
    {
     "name": "stdout",
     "output_type": "stream",
     "text": [
      "1600 TRAIN cind: 0.756 \t TEST cind: 0.59 [1122, 779, 0]\n"
     ]
    },
    {
     "name": "stdout",
     "output_type": "stream",
     "text": [
      "2000 TRAIN cind: 0.787 \t TEST cind: 0.595 [1132, 769, 0]\n"
     ]
    },
    {
     "name": "stdout",
     "output_type": "stream",
     "text": [
      "2400 TRAIN cind: 0.811 \t TEST cind: 0.591 [1124, 777, 0]\n"
     ]
    },
    {
     "name": "stdout",
     "output_type": "stream",
     "text": [
      "2800 TRAIN cind: 0.831 \t TEST cind: 0.594 [1130, 771, 0]\n"
     ]
    },
    {
     "name": "stdout",
     "output_type": "stream",
     "text": [
      "3200 TRAIN cind: 0.849 \t TEST cind: 0.593 [1128, 773, 0]\n"
     ]
    },
    {
     "name": "stdout",
     "output_type": "stream",
     "text": [
      "3600 TRAIN cind: 0.862 \t TEST cind: 0.591 [1123, 778, 0]\n"
     ]
    },
    {
     "name": "stdout",
     "output_type": "stream",
     "text": [
      "4000 TRAIN cind: 0.874 \t TEST cind: 0.589 [1120, 781, 0]\n"
     ]
    },
    {
     "name": "stdout",
     "output_type": "stream",
     "text": [
      "4400 TRAIN cind: 0.885 \t TEST cind: 0.589 [1120, 781, 0]\n"
     ]
    },
    {
     "name": "stdout",
     "output_type": "stream",
     "text": [
      "4800 TRAIN cind: 0.894 \t TEST cind: 0.592 [1125, 776, 0]\n"
     ]
    },
    {
     "name": "stdout",
     "output_type": "stream",
     "text": [
      "5200 TRAIN cind: 0.902 \t TEST cind: 0.593 [1128, 773, 0]\n"
     ]
    },
    {
     "name": "stdout",
     "output_type": "stream",
     "text": [
      "5600 TRAIN cind: 0.909 \t TEST cind: 0.593 [1127, 774, 0]\n"
     ]
    },
    {
     "name": "stdout",
     "output_type": "stream",
     "text": [
      "6000 TRAIN cind: 0.916 \t TEST cind: 0.594 [1129, 772, 0]\n"
     ]
    },
    {
     "name": "stdout",
     "output_type": "stream",
     "text": [
      "6400 TRAIN cind: 0.922 \t TEST cind: 0.595 [1131, 770, 0]\n"
     ]
    },
    {
     "name": "stdout",
     "output_type": "stream",
     "text": [
      "6800 TRAIN cind: 0.928 \t TEST cind: 0.596 [1133, 768, 0]\n"
     ]
    },
    {
     "name": "stdout",
     "output_type": "stream",
     "text": [
      "7200 TRAIN cind: 0.932 \t TEST cind: 0.595 [1131, 770, 0]\n"
     ]
    },
    {
     "name": "stdout",
     "output_type": "stream",
     "text": [
      "7600 TRAIN cind: 0.937 \t TEST cind: 0.594 [1130, 771, 0]\n"
     ]
    },
    {
     "name": "stdout",
     "output_type": "stream",
     "text": [
      "8000 TRAIN cind: 0.941 \t TEST cind: 0.592 [1126, 775, 0]\n"
     ]
    },
    {
     "name": "stdout",
     "output_type": "stream",
     "text": [
      "8400 TRAIN cind: 0.944 \t TEST cind: 0.591 [1123, 778, 0]\n"
     ]
    },
    {
     "name": "stdout",
     "output_type": "stream",
     "text": [
      "8800 TRAIN cind: 0.948 \t TEST cind: 0.59 [1122, 779, 0]\n"
     ]
    },
    {
     "name": "stdout",
     "output_type": "stream",
     "text": [
      "9200 TRAIN cind: 0.951 \t TEST cind: 0.59 [1121, 780, 0]\n"
     ]
    },
    {
     "name": "stdout",
     "output_type": "stream",
     "text": [
      "9600 TRAIN cind: 0.955 \t TEST cind: 0.588 [1118, 783, 0]\n"
     ]
    },
    {
     "name": "stdout",
     "output_type": "stream",
     "text": [
      "10000 TRAIN cind: 0.957 \t TEST cind: 0.589 [1120, 781, 0]\n"
     ]
    },
    {
     "name": "stdout",
     "output_type": "stream",
     "text": [
      "10400 TRAIN cind: 0.96 \t TEST cind: 0.589 [1119, 782, 0]\n"
     ]
    },
    {
     "name": "stdout",
     "output_type": "stream",
     "text": [
      "10800 TRAIN cind: 0.963 \t TEST cind: 0.588 [1118, 783, 0]\n"
     ]
    },
    {
     "name": "stdout",
     "output_type": "stream",
     "text": [
      "11200 TRAIN cind: 0.965 \t TEST cind: 0.588 [1117, 784, 0]\n"
     ]
    },
    {
     "name": "stdout",
     "output_type": "stream",
     "text": [
      "11600 TRAIN cind: 0.967 \t TEST cind: 0.586 [1114, 787, 0]\n"
     ]
    },
    {
     "name": "stdout",
     "output_type": "stream",
     "text": [
      "12000 TRAIN cind: 0.969 \t TEST cind: 0.581 [1105, 796, 0]\n"
     ]
    },
    {
     "name": "stdout",
     "output_type": "stream",
     "text": [
      "12400 TRAIN cind: 0.971 \t TEST cind: 0.582 [1106, 795, 0]\n"
     ]
    },
    {
     "name": "stdout",
     "output_type": "stream",
     "text": [
      "12800 TRAIN cind: 0.972 \t TEST cind: 0.581 [1105, 796, 0]\n"
     ]
    },
    {
     "name": "stdout",
     "output_type": "stream",
     "text": [
      "13200 TRAIN cind: 0.974 \t TEST cind: 0.581 [1104, 797, 0]\n"
     ]
    },
    {
     "name": "stdout",
     "output_type": "stream",
     "text": [
      "13600 TRAIN cind: 0.975 \t TEST cind: 0.579 [1101, 800, 0]\n"
     ]
    },
    {
     "name": "stdout",
     "output_type": "stream",
     "text": [
      "14000 TRAIN cind: 0.977 \t TEST cind: 0.578 [1099, 802, 0]\n"
     ]
    },
    {
     "name": "stdout",
     "output_type": "stream",
     "text": [
      "14400 TRAIN cind: 0.979 \t TEST cind: 0.579 [1100, 801, 0]\n"
     ]
    },
    {
     "name": "stdout",
     "output_type": "stream",
     "text": [
      "14800 TRAIN cind: 0.98 \t TEST cind: 0.579 [1100, 801, 0]\n"
     ]
    },
    {
     "name": "stdout",
     "output_type": "stream",
     "text": [
      "15200 TRAIN cind: 0.981 \t TEST cind: 0.578 [1099, 802, 0]\n"
     ]
    },
    {
     "name": "stdout",
     "output_type": "stream",
     "text": [
      "15600 TRAIN cind: 0.982 \t TEST cind: 0.578 [1098, 803, 0]\n"
     ]
    },
    {
     "name": "stdout",
     "output_type": "stream",
     "text": [
      "16000 TRAIN cind: 0.983 \t TEST cind: 0.575 [1094, 807, 0]\n"
     ]
    },
    {
     "name": "stdout",
     "output_type": "stream",
     "text": [
      "16400 TRAIN cind: 0.983 \t TEST cind: 0.577 [1096, 805, 0]\n"
     ]
    },
    {
     "name": "stdout",
     "output_type": "stream",
     "text": [
      "16800 TRAIN cind: 0.984 \t TEST cind: 0.575 [1093, 808, 0]\n"
     ]
    },
    {
     "name": "stdout",
     "output_type": "stream",
     "text": [
      "17200 TRAIN cind: 0.985 \t TEST cind: 0.575 [1094, 807, 0]\n"
     ]
    },
    {
     "name": "stdout",
     "output_type": "stream",
     "text": [
      "17600 TRAIN cind: 0.986 \t TEST cind: 0.575 [1094, 807, 0]\n"
     ]
    },
    {
     "name": "stdout",
     "output_type": "stream",
     "text": [
      "18000 TRAIN cind: 0.987 \t TEST cind: 0.575 [1093, 808, 0]\n"
     ]
    },
    {
     "name": "stdout",
     "output_type": "stream",
     "text": [
      "18400 TRAIN cind: 0.987 \t TEST cind: 0.576 [1095, 806, 0]\n"
     ]
    },
    {
     "name": "stdout",
     "output_type": "stream",
     "text": [
      "18800 TRAIN cind: 0.988 \t TEST cind: 0.574 [1092, 809, 0]\n"
     ]
    },
    {
     "name": "stdout",
     "output_type": "stream",
     "text": [
      "19200 TRAIN cind: 0.989 \t TEST cind: 0.573 [1090, 811, 0]\n"
     ]
    },
    {
     "name": "stdout",
     "output_type": "stream",
     "text": [
      "19600 TRAIN cind: 0.989 \t TEST cind: 0.574 [1092, 809, 0]\n"
     ]
    },
    {
     "name": "stdout",
     "output_type": "stream",
     "text": [
      "20000 TRAIN cind: 0.99 \t TEST cind: 0.575 [1093, 808, 0]\n"
     ]
    },
    {
     "name": "stdout",
     "output_type": "stream",
     "text": [
      "20400 TRAIN cind: 0.99 \t TEST cind: 0.577 [1097, 804, 0]\n"
     ]
    },
    {
     "name": "stdout",
     "output_type": "stream",
     "text": [
      "20800 TRAIN cind: 0.991 \t TEST cind: 0.577 [1096, 805, 0]\n"
     ]
    },
    {
     "name": "stdout",
     "output_type": "stream",
     "text": [
      "21200 TRAIN cind: 0.991 \t TEST cind: 0.575 [1093, 808, 0]\n"
     ]
    },
    {
     "name": "stdout",
     "output_type": "stream",
     "text": [
      "21600 TRAIN cind: 0.992 \t TEST cind: 0.575 [1094, 807, 0]\n"
     ]
    },
    {
     "name": "stdout",
     "output_type": "stream",
     "text": [
      "22000 TRAIN cind: 0.992 \t TEST cind: 0.575 [1093, 808, 0]\n"
     ]
    },
    {
     "name": "stdout",
     "output_type": "stream",
     "text": [
      "22400 TRAIN cind: 0.992 \t TEST cind: 0.573 [1089, 812, 0]\n"
     ]
    },
    {
     "name": "stdout",
     "output_type": "stream",
     "text": [
      "22800 TRAIN cind: 0.993 \t TEST cind: 0.572 [1088, 813, 0]\n"
     ]
    },
    {
     "name": "stdout",
     "output_type": "stream",
     "text": [
      "23200 TRAIN cind: 0.993 \t TEST cind: 0.572 [1088, 813, 0]\n"
     ]
    },
    {
     "name": "stdout",
     "output_type": "stream",
     "text": [
      "23600 TRAIN cind: 0.993 \t TEST cind: 0.574 [1091, 810, 0]\n"
     ]
    },
    {
     "name": "stdout",
     "output_type": "stream",
     "text": [
      "24000 TRAIN cind: 0.994 \t TEST cind: 0.573 [1090, 811, 0]\n"
     ]
    },
    {
     "name": "stdout",
     "output_type": "stream",
     "text": [
      "24400 TRAIN cind: 0.994 \t TEST cind: 0.574 [1091, 810, 0]\n"
     ]
    },
    {
     "name": "stdout",
     "output_type": "stream",
     "text": [
      "24800 TRAIN cind: 0.995 \t TEST cind: 0.573 [1090, 811, 0]\n"
     ]
    },
    {
     "name": "stdout",
     "output_type": "stream",
     "text": [
      "25200 TRAIN cind: 0.995 \t TEST cind: 0.573 [1090, 811, 0]\n"
     ]
    },
    {
     "name": "stdout",
     "output_type": "stream",
     "text": [
      "25600 TRAIN cind: 0.995 \t TEST cind: 0.572 [1088, 813, 0]\n"
     ]
    },
    {
     "name": "stdout",
     "output_type": "stream",
     "text": [
      "26000 TRAIN cind: 0.995 \t TEST cind: 0.572 [1087, 814, 0]\n"
     ]
    },
    {
     "name": "stdout",
     "output_type": "stream",
     "text": [
      "26400 TRAIN cind: 0.996 \t TEST cind: 0.571 [1085, 816, 0]\n"
     ]
    },
    {
     "name": "stdout",
     "output_type": "stream",
     "text": [
      "26800 TRAIN cind: 0.996 \t TEST cind: 0.571 [1085, 816, 0]\n"
     ]
    },
    {
     "name": "stdout",
     "output_type": "stream",
     "text": [
      "27200 TRAIN cind: 0.996 \t TEST cind: 0.572 [1087, 814, 0]\n"
     ]
    },
    {
     "name": "stdout",
     "output_type": "stream",
     "text": [
      "27600 TRAIN cind: 0.996 \t TEST cind: 0.571 [1086, 815, 0]\n"
     ]
    },
    {
     "name": "stdout",
     "output_type": "stream",
     "text": [
      "28000 TRAIN cind: 0.996 \t TEST cind: 0.571 [1085, 816, 0]\n"
     ]
    },
    {
     "name": "stdout",
     "output_type": "stream",
     "text": [
      "28400 TRAIN cind: 0.996 \t TEST cind: 0.571 [1086, 815, 0]\n"
     ]
    },
    {
     "name": "stdout",
     "output_type": "stream",
     "text": [
      "28800 TRAIN cind: 0.997 \t TEST cind: 0.571 [1085, 816, 0]\n"
     ]
    },
    {
     "name": "stdout",
     "output_type": "stream",
     "text": [
      "29200 TRAIN cind: 0.997 \t TEST cind: 0.571 [1085, 816, 0]\n"
     ]
    },
    {
     "name": "stdout",
     "output_type": "stream",
     "text": [
      "29600 TRAIN cind: 0.997 \t TEST cind: 0.571 [1085, 816, 0]\n"
     ]
    },
    {
     "name": "stdout",
     "output_type": "stream",
     "text": [
      "30000 TRAIN cind: 0.997 \t TEST cind: 0.57 [1084, 817, 0]\n"
     ]
    },
    {
     "name": "stdout",
     "output_type": "stream",
     "text": [
      "nb genes : 19962\n",
      "nb patients : 513\n",
      "% uncensored : 0.24366471734892786\n"
     ]
    },
    {
     "name": "stdout",
     "output_type": "stream",
     "text": [
      "1 TRAIN cind: 0.611 \t TEST cind: 0.546 [490, 408, 0]\n"
     ]
    },
    {
     "name": "stdout",
     "output_type": "stream",
     "text": [
      "400 TRAIN cind: 0.83 \t TEST cind: 0.808 [726, 172, 0]\n"
     ]
    },
    {
     "name": "stdout",
     "output_type": "stream",
     "text": [
      "800 TRAIN cind: 0.858 \t TEST cind: 0.83 [745, 153, 0]\n"
     ]
    },
    {
     "name": "stdout",
     "output_type": "stream",
     "text": [
      "1200 TRAIN cind: 0.877 \t TEST cind: 0.836 [751, 147, 0]\n"
     ]
    },
    {
     "name": "stdout",
     "output_type": "stream",
     "text": [
      "1600 TRAIN cind: 0.892 \t TEST cind: 0.834 [749, 149, 0]\n"
     ]
    },
    {
     "name": "stdout",
     "output_type": "stream",
     "text": [
      "2000 TRAIN cind: 0.903 \t TEST cind: 0.835 [750, 148, 0]\n"
     ]
    },
    {
     "name": "stdout",
     "output_type": "stream",
     "text": [
      "2400 TRAIN cind: 0.91 \t TEST cind: 0.839 [753, 145, 0]\n"
     ]
    },
    {
     "name": "stdout",
     "output_type": "stream",
     "text": [
      "2800 TRAIN cind: 0.917 \t TEST cind: 0.834 [749, 149, 0]\n"
     ]
    },
    {
     "name": "stdout",
     "output_type": "stream",
     "text": [
      "3200 TRAIN cind: 0.921 \t TEST cind: 0.837 [752, 146, 0]\n"
     ]
    },
    {
     "name": "stdout",
     "output_type": "stream",
     "text": [
      "3600 TRAIN cind: 0.927 \t TEST cind: 0.835 [750, 148, 0]\n"
     ]
    },
    {
     "name": "stdout",
     "output_type": "stream",
     "text": [
      "4000 TRAIN cind: 0.932 \t TEST cind: 0.835 [750, 148, 0]\n"
     ]
    },
    {
     "name": "stdout",
     "output_type": "stream",
     "text": [
      "4400 TRAIN cind: 0.936 \t TEST cind: 0.833 [748, 150, 0]\n"
     ]
    },
    {
     "name": "stdout",
     "output_type": "stream",
     "text": [
      "4800 TRAIN cind: 0.94 \t TEST cind: 0.836 [751, 147, 0]\n"
     ]
    },
    {
     "name": "stdout",
     "output_type": "stream",
     "text": [
      "5200 TRAIN cind: 0.944 \t TEST cind: 0.839 [753, 145, 0]\n"
     ]
    },
    {
     "name": "stdout",
     "output_type": "stream",
     "text": [
      "5600 TRAIN cind: 0.948 \t TEST cind: 0.836 [751, 147, 0]\n"
     ]
    },
    {
     "name": "stdout",
     "output_type": "stream",
     "text": [
      "6000 TRAIN cind: 0.951 \t TEST cind: 0.834 [749, 149, 0]\n"
     ]
    },
    {
     "name": "stdout",
     "output_type": "stream",
     "text": [
      "6400 TRAIN cind: 0.955 \t TEST cind: 0.833 [748, 150, 0]\n"
     ]
    },
    {
     "name": "stdout",
     "output_type": "stream",
     "text": [
      "6800 TRAIN cind: 0.958 \t TEST cind: 0.833 [748, 150, 0]\n"
     ]
    },
    {
     "name": "stdout",
     "output_type": "stream",
     "text": [
      "7200 TRAIN cind: 0.96 \t TEST cind: 0.833 [748, 150, 0]\n"
     ]
    },
    {
     "name": "stdout",
     "output_type": "stream",
     "text": [
      "7600 TRAIN cind: 0.963 \t TEST cind: 0.832 [747, 151, 0]\n"
     ]
    },
    {
     "name": "stdout",
     "output_type": "stream",
     "text": [
      "8000 TRAIN cind: 0.965 \t TEST cind: 0.832 [747, 151, 0]\n"
     ]
    },
    {
     "name": "stdout",
     "output_type": "stream",
     "text": [
      "8400 TRAIN cind: 0.968 \t TEST cind: 0.831 [746, 152, 0]\n"
     ]
    },
    {
     "name": "stdout",
     "output_type": "stream",
     "text": [
      "8800 TRAIN cind: 0.969 \t TEST cind: 0.83 [745, 153, 0]\n"
     ]
    },
    {
     "name": "stdout",
     "output_type": "stream",
     "text": [
      "9200 TRAIN cind: 0.971 \t TEST cind: 0.829 [744, 154, 0]\n"
     ]
    },
    {
     "name": "stdout",
     "output_type": "stream",
     "text": [
      "9600 TRAIN cind: 0.973 \t TEST cind: 0.829 [744, 154, 0]\n"
     ]
    },
    {
     "name": "stdout",
     "output_type": "stream",
     "text": [
      "10000 TRAIN cind: 0.974 \t TEST cind: 0.826 [742, 156, 0]\n"
     ]
    },
    {
     "name": "stdout",
     "output_type": "stream",
     "text": [
      "10400 TRAIN cind: 0.975 \t TEST cind: 0.826 [742, 156, 0]\n"
     ]
    },
    {
     "name": "stdout",
     "output_type": "stream",
     "text": [
      "10800 TRAIN cind: 0.977 \t TEST cind: 0.827 [743, 155, 0]\n"
     ]
    },
    {
     "name": "stdout",
     "output_type": "stream",
     "text": [
      "11200 TRAIN cind: 0.978 \t TEST cind: 0.831 [746, 152, 0]\n"
     ]
    },
    {
     "name": "stdout",
     "output_type": "stream",
     "text": [
      "11600 TRAIN cind: 0.979 \t TEST cind: 0.831 [746, 152, 0]\n"
     ]
    },
    {
     "name": "stdout",
     "output_type": "stream",
     "text": [
      "12000 TRAIN cind: 0.981 \t TEST cind: 0.831 [746, 152, 0]\n"
     ]
    },
    {
     "name": "stdout",
     "output_type": "stream",
     "text": [
      "12400 TRAIN cind: 0.982 \t TEST cind: 0.831 [746, 152, 0]\n"
     ]
    },
    {
     "name": "stdout",
     "output_type": "stream",
     "text": [
      "12800 TRAIN cind: 0.983 \t TEST cind: 0.832 [747, 151, 0]\n"
     ]
    },
    {
     "name": "stdout",
     "output_type": "stream",
     "text": [
      "13200 TRAIN cind: 0.984 \t TEST cind: 0.831 [746, 152, 0]\n"
     ]
    },
    {
     "name": "stdout",
     "output_type": "stream",
     "text": [
      "13600 TRAIN cind: 0.985 \t TEST cind: 0.83 [745, 153, 0]\n"
     ]
    },
    {
     "name": "stdout",
     "output_type": "stream",
     "text": [
      "14000 TRAIN cind: 0.985 \t TEST cind: 0.829 [744, 154, 0]\n"
     ]
    },
    {
     "name": "stdout",
     "output_type": "stream",
     "text": [
      "14400 TRAIN cind: 0.986 \t TEST cind: 0.827 [743, 155, 0]\n"
     ]
    },
    {
     "name": "stdout",
     "output_type": "stream",
     "text": [
      "14800 TRAIN cind: 0.987 \t TEST cind: 0.827 [743, 155, 0]\n"
     ]
    },
    {
     "name": "stdout",
     "output_type": "stream",
     "text": [
      "15200 TRAIN cind: 0.988 \t TEST cind: 0.829 [744, 154, 0]\n"
     ]
    },
    {
     "name": "stdout",
     "output_type": "stream",
     "text": [
      "15600 TRAIN cind: 0.988 \t TEST cind: 0.83 [745, 153, 0]\n"
     ]
    },
    {
     "name": "stdout",
     "output_type": "stream",
     "text": [
      "16000 TRAIN cind: 0.989 \t TEST cind: 0.83 [745, 153, 0]\n"
     ]
    },
    {
     "name": "stdout",
     "output_type": "stream",
     "text": [
      "16400 TRAIN cind: 0.99 \t TEST cind: 0.829 [744, 154, 0]\n"
     ]
    },
    {
     "name": "stdout",
     "output_type": "stream",
     "text": [
      "16800 TRAIN cind: 0.99 \t TEST cind: 0.827 [743, 155, 0]\n"
     ]
    },
    {
     "name": "stdout",
     "output_type": "stream",
     "text": [
      "17200 TRAIN cind: 0.991 \t TEST cind: 0.826 [742, 156, 0]\n"
     ]
    },
    {
     "name": "stdout",
     "output_type": "stream",
     "text": [
      "17600 TRAIN cind: 0.991 \t TEST cind: 0.825 [741, 157, 0]\n"
     ]
    },
    {
     "name": "stdout",
     "output_type": "stream",
     "text": [
      "18000 TRAIN cind: 0.991 \t TEST cind: 0.824 [740, 158, 0]\n"
     ]
    },
    {
     "name": "stdout",
     "output_type": "stream",
     "text": [
      "18400 TRAIN cind: 0.992 \t TEST cind: 0.822 [738, 160, 0]\n"
     ]
    },
    {
     "name": "stdout",
     "output_type": "stream",
     "text": [
      "18800 TRAIN cind: 0.992 \t TEST cind: 0.823 [739, 159, 0]\n"
     ]
    },
    {
     "name": "stdout",
     "output_type": "stream",
     "text": [
      "19200 TRAIN cind: 0.993 \t TEST cind: 0.823 [739, 159, 0]\n"
     ]
    },
    {
     "name": "stdout",
     "output_type": "stream",
     "text": [
      "19600 TRAIN cind: 0.993 \t TEST cind: 0.823 [739, 159, 0]\n"
     ]
    },
    {
     "name": "stdout",
     "output_type": "stream",
     "text": [
      "20000 TRAIN cind: 0.994 \t TEST cind: 0.821 [737, 161, 0]\n"
     ]
    },
    {
     "name": "stdout",
     "output_type": "stream",
     "text": [
      "20400 TRAIN cind: 0.994 \t TEST cind: 0.82 [736, 162, 0]\n"
     ]
    },
    {
     "name": "stdout",
     "output_type": "stream",
     "text": [
      "20800 TRAIN cind: 0.994 \t TEST cind: 0.82 [736, 162, 0]\n"
     ]
    },
    {
     "name": "stdout",
     "output_type": "stream",
     "text": [
      "21200 TRAIN cind: 0.995 \t TEST cind: 0.82 [736, 162, 0]\n"
     ]
    },
    {
     "name": "stdout",
     "output_type": "stream",
     "text": [
      "21600 TRAIN cind: 0.995 \t TEST cind: 0.818 [735, 163, 0]\n"
     ]
    },
    {
     "name": "stdout",
     "output_type": "stream",
     "text": [
      "22000 TRAIN cind: 0.995 \t TEST cind: 0.82 [736, 162, 0]\n"
     ]
    },
    {
     "name": "stdout",
     "output_type": "stream",
     "text": [
      "22400 TRAIN cind: 0.996 \t TEST cind: 0.82 [736, 162, 0]\n"
     ]
    },
    {
     "name": "stdout",
     "output_type": "stream",
     "text": [
      "22800 TRAIN cind: 0.996 \t TEST cind: 0.82 [736, 162, 0]\n"
     ]
    },
    {
     "name": "stdout",
     "output_type": "stream",
     "text": [
      "23200 TRAIN cind: 0.996 \t TEST cind: 0.818 [735, 163, 0]\n"
     ]
    },
    {
     "name": "stdout",
     "output_type": "stream",
     "text": [
      "23600 TRAIN cind: 0.996 \t TEST cind: 0.818 [735, 163, 0]\n"
     ]
    },
    {
     "name": "stdout",
     "output_type": "stream",
     "text": [
      "24000 TRAIN cind: 0.997 \t TEST cind: 0.817 [734, 164, 0]\n"
     ]
    },
    {
     "name": "stdout",
     "output_type": "stream",
     "text": [
      "24400 TRAIN cind: 0.997 \t TEST cind: 0.817 [734, 164, 0]\n"
     ]
    },
    {
     "name": "stdout",
     "output_type": "stream",
     "text": [
      "24800 TRAIN cind: 0.997 \t TEST cind: 0.817 [734, 164, 0]\n"
     ]
    },
    {
     "name": "stdout",
     "output_type": "stream",
     "text": [
      "25200 TRAIN cind: 0.997 \t TEST cind: 0.817 [734, 164, 0]\n"
     ]
    },
    {
     "name": "stdout",
     "output_type": "stream",
     "text": [
      "25600 TRAIN cind: 0.997 \t TEST cind: 0.817 [734, 164, 0]\n"
     ]
    },
    {
     "name": "stdout",
     "output_type": "stream",
     "text": [
      "26000 TRAIN cind: 0.997 \t TEST cind: 0.816 [733, 165, 0]\n"
     ]
    },
    {
     "name": "stdout",
     "output_type": "stream",
     "text": [
      "26400 TRAIN cind: 0.998 \t TEST cind: 0.816 [733, 165, 0]\n"
     ]
    },
    {
     "name": "stdout",
     "output_type": "stream",
     "text": [
      "26800 TRAIN cind: 0.998 \t TEST cind: 0.816 [733, 165, 0]\n"
     ]
    },
    {
     "name": "stdout",
     "output_type": "stream",
     "text": [
      "27200 TRAIN cind: 0.998 \t TEST cind: 0.816 [733, 165, 0]\n"
     ]
    },
    {
     "name": "stdout",
     "output_type": "stream",
     "text": [
      "27600 TRAIN cind: 0.998 \t TEST cind: 0.816 [733, 165, 0]\n"
     ]
    },
    {
     "name": "stdout",
     "output_type": "stream",
     "text": [
      "28000 TRAIN cind: 0.998 \t TEST cind: 0.816 [733, 165, 0]\n"
     ]
    },
    {
     "name": "stdout",
     "output_type": "stream",
     "text": [
      "28400 TRAIN cind: 0.998 \t TEST cind: 0.816 [733, 165, 0]\n"
     ]
    },
    {
     "name": "stdout",
     "output_type": "stream",
     "text": [
      "28800 TRAIN cind: 0.999 \t TEST cind: 0.816 [733, 165, 0]\n"
     ]
    },
    {
     "name": "stdout",
     "output_type": "stream",
     "text": [
      "29200 TRAIN cind: 0.999 \t TEST cind: 0.816 [733, 165, 0]\n"
     ]
    },
    {
     "name": "stdout",
     "output_type": "stream",
     "text": [
      "29600 TRAIN cind: 0.999 \t TEST cind: 0.816 [733, 165, 0]\n"
     ]
    },
    {
     "name": "stdout",
     "output_type": "stream",
     "text": [
      "30000 TRAIN cind: 0.999 \t TEST cind: 0.814 [731, 167, 0]\n",
      "nb genes : 14996\n",
      "nb patients : 300\n",
      "% uncensored : 0.7433333333333333\n"
     ]
    },
    {
     "name": "stdout",
     "output_type": "stream",
     "text": [
      "1 TRAIN cind: 0.551 \t TEST cind: 0.476 [780, 859, 0]\n"
     ]
    },
    {
     "name": "stdout",
     "output_type": "stream",
     "text": [
      "400 TRAIN cind: 0.636 \t TEST cind: 0.545 [894, 745, 0]\n"
     ]
    },
    {
     "name": "stdout",
     "output_type": "stream",
     "text": [
      "800 TRAIN cind: 0.68 \t TEST cind: 0.58 [951, 688, 0]\n"
     ]
    },
    {
     "name": "stdout",
     "output_type": "stream",
     "text": [
      "1200 TRAIN cind: 0.708 \t TEST cind: 0.606 [994, 645, 0]\n"
     ]
    },
    {
     "name": "stdout",
     "output_type": "stream",
     "text": [
      "1600 TRAIN cind: 0.727 \t TEST cind: 0.622 [1019, 620, 0]\n"
     ]
    },
    {
     "name": "stdout",
     "output_type": "stream",
     "text": [
      "2000 TRAIN cind: 0.74 \t TEST cind: 0.633 [1037, 602, 0]\n"
     ]
    },
    {
     "name": "stdout",
     "output_type": "stream",
     "text": [
      "2400 TRAIN cind: 0.749 \t TEST cind: 0.642 [1052, 587, 0]\n"
     ]
    },
    {
     "name": "stdout",
     "output_type": "stream",
     "text": [
      "2800 TRAIN cind: 0.756 \t TEST cind: 0.652 [1069, 570, 0]\n"
     ]
    },
    {
     "name": "stdout",
     "output_type": "stream",
     "text": [
      "3200 TRAIN cind: 0.764 \t TEST cind: 0.653 [1070, 569, 0]\n"
     ]
    },
    {
     "name": "stdout",
     "output_type": "stream",
     "text": [
      "3600 TRAIN cind: 0.772 \t TEST cind: 0.658 [1078, 561, 0]\n"
     ]
    },
    {
     "name": "stdout",
     "output_type": "stream",
     "text": [
      "4000 TRAIN cind: 0.779 \t TEST cind: 0.662 [1085, 554, 0]\n"
     ]
    },
    {
     "name": "stdout",
     "output_type": "stream",
     "text": [
      "4400 TRAIN cind: 0.786 \t TEST cind: 0.668 [1095, 544, 0]\n"
     ]
    },
    {
     "name": "stdout",
     "output_type": "stream",
     "text": [
      "4800 TRAIN cind: 0.792 \t TEST cind: 0.67 [1098, 541, 0]\n"
     ]
    },
    {
     "name": "stdout",
     "output_type": "stream",
     "text": [
      "5200 TRAIN cind: 0.798 \t TEST cind: 0.671 [1100, 539, 0]\n"
     ]
    },
    {
     "name": "stdout",
     "output_type": "stream",
     "text": [
      "5600 TRAIN cind: 0.804 \t TEST cind: 0.67 [1098, 541, 0]\n"
     ]
    },
    {
     "name": "stdout",
     "output_type": "stream",
     "text": [
      "6000 TRAIN cind: 0.808 \t TEST cind: 0.668 [1095, 544, 0]\n"
     ]
    },
    {
     "name": "stdout",
     "output_type": "stream",
     "text": [
      "6400 TRAIN cind: 0.813 \t TEST cind: 0.669 [1096, 543, 0]\n"
     ]
    },
    {
     "name": "stdout",
     "output_type": "stream",
     "text": [
      "6800 TRAIN cind: 0.818 \t TEST cind: 0.669 [1097, 542, 0]\n"
     ]
    },
    {
     "name": "stdout",
     "output_type": "stream",
     "text": [
      "7200 TRAIN cind: 0.824 \t TEST cind: 0.674 [1104, 535, 0]\n"
     ]
    },
    {
     "name": "stdout",
     "output_type": "stream",
     "text": [
      "7600 TRAIN cind: 0.828 \t TEST cind: 0.674 [1104, 535, 0]\n"
     ]
    },
    {
     "name": "stdout",
     "output_type": "stream",
     "text": [
      "8000 TRAIN cind: 0.833 \t TEST cind: 0.673 [1103, 536, 0]\n"
     ]
    },
    {
     "name": "stdout",
     "output_type": "stream",
     "text": [
      "8400 TRAIN cind: 0.838 \t TEST cind: 0.673 [1103, 536, 0]\n"
     ]
    },
    {
     "name": "stdout",
     "output_type": "stream",
     "text": [
      "8800 TRAIN cind: 0.842 \t TEST cind: 0.674 [1104, 535, 0]\n"
     ]
    },
    {
     "name": "stdout",
     "output_type": "stream",
     "text": [
      "9200 TRAIN cind: 0.846 \t TEST cind: 0.675 [1106, 533, 0]\n"
     ]
    },
    {
     "name": "stdout",
     "output_type": "stream",
     "text": [
      "9600 TRAIN cind: 0.851 \t TEST cind: 0.674 [1104, 535, 0]\n"
     ]
    },
    {
     "name": "stdout",
     "output_type": "stream",
     "text": [
      "10000 TRAIN cind: 0.854 \t TEST cind: 0.672 [1102, 537, 0]\n"
     ]
    },
    {
     "name": "stdout",
     "output_type": "stream",
     "text": [
      "10400 TRAIN cind: 0.859 \t TEST cind: 0.675 [1106, 533, 0]\n"
     ]
    },
    {
     "name": "stdout",
     "output_type": "stream",
     "text": [
      "10800 TRAIN cind: 0.863 \t TEST cind: 0.672 [1102, 537, 0]\n"
     ]
    },
    {
     "name": "stdout",
     "output_type": "stream",
     "text": [
      "11200 TRAIN cind: 0.866 \t TEST cind: 0.673 [1103, 536, 0]\n"
     ]
    },
    {
     "name": "stdout",
     "output_type": "stream",
     "text": [
      "11600 TRAIN cind: 0.869 \t TEST cind: 0.673 [1103, 536, 0]\n"
     ]
    },
    {
     "name": "stdout",
     "output_type": "stream",
     "text": [
      "12000 TRAIN cind: 0.873 \t TEST cind: 0.671 [1100, 539, 0]\n"
     ]
    },
    {
     "name": "stdout",
     "output_type": "stream",
     "text": [
      "12400 TRAIN cind: 0.875 \t TEST cind: 0.672 [1101, 538, 0]\n"
     ]
    },
    {
     "name": "stdout",
     "output_type": "stream",
     "text": [
      "12800 TRAIN cind: 0.878 \t TEST cind: 0.672 [1101, 538, 0]\n"
     ]
    },
    {
     "name": "stdout",
     "output_type": "stream",
     "text": [
      "13200 TRAIN cind: 0.881 \t TEST cind: 0.67 [1098, 541, 0]\n"
     ]
    },
    {
     "name": "stdout",
     "output_type": "stream",
     "text": [
      "13600 TRAIN cind: 0.884 \t TEST cind: 0.669 [1097, 542, 0]\n"
     ]
    },
    {
     "name": "stdout",
     "output_type": "stream",
     "text": [
      "14000 TRAIN cind: 0.886 \t TEST cind: 0.668 [1095, 544, 0]\n"
     ]
    },
    {
     "name": "stdout",
     "output_type": "stream",
     "text": [
      "14400 TRAIN cind: 0.888 \t TEST cind: 0.668 [1095, 544, 0]\n"
     ]
    },
    {
     "name": "stdout",
     "output_type": "stream",
     "text": [
      "14800 TRAIN cind: 0.891 \t TEST cind: 0.668 [1095, 544, 0]\n"
     ]
    },
    {
     "name": "stdout",
     "output_type": "stream",
     "text": [
      "15200 TRAIN cind: 0.893 \t TEST cind: 0.667 [1094, 545, 0]\n"
     ]
    },
    {
     "name": "stdout",
     "output_type": "stream",
     "text": [
      "15600 TRAIN cind: 0.895 \t TEST cind: 0.667 [1094, 545, 0]\n"
     ]
    },
    {
     "name": "stdout",
     "output_type": "stream",
     "text": [
      "16000 TRAIN cind: 0.897 \t TEST cind: 0.667 [1094, 545, 0]\n"
     ]
    },
    {
     "name": "stdout",
     "output_type": "stream",
     "text": [
      "16400 TRAIN cind: 0.899 \t TEST cind: 0.666 [1092, 547, 0]\n"
     ]
    },
    {
     "name": "stdout",
     "output_type": "stream",
     "text": [
      "16800 TRAIN cind: 0.902 \t TEST cind: 0.666 [1092, 547, 0]\n"
     ]
    },
    {
     "name": "stdout",
     "output_type": "stream",
     "text": [
      "17200 TRAIN cind: 0.904 \t TEST cind: 0.665 [1090, 549, 0]\n"
     ]
    },
    {
     "name": "stdout",
     "output_type": "stream",
     "text": [
      "17600 TRAIN cind: 0.906 \t TEST cind: 0.666 [1091, 548, 0]\n"
     ]
    },
    {
     "name": "stdout",
     "output_type": "stream",
     "text": [
      "18000 TRAIN cind: 0.908 \t TEST cind: 0.666 [1091, 548, 0]\n"
     ]
    },
    {
     "name": "stdout",
     "output_type": "stream",
     "text": [
      "18400 TRAIN cind: 0.91 \t TEST cind: 0.666 [1092, 547, 0]\n"
     ]
    },
    {
     "name": "stdout",
     "output_type": "stream",
     "text": [
      "18800 TRAIN cind: 0.912 \t TEST cind: 0.666 [1092, 547, 0]\n"
     ]
    },
    {
     "name": "stdout",
     "output_type": "stream",
     "text": [
      "19200 TRAIN cind: 0.914 \t TEST cind: 0.664 [1089, 550, 0]\n"
     ]
    },
    {
     "name": "stdout",
     "output_type": "stream",
     "text": [
      "19600 TRAIN cind: 0.915 \t TEST cind: 0.664 [1088, 551, 0]\n"
     ]
    },
    {
     "name": "stdout",
     "output_type": "stream",
     "text": [
      "20000 TRAIN cind: 0.917 \t TEST cind: 0.663 [1086, 553, 0]\n"
     ]
    },
    {
     "name": "stdout",
     "output_type": "stream",
     "text": [
      "20400 TRAIN cind: 0.919 \t TEST cind: 0.662 [1085, 554, 0]\n"
     ]
    },
    {
     "name": "stdout",
     "output_type": "stream",
     "text": [
      "20800 TRAIN cind: 0.921 \t TEST cind: 0.663 [1087, 552, 0]\n"
     ]
    },
    {
     "name": "stdout",
     "output_type": "stream",
     "text": [
      "21200 TRAIN cind: 0.922 \t TEST cind: 0.664 [1089, 550, 0]\n"
     ]
    },
    {
     "name": "stdout",
     "output_type": "stream",
     "text": [
      "21600 TRAIN cind: 0.923 \t TEST cind: 0.665 [1090, 549, 0]\n"
     ]
    },
    {
     "name": "stdout",
     "output_type": "stream",
     "text": [
      "22000 TRAIN cind: 0.925 \t TEST cind: 0.664 [1088, 551, 0]\n"
     ]
    },
    {
     "name": "stdout",
     "output_type": "stream",
     "text": [
      "22400 TRAIN cind: 0.926 \t TEST cind: 0.664 [1089, 550, 0]\n"
     ]
    },
    {
     "name": "stdout",
     "output_type": "stream",
     "text": [
      "22800 TRAIN cind: 0.928 \t TEST cind: 0.664 [1088, 551, 0]\n"
     ]
    },
    {
     "name": "stdout",
     "output_type": "stream",
     "text": [
      "23200 TRAIN cind: 0.929 \t TEST cind: 0.663 [1087, 552, 0]\n"
     ]
    },
    {
     "name": "stdout",
     "output_type": "stream",
     "text": [
      "23600 TRAIN cind: 0.93 \t TEST cind: 0.664 [1088, 551, 0]\n"
     ]
    },
    {
     "name": "stdout",
     "output_type": "stream",
     "text": [
      "24000 TRAIN cind: 0.932 \t TEST cind: 0.663 [1086, 553, 0]\n"
     ]
    },
    {
     "name": "stdout",
     "output_type": "stream",
     "text": [
      "24400 TRAIN cind: 0.933 \t TEST cind: 0.663 [1087, 552, 0]\n"
     ]
    },
    {
     "name": "stdout",
     "output_type": "stream",
     "text": [
      "24800 TRAIN cind: 0.934 \t TEST cind: 0.66 [1082, 557, 0]\n"
     ]
    },
    {
     "name": "stdout",
     "output_type": "stream",
     "text": [
      "25200 TRAIN cind: 0.936 \t TEST cind: 0.659 [1080, 559, 0]\n"
     ]
    },
    {
     "name": "stdout",
     "output_type": "stream",
     "text": [
      "25600 TRAIN cind: 0.937 \t TEST cind: 0.658 [1078, 561, 0]\n"
     ]
    },
    {
     "name": "stdout",
     "output_type": "stream",
     "text": [
      "26000 TRAIN cind: 0.938 \t TEST cind: 0.656 [1076, 563, 0]\n"
     ]
    },
    {
     "name": "stdout",
     "output_type": "stream",
     "text": [
      "26400 TRAIN cind: 0.939 \t TEST cind: 0.655 [1073, 566, 0]\n"
     ]
    },
    {
     "name": "stdout",
     "output_type": "stream",
     "text": [
      "26800 TRAIN cind: 0.94 \t TEST cind: 0.655 [1074, 565, 0]\n"
     ]
    },
    {
     "name": "stdout",
     "output_type": "stream",
     "text": [
      "27200 TRAIN cind: 0.941 \t TEST cind: 0.655 [1074, 565, 0]\n"
     ]
    },
    {
     "name": "stdout",
     "output_type": "stream",
     "text": [
      "27600 TRAIN cind: 0.942 \t TEST cind: 0.653 [1071, 568, 0]\n"
     ]
    },
    {
     "name": "stdout",
     "output_type": "stream",
     "text": [
      "28000 TRAIN cind: 0.943 \t TEST cind: 0.654 [1072, 567, 0]\n"
     ]
    },
    {
     "name": "stdout",
     "output_type": "stream",
     "text": [
      "28400 TRAIN cind: 0.944 \t TEST cind: 0.653 [1071, 568, 0]\n"
     ]
    },
    {
     "name": "stdout",
     "output_type": "stream",
     "text": [
      "28800 TRAIN cind: 0.945 \t TEST cind: 0.653 [1070, 569, 0]\n"
     ]
    },
    {
     "name": "stdout",
     "output_type": "stream",
     "text": [
      "29200 TRAIN cind: 0.946 \t TEST cind: 0.653 [1070, 569, 0]\n"
     ]
    },
    {
     "name": "stdout",
     "output_type": "stream",
     "text": [
      "29600 TRAIN cind: 0.946 \t TEST cind: 0.653 [1071, 568, 0]\n"
     ]
    },
    {
     "name": "stdout",
     "output_type": "stream",
     "text": [
      "30000 TRAIN cind: 0.947 \t TEST cind: 0.653 [1071, 568, 0]\n"
     ]
    },
    {
     "name": "stdout",
     "output_type": "stream",
     "text": [
      "nb genes : 19962\n",
      "nb patients : 1049\n",
      "% uncensored : 0.14013346043851288\n"
     ]
    },
    {
     "name": "stdout",
     "output_type": "stream",
     "text": [
      "1 TRAIN cind: 0.537 \t TEST cind: 0.526 [1128, 1016, 0]\n"
     ]
    },
    {
     "name": "stdout",
     "output_type": "stream",
     "text": [
      "400 TRAIN cind: 0.62 \t TEST cind: 0.558 [1196, 948, 0]\n"
     ]
    },
    {
     "name": "stdout",
     "output_type": "stream",
     "text": [
      "800 TRAIN cind: 0.712 \t TEST cind: 0.586 [1256, 888, 0]\n"
     ]
    },
    {
     "name": "stdout",
     "output_type": "stream",
     "text": [
      "1200 TRAIN cind: 0.775 \t TEST cind: 0.605 [1298, 846, 0]\n"
     ]
    },
    {
     "name": "stdout",
     "output_type": "stream",
     "text": [
      "1600 TRAIN cind: 0.82 \t TEST cind: 0.618 [1326, 818, 0]\n"
     ]
    },
    {
     "name": "stdout",
     "output_type": "stream",
     "text": [
      "2000 TRAIN cind: 0.854 \t TEST cind: 0.638 [1368, 776, 0]\n"
     ]
    },
    {
     "name": "stdout",
     "output_type": "stream",
     "text": [
      "2400 TRAIN cind: 0.878 \t TEST cind: 0.656 [1406, 738, 0]\n"
     ]
    },
    {
     "name": "stdout",
     "output_type": "stream",
     "text": [
      "2800 TRAIN cind: 0.897 \t TEST cind: 0.671 [1439, 705, 0]\n"
     ]
    },
    {
     "name": "stdout",
     "output_type": "stream",
     "text": [
      "3200 TRAIN cind: 0.911 \t TEST cind: 0.681 [1460, 684, 0]\n"
     ]
    },
    {
     "name": "stdout",
     "output_type": "stream",
     "text": [
      "3600 TRAIN cind: 0.922 \t TEST cind: 0.693 [1485, 659, 0]\n"
     ]
    },
    {
     "name": "stdout",
     "output_type": "stream",
     "text": [
      "4000 TRAIN cind: 0.931 \t TEST cind: 0.699 [1498, 646, 0]\n"
     ]
    },
    {
     "name": "stdout",
     "output_type": "stream",
     "text": [
      "4400 TRAIN cind: 0.939 \t TEST cind: 0.704 [1510, 634, 0]\n"
     ]
    },
    {
     "name": "stdout",
     "output_type": "stream",
     "text": [
      "4800 TRAIN cind: 0.945 \t TEST cind: 0.71 [1523, 621, 0]\n"
     ]
    },
    {
     "name": "stdout",
     "output_type": "stream",
     "text": [
      "5200 TRAIN cind: 0.95 \t TEST cind: 0.717 [1538, 606, 0]\n"
     ]
    },
    {
     "name": "stdout",
     "output_type": "stream",
     "text": [
      "5600 TRAIN cind: 0.955 \t TEST cind: 0.721 [1545, 599, 0]\n"
     ]
    },
    {
     "name": "stdout",
     "output_type": "stream",
     "text": [
      "6000 TRAIN cind: 0.96 \t TEST cind: 0.723 [1550, 594, 0]\n"
     ]
    },
    {
     "name": "stdout",
     "output_type": "stream",
     "text": [
      "6400 TRAIN cind: 0.963 \t TEST cind: 0.724 [1552, 592, 0]\n"
     ]
    },
    {
     "name": "stdout",
     "output_type": "stream",
     "text": [
      "6800 TRAIN cind: 0.967 \t TEST cind: 0.728 [1561, 583, 0]\n"
     ]
    },
    {
     "name": "stdout",
     "output_type": "stream",
     "text": [
      "7200 TRAIN cind: 0.969 \t TEST cind: 0.73 [1566, 578, 0]\n"
     ]
    },
    {
     "name": "stdout",
     "output_type": "stream",
     "text": [
      "7600 TRAIN cind: 0.972 \t TEST cind: 0.735 [1575, 569, 0]\n"
     ]
    },
    {
     "name": "stdout",
     "output_type": "stream",
     "text": [
      "8000 TRAIN cind: 0.974 \t TEST cind: 0.739 [1585, 559, 0]\n"
     ]
    },
    {
     "name": "stdout",
     "output_type": "stream",
     "text": [
      "8400 TRAIN cind: 0.976 \t TEST cind: 0.739 [1585, 559, 0]\n"
     ]
    },
    {
     "name": "stdout",
     "output_type": "stream",
     "text": [
      "8800 TRAIN cind: 0.978 \t TEST cind: 0.743 [1592, 552, 0]\n"
     ]
    },
    {
     "name": "stdout",
     "output_type": "stream",
     "text": [
      "9200 TRAIN cind: 0.979 \t TEST cind: 0.747 [1602, 542, 0]\n"
     ]
    },
    {
     "name": "stdout",
     "output_type": "stream",
     "text": [
      "9600 TRAIN cind: 0.981 \t TEST cind: 0.75 [1608, 536, 0]\n"
     ]
    },
    {
     "name": "stdout",
     "output_type": "stream",
     "text": [
      "10000 TRAIN cind: 0.983 \t TEST cind: 0.75 [1608, 536, 0]\n"
     ]
    },
    {
     "name": "stdout",
     "output_type": "stream",
     "text": [
      "10400 TRAIN cind: 0.984 \t TEST cind: 0.75 [1608, 536, 0]\n"
     ]
    },
    {
     "name": "stdout",
     "output_type": "stream",
     "text": [
      "10800 TRAIN cind: 0.985 \t TEST cind: 0.753 [1614, 530, 0]\n"
     ]
    },
    {
     "name": "stdout",
     "output_type": "stream",
     "text": [
      "11200 TRAIN cind: 0.986 \t TEST cind: 0.756 [1620, 524, 0]\n"
     ]
    },
    {
     "name": "stdout",
     "output_type": "stream",
     "text": [
      "11600 TRAIN cind: 0.987 \t TEST cind: 0.755 [1618, 526, 0]\n"
     ]
    },
    {
     "name": "stdout",
     "output_type": "stream",
     "text": [
      "12000 TRAIN cind: 0.988 \t TEST cind: 0.757 [1623, 521, 0]\n"
     ]
    },
    {
     "name": "stdout",
     "output_type": "stream",
     "text": [
      "12400 TRAIN cind: 0.988 \t TEST cind: 0.757 [1624, 520, 0]\n"
     ]
    },
    {
     "name": "stdout",
     "output_type": "stream",
     "text": [
      "12800 TRAIN cind: 0.99 \t TEST cind: 0.757 [1623, 521, 0]\n"
     ]
    },
    {
     "name": "stdout",
     "output_type": "stream",
     "text": [
      "13200 TRAIN cind: 0.99 \t TEST cind: 0.757 [1624, 520, 0]\n"
     ]
    },
    {
     "name": "stdout",
     "output_type": "stream",
     "text": [
      "13600 TRAIN cind: 0.991 \t TEST cind: 0.761 [1631, 513, 0]\n"
     ]
    },
    {
     "name": "stdout",
     "output_type": "stream",
     "text": [
      "14000 TRAIN cind: 0.991 \t TEST cind: 0.762 [1633, 511, 0]\n"
     ]
    },
    {
     "name": "stdout",
     "output_type": "stream",
     "text": [
      "14400 TRAIN cind: 0.992 \t TEST cind: 0.761 [1631, 513, 0]\n"
     ]
    },
    {
     "name": "stdout",
     "output_type": "stream",
     "text": [
      "14800 TRAIN cind: 0.993 \t TEST cind: 0.76 [1630, 514, 0]\n"
     ]
    },
    {
     "name": "stdout",
     "output_type": "stream",
     "text": [
      "15200 TRAIN cind: 0.993 \t TEST cind: 0.761 [1632, 512, 0]\n"
     ]
    },
    {
     "name": "stdout",
     "output_type": "stream",
     "text": [
      "15600 TRAIN cind: 0.994 \t TEST cind: 0.763 [1635, 509, 0]\n"
     ]
    },
    {
     "name": "stdout",
     "output_type": "stream",
     "text": [
      "16000 TRAIN cind: 0.994 \t TEST cind: 0.764 [1638, 506, 0]\n"
     ]
    },
    {
     "name": "stdout",
     "output_type": "stream",
     "text": [
      "16400 TRAIN cind: 0.994 \t TEST cind: 0.765 [1641, 503, 0]\n"
     ]
    },
    {
     "name": "stdout",
     "output_type": "stream",
     "text": [
      "16800 TRAIN cind: 0.995 \t TEST cind: 0.766 [1642, 502, 0]\n"
     ]
    },
    {
     "name": "stdout",
     "output_type": "stream",
     "text": [
      "17200 TRAIN cind: 0.995 \t TEST cind: 0.766 [1642, 502, 0]\n"
     ]
    },
    {
     "name": "stdout",
     "output_type": "stream",
     "text": [
      "17600 TRAIN cind: 0.995 \t TEST cind: 0.766 [1642, 502, 0]\n"
     ]
    },
    {
     "name": "stdout",
     "output_type": "stream",
     "text": [
      "18000 TRAIN cind: 0.996 \t TEST cind: 0.767 [1644, 500, 0]\n"
     ]
    },
    {
     "name": "stdout",
     "output_type": "stream",
     "text": [
      "18400 TRAIN cind: 0.996 \t TEST cind: 0.767 [1644, 500, 0]\n"
     ]
    },
    {
     "name": "stdout",
     "output_type": "stream",
     "text": [
      "18800 TRAIN cind: 0.996 \t TEST cind: 0.767 [1644, 500, 0]\n"
     ]
    },
    {
     "name": "stdout",
     "output_type": "stream",
     "text": [
      "19200 TRAIN cind: 0.996 \t TEST cind: 0.766 [1643, 501, 0]\n"
     ]
    },
    {
     "name": "stdout",
     "output_type": "stream",
     "text": [
      "19600 TRAIN cind: 0.997 \t TEST cind: 0.767 [1644, 500, 0]\n"
     ]
    },
    {
     "name": "stdout",
     "output_type": "stream",
     "text": [
      "20000 TRAIN cind: 0.997 \t TEST cind: 0.766 [1643, 501, 0]\n"
     ]
    },
    {
     "name": "stdout",
     "output_type": "stream",
     "text": [
      "20400 TRAIN cind: 0.997 \t TEST cind: 0.765 [1641, 503, 0]\n"
     ]
    },
    {
     "name": "stdout",
     "output_type": "stream",
     "text": [
      "20800 TRAIN cind: 0.997 \t TEST cind: 0.765 [1641, 503, 0]\n"
     ]
    },
    {
     "name": "stdout",
     "output_type": "stream",
     "text": [
      "21200 TRAIN cind: 0.997 \t TEST cind: 0.765 [1641, 503, 0]\n"
     ]
    },
    {
     "name": "stdout",
     "output_type": "stream",
     "text": [
      "21600 TRAIN cind: 0.998 \t TEST cind: 0.766 [1643, 501, 0]\n"
     ]
    },
    {
     "name": "stdout",
     "output_type": "stream",
     "text": [
      "22000 TRAIN cind: 0.998 \t TEST cind: 0.766 [1642, 502, 0]\n"
     ]
    },
    {
     "name": "stdout",
     "output_type": "stream",
     "text": [
      "22400 TRAIN cind: 0.998 \t TEST cind: 0.766 [1642, 502, 0]\n"
     ]
    },
    {
     "name": "stdout",
     "output_type": "stream",
     "text": [
      "22800 TRAIN cind: 0.998 \t TEST cind: 0.765 [1641, 503, 0]\n"
     ]
    },
    {
     "name": "stdout",
     "output_type": "stream",
     "text": [
      "23200 TRAIN cind: 0.998 \t TEST cind: 0.766 [1643, 501, 0]\n"
     ]
    },
    {
     "name": "stdout",
     "output_type": "stream",
     "text": [
      "23600 TRAIN cind: 0.998 \t TEST cind: 0.766 [1643, 501, 0]\n"
     ]
    },
    {
     "name": "stdout",
     "output_type": "stream",
     "text": [
      "24000 TRAIN cind: 0.998 \t TEST cind: 0.767 [1644, 500, 2]\n"
     ]
    },
    {
     "name": "stdout",
     "output_type": "stream",
     "text": [
      "24400 TRAIN cind: 0.998 \t TEST cind: 0.766 [1643, 501, 0]\n"
     ]
    },
    {
     "name": "stdout",
     "output_type": "stream",
     "text": [
      "24800 TRAIN cind: 0.999 \t TEST cind: 0.767 [1645, 499, 0]\n"
     ]
    },
    {
     "name": "stdout",
     "output_type": "stream",
     "text": [
      "25200 TRAIN cind: 0.999 \t TEST cind: 0.768 [1646, 498, 0]\n"
     ]
    },
    {
     "name": "stdout",
     "output_type": "stream",
     "text": [
      "25600 TRAIN cind: 0.999 \t TEST cind: 0.767 [1645, 499, 0]\n"
     ]
    },
    {
     "name": "stdout",
     "output_type": "stream",
     "text": [
      "26000 TRAIN cind: 0.999 \t TEST cind: 0.768 [1646, 498, 0]\n"
     ]
    },
    {
     "name": "stdout",
     "output_type": "stream",
     "text": [
      "26400 TRAIN cind: 0.999 \t TEST cind: 0.768 [1646, 498, 0]\n"
     ]
    },
    {
     "name": "stdout",
     "output_type": "stream",
     "text": [
      "26800 TRAIN cind: 0.999 \t TEST cind: 0.769 [1648, 496, 0]\n"
     ]
    },
    {
     "name": "stdout",
     "output_type": "stream",
     "text": [
      "27200 TRAIN cind: 0.999 \t TEST cind: 0.768 [1646, 498, 0]\n"
     ]
    },
    {
     "name": "stdout",
     "output_type": "stream",
     "text": [
      "27600 TRAIN cind: 0.999 \t TEST cind: 0.768 [1647, 497, 0]\n"
     ]
    },
    {
     "name": "stdout",
     "output_type": "stream",
     "text": [
      "28000 TRAIN cind: 0.999 \t TEST cind: 0.769 [1648, 496, 0]\n"
     ]
    },
    {
     "name": "stdout",
     "output_type": "stream",
     "text": [
      "28400 TRAIN cind: 0.999 \t TEST cind: 0.768 [1647, 497, 0]\n"
     ]
    },
    {
     "name": "stdout",
     "output_type": "stream",
     "text": [
      "28800 TRAIN cind: 0.999 \t TEST cind: 0.766 [1643, 501, 0]\n"
     ]
    },
    {
     "name": "stdout",
     "output_type": "stream",
     "text": [
      "29200 TRAIN cind: 0.999 \t TEST cind: 0.765 [1641, 503, 0]\n"
     ]
    },
    {
     "name": "stdout",
     "output_type": "stream",
     "text": [
      "29600 TRAIN cind: 0.999 \t TEST cind: 0.766 [1642, 502, 0]\n"
     ]
    },
    {
     "name": "stdout",
     "output_type": "stream",
     "text": [
      "30000 TRAIN cind: 0.999 \t TEST cind: 0.765 [1641, 503, 0]\n"
     ]
    },
    {
     "name": "stdout",
     "output_type": "stream",
     "text": [
      "nb genes : 19962\n",
      "nb patients : 420\n",
      "% uncensored : 0.6214285714285714\n"
     ]
    },
    {
     "name": "stdout",
     "output_type": "stream",
     "text": [
      "1 TRAIN cind: 0.515 \t TEST cind: 0.474 [1010, 1119, 0]\n"
     ]
    },
    {
     "name": "stdout",
     "output_type": "stream",
     "text": [
      "400 TRAIN cind: 0.587 \t TEST cind: 0.523 [1114, 1015, 0]\n"
     ]
    },
    {
     "name": "stdout",
     "output_type": "stream",
     "text": [
      "800 TRAIN cind: 0.665 \t TEST cind: 0.55 [1172, 957, 0]\n"
     ]
    },
    {
     "name": "stdout",
     "output_type": "stream",
     "text": [
      "1200 TRAIN cind: 0.725 \t TEST cind: 0.571 [1216, 913, 0]\n"
     ]
    },
    {
     "name": "stdout",
     "output_type": "stream",
     "text": [
      "1600 TRAIN cind: 0.765 \t TEST cind: 0.578 [1231, 898, 0]\n"
     ]
    },
    {
     "name": "stdout",
     "output_type": "stream",
     "text": [
      "2000 TRAIN cind: 0.796 \t TEST cind: 0.589 [1253, 876, 0]\n"
     ]
    },
    {
     "name": "stdout",
     "output_type": "stream",
     "text": [
      "2400 TRAIN cind: 0.82 \t TEST cind: 0.594 [1264, 865, 0]\n"
     ]
    },
    {
     "name": "stdout",
     "output_type": "stream",
     "text": [
      "2800 TRAIN cind: 0.839 \t TEST cind: 0.601 [1279, 850, 0]\n"
     ]
    },
    {
     "name": "stdout",
     "output_type": "stream",
     "text": [
      "3200 TRAIN cind: 0.853 \t TEST cind: 0.608 [1294, 835, 0]\n"
     ]
    },
    {
     "name": "stdout",
     "output_type": "stream",
     "text": [
      "3600 TRAIN cind: 0.865 \t TEST cind: 0.612 [1304, 825, 0]\n"
     ]
    },
    {
     "name": "stdout",
     "output_type": "stream",
     "text": [
      "4000 TRAIN cind: 0.877 \t TEST cind: 0.614 [1308, 821, 0]\n"
     ]
    },
    {
     "name": "stdout",
     "output_type": "stream",
     "text": [
      "4400 TRAIN cind: 0.886 \t TEST cind: 0.615 [1310, 819, 0]\n"
     ]
    },
    {
     "name": "stdout",
     "output_type": "stream",
     "text": [
      "4800 TRAIN cind: 0.894 \t TEST cind: 0.616 [1311, 818, 0]\n"
     ]
    },
    {
     "name": "stdout",
     "output_type": "stream",
     "text": [
      "5200 TRAIN cind: 0.902 \t TEST cind: 0.617 [1314, 815, 0]\n"
     ]
    },
    {
     "name": "stdout",
     "output_type": "stream",
     "text": [
      "5600 TRAIN cind: 0.91 \t TEST cind: 0.615 [1310, 819, 0]\n"
     ]
    },
    {
     "name": "stdout",
     "output_type": "stream",
     "text": [
      "6000 TRAIN cind: 0.916 \t TEST cind: 0.617 [1314, 815, 0]\n"
     ]
    },
    {
     "name": "stdout",
     "output_type": "stream",
     "text": [
      "6400 TRAIN cind: 0.922 \t TEST cind: 0.615 [1309, 820, 0]\n"
     ]
    },
    {
     "name": "stdout",
     "output_type": "stream",
     "text": [
      "6800 TRAIN cind: 0.927 \t TEST cind: 0.611 [1301, 828, 0]\n"
     ]
    },
    {
     "name": "stdout",
     "output_type": "stream",
     "text": [
      "7200 TRAIN cind: 0.932 \t TEST cind: 0.609 [1297, 832, 0]\n"
     ]
    },
    {
     "name": "stdout",
     "output_type": "stream",
     "text": [
      "7600 TRAIN cind: 0.936 \t TEST cind: 0.61 [1299, 830, 0]\n"
     ]
    },
    {
     "name": "stdout",
     "output_type": "stream",
     "text": [
      "8000 TRAIN cind: 0.941 \t TEST cind: 0.612 [1302, 827, 0]\n"
     ]
    },
    {
     "name": "stdout",
     "output_type": "stream",
     "text": [
      "8400 TRAIN cind: 0.944 \t TEST cind: 0.61 [1299, 830, 0]\n"
     ]
    },
    {
     "name": "stdout",
     "output_type": "stream",
     "text": [
      "8800 TRAIN cind: 0.948 \t TEST cind: 0.609 [1296, 833, 0]\n"
     ]
    },
    {
     "name": "stdout",
     "output_type": "stream",
     "text": [
      "9200 TRAIN cind: 0.951 \t TEST cind: 0.609 [1297, 832, 0]\n"
     ]
    },
    {
     "name": "stdout",
     "output_type": "stream",
     "text": [
      "9600 TRAIN cind: 0.954 \t TEST cind: 0.608 [1295, 834, 0]\n"
     ]
    },
    {
     "name": "stdout",
     "output_type": "stream",
     "text": [
      "10000 TRAIN cind: 0.957 \t TEST cind: 0.605 [1289, 840, 0]\n"
     ]
    },
    {
     "name": "stdout",
     "output_type": "stream",
     "text": [
      "10400 TRAIN cind: 0.959 \t TEST cind: 0.607 [1292, 837, 0]\n"
     ]
    },
    {
     "name": "stdout",
     "output_type": "stream",
     "text": [
      "10800 TRAIN cind: 0.962 \t TEST cind: 0.607 [1293, 836, 0]\n"
     ]
    },
    {
     "name": "stdout",
     "output_type": "stream",
     "text": [
      "11200 TRAIN cind: 0.964 \t TEST cind: 0.606 [1290, 839, 0]\n"
     ]
    },
    {
     "name": "stdout",
     "output_type": "stream",
     "text": [
      "11600 TRAIN cind: 0.966 \t TEST cind: 0.604 [1286, 843, 0]\n"
     ]
    },
    {
     "name": "stdout",
     "output_type": "stream",
     "text": [
      "12000 TRAIN cind: 0.968 \t TEST cind: 0.604 [1286, 843, 0]\n"
     ]
    },
    {
     "name": "stdout",
     "output_type": "stream",
     "text": [
      "12400 TRAIN cind: 0.97 \t TEST cind: 0.604 [1286, 843, 0]\n"
     ]
    },
    {
     "name": "stdout",
     "output_type": "stream",
     "text": [
      "12800 TRAIN cind: 0.972 \t TEST cind: 0.604 [1285, 844, 0]\n"
     ]
    },
    {
     "name": "stdout",
     "output_type": "stream",
     "text": [
      "13200 TRAIN cind: 0.973 \t TEST cind: 0.604 [1286, 843, 0]\n"
     ]
    },
    {
     "name": "stdout",
     "output_type": "stream",
     "text": [
      "13600 TRAIN cind: 0.975 \t TEST cind: 0.605 [1288, 841, 0]\n"
     ]
    },
    {
     "name": "stdout",
     "output_type": "stream",
     "text": [
      "14000 TRAIN cind: 0.977 \t TEST cind: 0.606 [1290, 839, 0]\n"
     ]
    },
    {
     "name": "stdout",
     "output_type": "stream",
     "text": [
      "14400 TRAIN cind: 0.978 \t TEST cind: 0.605 [1288, 841, 0]\n"
     ]
    },
    {
     "name": "stdout",
     "output_type": "stream",
     "text": [
      "14800 TRAIN cind: 0.979 \t TEST cind: 0.605 [1289, 840, 0]\n"
     ]
    },
    {
     "name": "stdout",
     "output_type": "stream",
     "text": [
      "15200 TRAIN cind: 0.98 \t TEST cind: 0.605 [1287, 842, 0]\n"
     ]
    },
    {
     "name": "stdout",
     "output_type": "stream",
     "text": [
      "15600 TRAIN cind: 0.981 \t TEST cind: 0.605 [1289, 840, 0]\n"
     ]
    },
    {
     "name": "stdout",
     "output_type": "stream",
     "text": [
      "16000 TRAIN cind: 0.982 \t TEST cind: 0.607 [1293, 836, 0]\n"
     ]
    },
    {
     "name": "stdout",
     "output_type": "stream",
     "text": [
      "16400 TRAIN cind: 0.983 \t TEST cind: 0.609 [1296, 833, 0]\n"
     ]
    },
    {
     "name": "stdout",
     "output_type": "stream",
     "text": [
      "16800 TRAIN cind: 0.984 \t TEST cind: 0.606 [1291, 838, 0]\n"
     ]
    },
    {
     "name": "stdout",
     "output_type": "stream",
     "text": [
      "17200 TRAIN cind: 0.985 \t TEST cind: 0.607 [1292, 837, 0]\n"
     ]
    },
    {
     "name": "stdout",
     "output_type": "stream",
     "text": [
      "17600 TRAIN cind: 0.986 \t TEST cind: 0.607 [1292, 837, 0]\n"
     ]
    },
    {
     "name": "stdout",
     "output_type": "stream",
     "text": [
      "18000 TRAIN cind: 0.987 \t TEST cind: 0.608 [1295, 834, 0]\n"
     ]
    },
    {
     "name": "stdout",
     "output_type": "stream",
     "text": [
      "18400 TRAIN cind: 0.987 \t TEST cind: 0.607 [1293, 836, 0]\n"
     ]
    },
    {
     "name": "stdout",
     "output_type": "stream",
     "text": [
      "18800 TRAIN cind: 0.988 \t TEST cind: 0.608 [1294, 835, 0]\n"
     ]
    },
    {
     "name": "stdout",
     "output_type": "stream",
     "text": [
      "19200 TRAIN cind: 0.989 \t TEST cind: 0.608 [1295, 834, 0]\n"
     ]
    },
    {
     "name": "stdout",
     "output_type": "stream",
     "text": [
      "19600 TRAIN cind: 0.989 \t TEST cind: 0.608 [1294, 835, 0]\n"
     ]
    },
    {
     "name": "stdout",
     "output_type": "stream",
     "text": [
      "20000 TRAIN cind: 0.99 \t TEST cind: 0.609 [1296, 833, 0]\n"
     ]
    },
    {
     "name": "stdout",
     "output_type": "stream",
     "text": [
      "20400 TRAIN cind: 0.99 \t TEST cind: 0.608 [1295, 834, 0]\n"
     ]
    },
    {
     "name": "stdout",
     "output_type": "stream",
     "text": [
      "20800 TRAIN cind: 0.991 \t TEST cind: 0.607 [1293, 836, 0]\n"
     ]
    },
    {
     "name": "stdout",
     "output_type": "stream",
     "text": [
      "21200 TRAIN cind: 0.991 \t TEST cind: 0.607 [1292, 837, 0]\n"
     ]
    },
    {
     "name": "stdout",
     "output_type": "stream",
     "text": [
      "21600 TRAIN cind: 0.992 \t TEST cind: 0.606 [1291, 838, 0]\n"
     ]
    },
    {
     "name": "stdout",
     "output_type": "stream",
     "text": [
      "22000 TRAIN cind: 0.992 \t TEST cind: 0.607 [1292, 837, 0]\n"
     ]
    },
    {
     "name": "stdout",
     "output_type": "stream",
     "text": [
      "22400 TRAIN cind: 0.993 \t TEST cind: 0.607 [1293, 836, 0]\n"
     ]
    },
    {
     "name": "stdout",
     "output_type": "stream",
     "text": [
      "22800 TRAIN cind: 0.993 \t TEST cind: 0.608 [1294, 835, 0]\n"
     ]
    },
    {
     "name": "stdout",
     "output_type": "stream",
     "text": [
      "23200 TRAIN cind: 0.993 \t TEST cind: 0.608 [1294, 835, 0]\n"
     ]
    },
    {
     "name": "stdout",
     "output_type": "stream",
     "text": [
      "23600 TRAIN cind: 0.994 \t TEST cind: 0.607 [1293, 836, 0]\n"
     ]
    },
    {
     "name": "stdout",
     "output_type": "stream",
     "text": [
      "24000 TRAIN cind: 0.994 \t TEST cind: 0.608 [1294, 835, 0]\n"
     ]
    },
    {
     "name": "stdout",
     "output_type": "stream",
     "text": [
      "24400 TRAIN cind: 0.994 \t TEST cind: 0.608 [1295, 834, 0]\n"
     ]
    },
    {
     "name": "stdout",
     "output_type": "stream",
     "text": [
      "24800 TRAIN cind: 0.994 \t TEST cind: 0.609 [1297, 832, 0]\n"
     ]
    },
    {
     "name": "stdout",
     "output_type": "stream",
     "text": [
      "25200 TRAIN cind: 0.995 \t TEST cind: 0.609 [1297, 832, 0]\n"
     ]
    },
    {
     "name": "stdout",
     "output_type": "stream",
     "text": [
      "25600 TRAIN cind: 0.995 \t TEST cind: 0.61 [1298, 831, 0]\n"
     ]
    },
    {
     "name": "stdout",
     "output_type": "stream",
     "text": [
      "26000 TRAIN cind: 0.995 \t TEST cind: 0.61 [1299, 830, 0]\n"
     ]
    },
    {
     "name": "stdout",
     "output_type": "stream",
     "text": [
      "26400 TRAIN cind: 0.996 \t TEST cind: 0.61 [1299, 830, 0]\n"
     ]
    },
    {
     "name": "stdout",
     "output_type": "stream",
     "text": [
      "26800 TRAIN cind: 0.996 \t TEST cind: 0.61 [1299, 830, 0]\n"
     ]
    },
    {
     "name": "stdout",
     "output_type": "stream",
     "text": [
      "27200 TRAIN cind: 0.996 \t TEST cind: 0.611 [1300, 829, 0]\n"
     ]
    },
    {
     "name": "stdout",
     "output_type": "stream",
     "text": [
      "27600 TRAIN cind: 0.996 \t TEST cind: 0.611 [1301, 828, 0]\n"
     ]
    },
    {
     "name": "stdout",
     "output_type": "stream",
     "text": [
      "28000 TRAIN cind: 0.996 \t TEST cind: 0.612 [1302, 827, 0]\n"
     ]
    },
    {
     "name": "stdout",
     "output_type": "stream",
     "text": [
      "28400 TRAIN cind: 0.996 \t TEST cind: 0.612 [1304, 825, 0]\n"
     ]
    },
    {
     "name": "stdout",
     "output_type": "stream",
     "text": [
      "28800 TRAIN cind: 0.997 \t TEST cind: 0.613 [1306, 823, 0]\n"
     ]
    },
    {
     "name": "stdout",
     "output_type": "stream",
     "text": [
      "29200 TRAIN cind: 0.997 \t TEST cind: 0.613 [1306, 823, 0]\n"
     ]
    },
    {
     "name": "stdout",
     "output_type": "stream",
     "text": [
      "29600 TRAIN cind: 0.997 \t TEST cind: 0.613 [1305, 824, 0]\n"
     ]
    },
    {
     "name": "stdout",
     "output_type": "stream",
     "text": [
      "30000 TRAIN cind: 0.997 \t TEST cind: 0.612 [1302, 827, 0]\n",
      "nb genes : 19962\n",
      "nb patients : 513\n",
      "% uncensored : 0.24366471734892786\n"
     ]
    },
    {
     "name": "stdout",
     "output_type": "stream",
     "text": [
      "1 TRAIN cind: 0.521 \t TEST cind: 0.68 [613, 289, 0]\n"
     ]
    },
    {
     "name": "stdout",
     "output_type": "stream",
     "text": [
      "400 TRAIN cind: 0.756 \t TEST cind: 0.912 [823, 79, 0]\n"
     ]
    },
    {
     "name": "stdout",
     "output_type": "stream",
     "text": [
      "800 TRAIN cind: 0.801 \t TEST cind: 0.92 [830, 72, 0]\n"
     ]
    },
    {
     "name": "stdout",
     "output_type": "stream",
     "text": [
      "1200 TRAIN cind: 0.827 \t TEST cind: 0.918 [828, 74, 0]\n"
     ]
    },
    {
     "name": "stdout",
     "output_type": "stream",
     "text": [
      "1600 TRAIN cind: 0.849 \t TEST cind: 0.922 [832, 70, 0]\n"
     ]
    },
    {
     "name": "stdout",
     "output_type": "stream",
     "text": [
      "2000 TRAIN cind: 0.868 \t TEST cind: 0.922 [832, 70, 0]\n"
     ]
    },
    {
     "name": "stdout",
     "output_type": "stream",
     "text": [
      "2400 TRAIN cind: 0.883 \t TEST cind: 0.921 [831, 71, 0]\n"
     ]
    },
    {
     "name": "stdout",
     "output_type": "stream",
     "text": [
      "2800 TRAIN cind: 0.894 \t TEST cind: 0.917 [827, 75, 0]\n"
     ]
    },
    {
     "name": "stdout",
     "output_type": "stream",
     "text": [
      "3200 TRAIN cind: 0.904 \t TEST cind: 0.92 [830, 72, 0]\n"
     ]
    },
    {
     "name": "stdout",
     "output_type": "stream",
     "text": [
      "3600 TRAIN cind: 0.913 \t TEST cind: 0.919 [829, 73, 0]\n"
     ]
    },
    {
     "name": "stdout",
     "output_type": "stream",
     "text": [
      "4000 TRAIN cind: 0.919 \t TEST cind: 0.912 [823, 79, 0]\n"
     ]
    },
    {
     "name": "stdout",
     "output_type": "stream",
     "text": [
      "4400 TRAIN cind: 0.927 \t TEST cind: 0.912 [823, 79, 0]\n"
     ]
    },
    {
     "name": "stdout",
     "output_type": "stream",
     "text": [
      "4800 TRAIN cind: 0.932 \t TEST cind: 0.911 [822, 80, 0]\n"
     ]
    },
    {
     "name": "stdout",
     "output_type": "stream",
     "text": [
      "5200 TRAIN cind: 0.937 \t TEST cind: 0.91 [821, 81, 0]\n"
     ]
    },
    {
     "name": "stdout",
     "output_type": "stream",
     "text": [
      "5600 TRAIN cind: 0.941 \t TEST cind: 0.91 [821, 81, 0]\n"
     ]
    },
    {
     "name": "stdout",
     "output_type": "stream",
     "text": [
      "6000 TRAIN cind: 0.944 \t TEST cind: 0.91 [821, 81, 0]\n"
     ]
    },
    {
     "name": "stdout",
     "output_type": "stream",
     "text": [
      "6400 TRAIN cind: 0.948 \t TEST cind: 0.906 [817, 85, 0]\n"
     ]
    },
    {
     "name": "stdout",
     "output_type": "stream",
     "text": [
      "6800 TRAIN cind: 0.951 \t TEST cind: 0.906 [817, 85, 0]\n"
     ]
    },
    {
     "name": "stdout",
     "output_type": "stream",
     "text": [
      "7200 TRAIN cind: 0.955 \t TEST cind: 0.905 [816, 86, 0]\n"
     ]
    },
    {
     "name": "stdout",
     "output_type": "stream",
     "text": [
      "7600 TRAIN cind: 0.957 \t TEST cind: 0.902 [814, 88, 0]\n"
     ]
    },
    {
     "name": "stdout",
     "output_type": "stream",
     "text": [
      "8000 TRAIN cind: 0.959 \t TEST cind: 0.901 [813, 89, 0]\n"
     ]
    },
    {
     "name": "stdout",
     "output_type": "stream",
     "text": [
      "8400 TRAIN cind: 0.961 \t TEST cind: 0.904 [815, 87, 0]\n"
     ]
    },
    {
     "name": "stdout",
     "output_type": "stream",
     "text": [
      "8800 TRAIN cind: 0.964 \t TEST cind: 0.902 [814, 88, 0]\n"
     ]
    },
    {
     "name": "stdout",
     "output_type": "stream",
     "text": [
      "9200 TRAIN cind: 0.967 \t TEST cind: 0.902 [814, 88, 0]\n"
     ]
    },
    {
     "name": "stdout",
     "output_type": "stream",
     "text": [
      "9600 TRAIN cind: 0.969 \t TEST cind: 0.901 [813, 89, 0]\n"
     ]
    },
    {
     "name": "stdout",
     "output_type": "stream",
     "text": [
      "10000 TRAIN cind: 0.971 \t TEST cind: 0.901 [813, 89, 0]\n"
     ]
    },
    {
     "name": "stdout",
     "output_type": "stream",
     "text": [
      "10400 TRAIN cind: 0.973 \t TEST cind: 0.902 [814, 88, 0]\n"
     ]
    },
    {
     "name": "stdout",
     "output_type": "stream",
     "text": [
      "10800 TRAIN cind: 0.974 \t TEST cind: 0.902 [814, 88, 0]\n"
     ]
    },
    {
     "name": "stdout",
     "output_type": "stream",
     "text": [
      "11200 TRAIN cind: 0.975 \t TEST cind: 0.901 [813, 89, 0]\n"
     ]
    },
    {
     "name": "stdout",
     "output_type": "stream",
     "text": [
      "11600 TRAIN cind: 0.976 \t TEST cind: 0.9 [812, 90, 0]\n"
     ]
    },
    {
     "name": "stdout",
     "output_type": "stream",
     "text": [
      "12000 TRAIN cind: 0.978 \t TEST cind: 0.9 [812, 90, 0]\n"
     ]
    },
    {
     "name": "stdout",
     "output_type": "stream",
     "text": [
      "12400 TRAIN cind: 0.98 \t TEST cind: 0.9 [812, 90, 0]\n"
     ]
    },
    {
     "name": "stdout",
     "output_type": "stream",
     "text": [
      "12800 TRAIN cind: 0.981 \t TEST cind: 0.897 [809, 93, 0]\n"
     ]
    },
    {
     "name": "stdout",
     "output_type": "stream",
     "text": [
      "13200 TRAIN cind: 0.982 \t TEST cind: 0.896 [808, 94, 0]\n"
     ]
    },
    {
     "name": "stdout",
     "output_type": "stream",
     "text": [
      "13600 TRAIN cind: 0.983 \t TEST cind: 0.897 [809, 93, 0]\n"
     ]
    },
    {
     "name": "stdout",
     "output_type": "stream",
     "text": [
      "14000 TRAIN cind: 0.984 \t TEST cind: 0.898 [810, 92, 0]\n"
     ]
    },
    {
     "name": "stdout",
     "output_type": "stream",
     "text": [
      "14400 TRAIN cind: 0.985 \t TEST cind: 0.898 [810, 92, 0]\n"
     ]
    },
    {
     "name": "stdout",
     "output_type": "stream",
     "text": [
      "14800 TRAIN cind: 0.986 \t TEST cind: 0.896 [808, 94, 0]\n"
     ]
    },
    {
     "name": "stdout",
     "output_type": "stream",
     "text": [
      "15200 TRAIN cind: 0.987 \t TEST cind: 0.895 [807, 95, 0]\n"
     ]
    },
    {
     "name": "stdout",
     "output_type": "stream",
     "text": [
      "15600 TRAIN cind: 0.988 \t TEST cind: 0.894 [806, 96, 0]\n"
     ]
    },
    {
     "name": "stdout",
     "output_type": "stream",
     "text": [
      "16000 TRAIN cind: 0.988 \t TEST cind: 0.894 [806, 96, 0]\n"
     ]
    },
    {
     "name": "stdout",
     "output_type": "stream",
     "text": [
      "16400 TRAIN cind: 0.989 \t TEST cind: 0.894 [806, 96, 0]\n"
     ]
    },
    {
     "name": "stdout",
     "output_type": "stream",
     "text": [
      "16800 TRAIN cind: 0.99 \t TEST cind: 0.894 [806, 96, 0]\n"
     ]
    },
    {
     "name": "stdout",
     "output_type": "stream",
     "text": [
      "17200 TRAIN cind: 0.99 \t TEST cind: 0.894 [806, 96, 0]\n"
     ]
    },
    {
     "name": "stdout",
     "output_type": "stream",
     "text": [
      "17600 TRAIN cind: 0.991 \t TEST cind: 0.892 [805, 97, 0]\n"
     ]
    },
    {
     "name": "stdout",
     "output_type": "stream",
     "text": [
      "18000 TRAIN cind: 0.991 \t TEST cind: 0.894 [806, 96, 0]\n"
     ]
    },
    {
     "name": "stdout",
     "output_type": "stream",
     "text": [
      "18400 TRAIN cind: 0.992 \t TEST cind: 0.894 [806, 96, 0]\n"
     ]
    },
    {
     "name": "stdout",
     "output_type": "stream",
     "text": [
      "18800 TRAIN cind: 0.992 \t TEST cind: 0.892 [805, 97, 0]\n"
     ]
    },
    {
     "name": "stdout",
     "output_type": "stream",
     "text": [
      "19200 TRAIN cind: 0.992 \t TEST cind: 0.891 [804, 98, 0]\n"
     ]
    },
    {
     "name": "stdout",
     "output_type": "stream",
     "text": [
      "19600 TRAIN cind: 0.993 \t TEST cind: 0.891 [804, 98, 0]\n"
     ]
    },
    {
     "name": "stdout",
     "output_type": "stream",
     "text": [
      "20000 TRAIN cind: 0.993 \t TEST cind: 0.891 [804, 98, 0]\n"
     ]
    },
    {
     "name": "stdout",
     "output_type": "stream",
     "text": [
      "20400 TRAIN cind: 0.993 \t TEST cind: 0.891 [804, 98, 0]\n"
     ]
    },
    {
     "name": "stdout",
     "output_type": "stream",
     "text": [
      "20800 TRAIN cind: 0.994 \t TEST cind: 0.892 [805, 97, 0]\n"
     ]
    },
    {
     "name": "stdout",
     "output_type": "stream",
     "text": [
      "21200 TRAIN cind: 0.994 \t TEST cind: 0.891 [804, 98, 0]\n"
     ]
    },
    {
     "name": "stdout",
     "output_type": "stream",
     "text": [
      "21600 TRAIN cind: 0.994 \t TEST cind: 0.892 [805, 97, 0]\n"
     ]
    },
    {
     "name": "stdout",
     "output_type": "stream",
     "text": [
      "22000 TRAIN cind: 0.995 \t TEST cind: 0.891 [804, 98, 0]\n"
     ]
    },
    {
     "name": "stdout",
     "output_type": "stream",
     "text": [
      "22400 TRAIN cind: 0.995 \t TEST cind: 0.89 [803, 99, 0]\n"
     ]
    },
    {
     "name": "stdout",
     "output_type": "stream",
     "text": [
      "22800 TRAIN cind: 0.995 \t TEST cind: 0.89 [803, 99, 0]\n"
     ]
    },
    {
     "name": "stdout",
     "output_type": "stream",
     "text": [
      "23200 TRAIN cind: 0.995 \t TEST cind: 0.889 [802, 100, 0]\n"
     ]
    },
    {
     "name": "stdout",
     "output_type": "stream",
     "text": [
      "23600 TRAIN cind: 0.996 \t TEST cind: 0.889 [802, 100, 0]\n"
     ]
    },
    {
     "name": "stdout",
     "output_type": "stream",
     "text": [
      "24000 TRAIN cind: 0.996 \t TEST cind: 0.889 [802, 100, 0]\n"
     ]
    },
    {
     "name": "stdout",
     "output_type": "stream",
     "text": [
      "24400 TRAIN cind: 0.996 \t TEST cind: 0.889 [802, 100, 0]\n"
     ]
    },
    {
     "name": "stdout",
     "output_type": "stream",
     "text": [
      "24800 TRAIN cind: 0.997 \t TEST cind: 0.888 [801, 101, 0]\n"
     ]
    },
    {
     "name": "stdout",
     "output_type": "stream",
     "text": [
      "25200 TRAIN cind: 0.997 \t TEST cind: 0.887 [800, 102, 0]\n"
     ]
    },
    {
     "name": "stdout",
     "output_type": "stream",
     "text": [
      "25600 TRAIN cind: 0.997 \t TEST cind: 0.887 [800, 102, 0]\n"
     ]
    },
    {
     "name": "stdout",
     "output_type": "stream",
     "text": [
      "26000 TRAIN cind: 0.997 \t TEST cind: 0.887 [800, 102, 0]\n"
     ]
    },
    {
     "name": "stdout",
     "output_type": "stream",
     "text": [
      "26400 TRAIN cind: 0.997 \t TEST cind: 0.887 [800, 102, 0]\n"
     ]
    },
    {
     "name": "stdout",
     "output_type": "stream",
     "text": [
      "26800 TRAIN cind: 0.997 \t TEST cind: 0.886 [799, 103, 0]\n"
     ]
    },
    {
     "name": "stdout",
     "output_type": "stream",
     "text": [
      "27200 TRAIN cind: 0.998 \t TEST cind: 0.886 [799, 103, 0]\n"
     ]
    },
    {
     "name": "stdout",
     "output_type": "stream",
     "text": [
      "27600 TRAIN cind: 0.998 \t TEST cind: 0.886 [799, 103, 0]\n"
     ]
    },
    {
     "name": "stdout",
     "output_type": "stream",
     "text": [
      "28000 TRAIN cind: 0.998 \t TEST cind: 0.885 [798, 104, 0]\n"
     ]
    },
    {
     "name": "stdout",
     "output_type": "stream",
     "text": [
      "28400 TRAIN cind: 0.998 \t TEST cind: 0.885 [798, 104, 0]\n"
     ]
    },
    {
     "name": "stdout",
     "output_type": "stream",
     "text": [
      "28800 TRAIN cind: 0.998 \t TEST cind: 0.882 [796, 106, 0]\n"
     ]
    },
    {
     "name": "stdout",
     "output_type": "stream",
     "text": [
      "29200 TRAIN cind: 0.999 \t TEST cind: 0.882 [796, 106, 0]\n"
     ]
    },
    {
     "name": "stdout",
     "output_type": "stream",
     "text": [
      "29600 TRAIN cind: 0.999 \t TEST cind: 0.882 [796, 106, 0]\n"
     ]
    },
    {
     "name": "stdout",
     "output_type": "stream",
     "text": [
      "30000 TRAIN cind: 0.999 \t TEST cind: 0.882 [796, 106, 0]\n",
      "nb genes : 14996\n",
      "nb patients : 300\n",
      "% uncensored : 0.7433333333333333\n"
     ]
    },
    {
     "name": "stdout",
     "output_type": "stream",
     "text": [
      "1 TRAIN cind: 0.502 \t TEST cind: 0.461 [745, 871, 0]\n"
     ]
    },
    {
     "name": "stdout",
     "output_type": "stream",
     "text": [
      "400 TRAIN cind: 0.583 \t TEST cind: 0.567 [916, 700, 0]\n"
     ]
    },
    {
     "name": "stdout",
     "output_type": "stream",
     "text": [
      "800 TRAIN cind: 0.651 \t TEST cind: 0.65 [1051, 565, 0]\n"
     ]
    },
    {
     "name": "stdout",
     "output_type": "stream",
     "text": [
      "1200 TRAIN cind: 0.691 \t TEST cind: 0.692 [1119, 497, 0]\n"
     ]
    },
    {
     "name": "stdout",
     "output_type": "stream",
     "text": [
      "1600 TRAIN cind: 0.716 \t TEST cind: 0.703 [1136, 480, 0]\n"
     ]
    },
    {
     "name": "stdout",
     "output_type": "stream",
     "text": [
      "2000 TRAIN cind: 0.733 \t TEST cind: 0.706 [1141, 475, 0]\n"
     ]
    },
    {
     "name": "stdout",
     "output_type": "stream",
     "text": [
      "2400 TRAIN cind: 0.745 \t TEST cind: 0.705 [1140, 476, 0]\n"
     ]
    },
    {
     "name": "stdout",
     "output_type": "stream",
     "text": [
      "2800 TRAIN cind: 0.755 \t TEST cind: 0.708 [1144, 472, 0]\n"
     ]
    },
    {
     "name": "stdout",
     "output_type": "stream",
     "text": [
      "3200 TRAIN cind: 0.765 \t TEST cind: 0.707 [1143, 473, 0]\n"
     ]
    },
    {
     "name": "stdout",
     "output_type": "stream",
     "text": [
      "3600 TRAIN cind: 0.773 \t TEST cind: 0.702 [1135, 481, 0]\n"
     ]
    },
    {
     "name": "stdout",
     "output_type": "stream",
     "text": [
      "4000 TRAIN cind: 0.781 \t TEST cind: 0.702 [1135, 481, 0]\n"
     ]
    },
    {
     "name": "stdout",
     "output_type": "stream",
     "text": [
      "4400 TRAIN cind: 0.788 \t TEST cind: 0.701 [1133, 483, 0]\n"
     ]
    },
    {
     "name": "stdout",
     "output_type": "stream",
     "text": [
      "4800 TRAIN cind: 0.794 \t TEST cind: 0.699 [1130, 486, 0]\n"
     ]
    },
    {
     "name": "stdout",
     "output_type": "stream",
     "text": [
      "5200 TRAIN cind: 0.8 \t TEST cind: 0.695 [1123, 493, 0]\n"
     ]
    },
    {
     "name": "stdout",
     "output_type": "stream",
     "text": [
      "5600 TRAIN cind: 0.807 \t TEST cind: 0.696 [1125, 491, 0]\n"
     ]
    },
    {
     "name": "stdout",
     "output_type": "stream",
     "text": [
      "6000 TRAIN cind: 0.813 \t TEST cind: 0.692 [1119, 497, 0]\n"
     ]
    },
    {
     "name": "stdout",
     "output_type": "stream",
     "text": [
      "6400 TRAIN cind: 0.818 \t TEST cind: 0.692 [1118, 498, 0]\n"
     ]
    },
    {
     "name": "stdout",
     "output_type": "stream",
     "text": [
      "6800 TRAIN cind: 0.822 \t TEST cind: 0.689 [1113, 503, 0]\n"
     ]
    },
    {
     "name": "stdout",
     "output_type": "stream",
     "text": [
      "7200 TRAIN cind: 0.828 \t TEST cind: 0.69 [1115, 501, 0]\n"
     ]
    },
    {
     "name": "stdout",
     "output_type": "stream",
     "text": [
      "7600 TRAIN cind: 0.832 \t TEST cind: 0.689 [1113, 503, 0]\n"
     ]
    },
    {
     "name": "stdout",
     "output_type": "stream",
     "text": [
      "8000 TRAIN cind: 0.837 \t TEST cind: 0.687 [1110, 506, 0]\n"
     ]
    },
    {
     "name": "stdout",
     "output_type": "stream",
     "text": [
      "8400 TRAIN cind: 0.842 \t TEST cind: 0.686 [1108, 508, 0]\n"
     ]
    },
    {
     "name": "stdout",
     "output_type": "stream",
     "text": [
      "8800 TRAIN cind: 0.846 \t TEST cind: 0.686 [1108, 508, 0]\n"
     ]
    },
    {
     "name": "stdout",
     "output_type": "stream",
     "text": [
      "9200 TRAIN cind: 0.85 \t TEST cind: 0.685 [1107, 509, 0]\n"
     ]
    },
    {
     "name": "stdout",
     "output_type": "stream",
     "text": [
      "9600 TRAIN cind: 0.854 \t TEST cind: 0.684 [1106, 510, 0]\n"
     ]
    },
    {
     "name": "stdout",
     "output_type": "stream",
     "text": [
      "10000 TRAIN cind: 0.857 \t TEST cind: 0.683 [1104, 512, 0]\n"
     ]
    },
    {
     "name": "stdout",
     "output_type": "stream",
     "text": [
      "10400 TRAIN cind: 0.86 \t TEST cind: 0.68 [1099, 517, 0]\n"
     ]
    },
    {
     "name": "stdout",
     "output_type": "stream",
     "text": [
      "10800 TRAIN cind: 0.864 \t TEST cind: 0.677 [1094, 522, 0]\n"
     ]
    },
    {
     "name": "stdout",
     "output_type": "stream",
     "text": [
      "11200 TRAIN cind: 0.867 \t TEST cind: 0.676 [1093, 523, 0]\n"
     ]
    },
    {
     "name": "stdout",
     "output_type": "stream",
     "text": [
      "11600 TRAIN cind: 0.869 \t TEST cind: 0.675 [1091, 525, 0]\n"
     ]
    },
    {
     "name": "stdout",
     "output_type": "stream",
     "text": [
      "12000 TRAIN cind: 0.872 \t TEST cind: 0.675 [1091, 525, 0]\n"
     ]
    },
    {
     "name": "stdout",
     "output_type": "stream",
     "text": [
      "12400 TRAIN cind: 0.875 \t TEST cind: 0.676 [1093, 523, 0]\n"
     ]
    },
    {
     "name": "stdout",
     "output_type": "stream",
     "text": [
      "12800 TRAIN cind: 0.877 \t TEST cind: 0.677 [1094, 522, 0]\n"
     ]
    },
    {
     "name": "stdout",
     "output_type": "stream",
     "text": [
      "13200 TRAIN cind: 0.88 \t TEST cind: 0.675 [1091, 525, 0]\n"
     ]
    },
    {
     "name": "stdout",
     "output_type": "stream",
     "text": [
      "13600 TRAIN cind: 0.882 \t TEST cind: 0.675 [1091, 525, 0]\n"
     ]
    },
    {
     "name": "stdout",
     "output_type": "stream",
     "text": [
      "14000 TRAIN cind: 0.886 \t TEST cind: 0.676 [1093, 523, 0]\n"
     ]
    },
    {
     "name": "stdout",
     "output_type": "stream",
     "text": [
      "14400 TRAIN cind: 0.889 \t TEST cind: 0.676 [1092, 524, 0]\n"
     ]
    },
    {
     "name": "stdout",
     "output_type": "stream",
     "text": [
      "14800 TRAIN cind: 0.891 \t TEST cind: 0.676 [1092, 524, 0]\n"
     ]
    },
    {
     "name": "stdout",
     "output_type": "stream",
     "text": [
      "15200 TRAIN cind: 0.894 \t TEST cind: 0.676 [1092, 524, 0]\n"
     ]
    },
    {
     "name": "stdout",
     "output_type": "stream",
     "text": [
      "15600 TRAIN cind: 0.896 \t TEST cind: 0.676 [1092, 524, 0]\n"
     ]
    },
    {
     "name": "stdout",
     "output_type": "stream",
     "text": [
      "16000 TRAIN cind: 0.898 \t TEST cind: 0.675 [1091, 525, 0]\n"
     ]
    },
    {
     "name": "stdout",
     "output_type": "stream",
     "text": [
      "16400 TRAIN cind: 0.9 \t TEST cind: 0.676 [1092, 524, 0]\n"
     ]
    },
    {
     "name": "stdout",
     "output_type": "stream",
     "text": [
      "16800 TRAIN cind: 0.902 \t TEST cind: 0.677 [1094, 522, 0]\n"
     ]
    },
    {
     "name": "stdout",
     "output_type": "stream",
     "text": [
      "17200 TRAIN cind: 0.904 \t TEST cind: 0.677 [1094, 522, 0]\n"
     ]
    },
    {
     "name": "stdout",
     "output_type": "stream",
     "text": [
      "17600 TRAIN cind: 0.906 \t TEST cind: 0.676 [1093, 523, 0]\n"
     ]
    },
    {
     "name": "stdout",
     "output_type": "stream",
     "text": [
      "18000 TRAIN cind: 0.908 \t TEST cind: 0.677 [1094, 522, 0]\n"
     ]
    },
    {
     "name": "stdout",
     "output_type": "stream",
     "text": [
      "18400 TRAIN cind: 0.91 \t TEST cind: 0.676 [1093, 523, 0]\n"
     ]
    },
    {
     "name": "stdout",
     "output_type": "stream",
     "text": [
      "18800 TRAIN cind: 0.912 \t TEST cind: 0.676 [1092, 524, 0]\n"
     ]
    },
    {
     "name": "stdout",
     "output_type": "stream",
     "text": [
      "19200 TRAIN cind: 0.913 \t TEST cind: 0.673 [1087, 529, 0]\n"
     ]
    },
    {
     "name": "stdout",
     "output_type": "stream",
     "text": [
      "19600 TRAIN cind: 0.915 \t TEST cind: 0.673 [1087, 529, 0]\n"
     ]
    },
    {
     "name": "stdout",
     "output_type": "stream",
     "text": [
      "20000 TRAIN cind: 0.917 \t TEST cind: 0.672 [1086, 530, 0]\n"
     ]
    },
    {
     "name": "stdout",
     "output_type": "stream",
     "text": [
      "20400 TRAIN cind: 0.919 \t TEST cind: 0.672 [1086, 530, 0]\n"
     ]
    },
    {
     "name": "stdout",
     "output_type": "stream",
     "text": [
      "20800 TRAIN cind: 0.921 \t TEST cind: 0.671 [1085, 531, 0]\n"
     ]
    },
    {
     "name": "stdout",
     "output_type": "stream",
     "text": [
      "21200 TRAIN cind: 0.922 \t TEST cind: 0.671 [1084, 532, 0]\n"
     ]
    },
    {
     "name": "stdout",
     "output_type": "stream",
     "text": [
      "21600 TRAIN cind: 0.924 \t TEST cind: 0.671 [1085, 531, 0]\n"
     ]
    },
    {
     "name": "stdout",
     "output_type": "stream",
     "text": [
      "22000 TRAIN cind: 0.925 \t TEST cind: 0.671 [1085, 531, 0]\n"
     ]
    },
    {
     "name": "stdout",
     "output_type": "stream",
     "text": [
      "22400 TRAIN cind: 0.926 \t TEST cind: 0.671 [1085, 531, 0]\n"
     ]
    },
    {
     "name": "stdout",
     "output_type": "stream",
     "text": [
      "22800 TRAIN cind: 0.928 \t TEST cind: 0.67 [1083, 533, 0]\n"
     ]
    },
    {
     "name": "stdout",
     "output_type": "stream",
     "text": [
      "23200 TRAIN cind: 0.929 \t TEST cind: 0.67 [1082, 534, 0]\n"
     ]
    },
    {
     "name": "stdout",
     "output_type": "stream",
     "text": [
      "23600 TRAIN cind: 0.93 \t TEST cind: 0.67 [1082, 534, 0]\n"
     ]
    },
    {
     "name": "stdout",
     "output_type": "stream",
     "text": [
      "24000 TRAIN cind: 0.932 \t TEST cind: 0.67 [1083, 533, 0]\n"
     ]
    },
    {
     "name": "stdout",
     "output_type": "stream",
     "text": [
      "24400 TRAIN cind: 0.933 \t TEST cind: 0.668 [1080, 536, 0]\n"
     ]
    },
    {
     "name": "stdout",
     "output_type": "stream",
     "text": [
      "24800 TRAIN cind: 0.934 \t TEST cind: 0.666 [1077, 539, 0]\n"
     ]
    },
    {
     "name": "stdout",
     "output_type": "stream",
     "text": [
      "25200 TRAIN cind: 0.936 \t TEST cind: 0.666 [1077, 539, 0]\n"
     ]
    },
    {
     "name": "stdout",
     "output_type": "stream",
     "text": [
      "25600 TRAIN cind: 0.937 \t TEST cind: 0.666 [1076, 540, 0]\n"
     ]
    },
    {
     "name": "stdout",
     "output_type": "stream",
     "text": [
      "26000 TRAIN cind: 0.938 \t TEST cind: 0.665 [1075, 541, 0]\n"
     ]
    },
    {
     "name": "stdout",
     "output_type": "stream",
     "text": [
      "26400 TRAIN cind: 0.94 \t TEST cind: 0.665 [1074, 542, 0]\n"
     ]
    },
    {
     "name": "stdout",
     "output_type": "stream",
     "text": [
      "26800 TRAIN cind: 0.941 \t TEST cind: 0.664 [1073, 543, 0]\n"
     ]
    },
    {
     "name": "stdout",
     "output_type": "stream",
     "text": [
      "27200 TRAIN cind: 0.942 \t TEST cind: 0.665 [1074, 542, 0]\n"
     ]
    },
    {
     "name": "stdout",
     "output_type": "stream",
     "text": [
      "27600 TRAIN cind: 0.943 \t TEST cind: 0.665 [1075, 541, 0]\n"
     ]
    },
    {
     "name": "stdout",
     "output_type": "stream",
     "text": [
      "28000 TRAIN cind: 0.944 \t TEST cind: 0.665 [1075, 541, 0]\n"
     ]
    },
    {
     "name": "stdout",
     "output_type": "stream",
     "text": [
      "28400 TRAIN cind: 0.945 \t TEST cind: 0.664 [1073, 543, 0]\n"
     ]
    },
    {
     "name": "stdout",
     "output_type": "stream",
     "text": [
      "28800 TRAIN cind: 0.946 \t TEST cind: 0.662 [1069, 547, 0]\n"
     ]
    },
    {
     "name": "stdout",
     "output_type": "stream",
     "text": [
      "29200 TRAIN cind: 0.947 \t TEST cind: 0.661 [1068, 548, 0]\n"
     ]
    },
    {
     "name": "stdout",
     "output_type": "stream",
     "text": [
      "29600 TRAIN cind: 0.948 \t TEST cind: 0.66 [1066, 550, 0]\n"
     ]
    },
    {
     "name": "stdout",
     "output_type": "stream",
     "text": [
      "30000 TRAIN cind: 0.949 \t TEST cind: 0.66 [1066, 550, 0]\n",
      "nb genes : 19962\n",
      "nb patients : 1049\n",
      "% uncensored : 0.14013346043851288\n"
     ]
    },
    {
     "name": "stdout",
     "output_type": "stream",
     "text": [
      "1 TRAIN cind: 0.515 \t TEST cind: 0.545 [1433, 1194, 0]\n"
     ]
    },
    {
     "name": "stdout",
     "output_type": "stream",
     "text": [
      "400 TRAIN cind: 0.608 \t TEST cind: 0.566 [1487, 1140, 0]\n"
     ]
    },
    {
     "name": "stdout",
     "output_type": "stream",
     "text": [
      "800 TRAIN cind: 0.707 \t TEST cind: 0.604 [1588, 1039, 0]\n"
     ]
    },
    {
     "name": "stdout",
     "output_type": "stream",
     "text": [
      "1200 TRAIN cind: 0.78 \t TEST cind: 0.63 [1654, 973, 0]\n"
     ]
    },
    {
     "name": "stdout",
     "output_type": "stream",
     "text": [
      "1600 TRAIN cind: 0.831 \t TEST cind: 0.649 [1704, 923, 0]\n"
     ]
    },
    {
     "name": "stdout",
     "output_type": "stream",
     "text": [
      "2000 TRAIN cind: 0.866 \t TEST cind: 0.675 [1772, 855, 0]\n"
     ]
    },
    {
     "name": "stdout",
     "output_type": "stream",
     "text": [
      "2400 TRAIN cind: 0.891 \t TEST cind: 0.687 [1805, 822, 0]\n"
     ]
    },
    {
     "name": "stdout",
     "output_type": "stream",
     "text": [
      "2800 TRAIN cind: 0.909 \t TEST cind: 0.697 [1831, 796, 0]\n"
     ]
    },
    {
     "name": "stdout",
     "output_type": "stream",
     "text": [
      "3200 TRAIN cind: 0.924 \t TEST cind: 0.71 [1864, 763, 0]\n"
     ]
    },
    {
     "name": "stdout",
     "output_type": "stream",
     "text": [
      "3600 TRAIN cind: 0.933 \t TEST cind: 0.719 [1889, 738, 0]\n"
     ]
    },
    {
     "name": "stdout",
     "output_type": "stream",
     "text": [
      "4000 TRAIN cind: 0.941 \t TEST cind: 0.726 [1907, 720, 0]\n"
     ]
    },
    {
     "name": "stdout",
     "output_type": "stream",
     "text": [
      "4400 TRAIN cind: 0.949 \t TEST cind: 0.73 [1917, 710, 0]\n"
     ]
    },
    {
     "name": "stdout",
     "output_type": "stream",
     "text": [
      "4800 TRAIN cind: 0.954 \t TEST cind: 0.732 [1924, 703, 0]\n"
     ]
    },
    {
     "name": "stdout",
     "output_type": "stream",
     "text": [
      "5200 TRAIN cind: 0.959 \t TEST cind: 0.736 [1933, 694, 0]\n"
     ]
    },
    {
     "name": "stdout",
     "output_type": "stream",
     "text": [
      "5600 TRAIN cind: 0.963 \t TEST cind: 0.742 [1948, 679, 0]\n"
     ]
    },
    {
     "name": "stdout",
     "output_type": "stream",
     "text": [
      "6000 TRAIN cind: 0.966 \t TEST cind: 0.741 [1947, 680, 0]\n"
     ]
    },
    {
     "name": "stdout",
     "output_type": "stream",
     "text": [
      "6400 TRAIN cind: 0.969 \t TEST cind: 0.74 [1945, 682, 0]\n"
     ]
    },
    {
     "name": "stdout",
     "output_type": "stream",
     "text": [
      "6800 TRAIN cind: 0.971 \t TEST cind: 0.74 [1944, 683, 0]\n"
     ]
    },
    {
     "name": "stdout",
     "output_type": "stream",
     "text": [
      "7200 TRAIN cind: 0.974 \t TEST cind: 0.74 [1945, 682, 0]\n"
     ]
    },
    {
     "name": "stdout",
     "output_type": "stream",
     "text": [
      "7600 TRAIN cind: 0.976 \t TEST cind: 0.74 [1944, 683, 0]\n"
     ]
    },
    {
     "name": "stdout",
     "output_type": "stream",
     "text": [
      "8000 TRAIN cind: 0.978 \t TEST cind: 0.74 [1945, 682, 0]\n"
     ]
    },
    {
     "name": "stdout",
     "output_type": "stream",
     "text": [
      "8400 TRAIN cind: 0.98 \t TEST cind: 0.743 [1952, 675, 0]\n"
     ]
    },
    {
     "name": "stdout",
     "output_type": "stream",
     "text": [
      "8800 TRAIN cind: 0.981 \t TEST cind: 0.744 [1954, 673, 0]\n"
     ]
    },
    {
     "name": "stdout",
     "output_type": "stream",
     "text": [
      "9200 TRAIN cind: 0.982 \t TEST cind: 0.745 [1957, 670, 0]\n"
     ]
    },
    {
     "name": "stdout",
     "output_type": "stream",
     "text": [
      "9600 TRAIN cind: 0.984 \t TEST cind: 0.743 [1952, 675, 0]\n"
     ]
    },
    {
     "name": "stdout",
     "output_type": "stream",
     "text": [
      "10000 TRAIN cind: 0.985 \t TEST cind: 0.743 [1951, 676, 0]\n"
     ]
    },
    {
     "name": "stdout",
     "output_type": "stream",
     "text": [
      "10400 TRAIN cind: 0.987 \t TEST cind: 0.743 [1951, 676, 0]\n"
     ]
    },
    {
     "name": "stdout",
     "output_type": "stream",
     "text": [
      "10800 TRAIN cind: 0.987 \t TEST cind: 0.741 [1946, 681, 0]\n"
     ]
    },
    {
     "name": "stdout",
     "output_type": "stream",
     "text": [
      "11200 TRAIN cind: 0.988 \t TEST cind: 0.742 [1948, 679, 0]\n"
     ]
    },
    {
     "name": "stdout",
     "output_type": "stream",
     "text": [
      "11600 TRAIN cind: 0.989 \t TEST cind: 0.742 [1950, 677, 0]\n"
     ]
    },
    {
     "name": "stdout",
     "output_type": "stream",
     "text": [
      "12000 TRAIN cind: 0.99 \t TEST cind: 0.742 [1950, 677, 0]\n"
     ]
    },
    {
     "name": "stdout",
     "output_type": "stream",
     "text": [
      "12400 TRAIN cind: 0.99 \t TEST cind: 0.742 [1950, 677, 0]\n"
     ]
    },
    {
     "name": "stdout",
     "output_type": "stream",
     "text": [
      "12800 TRAIN cind: 0.991 \t TEST cind: 0.743 [1952, 675, 0]\n"
     ]
    },
    {
     "name": "stdout",
     "output_type": "stream",
     "text": [
      "13200 TRAIN cind: 0.991 \t TEST cind: 0.742 [1949, 678, 0]\n"
     ]
    },
    {
     "name": "stdout",
     "output_type": "stream",
     "text": [
      "13600 TRAIN cind: 0.992 \t TEST cind: 0.743 [1951, 676, 0]\n"
     ]
    },
    {
     "name": "stdout",
     "output_type": "stream",
     "text": [
      "14000 TRAIN cind: 0.993 \t TEST cind: 0.742 [1948, 679, 0]\n"
     ]
    },
    {
     "name": "stdout",
     "output_type": "stream",
     "text": [
      "14400 TRAIN cind: 0.993 \t TEST cind: 0.742 [1948, 679, 0]\n"
     ]
    },
    {
     "name": "stdout",
     "output_type": "stream",
     "text": [
      "14800 TRAIN cind: 0.994 \t TEST cind: 0.742 [1948, 679, 0]\n"
     ]
    },
    {
     "name": "stdout",
     "output_type": "stream",
     "text": [
      "15200 TRAIN cind: 0.994 \t TEST cind: 0.742 [1949, 678, 0]\n"
     ]
    },
    {
     "name": "stdout",
     "output_type": "stream",
     "text": [
      "15600 TRAIN cind: 0.994 \t TEST cind: 0.743 [1951, 676, 0]\n"
     ]
    },
    {
     "name": "stdout",
     "output_type": "stream",
     "text": [
      "16000 TRAIN cind: 0.995 \t TEST cind: 0.744 [1954, 673, 0]\n"
     ]
    },
    {
     "name": "stdout",
     "output_type": "stream",
     "text": [
      "16400 TRAIN cind: 0.995 \t TEST cind: 0.745 [1956, 671, 0]\n"
     ]
    },
    {
     "name": "stdout",
     "output_type": "stream",
     "text": [
      "16800 TRAIN cind: 0.995 \t TEST cind: 0.745 [1957, 670, 0]\n"
     ]
    },
    {
     "name": "stdout",
     "output_type": "stream",
     "text": [
      "17200 TRAIN cind: 0.996 \t TEST cind: 0.745 [1957, 670, 0]\n"
     ]
    },
    {
     "name": "stdout",
     "output_type": "stream",
     "text": [
      "17600 TRAIN cind: 0.996 \t TEST cind: 0.745 [1956, 671, 0]\n"
     ]
    },
    {
     "name": "stdout",
     "output_type": "stream",
     "text": [
      "18000 TRAIN cind: 0.996 \t TEST cind: 0.745 [1957, 670, 0]\n"
     ]
    },
    {
     "name": "stdout",
     "output_type": "stream",
     "text": [
      "18400 TRAIN cind: 0.996 \t TEST cind: 0.746 [1961, 666, 0]\n"
     ]
    },
    {
     "name": "stdout",
     "output_type": "stream",
     "text": [
      "18800 TRAIN cind: 0.997 \t TEST cind: 0.747 [1962, 665, 0]\n"
     ]
    },
    {
     "name": "stdout",
     "output_type": "stream",
     "text": [
      "19200 TRAIN cind: 0.997 \t TEST cind: 0.746 [1961, 666, 0]\n"
     ]
    },
    {
     "name": "stdout",
     "output_type": "stream",
     "text": [
      "19600 TRAIN cind: 0.997 \t TEST cind: 0.747 [1962, 665, 0]\n"
     ]
    },
    {
     "name": "stdout",
     "output_type": "stream",
     "text": [
      "20000 TRAIN cind: 0.997 \t TEST cind: 0.748 [1964, 663, 0]\n"
     ]
    },
    {
     "name": "stdout",
     "output_type": "stream",
     "text": [
      "20400 TRAIN cind: 0.997 \t TEST cind: 0.749 [1967, 660, 0]\n"
     ]
    },
    {
     "name": "stdout",
     "output_type": "stream",
     "text": [
      "20800 TRAIN cind: 0.998 \t TEST cind: 0.75 [1971, 656, 0]\n"
     ]
    },
    {
     "name": "stdout",
     "output_type": "stream",
     "text": [
      "21200 TRAIN cind: 0.998 \t TEST cind: 0.751 [1973, 654, 0]\n"
     ]
    },
    {
     "name": "stdout",
     "output_type": "stream",
     "text": [
      "21600 TRAIN cind: 0.998 \t TEST cind: 0.751 [1974, 653, 0]\n"
     ]
    },
    {
     "name": "stdout",
     "output_type": "stream",
     "text": [
      "22000 TRAIN cind: 0.998 \t TEST cind: 0.751 [1974, 653, 0]\n"
     ]
    },
    {
     "name": "stdout",
     "output_type": "stream",
     "text": [
      "22400 TRAIN cind: 0.998 \t TEST cind: 0.751 [1973, 654, 0]\n"
     ]
    },
    {
     "name": "stdout",
     "output_type": "stream",
     "text": [
      "22800 TRAIN cind: 0.998 \t TEST cind: 0.752 [1975, 652, 0]\n"
     ]
    },
    {
     "name": "stdout",
     "output_type": "stream",
     "text": [
      "23200 TRAIN cind: 0.998 \t TEST cind: 0.753 [1978, 649, 0]\n"
     ]
    },
    {
     "name": "stdout",
     "output_type": "stream",
     "text": [
      "23600 TRAIN cind: 0.998 \t TEST cind: 0.753 [1979, 648, 0]\n"
     ]
    },
    {
     "name": "stdout",
     "output_type": "stream",
     "text": [
      "24000 TRAIN cind: 0.998 \t TEST cind: 0.753 [1979, 648, 0]\n"
     ]
    },
    {
     "name": "stdout",
     "output_type": "stream",
     "text": [
      "24400 TRAIN cind: 0.999 \t TEST cind: 0.754 [1982, 645, 0]\n"
     ]
    },
    {
     "name": "stdout",
     "output_type": "stream",
     "text": [
      "24800 TRAIN cind: 0.999 \t TEST cind: 0.755 [1984, 643, 0]\n"
     ]
    },
    {
     "name": "stdout",
     "output_type": "stream",
     "text": [
      "25200 TRAIN cind: 0.999 \t TEST cind: 0.755 [1983, 644, 0]\n"
     ]
    },
    {
     "name": "stdout",
     "output_type": "stream",
     "text": [
      "25600 TRAIN cind: 0.999 \t TEST cind: 0.754 [1982, 645, 0]\n"
     ]
    },
    {
     "name": "stdout",
     "output_type": "stream",
     "text": [
      "26000 TRAIN cind: 0.999 \t TEST cind: 0.754 [1982, 645, 0]\n"
     ]
    },
    {
     "name": "stdout",
     "output_type": "stream",
     "text": [
      "26400 TRAIN cind: 0.999 \t TEST cind: 0.754 [1982, 645, 0]\n"
     ]
    },
    {
     "name": "stdout",
     "output_type": "stream",
     "text": [
      "26800 TRAIN cind: 0.999 \t TEST cind: 0.754 [1981, 646, 0]\n"
     ]
    },
    {
     "name": "stdout",
     "output_type": "stream",
     "text": [
      "27200 TRAIN cind: 0.999 \t TEST cind: 0.755 [1983, 644, 0]\n"
     ]
    },
    {
     "name": "stdout",
     "output_type": "stream",
     "text": [
      "27600 TRAIN cind: 0.999 \t TEST cind: 0.756 [1987, 640, 0]\n"
     ]
    },
    {
     "name": "stdout",
     "output_type": "stream",
     "text": [
      "28000 TRAIN cind: 0.999 \t TEST cind: 0.758 [1990, 637, 0]\n"
     ]
    }
   ],
   "source": [
    "#### validation cox-ridge\n",
    "\n",
    "include(\"engines/init.jl\")\n",
    "include(\"engines/data_processing.jl\")\n",
    "include(\"engines/deep_learning.jl\")\n",
    "include(\"engines/cross_validation.jl\")\n",
    "outpath, session_id = set_dirs() ;\n",
    "device!()\n",
    "LAML = MLSurvDataset(\"Data/LGN_AML_tpm_n300_btypes_labels_surv.h5\") \n",
    "LGG = MLSurvDataset(\"Data/TCGA_LGG_tpm_n513_btypes_labels_surv.h5\")\n",
    "OV = MLSurvDataset(\"Data/TCGA_OV_tpm_n420_btypes_labels_surv.h5\")\n",
    "BRCA = MLSurvDataset(\"Data/TCGA_BRCA_tpm_n1049_btypes_labels_surv.h5\")\n",
    "\n",
    "function format_train_test(fold; device = gpu)\n",
    "    # NO ordering ! \n",
    "    nsamples = size(fold[\"train_x\"])[1]\n",
    "    ordering = sortperm(-fold[\"Y_t_train\"])\n",
    "    train_x = device(Matrix(fold[\"train_x\"][ordering,:]'));\n",
    "    train_y_t = device(Matrix(fold[\"Y_t_train\"][ordering,:]'));\n",
    "    train_y_e = device(Matrix(fold[\"Y_e_train\"][ordering,:]'));\n",
    "    NE_frac_tr = sum(train_y_e .== 1) != 0 ? 1 / sum(train_y_e .== 1) : 0\n",
    "\n",
    "    nsamples = size(fold[\"test_x\"])[1]\n",
    "    ordering = sortperm(-fold[\"Y_t_test\"])\n",
    "    test_x = device(Matrix(fold[\"test_x\"][ordering,:]'));\n",
    "    test_y_t = device(Matrix(fold[\"Y_t_test\"][ordering,:]'));\n",
    "    test_y_e = device(Matrix(fold[\"Y_e_test\"][ordering,:]'));\n",
    "    NE_frac_tst = sum(test_y_e .== 1) != 0 ? 1 / sum(test_y_e .== 1) : 0\n",
    "    return train_x, train_y_t, train_y_e, NE_frac_tr, test_x, test_y_t, test_y_e, NE_frac_tst\n",
    "end \n",
    "\n",
    "\n",
    "function data_prep(DATA;nfolds = 5, nepochs =2000, dim_redux= 125, dataset=\"NA\")\n",
    "    keep = [occursin(\"protein_coding\", bt) for bt in DATA.biotypes]\n",
    "    println(\"nb genes : $(sum(keep))\")\n",
    "    println(\"nb patients : $(size(DATA.samples)[1])\")\n",
    "    println(\"% uncensored : $(mean(DATA.surve .!= 0))\")\n",
    "    params_dict = Dict(\n",
    "            ## run infos \n",
    "            \"session_id\" => session_id, \"nfolds\" =>5,  \"modelid\" => \"$(bytes2hex(sha256(\"$(now())\"))[1:Int(floor(end/3))])\",\n",
    "            \"machine_id\"=>strip(read(`hostname`, String)), \"device\" => \"$(device())\", \"model_title\"=>\"AECPHDNN\",\n",
    "            ## data infos \n",
    "            \"dataset\" => dataset, \"nsamples\" => size(DATA.samples)[1],\n",
    "            \"nsamples_test\" => Int(round(size(DATA.samples)[1] / nfolds)), \"ngenes\" => size(DATA.genes[keep])[1],\n",
    "            \"nsamples_train\" => size(DATA.samples)[1] - Int(round(size(DATA.samples)[1] / nfolds)),\n",
    "            ## optim infos \n",
    "            \"nepochs\" => nepochs, \"ae_lr\" =>1e-6, \"cph_lr\" => 1e-5, \"ae_wd\" => 1e-6, \"cph_wd\" => 1e-4,\n",
    "            ## model infos\n",
    "            \"model_type\"=> \"cphdnn_v5\", \"dim_redux\" => dim_redux, \"ae_nb_hls\" => 2,\n",
    "            \"enc_nb_hl\" => 2, \"enc_hl_size\"=> 128,\n",
    "            \"venc_nb_hl\" => 2, \"venc_hl_size\"=> 128,  \"dec_nb_hl\" => 2 , \"dec_hl_size\"=> 128,\n",
    "            \"nb_clinf\" => 0, \"cph_nb_hl\" => 2, \"cph_hl_size\" => 64, \n",
    "            \"insize\" => size(DATA.genes[keep])[1],\n",
    "            ## metrics\n",
    "            \"model_cv_complete\" => false\n",
    "        )\n",
    "    # split train test\n",
    "    folds = split_train_test(Matrix(DATA.data[:,keep]), DATA.survt, DATA.surve, DATA.samples;nfolds =5)\n",
    "    fold = folds[1]\n",
    "    # format input data  \n",
    "    train_x, train_y_t, train_y_e, NE_frac_tr, test_x, test_y_t, test_y_e, NE_frac_tst = format_train_test(fold)\n",
    "\n",
    "    return train_x, train_y_t, train_y_e, NE_frac_tr, test_x, test_y_t, test_y_e, NE_frac_tst, params_dict\n",
    "end\n",
    "\n",
    "function cox_nll_vec(mdl::Chain, X_, Y_e_, NE_frac)\n",
    "    outs = vec(mdl(X_))\n",
    "    #outs = vec(mdl.cphdnn(mdl.encoder(X_)))\n",
    "    hazard_ratios = exp.(outs)\n",
    "    log_risk = log.(cumsum(hazard_ratios))\n",
    "    uncensored_likelihood = outs .- log_risk\n",
    "    censored_likelihood = uncensored_likelihood .* Y_e_'\n",
    "    #neg_likelihood = - sum(censored_likelihood) / sum(e .== 1)\n",
    "    neg_likelihood = - sum(censored_likelihood) * NE_frac\n",
    "    return neg_likelihood\n",
    "end \n",
    "\n",
    "function validate_cox_ridge(DATASET)\n",
    "    train_x, train_y_t, train_y_e, NE_frac_tr, test_x, test_y_t, test_y_e, NE_frac_tst, params_dict = data_prep(DATASET;nepochs = 30_000)\n",
    "    cox_ridge = gpu(Chain(Dense(params_dict[\"insize\"], 1, bias = true)))\n",
    "    opt1 = Flux.ADAM(1e-6) ## opt VENC-CPHDNN\n",
    "    wd = params_dict[\"cph_wd\"]\n",
    "    for i in 1:params_dict[\"nepochs\"]\n",
    "        ps1 = Flux.params(cox_ridge)\n",
    "        gs1 = gradient(ps1) do \n",
    "            cox_nll_vec(cox_ridge, train_x, train_y_e, NE_frac_tr) + l2_penalty(cox_ridge) * wd \n",
    "        end \n",
    "        vaecox_loss =  round(cox_nll_vec(cox_ridge, train_x, train_y_e, NE_frac_tr) + l2_penalty(cox_ridge) * wd , digits = 3)  \n",
    "        OUTS_tr = cox_ridge(train_x)\n",
    "        OUTS_tst = cox_ridge(test_x)\n",
    "        \n",
    "        cind_tr, cdnt_tr, ddnt_tr, tied_tr  = concordance_index(train_y_t, train_y_e, -1 * OUTS_tr)\n",
    "        cind_test,cdnt_tst, ddnt_tst, tied_tst = concordance_index(test_y_t, test_y_e, -1 *OUTS_tst)\n",
    "        \n",
    "        if i%400 ==0 || i == 1\n",
    "        println(\"$i TRAIN cind: $(round(cind_tr, digits = 3)) \\t TEST cind: $(round(cind_test, digits = 3)) [$(Int(cdnt_tst)), $(Int(ddnt_tst)), $(Int(tied_tst))]\")\n",
    "        end \n",
    "        Flux.update!(opt1,ps1, gs1)\n",
    "        #Flux.update!(opt2,ps2, gs2)\n",
    "        params_dict[\"cph_tst_c_ind\"] = cind_test\n",
    "        params_dict[\"cph_train_c_ind\"] = cind_tr\n",
    "        params_dict[\"step\"] = i \n",
    "    end\n",
    "    model_params_path = \"$(params_dict[\"session_id\"])/$(params_dict[\"model_type\"])_$(params_dict[\"modelid\"])\"\n",
    "    mkdir(\"RES/$model_params_path\")\n",
    "    bson(\"RES/$model_params_path/params.bson\",params_dict)\n",
    "end \n",
    "\n",
    "for rep_id in 1:50\n",
    "    validate_cox_ridge(LAML)\n",
    "    validate_cox_ridge(BRCA)\n",
    "    validate_cox_ridge(OV)\n",
    "    validate_cox_ridge(LGG)    \n",
    "end "
   ]
  },
  {
   "cell_type": "code",
   "execution_count": 28,
   "metadata": {},
   "outputs": [
    {
     "data": {
      "text/plain": [
       "Chain(\n",
       "  Dense(14996 => 1; bias=false),        \u001b[90m# 14_996 parameters\u001b[39m\n",
       ") "
      ]
     },
     "metadata": {},
     "output_type": "display_data"
    }
   ],
   "source": [
    "cox_ridge = gpu(Chain(Dense(params_dict[\"insize\"], 1, bias = false)))"
   ]
  },
  {
   "cell_type": "code",
   "execution_count": 37,
   "metadata": {},
   "outputs": [
    {
     "data": {
      "text/plain": [
       "4.958"
      ]
     },
     "metadata": {},
     "output_type": "display_data"
    }
   ],
   "source": [
    "ps1 = Flux.params(cox_ridge)\n",
    "gs1 = gradient(ps1) do \n",
    "    cox_nll_vec(cox_ridge, train_x, train_y_e, NE_frac_tr) + l2_penalty(cox_ridge)\n",
    "end \n",
    "Flux.update!(opt1,ps1, gs1)\n",
    "vaecox_loss =  round(cox_nll_vec(cox_ridge, train_x, train_y_e, NE_frac_tr) + l2_penalty(cox_ridge) * wd , digits = 3)  \n",
    "    "
   ]
  },
  {
   "cell_type": "code",
   "execution_count": 15,
   "metadata": {},
   "outputs": [
    {
     "data": {
      "text/plain": [
       "format_train_test (generic function with 1 method)"
      ]
     },
     "metadata": {},
     "output_type": "display_data"
    }
   ],
   "source": [
    "function format_train_test(fold; device = gpu)\n",
    "    nsamples = size(fold[\"train_x\"])[1]\n",
    "    ordering = sortperm(-fold[\"Y_t_train\"])\n",
    "    train_x = device(Matrix(fold[\"train_x\"][ordering,:]'));\n",
    "    train_y_t = device(Matrix(fold[\"Y_t_train\"][ordering,:]'));\n",
    "    train_y_e = device(Matrix(fold[\"Y_e_train\"][ordering,:]'));\n",
    "    NE_frac_tr = sum(train_y_e .== 1) != 0 ? 1 / sum(train_y_e .== 1) : 0\n",
    "\n",
    "    nsamples = size(fold[\"test_x\"])[1]\n",
    "    ordering = sortperm(-fold[\"Y_t_test\"])\n",
    "    test_x = device(Matrix(fold[\"test_x\"][ordering,:]'));\n",
    "    test_y_t = device(Matrix(fold[\"Y_t_test\"][ordering,:]'));\n",
    "    test_y_e = device(Matrix(fold[\"Y_e_test\"][ordering,:]'));\n",
    "    NE_frac_tst = sum(test_y_e .== 1) != 0 ? 1 / sum(test_y_e .== 1) : 0\n",
    "    return train_x, train_y_t, train_y_e, NE_frac_tr, test_x, test_y_t, test_y_e, NE_frac_tst\n",
    "end "
   ]
  },
  {
   "cell_type": "code",
   "execution_count": 16,
   "metadata": {},
   "outputs": [
    {
     "data": {
      "text/plain": [
       "data_prep (generic function with 1 method)"
      ]
     },
     "metadata": {},
     "output_type": "display_data"
    }
   ],
   "source": [
    "\n",
    "function data_prep(DATA;nfolds = 5, nepochs =1000, dim_redux= 125)\n",
    "    keep = [occursin(\"protein_coding\", bt) for bt in DATA.biotypes]\n",
    "    println(\"nb genes : $(sum(keep))\")\n",
    "    println(\"nb patients : $(size(DATA.samples)[1])\")\n",
    "    println(\"% uncensored : $(mean(DATA.surve .!= 0))\")\n",
    "    params_dict = Dict(\n",
    "            ## run infos \n",
    "            \"session_id\" => session_id, \"nfolds\" =>5,  \"modelid\" => \"$(bytes2hex(sha256(\"$(now())\"))[1:Int(floor(end/3))])\",\n",
    "            \"machine_id\"=>strip(read(`hostname`, String)), \"device\" => \"$(device())\", \"model_title\"=>\"AECPHDNN\",\n",
    "            ## data infos \n",
    "            \"dataset\" => \"BRCA_data(norm=true)\", \"nsamples\" => size(DATA.samples)[1],\n",
    "            \"nsamples_test\" => Int(round(size(DATA.samples)[1] / nfolds)), \"ngenes\" => size(DATA.genes[keep])[1],\n",
    "            \"nsamples_train\" => size(DATA.samples)[1] - Int(round(size(DATA.samples)[1] / nfolds)),\n",
    "            ## optim infos \n",
    "            \"nepochs\" => nepochs, \"ae_lr\" =>1e-6, \"cph_lr\" => 1e-5, \"ae_wd\" => 1e-6, \"cph_wd\" => 1e-6,\n",
    "            ## model infos\n",
    "            \"model_type\"=> \"vaecox\", \"dim_redux\" => dim_redux, \"ae_nb_hls\" => 2,\n",
    "            \"enc_nb_hl\" => 2, \"enc_hl_size\"=> 128,\n",
    "            \"venc_nb_hl\" => 2, \"venc_hl_size\"=> 128,  \"dec_nb_hl\" => 2 , \"dec_hl_size\"=> 128,\n",
    "            \"nb_clinf\" => 0, \"cph_nb_hl\" => 2, \"cph_hl_size\" => 64, \n",
    "            \"insize\" => size(DATA.genes[keep])[1],\n",
    "            ## metrics\n",
    "            \"model_cv_complete\" => false\n",
    "        )\n",
    "    # split train test\n",
    "    folds = split_train_test(Matrix(DATA.data[:,keep]), DATA.survt, DATA.surve, DATA.samples;nfolds =5)\n",
    "    fold = folds[1]\n",
    "    # format input data  \n",
    "    train_x, train_y_t, train_y_e, NE_frac_tr, test_x, test_y_t, test_y_e, NE_frac_tst = format_train_test(fold)\n",
    "\n",
    "    return train_x, train_y_t, train_y_e, NE_frac_tr, test_x, test_y_t, test_y_e, NE_frac_tst, params_dict\n",
    "end\n",
    "\n"
   ]
  },
  {
   "cell_type": "code",
   "execution_count": 17,
   "metadata": {},
   "outputs": [],
   "source": [
    "keep = [occursin(\"protein_coding\", bt) for bt in LAML.biotypes]\n",
    "m = fit(PCA, Matrix(LAML.data[:,keep]'));"
   ]
  },
  {
   "cell_type": "code",
   "execution_count": 18,
   "metadata": {},
   "outputs": [],
   "source": [
    "X_tr = Matrix(predict(m, Matrix(LAML.data[:,keep]') )');"
   ]
  },
  {
   "cell_type": "code",
   "execution_count": 19,
   "metadata": {},
   "outputs": [
    {
     "data": {
      "text/plain": [
       "data_prep_pca (generic function with 1 method)"
      ]
     },
     "metadata": {},
     "output_type": "display_data"
    }
   ],
   "source": [
    "function data_prep_pca(DATA;nfolds = 5, nepochs =1000, dim_redux= 125)\n",
    "    keep = [occursin(\"protein_coding\", bt) for bt in DATA.biotypes]\n",
    "    println(\"nb genes : $(sum(keep))\")\n",
    "    println(\"nb patients : $(size(DATA.samples)[1])\")\n",
    "    println(\"% uncensored : $(mean(DATA.surve .!= 0))\")\n",
    "    M = fit(PCA, Matrix(DATA.data[:,keep]'))\n",
    "    pca_data = Matrix(predict(M, Matrix(DATA.data[:,keep]') )')\n",
    "    params_dict = Dict(\n",
    "            ## run infos \n",
    "            \"session_id\" => session_id, \"nfolds\" =>5,  \"modelid\" => \"$(bytes2hex(sha256(\"$(now())\"))[1:Int(floor(end/3))])\",\n",
    "            \"machine_id\"=>strip(read(`hostname`, String)), \"device\" => \"$(device())\", \"model_title\"=>\"AECPHDNN\",\n",
    "            ## data infos \n",
    "            \"dataset\" => \"LAML_pca\", \"nsamples\" => size(DATA.samples)[1],\n",
    "            \"nsamples_test\" => Int(round(size(DATA.samples)[1] / nfolds)), \"ngenes\" => size(DATA.genes[keep])[1],\n",
    "            \"nsamples_train\" => size(DATA.samples)[1] - Int(round(size(DATA.samples)[1] / nfolds)),\n",
    "            ## optim infos \n",
    "            \"nepochs\" => nepochs, \"ae_lr\" =>1e-6, \"cph_lr\" => 1e-5, \"ae_wd\" => 1e-6, \"cph_wd\" => 1e-6,\n",
    "            ## model infos\n",
    "            \"model_type\"=> \"vaecox\", \"dim_redux\" => dim_redux, \"ae_nb_hls\" => 2,\n",
    "            \"enc_nb_hl\" => 2, \"enc_hl_size\"=> 128,\n",
    "            \"venc_nb_hl\" => 2, \"venc_hl_size\"=> 128,  \"dec_nb_hl\" => 2 , \"dec_hl_size\"=> 128,\n",
    "            \"nb_clinf\" => 0, \"cph_nb_hl\" => 2, \"cph_hl_size\" => 64, \n",
    "            \"insize\" => size(pca_data)[2],\n",
    "            ## metrics\n",
    "            \"model_cv_complete\" => false\n",
    "        )\n",
    "    # split train test\n",
    "    \n",
    "    folds = split_train_test(pca_data[:,1:30], DATA.survt, DATA.surve, DATA.samples;nfolds =5)\n",
    "    fold = folds[1]\n",
    "    # format input data  \n",
    "    train_x, train_y_t, train_y_e, NE_frac_tr, test_x, test_y_t, test_y_e, NE_frac_tst = format_train_test(fold)\n",
    "\n",
    "    return train_x, train_y_t, train_y_e, NE_frac_tr, test_x, test_y_t, test_y_e, NE_frac_tst, params_dict\n",
    "end"
   ]
  },
  {
   "cell_type": "code",
   "execution_count": 20,
   "metadata": {},
   "outputs": [
    {
     "data": {
      "text/plain": [
       "cox_nll_vec (generic function with 6 methods)"
      ]
     },
     "metadata": {},
     "output_type": "display_data"
    }
   ],
   "source": [
    "function cox_nll_vec(mdl::Chain, X_, Y_e_, NE_frac)\n",
    "    outs = vec(mdl(X_))\n",
    "    #outs = vec(mdl.cphdnn(mdl.encoder(X_)))\n",
    "    hazard_ratios = exp.(outs)\n",
    "    log_risk = log.(cumsum(hazard_ratios))\n",
    "    uncensored_likelihood = outs .- log_risk\n",
    "    censored_likelihood = uncensored_likelihood .* Y_e_'\n",
    "    #neg_likelihood = - sum(censored_likelihood) / sum(e .== 1)\n",
    "    neg_likelihood = - sum(censored_likelihood) * NE_frac\n",
    "    return neg_likelihood\n",
    "end "
   ]
  },
  {
   "cell_type": "code",
   "execution_count": 21,
   "metadata": {},
   "outputs": [
    {
     "data": {
      "text/plain": [
       "VAE_COX_loss (generic function with 1 method)"
      ]
     },
     "metadata": {},
     "output_type": "display_data"
    }
   ],
   "source": [
    "function VAE_COX_loss(VENC::VariationalEncoder, CPH, X, Y_e, NE_frac;device = gpu)\n",
    "    mu, log_sigma = VENC(X)\n",
    "    #z = mu + device(randn(Float32, size(log_sigma))) .* exp.(log_sigma)\n",
    "    outs = vec(CPH(mu))\n",
    "    hazard_ratios = exp.(outs)\n",
    "    log_risk = log.(cumsum(hazard_ratios))\n",
    "    uncensored_likelihood = outs .- log_risk\n",
    "    censored_likelihood = uncensored_likelihood .* Y_e'\n",
    "    #neg_likelihood = - sum(censored_likelihood) / sum(e .== 1)\n",
    "    neg_likelihood = - sum(censored_likelihood) * NE_frac\n",
    "    return neg_likelihood\n",
    "end "
   ]
  },
  {
   "cell_type": "code",
   "execution_count": 22,
   "metadata": {},
   "outputs": [
    {
     "data": {
      "text/plain": [
       "VariationalEncoder"
      ]
     },
     "metadata": {},
     "output_type": "display_data"
    }
   ],
   "source": [
    "function VariationalEncoder(input_dim::Int, latent_dim::Int, hidden_dim::Int;device = gpu) \n",
    "    return VariationalEncoder(\n",
    "    device(Chain(Dense(input_dim, hidden_dim, leakyrelu), Dense(hidden_dim,hidden_dim, leakyrelu))),   # linear\n",
    "    device(Dense(hidden_dim, latent_dim)),        # mu\n",
    "    device(Dense(hidden_dim, latent_dim)))        # log sigma\n",
    "end "
   ]
  },
  {
   "cell_type": "code",
   "execution_count": 23,
   "metadata": {},
   "outputs": [
    {
     "data": {
      "text/plain": [
       "l2_penalty (generic function with 7 methods)"
      ]
     },
     "metadata": {},
     "output_type": "display_data"
    }
   ],
   "source": [
    "function l2_penalty(model::VariationalEncoder)\n",
    "    l2_sum = 0\n",
    "    for wm in model.linear\n",
    "        l2_sum += sum(abs2, wm.weight)\n",
    "    end \n",
    "    l2_sum += sum(abs2, model.mu.weight)\n",
    "    l2_sum += sum(abs2, model.log_sigma.weight)\n",
    "    return l2_sum\n",
    "end"
   ]
  },
  {
   "cell_type": "code",
   "execution_count": 46,
   "metadata": {},
   "outputs": [
    {
     "name": "stdout",
     "output_type": "stream",
     "text": [
      "nb genes : 19962\n",
      "nb patients : 1049\n",
      "% uncensored : 0.14013346043851288\n"
     ]
    },
    {
     "name": "stdout",
     "output_type": "stream",
     "text": [
      "1 TRAIN 5.544 cind: 0.479 \t TEST ae-corr: 0.027 \tcind: 0.596 [1717, 1163, 0]\n"
     ]
    },
    {
     "name": "stdout",
     "output_type": "stream",
     "text": [
      "400 TRAIN 5.544 cind: 0.479 \t TEST ae-corr: 0.146 \tcind: 0.596 [1717, 1163, 0]\n"
     ]
    },
    {
     "name": "stdout",
     "output_type": "stream",
     "text": [
      "800 TRAIN 5.544 cind: 0.479 \t TEST ae-corr: 0.257 \tcind: 0.596 [1717, 1163, 0]\n"
     ]
    },
    {
     "name": "stdout",
     "output_type": "stream",
     "text": [
      "1200 TRAIN 5.544 cind: 0.479 \t TEST ae-corr: 0.39 \tcind: 0.596 [1717, 1163, 0]\n"
     ]
    },
    {
     "name": "stdout",
     "output_type": "stream",
     "text": [
      "1600 TRAIN 5.544 cind: 0.479 \t TEST ae-corr: 0.524 \tcind: 0.596 [1717, 1163, 0]\n"
     ]
    },
    {
     "name": "stdout",
     "output_type": "stream",
     "text": [
      "2000 TRAIN 5.544 cind: 0.479 \t TEST ae-corr: 0.567 \tcind: 0.596 [1717, 1163, 0]\n"
     ]
    },
    {
     "name": "stdout",
     "output_type": "stream",
     "text": [
      "2400 TRAIN 5.544 cind: 0.479 \t TEST ae-corr: 0.642 \tcind: 0.596 [1717, 1163, 0]\n"
     ]
    },
    {
     "name": "stdout",
     "output_type": "stream",
     "text": [
      "2800 TRAIN 5.544 cind: 0.479 \t TEST ae-corr: 0.679 \tcind: 0.596 [1717, 1163, 0]\n"
     ]
    },
    {
     "name": "stdout",
     "output_type": "stream",
     "text": [
      "1 TRAIN 5.542 cind: 0.479 \t TEST ae-corr: 0.693 \tcind: 0.596 [1717, 1163, 0]\n"
     ]
    },
    {
     "name": "stdout",
     "output_type": "stream",
     "text": [
      "400 TRAIN 5.504 cind: 0.492 \t TEST ae-corr: 0.695 \tcind: 0.592 [1704, 1176, 0]\n"
     ]
    },
    {
     "name": "stdout",
     "output_type": "stream",
     "text": [
      "800 TRAIN 5.468 cind: 0.507 \t TEST ae-corr: 0.701 \tcind: 0.592 [1706, 1174, 0]\n"
     ]
    },
    {
     "name": "stdout",
     "output_type": "stream",
     "text": [
      "1200 TRAIN 5.434 cind: 0.521 \t TEST ae-corr: 0.691 \tcind: 0.592 [1704, 1176, 0]\n"
     ]
    },
    {
     "name": "stdout",
     "output_type": "stream",
     "text": [
      "1600 TRAIN 5.403 cind: 0.537 \t TEST ae-corr: 0.706 \tcind: 0.585 [1686, 1194, 0]\n"
     ]
    },
    {
     "name": "stdout",
     "output_type": "stream",
     "text": [
      "2000 TRAIN 5.373 cind: 0.553 \t TEST ae-corr: 0.706 \tcind: 0.583 [1680, 1200, 0]\n"
     ]
    },
    {
     "name": "stdout",
     "output_type": "stream",
     "text": [
      "2400 TRAIN 5.344 cind: 0.571 \t TEST ae-corr: 0.697 \tcind: 0.581 [1674, 1206, 0]\n"
     ]
    },
    {
     "name": "stdout",
     "output_type": "stream",
     "text": [
      "2800 TRAIN 5.316 cind: 0.59 \t TEST ae-corr: 0.689 \tcind: 0.581 [1673, 1207, 0]\n"
     ]
    },
    {
     "name": "stdout",
     "output_type": "stream",
     "text": [
      "3200 TRAIN 5.29 cind: 0.607 \t TEST ae-corr: 0.654 \tcind: 0.585 [1686, 1194, 0]\n"
     ]
    },
    {
     "name": "stdout",
     "output_type": "stream",
     "text": [
      "3600 TRAIN 5.264 cind: 0.627 \t TEST ae-corr: 0.686 \tcind: 0.582 [1677, 1203, 0]\n"
     ]
    },
    {
     "name": "stdout",
     "output_type": "stream",
     "text": [
      "4000 TRAIN 5.239 cind: 0.645 \t TEST ae-corr: 0.706 \tcind: 0.582 [1677, 1203, 0]\n"
     ]
    },
    {
     "name": "stdout",
     "output_type": "stream",
     "text": [
      "4400 TRAIN 5.214 cind: 0.663 \t TEST ae-corr: 0.694 \tcind: 0.585 [1685, 1195, 0]\n"
     ]
    },
    {
     "name": "stdout",
     "output_type": "stream",
     "text": [
      "4800 TRAIN 5.191 cind: 0.68 \t TEST ae-corr: 0.698 \tcind: 0.586 [1688, 1192, 0]\n"
     ]
    },
    {
     "name": "stdout",
     "output_type": "stream",
     "text": [
      "5200 TRAIN 5.168 cind: 0.695 \t TEST ae-corr: 0.69 \tcind: 0.591 [1701, 1179, 0]\n"
     ]
    },
    {
     "name": "stdout",
     "output_type": "stream",
     "text": [
      "5600 TRAIN 5.145 cind: 0.71 \t TEST ae-corr: 0.699 \tcind: 0.59 [1699, 1181, 0]\n"
     ]
    },
    {
     "name": "stdout",
     "output_type": "stream",
     "text": [
      "6000 TRAIN 5.123 cind: 0.723 \t TEST ae-corr: 0.693 \tcind: 0.592 [1706, 1174, 0]\n"
     ]
    },
    {
     "name": "stdout",
     "output_type": "stream",
     "text": [
      "6400 TRAIN 5.102 cind: 0.735 \t TEST ae-corr: 0.702 \tcind: 0.594 [1712, 1168, 0]\n"
     ]
    },
    {
     "name": "stdout",
     "output_type": "stream",
     "text": [
      "6800 TRAIN 5.081 cind: 0.746 \t TEST ae-corr: 0.689 \tcind: 0.595 [1715, 1165, 0]\n"
     ]
    },
    {
     "name": "stdout",
     "output_type": "stream",
     "text": [
      "7200 TRAIN 5.06 cind: 0.755 \t TEST ae-corr: 0.699 \tcind: 0.599 [1725, 1155, 0]\n"
     ]
    },
    {
     "name": "stdout",
     "output_type": "stream",
     "text": [
      "7600 TRAIN 5.04 cind: 0.763 \t TEST ae-corr: 0.685 \tcind: 0.599 [1726, 1154, 0]\n"
     ]
    },
    {
     "name": "stdout",
     "output_type": "stream",
     "text": [
      "8000 TRAIN 5.02 cind: 0.771 \t TEST ae-corr: 0.693 \tcind: 0.6 [1729, 1151, 0]\n"
     ]
    },
    {
     "name": "stdout",
     "output_type": "stream",
     "text": [
      "8400 TRAIN 5.001 cind: 0.779 \t TEST ae-corr: 0.679 \tcind: 0.601 [1731, 1149, 0]\n"
     ]
    },
    {
     "name": "stdout",
     "output_type": "stream",
     "text": [
      "8800 TRAIN 4.982 cind: 0.785 \t TEST ae-corr: 0.692 \tcind: 0.601 [1730, 1150, 0]\n"
     ]
    },
    {
     "name": "stdout",
     "output_type": "stream",
     "text": [
      "9200 TRAIN 4.963 cind: 0.791 \t TEST ae-corr: 0.694 \tcind: 0.602 [1733, 1147, 0]\n"
     ]
    },
    {
     "name": "stdout",
     "output_type": "stream",
     "text": [
      "9600 TRAIN 4.945 cind: 0.797 \t TEST ae-corr: 0.704 \tcind: 0.601 [1730, 1150, 0]\n"
     ]
    },
    {
     "name": "stdout",
     "output_type": "stream",
     "text": [
      "10000 TRAIN 4.927 cind: 0.802 \t TEST ae-corr: 0.678 \tcind: 0.601 [1730, 1150, 0]\n"
     ]
    },
    {
     "name": "stdout",
     "output_type": "stream",
     "text": [
      "1 TRAIN 4.928 cind: 0.802 \t TEST ae-corr: 0.677 \tcind: 0.601 [1730, 1150, 0]\n"
     ]
    },
    {
     "name": "stdout",
     "output_type": "stream",
     "text": [
      "400 TRAIN 4.91 cind: 0.807 \t TEST ae-corr: 0.656 \tcind: 0.601 [1732, 1148, 0]\n"
     ]
    },
    {
     "name": "stdout",
     "output_type": "stream",
     "text": [
      "800 TRAIN 4.893 cind: 0.811 \t TEST ae-corr: 0.704 \tcind: 0.604 [1739, 1141, 0]\n"
     ]
    },
    {
     "name": "stdout",
     "output_type": "stream",
     "text": [
      "1200 TRAIN 4.875 cind: 0.816 \t TEST ae-corr: 0.69 \tcind: 0.603 [1736, 1144, 0]\n"
     ]
    },
    {
     "name": "stdout",
     "output_type": "stream",
     "text": [
      "1600 TRAIN 4.858 cind: 0.819 \t TEST ae-corr: 0.691 \tcind: 0.605 [1741, 1139, 0]\n"
     ]
    },
    {
     "name": "stdout",
     "output_type": "stream",
     "text": [
      "2000 TRAIN 4.841 cind: 0.824 \t TEST ae-corr: 0.682 \tcind: 0.604 [1740, 1140, 0]\n"
     ]
    },
    {
     "name": "stdout",
     "output_type": "stream",
     "text": [
      "2400 TRAIN 4.824 cind: 0.827 \t TEST ae-corr: 0.693 \tcind: 0.604 [1739, 1141, 0]\n"
     ]
    },
    {
     "name": "stdout",
     "output_type": "stream",
     "text": [
      "2800 TRAIN 4.808 cind: 0.831 \t TEST ae-corr: 0.684 \tcind: 0.604 [1740, 1140, 0]\n"
     ]
    },
    {
     "name": "stdout",
     "output_type": "stream",
     "text": [
      "3200 TRAIN 4.791 cind: 0.834 \t TEST ae-corr: 0.694 \tcind: 0.605 [1741, 1139, 0]\n"
     ]
    },
    {
     "name": "stdout",
     "output_type": "stream",
     "text": [
      "3600 TRAIN 4.775 cind: 0.838 \t TEST ae-corr: 0.686 \tcind: 0.602 [1733, 1147, 0]\n"
     ]
    },
    {
     "name": "stdout",
     "output_type": "stream",
     "text": [
      "4000 TRAIN 4.759 cind: 0.841 \t TEST ae-corr: 0.676 \tcind: 0.604 [1739, 1141, 0]\n"
     ]
    },
    {
     "name": "stdout",
     "output_type": "stream",
     "text": [
      "4400 TRAIN 4.743 cind: 0.844 \t TEST ae-corr: 0.687 \tcind: 0.605 [1741, 1139, 0]\n"
     ]
    },
    {
     "name": "stdout",
     "output_type": "stream",
     "text": [
      "4800 TRAIN 4.727 cind: 0.847 \t TEST ae-corr: 0.683 \tcind: 0.606 [1744, 1136, 0]\n"
     ]
    },
    {
     "name": "stdout",
     "output_type": "stream",
     "text": [
      "5200 TRAIN 4.711 cind: 0.85 \t TEST ae-corr: 0.694 \tcind: 0.606 [1745, 1135, 0]\n"
     ]
    },
    {
     "name": "stdout",
     "output_type": "stream",
     "text": [
      "5600 TRAIN 4.696 cind: 0.853 \t TEST ae-corr: 0.693 \tcind: 0.605 [1741, 1139, 0]\n"
     ]
    },
    {
     "name": "stdout",
     "output_type": "stream",
     "text": [
      "6000 TRAIN 4.68 cind: 0.857 \t TEST ae-corr: 0.677 \tcind: 0.607 [1747, 1133, 0]\n"
     ]
    },
    {
     "name": "stdout",
     "output_type": "stream",
     "text": [
      "6400 TRAIN 4.665 cind: 0.86 \t TEST ae-corr: 0.695 \tcind: 0.608 [1750, 1130, 0]\n"
     ]
    },
    {
     "name": "stdout",
     "output_type": "stream",
     "text": [
      "6800 TRAIN 4.649 cind: 0.863 \t TEST ae-corr: 0.702 \tcind: 0.609 [1755, 1125, 0]\n"
     ]
    },
    {
     "name": "stdout",
     "output_type": "stream",
     "text": [
      "7200 TRAIN 4.634 cind: 0.865 \t TEST ae-corr: 0.703 \tcind: 0.61 [1757, 1123, 0]\n"
     ]
    },
    {
     "name": "stdout",
     "output_type": "stream",
     "text": [
      "7600 TRAIN 4.619 cind: 0.868 \t TEST ae-corr: 0.679 \tcind: 0.61 [1758, 1122, 0]\n"
     ]
    },
    {
     "name": "stdout",
     "output_type": "stream",
     "text": [
      "8000 TRAIN 4.604 cind: 0.871 \t TEST ae-corr: 0.705 \tcind: 0.61 [1756, 1124, 0]\n"
     ]
    },
    {
     "name": "stdout",
     "output_type": "stream",
     "text": [
      "8400 TRAIN 4.589 cind: 0.873 \t TEST ae-corr: 0.684 \tcind: 0.61 [1758, 1122, 0]\n"
     ]
    },
    {
     "name": "stdout",
     "output_type": "stream",
     "text": [
      "8800 TRAIN 4.574 cind: 0.876 \t TEST ae-corr: 0.687 \tcind: 0.611 [1759, 1121, 0]\n"
     ]
    },
    {
     "name": "stdout",
     "output_type": "stream",
     "text": [
      "9200 TRAIN 4.559 cind: 0.878 \t TEST ae-corr: 0.668 \tcind: 0.611 [1761, 1119, 0]\n"
     ]
    },
    {
     "name": "stdout",
     "output_type": "stream",
     "text": [
      "9600 TRAIN 4.545 cind: 0.88 \t TEST ae-corr: 0.69 \tcind: 0.611 [1759, 1121, 0]\n"
     ]
    },
    {
     "name": "stdout",
     "output_type": "stream",
     "text": [
      "10000 TRAIN 4.53 cind: 0.883 \t TEST ae-corr: 0.687 \tcind: 0.611 [1759, 1121, 0]\n"
     ]
    }
   ],
   "source": [
    "train_x, train_y_t, train_y_e, NE_frac_tr, test_x, test_y_t, test_y_e, NE_frac_tst, params_dict = data_prep_pca(BRCA;nepochs = 10_000, dim_redux = 300)\n",
    "venc = VariationalEncoder(size(train_x)[1], params_dict[\"dim_redux\"], 600)\n",
    "vdec = Decoder(size(train_x)[1], params_dict[\"dim_redux\"], 600)\n",
    "cphdnn = gpu(Chain(Dense(params_dict[\"dim_redux\"],512, leakyrelu), Dense(512,512, leakyrelu), Dense(512, 1, bias = false)))\n",
    "opt1 = Flux.ADAM(1e-7) ## opt VENC-CPHDNN\n",
    "opt2 = Flux.ADAM(1e-5) ## opt VAE\n",
    "wd = params_dict[\"cph_wd\"]\n",
    "opt = Flux.ADAM(params_dict[\"cph_lr\"])\n",
    "# training VAE only first\n",
    "for i in 1:3000\n",
    "    vaecox_loss =  round(VAE_COX_loss(venc, cphdnn, train_x, train_y_e, NE_frac_tr) + l2_penalty(cphdnn) * wd + l2_penalty(venc) * wd, digits = 3)  \n",
    "    \n",
    "    OUTS_tr = cphdnn(venc(train_x)[1])\n",
    "    OUTS_tst = cphdnn(venc(test_x)[1])\n",
    "    \n",
    "    ps2 = Flux.params(venc, vdec)\n",
    "    gs2 = gradient(ps2) do \n",
    "        VAE_lossf(venc, vdec, train_x) + l2_penalty(venc) * wd + l2_penalty(vdec) * wd\n",
    "        #VAE_COX_loss(model[\"venc\"], model[\"cph\"], train_x, train_y_e, NE_frac_tr) + l2_penalty(model[\"venc\"]) * wd + l2_penalty(model[\"cph\"]) * wd \n",
    "    end \n",
    "    vae_loss =  round(VAE_lossf(venc, vdec, train_x) + l2_penalty(venc) * wd + l2_penalty(vdec) * wd, digits = 3)  \n",
    "    VAE_test = round(my_cor(vec(test_x), vec(MyReconstruct(venc, vdec, test_x)[end])),digits = 3)\n",
    "\n",
    "    cind_tr, cdnt_tr, ddnt_tr, tied_tr  = concordance_index(train_y_t, train_y_e, -1 * OUTS_tr)\n",
    "    cind_test,cdnt_tst, ddnt_tst, tied_tst = concordance_index(test_y_t, test_y_e, -1 *OUTS_tst)\n",
    "    \n",
    "    if i%400 ==0 || i == 1\n",
    "    println(\"$i TRAIN $vaecox_loss cind: $(round(cind_tr, digits = 3)) \\t TEST ae-corr: $VAE_test \\tcind: $(round(cind_test, digits = 3)) [$(Int(cdnt_tst)), $(Int(ddnt_tst)), $(Int(tied_tst))]\")\n",
    "    end \n",
    "    #Flux.update!(opt1,ps1, gs1)\n",
    "    Flux.update!(opt2,ps2, gs2)\n",
    "    params_dict[\"cph_tst_c_ind\"] = cind_test\n",
    "    params_dict[\"cph_train_c_ind\"] = cind_tr\n",
    "    params_dict[\"step\"] = i \n",
    "end\n",
    "# training VENC-CPHDNN \n",
    "for i in 1:params_dict[\"nepochs\"]\n",
    "    ps1 = Flux.params(cphdnn)\n",
    "    gs1 = gradient(ps1) do \n",
    "        cox_nll_vec(cphdnn, venc(train_x)[1], train_y_e, NE_frac_tr) + l2_penalty(cphdnn) * wd \n",
    "        #VAE_COX_loss(model[\"venc\"], model[\"cph\"], train_x, train_y_e, NE_frac_tr) + l2_penalty(model[\"venc\"]) * wd + l2_penalty(model[\"cph\"]) * wd \n",
    "    end \n",
    "    vaecox_loss =  round(cox_nll_vec(cphdnn, venc(train_x)[1], train_y_e, NE_frac_tr) + l2_penalty(cphdnn) * wd  , digits = 3)  \n",
    "    OUTS_tr = cphdnn(venc(train_x)[1])\n",
    "    OUTS_tst = cphdnn(venc(test_x)[1])\n",
    "    \n",
    "    vae_loss =  round(VAE_lossf(venc, vdec, train_x) + l2_penalty(venc) * wd + l2_penalty(vdec) * wd, digits = 3)  \n",
    "    VAE_test = round(my_cor(vec(test_x), vec(MyReconstruct(venc, vdec, test_x)[end])),digits = 3)\n",
    "\n",
    "    cind_tr, cdnt_tr, ddnt_tr, tied_tr  = concordance_index(train_y_t, train_y_e, -1 * OUTS_tr)\n",
    "    cind_test,cdnt_tst, ddnt_tst, tied_tst = concordance_index(test_y_t, test_y_e, -1 *OUTS_tst)\n",
    "    \n",
    "    if i%400 ==0 || i == 1\n",
    "    println(\"$i TRAIN $vaecox_loss cind: $(round(cind_tr, digits = 3)) \\t TEST ae-corr: $VAE_test \\tcind: $(round(cind_test, digits = 3)) [$(Int(cdnt_tst)), $(Int(ddnt_tst)), $(Int(tied_tst))]\")\n",
    "    end \n",
    "    Flux.update!(opt1,ps1, gs1)\n",
    "    #Flux.update!(opt2,ps2, gs2)\n",
    "    params_dict[\"cph_tst_c_ind\"] = cind_test\n",
    "    params_dict[\"cph_train_c_ind\"] = cind_tr\n",
    "    params_dict[\"step\"] = i \n",
    "end\n",
    "# training VENC-CPHDNN \n",
    "for i in 1:params_dict[\"nepochs\"]\n",
    "    ps1 = Flux.params(venc, cphdnn)\n",
    "    gs1 = gradient(ps1) do \n",
    "        VAE_COX_loss(venc, cphdnn, train_x, train_y_e, NE_frac_tr) + l2_penalty(cphdnn) * wd + l2_penalty(venc) * wd\n",
    "        #VAE_COX_loss(model[\"venc\"], model[\"cph\"], train_x, train_y_e, NE_frac_tr) + l2_penalty(model[\"venc\"]) * wd + l2_penalty(model[\"cph\"]) * wd \n",
    "    end \n",
    "    vaecox_loss =  round(VAE_COX_loss(venc, cphdnn, train_x, train_y_e, NE_frac_tr) + l2_penalty(cphdnn) * wd + l2_penalty(venc) * wd, digits = 3)  \n",
    "    OUTS_tr = cphdnn(venc(train_x)[1])\n",
    "    OUTS_tst = cphdnn(venc(test_x)[1])\n",
    "    \n",
    "    vae_loss =  round(VAE_lossf(venc, vdec, train_x) + l2_penalty(venc) * wd + l2_penalty(vdec) * wd, digits = 3)  \n",
    "    VAE_test = round(my_cor(vec(test_x), vec(MyReconstruct(venc, vdec, test_x)[end])),digits = 3)\n",
    "\n",
    "    cind_tr, cdnt_tr, ddnt_tr, tied_tr  = concordance_index(train_y_t, train_y_e, -1 * OUTS_tr)\n",
    "    cind_test,cdnt_tst, ddnt_tst, tied_tst = concordance_index(test_y_t, test_y_e, -1 *OUTS_tst)\n",
    "    \n",
    "    if i%400 ==0 || i == 1\n",
    "    println(\"$i TRAIN $vaecox_loss cind: $(round(cind_tr, digits = 3)) \\t TEST ae-corr: $VAE_test \\tcind: $(round(cind_test, digits = 3)) [$(Int(cdnt_tst)), $(Int(ddnt_tst)), $(Int(tied_tst))]\")\n",
    "    end \n",
    "    Flux.update!(opt1,ps1, gs1)\n",
    "    #Flux.update!(opt2,ps2, gs2)\n",
    "    params_dict[\"cph_tst_c_ind\"] = cind_test\n",
    "    params_dict[\"cph_train_c_ind\"] = cind_tr\n",
    "    params_dict[\"step\"] = i \n",
    "end"
   ]
  },
  {
   "cell_type": "code",
   "execution_count": 41,
   "metadata": {},
   "outputs": [
    {
     "name": "stdout",
     "output_type": "stream",
     "text": [
      "nb genes : 14996\n",
      "nb patients : 300\n",
      "% uncensored : 0.7433333333333333\n"
     ]
    },
    {
     "name": "stdout",
     "output_type": "stream",
     "text": [
      "1 TRAIN 4.912 cind: 0.553 \t TEST ae-corr: -0.012 \tcind: 0.574 [951, 705, 0]\n"
     ]
    },
    {
     "name": "stdout",
     "output_type": "stream",
     "text": [
      "400 TRAIN 4.9 cind: 0.571 \t TEST ae-corr: 0.0 \tcind: 0.58 [960, 696, 0]\n"
     ]
    },
    {
     "name": "stdout",
     "output_type": "stream",
     "text": [
      "800 TRAIN 4.887 cind: 0.589 \t TEST ae-corr: 0.017 \tcind: 0.585 [969, 687, 0]\n"
     ]
    },
    {
     "name": "stdout",
     "output_type": "stream",
     "text": [
      "1200 TRAIN 4.875 cind: 0.609 \t TEST ae-corr: 0.002 \tcind: 0.588 [974, 682, 0]\n"
     ]
    },
    {
     "name": "stdout",
     "output_type": "stream",
     "text": [
      "1600 TRAIN 4.863 cind: 0.627 \t TEST ae-corr: 0.007 \tcind: 0.589 [975, 681, 0]\n"
     ]
    },
    {
     "name": "stdout",
     "output_type": "stream",
     "text": [
      "2000 TRAIN 4.852 cind: 0.642 \t TEST ae-corr: -0.019 \tcind: 0.589 [976, 680, 0]\n"
     ]
    },
    {
     "name": "stdout",
     "output_type": "stream",
     "text": [
      "2400 TRAIN 4.841 cind: 0.656 \t TEST ae-corr: 0.014 \tcind: 0.594 [984, 672, 0]\n"
     ]
    },
    {
     "name": "stdout",
     "output_type": "stream",
     "text": [
      "2800 TRAIN 4.83 cind: 0.666 \t TEST ae-corr: 0.02 \tcind: 0.598 [991, 665, 0]\n"
     ]
    },
    {
     "name": "stdout",
     "output_type": "stream",
     "text": [
      "3200 TRAIN 4.82 cind: 0.677 \t TEST ae-corr: -0.009 \tcind: 0.597 [989, 667, 0]\n"
     ]
    },
    {
     "name": "stdout",
     "output_type": "stream",
     "text": [
      "3600 TRAIN 4.809 cind: 0.684 \t TEST ae-corr: 0.05 \tcind: 0.595 [986, 670, 0]\n"
     ]
    },
    {
     "name": "stdout",
     "output_type": "stream",
     "text": [
      "4000 TRAIN 4.799 cind: 0.692 \t TEST ae-corr: 0.022 \tcind: 0.593 [982, 674, 0]\n"
     ]
    },
    {
     "name": "stdout",
     "output_type": "stream",
     "text": [
      "4400 TRAIN 4.789 cind: 0.699 \t TEST ae-corr: 0.009 \tcind: 0.592 [981, 675, 0]\n"
     ]
    },
    {
     "name": "stdout",
     "output_type": "stream",
     "text": [
      "4800 TRAIN 4.78 cind: 0.704 \t TEST ae-corr: -0.008 \tcind: 0.598 [991, 665, 0]\n"
     ]
    },
    {
     "name": "stdout",
     "output_type": "stream",
     "text": [
      "5200 TRAIN 4.77 cind: 0.708 \t TEST ae-corr: -0.021 \tcind: 0.598 [990, 666, 0]\n"
     ]
    },
    {
     "name": "stdout",
     "output_type": "stream",
     "text": [
      "5600 TRAIN 4.761 cind: 0.714 \t TEST ae-corr: -0.018 \tcind: 0.595 [985, 671, 0]\n"
     ]
    },
    {
     "name": "stdout",
     "output_type": "stream",
     "text": [
      "6000 TRAIN 4.752 cind: 0.718 \t TEST ae-corr: 0.018 \tcind: 0.595 [985, 671, 0]\n"
     ]
    },
    {
     "name": "stdout",
     "output_type": "stream",
     "text": [
      "6400 TRAIN 4.743 cind: 0.722 \t TEST ae-corr: 0.008 \tcind: 0.595 [986, 670, 0]\n"
     ]
    },
    {
     "name": "stdout",
     "output_type": "stream",
     "text": [
      "6800 TRAIN 4.734 cind: 0.726 \t TEST ae-corr: 0.002 \tcind: 0.597 [989, 667, 0]\n"
     ]
    },
    {
     "name": "stdout",
     "output_type": "stream",
     "text": [
      "7200 TRAIN 4.726 cind: 0.728 \t TEST ae-corr: 0.011 \tcind: 0.598 [991, 665, 0]\n"
     ]
    },
    {
     "name": "stdout",
     "output_type": "stream",
     "text": [
      "7600 TRAIN 4.717 cind: 0.731 \t TEST ae-corr: -0.024 \tcind: 0.601 [996, 660, 0]\n"
     ]
    },
    {
     "name": "stdout",
     "output_type": "stream",
     "text": [
      "8000 TRAIN 4.709 cind: 0.735 \t TEST ae-corr: 0.003 \tcind: 0.6 [993, 663, 0]\n"
     ]
    },
    {
     "name": "stdout",
     "output_type": "stream",
     "text": [
      "8400 TRAIN 4.701 cind: 0.737 \t TEST ae-corr: 0.017 \tcind: 0.597 [989, 667, 0]\n"
     ]
    },
    {
     "name": "stdout",
     "output_type": "stream",
     "text": [
      "8800 TRAIN 4.692 cind: 0.74 \t TEST ae-corr: -0.006 \tcind: 0.597 [988, 668, 0]\n"
     ]
    },
    {
     "name": "stdout",
     "output_type": "stream",
     "text": [
      "9200 TRAIN 4.684 cind: 0.742 \t TEST ae-corr: 0.02 \tcind: 0.597 [989, 667, 0]\n"
     ]
    },
    {
     "name": "stdout",
     "output_type": "stream",
     "text": [
      "9600 TRAIN 4.677 cind: 0.745 \t TEST ae-corr: -0.0 \tcind: 0.595 [986, 670, 0]\n"
     ]
    },
    {
     "name": "stdout",
     "output_type": "stream",
     "text": [
      "10000 TRAIN 4.669 cind: 0.748 \t TEST ae-corr: 0.003 \tcind: 0.595 [986, 670, 0]\n"
     ]
    },
    {
     "name": "stdout",
     "output_type": "stream",
     "text": [
      "10400 TRAIN 4.661 cind: 0.75 \t TEST ae-corr: 0.002 \tcind: 0.594 [983, 673, 0]\n"
     ]
    },
    {
     "name": "stdout",
     "output_type": "stream",
     "text": [
      "10800 TRAIN 4.654 cind: 0.752 \t TEST ae-corr: 0.022 \tcind: 0.595 [985, 671, 0]\n"
     ]
    },
    {
     "name": "stdout",
     "output_type": "stream",
     "text": [
      "11200 TRAIN 4.646 cind: 0.755 \t TEST ae-corr: 0.009 \tcind: 0.595 [985, 671, 0]\n"
     ]
    },
    {
     "name": "stdout",
     "output_type": "stream",
     "text": [
      "11600 TRAIN 4.639 cind: 0.756 \t TEST ae-corr: 0.018 \tcind: 0.595 [986, 670, 0]\n"
     ]
    },
    {
     "name": "stdout",
     "output_type": "stream",
     "text": [
      "12000 TRAIN 4.632 cind: 0.758 \t TEST ae-corr: 0.025 \tcind: 0.594 [984, 672, 0]\n"
     ]
    },
    {
     "name": "stdout",
     "output_type": "stream",
     "text": [
      "12400 TRAIN 4.624 cind: 0.76 \t TEST ae-corr: -0.018 \tcind: 0.591 [979, 677, 0]\n"
     ]
    },
    {
     "name": "stdout",
     "output_type": "stream",
     "text": [
      "12800 TRAIN 4.617 cind: 0.762 \t TEST ae-corr: -0.006 \tcind: 0.592 [981, 675, 0]\n"
     ]
    },
    {
     "name": "stdout",
     "output_type": "stream",
     "text": [
      "13200 TRAIN 4.61 cind: 0.763 \t TEST ae-corr: -0.001 \tcind: 0.594 [984, 672, 0]\n"
     ]
    },
    {
     "name": "stdout",
     "output_type": "stream",
     "text": [
      "13600 TRAIN 4.604 cind: 0.765 \t TEST ae-corr: 0.008 \tcind: 0.593 [982, 674, 0]\n"
     ]
    },
    {
     "name": "stdout",
     "output_type": "stream",
     "text": [
      "14000 TRAIN 4.597 cind: 0.767 \t TEST ae-corr: 0.013 \tcind: 0.593 [982, 674, 0]\n"
     ]
    },
    {
     "name": "stdout",
     "output_type": "stream",
     "text": [
      "14400 TRAIN 4.59 cind: 0.769 \t TEST ae-corr: 0.015 \tcind: 0.594 [983, 673, 0]\n"
     ]
    },
    {
     "name": "stdout",
     "output_type": "stream",
     "text": [
      "14800 TRAIN 4.583 cind: 0.771 \t TEST ae-corr: 0.019 \tcind: 0.593 [982, 674, 0]\n"
     ]
    },
    {
     "name": "stdout",
     "output_type": "stream",
     "text": [
      "15200 TRAIN 4.577 cind: 0.772 \t TEST ae-corr: 0.006 \tcind: 0.595 [985, 671, 0]\n"
     ]
    },
    {
     "name": "stdout",
     "output_type": "stream",
     "text": [
      "15600 TRAIN 4.57 cind: 0.774 \t TEST ae-corr: -0.031 \tcind: 0.595 [985, 671, 0]\n"
     ]
    },
    {
     "name": "stdout",
     "output_type": "stream",
     "text": [
      "16000 TRAIN 4.564 cind: 0.775 \t TEST ae-corr: 0.008 \tcind: 0.595 [985, 671, 0]\n"
     ]
    },
    {
     "name": "stdout",
     "output_type": "stream",
     "text": [
      "16400 TRAIN 4.557 cind: 0.776 \t TEST ae-corr: -0.006 \tcind: 0.595 [985, 671, 0]\n"
     ]
    },
    {
     "name": "stdout",
     "output_type": "stream",
     "text": [
      "16800 TRAIN 4.551 cind: 0.778 \t TEST ae-corr: -0.003 \tcind: 0.595 [986, 670, 0]\n"
     ]
    },
    {
     "name": "stdout",
     "output_type": "stream",
     "text": [
      "17200 TRAIN 4.544 cind: 0.779 \t TEST ae-corr: 0.015 \tcind: 0.595 [986, 670, 0]\n"
     ]
    },
    {
     "name": "stdout",
     "output_type": "stream",
     "text": [
      "17600 TRAIN 4.538 cind: 0.78 \t TEST ae-corr: 0.004 \tcind: 0.595 [986, 670, 0]\n"
     ]
    },
    {
     "name": "stdout",
     "output_type": "stream",
     "text": [
      "18000 TRAIN 4.532 cind: 0.782 \t TEST ae-corr: 0.013 \tcind: 0.595 [986, 670, 0]\n"
     ]
    },
    {
     "name": "stdout",
     "output_type": "stream",
     "text": [
      "18400 TRAIN 4.526 cind: 0.783 \t TEST ae-corr: -0.004 \tcind: 0.597 [988, 668, 0]\n"
     ]
    },
    {
     "name": "stdout",
     "output_type": "stream",
     "text": [
      "18800 TRAIN 4.52 cind: 0.784 \t TEST ae-corr: -0.025 \tcind: 0.596 [987, 669, 0]\n"
     ]
    },
    {
     "name": "stdout",
     "output_type": "stream",
     "text": [
      "19200 TRAIN 4.514 cind: 0.785 \t TEST ae-corr: -0.011 \tcind: 0.595 [986, 670, 0]\n"
     ]
    },
    {
     "name": "stdout",
     "output_type": "stream",
     "text": [
      "19600 TRAIN 4.508 cind: 0.786 \t TEST ae-corr: 0.002 \tcind: 0.594 [984, 672, 0]\n"
     ]
    },
    {
     "name": "stdout",
     "output_type": "stream",
     "text": [
      "20000 TRAIN 4.502 cind: 0.787 \t TEST ae-corr: -0.011 \tcind: 0.596 [987, 669, 0]\n"
     ]
    },
    {
     "name": "stdout",
     "output_type": "stream",
     "text": [
      "20400 TRAIN 4.496 cind: 0.788 \t TEST ae-corr: 0.0 \tcind: 0.595 [986, 670, 0]\n"
     ]
    },
    {
     "name": "stdout",
     "output_type": "stream",
     "text": [
      "20800 TRAIN 4.49 cind: 0.789 \t TEST ae-corr: -0.036 \tcind: 0.595 [985, 671, 0]\n"
     ]
    },
    {
     "name": "stdout",
     "output_type": "stream",
     "text": [
      "21200 TRAIN 4.484 cind: 0.79 \t TEST ae-corr: 0.029 \tcind: 0.596 [987, 669, 0]\n"
     ]
    },
    {
     "name": "stdout",
     "output_type": "stream",
     "text": [
      "21600 TRAIN 4.478 cind: 0.791 \t TEST ae-corr: 0.001 \tcind: 0.595 [985, 671, 0]\n"
     ]
    },
    {
     "name": "stdout",
     "output_type": "stream",
     "text": [
      "22000 TRAIN 4.472 cind: 0.792 \t TEST ae-corr: -0.005 \tcind: 0.593 [982, 674, 0]\n"
     ]
    },
    {
     "name": "stdout",
     "output_type": "stream",
     "text": [
      "22400 TRAIN 4.467 cind: 0.793 \t TEST ae-corr: 0.002 \tcind: 0.594 [984, 672, 0]\n"
     ]
    },
    {
     "name": "stdout",
     "output_type": "stream",
     "text": [
      "22800 TRAIN 4.461 cind: 0.795 \t TEST ae-corr: 0.017 \tcind: 0.593 [982, 674, 0]\n"
     ]
    },
    {
     "name": "stdout",
     "output_type": "stream",
     "text": [
      "23200 TRAIN 4.455 cind: 0.796 \t TEST ae-corr: -0.006 \tcind: 0.591 [979, 677, 0]\n"
     ]
    },
    {
     "name": "stdout",
     "output_type": "stream",
     "text": [
      "23600 TRAIN 4.45 cind: 0.797 \t TEST ae-corr: -0.006 \tcind: 0.591 [978, 678, 0]\n"
     ]
    },
    {
     "name": "stdout",
     "output_type": "stream",
     "text": [
      "24000 TRAIN 4.444 cind: 0.798 \t TEST ae-corr: 0.021 \tcind: 0.591 [979, 677, 0]\n"
     ]
    },
    {
     "name": "stdout",
     "output_type": "stream",
     "text": [
      "24400 TRAIN 4.439 cind: 0.799 \t TEST ae-corr: 0.02 \tcind: 0.589 [976, 680, 0]\n"
     ]
    },
    {
     "name": "stdout",
     "output_type": "stream",
     "text": [
      "24800 TRAIN 4.433 cind: 0.8 \t TEST ae-corr: 0.022 \tcind: 0.59 [977, 679, 0]\n"
     ]
    },
    {
     "name": "stdout",
     "output_type": "stream",
     "text": [
      "25200 TRAIN 4.428 cind: 0.801 \t TEST ae-corr: 0.0 \tcind: 0.589 [975, 681, 0]\n"
     ]
    },
    {
     "name": "stdout",
     "output_type": "stream",
     "text": [
      "25600 TRAIN 4.422 cind: 0.802 \t TEST ae-corr: 0.041 \tcind: 0.589 [975, 681, 0]\n"
     ]
    },
    {
     "name": "stdout",
     "output_type": "stream",
     "text": [
      "26000 TRAIN 4.417 cind: 0.803 \t TEST ae-corr: -0.02 \tcind: 0.59 [977, 679, 0]\n"
     ]
    },
    {
     "name": "stdout",
     "output_type": "stream",
     "text": [
      "26400 TRAIN 4.411 cind: 0.804 \t TEST ae-corr: -0.019 \tcind: 0.589 [975, 681, 0]\n"
     ]
    },
    {
     "name": "stdout",
     "output_type": "stream",
     "text": [
      "26800 TRAIN 4.406 cind: 0.805 \t TEST ae-corr: -0.034 \tcind: 0.588 [974, 682, 0]\n"
     ]
    },
    {
     "name": "stdout",
     "output_type": "stream",
     "text": [
      "27200 TRAIN 4.401 cind: 0.805 \t TEST ae-corr: 0.003 \tcind: 0.588 [973, 683, 0]\n"
     ]
    },
    {
     "name": "stdout",
     "output_type": "stream",
     "text": [
      "27600 TRAIN 4.396 cind: 0.807 \t TEST ae-corr: 0.011 \tcind: 0.589 [975, 681, 0]\n"
     ]
    },
    {
     "name": "stdout",
     "output_type": "stream",
     "text": [
      "28000 TRAIN 4.39 cind: 0.807 \t TEST ae-corr: -0.001 \tcind: 0.589 [976, 680, 0]\n"
     ]
    },
    {
     "name": "stdout",
     "output_type": "stream",
     "text": [
      "28400 TRAIN 4.385 cind: 0.808 \t TEST ae-corr: 0.033 \tcind: 0.591 [978, 678, 0]\n"
     ]
    },
    {
     "name": "stdout",
     "output_type": "stream",
     "text": [
      "28800 TRAIN 4.38 cind: 0.809 \t TEST ae-corr: -0.016 \tcind: 0.59 [977, 679, 0]\n"
     ]
    },
    {
     "name": "stdout",
     "output_type": "stream",
     "text": [
      "29200 TRAIN 4.375 cind: 0.811 \t TEST ae-corr: -0.04 \tcind: 0.592 [980, 676, 0]\n"
     ]
    },
    {
     "name": "stdout",
     "output_type": "stream",
     "text": [
      "29600 TRAIN 4.37 cind: 0.811 \t TEST ae-corr: 0.016 \tcind: 0.591 [979, 677, 0]\n"
     ]
    },
    {
     "name": "stdout",
     "output_type": "stream",
     "text": [
      "30000 TRAIN 4.365 cind: 0.812 \t TEST ae-corr: -0.025 \tcind: 0.592 [980, 676, 0]\n"
     ]
    }
   ],
   "source": [
    "train_x, train_y_t, train_y_e, NE_frac_tr, test_x, test_y_t, test_y_e, NE_frac_tst, params_dict = data_prep_pca(LAML;nepochs = 30_000, dim_redux = 125)\n",
    "venc = VariationalEncoder(size(train_x)[1], params_dict[\"dim_redux\"], 600)\n",
    "vdec = Decoder(size(train_x)[1], params_dict[\"dim_redux\"], 600)\n",
    "cphdnn = gpu(Chain(Dense(params_dict[\"dim_redux\"],512, leakyrelu), Dense(512,512, leakyrelu), Dense(512, 1, bias = false)))\n",
    "opt1 = Flux.ADAM(1e-7) ## opt VENC-CPHDNN\n",
    "opt2 = Flux.ADAM(1e-5) ## opt VAE\n",
    "wd = params_dict[\"cph_wd\"]\n",
    "opt = Flux.ADAM(params_dict[\"cph_lr\"])\n",
    "for i in 1:params_dict[\"nepochs\"]\n",
    "    ps1 = Flux.params(venc, cphdnn)\n",
    "    gs1 = gradient(ps1) do \n",
    "        VAE_COX_loss(venc, cphdnn, train_x, train_y_e, NE_frac_tr) + l2_penalty(cphdnn) * wd + l2_penalty(venc) * wd\n",
    "        #VAE_COX_loss(model[\"venc\"], model[\"cph\"], train_x, train_y_e, NE_frac_tr) + l2_penalty(model[\"venc\"]) * wd + l2_penalty(model[\"cph\"]) * wd \n",
    "    end \n",
    "    vaecox_loss =  round(VAE_COX_loss(venc, cphdnn, train_x, train_y_e, NE_frac_tr) + l2_penalty(cphdnn) * wd + l2_penalty(venc) * wd, digits = 3)  \n",
    "    OUTS_tr = cphdnn(venc(train_x)[1])\n",
    "    OUTS_tst = cphdnn(venc(test_x)[1])\n",
    "    \n",
    "    vae_loss =  round(VAE_lossf(venc, vdec, train_x) + l2_penalty(venc) * wd + l2_penalty(vdec) * wd, digits = 3)  \n",
    "    VAE_test = round(my_cor(vec(test_x), vec(MyReconstruct(venc, vdec, test_x)[end])),digits = 3)\n",
    "\n",
    "    cind_tr, cdnt_tr, ddnt_tr, tied_tr  = concordance_index(train_y_t, train_y_e, -1 * OUTS_tr)\n",
    "    cind_test,cdnt_tst, ddnt_tst, tied_tst = concordance_index(test_y_t, test_y_e, -1 *OUTS_tst)\n",
    "    \n",
    "    if i%400 ==0 || i == 1\n",
    "    println(\"$i TRAIN $vaecox_loss cind: $(round(cind_tr, digits = 3)) \\t TEST ae-corr: $VAE_test \\tcind: $(round(cind_test, digits = 3)) [$(Int(cdnt_tst)), $(Int(ddnt_tst)), $(Int(tied_tst))]\")\n",
    "    end \n",
    "    Flux.update!(opt1,ps1, gs1)\n",
    "    #Flux.update!(opt2,ps2, gs2)\n",
    "    params_dict[\"cph_tst_c_ind\"] = cind_test\n",
    "    params_dict[\"cph_train_c_ind\"] = cind_tr\n",
    "    params_dict[\"step\"] = i \n",
    "end"
   ]
  },
  {
   "cell_type": "code",
   "execution_count": null,
   "metadata": {},
   "outputs": [],
   "source": [
    "function validate_vaecox(DATA, params_dict;device = gpu)\n",
    "    nfolds, nepochs, dim_redux = 5, 1000, 125\n",
    "    keep = [occursin(\"protein_coding\", bt) for bt in DATA.biotypes]\n",
    "    # split train test\n",
    "    folds = split_train_test(Matrix(DATA.data[:,keep]), DATA.survt, DATA.surve, DATA.samples;nfolds =5)\n",
    "    fold = folds[1]\n",
    "\n",
    "    venc = VariationalEncoder(size(DATA.data[:,keep])[2], 125, 600)\n",
    "    vdec = Decoder(size(DATA.data[:,keep])[2], 125, 600)\n",
    "    VAE_opt = Flux.ADAM(1e-4)\n",
    "\n",
    "    cphdnn = device(Chain(Dense(size(DATA.data[:,keep])[2], 125, leakyrelu), Dense(125, 100,leakyrelu),Dense(100, 1)))\n",
    "    cphdnn_opt = Flux.ADAM(1e-5)\n",
    "\n",
    "    train_x, train_y_t, train_y_e, NE_frac_tr, test_x, test_y_t, test_y_e, NE_frac_tst = format_train_test(fold)\n",
    "    for i in 1:nepochs\n",
    "        ps1 = Flux.params(venc, vdec)\n",
    "        gs1 = gradient(ps1) do\n",
    "            VAE_lossf(venc, vdec, train_x)\n",
    "        end \n",
    "        VAE_loss = VAE_lossf(venc, vdec, train_x)\n",
    "        VAE_cor = round(my_cor(vec(train_x), vec(MyReconstruct(venc, vdec, train_x)[end])),digits = 3)\n",
    "        VAE_test = round(my_cor(vec(test_x), vec(MyReconstruct(venc, vdec, test_x)[end])),digits = 3)\n",
    "\n",
    "        ps2 = Flux.params(venc, cphdnn)\n",
    "        gs2 = gradient(ps2) do \n",
    "            cox_nll_vec(cphdnn, train_x, train_y_e, NE_frac_tr)\n",
    "            #VAE_COX_loss(venc, cphdnn, train_x, train_y_e, NE_frac_tr)\n",
    "        end \n",
    "        CPH_loss = round(cox_nll_vec(cphdnn, train_x, train_y_e, NE_frac_tr), digits = 3) #round(VAE_COX_loss(venc, cphdnn, train_x, train_y_e, NE_frac_tr), digits = 3)\n",
    "        #mu, log_sigma = venc(train_x)\n",
    "        #z = mu + device(randn(Float32, size(log_sigma))) .* exp.(log_sigma)\n",
    "        #OUTS_tr = vec(cphdnn(z))\n",
    "        OUTS_tr = cphdnn(train_x)\n",
    "        OUTS_tst =  cphdnn(test_x)\n",
    "        cind_tr, cdnt_tr, ddnt_tr, tied_tr  = concordance_index(train_y_t, train_y_e, OUTS_tr)\n",
    "        cind_test,cdnt_tst, ddnt_tst, tied_tst = concordance_index(test_y_t, test_y_e,OUTS_tst)\n",
    "        #Flux.update!(VAE_opt, ps1, gs1)\n",
    "        Flux.update!(cphdnn_opt, ps2, gs2)\n",
    "        if i % 100 == 0 || i == 1\n",
    "            println(\"$i TRAIN - VAE-loss-avg: $VAE_loss\\tVAE-cor: $VAE_cor CPH-loss: $CPH_loss CPH-cind: $(round(cind_tr,digits=3))\")\n",
    "            println(\"$i TEST - VAE-loss-avg: $VAE_test \\tVAE-cor: CPH-loss: CPH-cind: $(round(cind_test,digits=3)) [$(Int(cdnt_tst)), $(Int(ddnt_tst)), $(Int(tied_tst))]\")\n",
    "\n",
    "        end\n",
    "    end\n",
    "    return cphdnn\n",
    "end "
   ]
  },
  {
   "cell_type": "code",
   "execution_count": null,
   "metadata": {},
   "outputs": [],
   "source": [
    "cdnn = validate_vaecox(DATA, params_dict)"
   ]
  },
  {
   "cell_type": "code",
   "execution_count": null,
   "metadata": {},
   "outputs": [],
   "source": [
    "cdnn(DATA.data[])"
   ]
  },
  {
   "cell_type": "code",
   "execution_count": 96,
   "metadata": {},
   "outputs": [
    {
     "name": "stdout",
     "output_type": "stream",
     "text": [
      "nb genes : 14996\n",
      "nb patients : 300\n",
      "% uncensored : 0.7433333333333333\n"
     ]
    },
    {
     "name": "stdout",
     "output_type": "stream",
     "text": [
      "FOLD 1\t TRAIN AE-loss 0.994 \t AE-cor: 0.008\t cph-loss-avg: 0.020545 \t cph-cind: 0.611\n",
      "\t\tTEST AE-loss 0.991 \t AE-cor: 0.006\t cph-loss-avg: 0.058383 \t cph-cind: 0.515 [836, 788, 0]\n"
     ]
    },
    {
     "name": "stdout",
     "output_type": "stream",
     "text": [
      "FOLD 100\t TRAIN AE-loss 0.972 \t AE-cor: 0.004\t cph-loss-avg: 0.019126 \t cph-cind: 0.827\n",
      "\t\tTEST AE-loss 0.97 \t AE-cor: 0.002\t cph-loss-avg: 0.0563 \t cph-cind: 0.657 [1067, 557, 0]\n"
     ]
    },
    {
     "name": "stdout",
     "output_type": "stream",
     "text": [
      "FOLD 200\t TRAIN AE-loss 0.969 \t AE-cor: 0.004\t cph-loss-avg: 0.018949 \t cph-cind: 0.863\n",
      "\t\tTEST AE-loss 0.967 \t AE-cor: 0.002\t cph-loss-avg: 0.056367 \t cph-cind: 0.646 [1049, 575, 0]\n"
     ]
    },
    {
     "name": "stdout",
     "output_type": "stream",
     "text": [
      "FOLD 300\t TRAIN AE-loss 0.966 \t AE-cor: 0.004\t cph-loss-avg: 0.018913 \t cph-cind: 0.875\n",
      "\t\tTEST AE-loss 0.965 \t AE-cor: 0.002\t cph-loss-avg: 0.0564 \t cph-cind: 0.643 [1045, 579, 0]\n"
     ]
    },
    {
     "name": "stdout",
     "output_type": "stream",
     "text": [
      "FOLD 400\t TRAIN AE-loss 0.964 \t AE-cor: 0.004\t cph-loss-avg: 0.018904 \t cph-cind: 0.881\n",
      "\t\tTEST AE-loss 0.963 \t AE-cor: 0.002\t cph-loss-avg: 0.056483 \t cph-cind: 0.638 [1036, 588, 0]\n"
     ]
    },
    {
     "name": "stdout",
     "output_type": "stream",
     "text": [
      "FOLD 500\t TRAIN AE-loss 0.963 \t AE-cor: 0.005\t cph-loss-avg: 0.018899 \t cph-cind: 0.883\n",
      "\t\tTEST AE-loss 0.962 \t AE-cor: 0.003\t cph-loss-avg: 0.05645 \t cph-cind: 0.638 [1036, 588, 0]\n"
     ]
    },
    {
     "name": "stdout",
     "output_type": "stream",
     "text": [
      "FOLD 600\t TRAIN AE-loss 0.962 \t AE-cor: 0.005\t cph-loss-avg: 0.018898 \t cph-cind: 0.884\n",
      "\t\tTEST AE-loss 0.961 \t AE-cor: 0.003\t cph-loss-avg: 0.056433 \t cph-cind: 0.639 [1037, 587, 0]\n"
     ]
    },
    {
     "name": "stdout",
     "output_type": "stream",
     "text": [
      "FOLD 700\t TRAIN AE-loss 0.962 \t AE-cor: 0.005\t cph-loss-avg: 0.018897 \t cph-cind: 0.886\n",
      "\t\tTEST AE-loss 0.96 \t AE-cor: 0.004\t cph-loss-avg: 0.056417 \t cph-cind: 0.638 [1036, 588, 0]\n"
     ]
    },
    {
     "name": "stdout",
     "output_type": "stream",
     "text": [
      "FOLD 800\t TRAIN AE-loss 0.962 \t AE-cor: 0.005\t cph-loss-avg: 0.018899 \t cph-cind: 0.887\n",
      "\t\tTEST AE-loss 0.96 \t AE-cor: 0.004\t cph-loss-avg: 0.056417 \t cph-cind: 0.641 [1041, 583, 0]\n"
     ]
    },
    {
     "name": "stdout",
     "output_type": "stream",
     "text": [
      "FOLD 900\t TRAIN AE-loss 0.961 \t AE-cor: 0.005\t cph-loss-avg: 0.018896 \t cph-cind: 0.889\n",
      "\t\tTEST AE-loss 0.96 \t AE-cor: 0.004\t cph-loss-avg: 0.0564 \t cph-cind: 0.64 [1039, 585, 0]\n"
     ]
    },
    {
     "name": "stdout",
     "output_type": "stream",
     "text": [
      "FOLD 1000\t TRAIN AE-loss 0.961 \t AE-cor: 0.005\t cph-loss-avg: 0.018893 \t cph-cind: 0.892\n",
      "\t\tTEST AE-loss 0.96 \t AE-cor: 0.004\t cph-loss-avg: 0.0564 \t cph-cind: 0.64 [1040, 584, 0]\n"
     ]
    }
   ],
   "source": [
    "train_x, train_y_t, train_y_e, NE_frac_tr, test_x, test_y_t, test_y_e, NE_frac_tst, params_dict = data_prep(LAML)\n",
    "# create model \n",
    "model = build_aecox(params_dict)\n",
    "for iter in 1:params_dict[\"nepochs\"]\n",
    "    ps1 = Flux.params(model[\"cph\"].model, model[\"enc\"])\n",
    "    gs1 = gradient(ps1) do\n",
    "        model[\"cph\"].lossf(model[\"cph\"],model[\"enc\"], train_x, train_y_e, NE_frac_tr, params_dict[\"cph_wd\"])\n",
    "    end \n",
    "    ## gradient Auto-Encoder \n",
    "    ps2 = Flux.params(model[\"ae\"].net)\n",
    "    gs2 = gradient(ps2) do\n",
    "        model[\"ae\"].lossf(model[\"ae\"], train_x, train_x, weight_decay = params_dict[\"ae_wd\"])\n",
    "    end\n",
    "    Flux.update!(model[\"cph\"].opt, ps1, gs1)\n",
    "    #Flux.update!(model[\"ae\"].opt, ps2, gs2)\n",
    "\n",
    "    ######\n",
    "    OUTS_tr = vec(model[\"cph\"].model(model[\"enc\"](train_x)))\n",
    "    ae_loss = model[\"ae\"].lossf(model[\"ae\"], train_x, train_x, weight_decay = params_dict[\"ae_wd\"])\n",
    "    ae_cor =  round(my_cor(vec(train_x), vec(model[\"ae\"].net(train_x))),digits = 3)\n",
    "    cph_loss = model[\"cph\"].lossf(model[\"cph\"],model[\"enc\"](train_x), train_y_e, NE_frac_tr, params_dict[\"cph_wd\"])\n",
    "    ae_loss_test = round(model[\"ae\"].lossf(model[\"ae\"], test_x, test_x, weight_decay = params_dict[\"ae_wd\"]), digits = 3)\n",
    "    ae_cor_test = round(my_cor(vec(test_x), vec(model[\"ae\"].net(test_x))), digits= 3)\n",
    "    cph_loss_test = round(model[\"cph\"].lossf(model[\"cph\"],model[\"enc\"](test_x), test_y_e, NE_frac_tst, params_dict[\"cph_wd\"]), digits= 3)\n",
    "                    \n",
    "    OUTS_tst =  vec(model[\"cph\"].model(model[\"enc\"](test_x)))\n",
    "            \n",
    "    cind_tr, cdnt_tr, ddnt_tr, tied_tr  = concordance_index(train_y_t, train_y_e, OUTS_tr)\n",
    "    cind_test,cdnt_tst, ddnt_tst, tied_tst = concordance_index(test_y_t, test_y_e,OUTS_tst)\n",
    "    if iter % 100 == 0  || iter == 1     \n",
    "        println(\"FOLD $iter\\t TRAIN AE-loss $(round(ae_loss,digits =3)) \\t AE-cor: $(round(ae_cor, digits = 3))\\t cph-loss-avg: $(round(cph_loss / params_dict[\"nsamples_train\"],digits =6)) \\t cph-cind: $(round(cind_tr,digits =3))\")\n",
    "        println(\"\\t\\tTEST AE-loss $(round(ae_loss_test,digits =3)) \\t AE-cor: $(round(ae_cor_test, digits = 3))\\t cph-loss-avg: $(round(cph_loss_test / params_dict[\"nsamples_test\"],digits =6)) \\t cph-cind: $(round(cind_test,digits =3)) [$(Int(cdnt_tst)), $(Int(ddnt_tst)), $(Int(tied_tst))]\")\n",
    "    end\n",
    "    params_dict[\"cph_tst_c_ind\"] = concordance_index(test_y_t, test_y_e, OUTS_tst)[1]\n",
    "    params_dict[\"cph_train_c_ind\"] = concordance_index(train_y_t, train_y_e, OUTS_tr)[1]\n",
    "    params_dict[\"step\"] = iter \n",
    "end\n"
   ]
  },
  {
   "cell_type": "code",
   "execution_count": 140,
   "metadata": {},
   "outputs": [
    {
     "data": {
      "text/plain": [
       "AE_model(Chain(Dense(14996 => 3040, leakyrelu), Dense(3040 => 616, leakyrelu), Dense(616 => 125), Dense(125 => 616, leakyrelu), Dense(616 => 3040, leakyrelu), Dense(3040 => 14996, leakyrelu)), Chain(Dense(14996 => 3040, leakyrelu), Dense(3040 => 616, leakyrelu), Dense(616 => 125)), Chain(Dense(125 => 616, leakyrelu), Dense(616 => 3040, leakyrelu), Dense(3040 => 14996, leakyrelu)), Dense(3040 => 14996, leakyrelu), Adam(1.0e-6, (0.9, 0.999), 1.0e-8, IdDict{Any, Any}()), mse_l2)"
      ]
     },
     "metadata": {},
     "output_type": "display_data"
    }
   ],
   "source": [
    "model = build_aecox(params_dict)\n",
    "model[\"ae\"]"
   ]
  },
  {
   "cell_type": "code",
   "execution_count": 99,
   "metadata": {},
   "outputs": [],
   "source": [
    "#params_dict[\"cph_tst_c_ind\"] = concordance_index(test_y_t, test_y_e, OUTS_tst)[1]\n",
    "#params_dict[\"cph_train_c_ind\"] = concordance_index(train_y_t, train_y_e, OUTS_tr)[1]\n",
    "#params_dict[\"ae_tst_corr\"] = my_cor(ae_outs_test, x_test)\n",
    "#params_dict[\"ae_train_corr\"] = my_cor(ae_outs_train, x_train)\n",
    "\n",
    "#params_dict[\"model_cv_complete\"] = true\n",
    "model_params_path = \"$(params_dict[\"session_id\"])/$(params_dict[\"model_type\"])_$(params_dict[\"modelid\"])\"\n",
    "mkdir(\"RES/$model_params_path\")\n",
    "bson(\"RES/$model_params_path/params.bson\",params_dict)"
   ]
  },
  {
   "cell_type": "code",
   "execution_count": null,
   "metadata": {},
   "outputs": [],
   "source": []
  },
  {
   "cell_type": "markdown",
   "metadata": {},
   "source": [
    "### Figures  "
   ]
  },
  {
   "cell_type": "code",
   "execution_count": 2,
   "metadata": {},
   "outputs": [],
   "source": [
    "function gather_params(basedir=\".\")\n",
    "    df = DataFrame()\n",
    "    for (root, dirs, files) in walkdir(basedir)\n",
    "        for file in files\n",
    "            if file == \"params.bson\"\n",
    "                # println(\"Loading $root/$file\")\n",
    "                d = BSON.load(\"$root/$file\")\n",
    "                push!(df, d, cols=:union)\n",
    "            end\n",
    "        end\n",
    "    end\n",
    "    return df\n",
    "end\n",
    "\n",
    "df = gather_params(\"RES/\");\n"
   ]
  },
  {
   "cell_type": "code",
   "execution_count": 3,
   "metadata": {},
   "outputs": [
    {
     "data": {
      "text/plain": [
       "4-element Vector{String}:\n",
       " \"BRCA_data(norm=true)\"\n",
       " \"BRCA\"\n",
       " \"LGG\"\n",
       " \"OV\""
      ]
     },
     "metadata": {},
     "output_type": "display_data"
    }
   ],
   "source": [
    "unique(df.dataset)"
   ]
  },
  {
   "cell_type": "code",
   "execution_count": 9,
   "metadata": {},
   "outputs": [
    {
     "name": "stderr",
     "output_type": "stream",
     "text": [
      "┌ Warning: Found `resolution` in the theme when creating a `Scene`. The `resolution` keyword for `Scene`s and `Figure`s has been deprecated. Use `Figure(; size = ...` or `Scene(; size = ...)` instead, which better reflects that this is a unitless size and not a pixel resolution. The key could also come from `set_theme!` calls or related theming functions.\n",
      "└ @ Makie /u/sauves/.local/share/julia_GenuineIntel/packages/Makie/fyNiH/src/scenes.jl:220\n"
     ]
    },
    {
     "data": {
      "text/plain": [
       "CairoMakie.Screen{PDF}\n"
      ]
     },
     "metadata": {},
     "output_type": "display_data"
    }
   ],
   "source": [
    "models= df[[x in [\"cphdnn_v5\", \"vaecox_v4\"] for x in df[:,\"model_type\"]],:]\n",
    "models[models.dataset .== \"BRCA_data(norm=true)\", \"dataset\"] .= \"Lgn-AML\"\n",
    "#combine(groupby(cphdnn[:,[\"dataset\", \"cph_tst_c_ind\"]], :dataset), :cph_tst_c_ind=>median) \n",
    "sorted_df = sort(models, :dataset)\n",
    "sorted_df = leftjoin(sorted_df, DataFrame(:id =>collect(1:length(unique(sorted_df.dataset))), :dataset =>unique(sorted_df.dataset)), on = :dataset)\n",
    "\n",
    "fig =  Figure(resolution = (612,512));\n",
    "ax = Axis(fig[1,1],\n",
    "    xticks = (collect(1:length(unique(sorted_df.dataset))), unique(sorted_df.dataset)), \n",
    "    title = \"Survival prediction in cancer datasets with CPH-DNN and VAE-Cox\",\n",
    "    xlabel = \"Dataset\",\n",
    "    ylabel = \"concordance index\",\n",
    "    limits = (nothing, nothing, 0.5, 1))\n",
    "boxplot!(ax, sorted_df.id[sorted_df.model_type .== \"cphdnn_v5\"], sorted_df[sorted_df.model_type .== \"cphdnn_v5\",\"cph_tst_c_ind\"], label = \"CPHDNN\")\n",
    "boxplot!(ax, sorted_df.id[sorted_df.model_type .== \"vaecox_v4\"], sorted_df[sorted_df.model_type .== \"vaecox_v4\",\"cph_tst_c_ind\"], label = \"VAE-COX\")\n",
    "#scatter!(ax, sorted_df[:,\"id\"], sorted_df[:,\"cph_tst_c_ind\"])\n",
    "medians = combine(groupby(sorted_df[:,[\"id\", \"model_type\", \"cph_tst_c_ind\"]], [\"id\", \"model_type\"]), :cph_tst_c_ind=>median) \n",
    "text!(ax, medians.id, medians.cph_tst_c_ind_median, text= string.(round.(medians.cph_tst_c_ind_median, digits = 3)))\n",
    "axislegend(ax, position = :rt)\n",
    "CairoMakie.save(\"figures/cphdnn_vaecox_performance_multidatasets.svg\",fig)\n",
    "CairoMakie.save(\"figures/cphdnn_vaecox_performance_multidatasets.png\",fig)\n",
    "CairoMakie.save(\"figures/cphdnn_vaecox_performance_multidatasets.pdf\",fig)"
   ]
  },
  {
   "cell_type": "markdown",
   "metadata": {},
   "source": [
    "unique(models.model_type)"
   ]
  },
  {
   "cell_type": "code",
   "execution_count": 65,
   "metadata": {},
   "outputs": [
    {
     "data": {
      "image/png": "[encoded data removed]"
     },
     "metadata": {},
     "output_type": "display_data"
    }
   ],
   "source": [
    "sorted_df = sort(df, :model_type)\n",
    "sorted_df = leftjoin(sorted_df, DataFrame(:id =>collect(1:length(unique(sorted_df.model_type))), :model_type =>unique(sorted_df.model_type)), on = :model_type)\n",
    "\n",
    "fig = Figure(resolution = (1024,512));\n",
    "ax = Axis(fig[1,1],\n",
    "    ylabel = \"Concordance index\", \n",
    "    xlabel = \"Version of CPHDNN\",\n",
    "    limits = (nothing, nothing, 0.5, 1),\n",
    "    xticks = (collect(1:length(unique(sorted_df.model_type))), unique(sorted_df.model_type)))#(log2.(unique(V1[:, \"dim_redux\"])), [\"$x\" for x in unique(V1_2[:, \"dim_redux\"])] ));\n",
    "boxplot!(ax, sorted_df.id, sorted_df[:,\"cph_train_c_ind\"], label = \"train\")\n",
    "boxplot!(ax, sorted_df.id, sorted_df[:,\"cph_tst_c_ind\"], label = \"test\")\n",
    "medians = combine(groupby(sorted_df[:,[\"id\", \"cph_tst_c_ind\"]], :id), :cph_tst_c_ind=>median) \n",
    "text!(ax, medians.id, medians.cph_tst_c_ind_median, text= string.(round.(medians.cph_tst_c_ind_median, digits = 3)))\n",
    "#scatter!(ax, , V1[:,\"cph_tst_c_ind\"], label = \"test\")\n",
    "axislegend(ax,position =:rb)\n",
    "fig"
   ]
  },
  {
   "cell_type": "code",
   "execution_count": 10,
   "metadata": {},
   "outputs": [
    {
     "data": {
      "text/plain": [
       "7-element Vector{String}:\n",
       " \"0.601\"\n",
       " \"0.682\"\n",
       " \"0.675\"\n",
       " \"0.66\"\n",
       " \"0.68\"\n",
       " \"0.654\"\n",
       " \"0.639\""
      ]
     },
     "metadata": {},
     "output_type": "display_data"
    }
   ],
   "source": [
    "medians = combine(groupby(sorted_df[:,[\"id\", \"cph_tst_c_ind\"]], :id), :cph_tst_c_ind=>median) \n",
    "string.(round.(medians.cph_tst_c_ind_median, digits = 3))"
   ]
  },
  {
   "cell_type": "code",
   "execution_count": 13,
   "metadata": {},
   "outputs": [
    {
     "data": {
      "text/html": [
       "<div class=\"data-frame\"><p>50 rows × 34 columns (omitted printing of 26 columns)</p><table class=\"data-frame\"><thead><tr><th></th><th>ae_lr</th><th>dim_redux</th><th>ae_nb_hls</th><th>nsamples</th><th>cph_wd</th><th>cph_hl_size</th><th>nepochs</th><th>venc_nb_hl</th></tr><tr><th></th><th title=\"Float64\">Float64</th><th title=\"Int64\">Int64</th><th title=\"Int64\">Int64</th><th title=\"Int64\">Int64</th><th title=\"Float64\">Float64</th><th title=\"Int64\">Int64</th><th title=\"Int64\">Int64</th><th title=\"Int64\">Int64</th></tr></thead><tbody><tr><th>1</th><td>1.0e-6</td><td>125</td><td>2</td><td>300</td><td>0.0001</td><td>64</td><td>10000</td><td>2</td></tr><tr><th>2</th><td>1.0e-6</td><td>125</td><td>2</td><td>300</td><td>0.0001</td><td>64</td><td>10000</td><td>2</td></tr><tr><th>3</th><td>1.0e-6</td><td>125</td><td>2</td><td>300</td><td>0.0001</td><td>64</td><td>10000</td><td>2</td></tr><tr><th>4</th><td>1.0e-6</td><td>125</td><td>2</td><td>300</td><td>0.0001</td><td>64</td><td>10000</td><td>2</td></tr><tr><th>5</th><td>1.0e-6</td><td>125</td><td>2</td><td>300</td><td>0.0001</td><td>64</td><td>10000</td><td>2</td></tr><tr><th>6</th><td>1.0e-6</td><td>125</td><td>2</td><td>300</td><td>0.0001</td><td>64</td><td>10000</td><td>2</td></tr><tr><th>7</th><td>1.0e-6</td><td>125</td><td>2</td><td>300</td><td>0.0001</td><td>64</td><td>10000</td><td>2</td></tr><tr><th>8</th><td>1.0e-6</td><td>125</td><td>2</td><td>300</td><td>0.0001</td><td>64</td><td>10000</td><td>2</td></tr><tr><th>9</th><td>1.0e-6</td><td>125</td><td>2</td><td>300</td><td>0.0001</td><td>64</td><td>10000</td><td>2</td></tr><tr><th>10</th><td>1.0e-6</td><td>125</td><td>2</td><td>300</td><td>0.0001</td><td>64</td><td>10000</td><td>2</td></tr><tr><th>11</th><td>1.0e-6</td><td>125</td><td>2</td><td>300</td><td>0.0001</td><td>64</td><td>10000</td><td>2</td></tr><tr><th>12</th><td>1.0e-6</td><td>125</td><td>2</td><td>300</td><td>0.0001</td><td>64</td><td>10000</td><td>2</td></tr><tr><th>13</th><td>1.0e-6</td><td>125</td><td>2</td><td>300</td><td>0.0001</td><td>64</td><td>10000</td><td>2</td></tr><tr><th>14</th><td>1.0e-6</td><td>125</td><td>2</td><td>300</td><td>0.0001</td><td>64</td><td>10000</td><td>2</td></tr><tr><th>15</th><td>1.0e-6</td><td>125</td><td>2</td><td>300</td><td>0.0001</td><td>64</td><td>10000</td><td>2</td></tr><tr><th>16</th><td>1.0e-6</td><td>125</td><td>2</td><td>300</td><td>0.0001</td><td>64</td><td>10000</td><td>2</td></tr><tr><th>17</th><td>1.0e-6</td><td>125</td><td>2</td><td>300</td><td>0.0001</td><td>64</td><td>10000</td><td>2</td></tr><tr><th>18</th><td>1.0e-6</td><td>125</td><td>2</td><td>300</td><td>0.0001</td><td>64</td><td>10000</td><td>2</td></tr><tr><th>19</th><td>1.0e-6</td><td>125</td><td>2</td><td>300</td><td>0.0001</td><td>64</td><td>10000</td><td>2</td></tr><tr><th>20</th><td>1.0e-6</td><td>125</td><td>2</td><td>300</td><td>0.0001</td><td>64</td><td>10000</td><td>2</td></tr><tr><th>21</th><td>1.0e-6</td><td>125</td><td>2</td><td>300</td><td>0.0001</td><td>64</td><td>10000</td><td>2</td></tr><tr><th>22</th><td>1.0e-6</td><td>125</td><td>2</td><td>300</td><td>0.0001</td><td>64</td><td>10000</td><td>2</td></tr><tr><th>23</th><td>1.0e-6</td><td>125</td><td>2</td><td>300</td><td>0.0001</td><td>64</td><td>10000</td><td>2</td></tr><tr><th>24</th><td>1.0e-6</td><td>125</td><td>2</td><td>300</td><td>0.0001</td><td>64</td><td>10000</td><td>2</td></tr><tr><th>&vellip;</th><td>&vellip;</td><td>&vellip;</td><td>&vellip;</td><td>&vellip;</td><td>&vellip;</td><td>&vellip;</td><td>&vellip;</td><td>&vellip;</td></tr></tbody></table></div>"
      ],
      "text/latex": [
       "\\begin{tabular}{r|ccccccccc}\n",
       "\t& ae\\_lr & dim\\_redux & ae\\_nb\\_hls & nsamples & cph\\_wd & cph\\_hl\\_size & nepochs & venc\\_nb\\_hl & \\\\\n",
       "\t\\hline\n",
       "\t& Float64 & Int64 & Int64 & Int64 & Float64 & Int64 & Int64 & Int64 & \\\\\n",
       "\t\\hline\n",
       "\t1 & 1.0e-6 & 125 & 2 & 300 & 0.0001 & 64 & 10000 & 2 & $\\dots$ \\\\\n",
       "\t2 & 1.0e-6 & 125 & 2 & 300 & 0.0001 & 64 & 10000 & 2 & $\\dots$ \\\\\n",
       "\t3 & 1.0e-6 & 125 & 2 & 300 & 0.0001 & 64 & 10000 & 2 & $\\dots$ \\\\\n",
       "\t4 & 1.0e-6 & 125 & 2 & 300 & 0.0001 & 64 & 10000 & 2 & $\\dots$ \\\\\n",
       "\t5 & 1.0e-6 & 125 & 2 & 300 & 0.0001 & 64 & 10000 & 2 & $\\dots$ \\\\\n",
       "\t6 & 1.0e-6 & 125 & 2 & 300 & 0.0001 & 64 & 10000 & 2 & $\\dots$ \\\\\n",
       "\t7 & 1.0e-6 & 125 & 2 & 300 & 0.0001 & 64 & 10000 & 2 & $\\dots$ \\\\\n",
       "\t8 & 1.0e-6 & 125 & 2 & 300 & 0.0001 & 64 & 10000 & 2 & $\\dots$ \\\\\n",
       "\t9 & 1.0e-6 & 125 & 2 & 300 & 0.0001 & 64 & 10000 & 2 & $\\dots$ \\\\\n",
       "\t10 & 1.0e-6 & 125 & 2 & 300 & 0.0001 & 64 & 10000 & 2 & $\\dots$ \\\\\n",
       "\t11 & 1.0e-6 & 125 & 2 & 300 & 0.0001 & 64 & 10000 & 2 & $\\dots$ \\\\\n",
       "\t12 & 1.0e-6 & 125 & 2 & 300 & 0.0001 & 64 & 10000 & 2 & $\\dots$ \\\\\n",
       "\t13 & 1.0e-6 & 125 & 2 & 300 & 0.0001 & 64 & 10000 & 2 & $\\dots$ \\\\\n",
       "\t14 & 1.0e-6 & 125 & 2 & 300 & 0.0001 & 64 & 10000 & 2 & $\\dots$ \\\\\n",
       "\t15 & 1.0e-6 & 125 & 2 & 300 & 0.0001 & 64 & 10000 & 2 & $\\dots$ \\\\\n",
       "\t16 & 1.0e-6 & 125 & 2 & 300 & 0.0001 & 64 & 10000 & 2 & $\\dots$ \\\\\n",
       "\t17 & 1.0e-6 & 125 & 2 & 300 & 0.0001 & 64 & 10000 & 2 & $\\dots$ \\\\\n",
       "\t18 & 1.0e-6 & 125 & 2 & 300 & 0.0001 & 64 & 10000 & 2 & $\\dots$ \\\\\n",
       "\t19 & 1.0e-6 & 125 & 2 & 300 & 0.0001 & 64 & 10000 & 2 & $\\dots$ \\\\\n",
       "\t20 & 1.0e-6 & 125 & 2 & 300 & 0.0001 & 64 & 10000 & 2 & $\\dots$ \\\\\n",
       "\t21 & 1.0e-6 & 125 & 2 & 300 & 0.0001 & 64 & 10000 & 2 & $\\dots$ \\\\\n",
       "\t22 & 1.0e-6 & 125 & 2 & 300 & 0.0001 & 64 & 10000 & 2 & $\\dots$ \\\\\n",
       "\t23 & 1.0e-6 & 125 & 2 & 300 & 0.0001 & 64 & 10000 & 2 & $\\dots$ \\\\\n",
       "\t24 & 1.0e-6 & 125 & 2 & 300 & 0.0001 & 64 & 10000 & 2 & $\\dots$ \\\\\n",
       "\t$\\dots$ & $\\dots$ & $\\dots$ & $\\dots$ & $\\dots$ & $\\dots$ & $\\dots$ & $\\dots$ & $\\dots$ &  \\\\\n",
       "\\end{tabular}\n"
      ],
      "text/plain": [
       "\u001b[1m50×34 DataFrame\u001b[0m\n",
       "\u001b[1m Row \u001b[0m│\u001b[1m ae_lr   \u001b[0m\u001b[1m dim_redux \u001b[0m\u001b[1m ae_nb_hls \u001b[0m\u001b[1m nsamples \u001b[0m\u001b[1m cph_wd  \u001b[0m\u001b[1m cph_hl_size \u001b[0m\u001b[1m nepochs \u001b[0m\u001b[1m\u001b[0m ⋯\n",
       "\u001b[1m     \u001b[0m│\u001b[90m Float64 \u001b[0m\u001b[90m Int64     \u001b[0m\u001b[90m Int64     \u001b[0m\u001b[90m Int64    \u001b[0m\u001b[90m Float64 \u001b[0m\u001b[90m Int64       \u001b[0m\u001b[90m Int64   \u001b[0m\u001b[90m\u001b[0m ⋯\n",
       "─────┼──────────────────────────────────────────────────────────────────────────\n",
       "   1 │  1.0e-6        125          2       300   0.0001           64    10000  ⋯\n",
       "   2 │  1.0e-6        125          2       300   0.0001           64    10000\n",
       "   3 │  1.0e-6        125          2       300   0.0001           64    10000\n",
       "   4 │  1.0e-6        125          2       300   0.0001           64    10000\n",
       "   5 │  1.0e-6        125          2       300   0.0001           64    10000  ⋯\n",
       "   6 │  1.0e-6        125          2       300   0.0001           64    10000\n",
       "   7 │  1.0e-6        125          2       300   0.0001           64    10000\n",
       "   8 │  1.0e-6        125          2       300   0.0001           64    10000\n",
       "  ⋮  │    ⋮         ⋮          ⋮         ⋮         ⋮          ⋮          ⋮     ⋱\n",
       "  44 │  1.0e-6        125          2       300   0.0001           64    10000  ⋯\n",
       "  45 │  1.0e-6        125          2       300   0.0001           64    10000\n",
       "  46 │  1.0e-6        125          2       300   0.0001           64    10000\n",
       "  47 │  1.0e-6        125          2       300   0.0001           64    10000\n",
       "  48 │  1.0e-6        125          2       300   0.0001           64    10000  ⋯\n",
       "  49 │  1.0e-6        125          2       300   0.0001           64    10000\n",
       "  50 │  1.0e-6        125          2       300   0.0001           64    10000\n",
       "\u001b[36m                                                  27 columns and 35 rows omitted\u001b[0m"
      ]
     },
     "metadata": {},
     "output_type": "display_data"
    }
   ],
   "source": [
    "median(df[df.model_type .== \"vaecox_v2\",\"cph_tst_c_ind\"])\n",
    "sorted_df[sorted_df.model_type .== \"vaecox_v2\",:]"
   ]
  },
  {
   "cell_type": "code",
   "execution_count": 322,
   "metadata": {},
   "outputs": [
    {
     "data": {
      "text/html": [
       "<div class=\"data-frame\"><p>6 rows × 2 columns</p><table class=\"data-frame\"><thead><tr><th></th><th>id</th><th>cph_tst_c_ind_mean</th></tr><tr><th></th><th title=\"Union{Missing, Int64}\">Int64?</th><th title=\"Float64\">Float64</th></tr></thead><tbody><tr><th>1</th><td>1</td><td>0.595233</td></tr><tr><th>2</th><td>2</td><td>0.669938</td></tr><tr><th>3</th><td>3</td><td>0.678311</td></tr><tr><th>4</th><td>4</td><td>0.656278</td></tr><tr><th>5</th><td>5</td><td>0.678584</td></tr><tr><th>6</th><td>6</td><td>0.650901</td></tr></tbody></table></div>"
      ],
      "text/latex": [
       "\\begin{tabular}{r|cc}\n",
       "\t& id & cph\\_tst\\_c\\_ind\\_mean\\\\\n",
       "\t\\hline\n",
       "\t& Int64? & Float64\\\\\n",
       "\t\\hline\n",
       "\t1 & 1 & 0.595233 \\\\\n",
       "\t2 & 2 & 0.669938 \\\\\n",
       "\t3 & 3 & 0.678311 \\\\\n",
       "\t4 & 4 & 0.656278 \\\\\n",
       "\t5 & 5 & 0.678584 \\\\\n",
       "\t6 & 6 & 0.650901 \\\\\n",
       "\\end{tabular}\n"
      ],
      "text/plain": [
       "\u001b[1m6×2 DataFrame\u001b[0m\n",
       "\u001b[1m Row \u001b[0m│\u001b[1m id     \u001b[0m\u001b[1m cph_tst_c_ind_mean \u001b[0m\n",
       "\u001b[1m     \u001b[0m│\u001b[90m Int64? \u001b[0m\u001b[90m Float64            \u001b[0m\n",
       "─────┼────────────────────────────\n",
       "   1 │      1            0.595233\n",
       "   2 │      2            0.669938\n",
       "   3 │      3            0.678311\n",
       "   4 │      4            0.656278\n",
       "   5 │      5            0.678584\n",
       "   6 │      6            0.650901"
      ]
     },
     "metadata": {},
     "output_type": "display_data"
    }
   ],
   "source": [
    "means = combine(groupby(sorted_df[:,[\"id\", \"cph_tst_c_ind\"]], :id), :cph_tst_c_ind=>mean) "
   ]
  },
  {
   "cell_type": "code",
   "execution_count": 324,
   "metadata": {},
   "outputs": [
    {
     "data": {
      "text/plain": [
       "6-element Vector{Union{Missing, Int64}}:\n",
       " 1\n",
       " 2\n",
       " 3\n",
       " 4\n",
       " 5\n",
       " 6"
      ]
     },
     "metadata": {},
     "output_type": "display_data"
    }
   ],
   "source": [
    "means.id"
   ]
  },
  {
   "cell_type": "code",
   "execution_count": null,
   "metadata": {},
   "outputs": [],
   "source": []
  }
 ],
 "metadata": {
  "kernelspec": {
   "display_name": "Julia 1.10.0",
   "language": "julia",
   "name": "julia-1.10"
  },
  "language_info": {
   "file_extension": ".jl",
   "mimetype": "application/julia",
   "name": "julia",
   "version": "1.10.0"
  }
 },
 "nbformat": 4,
 "nbformat_minor": 2
}
