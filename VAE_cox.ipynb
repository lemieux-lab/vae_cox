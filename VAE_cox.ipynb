{
 "cells": [
  {
   "cell_type": "markdown",
   "metadata": {},
   "source": [
    "# ISMB figures notebook"
   ]
  },
  {
   "cell_type": "code",
   "execution_count": 2,
   "metadata": {},
   "outputs": [
    {
     "name": "stderr",
     "output_type": "stream",
     "text": [
      "\u001b[32m\u001b[1m  Activating\u001b[22m\u001b[39m project at `~/vae_cox`\n"
     ]
    }
   ],
   "source": [
    "\n",
    "include(\"engines/init.jl\")\n",
    "include(\"engines/data_processing.jl\")\n",
    "include(\"engines/deep_learning.jl\")\n",
    "include(\"engines/cross_validation.jl\")\n",
    "outpath, session_id = set_dirs() ;"
   ]
  },
  {
   "cell_type": "code",
   "execution_count": 11,
   "metadata": {},
   "outputs": [
    {
     "data": {
      "text/plain": [
       "MLSurvDataset(Float32[3.21643 0.30103 … 0.0 1.4149734; 3.2214143 0.845098 … 0.47712126 1.9777236; … ; 3.299943 0.0 … 0.0 1.9138138; 3.067071 0.47712126 … 0.69897 1.80618], [\"001ad307-4ad3-4f1d-b2fc-efc032871c7e\", \"0061e9ef-df6a-414e-af64-c88f8192e2d3\", \"0073a136-d5f4-4fd6-88f9-711768f2abc6\", \"00b18ad6-ff70-41fe-8f4d-0763ac8f28b9\", \"010aac75-3bfe-4bf2-b866-af0f2d92f125\", \"0167cf11-74be-4701-ab9a-4e057d4bb545\", \"019c5de9-74fd-48b7-95a3-227532e16c5a\", \"01a13aba-74a4-4895-a5ad-e5119925c202\", \"01c4ca12-ac08-41dd-9e4f-bfb0971688a2\", \"02194c0c-e2c1-4ea7-994a-07b61b2575e2\"  …  \"fc8828ae-484d-4fc8-a168-f8bc58ad65b9\", \"fcd9e1c4-bddb-4856-844c-03df48fba499\", \"fcf14e9d-4671-453d-b8e0-5008e916f56d\", \"fdff46a7-f92a-45cf-8756-6c73a406c923\", \"fe5c5c11-ef39-4907-9a70-67f37bb62fd7\", \"fea46eef-6b7f-44c3-93bf-2dec16bdeb79\", \"febe2ce5-737b-43b8-bc70-4194fe3ed5fb\", \"fee2114e-f723-4374-91f8-f1dcc6b3eaee\", \"ffcec8e5-9fd3-4b42-a7cb-74761f713cf4\", \"fff304a2-113f-499d-a88c-9d3660c348d9\"], [\"TSPAN6\", \"TNMD\", \"DPM1\", \"SCYL3\", \"C1orf112\", \"FGR\", \"CFH\", \"FUCA2\", \"GCLC\", \"NFYA\"  …  \"AL451106.1\", \"AC092910.4\", \"AC073611.1\", \"AC136977.1\", \"AC078856.1\", \"AC008763.4\", \"AL592295.6\", \"AC006486.3\", \"AL391628.1\", \"AP006621.6\"], [\"protein_coding\", \"protein_coding\", \"protein_coding\", \"protein_coding\", \"protein_coding\", \"protein_coding\", \"protein_coding\", \"protein_coding\", \"protein_coding\", \"protein_coding\"  …  \"protein_coding\", \"lncRNA\", \"lncRNA\", \"lncRNA\", \"lncRNA\", \"protein_coding\", \"lncRNA\", \"protein_coding\", \"protein_coding\", \"protein_coding\"], [\"9382/3\", \"9451/3\", \"9401/3\", \"9451/3\", \"9450/3\", \"9401/3\", \"9400/3\", \"9401/3\", \"9450/3\", \"9382/3\"  …  \"9451/3\", \"9401/3\", \"9400/3\", \"9401/3\", \"9382/3\", \"9401/3\", \"9382/3\", \"9451/3\", \"9400/3\", \"9450/3\"], [82, 4084, 609, 494, 2772, 1033, 3725, 608, 4695, 956  …  431, 6423, 772, 74, 414, 15, 721, 1220, 526, 933], [0, 1, 0, 0, 0, 1, 0, 0, 1, 0  …  0, 0, 0, 0, 0, 0, 0, 1, 0, 0])"
      ]
     },
     "metadata": {},
     "output_type": "display_data"
    }
   ],
   "source": [
    "LGG = MLSurvDataset(\"Data/TCGA_LGG_tpm_n513_btypes_labels_surv.h5\")"
   ]
  },
  {
   "cell_type": "code",
   "execution_count": 12,
   "metadata": {},
   "outputs": [
    {
     "data": {
      "text/plain": [
       "MLSurvDataset(Float32[3.2911468 0.7781513 … 1.1760913 2.3384564; 2.9527924 1.3617278 … 0.30103 1.5185139; … ; 3.4551494 0.30103 … 0.30103 2.0681858; 3.796019 0.60206 … 0.7781513 2.0530784], [\"005a6517-2e5a-4ea3-ab36-531522723607\", \"01ea6354-137b-47f3-9021-a01a382b1147\", \"02594e5e-8751-47c1-9245-90c66984b665\", \"02d9aa2e-b16a-48ea-a420-5daed9fd51a6\", \"0484a929-7a7f-4926-8d25-470ddab082ec\", \"04ecaf38-0232-4dcd-9242-308a22cc1331\", \"05019013-7ea5-4905-ac79-901146ba2ee2\", \"05263959-c4f5-4540-b6d2-d8c8a128861f\", \"05ba5839-e00a-4a9e-8ba3-ecb490781e62\", \"062982f8-9f49-425a-99e9-008af5ed9040\"  …  \"f9793a4b-c0e7-4475-bf80-69543b7ee2f6\", \"f9c835db-2ab6-4bf5-826f-48723493c0ec\", \"f9f44f86-10c7-4473-b156-5afbfa9a2ad0\", \"fbb45305-de8d-4baf-8bd0-047b29c2e9d9\", \"fd4740db-76a8-4362-be71-7b609479bb67\", \"fdf83fdf-dfbb-4306-9a1b-b4487d18b402\", \"fe0e3851-d8cb-4533-9536-b4826cd25f87\", \"fe402983-70da-44db-b7b1-c32702ddde26\", \"fef1696c-a8f4-4db6-8615-e486522baaaa\", \"ff844242-7559-4b07-b09e-69ea40e5ac6b\"], [\"TSPAN6\", \"TNMD\", \"DPM1\", \"SCYL3\", \"C1orf112\", \"FGR\", \"CFH\", \"FUCA2\", \"GCLC\", \"NFYA\"  …  \"AL451106.1\", \"AC092910.4\", \"AC073611.1\", \"AC136977.1\", \"AC078856.1\", \"AC008763.4\", \"AL592295.6\", \"AC006486.3\", \"AL391628.1\", \"AP006621.6\"], [\"protein_coding\", \"protein_coding\", \"protein_coding\", \"protein_coding\", \"protein_coding\", \"protein_coding\", \"protein_coding\", \"protein_coding\", \"protein_coding\", \"protein_coding\"  …  \"protein_coding\", \"lncRNA\", \"lncRNA\", \"lncRNA\", \"lncRNA\", \"protein_coding\", \"lncRNA\", \"protein_coding\", \"protein_coding\", \"protein_coding\"], [\"8441/3\", \"8441/3\", \"8441/3\", \"8441/3\", \"8441/3\", \"8441/3\", \"8441/3\", \"8441/3\", \"8441/3\", \"8441/3\"  …  \"8441/3\", \"8441/3\", \"8441/3\", \"8441/3\", \"8441/3\", \"8441/3\", \"8441/3\", \"8441/3\", \"8441/3\", \"8441/3\"], [74, 1199, 1919, 147, 947, 967, 2400, 2338, 23, 857  …  194, 555, 1933, 2614, 1369, 130, 1106, 2438, 232, 760], [1, 1, 0, 0, 0, 0, 1, 0, 1, 1  …  0, 1, 1, 0, 1, 0, 1, 0, 0, 1])"
      ]
     },
     "metadata": {},
     "output_type": "display_data"
    }
   ],
   "source": [
    "OV = MLSurvDataset(\"Data/TCGA_OV_tpm_n420_btypes_labels_surv.h5\")"
   ]
  },
  {
   "cell_type": "code",
   "execution_count": 13,
   "metadata": {},
   "outputs": [
    {
     "data": {
      "text/plain": [
       "MLSurvDataset(Float32[2.628389 0.60206 … 0.47712126 1.30103; 3.3195224 2.4843 … 0.90309 1.3617278; … ; 3.2151086 1.0413927 … 0.0 1.0791812; 3.328991 1.0 … 0.60206 1.5563025], [\"001cef41-ff86-4d3f-a140-a647ac4b10a1\", \"0045349c-69d9-4306-a403-c9c1fa836644\", \"00807dae-9f4a-4fd1-aac2-82eb11bf2afb\", \"00a2d166-78c9-4687-a195-3d6315c27574\", \"00b11ca8-8540-4a3d-b602-ec754b00230b\", \"011b9b2d-ebe5-42bf-9662-d922faccc7a1\", \"01263518-5f7c-49dc-8d7e-84b0c03a6a63\", \"0130d616-885e-4a6c-9d03-2f17dd692a05\", \"01674b2c-5cf2-478f-84a1-f69c39f47bd4\", \"016caf42-4e19-4444-ab5d-6cf1e76c4afa\"  …  \"fb57c598-b45b-478a-9d34-ca1f050d5b7c\", \"fbee40f1-d6d8-4156-8d42-36e09bb9f095\", \"fc18d029-9be2-4fa0-9aef-6d647dc55f0b\", \"fcef8cb5-fb2c-4bfb-82cd-6b9f3145182c\", \"fd0b1b8b-1a76-480a-b61c-d176e4e02c6b\", \"fe15c48b-116d-461e-9b40-68514730fd18\", \"fe2cd610-aa52-4789-ac62-7683281bb22f\", \"fe7f74b8-20f4-4471-91dc-4cca8c68e5c0\", \"fec0da58-1047-44d2-b6d1-c18cceed43dc\", \"ff0f875f-113a-4c0f-8c0a-4259cd496e6d\"], [\"TSPAN6\", \"TNMD\", \"DPM1\", \"SCYL3\", \"C1orf112\", \"FGR\", \"CFH\", \"FUCA2\", \"GCLC\", \"NFYA\"  …  \"AL451106.1\", \"AC092910.4\", \"AC073611.1\", \"AC136977.1\", \"AC078856.1\", \"AC008763.4\", \"AL592295.6\", \"AC006486.3\", \"AL391628.1\", \"AP006621.6\"], [\"protein_coding\", \"protein_coding\", \"protein_coding\", \"protein_coding\", \"protein_coding\", \"protein_coding\", \"protein_coding\", \"protein_coding\", \"protein_coding\", \"protein_coding\"  …  \"protein_coding\", \"lncRNA\", \"lncRNA\", \"lncRNA\", \"lncRNA\", \"protein_coding\", \"lncRNA\", \"protein_coding\", \"protein_coding\", \"protein_coding\"], [\"LumA\", \"Basal\", \"Her2\", \"Her2\", \"Normal\", \"LumA\", \"LumB\", \"LumA\", \"Basal\", \"Basal\"  …  \"LumA\", \"LumB\", \"Basal\", \"Normal\", \"Her2\", \"Normal\", \"LumA\", \"Basal\", \"LumA\", \"Her2\"], [337, 259, 3102, 5, 759, 954, 304, 503, 915, 3248  …  78, 572, 584, 414, 2164, 2813, 5, 1532, 375, 381], [0, 0, 0, 0, 0, 0, 0, 0, 0, 0  …  0, 0, 0, 0, 0, 0, 0, 0, 0, 0])"
      ]
     },
     "metadata": {},
     "output_type": "display_data"
    }
   ],
   "source": [
    "BRCA = MLSurvDataset(\"Data/TCGA_BRCA_tpm_n1049_btypes_labels_surv.h5\")"
   ]
  },
  {
   "cell_type": "code",
   "execution_count": 14,
   "metadata": {},
   "outputs": [
    {
     "data": {
      "text/plain": [
       "MLSurvDataset(Float32[0.008600163 0.0 … 0.0 0.0; 0.033423774 0.00432137 … 0.0 0.029383799; … ; 0.4828736 0.0 … 0.0 0.15836251; 0.045322984 0.017033324 … 0.0 0.20682588], [\"01H001\", \"02H003\", \"02H009\", \"02H017\", \"02H026\", \"02H033\", \"02H053\", \"02H066\", \"03H016\", \"03H022\"  …  \"13H186\", \"14H001\", \"14H007\", \"14H012\", \"14H015\", \"14H017\", \"14H019\", \"14H020\", \"14H023\", \"14H038\"], [\"TSPAN6\", \"TNMD\", \"DPM1\", \"SCYL3\", \"C1orf112\", \"FGR\", \"CFH\", \"FUCA2\", \"GCLC\", \"NFYA\"  …  \"AP003086.3\", \"AL109627.1\", \"AC084851.4\", \"AC024558.2\", \"AC108479.4\", \"AL512357.2\", \"AL138899.3\", \"AL669830.1\", \"AC091135.2\", \"AL357075.5\"], [\"lncRNA\", \"lncRNA\", \"protein_coding\", \"lncRNA\", \"protein_coding\", \"lncRNA\", \"protein_coding,retained_intron\", \"lncRNA\", \"protein_coding\", \"protein_coding\"  …  \"transcribed_processed_pseudogene\", \"lncRNA\", \"processed_pseudogene\", \"protein_coding\", \"unprocessed_pseudogene\", \"lncRNA\", \"protein_coding\", \"retained_intron\", \"unprocessed_pseudogene\", \"protein_coding\"], [\"Therapy-related myeloid neoplasms\", \"AML with minimal differentiation\", \"AML without maturation\", \"AML with minimal differentiation\", \"AML with myelodysplasia-related changes\", \"Acute monoblastic and monocytic leukaemia\", \"AML without maturation\", \"AML without maturation\", \"Acute monoblastic and monocytic leukaemia\", \"AML with myelodysplasia-related changes\"  …  \"Acute myelomonocytic leukaemia\", \"AML without maturation\", \"AML with maturation\", \"AML with minimal differentiation\", \"Acute myelomonocytic leukaemia\", \"AML without maturation\", \"AML with minimal differentiation\", \"AML without maturation\", \"AML with myelodysplasia-related changes\", \"AML with inv(3)(q21q26.2) or t(3;3)(q21;q26.2); RPN1-EVI1\"], [2170, 1396, 236, 284, 358, 101, 37, 135, 6033, 805  …  150, 2086, 75, 1467, 207, 213, 1983, 1952, 36, 255], [1, 1, 1, 1, 1, 1, 1, 1, 0, 1  …  1, 0, 1, 1, 1, 1, 0, 0, 1, 1])"
      ]
     },
     "metadata": {},
     "output_type": "display_data"
    }
   ],
   "source": [
    "LAML = MLSurvDataset(\"Data/LGN_AML_tpm_n300_btypes_labels_surv.h5\") "
   ]
  },
  {
   "cell_type": "code",
   "execution_count": 28,
   "metadata": {},
   "outputs": [
    {
     "data": {
      "text/plain": [
       "Chain(\n",
       "  Dense(14996 => 1; bias=false),        \u001b[90m# 14_996 parameters\u001b[39m\n",
       ") "
      ]
     },
     "metadata": {},
     "output_type": "display_data"
    }
   ],
   "source": [
    "cox_ridge = gpu(Chain(Dense(params_dict[\"insize\"], 1, bias = false)))"
   ]
  },
  {
   "cell_type": "code",
   "execution_count": 37,
   "metadata": {},
   "outputs": [
    {
     "data": {
      "text/plain": [
       "4.958"
      ]
     },
     "metadata": {},
     "output_type": "display_data"
    }
   ],
   "source": [
    "ps1 = Flux.params(cox_ridge)\n",
    "gs1 = gradient(ps1) do \n",
    "    cox_nll_vec(cox_ridge, train_x, train_y_e, NE_frac_tr) + l2_penalty(cox_ridge)\n",
    "end \n",
    "Flux.update!(opt1,ps1, gs1)\n",
    "vaecox_loss =  round(cox_nll_vec(cox_ridge, train_x, train_y_e, NE_frac_tr) + l2_penalty(cox_ridge) * wd , digits = 3)  \n",
    "    "
   ]
  },
  {
   "cell_type": "code",
   "execution_count": 15,
   "metadata": {},
   "outputs": [
    {
     "data": {
      "text/plain": [
       "format_train_test (generic function with 1 method)"
      ]
     },
     "metadata": {},
     "output_type": "display_data"
    }
   ],
   "source": [
    "function format_train_test(fold; device = gpu)\n",
    "    nsamples = size(fold[\"train_x\"])[1]\n",
    "    ordering = sortperm(-fold[\"Y_t_train\"])\n",
    "    train_x = device(Matrix(fold[\"train_x\"][ordering,:]'));\n",
    "    train_y_t = device(Matrix(fold[\"Y_t_train\"][ordering,:]'));\n",
    "    train_y_e = device(Matrix(fold[\"Y_e_train\"][ordering,:]'));\n",
    "    NE_frac_tr = sum(train_y_e .== 1) != 0 ? 1 / sum(train_y_e .== 1) : 0\n",
    "\n",
    "    nsamples = size(fold[\"test_x\"])[1]\n",
    "    ordering = sortperm(-fold[\"Y_t_test\"])\n",
    "    test_x = device(Matrix(fold[\"test_x\"][ordering,:]'));\n",
    "    test_y_t = device(Matrix(fold[\"Y_t_test\"][ordering,:]'));\n",
    "    test_y_e = device(Matrix(fold[\"Y_e_test\"][ordering,:]'));\n",
    "    NE_frac_tst = sum(test_y_e .== 1) != 0 ? 1 / sum(test_y_e .== 1) : 0\n",
    "    return train_x, train_y_t, train_y_e, NE_frac_tr, test_x, test_y_t, test_y_e, NE_frac_tst\n",
    "end "
   ]
  },
  {
   "cell_type": "code",
   "execution_count": 19,
   "metadata": {},
   "outputs": [
    {
     "data": {
      "text/plain": [
       "data_prep_pca (generic function with 1 method)"
      ]
     },
     "metadata": {},
     "output_type": "display_data"
    }
   ],
   "source": [
    "function data_prep_pca(DATA;nfolds = 5, nepochs =1000, dim_redux= 125)\n",
    "    keep = [occursin(\"protein_coding\", bt) for bt in DATA.biotypes]\n",
    "    println(\"nb genes : $(sum(keep))\")\n",
    "    println(\"nb patients : $(size(DATA.samples)[1])\")\n",
    "    println(\"% uncensored : $(mean(DATA.surve .!= 0))\")\n",
    "    M = fit(PCA, Matrix(DATA.data[:,keep]'))\n",
    "    pca_data = Matrix(predict(M, Matrix(DATA.data[:,keep]') )')\n",
    "    params_dict = Dict(\n",
    "            ## run infos \n",
    "            \"session_id\" => session_id, \"nfolds\" =>5,  \"modelid\" => \"$(bytes2hex(sha256(\"$(now())\"))[1:Int(floor(end/3))])\",\n",
    "            \"machine_id\"=>strip(read(`hostname`, String)), \"device\" => \"$(device())\", \"model_title\"=>\"AECPHDNN\",\n",
    "            ## data infos \n",
    "            \"dataset\" => \"LAML_pca\", \"nsamples\" => size(DATA.samples)[1],\n",
    "            \"nsamples_test\" => Int(round(size(DATA.samples)[1] / nfolds)), \"ngenes\" => size(DATA.genes[keep])[1],\n",
    "            \"nsamples_train\" => size(DATA.samples)[1] - Int(round(size(DATA.samples)[1] / nfolds)),\n",
    "            ## optim infos \n",
    "            \"nepochs\" => nepochs, \"ae_lr\" =>1e-6, \"cph_lr\" => 1e-5, \"ae_wd\" => 1e-6, \"cph_wd\" => 1e-6,\n",
    "            ## model infos\n",
    "            \"model_type\"=> \"vaecox\", \"dim_redux\" => dim_redux, \"ae_nb_hls\" => 2,\n",
    "            \"enc_nb_hl\" => 2, \"enc_hl_size\"=> 128,\n",
    "            \"venc_nb_hl\" => 2, \"venc_hl_size\"=> 128,  \"dec_nb_hl\" => 2 , \"dec_hl_size\"=> 128,\n",
    "            \"nb_clinf\" => 0, \"cph_nb_hl\" => 2, \"cph_hl_size\" => 64, \n",
    "            \"insize\" => size(pca_data)[2],\n",
    "            ## metrics\n",
    "            \"model_cv_complete\" => false\n",
    "        )\n",
    "    # split train test\n",
    "    \n",
    "    folds = split_train_test(pca_data[:,1:30], DATA.survt, DATA.surve, DATA.samples;nfolds =5)\n",
    "    fold = folds[1]\n",
    "    # format input data  \n",
    "    train_x, train_y_t, train_y_e, NE_frac_tr, test_x, test_y_t, test_y_e, NE_frac_tst = format_train_test(fold)\n",
    "\n",
    "    return train_x, train_y_t, train_y_e, NE_frac_tr, test_x, test_y_t, test_y_e, NE_frac_tst, params_dict\n",
    "end"
   ]
  },
  {
   "cell_type": "code",
   "execution_count": 21,
   "metadata": {},
   "outputs": [
    {
     "data": {
      "text/plain": [
       "VAE_COX_loss (generic function with 1 method)"
      ]
     },
     "metadata": {},
     "output_type": "display_data"
    }
   ],
   "source": [
    "function VAE_COX_loss(VENC::VariationalEncoder, CPH, X, Y_e, NE_frac;device = gpu)\n",
    "    mu, log_sigma = VENC(X)\n",
    "    #z = mu + device(randn(Float32, size(log_sigma))) .* exp.(log_sigma)\n",
    "    outs = vec(CPH(mu))\n",
    "    hazard_ratios = exp.(outs)\n",
    "    log_risk = log.(cumsum(hazard_ratios))\n",
    "    uncensored_likelihood = outs .- log_risk\n",
    "    censored_likelihood = uncensored_likelihood .* Y_e'\n",
    "    #neg_likelihood = - sum(censored_likelihood) / sum(e .== 1)\n",
    "    neg_likelihood = - sum(censored_likelihood) * NE_frac\n",
    "    return neg_likelihood\n",
    "end "
   ]
  },
  {
   "cell_type": "code",
   "execution_count": 22,
   "metadata": {},
   "outputs": [
    {
     "data": {
      "text/plain": [
       "VariationalEncoder"
      ]
     },
     "metadata": {},
     "output_type": "display_data"
    }
   ],
   "source": [
    "function VariationalEncoder(input_dim::Int, latent_dim::Int, hidden_dim::Int;device = gpu) \n",
    "    return VariationalEncoder(\n",
    "    device(Chain(Dense(input_dim, hidden_dim, leakyrelu), Dense(hidden_dim,hidden_dim, leakyrelu))),   # linear\n",
    "    device(Dense(hidden_dim, latent_dim)),        # mu\n",
    "    device(Dense(hidden_dim, latent_dim)))        # log sigma\n",
    "end "
   ]
  },
  {
   "cell_type": "code",
   "execution_count": 23,
   "metadata": {},
   "outputs": [
    {
     "data": {
      "text/plain": [
       "l2_penalty (generic function with 7 methods)"
      ]
     },
     "metadata": {},
     "output_type": "display_data"
    }
   ],
   "source": [
    "function l2_penalty(model::VariationalEncoder)\n",
    "    l2_sum = 0\n",
    "    for wm in model.linear\n",
    "        l2_sum += sum(abs2, wm.weight)\n",
    "    end \n",
    "    l2_sum += sum(abs2, model.mu.weight)\n",
    "    l2_sum += sum(abs2, model.log_sigma.weight)\n",
    "    return l2_sum\n",
    "end"
   ]
  },
  {
   "cell_type": "code",
   "execution_count": 46,
   "metadata": {},
   "outputs": [
    {
     "name": "stdout",
     "output_type": "stream",
     "text": [
      "nb genes : 19962\n",
      "nb patients : 1049\n",
      "% uncensored : 0.14013346043851288\n"
     ]
    },
    {
     "name": "stdout",
     "output_type": "stream",
     "text": [
      "1 TRAIN 5.544 cind: 0.479 \t TEST ae-corr: 0.027 \tcind: 0.596 [1717, 1163, 0]\n"
     ]
    },
    {
     "name": "stdout",
     "output_type": "stream",
     "text": [
      "400 TRAIN 5.544 cind: 0.479 \t TEST ae-corr: 0.146 \tcind: 0.596 [1717, 1163, 0]\n"
     ]
    },
    {
     "name": "stdout",
     "output_type": "stream",
     "text": [
      "800 TRAIN 5.544 cind: 0.479 \t TEST ae-corr: 0.257 \tcind: 0.596 [1717, 1163, 0]\n"
     ]
    },
    {
     "name": "stdout",
     "output_type": "stream",
     "text": [
      "1200 TRAIN 5.544 cind: 0.479 \t TEST ae-corr: 0.39 \tcind: 0.596 [1717, 1163, 0]\n"
     ]
    },
    {
     "name": "stdout",
     "output_type": "stream",
     "text": [
      "1600 TRAIN 5.544 cind: 0.479 \t TEST ae-corr: 0.524 \tcind: 0.596 [1717, 1163, 0]\n"
     ]
    },
    {
     "name": "stdout",
     "output_type": "stream",
     "text": [
      "2000 TRAIN 5.544 cind: 0.479 \t TEST ae-corr: 0.567 \tcind: 0.596 [1717, 1163, 0]\n"
     ]
    },
    {
     "name": "stdout",
     "output_type": "stream",
     "text": [
      "2400 TRAIN 5.544 cind: 0.479 \t TEST ae-corr: 0.642 \tcind: 0.596 [1717, 1163, 0]\n"
     ]
    },
    {
     "name": "stdout",
     "output_type": "stream",
     "text": [
      "2800 TRAIN 5.544 cind: 0.479 \t TEST ae-corr: 0.679 \tcind: 0.596 [1717, 1163, 0]\n"
     ]
    },
    {
     "name": "stdout",
     "output_type": "stream",
     "text": [
      "1 TRAIN 5.542 cind: 0.479 \t TEST ae-corr: 0.693 \tcind: 0.596 [1717, 1163, 0]\n"
     ]
    },
    {
     "name": "stdout",
     "output_type": "stream",
     "text": [
      "400 TRAIN 5.504 cind: 0.492 \t TEST ae-corr: 0.695 \tcind: 0.592 [1704, 1176, 0]\n"
     ]
    },
    {
     "name": "stdout",
     "output_type": "stream",
     "text": [
      "800 TRAIN 5.468 cind: 0.507 \t TEST ae-corr: 0.701 \tcind: 0.592 [1706, 1174, 0]\n"
     ]
    },
    {
     "name": "stdout",
     "output_type": "stream",
     "text": [
      "1200 TRAIN 5.434 cind: 0.521 \t TEST ae-corr: 0.691 \tcind: 0.592 [1704, 1176, 0]\n"
     ]
    },
    {
     "name": "stdout",
     "output_type": "stream",
     "text": [
      "1600 TRAIN 5.403 cind: 0.537 \t TEST ae-corr: 0.706 \tcind: 0.585 [1686, 1194, 0]\n"
     ]
    },
    {
     "name": "stdout",
     "output_type": "stream",
     "text": [
      "2000 TRAIN 5.373 cind: 0.553 \t TEST ae-corr: 0.706 \tcind: 0.583 [1680, 1200, 0]\n"
     ]
    },
    {
     "name": "stdout",
     "output_type": "stream",
     "text": [
      "2400 TRAIN 5.344 cind: 0.571 \t TEST ae-corr: 0.697 \tcind: 0.581 [1674, 1206, 0]\n"
     ]
    },
    {
     "name": "stdout",
     "output_type": "stream",
     "text": [
      "2800 TRAIN 5.316 cind: 0.59 \t TEST ae-corr: 0.689 \tcind: 0.581 [1673, 1207, 0]\n"
     ]
    },
    {
     "name": "stdout",
     "output_type": "stream",
     "text": [
      "3200 TRAIN 5.29 cind: 0.607 \t TEST ae-corr: 0.654 \tcind: 0.585 [1686, 1194, 0]\n"
     ]
    },
    {
     "name": "stdout",
     "output_type": "stream",
     "text": [
      "3600 TRAIN 5.264 cind: 0.627 \t TEST ae-corr: 0.686 \tcind: 0.582 [1677, 1203, 0]\n"
     ]
    },
    {
     "name": "stdout",
     "output_type": "stream",
     "text": [
      "4000 TRAIN 5.239 cind: 0.645 \t TEST ae-corr: 0.706 \tcind: 0.582 [1677, 1203, 0]\n"
     ]
    },
    {
     "name": "stdout",
     "output_type": "stream",
     "text": [
      "4400 TRAIN 5.214 cind: 0.663 \t TEST ae-corr: 0.694 \tcind: 0.585 [1685, 1195, 0]\n"
     ]
    },
    {
     "name": "stdout",
     "output_type": "stream",
     "text": [
      "4800 TRAIN 5.191 cind: 0.68 \t TEST ae-corr: 0.698 \tcind: 0.586 [1688, 1192, 0]\n"
     ]
    },
    {
     "name": "stdout",
     "output_type": "stream",
     "text": [
      "5200 TRAIN 5.168 cind: 0.695 \t TEST ae-corr: 0.69 \tcind: 0.591 [1701, 1179, 0]\n"
     ]
    },
    {
     "name": "stdout",
     "output_type": "stream",
     "text": [
      "5600 TRAIN 5.145 cind: 0.71 \t TEST ae-corr: 0.699 \tcind: 0.59 [1699, 1181, 0]\n"
     ]
    },
    {
     "name": "stdout",
     "output_type": "stream",
     "text": [
      "6000 TRAIN 5.123 cind: 0.723 \t TEST ae-corr: 0.693 \tcind: 0.592 [1706, 1174, 0]\n"
     ]
    },
    {
     "name": "stdout",
     "output_type": "stream",
     "text": [
      "6400 TRAIN 5.102 cind: 0.735 \t TEST ae-corr: 0.702 \tcind: 0.594 [1712, 1168, 0]\n"
     ]
    },
    {
     "name": "stdout",
     "output_type": "stream",
     "text": [
      "6800 TRAIN 5.081 cind: 0.746 \t TEST ae-corr: 0.689 \tcind: 0.595 [1715, 1165, 0]\n"
     ]
    },
    {
     "name": "stdout",
     "output_type": "stream",
     "text": [
      "7200 TRAIN 5.06 cind: 0.755 \t TEST ae-corr: 0.699 \tcind: 0.599 [1725, 1155, 0]\n"
     ]
    },
    {
     "name": "stdout",
     "output_type": "stream",
     "text": [
      "7600 TRAIN 5.04 cind: 0.763 \t TEST ae-corr: 0.685 \tcind: 0.599 [1726, 1154, 0]\n"
     ]
    },
    {
     "name": "stdout",
     "output_type": "stream",
     "text": [
      "8000 TRAIN 5.02 cind: 0.771 \t TEST ae-corr: 0.693 \tcind: 0.6 [1729, 1151, 0]\n"
     ]
    },
    {
     "name": "stdout",
     "output_type": "stream",
     "text": [
      "8400 TRAIN 5.001 cind: 0.779 \t TEST ae-corr: 0.679 \tcind: 0.601 [1731, 1149, 0]\n"
     ]
    },
    {
     "name": "stdout",
     "output_type": "stream",
     "text": [
      "8800 TRAIN 4.982 cind: 0.785 \t TEST ae-corr: 0.692 \tcind: 0.601 [1730, 1150, 0]\n"
     ]
    },
    {
     "name": "stdout",
     "output_type": "stream",
     "text": [
      "9200 TRAIN 4.963 cind: 0.791 \t TEST ae-corr: 0.694 \tcind: 0.602 [1733, 1147, 0]\n"
     ]
    },
    {
     "name": "stdout",
     "output_type": "stream",
     "text": [
      "9600 TRAIN 4.945 cind: 0.797 \t TEST ae-corr: 0.704 \tcind: 0.601 [1730, 1150, 0]\n"
     ]
    },
    {
     "name": "stdout",
     "output_type": "stream",
     "text": [
      "10000 TRAIN 4.927 cind: 0.802 \t TEST ae-corr: 0.678 \tcind: 0.601 [1730, 1150, 0]\n"
     ]
    },
    {
     "name": "stdout",
     "output_type": "stream",
     "text": [
      "1 TRAIN 4.928 cind: 0.802 \t TEST ae-corr: 0.677 \tcind: 0.601 [1730, 1150, 0]\n"
     ]
    },
    {
     "name": "stdout",
     "output_type": "stream",
     "text": [
      "400 TRAIN 4.91 cind: 0.807 \t TEST ae-corr: 0.656 \tcind: 0.601 [1732, 1148, 0]\n"
     ]
    },
    {
     "name": "stdout",
     "output_type": "stream",
     "text": [
      "800 TRAIN 4.893 cind: 0.811 \t TEST ae-corr: 0.704 \tcind: 0.604 [1739, 1141, 0]\n"
     ]
    },
    {
     "name": "stdout",
     "output_type": "stream",
     "text": [
      "1200 TRAIN 4.875 cind: 0.816 \t TEST ae-corr: 0.69 \tcind: 0.603 [1736, 1144, 0]\n"
     ]
    },
    {
     "name": "stdout",
     "output_type": "stream",
     "text": [
      "1600 TRAIN 4.858 cind: 0.819 \t TEST ae-corr: 0.691 \tcind: 0.605 [1741, 1139, 0]\n"
     ]
    },
    {
     "name": "stdout",
     "output_type": "stream",
     "text": [
      "2000 TRAIN 4.841 cind: 0.824 \t TEST ae-corr: 0.682 \tcind: 0.604 [1740, 1140, 0]\n"
     ]
    },
    {
     "name": "stdout",
     "output_type": "stream",
     "text": [
      "2400 TRAIN 4.824 cind: 0.827 \t TEST ae-corr: 0.693 \tcind: 0.604 [1739, 1141, 0]\n"
     ]
    },
    {
     "name": "stdout",
     "output_type": "stream",
     "text": [
      "2800 TRAIN 4.808 cind: 0.831 \t TEST ae-corr: 0.684 \tcind: 0.604 [1740, 1140, 0]\n"
     ]
    },
    {
     "name": "stdout",
     "output_type": "stream",
     "text": [
      "3200 TRAIN 4.791 cind: 0.834 \t TEST ae-corr: 0.694 \tcind: 0.605 [1741, 1139, 0]\n"
     ]
    },
    {
     "name": "stdout",
     "output_type": "stream",
     "text": [
      "3600 TRAIN 4.775 cind: 0.838 \t TEST ae-corr: 0.686 \tcind: 0.602 [1733, 1147, 0]\n"
     ]
    },
    {
     "name": "stdout",
     "output_type": "stream",
     "text": [
      "4000 TRAIN 4.759 cind: 0.841 \t TEST ae-corr: 0.676 \tcind: 0.604 [1739, 1141, 0]\n"
     ]
    },
    {
     "name": "stdout",
     "output_type": "stream",
     "text": [
      "4400 TRAIN 4.743 cind: 0.844 \t TEST ae-corr: 0.687 \tcind: 0.605 [1741, 1139, 0]\n"
     ]
    },
    {
     "name": "stdout",
     "output_type": "stream",
     "text": [
      "4800 TRAIN 4.727 cind: 0.847 \t TEST ae-corr: 0.683 \tcind: 0.606 [1744, 1136, 0]\n"
     ]
    },
    {
     "name": "stdout",
     "output_type": "stream",
     "text": [
      "5200 TRAIN 4.711 cind: 0.85 \t TEST ae-corr: 0.694 \tcind: 0.606 [1745, 1135, 0]\n"
     ]
    },
    {
     "name": "stdout",
     "output_type": "stream",
     "text": [
      "5600 TRAIN 4.696 cind: 0.853 \t TEST ae-corr: 0.693 \tcind: 0.605 [1741, 1139, 0]\n"
     ]
    },
    {
     "name": "stdout",
     "output_type": "stream",
     "text": [
      "6000 TRAIN 4.68 cind: 0.857 \t TEST ae-corr: 0.677 \tcind: 0.607 [1747, 1133, 0]\n"
     ]
    },
    {
     "name": "stdout",
     "output_type": "stream",
     "text": [
      "6400 TRAIN 4.665 cind: 0.86 \t TEST ae-corr: 0.695 \tcind: 0.608 [1750, 1130, 0]\n"
     ]
    },
    {
     "name": "stdout",
     "output_type": "stream",
     "text": [
      "6800 TRAIN 4.649 cind: 0.863 \t TEST ae-corr: 0.702 \tcind: 0.609 [1755, 1125, 0]\n"
     ]
    },
    {
     "name": "stdout",
     "output_type": "stream",
     "text": [
      "7200 TRAIN 4.634 cind: 0.865 \t TEST ae-corr: 0.703 \tcind: 0.61 [1757, 1123, 0]\n"
     ]
    },
    {
     "name": "stdout",
     "output_type": "stream",
     "text": [
      "7600 TRAIN 4.619 cind: 0.868 \t TEST ae-corr: 0.679 \tcind: 0.61 [1758, 1122, 0]\n"
     ]
    },
    {
     "name": "stdout",
     "output_type": "stream",
     "text": [
      "8000 TRAIN 4.604 cind: 0.871 \t TEST ae-corr: 0.705 \tcind: 0.61 [1756, 1124, 0]\n"
     ]
    },
    {
     "name": "stdout",
     "output_type": "stream",
     "text": [
      "8400 TRAIN 4.589 cind: 0.873 \t TEST ae-corr: 0.684 \tcind: 0.61 [1758, 1122, 0]\n"
     ]
    },
    {
     "name": "stdout",
     "output_type": "stream",
     "text": [
      "8800 TRAIN 4.574 cind: 0.876 \t TEST ae-corr: 0.687 \tcind: 0.611 [1759, 1121, 0]\n"
     ]
    },
    {
     "name": "stdout",
     "output_type": "stream",
     "text": [
      "9200 TRAIN 4.559 cind: 0.878 \t TEST ae-corr: 0.668 \tcind: 0.611 [1761, 1119, 0]\n"
     ]
    },
    {
     "name": "stdout",
     "output_type": "stream",
     "text": [
      "9600 TRAIN 4.545 cind: 0.88 \t TEST ae-corr: 0.69 \tcind: 0.611 [1759, 1121, 0]\n"
     ]
    },
    {
     "name": "stdout",
     "output_type": "stream",
     "text": [
      "10000 TRAIN 4.53 cind: 0.883 \t TEST ae-corr: 0.687 \tcind: 0.611 [1759, 1121, 0]\n"
     ]
    }
   ],
   "source": [
    "train_x, train_y_t, train_y_e, NE_frac_tr, test_x, test_y_t, test_y_e, NE_frac_tst, params_dict = data_prep_pca(BRCA;nepochs = 10_000, dim_redux = 300)\n",
    "venc = VariationalEncoder(size(train_x)[1], params_dict[\"dim_redux\"], 600)\n",
    "vdec = Decoder(size(train_x)[1], params_dict[\"dim_redux\"], 600)\n",
    "cphdnn = gpu(Chain(Dense(params_dict[\"dim_redux\"],512, leakyrelu), Dense(512,512, leakyrelu), Dense(512, 1, bias = false)))\n",
    "opt1 = Flux.ADAM(1e-7) ## opt VENC-CPHDNN\n",
    "opt2 = Flux.ADAM(1e-5) ## opt VAE\n",
    "wd = params_dict[\"cph_wd\"]\n",
    "opt = Flux.ADAM(params_dict[\"cph_lr\"])\n",
    "# training VAE only first\n",
    "for i in 1:3000\n",
    "    vaecox_loss =  round(VAE_COX_loss(venc, cphdnn, train_x, train_y_e, NE_frac_tr) + l2_penalty(cphdnn) * wd + l2_penalty(venc) * wd, digits = 3)  \n",
    "    \n",
    "    OUTS_tr = cphdnn(venc(train_x)[1])\n",
    "    OUTS_tst = cphdnn(venc(test_x)[1])\n",
    "    \n",
    "    ps2 = Flux.params(venc, vdec)\n",
    "    gs2 = gradient(ps2) do \n",
    "        VAE_lossf(venc, vdec, train_x) + l2_penalty(venc) * wd + l2_penalty(vdec) * wd\n",
    "        #VAE_COX_loss(model[\"venc\"], model[\"cph\"], train_x, train_y_e, NE_frac_tr) + l2_penalty(model[\"venc\"]) * wd + l2_penalty(model[\"cph\"]) * wd \n",
    "    end \n",
    "    vae_loss =  round(VAE_lossf(venc, vdec, train_x) + l2_penalty(venc) * wd + l2_penalty(vdec) * wd, digits = 3)  \n",
    "    VAE_test = round(my_cor(vec(test_x), vec(MyReconstruct(venc, vdec, test_x)[end])),digits = 3)\n",
    "\n",
    "    cind_tr, cdnt_tr, ddnt_tr, tied_tr  = concordance_index(train_y_t, train_y_e, -1 * OUTS_tr)\n",
    "    cind_test,cdnt_tst, ddnt_tst, tied_tst = concordance_index(test_y_t, test_y_e, -1 *OUTS_tst)\n",
    "    \n",
    "    if i%400 ==0 || i == 1\n",
    "    println(\"$i TRAIN $vaecox_loss cind: $(round(cind_tr, digits = 3)) \\t TEST ae-corr: $VAE_test \\tcind: $(round(cind_test, digits = 3)) [$(Int(cdnt_tst)), $(Int(ddnt_tst)), $(Int(tied_tst))]\")\n",
    "    end \n",
    "    #Flux.update!(opt1,ps1, gs1)\n",
    "    Flux.update!(opt2,ps2, gs2)\n",
    "    params_dict[\"cph_tst_c_ind\"] = cind_test\n",
    "    params_dict[\"cph_train_c_ind\"] = cind_tr\n",
    "    params_dict[\"step\"] = i \n",
    "end\n",
    "# training VENC-CPHDNN \n",
    "for i in 1:params_dict[\"nepochs\"]\n",
    "    ps1 = Flux.params(cphdnn)\n",
    "    gs1 = gradient(ps1) do \n",
    "        cox_nll_vec(cphdnn, venc(train_x)[1], train_y_e, NE_frac_tr) + l2_penalty(cphdnn) * wd \n",
    "        #VAE_COX_loss(model[\"venc\"], model[\"cph\"], train_x, train_y_e, NE_frac_tr) + l2_penalty(model[\"venc\"]) * wd + l2_penalty(model[\"cph\"]) * wd \n",
    "    end \n",
    "    vaecox_loss =  round(cox_nll_vec(cphdnn, venc(train_x)[1], train_y_e, NE_frac_tr) + l2_penalty(cphdnn) * wd  , digits = 3)  \n",
    "    OUTS_tr = cphdnn(venc(train_x)[1])\n",
    "    OUTS_tst = cphdnn(venc(test_x)[1])\n",
    "    \n",
    "    vae_loss =  round(VAE_lossf(venc, vdec, train_x) + l2_penalty(venc) * wd + l2_penalty(vdec) * wd, digits = 3)  \n",
    "    VAE_test = round(my_cor(vec(test_x), vec(MyReconstruct(venc, vdec, test_x)[end])),digits = 3)\n",
    "\n",
    "    cind_tr, cdnt_tr, ddnt_tr, tied_tr  = concordance_index(train_y_t, train_y_e, -1 * OUTS_tr)\n",
    "    cind_test,cdnt_tst, ddnt_tst, tied_tst = concordance_index(test_y_t, test_y_e, -1 *OUTS_tst)\n",
    "    \n",
    "    if i%400 ==0 || i == 1\n",
    "    println(\"$i TRAIN $vaecox_loss cind: $(round(cind_tr, digits = 3)) \\t TEST ae-corr: $VAE_test \\tcind: $(round(cind_test, digits = 3)) [$(Int(cdnt_tst)), $(Int(ddnt_tst)), $(Int(tied_tst))]\")\n",
    "    end \n",
    "    Flux.update!(opt1,ps1, gs1)\n",
    "    #Flux.update!(opt2,ps2, gs2)\n",
    "    params_dict[\"cph_tst_c_ind\"] = cind_test\n",
    "    params_dict[\"cph_train_c_ind\"] = cind_tr\n",
    "    params_dict[\"step\"] = i \n",
    "end\n",
    "# training VENC-CPHDNN \n",
    "for i in 1:params_dict[\"nepochs\"]\n",
    "    ps1 = Flux.params(venc, cphdnn)\n",
    "    gs1 = gradient(ps1) do \n",
    "        VAE_COX_loss(venc, cphdnn, train_x, train_y_e, NE_frac_tr) + l2_penalty(cphdnn) * wd + l2_penalty(venc) * wd\n",
    "        #VAE_COX_loss(model[\"venc\"], model[\"cph\"], train_x, train_y_e, NE_frac_tr) + l2_penalty(model[\"venc\"]) * wd + l2_penalty(model[\"cph\"]) * wd \n",
    "    end \n",
    "    vaecox_loss =  round(VAE_COX_loss(venc, cphdnn, train_x, train_y_e, NE_frac_tr) + l2_penalty(cphdnn) * wd + l2_penalty(venc) * wd, digits = 3)  \n",
    "    OUTS_tr = cphdnn(venc(train_x)[1])\n",
    "    OUTS_tst = cphdnn(venc(test_x)[1])\n",
    "    \n",
    "    vae_loss =  round(VAE_lossf(venc, vdec, train_x) + l2_penalty(venc) * wd + l2_penalty(vdec) * wd, digits = 3)  \n",
    "    VAE_test = round(my_cor(vec(test_x), vec(MyReconstruct(venc, vdec, test_x)[end])),digits = 3)\n",
    "\n",
    "    cind_tr, cdnt_tr, ddnt_tr, tied_tr  = concordance_index(train_y_t, train_y_e, -1 * OUTS_tr)\n",
    "    cind_test,cdnt_tst, ddnt_tst, tied_tst = concordance_index(test_y_t, test_y_e, -1 *OUTS_tst)\n",
    "    \n",
    "    if i%400 ==0 || i == 1\n",
    "    println(\"$i TRAIN $vaecox_loss cind: $(round(cind_tr, digits = 3)) \\t TEST ae-corr: $VAE_test \\tcind: $(round(cind_test, digits = 3)) [$(Int(cdnt_tst)), $(Int(ddnt_tst)), $(Int(tied_tst))]\")\n",
    "    end \n",
    "    Flux.update!(opt1,ps1, gs1)\n",
    "    #Flux.update!(opt2,ps2, gs2)\n",
    "    params_dict[\"cph_tst_c_ind\"] = cind_test\n",
    "    params_dict[\"cph_train_c_ind\"] = cind_tr\n",
    "    params_dict[\"step\"] = i \n",
    "end"
   ]
  },
  {
   "cell_type": "code",
   "execution_count": 41,
   "metadata": {},
   "outputs": [
    {
     "name": "stdout",
     "output_type": "stream",
     "text": [
      "nb genes : 14996\n",
      "nb patients : 300\n",
      "% uncensored : 0.7433333333333333\n"
     ]
    },
    {
     "name": "stdout",
     "output_type": "stream",
     "text": [
      "1 TRAIN 4.912 cind: 0.553 \t TEST ae-corr: -0.012 \tcind: 0.574 [951, 705, 0]\n"
     ]
    },
    {
     "name": "stdout",
     "output_type": "stream",
     "text": [
      "400 TRAIN 4.9 cind: 0.571 \t TEST ae-corr: 0.0 \tcind: 0.58 [960, 696, 0]\n"
     ]
    },
    {
     "name": "stdout",
     "output_type": "stream",
     "text": [
      "800 TRAIN 4.887 cind: 0.589 \t TEST ae-corr: 0.017 \tcind: 0.585 [969, 687, 0]\n"
     ]
    },
    {
     "name": "stdout",
     "output_type": "stream",
     "text": [
      "1200 TRAIN 4.875 cind: 0.609 \t TEST ae-corr: 0.002 \tcind: 0.588 [974, 682, 0]\n"
     ]
    },
    {
     "name": "stdout",
     "output_type": "stream",
     "text": [
      "1600 TRAIN 4.863 cind: 0.627 \t TEST ae-corr: 0.007 \tcind: 0.589 [975, 681, 0]\n"
     ]
    },
    {
     "name": "stdout",
     "output_type": "stream",
     "text": [
      "2000 TRAIN 4.852 cind: 0.642 \t TEST ae-corr: -0.019 \tcind: 0.589 [976, 680, 0]\n"
     ]
    },
    {
     "name": "stdout",
     "output_type": "stream",
     "text": [
      "2400 TRAIN 4.841 cind: 0.656 \t TEST ae-corr: 0.014 \tcind: 0.594 [984, 672, 0]\n"
     ]
    },
    {
     "name": "stdout",
     "output_type": "stream",
     "text": [
      "2800 TRAIN 4.83 cind: 0.666 \t TEST ae-corr: 0.02 \tcind: 0.598 [991, 665, 0]\n"
     ]
    },
    {
     "name": "stdout",
     "output_type": "stream",
     "text": [
      "3200 TRAIN 4.82 cind: 0.677 \t TEST ae-corr: -0.009 \tcind: 0.597 [989, 667, 0]\n"
     ]
    },
    {
     "name": "stdout",
     "output_type": "stream",
     "text": [
      "3600 TRAIN 4.809 cind: 0.684 \t TEST ae-corr: 0.05 \tcind: 0.595 [986, 670, 0]\n"
     ]
    },
    {
     "name": "stdout",
     "output_type": "stream",
     "text": [
      "4000 TRAIN 4.799 cind: 0.692 \t TEST ae-corr: 0.022 \tcind: 0.593 [982, 674, 0]\n"
     ]
    },
    {
     "name": "stdout",
     "output_type": "stream",
     "text": [
      "4400 TRAIN 4.789 cind: 0.699 \t TEST ae-corr: 0.009 \tcind: 0.592 [981, 675, 0]\n"
     ]
    },
    {
     "name": "stdout",
     "output_type": "stream",
     "text": [
      "4800 TRAIN 4.78 cind: 0.704 \t TEST ae-corr: -0.008 \tcind: 0.598 [991, 665, 0]\n"
     ]
    },
    {
     "name": "stdout",
     "output_type": "stream",
     "text": [
      "5200 TRAIN 4.77 cind: 0.708 \t TEST ae-corr: -0.021 \tcind: 0.598 [990, 666, 0]\n"
     ]
    },
    {
     "name": "stdout",
     "output_type": "stream",
     "text": [
      "5600 TRAIN 4.761 cind: 0.714 \t TEST ae-corr: -0.018 \tcind: 0.595 [985, 671, 0]\n"
     ]
    },
    {
     "name": "stdout",
     "output_type": "stream",
     "text": [
      "6000 TRAIN 4.752 cind: 0.718 \t TEST ae-corr: 0.018 \tcind: 0.595 [985, 671, 0]\n"
     ]
    },
    {
     "name": "stdout",
     "output_type": "stream",
     "text": [
      "6400 TRAIN 4.743 cind: 0.722 \t TEST ae-corr: 0.008 \tcind: 0.595 [986, 670, 0]\n"
     ]
    },
    {
     "name": "stdout",
     "output_type": "stream",
     "text": [
      "6800 TRAIN 4.734 cind: 0.726 \t TEST ae-corr: 0.002 \tcind: 0.597 [989, 667, 0]\n"
     ]
    },
    {
     "name": "stdout",
     "output_type": "stream",
     "text": [
      "7200 TRAIN 4.726 cind: 0.728 \t TEST ae-corr: 0.011 \tcind: 0.598 [991, 665, 0]\n"
     ]
    },
    {
     "name": "stdout",
     "output_type": "stream",
     "text": [
      "7600 TRAIN 4.717 cind: 0.731 \t TEST ae-corr: -0.024 \tcind: 0.601 [996, 660, 0]\n"
     ]
    },
    {
     "name": "stdout",
     "output_type": "stream",
     "text": [
      "8000 TRAIN 4.709 cind: 0.735 \t TEST ae-corr: 0.003 \tcind: 0.6 [993, 663, 0]\n"
     ]
    },
    {
     "name": "stdout",
     "output_type": "stream",
     "text": [
      "8400 TRAIN 4.701 cind: 0.737 \t TEST ae-corr: 0.017 \tcind: 0.597 [989, 667, 0]\n"
     ]
    },
    {
     "name": "stdout",
     "output_type": "stream",
     "text": [
      "8800 TRAIN 4.692 cind: 0.74 \t TEST ae-corr: -0.006 \tcind: 0.597 [988, 668, 0]\n"
     ]
    },
    {
     "name": "stdout",
     "output_type": "stream",
     "text": [
      "9200 TRAIN 4.684 cind: 0.742 \t TEST ae-corr: 0.02 \tcind: 0.597 [989, 667, 0]\n"
     ]
    },
    {
     "name": "stdout",
     "output_type": "stream",
     "text": [
      "9600 TRAIN 4.677 cind: 0.745 \t TEST ae-corr: -0.0 \tcind: 0.595 [986, 670, 0]\n"
     ]
    },
    {
     "name": "stdout",
     "output_type": "stream",
     "text": [
      "10000 TRAIN 4.669 cind: 0.748 \t TEST ae-corr: 0.003 \tcind: 0.595 [986, 670, 0]\n"
     ]
    },
    {
     "name": "stdout",
     "output_type": "stream",
     "text": [
      "10400 TRAIN 4.661 cind: 0.75 \t TEST ae-corr: 0.002 \tcind: 0.594 [983, 673, 0]\n"
     ]
    },
    {
     "name": "stdout",
     "output_type": "stream",
     "text": [
      "10800 TRAIN 4.654 cind: 0.752 \t TEST ae-corr: 0.022 \tcind: 0.595 [985, 671, 0]\n"
     ]
    },
    {
     "name": "stdout",
     "output_type": "stream",
     "text": [
      "11200 TRAIN 4.646 cind: 0.755 \t TEST ae-corr: 0.009 \tcind: 0.595 [985, 671, 0]\n"
     ]
    },
    {
     "name": "stdout",
     "output_type": "stream",
     "text": [
      "11600 TRAIN 4.639 cind: 0.756 \t TEST ae-corr: 0.018 \tcind: 0.595 [986, 670, 0]\n"
     ]
    },
    {
     "name": "stdout",
     "output_type": "stream",
     "text": [
      "12000 TRAIN 4.632 cind: 0.758 \t TEST ae-corr: 0.025 \tcind: 0.594 [984, 672, 0]\n"
     ]
    },
    {
     "name": "stdout",
     "output_type": "stream",
     "text": [
      "12400 TRAIN 4.624 cind: 0.76 \t TEST ae-corr: -0.018 \tcind: 0.591 [979, 677, 0]\n"
     ]
    },
    {
     "name": "stdout",
     "output_type": "stream",
     "text": [
      "12800 TRAIN 4.617 cind: 0.762 \t TEST ae-corr: -0.006 \tcind: 0.592 [981, 675, 0]\n"
     ]
    },
    {
     "name": "stdout",
     "output_type": "stream",
     "text": [
      "13200 TRAIN 4.61 cind: 0.763 \t TEST ae-corr: -0.001 \tcind: 0.594 [984, 672, 0]\n"
     ]
    },
    {
     "name": "stdout",
     "output_type": "stream",
     "text": [
      "13600 TRAIN 4.604 cind: 0.765 \t TEST ae-corr: 0.008 \tcind: 0.593 [982, 674, 0]\n"
     ]
    },
    {
     "name": "stdout",
     "output_type": "stream",
     "text": [
      "14000 TRAIN 4.597 cind: 0.767 \t TEST ae-corr: 0.013 \tcind: 0.593 [982, 674, 0]\n"
     ]
    },
    {
     "name": "stdout",
     "output_type": "stream",
     "text": [
      "14400 TRAIN 4.59 cind: 0.769 \t TEST ae-corr: 0.015 \tcind: 0.594 [983, 673, 0]\n"
     ]
    },
    {
     "name": "stdout",
     "output_type": "stream",
     "text": [
      "14800 TRAIN 4.583 cind: 0.771 \t TEST ae-corr: 0.019 \tcind: 0.593 [982, 674, 0]\n"
     ]
    },
    {
     "name": "stdout",
     "output_type": "stream",
     "text": [
      "15200 TRAIN 4.577 cind: 0.772 \t TEST ae-corr: 0.006 \tcind: 0.595 [985, 671, 0]\n"
     ]
    },
    {
     "name": "stdout",
     "output_type": "stream",
     "text": [
      "15600 TRAIN 4.57 cind: 0.774 \t TEST ae-corr: -0.031 \tcind: 0.595 [985, 671, 0]\n"
     ]
    },
    {
     "name": "stdout",
     "output_type": "stream",
     "text": [
      "16000 TRAIN 4.564 cind: 0.775 \t TEST ae-corr: 0.008 \tcind: 0.595 [985, 671, 0]\n"
     ]
    },
    {
     "name": "stdout",
     "output_type": "stream",
     "text": [
      "16400 TRAIN 4.557 cind: 0.776 \t TEST ae-corr: -0.006 \tcind: 0.595 [985, 671, 0]\n"
     ]
    },
    {
     "name": "stdout",
     "output_type": "stream",
     "text": [
      "16800 TRAIN 4.551 cind: 0.778 \t TEST ae-corr: -0.003 \tcind: 0.595 [986, 670, 0]\n"
     ]
    },
    {
     "name": "stdout",
     "output_type": "stream",
     "text": [
      "17200 TRAIN 4.544 cind: 0.779 \t TEST ae-corr: 0.015 \tcind: 0.595 [986, 670, 0]\n"
     ]
    },
    {
     "name": "stdout",
     "output_type": "stream",
     "text": [
      "17600 TRAIN 4.538 cind: 0.78 \t TEST ae-corr: 0.004 \tcind: 0.595 [986, 670, 0]\n"
     ]
    },
    {
     "name": "stdout",
     "output_type": "stream",
     "text": [
      "18000 TRAIN 4.532 cind: 0.782 \t TEST ae-corr: 0.013 \tcind: 0.595 [986, 670, 0]\n"
     ]
    },
    {
     "name": "stdout",
     "output_type": "stream",
     "text": [
      "18400 TRAIN 4.526 cind: 0.783 \t TEST ae-corr: -0.004 \tcind: 0.597 [988, 668, 0]\n"
     ]
    },
    {
     "name": "stdout",
     "output_type": "stream",
     "text": [
      "18800 TRAIN 4.52 cind: 0.784 \t TEST ae-corr: -0.025 \tcind: 0.596 [987, 669, 0]\n"
     ]
    },
    {
     "name": "stdout",
     "output_type": "stream",
     "text": [
      "19200 TRAIN 4.514 cind: 0.785 \t TEST ae-corr: -0.011 \tcind: 0.595 [986, 670, 0]\n"
     ]
    },
    {
     "name": "stdout",
     "output_type": "stream",
     "text": [
      "19600 TRAIN 4.508 cind: 0.786 \t TEST ae-corr: 0.002 \tcind: 0.594 [984, 672, 0]\n"
     ]
    },
    {
     "name": "stdout",
     "output_type": "stream",
     "text": [
      "20000 TRAIN 4.502 cind: 0.787 \t TEST ae-corr: -0.011 \tcind: 0.596 [987, 669, 0]\n"
     ]
    },
    {
     "name": "stdout",
     "output_type": "stream",
     "text": [
      "20400 TRAIN 4.496 cind: 0.788 \t TEST ae-corr: 0.0 \tcind: 0.595 [986, 670, 0]\n"
     ]
    },
    {
     "name": "stdout",
     "output_type": "stream",
     "text": [
      "20800 TRAIN 4.49 cind: 0.789 \t TEST ae-corr: -0.036 \tcind: 0.595 [985, 671, 0]\n"
     ]
    },
    {
     "name": "stdout",
     "output_type": "stream",
     "text": [
      "21200 TRAIN 4.484 cind: 0.79 \t TEST ae-corr: 0.029 \tcind: 0.596 [987, 669, 0]\n"
     ]
    },
    {
     "name": "stdout",
     "output_type": "stream",
     "text": [
      "21600 TRAIN 4.478 cind: 0.791 \t TEST ae-corr: 0.001 \tcind: 0.595 [985, 671, 0]\n"
     ]
    },
    {
     "name": "stdout",
     "output_type": "stream",
     "text": [
      "22000 TRAIN 4.472 cind: 0.792 \t TEST ae-corr: -0.005 \tcind: 0.593 [982, 674, 0]\n"
     ]
    },
    {
     "name": "stdout",
     "output_type": "stream",
     "text": [
      "22400 TRAIN 4.467 cind: 0.793 \t TEST ae-corr: 0.002 \tcind: 0.594 [984, 672, 0]\n"
     ]
    },
    {
     "name": "stdout",
     "output_type": "stream",
     "text": [
      "22800 TRAIN 4.461 cind: 0.795 \t TEST ae-corr: 0.017 \tcind: 0.593 [982, 674, 0]\n"
     ]
    },
    {
     "name": "stdout",
     "output_type": "stream",
     "text": [
      "23200 TRAIN 4.455 cind: 0.796 \t TEST ae-corr: -0.006 \tcind: 0.591 [979, 677, 0]\n"
     ]
    },
    {
     "name": "stdout",
     "output_type": "stream",
     "text": [
      "23600 TRAIN 4.45 cind: 0.797 \t TEST ae-corr: -0.006 \tcind: 0.591 [978, 678, 0]\n"
     ]
    },
    {
     "name": "stdout",
     "output_type": "stream",
     "text": [
      "24000 TRAIN 4.444 cind: 0.798 \t TEST ae-corr: 0.021 \tcind: 0.591 [979, 677, 0]\n"
     ]
    },
    {
     "name": "stdout",
     "output_type": "stream",
     "text": [
      "24400 TRAIN 4.439 cind: 0.799 \t TEST ae-corr: 0.02 \tcind: 0.589 [976, 680, 0]\n"
     ]
    },
    {
     "name": "stdout",
     "output_type": "stream",
     "text": [
      "24800 TRAIN 4.433 cind: 0.8 \t TEST ae-corr: 0.022 \tcind: 0.59 [977, 679, 0]\n"
     ]
    },
    {
     "name": "stdout",
     "output_type": "stream",
     "text": [
      "25200 TRAIN 4.428 cind: 0.801 \t TEST ae-corr: 0.0 \tcind: 0.589 [975, 681, 0]\n"
     ]
    },
    {
     "name": "stdout",
     "output_type": "stream",
     "text": [
      "25600 TRAIN 4.422 cind: 0.802 \t TEST ae-corr: 0.041 \tcind: 0.589 [975, 681, 0]\n"
     ]
    },
    {
     "name": "stdout",
     "output_type": "stream",
     "text": [
      "26000 TRAIN 4.417 cind: 0.803 \t TEST ae-corr: -0.02 \tcind: 0.59 [977, 679, 0]\n"
     ]
    },
    {
     "name": "stdout",
     "output_type": "stream",
     "text": [
      "26400 TRAIN 4.411 cind: 0.804 \t TEST ae-corr: -0.019 \tcind: 0.589 [975, 681, 0]\n"
     ]
    },
    {
     "name": "stdout",
     "output_type": "stream",
     "text": [
      "26800 TRAIN 4.406 cind: 0.805 \t TEST ae-corr: -0.034 \tcind: 0.588 [974, 682, 0]\n"
     ]
    },
    {
     "name": "stdout",
     "output_type": "stream",
     "text": [
      "27200 TRAIN 4.401 cind: 0.805 \t TEST ae-corr: 0.003 \tcind: 0.588 [973, 683, 0]\n"
     ]
    },
    {
     "name": "stdout",
     "output_type": "stream",
     "text": [
      "27600 TRAIN 4.396 cind: 0.807 \t TEST ae-corr: 0.011 \tcind: 0.589 [975, 681, 0]\n"
     ]
    },
    {
     "name": "stdout",
     "output_type": "stream",
     "text": [
      "28000 TRAIN 4.39 cind: 0.807 \t TEST ae-corr: -0.001 \tcind: 0.589 [976, 680, 0]\n"
     ]
    },
    {
     "name": "stdout",
     "output_type": "stream",
     "text": [
      "28400 TRAIN 4.385 cind: 0.808 \t TEST ae-corr: 0.033 \tcind: 0.591 [978, 678, 0]\n"
     ]
    },
    {
     "name": "stdout",
     "output_type": "stream",
     "text": [
      "28800 TRAIN 4.38 cind: 0.809 \t TEST ae-corr: -0.016 \tcind: 0.59 [977, 679, 0]\n"
     ]
    },
    {
     "name": "stdout",
     "output_type": "stream",
     "text": [
      "29200 TRAIN 4.375 cind: 0.811 \t TEST ae-corr: -0.04 \tcind: 0.592 [980, 676, 0]\n"
     ]
    },
    {
     "name": "stdout",
     "output_type": "stream",
     "text": [
      "29600 TRAIN 4.37 cind: 0.811 \t TEST ae-corr: 0.016 \tcind: 0.591 [979, 677, 0]\n"
     ]
    },
    {
     "name": "stdout",
     "output_type": "stream",
     "text": [
      "30000 TRAIN 4.365 cind: 0.812 \t TEST ae-corr: -0.025 \tcind: 0.592 [980, 676, 0]\n"
     ]
    }
   ],
   "source": [
    "train_x, train_y_t, train_y_e, NE_frac_tr, test_x, test_y_t, test_y_e, NE_frac_tst, params_dict = data_prep_pca(LAML;nepochs = 30_000, dim_redux = 125)\n",
    "venc = VariationalEncoder(size(train_x)[1], params_dict[\"dim_redux\"], 600)\n",
    "vdec = Decoder(size(train_x)[1], params_dict[\"dim_redux\"], 600)\n",
    "cphdnn = gpu(Chain(Dense(params_dict[\"dim_redux\"],512, leakyrelu), Dense(512,512, leakyrelu), Dense(512, 1, bias = false)))\n",
    "opt1 = Flux.ADAM(1e-7) ## opt VENC-CPHDNN\n",
    "opt2 = Flux.ADAM(1e-5) ## opt VAE\n",
    "wd = params_dict[\"cph_wd\"]\n",
    "opt = Flux.ADAM(params_dict[\"cph_lr\"])\n",
    "for i in 1:params_dict[\"nepochs\"]\n",
    "    ps1 = Flux.params(venc, cphdnn)\n",
    "    gs1 = gradient(ps1) do \n",
    "        VAE_COX_loss(venc, cphdnn, train_x, train_y_e, NE_frac_tr) + l2_penalty(cphdnn) * wd + l2_penalty(venc) * wd\n",
    "        #VAE_COX_loss(model[\"venc\"], model[\"cph\"], train_x, train_y_e, NE_frac_tr) + l2_penalty(model[\"venc\"]) * wd + l2_penalty(model[\"cph\"]) * wd \n",
    "    end \n",
    "    vaecox_loss =  round(VAE_COX_loss(venc, cphdnn, train_x, train_y_e, NE_frac_tr) + l2_penalty(cphdnn) * wd + l2_penalty(venc) * wd, digits = 3)  \n",
    "    OUTS_tr = cphdnn(venc(train_x)[1])\n",
    "    OUTS_tst = cphdnn(venc(test_x)[1])\n",
    "    \n",
    "    vae_loss =  round(VAE_lossf(venc, vdec, train_x) + l2_penalty(venc) * wd + l2_penalty(vdec) * wd, digits = 3)  \n",
    "    VAE_test = round(my_cor(vec(test_x), vec(MyReconstruct(venc, vdec, test_x)[end])),digits = 3)\n",
    "\n",
    "    cind_tr, cdnt_tr, ddnt_tr, tied_tr  = concordance_index(train_y_t, train_y_e, -1 * OUTS_tr)\n",
    "    cind_test,cdnt_tst, ddnt_tst, tied_tst = concordance_index(test_y_t, test_y_e, -1 *OUTS_tst)\n",
    "    \n",
    "    if i%400 ==0 || i == 1\n",
    "    println(\"$i TRAIN $vaecox_loss cind: $(round(cind_tr, digits = 3)) \\t TEST ae-corr: $VAE_test \\tcind: $(round(cind_test, digits = 3)) [$(Int(cdnt_tst)), $(Int(ddnt_tst)), $(Int(tied_tst))]\")\n",
    "    end \n",
    "    Flux.update!(opt1,ps1, gs1)\n",
    "    #Flux.update!(opt2,ps2, gs2)\n",
    "    params_dict[\"cph_tst_c_ind\"] = cind_test\n",
    "    params_dict[\"cph_train_c_ind\"] = cind_tr\n",
    "    params_dict[\"step\"] = i \n",
    "end"
   ]
  },
  {
   "cell_type": "code",
   "execution_count": null,
   "metadata": {},
   "outputs": [],
   "source": [
    "function validate_vaecox(DATA, params_dict;device = gpu)\n",
    "    nfolds, nepochs, dim_redux = 5, 1000, 125\n",
    "    keep = [occursin(\"protein_coding\", bt) for bt in DATA.biotypes]\n",
    "    # split train test\n",
    "    folds = split_train_test(Matrix(DATA.data[:,keep]), DATA.survt, DATA.surve, DATA.samples;nfolds =5)\n",
    "    fold = folds[1]\n",
    "\n",
    "    venc = VariationalEncoder(size(DATA.data[:,keep])[2], 125, 600)\n",
    "    vdec = Decoder(size(DATA.data[:,keep])[2], 125, 600)\n",
    "    VAE_opt = Flux.ADAM(1e-4)\n",
    "\n",
    "    cphdnn = device(Chain(Dense(size(DATA.data[:,keep])[2], 125, leakyrelu), Dense(125, 100,leakyrelu),Dense(100, 1)))\n",
    "    cphdnn_opt = Flux.ADAM(1e-5)\n",
    "\n",
    "    train_x, train_y_t, train_y_e, NE_frac_tr, test_x, test_y_t, test_y_e, NE_frac_tst = format_train_test(fold)\n",
    "    for i in 1:nepochs\n",
    "        ps1 = Flux.params(venc, vdec)\n",
    "        gs1 = gradient(ps1) do\n",
    "            VAE_lossf(venc, vdec, train_x)\n",
    "        end \n",
    "        VAE_loss = VAE_lossf(venc, vdec, train_x)\n",
    "        VAE_cor = round(my_cor(vec(train_x), vec(MyReconstruct(venc, vdec, train_x)[end])),digits = 3)\n",
    "        VAE_test = round(my_cor(vec(test_x), vec(MyReconstruct(venc, vdec, test_x)[end])),digits = 3)\n",
    "\n",
    "        ps2 = Flux.params(venc, cphdnn)\n",
    "        gs2 = gradient(ps2) do \n",
    "            cox_nll_vec(cphdnn, train_x, train_y_e, NE_frac_tr)\n",
    "            #VAE_COX_loss(venc, cphdnn, train_x, train_y_e, NE_frac_tr)\n",
    "        end \n",
    "        CPH_loss = round(cox_nll_vec(cphdnn, train_x, train_y_e, NE_frac_tr), digits = 3) #round(VAE_COX_loss(venc, cphdnn, train_x, train_y_e, NE_frac_tr), digits = 3)\n",
    "        #mu, log_sigma = venc(train_x)\n",
    "        #z = mu + device(randn(Float32, size(log_sigma))) .* exp.(log_sigma)\n",
    "        #OUTS_tr = vec(cphdnn(z))\n",
    "        OUTS_tr = cphdnn(train_x)\n",
    "        OUTS_tst =  cphdnn(test_x)\n",
    "        cind_tr, cdnt_tr, ddnt_tr, tied_tr  = concordance_index(train_y_t, train_y_e, OUTS_tr)\n",
    "        cind_test,cdnt_tst, ddnt_tst, tied_tst = concordance_index(test_y_t, test_y_e,OUTS_tst)\n",
    "        #Flux.update!(VAE_opt, ps1, gs1)\n",
    "        Flux.update!(cphdnn_opt, ps2, gs2)\n",
    "        if i % 100 == 0 || i == 1\n",
    "            println(\"$i TRAIN - VAE-loss-avg: $VAE_loss\\tVAE-cor: $VAE_cor CPH-loss: $CPH_loss CPH-cind: $(round(cind_tr,digits=3))\")\n",
    "            println(\"$i TEST - VAE-loss-avg: $VAE_test \\tVAE-cor: CPH-loss: CPH-cind: $(round(cind_test,digits=3)) [$(Int(cdnt_tst)), $(Int(ddnt_tst)), $(Int(tied_tst))]\")\n",
    "\n",
    "        end\n",
    "    end\n",
    "    return cphdnn\n",
    "end "
   ]
  },
  {
   "cell_type": "code",
   "execution_count": null,
   "metadata": {},
   "outputs": [],
   "source": [
    "cdnn = validate_vaecox(DATA, params_dict)"
   ]
  },
  {
   "cell_type": "code",
   "execution_count": null,
   "metadata": {},
   "outputs": [],
   "source": [
    "cdnn(DATA.data[])"
   ]
  },
  {
   "cell_type": "code",
   "execution_count": 96,
   "metadata": {},
   "outputs": [
    {
     "name": "stdout",
     "output_type": "stream",
     "text": [
      "nb genes : 14996\n",
      "nb patients : 300\n",
      "% uncensored : 0.7433333333333333\n"
     ]
    },
    {
     "name": "stdout",
     "output_type": "stream",
     "text": [
      "FOLD 1\t TRAIN AE-loss 0.994 \t AE-cor: 0.008\t cph-loss-avg: 0.020545 \t cph-cind: 0.611\n",
      "\t\tTEST AE-loss 0.991 \t AE-cor: 0.006\t cph-loss-avg: 0.058383 \t cph-cind: 0.515 [836, 788, 0]\n"
     ]
    },
    {
     "name": "stdout",
     "output_type": "stream",
     "text": [
      "FOLD 100\t TRAIN AE-loss 0.972 \t AE-cor: 0.004\t cph-loss-avg: 0.019126 \t cph-cind: 0.827\n",
      "\t\tTEST AE-loss 0.97 \t AE-cor: 0.002\t cph-loss-avg: 0.0563 \t cph-cind: 0.657 [1067, 557, 0]\n"
     ]
    },
    {
     "name": "stdout",
     "output_type": "stream",
     "text": [
      "FOLD 200\t TRAIN AE-loss 0.969 \t AE-cor: 0.004\t cph-loss-avg: 0.018949 \t cph-cind: 0.863\n",
      "\t\tTEST AE-loss 0.967 \t AE-cor: 0.002\t cph-loss-avg: 0.056367 \t cph-cind: 0.646 [1049, 575, 0]\n"
     ]
    },
    {
     "name": "stdout",
     "output_type": "stream",
     "text": [
      "FOLD 300\t TRAIN AE-loss 0.966 \t AE-cor: 0.004\t cph-loss-avg: 0.018913 \t cph-cind: 0.875\n",
      "\t\tTEST AE-loss 0.965 \t AE-cor: 0.002\t cph-loss-avg: 0.0564 \t cph-cind: 0.643 [1045, 579, 0]\n"
     ]
    },
    {
     "name": "stdout",
     "output_type": "stream",
     "text": [
      "FOLD 400\t TRAIN AE-loss 0.964 \t AE-cor: 0.004\t cph-loss-avg: 0.018904 \t cph-cind: 0.881\n",
      "\t\tTEST AE-loss 0.963 \t AE-cor: 0.002\t cph-loss-avg: 0.056483 \t cph-cind: 0.638 [1036, 588, 0]\n"
     ]
    },
    {
     "name": "stdout",
     "output_type": "stream",
     "text": [
      "FOLD 500\t TRAIN AE-loss 0.963 \t AE-cor: 0.005\t cph-loss-avg: 0.018899 \t cph-cind: 0.883\n",
      "\t\tTEST AE-loss 0.962 \t AE-cor: 0.003\t cph-loss-avg: 0.05645 \t cph-cind: 0.638 [1036, 588, 0]\n"
     ]
    },
    {
     "name": "stdout",
     "output_type": "stream",
     "text": [
      "FOLD 600\t TRAIN AE-loss 0.962 \t AE-cor: 0.005\t cph-loss-avg: 0.018898 \t cph-cind: 0.884\n",
      "\t\tTEST AE-loss 0.961 \t AE-cor: 0.003\t cph-loss-avg: 0.056433 \t cph-cind: 0.639 [1037, 587, 0]\n"
     ]
    },
    {
     "name": "stdout",
     "output_type": "stream",
     "text": [
      "FOLD 700\t TRAIN AE-loss 0.962 \t AE-cor: 0.005\t cph-loss-avg: 0.018897 \t cph-cind: 0.886\n",
      "\t\tTEST AE-loss 0.96 \t AE-cor: 0.004\t cph-loss-avg: 0.056417 \t cph-cind: 0.638 [1036, 588, 0]\n"
     ]
    },
    {
     "name": "stdout",
     "output_type": "stream",
     "text": [
      "FOLD 800\t TRAIN AE-loss 0.962 \t AE-cor: 0.005\t cph-loss-avg: 0.018899 \t cph-cind: 0.887\n",
      "\t\tTEST AE-loss 0.96 \t AE-cor: 0.004\t cph-loss-avg: 0.056417 \t cph-cind: 0.641 [1041, 583, 0]\n"
     ]
    },
    {
     "name": "stdout",
     "output_type": "stream",
     "text": [
      "FOLD 900\t TRAIN AE-loss 0.961 \t AE-cor: 0.005\t cph-loss-avg: 0.018896 \t cph-cind: 0.889\n",
      "\t\tTEST AE-loss 0.96 \t AE-cor: 0.004\t cph-loss-avg: 0.0564 \t cph-cind: 0.64 [1039, 585, 0]\n"
     ]
    },
    {
     "name": "stdout",
     "output_type": "stream",
     "text": [
      "FOLD 1000\t TRAIN AE-loss 0.961 \t AE-cor: 0.005\t cph-loss-avg: 0.018893 \t cph-cind: 0.892\n",
      "\t\tTEST AE-loss 0.96 \t AE-cor: 0.004\t cph-loss-avg: 0.0564 \t cph-cind: 0.64 [1040, 584, 0]\n"
     ]
    }
   ],
   "source": [
    "train_x, train_y_t, train_y_e, NE_frac_tr, test_x, test_y_t, test_y_e, NE_frac_tst, params_dict = data_prep(LAML)\n",
    "# create model \n",
    "model = build_aecox(params_dict)\n",
    "for iter in 1:params_dict[\"nepochs\"]\n",
    "    ps1 = Flux.params(model[\"cph\"].model, model[\"enc\"])\n",
    "    gs1 = gradient(ps1) do\n",
    "        model[\"cph\"].lossf(model[\"cph\"],model[\"enc\"], train_x, train_y_e, NE_frac_tr, params_dict[\"cph_wd\"])\n",
    "    end \n",
    "    ## gradient Auto-Encoder \n",
    "    ps2 = Flux.params(model[\"ae\"].net)\n",
    "    gs2 = gradient(ps2) do\n",
    "        model[\"ae\"].lossf(model[\"ae\"], train_x, train_x, weight_decay = params_dict[\"ae_wd\"])\n",
    "    end\n",
    "    Flux.update!(model[\"cph\"].opt, ps1, gs1)\n",
    "    #Flux.update!(model[\"ae\"].opt, ps2, gs2)\n",
    "\n",
    "    ######\n",
    "    OUTS_tr = vec(model[\"cph\"].model(model[\"enc\"](train_x)))\n",
    "    ae_loss = model[\"ae\"].lossf(model[\"ae\"], train_x, train_x, weight_decay = params_dict[\"ae_wd\"])\n",
    "    ae_cor =  round(my_cor(vec(train_x), vec(model[\"ae\"].net(train_x))),digits = 3)\n",
    "    cph_loss = model[\"cph\"].lossf(model[\"cph\"],model[\"enc\"](train_x), train_y_e, NE_frac_tr, params_dict[\"cph_wd\"])\n",
    "    ae_loss_test = round(model[\"ae\"].lossf(model[\"ae\"], test_x, test_x, weight_decay = params_dict[\"ae_wd\"]), digits = 3)\n",
    "    ae_cor_test = round(my_cor(vec(test_x), vec(model[\"ae\"].net(test_x))), digits= 3)\n",
    "    cph_loss_test = round(model[\"cph\"].lossf(model[\"cph\"],model[\"enc\"](test_x), test_y_e, NE_frac_tst, params_dict[\"cph_wd\"]), digits= 3)\n",
    "                    \n",
    "    OUTS_tst =  vec(model[\"cph\"].model(model[\"enc\"](test_x)))\n",
    "            \n",
    "    cind_tr, cdnt_tr, ddnt_tr, tied_tr  = concordance_index(train_y_t, train_y_e, OUTS_tr)\n",
    "    cind_test,cdnt_tst, ddnt_tst, tied_tst = concordance_index(test_y_t, test_y_e,OUTS_tst)\n",
    "    if iter % 100 == 0  || iter == 1     \n",
    "        println(\"FOLD $iter\\t TRAIN AE-loss $(round(ae_loss,digits =3)) \\t AE-cor: $(round(ae_cor, digits = 3))\\t cph-loss-avg: $(round(cph_loss / params_dict[\"nsamples_train\"],digits =6)) \\t cph-cind: $(round(cind_tr,digits =3))\")\n",
    "        println(\"\\t\\tTEST AE-loss $(round(ae_loss_test,digits =3)) \\t AE-cor: $(round(ae_cor_test, digits = 3))\\t cph-loss-avg: $(round(cph_loss_test / params_dict[\"nsamples_test\"],digits =6)) \\t cph-cind: $(round(cind_test,digits =3)) [$(Int(cdnt_tst)), $(Int(ddnt_tst)), $(Int(tied_tst))]\")\n",
    "    end\n",
    "    params_dict[\"cph_tst_c_ind\"] = concordance_index(test_y_t, test_y_e, OUTS_tst)[1]\n",
    "    params_dict[\"cph_train_c_ind\"] = concordance_index(train_y_t, train_y_e, OUTS_tr)[1]\n",
    "    params_dict[\"step\"] = iter \n",
    "end\n"
   ]
  },
  {
   "cell_type": "code",
   "execution_count": 140,
   "metadata": {},
   "outputs": [
    {
     "data": {
      "text/plain": [
       "AE_model(Chain(Dense(14996 => 3040, leakyrelu), Dense(3040 => 616, leakyrelu), Dense(616 => 125), Dense(125 => 616, leakyrelu), Dense(616 => 3040, leakyrelu), Dense(3040 => 14996, leakyrelu)), Chain(Dense(14996 => 3040, leakyrelu), Dense(3040 => 616, leakyrelu), Dense(616 => 125)), Chain(Dense(125 => 616, leakyrelu), Dense(616 => 3040, leakyrelu), Dense(3040 => 14996, leakyrelu)), Dense(3040 => 14996, leakyrelu), Adam(1.0e-6, (0.9, 0.999), 1.0e-8, IdDict{Any, Any}()), mse_l2)"
      ]
     },
     "metadata": {},
     "output_type": "display_data"
    }
   ],
   "source": [
    "model = build_aecox(params_dict)\n",
    "model[\"ae\"]"
   ]
  },
  {
   "cell_type": "code",
   "execution_count": 99,
   "metadata": {},
   "outputs": [],
   "source": [
    "#params_dict[\"cph_tst_c_ind\"] = concordance_index(test_y_t, test_y_e, OUTS_tst)[1]\n",
    "#params_dict[\"cph_train_c_ind\"] = concordance_index(train_y_t, train_y_e, OUTS_tr)[1]\n",
    "#params_dict[\"ae_tst_corr\"] = my_cor(ae_outs_test, x_test)\n",
    "#params_dict[\"ae_train_corr\"] = my_cor(ae_outs_train, x_train)\n",
    "\n",
    "#params_dict[\"model_cv_complete\"] = true\n",
    "model_params_path = \"$(params_dict[\"session_id\"])/$(params_dict[\"model_type\"])_$(params_dict[\"modelid\"])\"\n",
    "mkdir(\"RES/$model_params_path\")\n",
    "bson(\"RES/$model_params_path/params.bson\",params_dict)"
   ]
  },
  {
   "cell_type": "code",
   "execution_count": null,
   "metadata": {},
   "outputs": [],
   "source": []
  },
  {
   "cell_type": "markdown",
   "metadata": {},
   "source": [
    "### Figures  "
   ]
  },
  {
   "cell_type": "code",
   "execution_count": 28,
   "metadata": {},
   "outputs": [],
   "source": [
    "function gather_params(basedir=\".\")\n",
    "    df = DataFrame()\n",
    "    for (root, dirs, files) in walkdir(basedir)\n",
    "        for file in files\n",
    "            if file == \"params.bson\"\n",
    "                # println(\"Loading $root/$file\")\n",
    "                d = BSON.load(\"$root/$file\")\n",
    "                push!(df, d, cols=:union)\n",
    "            end\n",
    "        end\n",
    "    end\n",
    "    return df\n",
    "end\n",
    "\n",
    "df = gather_params(\"RES/\");\n"
   ]
  },
  {
   "cell_type": "code",
   "execution_count": 44,
   "metadata": {},
   "outputs": [
    {
     "data": {
      "text/plain": [
       "5-element Vector{String}:\n",
       " \"BRCA_data(norm=true)\"\n",
       " \"BRCA\"\n",
       " \"LGG\"\n",
       " \"OV\"\n",
       " \"LAML\""
      ]
     },
     "metadata": {},
     "output_type": "display_data"
    }
   ],
   "source": [
    "df;\n",
    "unique(df.dataset)"
   ]
  },
  {
   "cell_type": "code",
   "execution_count": 42,
   "metadata": {},
   "outputs": [
    {
     "name": "stderr",
     "output_type": "stream",
     "text": [
      "┌ Warning: Found `resolution` in the theme when creating a `Scene`. The `resolution` keyword for `Scene`s and `Figure`s has been deprecated. Use `Figure(; size = ...` or `Scene(; size = ...)` instead, which better reflects that this is a unitless size and not a pixel resolution. The key could also come from `set_theme!` calls or related theming functions.\n",
      "└ @ Makie /u/sauves/.local/share/julia_GenuineIntel/packages/Makie/fyNiH/src/scenes.jl:220\n"
     ]
    },
    {
     "data": {
      "image/png": "[encoded data removed]",
      "text/html": [
       "<img width=1024 height=1024 style='object-fit: contain;' src=\"data:image/png;base64, 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\"/>"
      ]
     },
     "metadata": {},
     "output_type": "display_data"
    }
   ],
   "source": [
    "models= df[[x in [\"cphdnn_v5\", \"vaecox_v4\", \"cox_ridge\", \"vae_cox_transfer_v1\"] for x in df[:,\"model_type\"]],:]\n",
    "models[models.dataset .== \"BRCA_data(norm=true)\", \"dataset\"] .= \"LAML\"\n",
    "#combine(groupby(cphdnn[:,[\"dataset\", \"cph_tst_c_ind\"]], :dataset), :cph_tst_c_ind=>median) \n",
    "sorted_df = sort(models, :dataset)\n",
    "sorted_df = leftjoin(sorted_df, DataFrame(:id =>collect(1:length(unique(sorted_df.dataset))), :dataset =>unique(sorted_df.dataset)), on = :dataset)\n",
    "\n",
    "fig =  Figure(resolution = (1024,1024));\n",
    "ax = Axis(fig[1,1],\n",
    "    xticks = (collect(1:length(unique(sorted_df.dataset))), unique(sorted_df.dataset)), \n",
    "    title = \"Survival prediction in cancer datasets with CPH-DNN and VAE-Cox\",\n",
    "    xlabel = \"Dataset\",\n",
    "    ylabel = \"concordance index\",\n",
    "    limits = (nothing, nothing, 0.4, 1))\n",
    "boxplot!(ax, sorted_df.id[sorted_df.model_type .== \"cphdnn_v5\"] .- 0.1, width = 0.2,sorted_df[sorted_df.model_type .== \"cphdnn_v5\",\"cph_tst_c_ind\"], label = \"CPHDNN\")\n",
    "boxplot!(ax, sorted_df.id[sorted_df.model_type .== \"vaecox_v4\"] .+ 0.1, width = 0.2, sorted_df[sorted_df.model_type .== \"vaecox_v4\",\"cph_tst_c_ind\"], label = \"VAE-COX\")\n",
    "boxplot!(ax, sorted_df.id[sorted_df.model_type .== \"cox_ridge\"].+ 0.3, width = 0.2, sorted_df[sorted_df.model_type .== \"cox_ridge\",\"cph_tst_c_ind\"], label = \"Cox-ridge\")\n",
    "boxplot!(ax, sorted_df.id[sorted_df.model_type .== \"vae_cox_transfer_v1\"] .+ 0.5, width = 0.2,sorted_df[sorted_df.model_type .== \"vae_cox_transfer_v1\",\"cph_tst_c_ind\"], label = \"VAE-COX-transfer\")\n",
    "\n",
    "#scatter!(ax, sorted_df[:,\"id\"], sorted_df[:,\"cph_tst_c_ind\"])\n",
    "medians = combine(groupby(sorted_df[:,[\"id\", \"model_type\", \"dataset\", \"cph_tst_c_ind\"]], [\"id\",\"dataset\", \"model_type\"]), :cph_tst_c_ind=>median) \n",
    "text!(ax, medians.id[medians.model_type .== \"cphdnn_v5\"] .- 0.2, medians[medians.model_type .== \"cphdnn_v5\",:].cph_tst_c_ind_median, text= string.(round.(medians[medians.model_type .== \"cphdnn_v5\",:].cph_tst_c_ind_median, digits = 3)))\n",
    "text!(ax, medians.id[medians.model_type .== \"vaecox_v4\"], medians[medians.model_type .== \"vaecox_v4\",:].cph_tst_c_ind_median, text= string.(round.(medians[medians.model_type .== \"vaecox_v4\",:].cph_tst_c_ind_median, digits = 3)))\n",
    "text!(ax, medians.id[medians.model_type .== \"cox_ridge\"] .+ 0.2, medians[medians.model_type .==\"cox_ridge\",:].cph_tst_c_ind_median, text= string.(round.(medians[medians.model_type .== \"cox_ridge\",:].cph_tst_c_ind_median, digits = 3)))\n",
    "text!(ax, medians.id[medians.model_type .== \"vae_cox_transfer_v1\"] .+ 0.4, medians[medians.model_type .==\"vae_cox_transfer_v1\",:].cph_tst_c_ind_median, text= string.(round.(medians[medians.model_type .== \"vae_cox_transfer_v1\",:].cph_tst_c_ind_median, digits = 3)))\n",
    "\n",
    "axislegend(ax, position = :rt)\n",
    "CairoMakie.save(\"figures/cphdnn_vaecox_performance_multidatasets.svg\",fig)\n",
    "CairoMakie.save(\"figures/cphdnn_vaecox_performance_multidatasets.png\",fig)\n",
    "CairoMakie.save(\"figures/cphdnn_vaecox_performance_multidatasets.pdf\",fig)\n",
    "fig"
   ]
  },
  {
   "cell_type": "code",
   "execution_count": 26,
   "metadata": {},
   "outputs": [
    {
     "data": {
      "text/plain": [
       "MakieCore.Text{Tuple{Vector{Point{2, Float32}}}}"
      ]
     },
     "metadata": {},
     "output_type": "display_data"
    }
   ],
   "source": [
    "medians = combine(groupby(sorted_df[:,[\"id\", \"model_type\", \"dataset\", \"cph_tst_c_ind\"]], [\"id\",\"dataset\", \"model_type\"]), :cph_tst_c_ind=>median) \n",
    "medians[medians.model_type .== \"cphdnn_v5\",:].cph_tst_c_ind_median\n",
    "medians.id[medians.model_type .== \"cphdnn_v5\"] .- 0.1\n",
    "medians = combine(groupby(sorted_df[:,[\"id\", \"model_type\", \"dataset\", \"cph_tst_c_ind\"]], [\"id\",\"dataset\", \"model_type\"]), :cph_tst_c_ind=>median) \n",
    "text!(ax, medians.id[medians.model_type .== \"cphdnn_v5\"] .- 0.1, medians[medians.model_type .== \"cphdnn_v5\",:].cph_tst_c_ind_median, text= string.(round.(medians.cph_tst_c_ind_median, digits = 3)))\n"
   ]
  },
  {
   "cell_type": "markdown",
   "metadata": {},
   "source": [
    "unique(models.model_type)"
   ]
  },
  {
   "cell_type": "code",
   "execution_count": 65,
   "metadata": {},
   "outputs": [
    {
     "data": {
      "image/png": "[encoded data removed]"
     },
     "metadata": {},
     "output_type": "display_data"
    }
   ],
   "source": [
    "sorted_df = sort(df, :model_type)\n",
    "sorted_df = leftjoin(sorted_df, DataFrame(:id =>collect(1:length(unique(sorted_df.model_type))), :model_type =>unique(sorted_df.model_type)), on = :model_type)\n",
    "\n",
    "fig = Figure(resolution = (1024,512));\n",
    "ax = Axis(fig[1,1],\n",
    "    ylabel = \"Concordance index\", \n",
    "    xlabel = \"Version of CPHDNN\",\n",
    "    limits = (nothing, nothing, 0.5, 1),\n",
    "    xticks = (collect(1:length(unique(sorted_df.model_type))), unique(sorted_df.model_type)))#(log2.(unique(V1[:, \"dim_redux\"])), [\"$x\" for x in unique(V1_2[:, \"dim_redux\"])] ));\n",
    "boxplot!(ax, sorted_df.id, sorted_df[:,\"cph_train_c_ind\"], label = \"train\")\n",
    "boxplot!(ax, sorted_df.id, sorted_df[:,\"cph_tst_c_ind\"], label = \"test\")\n",
    "medians = combine(groupby(sorted_df[:,[\"id\", \"cph_tst_c_ind\"]], :id), :cph_tst_c_ind=>median) \n",
    "text!(ax, medians.id, medians.cph_tst_c_ind_median, text= string.(round.(medians.cph_tst_c_ind_median, digits = 3)))\n",
    "#scatter!(ax, , V1[:,\"cph_tst_c_ind\"], label = \"test\")\n",
    "axislegend(ax,position =:rb)\n",
    "fig"
   ]
  },
  {
   "cell_type": "code",
   "execution_count": 10,
   "metadata": {},
   "outputs": [
    {
     "data": {
      "text/plain": [
       "7-element Vector{String}:\n",
       " \"0.601\"\n",
       " \"0.682\"\n",
       " \"0.675\"\n",
       " \"0.66\"\n",
       " \"0.68\"\n",
       " \"0.654\"\n",
       " \"0.639\""
      ]
     },
     "metadata": {},
     "output_type": "display_data"
    }
   ],
   "source": [
    "medians = combine(groupby(sorted_df[:,[\"id\", \"cph_tst_c_ind\"]], :id), :cph_tst_c_ind=>median) \n",
    "string.(round.(medians.cph_tst_c_ind_median, digits = 3))"
   ]
  },
  {
   "cell_type": "code",
   "execution_count": 13,
   "metadata": {},
   "outputs": [
    {
     "data": {
      "text/html": [
       "<div class=\"data-frame\"><p>50 rows × 34 columns (omitted printing of 26 columns)</p><table class=\"data-frame\"><thead><tr><th></th><th>ae_lr</th><th>dim_redux</th><th>ae_nb_hls</th><th>nsamples</th><th>cph_wd</th><th>cph_hl_size</th><th>nepochs</th><th>venc_nb_hl</th></tr><tr><th></th><th title=\"Float64\">Float64</th><th title=\"Int64\">Int64</th><th title=\"Int64\">Int64</th><th title=\"Int64\">Int64</th><th title=\"Float64\">Float64</th><th title=\"Int64\">Int64</th><th title=\"Int64\">Int64</th><th title=\"Int64\">Int64</th></tr></thead><tbody><tr><th>1</th><td>1.0e-6</td><td>125</td><td>2</td><td>300</td><td>0.0001</td><td>64</td><td>10000</td><td>2</td></tr><tr><th>2</th><td>1.0e-6</td><td>125</td><td>2</td><td>300</td><td>0.0001</td><td>64</td><td>10000</td><td>2</td></tr><tr><th>3</th><td>1.0e-6</td><td>125</td><td>2</td><td>300</td><td>0.0001</td><td>64</td><td>10000</td><td>2</td></tr><tr><th>4</th><td>1.0e-6</td><td>125</td><td>2</td><td>300</td><td>0.0001</td><td>64</td><td>10000</td><td>2</td></tr><tr><th>5</th><td>1.0e-6</td><td>125</td><td>2</td><td>300</td><td>0.0001</td><td>64</td><td>10000</td><td>2</td></tr><tr><th>6</th><td>1.0e-6</td><td>125</td><td>2</td><td>300</td><td>0.0001</td><td>64</td><td>10000</td><td>2</td></tr><tr><th>7</th><td>1.0e-6</td><td>125</td><td>2</td><td>300</td><td>0.0001</td><td>64</td><td>10000</td><td>2</td></tr><tr><th>8</th><td>1.0e-6</td><td>125</td><td>2</td><td>300</td><td>0.0001</td><td>64</td><td>10000</td><td>2</td></tr><tr><th>9</th><td>1.0e-6</td><td>125</td><td>2</td><td>300</td><td>0.0001</td><td>64</td><td>10000</td><td>2</td></tr><tr><th>10</th><td>1.0e-6</td><td>125</td><td>2</td><td>300</td><td>0.0001</td><td>64</td><td>10000</td><td>2</td></tr><tr><th>11</th><td>1.0e-6</td><td>125</td><td>2</td><td>300</td><td>0.0001</td><td>64</td><td>10000</td><td>2</td></tr><tr><th>12</th><td>1.0e-6</td><td>125</td><td>2</td><td>300</td><td>0.0001</td><td>64</td><td>10000</td><td>2</td></tr><tr><th>13</th><td>1.0e-6</td><td>125</td><td>2</td><td>300</td><td>0.0001</td><td>64</td><td>10000</td><td>2</td></tr><tr><th>14</th><td>1.0e-6</td><td>125</td><td>2</td><td>300</td><td>0.0001</td><td>64</td><td>10000</td><td>2</td></tr><tr><th>15</th><td>1.0e-6</td><td>125</td><td>2</td><td>300</td><td>0.0001</td><td>64</td><td>10000</td><td>2</td></tr><tr><th>16</th><td>1.0e-6</td><td>125</td><td>2</td><td>300</td><td>0.0001</td><td>64</td><td>10000</td><td>2</td></tr><tr><th>17</th><td>1.0e-6</td><td>125</td><td>2</td><td>300</td><td>0.0001</td><td>64</td><td>10000</td><td>2</td></tr><tr><th>18</th><td>1.0e-6</td><td>125</td><td>2</td><td>300</td><td>0.0001</td><td>64</td><td>10000</td><td>2</td></tr><tr><th>19</th><td>1.0e-6</td><td>125</td><td>2</td><td>300</td><td>0.0001</td><td>64</td><td>10000</td><td>2</td></tr><tr><th>20</th><td>1.0e-6</td><td>125</td><td>2</td><td>300</td><td>0.0001</td><td>64</td><td>10000</td><td>2</td></tr><tr><th>21</th><td>1.0e-6</td><td>125</td><td>2</td><td>300</td><td>0.0001</td><td>64</td><td>10000</td><td>2</td></tr><tr><th>22</th><td>1.0e-6</td><td>125</td><td>2</td><td>300</td><td>0.0001</td><td>64</td><td>10000</td><td>2</td></tr><tr><th>23</th><td>1.0e-6</td><td>125</td><td>2</td><td>300</td><td>0.0001</td><td>64</td><td>10000</td><td>2</td></tr><tr><th>24</th><td>1.0e-6</td><td>125</td><td>2</td><td>300</td><td>0.0001</td><td>64</td><td>10000</td><td>2</td></tr><tr><th>&vellip;</th><td>&vellip;</td><td>&vellip;</td><td>&vellip;</td><td>&vellip;</td><td>&vellip;</td><td>&vellip;</td><td>&vellip;</td><td>&vellip;</td></tr></tbody></table></div>"
      ],
      "text/latex": [
       "\\begin{tabular}{r|ccccccccc}\n",
       "\t& ae\\_lr & dim\\_redux & ae\\_nb\\_hls & nsamples & cph\\_wd & cph\\_hl\\_size & nepochs & venc\\_nb\\_hl & \\\\\n",
       "\t\\hline\n",
       "\t& Float64 & Int64 & Int64 & Int64 & Float64 & Int64 & Int64 & Int64 & \\\\\n",
       "\t\\hline\n",
       "\t1 & 1.0e-6 & 125 & 2 & 300 & 0.0001 & 64 & 10000 & 2 & $\\dots$ \\\\\n",
       "\t2 & 1.0e-6 & 125 & 2 & 300 & 0.0001 & 64 & 10000 & 2 & $\\dots$ \\\\\n",
       "\t3 & 1.0e-6 & 125 & 2 & 300 & 0.0001 & 64 & 10000 & 2 & $\\dots$ \\\\\n",
       "\t4 & 1.0e-6 & 125 & 2 & 300 & 0.0001 & 64 & 10000 & 2 & $\\dots$ \\\\\n",
       "\t5 & 1.0e-6 & 125 & 2 & 300 & 0.0001 & 64 & 10000 & 2 & $\\dots$ \\\\\n",
       "\t6 & 1.0e-6 & 125 & 2 & 300 & 0.0001 & 64 & 10000 & 2 & $\\dots$ \\\\\n",
       "\t7 & 1.0e-6 & 125 & 2 & 300 & 0.0001 & 64 & 10000 & 2 & $\\dots$ \\\\\n",
       "\t8 & 1.0e-6 & 125 & 2 & 300 & 0.0001 & 64 & 10000 & 2 & $\\dots$ \\\\\n",
       "\t9 & 1.0e-6 & 125 & 2 & 300 & 0.0001 & 64 & 10000 & 2 & $\\dots$ \\\\\n",
       "\t10 & 1.0e-6 & 125 & 2 & 300 & 0.0001 & 64 & 10000 & 2 & $\\dots$ \\\\\n",
       "\t11 & 1.0e-6 & 125 & 2 & 300 & 0.0001 & 64 & 10000 & 2 & $\\dots$ \\\\\n",
       "\t12 & 1.0e-6 & 125 & 2 & 300 & 0.0001 & 64 & 10000 & 2 & $\\dots$ \\\\\n",
       "\t13 & 1.0e-6 & 125 & 2 & 300 & 0.0001 & 64 & 10000 & 2 & $\\dots$ \\\\\n",
       "\t14 & 1.0e-6 & 125 & 2 & 300 & 0.0001 & 64 & 10000 & 2 & $\\dots$ \\\\\n",
       "\t15 & 1.0e-6 & 125 & 2 & 300 & 0.0001 & 64 & 10000 & 2 & $\\dots$ \\\\\n",
       "\t16 & 1.0e-6 & 125 & 2 & 300 & 0.0001 & 64 & 10000 & 2 & $\\dots$ \\\\\n",
       "\t17 & 1.0e-6 & 125 & 2 & 300 & 0.0001 & 64 & 10000 & 2 & $\\dots$ \\\\\n",
       "\t18 & 1.0e-6 & 125 & 2 & 300 & 0.0001 & 64 & 10000 & 2 & $\\dots$ \\\\\n",
       "\t19 & 1.0e-6 & 125 & 2 & 300 & 0.0001 & 64 & 10000 & 2 & $\\dots$ \\\\\n",
       "\t20 & 1.0e-6 & 125 & 2 & 300 & 0.0001 & 64 & 10000 & 2 & $\\dots$ \\\\\n",
       "\t21 & 1.0e-6 & 125 & 2 & 300 & 0.0001 & 64 & 10000 & 2 & $\\dots$ \\\\\n",
       "\t22 & 1.0e-6 & 125 & 2 & 300 & 0.0001 & 64 & 10000 & 2 & $\\dots$ \\\\\n",
       "\t23 & 1.0e-6 & 125 & 2 & 300 & 0.0001 & 64 & 10000 & 2 & $\\dots$ \\\\\n",
       "\t24 & 1.0e-6 & 125 & 2 & 300 & 0.0001 & 64 & 10000 & 2 & $\\dots$ \\\\\n",
       "\t$\\dots$ & $\\dots$ & $\\dots$ & $\\dots$ & $\\dots$ & $\\dots$ & $\\dots$ & $\\dots$ & $\\dots$ &  \\\\\n",
       "\\end{tabular}\n"
      ],
      "text/plain": [
       "\u001b[1m50×34 DataFrame\u001b[0m\n",
       "\u001b[1m Row \u001b[0m│\u001b[1m ae_lr   \u001b[0m\u001b[1m dim_redux \u001b[0m\u001b[1m ae_nb_hls \u001b[0m\u001b[1m nsamples \u001b[0m\u001b[1m cph_wd  \u001b[0m\u001b[1m cph_hl_size \u001b[0m\u001b[1m nepochs \u001b[0m\u001b[1m\u001b[0m ⋯\n",
       "\u001b[1m     \u001b[0m│\u001b[90m Float64 \u001b[0m\u001b[90m Int64     \u001b[0m\u001b[90m Int64     \u001b[0m\u001b[90m Int64    \u001b[0m\u001b[90m Float64 \u001b[0m\u001b[90m Int64       \u001b[0m\u001b[90m Int64   \u001b[0m\u001b[90m\u001b[0m ⋯\n",
       "─────┼──────────────────────────────────────────────────────────────────────────\n",
       "   1 │  1.0e-6        125          2       300   0.0001           64    10000  ⋯\n",
       "   2 │  1.0e-6        125          2       300   0.0001           64    10000\n",
       "   3 │  1.0e-6        125          2       300   0.0001           64    10000\n",
       "   4 │  1.0e-6        125          2       300   0.0001           64    10000\n",
       "   5 │  1.0e-6        125          2       300   0.0001           64    10000  ⋯\n",
       "   6 │  1.0e-6        125          2       300   0.0001           64    10000\n",
       "   7 │  1.0e-6        125          2       300   0.0001           64    10000\n",
       "   8 │  1.0e-6        125          2       300   0.0001           64    10000\n",
       "  ⋮  │    ⋮         ⋮          ⋮         ⋮         ⋮          ⋮          ⋮     ⋱\n",
       "  44 │  1.0e-6        125          2       300   0.0001           64    10000  ⋯\n",
       "  45 │  1.0e-6        125          2       300   0.0001           64    10000\n",
       "  46 │  1.0e-6        125          2       300   0.0001           64    10000\n",
       "  47 │  1.0e-6        125          2       300   0.0001           64    10000\n",
       "  48 │  1.0e-6        125          2       300   0.0001           64    10000  ⋯\n",
       "  49 │  1.0e-6        125          2       300   0.0001           64    10000\n",
       "  50 │  1.0e-6        125          2       300   0.0001           64    10000\n",
       "\u001b[36m                                                  27 columns and 35 rows omitted\u001b[0m"
      ]
     },
     "metadata": {},
     "output_type": "display_data"
    }
   ],
   "source": [
    "median(df[df.model_type .== \"vaecox_v2\",\"cph_tst_c_ind\"])\n",
    "sorted_df[sorted_df.model_type .== \"vaecox_v2\",:]"
   ]
  },
  {
   "cell_type": "code",
   "execution_count": 322,
   "metadata": {},
   "outputs": [
    {
     "data": {
      "text/html": [
       "<div class=\"data-frame\"><p>6 rows × 2 columns</p><table class=\"data-frame\"><thead><tr><th></th><th>id</th><th>cph_tst_c_ind_mean</th></tr><tr><th></th><th title=\"Union{Missing, Int64}\">Int64?</th><th title=\"Float64\">Float64</th></tr></thead><tbody><tr><th>1</th><td>1</td><td>0.595233</td></tr><tr><th>2</th><td>2</td><td>0.669938</td></tr><tr><th>3</th><td>3</td><td>0.678311</td></tr><tr><th>4</th><td>4</td><td>0.656278</td></tr><tr><th>5</th><td>5</td><td>0.678584</td></tr><tr><th>6</th><td>6</td><td>0.650901</td></tr></tbody></table></div>"
      ],
      "text/latex": [
       "\\begin{tabular}{r|cc}\n",
       "\t& id & cph\\_tst\\_c\\_ind\\_mean\\\\\n",
       "\t\\hline\n",
       "\t& Int64? & Float64\\\\\n",
       "\t\\hline\n",
       "\t1 & 1 & 0.595233 \\\\\n",
       "\t2 & 2 & 0.669938 \\\\\n",
       "\t3 & 3 & 0.678311 \\\\\n",
       "\t4 & 4 & 0.656278 \\\\\n",
       "\t5 & 5 & 0.678584 \\\\\n",
       "\t6 & 6 & 0.650901 \\\\\n",
       "\\end{tabular}\n"
      ],
      "text/plain": [
       "\u001b[1m6×2 DataFrame\u001b[0m\n",
       "\u001b[1m Row \u001b[0m│\u001b[1m id     \u001b[0m\u001b[1m cph_tst_c_ind_mean \u001b[0m\n",
       "\u001b[1m     \u001b[0m│\u001b[90m Int64? \u001b[0m\u001b[90m Float64            \u001b[0m\n",
       "─────┼────────────────────────────\n",
       "   1 │      1            0.595233\n",
       "   2 │      2            0.669938\n",
       "   3 │      3            0.678311\n",
       "   4 │      4            0.656278\n",
       "   5 │      5            0.678584\n",
       "   6 │      6            0.650901"
      ]
     },
     "metadata": {},
     "output_type": "display_data"
    }
   ],
   "source": [
    "means = combine(groupby(sorted_df[:,[\"id\", \"cph_tst_c_ind\"]], :id), :cph_tst_c_ind=>mean) "
   ]
  },
  {
   "cell_type": "code",
   "execution_count": 324,
   "metadata": {},
   "outputs": [
    {
     "data": {
      "text/plain": [
       "6-element Vector{Union{Missing, Int64}}:\n",
       " 1\n",
       " 2\n",
       " 3\n",
       " 4\n",
       " 5\n",
       " 6"
      ]
     },
     "metadata": {},
     "output_type": "display_data"
    }
   ],
   "source": [
    "means.id"
   ]
  },
  {
   "cell_type": "code",
   "execution_count": null,
   "metadata": {},
   "outputs": [],
   "source": []
  }
 ],
 "metadata": {
  "kernelspec": {
   "display_name": "Julia 1.10.0",
   "language": "julia",
   "name": "julia-1.10"
  },
  "language_info": {
   "file_extension": ".jl",
   "mimetype": "application/julia",
   "name": "julia",
   "version": "1.10.0"
  }
 },
 "nbformat": 4,
 "nbformat_minor": 2
}
