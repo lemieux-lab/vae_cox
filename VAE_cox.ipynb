{
 "cells": [
  {
   "cell_type": "markdown",
   "metadata": {},
   "source": [
    "# ISMB figures notebook"
   ]
  },
  {
   "cell_type": "code",
   "execution_count": 1,
   "metadata": {},
   "outputs": [
    {
     "name": "stderr",
     "output_type": "stream",
     "text": [
      "\u001b[32m\u001b[1m  Activating\u001b[22m\u001b[39m project at `~/vae_cox`\n"
     ]
    }
   ],
   "source": [
    "\n",
    "include(\"engines/init.jl\")\n",
    "include(\"engines/data_processing.jl\")\n",
    "include(\"engines/deep_learning.jl\")\n",
    "include(\"engines/cross_validation.jl\")\n",
    "outpath, session_id = set_dirs() ;"
   ]
  },
  {
   "cell_type": "code",
   "execution_count": null,
   "metadata": {},
   "outputs": [],
   "source": [
    "BRCA = MLSurvDataset(\"Data/TCGA_BRCA_tpm_n1049_btypes_labels_surv.h5\")"
   ]
  },
  {
   "cell_type": "code",
   "execution_count": 2,
   "metadata": {},
   "outputs": [
    {
     "data": {
      "text/plain": [
       "MLSurvDataset(Float32[0.008600163 0.0 … 0.0 0.0; 0.033423774 0.00432137 … 0.0 0.029383799; … ; 0.4828736 0.0 … 0.0 0.15836251; 0.045322984 0.017033324 … 0.0 0.20682588], [\"01H001\", \"02H003\", \"02H009\", \"02H017\", \"02H026\", \"02H033\", \"02H053\", \"02H066\", \"03H016\", \"03H022\"  …  \"13H186\", \"14H001\", \"14H007\", \"14H012\", \"14H015\", \"14H017\", \"14H019\", \"14H020\", \"14H023\", \"14H038\"], [\"TSPAN6\", \"TNMD\", \"DPM1\", \"SCYL3\", \"C1orf112\", \"FGR\", \"CFH\", \"FUCA2\", \"GCLC\", \"NFYA\"  …  \"AP003086.3\", \"AL109627.1\", \"AC084851.4\", \"AC024558.2\", \"AC108479.4\", \"AL512357.2\", \"AL138899.3\", \"AL669830.1\", \"AC091135.2\", \"AL357075.5\"], [\"lncRNA\", \"lncRNA\", \"protein_coding\", \"lncRNA\", \"protein_coding\", \"lncRNA\", \"protein_coding,retained_intron\", \"lncRNA\", \"protein_coding\", \"protein_coding\"  …  \"transcribed_processed_pseudogene\", \"lncRNA\", \"processed_pseudogene\", \"protein_coding\", \"unprocessed_pseudogene\", \"lncRNA\", \"protein_coding\", \"retained_intron\", \"unprocessed_pseudogene\", \"protein_coding\"], [\"Therapy-related myeloid neoplasms\", \"AML with minimal differentiation\", \"AML without maturation\", \"AML with minimal differentiation\", \"AML with myelodysplasia-related changes\", \"Acute monoblastic and monocytic leukaemia\", \"AML without maturation\", \"AML without maturation\", \"Acute monoblastic and monocytic leukaemia\", \"AML with myelodysplasia-related changes\"  …  \"Acute myelomonocytic leukaemia\", \"AML without maturation\", \"AML with maturation\", \"AML with minimal differentiation\", \"Acute myelomonocytic leukaemia\", \"AML without maturation\", \"AML with minimal differentiation\", \"AML without maturation\", \"AML with myelodysplasia-related changes\", \"AML with inv(3)(q21q26.2) or t(3;3)(q21;q26.2); RPN1-EVI1\"], [2170, 1396, 236, 284, 358, 101, 37, 135, 6033, 805  …  150, 2086, 75, 1467, 207, 213, 1983, 1952, 36, 255], [1, 1, 1, 1, 1, 1, 1, 1, 0, 1  …  1, 0, 1, 1, 1, 1, 0, 0, 1, 1])"
      ]
     },
     "metadata": {},
     "output_type": "display_data"
    }
   ],
   "source": [
    "LAML = MLSurvDataset(\"Data/LGN_AML_tpm_n300_btypes_labels_surv.h5\") "
   ]
  },
  {
   "cell_type": "code",
   "execution_count": 3,
   "metadata": {},
   "outputs": [
    {
     "data": {
      "text/plain": [
       "format_train_test (generic function with 1 method)"
      ]
     },
     "metadata": {},
     "output_type": "display_data"
    }
   ],
   "source": [
    "function format_train_test(fold; device = gpu)\n",
    "    nsamples = size(fold[\"train_x\"])[1]\n",
    "    ordering = sortperm(-fold[\"Y_t_train\"])\n",
    "    train_x = device(Matrix(fold[\"train_x\"][ordering,:]'));\n",
    "    train_y_t = device(Matrix(fold[\"Y_t_train\"][ordering,:]'));\n",
    "    train_y_e = device(Matrix(fold[\"Y_e_train\"][ordering,:]'));\n",
    "    NE_frac_tr = sum(train_y_e .== 1) != 0 ? 1 / sum(train_y_e .== 1) : 0\n",
    "\n",
    "    nsamples = size(fold[\"test_x\"])[1]\n",
    "    ordering = sortperm(-fold[\"Y_t_test\"])\n",
    "    test_x = device(Matrix(fold[\"test_x\"][ordering,:]'));\n",
    "    test_y_t = device(Matrix(fold[\"Y_t_test\"][ordering,:]'));\n",
    "    test_y_e = device(Matrix(fold[\"Y_e_test\"][ordering,:]'));\n",
    "    NE_frac_tst = sum(test_y_e .== 1) != 0 ? 1 / sum(test_y_e .== 1) : 0\n",
    "    return train_x, train_y_t, train_y_e, NE_frac_tr, test_x, test_y_t, test_y_e, NE_frac_tst\n",
    "end "
   ]
  },
  {
   "cell_type": "code",
   "execution_count": 4,
   "metadata": {},
   "outputs": [
    {
     "data": {
      "text/plain": [
       "data_prep (generic function with 1 method)"
      ]
     },
     "metadata": {},
     "output_type": "display_data"
    }
   ],
   "source": [
    "\n",
    "function data_prep(DATA;nfolds = 5, nepochs =1000, dim_redux= 125)\n",
    "    keep = [occursin(\"protein_coding\", bt) for bt in DATA.biotypes]\n",
    "    println(\"nb genes : $(sum(keep))\")\n",
    "    println(\"nb patients : $(size(DATA.samples)[1])\")\n",
    "    println(\"% uncensored : $(mean(DATA.surve .!= 0))\")\n",
    "    params_dict = Dict(\n",
    "            ## run infos \n",
    "            \"session_id\" => session_id, \"nfolds\" =>5,  \"modelid\" => \"$(bytes2hex(sha256(\"$(now())\"))[1:Int(floor(end/3))])\",\n",
    "            \"machine_id\"=>strip(read(`hostname`, String)), \"device\" => \"$(device())\", \"model_title\"=>\"AECPHDNN\",\n",
    "            ## data infos \n",
    "            \"dataset\" => \"BRCA_data(norm=true)\", \"nsamples\" => size(DATA.samples)[1],\n",
    "            \"nsamples_test\" => Int(round(size(DATA.samples)[1] / nfolds)), \"ngenes\" => size(DATA.genes[keep])[1],\n",
    "            \"nsamples_train\" => size(DATA.samples)[1] - Int(round(size(DATA.samples)[1] / nfolds)),\n",
    "            ## optim infos \n",
    "            \"nepochs\" => nepochs, \"ae_lr\" =>1e-6, \"cph_lr\" => 1e-5, \"ae_wd\" => 1e-6, \"cph_wd\" => 1e-6,\n",
    "            ## model infos\n",
    "            \"model_type\"=> \"vaecox\", \"dim_redux\" => dim_redux, \"ae_nb_hls\" => 2,\n",
    "            \"enc_nb_hl\" => 2, \"enc_hl_size\"=> 128,\n",
    "            \"venc_nb_hl\" => 2, \"venc_hl_size\"=> 128,  \"dec_nb_hl\" => 2 , \"dec_hl_size\"=> 128,\n",
    "            \"nb_clinf\" => 0, \"cph_nb_hl\" => 2, \"cph_hl_size\" => 64, \n",
    "            \"insize\" => size(DATA.genes[keep])[1],\n",
    "            ## metrics\n",
    "            \"model_cv_complete\" => false\n",
    "        )\n",
    "    # split train test\n",
    "    folds = split_train_test(Matrix(DATA.data[:,keep]), DATA.survt, DATA.surve, DATA.samples;nfolds =5)\n",
    "    fold = folds[1]\n",
    "    # format input data  \n",
    "    train_x, train_y_t, train_y_e, NE_frac_tr, test_x, test_y_t, test_y_e, NE_frac_tst = format_train_test(fold)\n",
    "\n",
    "    return train_x, train_y_t, train_y_e, NE_frac_tr, test_x, test_y_t, test_y_e, NE_frac_tst, params_dict\n",
    "end\n",
    "\n"
   ]
  },
  {
   "cell_type": "code",
   "execution_count": 5,
   "metadata": {},
   "outputs": [
    {
     "data": {
      "text/plain": [
       "cox_nll_vec (generic function with 6 methods)"
      ]
     },
     "metadata": {},
     "output_type": "display_data"
    }
   ],
   "source": [
    "function cox_nll_vec(mdl::Chain, X_, Y_e_, NE_frac)\n",
    "    outs = vec(mdl(X_))\n",
    "    #outs = vec(mdl.cphdnn(mdl.encoder(X_)))\n",
    "    hazard_ratios = exp.(outs)\n",
    "    log_risk = log.(cumsum(hazard_ratios))\n",
    "    uncensored_likelihood = outs .- log_risk\n",
    "    censored_likelihood = uncensored_likelihood .* Y_e_'\n",
    "    #neg_likelihood = - sum(censored_likelihood) / sum(e .== 1)\n",
    "    neg_likelihood = - sum(censored_likelihood) * NE_frac\n",
    "    return neg_likelihood\n",
    "end "
   ]
  },
  {
   "cell_type": "code",
   "execution_count": 6,
   "metadata": {},
   "outputs": [
    {
     "data": {
      "text/plain": [
       "VAE_COX_loss (generic function with 1 method)"
      ]
     },
     "metadata": {},
     "output_type": "display_data"
    }
   ],
   "source": [
    "function VAE_COX_loss(VENC::VariationalEncoder, CPH, X, Y_e, NE_frac;device = gpu)\n",
    "    mu, log_sigma = VENC(X)\n",
    "    #z = mu + device(randn(Float32, size(log_sigma))) .* exp.(log_sigma)\n",
    "    outs = vec(CPH(mu))\n",
    "    hazard_ratios = exp.(outs)\n",
    "    log_risk = log.(cumsum(hazard_ratios))\n",
    "    uncensored_likelihood = outs .- log_risk\n",
    "    censored_likelihood = uncensored_likelihood .* Y_e'\n",
    "    #neg_likelihood = - sum(censored_likelihood) / sum(e .== 1)\n",
    "    neg_likelihood = - sum(censored_likelihood) * NE_frac\n",
    "    return neg_likelihood\n",
    "end "
   ]
  },
  {
   "cell_type": "code",
   "execution_count": 7,
   "metadata": {},
   "outputs": [
    {
     "data": {
      "text/plain": [
       "VariationalEncoder"
      ]
     },
     "metadata": {},
     "output_type": "display_data"
    }
   ],
   "source": [
    "function VariationalEncoder(input_dim::Int, latent_dim::Int, hidden_dim::Int;device = gpu) \n",
    "    return VariationalEncoder(\n",
    "    device(Chain(Dense(input_dim, 3000, leakyrelu), Dense(3000,hidden_dim, leakyrelu))),   # linear\n",
    "    device(Dense(hidden_dim, latent_dim)),        # mu\n",
    "    device(Dense(hidden_dim, latent_dim)))        # log sigma\n",
    "end "
   ]
  },
  {
   "cell_type": "code",
   "execution_count": 8,
   "metadata": {},
   "outputs": [
    {
     "data": {
      "text/plain": [
       "l2_penalty (generic function with 7 methods)"
      ]
     },
     "metadata": {},
     "output_type": "display_data"
    }
   ],
   "source": [
    "function l2_penalty(model::VariationalEncoder)\n",
    "    l2_sum = 0\n",
    "    for wm in model.linear\n",
    "        l2_sum += sum(abs2, wm.weight)\n",
    "    end \n",
    "    l2_sum += sum(abs2, model.mu.weight)\n",
    "    l2_sum += sum(abs2, model.log_sigma.weight)\n",
    "    return l2_sum\n",
    "end"
   ]
  },
  {
   "cell_type": "code",
   "execution_count": 9,
   "metadata": {},
   "outputs": [
    {
     "ename": "UndefVarError",
     "evalue": "UndefVarError: `train_x` not defined",
     "output_type": "error",
     "traceback": [
      "UndefVarError: `train_x` not defined\n",
      "\n",
      "Stacktrace:\n",
      " [1] top-level scope\n",
      "   @ ~/vae_cox/VAE_cox.ipynb:1"
     ]
    }
   ],
   "source": [
    "venc =VariationalEncoder(size(train_x)[1], 125, 600)\n",
    "cphdnn = gpu(Chain(Dense(125,64, leakyrelu),Dense(64, 1, bias = false)))\n",
    "opt1 = Flux.ADAM(1e-6)\n",
    "wd = 1e-6\n",
    "ps1 = Flux.params(enc, cphdnn)\n",
    "gs1 = gradient(ps1) do \n",
    "    VAE_COX_loss(venc, cphdnn, train_x, train_y_e, NE_frac_tr) + l2_penalty(cphdnn) * wd + l2_penalty(venc) * wd\n",
    "    #VAE_COX_loss(model[\"venc\"], model[\"cph\"], train_x, train_y_e, NE_frac_tr) + l2_penalty(model[\"venc\"]) * wd + l2_penalty(model[\"cph\"]) * wd \n",
    "end \n",
    "\n",
    "vaecox_loss =  round(VAE_COX_loss(venc, cphdnn, train_x, train_y_e, NE_frac_tr) + l2_penalty(cphdnn) * wd + l2_penalty(venc) * wd, digits = 3)  \n",
    "OUTS_tr = cphdnn(venc(train_x)[1])\n",
    "OUTS_tst = cphdnn(venc(test_x)[1])\n",
    "println(vaecox_loss)"
   ]
  },
  {
   "cell_type": "code",
   "execution_count": 10,
   "metadata": {},
   "outputs": [
    {
     "name": "stdout",
     "output_type": "stream",
     "text": [
      "nb genes : 14996\n",
      "nb patients : 300\n"
     ]
    },
    {
     "name": "stdout",
     "output_type": "stream",
     "text": [
      "% uncensored : 0.7433333333333333\n"
     ]
    },
    {
     "name": "stdout",
     "output_type": "stream",
     "text": [
      "1 TRAIN 4.952 cind: 0.494 \t TEST ae-corr: 0.004 \tcind: 0.48 [795, 861, 0]\n"
     ]
    },
    {
     "name": "stdout",
     "output_type": "stream",
     "text": [
      "400 TRAIN 4.952 cind: 0.494 \t TEST ae-corr: 0.912 \tcind: 0.48 [795, 861, 0]\n"
     ]
    },
    {
     "name": "stdout",
     "output_type": "stream",
     "text": [
      "800 TRAIN 4.952 cind: 0.494 \t TEST ae-corr: 0.92 \tcind: 0.48 [795, 861, 0]\n"
     ]
    },
    {
     "name": "stdout",
     "output_type": "stream",
     "text": [
      "1200 TRAIN 4.952 cind: 0.494 \t TEST ae-corr: 0.934 \tcind: 0.48 [795, 861, 0]\n"
     ]
    },
    {
     "name": "stdout",
     "output_type": "stream",
     "text": [
      "1600 TRAIN 4.952 cind: 0.494 \t TEST ae-corr: 0.938 \tcind: 0.48 [795, 861, 0]\n"
     ]
    },
    {
     "name": "stdout",
     "output_type": "stream",
     "text": [
      "2000 TRAIN 4.952 cind: 0.494 \t TEST ae-corr: 0.943 \tcind: 0.48 [795, 861, 0]\n"
     ]
    },
    {
     "name": "stdout",
     "output_type": "stream",
     "text": [
      "2400 TRAIN 4.952 cind: 0.494 \t TEST ae-corr: 0.946 \tcind: 0.48 [795, 861, 0]\n"
     ]
    },
    {
     "name": "stdout",
     "output_type": "stream",
     "text": [
      "2800 TRAIN 4.952 cind: 0.494 \t TEST ae-corr: 0.95 \tcind: 0.48 [795, 861, 0]\n"
     ]
    },
    {
     "name": "stdout",
     "output_type": "stream",
     "text": [
      "3200 TRAIN 4.952 cind: 0.494 \t TEST ae-corr: 0.953 \tcind: 0.48 [795, 861, 0]\n"
     ]
    },
    {
     "name": "stdout",
     "output_type": "stream",
     "text": [
      "3600 TRAIN 4.952 cind: 0.494 \t TEST ae-corr: 0.953 \tcind: 0.48 [795, 861, 0]\n"
     ]
    },
    {
     "name": "stdout",
     "output_type": "stream",
     "text": [
      "4000 TRAIN 4.952 cind: 0.494 \t TEST ae-corr: 0.953 \tcind: 0.48 [795, 861, 0]\n"
     ]
    },
    {
     "name": "stdout",
     "output_type": "stream",
     "text": [
      "4400 TRAIN 4.952 cind: 0.494 \t TEST ae-corr: 0.955 \tcind: 0.48 [795, 861, 0]\n"
     ]
    },
    {
     "name": "stdout",
     "output_type": "stream",
     "text": [
      "4800 TRAIN 4.952 cind: 0.494 \t TEST ae-corr: 0.957 \tcind: 0.48 [795, 861, 0]\n"
     ]
    },
    {
     "name": "stdout",
     "output_type": "stream",
     "text": [
      "5200 TRAIN 4.952 cind: 0.494 \t TEST ae-corr: 0.957 \tcind: 0.48 [795, 861, 0]\n"
     ]
    },
    {
     "name": "stdout",
     "output_type": "stream",
     "text": [
      "5600 TRAIN 4.952 cind: 0.494 \t TEST ae-corr: 0.958 \tcind: 0.48 [795, 861, 0]\n"
     ]
    },
    {
     "name": "stdout",
     "output_type": "stream",
     "text": [
      "6000 TRAIN 4.952 cind: 0.494 \t TEST ae-corr: 0.959 \tcind: 0.48 [795, 861, 0]\n"
     ]
    },
    {
     "name": "stdout",
     "output_type": "stream",
     "text": [
      "6400 TRAIN 4.952 cind: 0.494 \t TEST ae-corr: 0.96 \tcind: 0.48 [795, 861, 0]\n"
     ]
    },
    {
     "name": "stdout",
     "output_type": "stream",
     "text": [
      "6800 TRAIN 4.952 cind: 0.494 \t TEST ae-corr: 0.958 \tcind: 0.48 [795, 861, 0]\n"
     ]
    },
    {
     "name": "stdout",
     "output_type": "stream",
     "text": [
      "7200 TRAIN 4.952 cind: 0.494 \t TEST ae-corr: 0.958 \tcind: 0.48 [795, 861, 0]\n"
     ]
    },
    {
     "name": "stdout",
     "output_type": "stream",
     "text": [
      "7600 TRAIN 4.952 cind: 0.494 \t TEST ae-corr: 0.961 \tcind: 0.48 [795, 861, 0]\n"
     ]
    },
    {
     "name": "stdout",
     "output_type": "stream",
     "text": [
      "8000 TRAIN 4.952 cind: 0.494 \t TEST ae-corr: 0.961 \tcind: 0.48 [795, 861, 0]\n"
     ]
    },
    {
     "name": "stdout",
     "output_type": "stream",
     "text": [
      "8400 TRAIN 4.952 cind: 0.494 \t TEST ae-corr: 0.961 \tcind: 0.48 [795, 861, 0]\n"
     ]
    },
    {
     "name": "stdout",
     "output_type": "stream",
     "text": [
      "8800 TRAIN 4.952 cind: 0.494 \t TEST ae-corr: 0.962 \tcind: 0.48 [795, 861, 0]\n"
     ]
    },
    {
     "name": "stdout",
     "output_type": "stream",
     "text": [
      "9200 TRAIN 4.952 cind: 0.494 \t TEST ae-corr: 0.961 \tcind: 0.48 [795, 861, 0]\n"
     ]
    },
    {
     "name": "stdout",
     "output_type": "stream",
     "text": [
      "9600 TRAIN 4.952 cind: 0.494 \t TEST ae-corr: 0.961 \tcind: 0.48 [795, 861, 0]\n"
     ]
    },
    {
     "name": "stdout",
     "output_type": "stream",
     "text": [
      "10000 TRAIN 4.952 cind: 0.494 \t TEST ae-corr: 0.962 \tcind: 0.48 [795, 861, 0]\n"
     ]
    },
    {
     "name": "stdout",
     "output_type": "stream",
     "text": [
      "1 TRAIN 4.945 cind: 0.494 \t TEST ae-corr: 0.962 \tcind: 0.48 [795, 861, 0]\n"
     ]
    },
    {
     "name": "stdout",
     "output_type": "stream",
     "text": [
      "400 TRAIN 4.938 cind: 0.502 \t TEST ae-corr: 0.962 \tcind: 0.486 [805, 851, 0]\n"
     ]
    },
    {
     "name": "stdout",
     "output_type": "stream",
     "text": [
      "800 TRAIN 4.93 cind: 0.513 \t TEST ae-corr: 0.961 \tcind: 0.493 [816, 840, 0]\n"
     ]
    },
    {
     "name": "stdout",
     "output_type": "stream",
     "text": [
      "1200 TRAIN 4.923 cind: 0.523 \t TEST ae-corr: 0.96 \tcind: 0.498 [825, 831, 0]\n"
     ]
    },
    {
     "name": "stdout",
     "output_type": "stream",
     "text": [
      "1600 TRAIN 4.916 cind: 0.534 \t TEST ae-corr: 0.963 \tcind: 0.504 [835, 821, 0]\n"
     ]
    },
    {
     "name": "stdout",
     "output_type": "stream",
     "text": [
      "2000 TRAIN 4.908 cind: 0.545 \t TEST ae-corr: 0.961 \tcind: 0.51 [845, 811, 0]\n"
     ]
    },
    {
     "name": "stdout",
     "output_type": "stream",
     "text": [
      "2400 TRAIN 4.901 cind: 0.554 \t TEST ae-corr: 0.963 \tcind: 0.513 [849, 807, 0]\n"
     ]
    },
    {
     "name": "stdout",
     "output_type": "stream",
     "text": [
      "2800 TRAIN 4.894 cind: 0.565 \t TEST ae-corr: 0.963 \tcind: 0.524 [868, 788, 0]\n"
     ]
    },
    {
     "name": "stdout",
     "output_type": "stream",
     "text": [
      "3200 TRAIN 4.889 cind: 0.572 \t TEST ae-corr: 0.963 \tcind: 0.542 [897, 759, 0]\n"
     ]
    },
    {
     "name": "stdout",
     "output_type": "stream",
     "text": [
      "3600 TRAIN 4.883 cind: 0.579 \t TEST ae-corr: 0.962 \tcind: 0.554 [918, 738, 0]\n"
     ]
    },
    {
     "name": "stdout",
     "output_type": "stream",
     "text": [
      "4000 TRAIN 4.875 cind: 0.588 \t TEST ae-corr: 0.961 \tcind: 0.572 [948, 708, 0]\n"
     ]
    },
    {
     "name": "stdout",
     "output_type": "stream",
     "text": [
      "4400 TRAIN 4.869 cind: 0.594 \t TEST ae-corr: 0.962 \tcind: 0.585 [968, 688, 0]\n"
     ]
    },
    {
     "name": "stdout",
     "output_type": "stream",
     "text": [
      "4800 TRAIN 4.863 cind: 0.602 \t TEST ae-corr: 0.962 \tcind: 0.598 [991, 665, 0]\n"
     ]
    },
    {
     "name": "stdout",
     "output_type": "stream",
     "text": [
      "5200 TRAIN 4.856 cind: 0.609 \t TEST ae-corr: 0.961 \tcind: 0.599 [992, 664, 0]\n"
     ]
    },
    {
     "name": "stdout",
     "output_type": "stream",
     "text": [
      "5600 TRAIN 4.851 cind: 0.615 \t TEST ae-corr: 0.962 \tcind: 0.604 [1000, 656, 0]\n"
     ]
    },
    {
     "name": "stdout",
     "output_type": "stream",
     "text": [
      "6000 TRAIN 4.846 cind: 0.619 \t TEST ae-corr: 0.964 \tcind: 0.61 [1010, 646, 0]\n"
     ]
    },
    {
     "name": "stdout",
     "output_type": "stream",
     "text": [
      "6400 TRAIN 4.841 cind: 0.623 \t TEST ae-corr: 0.961 \tcind: 0.611 [1011, 645, 0]\n"
     ]
    },
    {
     "name": "stdout",
     "output_type": "stream",
     "text": [
      "6800 TRAIN 4.837 cind: 0.627 \t TEST ae-corr: 0.963 \tcind: 0.607 [1005, 651, 0]\n"
     ]
    },
    {
     "name": "stdout",
     "output_type": "stream",
     "text": [
      "7200 TRAIN 4.833 cind: 0.633 \t TEST ae-corr: 0.963 \tcind: 0.61 [1010, 646, 0]\n"
     ]
    },
    {
     "name": "stdout",
     "output_type": "stream",
     "text": [
      "7600 TRAIN 4.828 cind: 0.637 \t TEST ae-corr: 0.962 \tcind: 0.613 [1015, 641, 0]\n"
     ]
    },
    {
     "name": "stdout",
     "output_type": "stream",
     "text": [
      "8000 TRAIN 4.823 cind: 0.641 \t TEST ae-corr: 0.962 \tcind: 0.617 [1022, 634, 0]\n"
     ]
    },
    {
     "name": "stdout",
     "output_type": "stream",
     "text": [
      "8400 TRAIN 4.818 cind: 0.644 \t TEST ae-corr: 0.963 \tcind: 0.618 [1023, 633, 0]\n"
     ]
    },
    {
     "name": "stdout",
     "output_type": "stream",
     "text": [
      "8800 TRAIN 4.814 cind: 0.647 \t TEST ae-corr: 0.964 \tcind: 0.618 [1023, 633, 0]\n"
     ]
    },
    {
     "name": "stdout",
     "output_type": "stream",
     "text": [
      "9200 TRAIN 4.81 cind: 0.65 \t TEST ae-corr: 0.963 \tcind: 0.618 [1024, 632, 0]\n"
     ]
    },
    {
     "name": "stdout",
     "output_type": "stream",
     "text": [
      "9600 TRAIN 4.806 cind: 0.653 \t TEST ae-corr: 0.961 \tcind: 0.619 [1025, 631, 0]\n"
     ]
    },
    {
     "name": "stdout",
     "output_type": "stream",
     "text": [
      "10000 TRAIN 4.802 cind: 0.655 \t TEST ae-corr: 0.964 \tcind: 0.621 [1029, 627, 0]\n"
     ]
    },
    {
     "name": "stdout",
     "output_type": "stream",
     "text": [
      "1 TRAIN 4.808 cind: 0.655 \t TEST ae-corr: 0.963 \tcind: 0.622 [1030, 626, 0]\n"
     ]
    },
    {
     "name": "stdout",
     "output_type": "stream",
     "text": [
      "400 TRAIN 4.804 cind: 0.658 \t TEST ae-corr: 0.963 \tcind: 0.622 [1030, 626, 0]\n"
     ]
    },
    {
     "name": "stdout",
     "output_type": "stream",
     "text": [
      "800 TRAIN 4.8 cind: 0.66 \t TEST ae-corr: 0.964 \tcind: 0.627 [1039, 617, 0]\n"
     ]
    },
    {
     "name": "stdout",
     "output_type": "stream",
     "text": [
      "1200 TRAIN 4.796 cind: 0.662 \t TEST ae-corr: 0.961 \tcind: 0.634 [1050, 606, 0]\n"
     ]
    },
    {
     "name": "stdout",
     "output_type": "stream",
     "text": [
      "1600 TRAIN 4.793 cind: 0.664 \t TEST ae-corr: 0.961 \tcind: 0.639 [1059, 597, 0]\n"
     ]
    },
    {
     "name": "stdout",
     "output_type": "stream",
     "text": [
      "2000 TRAIN 4.789 cind: 0.666 \t TEST ae-corr: 0.964 \tcind: 0.641 [1062, 594, 0]\n"
     ]
    },
    {
     "name": "stdout",
     "output_type": "stream",
     "text": [
      "2400 TRAIN 4.785 cind: 0.668 \t TEST ae-corr: 0.961 \tcind: 0.644 [1067, 589, 0]\n"
     ]
    },
    {
     "name": "stdout",
     "output_type": "stream",
     "text": [
      "2800 TRAIN 4.782 cind: 0.67 \t TEST ae-corr: 0.962 \tcind: 0.643 [1065, 591, 0]\n"
     ]
    },
    {
     "name": "stdout",
     "output_type": "stream",
     "text": [
      "3200 TRAIN 4.778 cind: 0.672 \t TEST ae-corr: 0.962 \tcind: 0.643 [1065, 591, 0]\n"
     ]
    },
    {
     "name": "stdout",
     "output_type": "stream",
     "text": [
      "3600 TRAIN 4.775 cind: 0.673 \t TEST ae-corr: 0.963 \tcind: 0.646 [1069, 587, 0]\n"
     ]
    },
    {
     "name": "stdout",
     "output_type": "stream",
     "text": [
      "4000 TRAIN 4.771 cind: 0.675 \t TEST ae-corr: 0.962 \tcind: 0.649 [1074, 582, 0]\n"
     ]
    },
    {
     "name": "stdout",
     "output_type": "stream",
     "text": [
      "4400 TRAIN 4.768 cind: 0.677 \t TEST ae-corr: 0.963 \tcind: 0.652 [1080, 576, 0]\n"
     ]
    },
    {
     "name": "stdout",
     "output_type": "stream",
     "text": [
      "4800 TRAIN 4.765 cind: 0.678 \t TEST ae-corr: 0.964 \tcind: 0.655 [1085, 571, 0]\n"
     ]
    },
    {
     "name": "stdout",
     "output_type": "stream",
     "text": [
      "5200 TRAIN 4.761 cind: 0.679 \t TEST ae-corr: 0.961 \tcind: 0.653 [1081, 575, 0]\n"
     ]
    },
    {
     "name": "stdout",
     "output_type": "stream",
     "text": [
      "5600 TRAIN 4.757 cind: 0.681 \t TEST ae-corr: 0.962 \tcind: 0.653 [1082, 574, 0]\n"
     ]
    },
    {
     "name": "stdout",
     "output_type": "stream",
     "text": [
      "6000 TRAIN 4.754 cind: 0.682 \t TEST ae-corr: 0.961 \tcind: 0.656 [1086, 570, 0]\n"
     ]
    },
    {
     "name": "stdout",
     "output_type": "stream",
     "text": [
      "6400 TRAIN 4.751 cind: 0.683 \t TEST ae-corr: 0.961 \tcind: 0.658 [1090, 566, 0]\n"
     ]
    },
    {
     "name": "stdout",
     "output_type": "stream",
     "text": [
      "6800 TRAIN 4.747 cind: 0.684 \t TEST ae-corr: 0.962 \tcind: 0.658 [1090, 566, 0]\n"
     ]
    },
    {
     "name": "stdout",
     "output_type": "stream",
     "text": [
      "7200 TRAIN 4.744 cind: 0.686 \t TEST ae-corr: 0.962 \tcind: 0.658 [1089, 567, 0]\n"
     ]
    },
    {
     "name": "stdout",
     "output_type": "stream",
     "text": [
      "7600 TRAIN 4.741 cind: 0.687 \t TEST ae-corr: 0.961 \tcind: 0.661 [1094, 562, 0]\n"
     ]
    },
    {
     "name": "stdout",
     "output_type": "stream",
     "text": [
      "8000 TRAIN 4.738 cind: 0.688 \t TEST ae-corr: 0.963 \tcind: 0.661 [1095, 561, 0]\n"
     ]
    },
    {
     "name": "stdout",
     "output_type": "stream",
     "text": [
      "8400 TRAIN 4.734 cind: 0.689 \t TEST ae-corr: 0.962 \tcind: 0.662 [1097, 559, 0]\n"
     ]
    },
    {
     "name": "stdout",
     "output_type": "stream",
     "text": [
      "8800 TRAIN 4.731 cind: 0.69 \t TEST ae-corr: 0.959 \tcind: 0.664 [1100, 556, 0]\n"
     ]
    },
    {
     "name": "stdout",
     "output_type": "stream",
     "text": [
      "9200 TRAIN 4.728 cind: 0.691 \t TEST ae-corr: 0.961 \tcind: 0.665 [1101, 555, 0]\n"
     ]
    },
    {
     "name": "stdout",
     "output_type": "stream",
     "text": [
      "9600 TRAIN 4.725 cind: 0.692 \t TEST ae-corr: 0.962 \tcind: 0.662 [1097, 559, 0]\n"
     ]
    },
    {
     "name": "stdout",
     "output_type": "stream",
     "text": [
      "10000 TRAIN 4.722 cind: 0.693 \t TEST ae-corr: 0.963 \tcind: 0.661 [1095, 561, 0]\n"
     ]
    }
   ],
   "source": [
    "train_x, train_y_t, train_y_e, NE_frac_tr, test_x, test_y_t, test_y_e, NE_frac_tst, params_dict = data_prep(LAML;nepochs = 10_000)\n",
    "venc = VariationalEncoder(size(train_x)[1], params_dict[\"dim_redux\"], 600)\n",
    "vdec = Decoder(size(train_x)[1], params_dict[\"dim_redux\"], 600)\n",
    "cphdnn = gpu(Chain(Dense(params_dict[\"dim_redux\"],128, leakyrelu),Dense(128, 1, bias = false)))\n",
    "opt1 = Flux.ADAM(1e-6) ## opt VENC-CPHDNN\n",
    "opt2 = Flux.ADAM(1e-5) ## opt VAE\n",
    "wd = params_dict[\"cph_wd\"]\n",
    "opt = Flux.ADAM(params_dict[\"cph_lr\"])\n",
    "# training VAE only first\n",
    "for i in 1:params_dict[\"nepochs\"]\n",
    "    vaecox_loss =  round(VAE_COX_loss(venc, cphdnn, train_x, train_y_e, NE_frac_tr) + l2_penalty(cphdnn) * wd + l2_penalty(venc) * wd, digits = 3)  \n",
    "    \n",
    "    OUTS_tr = cphdnn(venc(train_x)[1])\n",
    "    OUTS_tst = cphdnn(venc(test_x)[1])\n",
    "    \n",
    "    ps2 = Flux.params(venc, vdec)\n",
    "    gs2 = gradient(ps2) do \n",
    "        VAE_lossf(venc, vdec, train_x) + l2_penalty(venc) * wd + l2_penalty(vdec) * wd\n",
    "        #VAE_COX_loss(model[\"venc\"], model[\"cph\"], train_x, train_y_e, NE_frac_tr) + l2_penalty(model[\"venc\"]) * wd + l2_penalty(model[\"cph\"]) * wd \n",
    "    end \n",
    "    vae_loss =  round(VAE_lossf(venc, vdec, train_x) + l2_penalty(venc) * wd + l2_penalty(vdec) * wd, digits = 3)  \n",
    "    VAE_test = round(my_cor(vec(test_x), vec(MyReconstruct(venc, vdec, test_x)[end])),digits = 3)\n",
    "\n",
    "    cind_tr, cdnt_tr, ddnt_tr, tied_tr  = concordance_index(train_y_t, train_y_e, -1 * OUTS_tr)\n",
    "    cind_test,cdnt_tst, ddnt_tst, tied_tst = concordance_index(test_y_t, test_y_e, -1 *OUTS_tst)\n",
    "    \n",
    "    if i%400 ==0 || i == 1\n",
    "    println(\"$i TRAIN $vaecox_loss cind: $(round(cind_tr, digits = 3)) \\t TEST ae-corr: $VAE_test \\tcind: $(round(cind_test, digits = 3)) [$(Int(cdnt_tst)), $(Int(ddnt_tst)), $(Int(tied_tst))]\")\n",
    "    end \n",
    "    #Flux.update!(opt1,ps1, gs1)\n",
    "    Flux.update!(opt2,ps2, gs2)\n",
    "    params_dict[\"cph_tst_c_ind\"] = cind_test\n",
    "    params_dict[\"cph_train_c_ind\"] = cind_tr\n",
    "    params_dict[\"step\"] = i \n",
    "end\n",
    "# training VENC-CPHDNN \n",
    "for i in 1:params_dict[\"nepochs\"]\n",
    "    ps1 = Flux.params(cphdnn)\n",
    "    gs1 = gradient(ps1) do \n",
    "        cox_nll_vec(cphdnn, venc(train_x)[1], train_y_e, NE_frac_tr) + l2_penalty(cphdnn) * wd \n",
    "        #VAE_COX_loss(model[\"venc\"], model[\"cph\"], train_x, train_y_e, NE_frac_tr) + l2_penalty(model[\"venc\"]) * wd + l2_penalty(model[\"cph\"]) * wd \n",
    "    end \n",
    "    vaecox_loss =  round(cox_nll_vec(cphdnn, venc(train_x)[1], train_y_e, NE_frac_tr) + l2_penalty(cphdnn) * wd  , digits = 3)  \n",
    "    OUTS_tr = cphdnn(venc(train_x)[1])\n",
    "    OUTS_tst = cphdnn(venc(test_x)[1])\n",
    "    \n",
    "    vae_loss =  round(VAE_lossf(venc, vdec, train_x) + l2_penalty(venc) * wd + l2_penalty(vdec) * wd, digits = 3)  \n",
    "    VAE_test = round(my_cor(vec(test_x), vec(MyReconstruct(venc, vdec, test_x)[end])),digits = 3)\n",
    "\n",
    "    cind_tr, cdnt_tr, ddnt_tr, tied_tr  = concordance_index(train_y_t, train_y_e, -1 * OUTS_tr)\n",
    "    cind_test,cdnt_tst, ddnt_tst, tied_tst = concordance_index(test_y_t, test_y_e, -1 *OUTS_tst)\n",
    "    \n",
    "    if i%400 ==0 || i == 1\n",
    "    println(\"$i TRAIN $vaecox_loss cind: $(round(cind_tr, digits = 3)) \\t TEST ae-corr: $VAE_test \\tcind: $(round(cind_test, digits = 3)) [$(Int(cdnt_tst)), $(Int(ddnt_tst)), $(Int(tied_tst))]\")\n",
    "    end \n",
    "    Flux.update!(opt1,ps1, gs1)\n",
    "    #Flux.update!(opt2,ps2, gs2)\n",
    "    params_dict[\"cph_tst_c_ind\"] = cind_test\n",
    "    params_dict[\"cph_train_c_ind\"] = cind_tr\n",
    "    params_dict[\"step\"] = i \n",
    "end\n",
    "# training VENC-CPHDNN \n",
    "for i in 1:params_dict[\"nepochs\"]\n",
    "    ps1 = Flux.params(venc, cphdnn)\n",
    "    gs1 = gradient(ps1) do \n",
    "        VAE_COX_loss(venc, cphdnn, train_x, train_y_e, NE_frac_tr) + l2_penalty(cphdnn) * wd + l2_penalty(venc) * wd\n",
    "        #VAE_COX_loss(model[\"venc\"], model[\"cph\"], train_x, train_y_e, NE_frac_tr) + l2_penalty(model[\"venc\"]) * wd + l2_penalty(model[\"cph\"]) * wd \n",
    "    end \n",
    "    vaecox_loss =  round(VAE_COX_loss(venc, cphdnn, train_x, train_y_e, NE_frac_tr) + l2_penalty(cphdnn) * wd + l2_penalty(venc) * wd, digits = 3)  \n",
    "    OUTS_tr = cphdnn(venc(train_x)[1])\n",
    "    OUTS_tst = cphdnn(venc(test_x)[1])\n",
    "    \n",
    "    vae_loss =  round(VAE_lossf(venc, vdec, train_x) + l2_penalty(venc) * wd + l2_penalty(vdec) * wd, digits = 3)  \n",
    "    VAE_test = round(my_cor(vec(test_x), vec(MyReconstruct(venc, vdec, test_x)[end])),digits = 3)\n",
    "\n",
    "    cind_tr, cdnt_tr, ddnt_tr, tied_tr  = concordance_index(train_y_t, train_y_e, -1 * OUTS_tr)\n",
    "    cind_test,cdnt_tst, ddnt_tst, tied_tst = concordance_index(test_y_t, test_y_e, -1 *OUTS_tst)\n",
    "    \n",
    "    if i%400 ==0 || i == 1\n",
    "    println(\"$i TRAIN $vaecox_loss cind: $(round(cind_tr, digits = 3)) \\t TEST ae-corr: $VAE_test \\tcind: $(round(cind_test, digits = 3)) [$(Int(cdnt_tst)), $(Int(ddnt_tst)), $(Int(tied_tst))]\")\n",
    "    end \n",
    "    Flux.update!(opt1,ps1, gs1)\n",
    "    #Flux.update!(opt2,ps2, gs2)\n",
    "    params_dict[\"cph_tst_c_ind\"] = cind_test\n",
    "    params_dict[\"cph_train_c_ind\"] = cind_tr\n",
    "    params_dict[\"step\"] = i \n",
    "end"
   ]
  },
  {
   "cell_type": "code",
   "execution_count": 192,
   "metadata": {},
   "outputs": [],
   "source": [
    "OUTS_tr = cphdnn(train_x)\n",
    "OUTS_tst = cphdnn(test_x)\n",
    "params_dict[\"cph_tst_c_ind\"] = concordance_index(test_y_t, test_y_e, -1 * OUTS_tst)[1]\n",
    "params_dict[\"cph_train_c_ind\"] = concordance_index(train_y_t, train_y_e, -1 * OUTS_tr)[1]\n",
    "model_params_path = \"$(params_dict[\"session_id\"])/$(params_dict[\"model_type\"])_$(params_dict[\"modelid\"])\"\n",
    "mkdir(\"RES/$model_params_path\")\n",
    "bson(\"RES/$model_params_path/params.bson\",params_dict)\n"
   ]
  },
  {
   "cell_type": "code",
   "execution_count": null,
   "metadata": {},
   "outputs": [],
   "source": []
  },
  {
   "cell_type": "code",
   "execution_count": null,
   "metadata": {},
   "outputs": [],
   "source": [
    "cphdnn = gpu(Chain(Dense(size(DATA.data[:,keep])[2], 64, leakyrelu), Dense(64, 64,leakyrelu),Dense(64, 1)))"
   ]
  },
  {
   "cell_type": "code",
   "execution_count": null,
   "metadata": {},
   "outputs": [],
   "source": [
    "train_x, train_y_t, train_y_e, NE_frac_tr, test_x, test_y_t, test_y_e, NE_frac_tst = format_train_test(fold)\n",
    "cphdnn(train_x)"
   ]
  },
  {
   "cell_type": "code",
   "execution_count": null,
   "metadata": {},
   "outputs": [],
   "source": [
    "function validate_vaecox(DATA, params_dict;device = gpu)\n",
    "    nfolds, nepochs, dim_redux = 5, 1000, 125\n",
    "    keep = [occursin(\"protein_coding\", bt) for bt in DATA.biotypes]\n",
    "    # split train test\n",
    "    folds = split_train_test(Matrix(DATA.data[:,keep]), DATA.survt, DATA.surve, DATA.samples;nfolds =5)\n",
    "    fold = folds[1]\n",
    "\n",
    "    venc = VariationalEncoder(size(DATA.data[:,keep])[2], 125, 600)\n",
    "    vdec = Decoder(size(DATA.data[:,keep])[2], 125, 600)\n",
    "    VAE_opt = Flux.ADAM(1e-4)\n",
    "\n",
    "    cphdnn = device(Chain(Dense(size(DATA.data[:,keep])[2], 125, leakyrelu), Dense(125, 100,leakyrelu),Dense(100, 1)))\n",
    "    cphdnn_opt = Flux.ADAM(1e-5)\n",
    "\n",
    "    train_x, train_y_t, train_y_e, NE_frac_tr, test_x, test_y_t, test_y_e, NE_frac_tst = format_train_test(fold)\n",
    "    for i in 1:nepochs\n",
    "        ps1 = Flux.params(venc, vdec)\n",
    "        gs1 = gradient(ps1) do\n",
    "            VAE_lossf(venc, vdec, train_x)\n",
    "        end \n",
    "        VAE_loss = VAE_lossf(venc, vdec, train_x)\n",
    "        VAE_cor = round(my_cor(vec(train_x), vec(MyReconstruct(venc, vdec, train_x)[end])),digits = 3)\n",
    "        VAE_test = round(my_cor(vec(test_x), vec(MyReconstruct(venc, vdec, test_x)[end])),digits = 3)\n",
    "\n",
    "        ps2 = Flux.params(venc, cphdnn)\n",
    "        gs2 = gradient(ps2) do \n",
    "            cox_nll_vec(cphdnn, train_x, train_y_e, NE_frac_tr)\n",
    "            #VAE_COX_loss(venc, cphdnn, train_x, train_y_e, NE_frac_tr)\n",
    "        end \n",
    "        CPH_loss = round(cox_nll_vec(cphdnn, train_x, train_y_e, NE_frac_tr), digits = 3) #round(VAE_COX_loss(venc, cphdnn, train_x, train_y_e, NE_frac_tr), digits = 3)\n",
    "        #mu, log_sigma = venc(train_x)\n",
    "        #z = mu + device(randn(Float32, size(log_sigma))) .* exp.(log_sigma)\n",
    "        #OUTS_tr = vec(cphdnn(z))\n",
    "        OUTS_tr = cphdnn(train_x)\n",
    "        OUTS_tst =  cphdnn(test_x)\n",
    "        cind_tr, cdnt_tr, ddnt_tr, tied_tr  = concordance_index(train_y_t, train_y_e, OUTS_tr)\n",
    "        cind_test,cdnt_tst, ddnt_tst, tied_tst = concordance_index(test_y_t, test_y_e,OUTS_tst)\n",
    "        #Flux.update!(VAE_opt, ps1, gs1)\n",
    "        Flux.update!(cphdnn_opt, ps2, gs2)\n",
    "        if i % 100 == 0 || i == 1\n",
    "            println(\"$i TRAIN - VAE-loss-avg: $VAE_loss\\tVAE-cor: $VAE_cor CPH-loss: $CPH_loss CPH-cind: $(round(cind_tr,digits=3))\")\n",
    "            println(\"$i TEST - VAE-loss-avg: $VAE_test \\tVAE-cor: CPH-loss: CPH-cind: $(round(cind_test,digits=3)) [$(Int(cdnt_tst)), $(Int(ddnt_tst)), $(Int(tied_tst))]\")\n",
    "\n",
    "        end\n",
    "    end\n",
    "    return cphdnn\n",
    "end "
   ]
  },
  {
   "cell_type": "code",
   "execution_count": null,
   "metadata": {},
   "outputs": [],
   "source": [
    "cdnn = validate_vaecox(DATA, params_dict)"
   ]
  },
  {
   "cell_type": "code",
   "execution_count": null,
   "metadata": {},
   "outputs": [],
   "source": [
    "cdnn(DATA.data[])"
   ]
  },
  {
   "cell_type": "code",
   "execution_count": 96,
   "metadata": {},
   "outputs": [
    {
     "name": "stdout",
     "output_type": "stream",
     "text": [
      "nb genes : 14996\n",
      "nb patients : 300\n",
      "% uncensored : 0.7433333333333333\n"
     ]
    },
    {
     "name": "stdout",
     "output_type": "stream",
     "text": [
      "FOLD 1\t TRAIN AE-loss 0.994 \t AE-cor: 0.008\t cph-loss-avg: 0.020545 \t cph-cind: 0.611\n",
      "\t\tTEST AE-loss 0.991 \t AE-cor: 0.006\t cph-loss-avg: 0.058383 \t cph-cind: 0.515 [836, 788, 0]\n"
     ]
    },
    {
     "name": "stdout",
     "output_type": "stream",
     "text": [
      "FOLD 100\t TRAIN AE-loss 0.972 \t AE-cor: 0.004\t cph-loss-avg: 0.019126 \t cph-cind: 0.827\n",
      "\t\tTEST AE-loss 0.97 \t AE-cor: 0.002\t cph-loss-avg: 0.0563 \t cph-cind: 0.657 [1067, 557, 0]\n"
     ]
    },
    {
     "name": "stdout",
     "output_type": "stream",
     "text": [
      "FOLD 200\t TRAIN AE-loss 0.969 \t AE-cor: 0.004\t cph-loss-avg: 0.018949 \t cph-cind: 0.863\n",
      "\t\tTEST AE-loss 0.967 \t AE-cor: 0.002\t cph-loss-avg: 0.056367 \t cph-cind: 0.646 [1049, 575, 0]\n"
     ]
    },
    {
     "name": "stdout",
     "output_type": "stream",
     "text": [
      "FOLD 300\t TRAIN AE-loss 0.966 \t AE-cor: 0.004\t cph-loss-avg: 0.018913 \t cph-cind: 0.875\n",
      "\t\tTEST AE-loss 0.965 \t AE-cor: 0.002\t cph-loss-avg: 0.0564 \t cph-cind: 0.643 [1045, 579, 0]\n"
     ]
    },
    {
     "name": "stdout",
     "output_type": "stream",
     "text": [
      "FOLD 400\t TRAIN AE-loss 0.964 \t AE-cor: 0.004\t cph-loss-avg: 0.018904 \t cph-cind: 0.881\n",
      "\t\tTEST AE-loss 0.963 \t AE-cor: 0.002\t cph-loss-avg: 0.056483 \t cph-cind: 0.638 [1036, 588, 0]\n"
     ]
    },
    {
     "name": "stdout",
     "output_type": "stream",
     "text": [
      "FOLD 500\t TRAIN AE-loss 0.963 \t AE-cor: 0.005\t cph-loss-avg: 0.018899 \t cph-cind: 0.883\n",
      "\t\tTEST AE-loss 0.962 \t AE-cor: 0.003\t cph-loss-avg: 0.05645 \t cph-cind: 0.638 [1036, 588, 0]\n"
     ]
    },
    {
     "name": "stdout",
     "output_type": "stream",
     "text": [
      "FOLD 600\t TRAIN AE-loss 0.962 \t AE-cor: 0.005\t cph-loss-avg: 0.018898 \t cph-cind: 0.884\n",
      "\t\tTEST AE-loss 0.961 \t AE-cor: 0.003\t cph-loss-avg: 0.056433 \t cph-cind: 0.639 [1037, 587, 0]\n"
     ]
    },
    {
     "name": "stdout",
     "output_type": "stream",
     "text": [
      "FOLD 700\t TRAIN AE-loss 0.962 \t AE-cor: 0.005\t cph-loss-avg: 0.018897 \t cph-cind: 0.886\n",
      "\t\tTEST AE-loss 0.96 \t AE-cor: 0.004\t cph-loss-avg: 0.056417 \t cph-cind: 0.638 [1036, 588, 0]\n"
     ]
    },
    {
     "name": "stdout",
     "output_type": "stream",
     "text": [
      "FOLD 800\t TRAIN AE-loss 0.962 \t AE-cor: 0.005\t cph-loss-avg: 0.018899 \t cph-cind: 0.887\n",
      "\t\tTEST AE-loss 0.96 \t AE-cor: 0.004\t cph-loss-avg: 0.056417 \t cph-cind: 0.641 [1041, 583, 0]\n"
     ]
    },
    {
     "name": "stdout",
     "output_type": "stream",
     "text": [
      "FOLD 900\t TRAIN AE-loss 0.961 \t AE-cor: 0.005\t cph-loss-avg: 0.018896 \t cph-cind: 0.889\n",
      "\t\tTEST AE-loss 0.96 \t AE-cor: 0.004\t cph-loss-avg: 0.0564 \t cph-cind: 0.64 [1039, 585, 0]\n"
     ]
    },
    {
     "name": "stdout",
     "output_type": "stream",
     "text": [
      "FOLD 1000\t TRAIN AE-loss 0.961 \t AE-cor: 0.005\t cph-loss-avg: 0.018893 \t cph-cind: 0.892\n",
      "\t\tTEST AE-loss 0.96 \t AE-cor: 0.004\t cph-loss-avg: 0.0564 \t cph-cind: 0.64 [1040, 584, 0]\n"
     ]
    }
   ],
   "source": [
    "train_x, train_y_t, train_y_e, NE_frac_tr, test_x, test_y_t, test_y_e, NE_frac_tst, params_dict = data_prep(LAML)\n",
    "# create model \n",
    "model = build_aecox(params_dict)\n",
    "for iter in 1:params_dict[\"nepochs\"]\n",
    "    ps1 = Flux.params(model[\"cph\"].model, model[\"enc\"])\n",
    "    gs1 = gradient(ps1) do\n",
    "        model[\"cph\"].lossf(model[\"cph\"],model[\"enc\"], train_x, train_y_e, NE_frac_tr, params_dict[\"cph_wd\"])\n",
    "    end \n",
    "    ## gradient Auto-Encoder \n",
    "    ps2 = Flux.params(model[\"ae\"].net)\n",
    "    gs2 = gradient(ps2) do\n",
    "        model[\"ae\"].lossf(model[\"ae\"], train_x, train_x, weight_decay = params_dict[\"ae_wd\"])\n",
    "    end\n",
    "    Flux.update!(model[\"cph\"].opt, ps1, gs1)\n",
    "    #Flux.update!(model[\"ae\"].opt, ps2, gs2)\n",
    "\n",
    "    ######\n",
    "    OUTS_tr = vec(model[\"cph\"].model(model[\"enc\"](train_x)))\n",
    "    ae_loss = model[\"ae\"].lossf(model[\"ae\"], train_x, train_x, weight_decay = params_dict[\"ae_wd\"])\n",
    "    ae_cor =  round(my_cor(vec(train_x), vec(model[\"ae\"].net(train_x))),digits = 3)\n",
    "    cph_loss = model[\"cph\"].lossf(model[\"cph\"],model[\"enc\"](train_x), train_y_e, NE_frac_tr, params_dict[\"cph_wd\"])\n",
    "    ae_loss_test = round(model[\"ae\"].lossf(model[\"ae\"], test_x, test_x, weight_decay = params_dict[\"ae_wd\"]), digits = 3)\n",
    "    ae_cor_test = round(my_cor(vec(test_x), vec(model[\"ae\"].net(test_x))), digits= 3)\n",
    "    cph_loss_test = round(model[\"cph\"].lossf(model[\"cph\"],model[\"enc\"](test_x), test_y_e, NE_frac_tst, params_dict[\"cph_wd\"]), digits= 3)\n",
    "                    \n",
    "    OUTS_tst =  vec(model[\"cph\"].model(model[\"enc\"](test_x)))\n",
    "            \n",
    "    cind_tr, cdnt_tr, ddnt_tr, tied_tr  = concordance_index(train_y_t, train_y_e, OUTS_tr)\n",
    "    cind_test,cdnt_tst, ddnt_tst, tied_tst = concordance_index(test_y_t, test_y_e,OUTS_tst)\n",
    "    if iter % 100 == 0  || iter == 1     \n",
    "        println(\"FOLD $iter\\t TRAIN AE-loss $(round(ae_loss,digits =3)) \\t AE-cor: $(round(ae_cor, digits = 3))\\t cph-loss-avg: $(round(cph_loss / params_dict[\"nsamples_train\"],digits =6)) \\t cph-cind: $(round(cind_tr,digits =3))\")\n",
    "        println(\"\\t\\tTEST AE-loss $(round(ae_loss_test,digits =3)) \\t AE-cor: $(round(ae_cor_test, digits = 3))\\t cph-loss-avg: $(round(cph_loss_test / params_dict[\"nsamples_test\"],digits =6)) \\t cph-cind: $(round(cind_test,digits =3)) [$(Int(cdnt_tst)), $(Int(ddnt_tst)), $(Int(tied_tst))]\")\n",
    "    end\n",
    "    params_dict[\"cph_tst_c_ind\"] = concordance_index(test_y_t, test_y_e, OUTS_tst)[1]\n",
    "    params_dict[\"cph_train_c_ind\"] = concordance_index(train_y_t, train_y_e, OUTS_tr)[1]\n",
    "    params_dict[\"step\"] = iter \n",
    "end\n"
   ]
  },
  {
   "cell_type": "code",
   "execution_count": 140,
   "metadata": {},
   "outputs": [
    {
     "data": {
      "text/plain": [
       "AE_model(Chain(Dense(14996 => 3040, leakyrelu), Dense(3040 => 616, leakyrelu), Dense(616 => 125), Dense(125 => 616, leakyrelu), Dense(616 => 3040, leakyrelu), Dense(3040 => 14996, leakyrelu)), Chain(Dense(14996 => 3040, leakyrelu), Dense(3040 => 616, leakyrelu), Dense(616 => 125)), Chain(Dense(125 => 616, leakyrelu), Dense(616 => 3040, leakyrelu), Dense(3040 => 14996, leakyrelu)), Dense(3040 => 14996, leakyrelu), Adam(1.0e-6, (0.9, 0.999), 1.0e-8, IdDict{Any, Any}()), mse_l2)"
      ]
     },
     "metadata": {},
     "output_type": "display_data"
    }
   ],
   "source": [
    "model = build_aecox(params_dict)\n",
    "model[\"ae\"]"
   ]
  },
  {
   "cell_type": "code",
   "execution_count": 99,
   "metadata": {},
   "outputs": [],
   "source": [
    "#params_dict[\"cph_tst_c_ind\"] = concordance_index(test_y_t, test_y_e, OUTS_tst)[1]\n",
    "#params_dict[\"cph_train_c_ind\"] = concordance_index(train_y_t, train_y_e, OUTS_tr)[1]\n",
    "#params_dict[\"ae_tst_corr\"] = my_cor(ae_outs_test, x_test)\n",
    "#params_dict[\"ae_train_corr\"] = my_cor(ae_outs_train, x_train)\n",
    "\n",
    "#params_dict[\"model_cv_complete\"] = true\n",
    "model_params_path = \"$(params_dict[\"session_id\"])/$(params_dict[\"model_type\"])_$(params_dict[\"modelid\"])\"\n",
    "mkdir(\"RES/$model_params_path\")\n",
    "bson(\"RES/$model_params_path/params.bson\",params_dict)"
   ]
  },
  {
   "cell_type": "code",
   "execution_count": null,
   "metadata": {},
   "outputs": [],
   "source": []
  },
  {
   "cell_type": "markdown",
   "metadata": {},
   "source": [
    "### Figures  "
   ]
  },
  {
   "cell_type": "code",
   "execution_count": 11,
   "metadata": {},
   "outputs": [],
   "source": [
    "function gather_params(basedir=\".\")\n",
    "    df = DataFrame()\n",
    "    for (root, dirs, files) in walkdir(basedir)\n",
    "        for file in files\n",
    "            if file == \"params.bson\"\n",
    "                # println(\"Loading $root/$file\")\n",
    "                d = BSON.load(\"$root/$file\")\n",
    "                push!(df, d, cols=:union)\n",
    "            end\n",
    "        end\n",
    "    end\n",
    "    return df\n",
    "end\n",
    "\n",
    "df = gather_params(\"RES/\");\n"
   ]
  },
  {
   "cell_type": "code",
   "execution_count": 12,
   "metadata": {},
   "outputs": [
    {
     "data": {
      "image/png": "[encoded data removed]"
     },
     "metadata": {},
     "output_type": "display_data"
    }
   ],
   "source": [
    "sorted_df = sort(df, :model_type)\n",
    "sorted_df = leftjoin(sorted_df, DataFrame(:id =>collect(1:length(unique(sorted_df.model_type))), :model_type =>unique(sorted_df.model_type)), on = :model_type)\n",
    "\n",
    "fig = Figure(resolution = (1024,512));\n",
    "ax = Axis(fig[1,1],\n",
    "    ylabel = \"Concordance index\", \n",
    "    xlabel = \"Version of CPHDNN\",\n",
    "    limits = (nothing, nothing, 0.5, 1),\n",
    "    xticks = (collect(1:length(unique(sorted_df.model_type))), unique(sorted_df.model_type)))#(log2.(unique(V1[:, \"dim_redux\"])), [\"$x\" for x in unique(V1_2[:, \"dim_redux\"])] ));\n",
    "boxplot!(ax, sorted_df.id, sorted_df[:,\"cph_train_c_ind\"], label = \"train\")\n",
    "boxplot!(ax, sorted_df.id, sorted_df[:,\"cph_tst_c_ind\"], label = \"test\")\n",
    "medians = combine(groupby(sorted_df[:,[\"id\", \"cph_tst_c_ind\"]], :id), :cph_tst_c_ind=>median) \n",
    "text!(ax, medians.id, medians.cph_tst_c_ind_median, text= string.(round.(medians.cph_tst_c_ind_median, digits = 3)))\n",
    "#scatter!(ax, , V1[:,\"cph_tst_c_ind\"], label = \"test\")\n",
    "axislegend(ax,position =:rb)\n",
    "fig"
   ]
  },
  {
   "cell_type": "code",
   "execution_count": 10,
   "metadata": {},
   "outputs": [
    {
     "data": {
      "text/plain": [
       "7-element Vector{String}:\n",
       " \"0.601\"\n",
       " \"0.682\"\n",
       " \"0.675\"\n",
       " \"0.66\"\n",
       " \"0.68\"\n",
       " \"0.654\"\n",
       " \"0.639\""
      ]
     },
     "metadata": {},
     "output_type": "display_data"
    }
   ],
   "source": [
    "medians = combine(groupby(sorted_df[:,[\"id\", \"cph_tst_c_ind\"]], :id), :cph_tst_c_ind=>median) \n",
    "string.(round.(medians.cph_tst_c_ind_median, digits = 3))"
   ]
  },
  {
   "cell_type": "code",
   "execution_count": 13,
   "metadata": {},
   "outputs": [
    {
     "data": {
      "text/html": [
       "<div class=\"data-frame\"><p>9 rows × 3 columns</p><table class=\"data-frame\"><thead><tr><th></th><th>cph_tst_c_ind</th><th>cph_train_c_ind</th><th>nepochs</th></tr><tr><th></th><th title=\"Float64\">Float64</th><th title=\"Float64\">Float64</th><th title=\"Int64\">Int64</th></tr></thead><tbody><tr><th>1</th><td>0.626433</td><td>0.681031</td><td>10000</td></tr><tr><th>2</th><td>0.655708</td><td>0.683796</td><td>10000</td></tr><tr><th>3</th><td>0.759417</td><td>0.682145</td><td>10000</td></tr><tr><th>4</th><td>0.638272</td><td>0.673524</td><td>10000</td></tr><tr><th>5</th><td>0.640297</td><td>0.676376</td><td>10000</td></tr><tr><th>6</th><td>0.637953</td><td>0.707968</td><td>10000</td></tr><tr><th>7</th><td>0.641264</td><td>0.697545</td><td>10000</td></tr><tr><th>8</th><td>0.6095</td><td>0.709703</td><td>10000</td></tr><tr><th>9</th><td>0.554314</td><td>0.680343</td><td>10000</td></tr></tbody></table></div>"
      ],
      "text/latex": [
       "\\begin{tabular}{r|ccc}\n",
       "\t& cph\\_tst\\_c\\_ind & cph\\_train\\_c\\_ind & nepochs\\\\\n",
       "\t\\hline\n",
       "\t& Float64 & Float64 & Int64\\\\\n",
       "\t\\hline\n",
       "\t1 & 0.626433 & 0.681031 & 10000 \\\\\n",
       "\t2 & 0.655708 & 0.683796 & 10000 \\\\\n",
       "\t3 & 0.759417 & 0.682145 & 10000 \\\\\n",
       "\t4 & 0.638272 & 0.673524 & 10000 \\\\\n",
       "\t5 & 0.640297 & 0.676376 & 10000 \\\\\n",
       "\t6 & 0.637953 & 0.707968 & 10000 \\\\\n",
       "\t7 & 0.641264 & 0.697545 & 10000 \\\\\n",
       "\t8 & 0.6095 & 0.709703 & 10000 \\\\\n",
       "\t9 & 0.554314 & 0.680343 & 10000 \\\\\n",
       "\\end{tabular}\n"
      ],
      "text/plain": [
       "\u001b[1m9×3 DataFrame\u001b[0m\n",
       "\u001b[1m Row \u001b[0m│\u001b[1m cph_tst_c_ind \u001b[0m\u001b[1m cph_train_c_ind \u001b[0m\u001b[1m nepochs \u001b[0m\n",
       "\u001b[1m     \u001b[0m│\u001b[90m Float64       \u001b[0m\u001b[90m Float64         \u001b[0m\u001b[90m Int64   \u001b[0m\n",
       "─────┼─────────────────────────────────────────\n",
       "   1 │      0.626433         0.681031    10000\n",
       "   2 │      0.655708         0.683796    10000\n",
       "   3 │      0.759417         0.682145    10000\n",
       "   4 │      0.638272         0.673524    10000\n",
       "   5 │      0.640297         0.676376    10000\n",
       "   6 │      0.637953         0.707968    10000\n",
       "   7 │      0.641264         0.697545    10000\n",
       "   8 │      0.6095           0.709703    10000\n",
       "   9 │      0.554314         0.680343    10000"
      ]
     },
     "metadata": {},
     "output_type": "display_data"
    }
   ],
   "source": [
    "median(df[df.model_type .== \"vaecox_v3\",\"cph_tst_c_ind\"])\n",
    "sorted_df[sorted_df.model_type .== \"vaecox_v3\",[\"cph_tst_c_ind\", \"cph_train_c_ind\", \"nepochs\"]]"
   ]
  },
  {
   "cell_type": "code",
   "execution_count": 322,
   "metadata": {},
   "outputs": [
    {
     "data": {
      "text/html": [
       "<div class=\"data-frame\"><p>6 rows × 2 columns</p><table class=\"data-frame\"><thead><tr><th></th><th>id</th><th>cph_tst_c_ind_mean</th></tr><tr><th></th><th title=\"Union{Missing, Int64}\">Int64?</th><th title=\"Float64\">Float64</th></tr></thead><tbody><tr><th>1</th><td>1</td><td>0.595233</td></tr><tr><th>2</th><td>2</td><td>0.669938</td></tr><tr><th>3</th><td>3</td><td>0.678311</td></tr><tr><th>4</th><td>4</td><td>0.656278</td></tr><tr><th>5</th><td>5</td><td>0.678584</td></tr><tr><th>6</th><td>6</td><td>0.650901</td></tr></tbody></table></div>"
      ],
      "text/latex": [
       "\\begin{tabular}{r|cc}\n",
       "\t& id & cph\\_tst\\_c\\_ind\\_mean\\\\\n",
       "\t\\hline\n",
       "\t& Int64? & Float64\\\\\n",
       "\t\\hline\n",
       "\t1 & 1 & 0.595233 \\\\\n",
       "\t2 & 2 & 0.669938 \\\\\n",
       "\t3 & 3 & 0.678311 \\\\\n",
       "\t4 & 4 & 0.656278 \\\\\n",
       "\t5 & 5 & 0.678584 \\\\\n",
       "\t6 & 6 & 0.650901 \\\\\n",
       "\\end{tabular}\n"
      ],
      "text/plain": [
       "\u001b[1m6×2 DataFrame\u001b[0m\n",
       "\u001b[1m Row \u001b[0m│\u001b[1m id     \u001b[0m\u001b[1m cph_tst_c_ind_mean \u001b[0m\n",
       "\u001b[1m     \u001b[0m│\u001b[90m Int64? \u001b[0m\u001b[90m Float64            \u001b[0m\n",
       "─────┼────────────────────────────\n",
       "   1 │      1            0.595233\n",
       "   2 │      2            0.669938\n",
       "   3 │      3            0.678311\n",
       "   4 │      4            0.656278\n",
       "   5 │      5            0.678584\n",
       "   6 │      6            0.650901"
      ]
     },
     "metadata": {},
     "output_type": "display_data"
    }
   ],
   "source": [
    "means = combine(groupby(sorted_df[:,[\"id\", \"cph_tst_c_ind\"]], :id), :cph_tst_c_ind=>mean) "
   ]
  },
  {
   "cell_type": "code",
   "execution_count": 324,
   "metadata": {},
   "outputs": [
    {
     "data": {
      "text/plain": [
       "6-element Vector{Union{Missing, Int64}}:\n",
       " 1\n",
       " 2\n",
       " 3\n",
       " 4\n",
       " 5\n",
       " 6"
      ]
     },
     "metadata": {},
     "output_type": "display_data"
    }
   ],
   "source": [
    "means.id"
   ]
  },
  {
   "cell_type": "code",
   "execution_count": null,
   "metadata": {},
   "outputs": [],
   "source": []
  }
 ],
 "metadata": {
  "kernelspec": {
   "display_name": "Julia 1.9.4",
   "language": "julia",
   "name": "julia-1.9"
  },
  "language_info": {
   "file_extension": ".jl",
   "mimetype": "application/julia",
   "name": "julia",
   "version": "1.9.4"
  }
 },
 "nbformat": 4,
 "nbformat_minor": 2
}
