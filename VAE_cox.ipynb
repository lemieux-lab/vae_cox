{
 "cells": [
  {
   "cell_type": "markdown",
   "metadata": {},
   "source": [
    "# ISMB figures notebook"
   ]
  },
  {
   "cell_type": "code",
   "execution_count": null,
   "metadata": {},
   "outputs": [],
   "source": [
    "include(\"engines/init.jl\")\n",
    "include(\"engines/data_processing.jl\")\n",
    "include(\"engines/deep_learning.jl\")\n",
    "include(\"engines/cross_validation.jl\")\n",
    "outpath, session_id = set_dirs() ;"
   ]
  },
  {
   "cell_type": "code",
   "execution_count": null,
   "metadata": {},
   "outputs": [],
   "source": [
    "BRCA = MLSurvDataset(\"Data/TCGA_BRCA_tpm_n1049_btypes_labels_surv.h5\")"
   ]
  },
  {
   "cell_type": "code",
   "execution_count": null,
   "metadata": {},
   "outputs": [],
   "source": [
    "LAML = MLSurvDataset(\"Data/LGN_AML_tpm_n300_btypes_labels_surv.h5\") "
   ]
  },
  {
   "cell_type": "code",
   "execution_count": null,
   "metadata": {},
   "outputs": [],
   "source": [
    "BRCA_pcoding = BRCA.biotypes .== \"protein_coding\"\n",
    "println(sum(BRCA_pcoding))\n",
    "println(size(BRCA.samples)[1])\n",
    "println(mean(BRCA.surve .!= 0))\n"
   ]
  },
  {
   "cell_type": "code",
   "execution_count": null,
   "metadata": {},
   "outputs": [],
   "source": [
    "pcoding = [occursin(\"protein_coding\", bt) for bt in LAML.biotypes]\n",
    "println(size(LAML.genes[pcoding])[1])\n",
    "println(mean(LAML.surve .!= 0))"
   ]
  },
  {
   "cell_type": "code",
   "execution_count": null,
   "metadata": {},
   "outputs": [],
   "source": [
    "# testing VAE-Cox\n",
    "# set hyper parameters \n",
    "DATA = BRCA\n",
    "keep = BRCA_pcoding\n",
    "# split train test\n",
    "folds = split_train_test(Matrix(DATA.data[:,keep]), DATA.survt, DATA.surve, DATA.samples;nfolds =5)\n"
   ]
  },
  {
   "cell_type": "code",
   "execution_count": null,
   "metadata": {},
   "outputs": [],
   "source": [
    "device!()"
   ]
  },
  {
   "cell_type": "code",
   "execution_count": null,
   "metadata": {},
   "outputs": [],
   "source": [
    "# testing VAE-Cox\n",
    "# set hyper parameters \n",
    "DATA,nfolds, nepochs, dim_redux = LAML, 5, 100, 125\n",
    "keep = [occursin(\"protein_coding\", bt) for bt in DATA.biotypes]\n",
    "println(sum(keep))\n",
    "println(size(DATA.samples)[1])\n",
    "println(mean(DATA.surve .!= 0))\n",
    "params_dict = Dict(\n",
    "        ## run infos \n",
    "        \"session_id\" => session_id, \"nfolds\" =>5,  \"modelid\" => \"$(bytes2hex(sha256(\"$(now())\"))[1:Int(floor(end/3))])\",\n",
    "        \"machine_id\"=>strip(read(`hostname`, String)), \"device\" => \"$(device())\", \"model_title\"=>\"AECPHDNN\",\n",
    "        ## data infos \n",
    "        \"dataset\" => \"BRCA_data(norm=true)\", \"nsamples\" => size(DATA.samples)[1],\n",
    "        \"nsamples_test\" => Int(round(size(DATA.samples)[1] / nfolds)), \"ngenes\" => size(DATA.genes[keep])[1],\n",
    "        \"nsamples_train\" => size(DATA.samples)[1] - Int(round(size(DATA.samples)[1] / nfolds)),\n",
    "        ## optim infos \n",
    "        \"nepochs\" => nepochs, \"ae_lr\" =>1e-5, \"cph_lr\" => 1e-5, \"ae_wd\" => 1e-6, \"cph_wd\" => 1e-6,\n",
    "        ## model infos\n",
    "        \"model_type\"=> \"aecphdnn\", \"dim_redux\" => dim_redux, \"ae_nb_hls\" => 2, \"ae_hl_size\"=> 128,\n",
    "        \"enc_nb_hl\" => 2, \"enc_hl_size\"=> 128,  \"dec_nb_hl\" => 2 , \"dec_hl_size\"=> 128,\n",
    "        \"nb_clinf\" => 0, \"cph_nb_hl\" => 2, \"cph_hl_size\" => 64, \n",
    "        \"insize\" => size(DATA.genes[keep])[1],\n",
    "        ## metrics\n",
    "        \"model_cv_complete\" => false\n",
    "    )\n",
    "# split train test\n",
    "folds = split_train_test(Matrix(DATA.data[:,keep]), DATA.survt, DATA.surve, DATA.samples;nfolds =5)\n",
    "fold = folds[1]\n",
    "# format input data  \n",
    "train_x, train_y_t, train_y_e, NE_frac_tr, test_x, test_y_t, test_y_e, NE_frac_tst = format_train_test(fold)\n",
    "# create model \n",
    "model = build_vaecox(params_dict)\n",
    "# train model \n",
    "## gradient CPH            \n",
    "\n",
    "# report learning curves\n",
    "# test model\n",
    "# report c-index"
   ]
  },
  {
   "cell_type": "code",
   "execution_count": null,
   "metadata": {},
   "outputs": [],
   "source": [
    "for iter in 1:nepochs\n",
    "    ps1 = Flux.params(model[\"cph\"].model, model[\"enc\"])\n",
    "    gs1 = gradient(ps1) do\n",
    "        model[\"cph\"].lossf(model[\"cph\"],model[\"enc\"], train_x, train_y_e, NE_frac_tr, params_dict[\"cph_wd\"])\n",
    "    end \n",
    "    ## gradient Auto-Encoder \n",
    "    ps2 = Flux.params(model[\"ae\"].net)\n",
    "    gs2 = gradient(ps2) do\n",
    "        model[\"ae\"].lossf(model[\"ae\"], train_x, train_x, weight_decay = params_dict[\"ae_wd\"])\n",
    "    end\n",
    "    Flux.update!(model[\"cph\"].opt, ps1, gs1)\n",
    "    Flux.update!(model[\"ae\"].opt, ps2, gs2)\n",
    "\n",
    "    ######\n",
    "    OUTS_tr = vec(model[\"cph\"].model(model[\"enc\"](train_x)))\n",
    "    ae_loss = model[\"ae\"].lossf(model[\"ae\"], train_x, train_x, weight_decay = params_dict[\"ae_wd\"])\n",
    "    ae_cor =  round(my_cor(vec(train_x), vec(model[\"ae\"].net(train_x))),digits = 3)\n",
    "    cph_loss = model[\"cph\"].lossf(model[\"cph\"],model[\"enc\"](train_x), train_y_e, NE_frac_tr, params_dict[\"cph_wd\"])\n",
    "    ae_loss_test = round(model[\"ae\"].lossf(model[\"ae\"], test_x, test_x, weight_decay = params_dict[\"ae_wd\"]), digits = 3)\n",
    "    ae_cor_test = round(my_cor(vec(test_x), vec(model[\"ae\"].net(test_x))), digits= 3)\n",
    "    cph_loss_test = round(model[\"cph\"].lossf(model[\"cph\"],model[\"enc\"](test_x), test_y_e, NE_frac_tst, params_dict[\"cph_wd\"]), digits= 3)\n",
    "                    \n",
    "    OUTS_tst =  vec(model[\"cph\"].model(model[\"enc\"](test_x)))\n",
    "            \n",
    "    cind_tr, cdnt_tr, ddnt_tr, tied_tr  = concordance_index(train_y_t, train_y_e, OUTS_tr)\n",
    "    cind_test,cdnt_tst, ddnt_tst, tied_tst = concordance_index(test_y_t, test_y_e,OUTS_tst)\n",
    "    if iter % 10 == 0       \n",
    "        println(\"FOLD $(fold[\"foldn\"]) $iter\\t TRAIN AE-loss $(round(ae_loss,digits =3)) \\t AE-cor: $(round(ae_cor, digits = 3))\\t cph-loss-avg: $(round(cph_loss / params_dict[\"nsamples_train\"],digits =6)) \\t cph-cind: $(round(cind_tr,digits =3))\")\n",
    "        println(\"\\t\\tTEST AE-loss $(round(ae_loss_test,digits =3)) \\t AE-cor: $(round(ae_cor_test, digits = 3))\\t cph-loss-avg: $(round(cph_loss_test / params_dict[\"nsamples_test\"],digits =6)) \\t cph-cind: $(round(cind_test,digits =3)) [$(Int(cdnt_tst)), $(Int(ddnt_tst)), $(Int(tied_tst))]\")\n",
    "    end\n",
    "end "
   ]
  },
  {
   "cell_type": "code",
   "execution_count": 102,
   "metadata": {},
   "outputs": [
    {
     "data": {
      "text/plain": [
       "MyReconstruct (generic function with 1 method)"
      ]
     },
     "metadata": {},
     "output_type": "display_data"
    }
   ],
   "source": [
    "\n",
    "struct VariationalEncoder\n",
    "    linear\n",
    "    mu\n",
    "    log_sigma\n",
    "end\n",
    "    \n",
    "function VariationalEncoder(input_dim::Int, latent_dim::Int, hidden_dim::Int;device = gpu) \n",
    "    return Encoder(\n",
    "    device(Dense(input_dim, hidden_dim, leakyrelu)),   # linear\n",
    "    device(Dense(hidden_dim, latent_dim)),        # mu\n",
    "    device(Dense(hidden_dim, latent_dim)))        # log sigma\n",
    "end \n",
    "\n",
    "function (encoder::VariationalEncoder)(x)\n",
    "    h = encoder.linear(x)\n",
    "    encoder.mu(h), encoder.log_sigma(h)\n",
    "end\n",
    "Decoder(input_dim::Int, latent_dim::Int, hidden_dim::Int;device = gpu) = Chain(\n",
    "    device(Dense(latent_dim, hidden_dim, leakyrelu)),\n",
    "    device(Dense(hidden_dim, input_dim))\n",
    ")\n",
    "function MyReconstruct(encoder, decoder, x;device=gpu)\n",
    "    mu, log_sigma = encoder(x)\n",
    "    z = mu + device(randn(Float32, size(log_sigma))) .* exp.(log_sigma)\n",
    "    mu, log_sigma, decoder(z)\n",
    "end"
   ]
  },
  {
   "cell_type": "code",
   "execution_count": 111,
   "metadata": {},
   "outputs": [
    {
     "data": {
      "text/plain": [
       "VAE_lossf (generic function with 1 method)"
      ]
     },
     "metadata": {},
     "output_type": "display_data"
    }
   ],
   "source": [
    "# KL-divergence\n",
    "function VAE_lossf(venc, vdec, X)\n",
    "    mu, log_sigma, decoder_z = MyReconstruct(venc, vdec, X);\n",
    "    nb_samples = size(X)[2]\n",
    "    kl = 0.5f0 * sum(@. exp(log_sigma * 2f0) + mu ^ 2 - 1f0 - 2 * log_sigma) / nb_samples;\n",
    "    mse = Flux.mse(X, decoder_z,agg=sum) / nb_samples\n",
    "    return kl + mse \n",
    "end "
   ]
  },
  {
   "cell_type": "code",
   "execution_count": 121,
   "metadata": {},
   "outputs": [
    {
     "data": {
      "text/plain": [
       "Adam(0.0001, (0.9, 0.999), 1.0e-8, IdDict{Any, Any}())"
      ]
     },
     "metadata": {},
     "output_type": "display_data"
    }
   ],
   "source": [
    "\n",
    "venc = VariationalEncoder(size(DATA.data[:,keep])[2], 125, 600)\n",
    "vdec = Decoder(size(DATA.data[:,keep])[2], 125, 600)\n",
    "opt = Flux.ADAM(1e-4)\n"
   ]
  },
  {
   "cell_type": "code",
   "execution_count": 122,
   "metadata": {},
   "outputs": [
    {
     "name": "stdout",
     "output_type": "stream",
     "text": [
      "TRAIN - VAE-loss-avg: 3522.0117\tVAE-cor: 0.887 \tTEST - VAE-cor: 0.878\n"
     ]
    },
    {
     "name": "stdout",
     "output_type": "stream",
     "text": [
      "TRAIN - VAE-loss-avg: 2874.2417\tVAE-cor: 0.922 \tTEST - VAE-cor: 0.918\n"
     ]
    },
    {
     "name": "stdout",
     "output_type": "stream",
     "text": [
      "TRAIN - VAE-loss-avg: 2655.922\tVAE-cor: 0.935 \tTEST - VAE-cor: 0.938\n"
     ]
    },
    {
     "name": "stdout",
     "output_type": "stream",
     "text": [
      "TRAIN - VAE-loss-avg: 2509.874\tVAE-cor: 0.943 \tTEST - VAE-cor: 0.947\n"
     ]
    },
    {
     "name": "stdout",
     "output_type": "stream",
     "text": [
      "TRAIN - VAE-loss-avg: 2432.244\tVAE-cor: 0.949 \tTEST - VAE-cor: 0.951\n"
     ]
    },
    {
     "name": "stdout",
     "output_type": "stream",
     "text": [
      "TRAIN - VAE-loss-avg: 2373.6978\tVAE-cor: 0.953 \tTEST - VAE-cor: 0.954\n"
     ]
    },
    {
     "name": "stdout",
     "output_type": "stream",
     "text": [
      "TRAIN - VAE-loss-avg: 2309.1296\tVAE-cor: 0.955 \tTEST - VAE-cor: 0.957\n"
     ]
    },
    {
     "name": "stdout",
     "output_type": "stream",
     "text": [
      "TRAIN - VAE-loss-avg: 2277.393\tVAE-cor: 0.958 \tTEST - VAE-cor: 0.96\n"
     ]
    },
    {
     "name": "stdout",
     "output_type": "stream",
     "text": [
      "TRAIN - VAE-loss-avg: 2234.5557\tVAE-cor: 0.961 \tTEST - VAE-cor: 0.962\n"
     ]
    },
    {
     "name": "stdout",
     "output_type": "stream",
     "text": [
      "TRAIN - VAE-loss-avg: 2201.6514\tVAE-cor: 0.962 \tTEST - VAE-cor: 0.963\n"
     ]
    },
    {
     "name": "stdout",
     "output_type": "stream",
     "text": [
      "TRAIN - VAE-loss-avg: 2185.481\tVAE-cor: 0.964 \tTEST - VAE-cor: 0.965\n"
     ]
    },
    {
     "name": "stdout",
     "output_type": "stream",
     "text": [
      "TRAIN - VAE-loss-avg: 2158.3784\tVAE-cor: 0.965 \tTEST - VAE-cor: 0.967\n"
     ]
    },
    {
     "name": "stdout",
     "output_type": "stream",
     "text": [
      "TRAIN - VAE-loss-avg: 2137.4517\tVAE-cor: 0.968 \tTEST - VAE-cor: 0.968\n"
     ]
    },
    {
     "name": "stdout",
     "output_type": "stream",
     "text": [
      "TRAIN - VAE-loss-avg: 2123.0598\tVAE-cor: 0.968 \tTEST - VAE-cor: 0.968\n"
     ]
    },
    {
     "name": "stdout",
     "output_type": "stream",
     "text": [
      "TRAIN - VAE-loss-avg: 2106.874\tVAE-cor: 0.969 \tTEST - VAE-cor: 0.969\n"
     ]
    },
    {
     "name": "stdout",
     "output_type": "stream",
     "text": [
      "TRAIN - VAE-loss-avg: 2092.8774\tVAE-cor: 0.97 \tTEST - VAE-cor: 0.969\n"
     ]
    },
    {
     "name": "stdout",
     "output_type": "stream",
     "text": [
      "TRAIN - VAE-loss-avg: 2085.3708\tVAE-cor: 0.97 \tTEST - VAE-cor: 0.97\n"
     ]
    },
    {
     "name": "stdout",
     "output_type": "stream",
     "text": [
      "TRAIN - VAE-loss-avg: 2072.2346\tVAE-cor: 0.971 \tTEST - VAE-cor: 0.97\n"
     ]
    },
    {
     "name": "stdout",
     "output_type": "stream",
     "text": [
      "TRAIN - VAE-loss-avg: 2073.3389\tVAE-cor: 0.972 \tTEST - VAE-cor: 0.971\n"
     ]
    },
    {
     "name": "stdout",
     "output_type": "stream",
     "text": [
      "TRAIN - VAE-loss-avg: 2051.6719\tVAE-cor: 0.972 \tTEST - VAE-cor: 0.971\n"
     ]
    },
    {
     "name": "stdout",
     "output_type": "stream",
     "text": [
      "TRAIN - VAE-loss-avg: 2048.0503\tVAE-cor: 0.973 \tTEST - VAE-cor: 0.971\n"
     ]
    },
    {
     "name": "stdout",
     "output_type": "stream",
     "text": [
      "TRAIN - VAE-loss-avg: 2040.255\tVAE-cor: 0.973 \tTEST - VAE-cor: 0.972\n"
     ]
    },
    {
     "name": "stdout",
     "output_type": "stream",
     "text": [
      "TRAIN - VAE-loss-avg: 2036.3137\tVAE-cor: 0.973 \tTEST - VAE-cor: 0.972\n"
     ]
    },
    {
     "name": "stdout",
     "output_type": "stream",
     "text": [
      "TRAIN - VAE-loss-avg: 2023.928\tVAE-cor: 0.975 \tTEST - VAE-cor: 0.973\n"
     ]
    },
    {
     "name": "stdout",
     "output_type": "stream",
     "text": [
      "TRAIN - VAE-loss-avg: 2026.8007\tVAE-cor: 0.974 \tTEST - VAE-cor: 0.972\n"
     ]
    },
    {
     "name": "stdout",
     "output_type": "stream",
     "text": [
      "TRAIN - VAE-loss-avg: 2014.8679\tVAE-cor: 0.975 \tTEST - VAE-cor: 0.973\n"
     ]
    },
    {
     "name": "stdout",
     "output_type": "stream",
     "text": [
      "TRAIN - VAE-loss-avg: 2005.923\tVAE-cor: 0.975 \tTEST - VAE-cor: 0.973\n"
     ]
    },
    {
     "name": "stdout",
     "output_type": "stream",
     "text": [
      "TRAIN - VAE-loss-avg: 2008.8706\tVAE-cor: 0.975 \tTEST - VAE-cor: 0.973\n"
     ]
    },
    {
     "name": "stdout",
     "output_type": "stream",
     "text": [
      "TRAIN - VAE-loss-avg: 2002.4517\tVAE-cor: 0.976 \tTEST - VAE-cor: 0.973\n"
     ]
    },
    {
     "name": "stdout",
     "output_type": "stream",
     "text": [
      "TRAIN - VAE-loss-avg: 1995.9733\tVAE-cor: 0.976 \tTEST - VAE-cor: 0.974\n"
     ]
    },
    {
     "name": "stdout",
     "output_type": "stream",
     "text": [
      "TRAIN - VAE-loss-avg: 1995.9058\tVAE-cor: 0.976 \tTEST - VAE-cor: 0.974\n"
     ]
    },
    {
     "name": "stdout",
     "output_type": "stream",
     "text": [
      "TRAIN - VAE-loss-avg: 1994.1041\tVAE-cor: 0.976 \tTEST - VAE-cor: 0.974\n"
     ]
    },
    {
     "name": "stdout",
     "output_type": "stream",
     "text": [
      "TRAIN - VAE-loss-avg: 1992.3171\tVAE-cor: 0.976 \tTEST - VAE-cor: 0.974\n"
     ]
    },
    {
     "name": "stdout",
     "output_type": "stream",
     "text": [
      "TRAIN - VAE-loss-avg: 1993.1235\tVAE-cor: 0.976 \tTEST - VAE-cor: 0.974\n"
     ]
    },
    {
     "name": "stdout",
     "output_type": "stream",
     "text": [
      "TRAIN - VAE-loss-avg: 1986.3955\tVAE-cor: 0.976 \tTEST - VAE-cor: 0.974\n"
     ]
    },
    {
     "name": "stdout",
     "output_type": "stream",
     "text": [
      "TRAIN - VAE-loss-avg: 1984.8516\tVAE-cor: 0.977 \tTEST - VAE-cor: 0.974\n"
     ]
    },
    {
     "name": "stdout",
     "output_type": "stream",
     "text": [
      "TRAIN - VAE-loss-avg: 1986.441\tVAE-cor: 0.977 \tTEST - VAE-cor: 0.974\n"
     ]
    },
    {
     "name": "stdout",
     "output_type": "stream",
     "text": [
      "TRAIN - VAE-loss-avg: 1978.5842\tVAE-cor: 0.977 \tTEST - VAE-cor: 0.974\n"
     ]
    },
    {
     "name": "stdout",
     "output_type": "stream",
     "text": [
      "TRAIN - VAE-loss-avg: 1985.529\tVAE-cor: 0.977 \tTEST - VAE-cor: 0.973\n"
     ]
    },
    {
     "name": "stdout",
     "output_type": "stream",
     "text": [
      "TRAIN - VAE-loss-avg: 1979.0437\tVAE-cor: 0.977 \tTEST - VAE-cor: 0.975\n"
     ]
    },
    {
     "name": "stdout",
     "output_type": "stream",
     "text": [
      "TRAIN - VAE-loss-avg: 1980.7997\tVAE-cor: 0.977 \tTEST - VAE-cor: 0.974\n"
     ]
    },
    {
     "name": "stdout",
     "output_type": "stream",
     "text": [
      "TRAIN - VAE-loss-avg: 1978.622\tVAE-cor: 0.978 \tTEST - VAE-cor: 0.975\n"
     ]
    },
    {
     "name": "stdout",
     "output_type": "stream",
     "text": [
      "TRAIN - VAE-loss-avg: 1977.8146\tVAE-cor: 0.978 \tTEST - VAE-cor: 0.974\n"
     ]
    },
    {
     "name": "stdout",
     "output_type": "stream",
     "text": [
      "TRAIN - VAE-loss-avg: 1971.5024\tVAE-cor: 0.977 \tTEST - VAE-cor: 0.975\n"
     ]
    },
    {
     "name": "stdout",
     "output_type": "stream",
     "text": [
      "TRAIN - VAE-loss-avg: 1974.6846\tVAE-cor: 0.977 \tTEST - VAE-cor: 0.974\n"
     ]
    },
    {
     "name": "stdout",
     "output_type": "stream",
     "text": [
      "TRAIN - VAE-loss-avg: 1974.1614\tVAE-cor: 0.977 \tTEST - VAE-cor: 0.975\n"
     ]
    },
    {
     "name": "stdout",
     "output_type": "stream",
     "text": [
      "TRAIN - VAE-loss-avg: 1972.4421\tVAE-cor: 0.978 \tTEST - VAE-cor: 0.975\n"
     ]
    },
    {
     "name": "stdout",
     "output_type": "stream",
     "text": [
      "TRAIN - VAE-loss-avg: 1968.2688\tVAE-cor: 0.977 \tTEST - VAE-cor: 0.975\n"
     ]
    },
    {
     "name": "stdout",
     "output_type": "stream",
     "text": [
      "TRAIN - VAE-loss-avg: 1967.8777\tVAE-cor: 0.978 \tTEST - VAE-cor: 0.975\n"
     ]
    },
    {
     "name": "stdout",
     "output_type": "stream",
     "text": [
      "TRAIN - VAE-loss-avg: 1972.5979\tVAE-cor: 0.977 \tTEST - VAE-cor: 0.975\n"
     ]
    },
    {
     "name": "stdout",
     "output_type": "stream",
     "text": [
      "TRAIN - VAE-loss-avg: 1968.2457\tVAE-cor: 0.978 \tTEST - VAE-cor: 0.975\n"
     ]
    },
    {
     "name": "stdout",
     "output_type": "stream",
     "text": [
      "TRAIN - VAE-loss-avg: 1968.6609\tVAE-cor: 0.978 \tTEST - VAE-cor: 0.974\n"
     ]
    },
    {
     "name": "stdout",
     "output_type": "stream",
     "text": [
      "TRAIN - VAE-loss-avg: 1964.4517\tVAE-cor: 0.978 \tTEST - VAE-cor: 0.975\n"
     ]
    },
    {
     "name": "stdout",
     "output_type": "stream",
     "text": [
      "TRAIN - VAE-loss-avg: 1961.3691\tVAE-cor: 0.978 \tTEST - VAE-cor: 0.975\n"
     ]
    },
    {
     "name": "stdout",
     "output_type": "stream",
     "text": [
      "TRAIN - VAE-loss-avg: 1964.3784\tVAE-cor: 0.978 \tTEST - VAE-cor: 0.975\n"
     ]
    },
    {
     "name": "stdout",
     "output_type": "stream",
     "text": [
      "TRAIN - VAE-loss-avg: 1961.5537\tVAE-cor: 0.978 \tTEST - VAE-cor: 0.975\n"
     ]
    },
    {
     "name": "stdout",
     "output_type": "stream",
     "text": [
      "TRAIN - VAE-loss-avg: 1964.698\tVAE-cor: 0.978 \tTEST - VAE-cor: 0.975\n"
     ]
    },
    {
     "name": "stdout",
     "output_type": "stream",
     "text": [
      "TRAIN - VAE-loss-avg: 1966.4698\tVAE-cor: 0.978 \tTEST - VAE-cor: 0.975\n"
     ]
    },
    {
     "name": "stdout",
     "output_type": "stream",
     "text": [
      "TRAIN - VAE-loss-avg: 1964.3489\tVAE-cor: 0.978 \tTEST - VAE-cor: 0.975\n"
     ]
    },
    {
     "name": "stdout",
     "output_type": "stream",
     "text": [
      "TRAIN - VAE-loss-avg: 1959.436\tVAE-cor: 0.978 \tTEST - VAE-cor: 0.975\n"
     ]
    },
    {
     "name": "stdout",
     "output_type": "stream",
     "text": [
      "TRAIN - VAE-loss-avg: 1958.1172\tVAE-cor: 0.978 \tTEST - VAE-cor: 0.975\n"
     ]
    },
    {
     "name": "stdout",
     "output_type": "stream",
     "text": [
      "TRAIN - VAE-loss-avg: 1955.9873\tVAE-cor: 0.978 \tTEST - VAE-cor: 0.975\n"
     ]
    },
    {
     "name": "stdout",
     "output_type": "stream",
     "text": [
      "TRAIN - VAE-loss-avg: 1962.4176\tVAE-cor: 0.978 \tTEST - VAE-cor: 0.975\n"
     ]
    },
    {
     "name": "stdout",
     "output_type": "stream",
     "text": [
      "TRAIN - VAE-loss-avg: 1956.3342\tVAE-cor: 0.978 \tTEST - VAE-cor: 0.975\n"
     ]
    },
    {
     "name": "stdout",
     "output_type": "stream",
     "text": [
      "TRAIN - VAE-loss-avg: 1956.4895\tVAE-cor: 0.978 \tTEST - VAE-cor: 0.975\n"
     ]
    },
    {
     "name": "stdout",
     "output_type": "stream",
     "text": [
      "TRAIN - VAE-loss-avg: 1956.5356\tVAE-cor: 0.979 \tTEST - VAE-cor: 0.975\n"
     ]
    },
    {
     "name": "stdout",
     "output_type": "stream",
     "text": [
      "TRAIN - VAE-loss-avg: 1960.15\tVAE-cor: 0.979 \tTEST - VAE-cor: 0.975\n"
     ]
    },
    {
     "name": "stdout",
     "output_type": "stream",
     "text": [
      "TRAIN - VAE-loss-avg: 1955.7245\tVAE-cor: 0.979 \tTEST - VAE-cor: 0.975\n"
     ]
    },
    {
     "name": "stdout",
     "output_type": "stream",
     "text": [
      "TRAIN - VAE-loss-avg: 1959.3923\tVAE-cor: 0.979 \tTEST - VAE-cor: 0.975\n"
     ]
    },
    {
     "name": "stdout",
     "output_type": "stream",
     "text": [
      "TRAIN - VAE-loss-avg: 1949.9253\tVAE-cor: 0.979 \tTEST - VAE-cor: 0.975\n"
     ]
    },
    {
     "name": "stdout",
     "output_type": "stream",
     "text": [
      "TRAIN - VAE-loss-avg: 1957.6525\tVAE-cor: 0.979 \tTEST - VAE-cor: 0.976\n"
     ]
    },
    {
     "name": "stdout",
     "output_type": "stream",
     "text": [
      "TRAIN - VAE-loss-avg: 1948.9547\tVAE-cor: 0.979 \tTEST - VAE-cor: 0.975\n"
     ]
    },
    {
     "name": "stdout",
     "output_type": "stream",
     "text": [
      "TRAIN - VAE-loss-avg: 1946.9344\tVAE-cor: 0.979 \tTEST - VAE-cor: 0.975\n"
     ]
    },
    {
     "name": "stdout",
     "output_type": "stream",
     "text": [
      "TRAIN - VAE-loss-avg: 1949.4592\tVAE-cor: 0.979 \tTEST - VAE-cor: 0.975\n"
     ]
    },
    {
     "name": "stdout",
     "output_type": "stream",
     "text": [
      "TRAIN - VAE-loss-avg: 1946.5848\tVAE-cor: 0.979 \tTEST - VAE-cor: 0.976\n"
     ]
    },
    {
     "name": "stdout",
     "output_type": "stream",
     "text": [
      "TRAIN - VAE-loss-avg: 1944.8589\tVAE-cor: 0.979 \tTEST - VAE-cor: 0.975\n"
     ]
    },
    {
     "name": "stdout",
     "output_type": "stream",
     "text": [
      "TRAIN - VAE-loss-avg: 1945.2628\tVAE-cor: 0.979 \tTEST - VAE-cor: 0.975\n"
     ]
    },
    {
     "name": "stdout",
     "output_type": "stream",
     "text": [
      "TRAIN - VAE-loss-avg: 1944.3635\tVAE-cor: 0.979 \tTEST - VAE-cor: 0.975\n"
     ]
    },
    {
     "name": "stdout",
     "output_type": "stream",
     "text": [
      "TRAIN - VAE-loss-avg: 1948.185\tVAE-cor: 0.979 \tTEST - VAE-cor: 0.975\n"
     ]
    },
    {
     "name": "stdout",
     "output_type": "stream",
     "text": [
      "TRAIN - VAE-loss-avg: 1949.4038\tVAE-cor: 0.979 \tTEST - VAE-cor: 0.975\n"
     ]
    },
    {
     "name": "stdout",
     "output_type": "stream",
     "text": [
      "TRAIN - VAE-loss-avg: 1944.261\tVAE-cor: 0.979 \tTEST - VAE-cor: 0.975\n"
     ]
    },
    {
     "name": "stdout",
     "output_type": "stream",
     "text": [
      "TRAIN - VAE-loss-avg: 1936.4939\tVAE-cor: 0.979 \tTEST - VAE-cor: 0.975\n"
     ]
    },
    {
     "name": "stdout",
     "output_type": "stream",
     "text": [
      "TRAIN - VAE-loss-avg: 1942.6035\tVAE-cor: 0.979 \tTEST - VAE-cor: 0.975\n"
     ]
    },
    {
     "name": "stdout",
     "output_type": "stream",
     "text": [
      "TRAIN - VAE-loss-avg: 1939.3389\tVAE-cor: 0.979 \tTEST - VAE-cor: 0.975\n"
     ]
    },
    {
     "name": "stdout",
     "output_type": "stream",
     "text": [
      "TRAIN - VAE-loss-avg: 1942.9274\tVAE-cor: 0.98 \tTEST - VAE-cor: 0.975\n"
     ]
    },
    {
     "name": "stdout",
     "output_type": "stream",
     "text": [
      "TRAIN - VAE-loss-avg: 1936.2825\tVAE-cor: 0.98 \tTEST - VAE-cor: 0.975\n"
     ]
    },
    {
     "name": "stdout",
     "output_type": "stream",
     "text": [
      "TRAIN - VAE-loss-avg: 1932.1849\tVAE-cor: 0.979 \tTEST - VAE-cor: 0.975\n"
     ]
    },
    {
     "name": "stdout",
     "output_type": "stream",
     "text": [
      "TRAIN - VAE-loss-avg: 1932.427\tVAE-cor: 0.98 \tTEST - VAE-cor: 0.976\n"
     ]
    },
    {
     "name": "stdout",
     "output_type": "stream",
     "text": [
      "TRAIN - VAE-loss-avg: 1939.3226\tVAE-cor: 0.98 \tTEST - VAE-cor: 0.975\n"
     ]
    },
    {
     "name": "stdout",
     "output_type": "stream",
     "text": [
      "TRAIN - VAE-loss-avg: 1942.4849\tVAE-cor: 0.98 \tTEST - VAE-cor: 0.975\n"
     ]
    },
    {
     "name": "stdout",
     "output_type": "stream",
     "text": [
      "TRAIN - VAE-loss-avg: 1931.2852\tVAE-cor: 0.98 \tTEST - VAE-cor: 0.975\n"
     ]
    },
    {
     "name": "stdout",
     "output_type": "stream",
     "text": [
      "TRAIN - VAE-loss-avg: 1930.1016\tVAE-cor: 0.98 \tTEST - VAE-cor: 0.975\n"
     ]
    },
    {
     "name": "stdout",
     "output_type": "stream",
     "text": [
      "TRAIN - VAE-loss-avg: 1937.567\tVAE-cor: 0.98 \tTEST - VAE-cor: 0.976\n"
     ]
    },
    {
     "name": "stdout",
     "output_type": "stream",
     "text": [
      "TRAIN - VAE-loss-avg: 1929.2812\tVAE-cor: 0.98 \tTEST - VAE-cor: 0.975\n"
     ]
    },
    {
     "name": "stdout",
     "output_type": "stream",
     "text": [
      "TRAIN - VAE-loss-avg: 1929.7426\tVAE-cor: 0.98 \tTEST - VAE-cor: 0.975\n"
     ]
    },
    {
     "name": "stdout",
     "output_type": "stream",
     "text": [
      "TRAIN - VAE-loss-avg: 1933.022\tVAE-cor: 0.98 \tTEST - VAE-cor: 0.975\n"
     ]
    },
    {
     "name": "stdout",
     "output_type": "stream",
     "text": [
      "TRAIN - VAE-loss-avg: 1928.1499\tVAE-cor: 0.98 \tTEST - VAE-cor: 0.976\n"
     ]
    },
    {
     "name": "stdout",
     "output_type": "stream",
     "text": [
      "TRAIN - VAE-loss-avg: 1925.0447\tVAE-cor: 0.98 \tTEST - VAE-cor: 0.975\n"
     ]
    },
    {
     "name": "stdout",
     "output_type": "stream",
     "text": [
      "TRAIN - VAE-loss-avg: 1927.2032\tVAE-cor: 0.98 \tTEST - VAE-cor: 0.974\n"
     ]
    },
    {
     "name": "stdout",
     "output_type": "stream",
     "text": [
      "TRAIN - VAE-loss-avg: 1923.4485\tVAE-cor: 0.98 \tTEST - VAE-cor: 0.976\n"
     ]
    }
   ],
   "source": [
    "for i in 1:10000\n",
    "ps = Flux.params(venc, vdec)\n",
    "gs = gradient(ps) do\n",
    "    VAE_lossf(venc, vdec, train_x)\n",
    "end \n",
    "VAE_loss = VAE_lossf(venc, vdec, train_x)\n",
    "VAE_cor = round(my_cor(vec(train_x), vec(MyReconstruct(venc, vdec, train_x)[end])),digits = 3)\n",
    "VAE_test = round(my_cor(vec(test_x), vec(MyReconstruct(venc, vdec, test_x)[end])),digits = 3)\n",
    "\n",
    "Flux.update!(opt, ps, gs)\n",
    "if i % 100 == 0\n",
    "println(\"TRAIN - VAE-loss-avg: $VAE_loss\\tVAE-cor: $VAE_cor \\tTEST - VAE-cor: $VAE_test\")\n",
    "end\n",
    "end"
   ]
  },
  {
   "cell_type": "code",
   "execution_count": null,
   "metadata": {},
   "outputs": [],
   "source": []
  }
 ],
 "metadata": {
  "kernelspec": {
   "display_name": "Julia 1.9.4",
   "language": "julia",
   "name": "julia-1.9"
  },
  "language_info": {
   "file_extension": ".jl",
   "mimetype": "application/julia",
   "name": "julia",
   "version": "1.9.4"
  }
 },
 "nbformat": 4,
 "nbformat_minor": 2
}
